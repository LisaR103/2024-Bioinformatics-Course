{
 "cells": [
  {
   "cell_type": "markdown",
   "id": "1ea1d55c-72e5-445a-9421-0cc23e738ed9",
   "metadata": {},
   "source": [
    "# Module 1.4 - Classes\n",
    "\n",
    "## Table of content\n",
    "\n",
    "[Object oriented programming - Classes](#Object-oriented-programming---Classes])\n",
    "1. [dir()](#dir())\n",
    "2. [Creating classes](#Creating-classes)\n",
    "   1. [Assigning attributes](#Assigning-attributes)\n",
    "      1. [The getter function](#The-getter-function)\n",
    "      2. [The setter function](#The-setter-function)\n",
    "   3. [Magic functions](#Magic-functions)\n",
    "\n",
    "[Exercises](#Exercises)\n",
    "1. [Exercise 1 - Class Gene](#Exercise-1---Class-Gene)\n",
    "2. [Exercise 2 - Class Gene 2](#Exercise-2---Class-Gene-2)\n",
    "3. [Exercise 3 - Class Gene 3](#Exercise-3---Class-Gene-3)"
   ]
  },
  {
   "cell_type": "markdown",
   "id": "8be11ee4-0b5e-4a64-aa6a-f055843fe87e",
   "metadata": {},
   "source": [
    "# Object oriented programming - Classes"
   ]
  },
  {
   "cell_type": "markdown",
   "id": "2c021d25-d86f-4205-bbaf-cfbb39d8a4b2",
   "metadata": {},
   "source": [
    "A class is a user defined data type or data structure containing information and defining operations (=methods) that can be done with it.   \n",
    "A class is the definition of something. An object is one instance of this something.\n",
    "\n",
    "Classes are saved in their own files so that the code defining them is in a single place / piece of code. A class contains\n",
    "- attributes (values saved in an object)    \n",
    "  called with `object.attribute`\n",
    "- member methods (functions that can be used on an object with `.`notation)    \n",
    "  general syntax: `object.method()`\n",
    "- magic functions (functions that specify how the class interacts with built-in functions)    \n",
    "  General syntax : `__name__`    \n",
    "  Each class is assigned a standard set, which we can redefine. With few excpetions: don't...\n",
    "\n",
    "Classes are saved in `.py` files with the class name in lowercase (`classname.py`). In this file the class of name `ClassName` (in uppercase!) is defined.\n",
    "\n",
    "Classes are imported like modules, they have to be either in the working directory or the default module directory.\n",
    "\n",
    "    from classname import ClassName"
   ]
  },
  {
   "cell_type": "markdown",
   "id": "bccaad5e-937c-47b7-ad27-475d1efd68b7",
   "metadata": {},
   "source": [
    "## dir()"
   ]
  },
  {
   "cell_type": "markdown",
   "id": "8d604126-79e4-42a2-b302-2e83733ed2f5",
   "metadata": {},
   "source": [
    "For any object of any type (=class) I can use the function `dir()` to get access to all available attributes, methods and magic functions.\n",
    "\n",
    "`dir()` returns a list of strings, mainly combined with `print()`"
   ]
  },
  {
   "cell_type": "code",
   "execution_count": 1,
   "id": "40b9a82a-ac22-44da-babb-825d0da2c7c8",
   "metadata": {},
   "outputs": [
    {
     "name": "stdout",
     "output_type": "stream",
     "text": [
      "['__add__', '__class__', '__class_getitem__', '__contains__', '__delattr__', '__delitem__', '__dir__', '__doc__', '__eq__', '__format__', '__ge__', '__getattribute__', '__getitem__', '__getstate__', '__gt__', '__hash__', '__iadd__', '__imul__', '__init__', '__init_subclass__', '__iter__', '__le__', '__len__', '__lt__', '__mul__', '__ne__', '__new__', '__reduce__', '__reduce_ex__', '__repr__', '__reversed__', '__rmul__', '__setattr__', '__setitem__', '__sizeof__', '__str__', '__subclasshook__', 'append', 'clear', 'copy', 'count', 'extend', 'index', 'insert', 'pop', 'remove', 'reverse', 'sort']\n"
     ]
    }
   ],
   "source": [
    "list1 = [1,2]\n",
    "print(dir(list1))"
   ]
  },
  {
   "cell_type": "markdown",
   "id": "821fdd58-9415-407a-82f0-00c1b68cd436",
   "metadata": {},
   "source": [
    "## Creating classes"
   ]
  },
  {
   "cell_type": "markdown",
   "id": "641809b3-f6a9-4725-9296-3d56d36aae6a",
   "metadata": {},
   "source": [
    "First: think what is needed. Which attributes, which member methods, which magic functions\n",
    "\n",
    "Syntax to create the class:\n",
    "\n",
    "    class ClassName:\n",
    "\n",
    "Naming convention:    \n",
    "Name should start with an uppercase, if more than one word: add together without any separation with every word uppercase\n",
    "\n",
    "Attributes, methods and magic functions can be **inherited** from another class with the Syntax:\n",
    "\n",
    "    class ClassName(ParentClass):\n",
    "\n",
    "Only do this if you *thoroughly* understand the parent class"
   ]
  },
  {
   "cell_type": "markdown",
   "id": "47a7fa09-4804-4ce2-b1a0-cdc8d01afb58",
   "metadata": {},
   "source": [
    "### Assigning attributes"
   ]
  },
  {
   "cell_type": "markdown",
   "id": "1532cc12-a820-48ba-bcfd-6431a45a91ff",
   "metadata": {},
   "source": [
    "Attributes are assigned like variables:\n",
    "\n",
    "    class ClassName:\n",
    "        Attribute1 = x\n",
    "\n",
    "In this case `Attribute1` had the value `x` for *all* objects of this class as it is defined outside the constructor\n",
    "\n",
    "To assign individual attributes (=instance attributes) at the creation of my object define the magic function `__init__`   \n",
    "(one of the instances where overwriting a magic function is not only good but necessary)   \n",
    "if you need to create instance attributes this can only be done in the constructor (i.e. within `__init__`)\n",
    "\n",
    "    class ClassName:\n",
    "        def__init__(self, atr1, atr2 = 2):\n",
    "            self.attribute1 = atr1\n",
    "            self.attribute2 = atr2\n",
    "            self.attribute2 = x\n",
    "\n",
    "In this case x is still constant, but atr1 and atr2 have to be (atr1) / can be (atr2, because I gave it a default value) added at the creation of an object\n",
    "\n",
    "    obj1 = ClassName(\"a\") --> attribute1 = \"a\" and attribute2 = 2\n",
    "    obj2 = ClassName(\"b\",5) --> attribute1 = \"b\" and attribute2 = 5\n",
    "\n",
    "There are three different kinds of attributes. The `_` and `__` are part of the name! \n",
    "- public (name)   \n",
    "  can be changed anytime, anywhere\n",
    "- protected (_name)   \n",
    "  can be changed anytime, anywhere, but the syntax suggests to the user that change isn't intended\n",
    "- private (__name)   \n",
    "  can only be changed from within the class -> with the help of a setter function   \n",
    "  can only be accessed from within the class -> with the help of a getter function"
   ]
  },
  {
   "cell_type": "markdown",
   "id": "d09e9f10-9c94-446f-b5f9-0c2a2be0186e",
   "metadata": {},
   "source": [
    "### Defining member methods"
   ]
  },
  {
   "cell_type": "markdown",
   "id": "e03e56fe-0fa0-4b26-b54b-3edac66e3b26",
   "metadata": {},
   "source": [
    "Member methods are functinos defined inside the class definition    \n",
    "- allow work with the attributes and the object   \n",
    "- are defined inside the class like any function, but `self` must always be a parameter\n",
    "- are called with object.method() in the script\n",
    "\n",
    "Two specific member methods than by convention are called get_* and set_* are the getter and setter functions needed to access and change private attributes"
   ]
  },
  {
   "cell_type": "markdown",
   "id": "aa4acbf4-c1e1-423b-8d34-eeedf0209735",
   "metadata": {},
   "source": [
    "#### The getter function"
   ]
  },
  {
   "cell_type": "markdown",
   "id": "eb981ca2-a5cc-4f57-97c0-f8fe7905a69b",
   "metadata": {},
   "source": [
    "is defined inside the class to access a private attribute\n",
    "\n",
    "syntax for the definition:\n",
    "\n",
    "    def get_attribute(self):\n",
    "        return self.__attribute\n",
    "\n",
    "syntax for use with an object obj1\n",
    "\n",
    "    obj1.get_attribute()"
   ]
  },
  {
   "cell_type": "markdown",
   "id": "ad078ede-e51f-49ea-a7d5-21afb3c0db27",
   "metadata": {},
   "source": [
    "#### The setter function"
   ]
  },
  {
   "cell_type": "markdown",
   "id": "b20f128b-d87f-40e0-b258-532fd266c520",
   "metadata": {},
   "source": [
    "is defined inside the class to change a private attribute. Usually this includes an if statement to check whether the new value conforms to the requirements of the attribute (if it could be just anything it wouldn't need to be private).\n",
    "\n",
    "syntax for the definition:\n",
    "\n",
    "    def set_attribute(self,new_value):\n",
    "        if test.for.something new_value:\n",
    "            self.__attribute = new_value\n",
    "        else:\n",
    "            print(\"Error, and explain what's wrong\")"
   ]
  },
  {
   "cell_type": "markdown",
   "id": "35636bc3-83fb-43fe-a87a-2696020bc964",
   "metadata": {},
   "source": [
    "### Magic functions"
   ]
  },
  {
   "cell_type": "markdown",
   "id": "6efcff94-0367-4bc4-920f-c44e778ae4e9",
   "metadata": {},
   "source": [
    "tell Python how to interact with built-in methods. Always start and end with `__` and are automatically created by Python when a class is created\n",
    "\n",
    "As a general rule: leave them alone, but some are necessary/good to replace:\n",
    "- `__init__` has to be defined in the constructor\n",
    "- `__str__` defines how the class appears when an object is printed\n",
    "\n",
    "        def __str__(self):\n",
    "              return \"A String and Only a String that describes your object and/or class\"\n",
    "  "
   ]
  },
  {
   "cell_type": "markdown",
   "id": "44c6c323-3bd8-4ea8-81d4-5727e16cd5b7",
   "metadata": {},
   "source": [
    "## Exercises"
   ]
  },
  {
   "cell_type": "markdown",
   "id": "a391807d-c159-4ec8-af6a-05ff42ff5ec1",
   "metadata": {},
   "source": [
    "### Exercise 1 - Class Gene"
   ]
  },
  {
   "cell_type": "markdown",
   "id": "99d16274-e212-425b-b18e-32f4a02711f9",
   "metadata": {},
   "source": [
    "\n",
    "Generate your own class called “Gene” that has the following five attributes:\n",
    "1. __Name: a string (private)\n",
    "2. __Nr_Nucleotides: a positive whole number (private)\n",
    "3. __Nr_ReadingFrame: a positive whole number (private)\n",
    "4. Nucleotide: a positive whole number (public)\n",
    "5. ReadingFrame: a positive whole number (public)\n",
    "\n",
    "All attributes should be given to the constructor of the class if a new object is generated."
   ]
  },
  {
   "cell_type": "code",
   "execution_count": 2,
   "id": "b0c1a95e-6584-493c-9f65-c8579acc3328",
   "metadata": {},
   "outputs": [
    {
     "name": "stdout",
     "output_type": "stream",
     "text": [
      "<__main__.Gene object at 0x107b6d820>\n",
      "\n",
      "['Nucleotide', 'ReadingFrame', '_Gene__Name', '_Gene__Nr_Nucleotides', '_Gene__Nr_ReadingFrame', '__class__', '__delattr__', '__dict__', '__dir__', '__doc__', '__eq__', '__format__', '__ge__', '__getattribute__', '__getstate__', '__gt__', '__hash__', '__init__', '__init_subclass__', '__le__', '__lt__', '__module__', '__ne__', '__new__', '__reduce__', '__reduce_ex__', '__repr__', '__setattr__', '__sizeof__', '__str__', '__subclasshook__', '__weakref__']\n",
      "\n",
      "5\n"
     ]
    }
   ],
   "source": [
    "#define my class\n",
    "class Gene:\n",
    "    def __init__(self, Name_str, NrNuc, NrRF, Nclt, ReadFrm):\n",
    "        self.__Name = Name_str\n",
    "        self.__Nr_Nucleotides = NrNuc\n",
    "        self.__Nr_ReadingFrame = NrRF\n",
    "        self.Nucleotide = Nclt\n",
    "        self.ReadingFrame = ReadFrm\n",
    "\n",
    "ABC = Gene(\"ABCB1\",500,5,500,5)\n",
    "\n",
    "print(ABC)\n",
    "print()\n",
    "print(dir(ABC))\n",
    "print()\n",
    "print(ABC.ReadingFrame)"
   ]
  },
  {
   "cell_type": "markdown",
   "id": "aecac79e-95be-4b71-8bf5-a1a73bc72503",
   "metadata": {},
   "source": [
    "### Exercise 2 - Class Gene 2"
   ]
  },
  {
   "cell_type": "markdown",
   "id": "cf47b7cc-4b53-43f5-adcf-e1c495d3feab",
   "metadata": {},
   "source": [
    "\n",
    "We want to expand the class from the first exercise by adding several methods to it:\n",
    "- one getter() for each private attribute in the class\n",
    "- one setter() for each private attribute in the class\n",
    "\n",
    "A method print_state() that prints out the name of the Gene the usedNucleotide and\n",
    "the used ReadingFrame"
   ]
  },
  {
   "cell_type": "code",
   "execution_count": 3,
   "id": "b003f30e-aa23-4012-80d8-96351248a4ac",
   "metadata": {},
   "outputs": [
    {
     "name": "stdout",
     "output_type": "stream",
     "text": [
      "Name: ABCB1\n",
      "Number of Nucleotides: 500\n",
      "Number of Reading Frames: 5\n",
      "\n",
      "ABCB1 500 5\n"
     ]
    }
   ],
   "source": [
    "#define my class\n",
    "class Gene2:\n",
    "    #the constructor method\n",
    "    def __init__(self, Name_str, NrNuc, NrRF, Nclt, ReadFrm):\n",
    "        self.__Name = Name_str\n",
    "        self.__Nr_Nucleotides = NrNuc\n",
    "        self.__Nr_ReadingFrame = NrRF\n",
    "        self.Nucleotide = Nclt\n",
    "        self.ReadingFrame = ReadFrm\n",
    "\n",
    "    #the getter methods\n",
    "    def get_Name(self):\n",
    "        return self.__Name\n",
    "\n",
    "    def get_Nr_Nucleotides(self):\n",
    "        return self.__Nr_Nucleotides\n",
    "\n",
    "    def get_Nr_ReadingFrame(self):\n",
    "        return self.__Nr_ReadingFrame\n",
    "\n",
    "    #the setter methods\n",
    "    def set_Name(self,new_name):\n",
    "        if isinstance(new_name,str):\n",
    "            self.__Name = new_name\n",
    "        else:\n",
    "             print(\"Error: Name has to be a string!\")\n",
    "\n",
    "    def set_Nr_Nucleotides(self,new_nclt):\n",
    "        if isinstance(new_nclt,int) and new_nclt > 0:\n",
    "            self.__Nr_Nucleotides = new_nclt\n",
    "        else:\n",
    "             print(\"Error: Nucleotides have to be a whole positive number!\")\n",
    " \n",
    "    def set_Nr_ReadingFrame(self,new_rf):\n",
    "        if isinstance(new_rf,int) and new_rf > 0:\n",
    "            self.__Nr_ReadingFrame = new_rf\n",
    "        else:\n",
    "             print(\"Error: Reading Frames have to be a whole positive number!\")\n",
    "\n",
    "    def print_state(self):\n",
    "        print(\"Name:\",self.__Name)\n",
    "        print(\"Number of Nucleotides:\",self.__Nr_Nucleotides)\n",
    "        print(\"Number of Reading Frames:\",self.__Nr_ReadingFrame)\n",
    "\n",
    "ABC = Gene2(\"ABCB1\",500,5,500,5)\n",
    "ABC.print_state()\n",
    "print()\n",
    "print(ABC.get_Name(),ABC.get_Nr_Nucleotides(),ABC.get_Nr_ReadingFrame())"
   ]
  },
  {
   "cell_type": "code",
   "execution_count": 4,
   "id": "585f552c-edd4-4f1f-a071-cea097014979",
   "metadata": {},
   "outputs": [
    {
     "name": "stdout",
     "output_type": "stream",
     "text": [
      "['Nucleotide', 'ReadingFrame', '_Gene2__Name', '_Gene2__Nr_Nucleotides', '_Gene2__Nr_ReadingFrame', '__class__', '__delattr__', '__dict__', '__dir__', '__doc__', '__eq__', '__format__', '__ge__', '__getattribute__', '__getstate__', '__gt__', '__hash__', '__init__', '__init_subclass__', '__le__', '__lt__', '__module__', '__ne__', '__new__', '__reduce__', '__reduce_ex__', '__repr__', '__setattr__', '__sizeof__', '__str__', '__subclasshook__', '__weakref__', 'get_Name', 'get_Nr_Nucleotides', 'get_Nr_ReadingFrame', 'print_state', 'set_Name', 'set_Nr_Nucleotides', 'set_Nr_ReadingFrame']\n"
     ]
    }
   ],
   "source": [
    "#change some attributes, first I check the exact spelling of my methods again\n",
    "print(dir(ABC))"
   ]
  },
  {
   "cell_type": "code",
   "execution_count": 5,
   "id": "ac2d3c02-4f6f-4e95-abe6-647274064548",
   "metadata": {},
   "outputs": [
    {
     "name": "stdout",
     "output_type": "stream",
     "text": [
      "Name: ABCB1\n",
      "Number of Nucleotides: 500\n",
      "Number of Reading Frames: 5\n",
      "\n",
      "Name: ABCB2\n",
      "Number of Nucleotides: 500\n",
      "Number of Reading Frames: 5\n"
     ]
    }
   ],
   "source": [
    "ABC.print_state()\n",
    "print()\n",
    "ABC.set_Name(\"ABCB2\")\n",
    "ABC.print_state()"
   ]
  },
  {
   "cell_type": "code",
   "execution_count": 6,
   "id": "fe20e696-642c-4299-87ff-f4874753f22f",
   "metadata": {},
   "outputs": [
    {
     "name": "stdout",
     "output_type": "stream",
     "text": [
      "Name: ABCB2\n",
      "Number of Nucleotides: 500\n",
      "Number of Reading Frames: 5\n",
      "\n",
      "Name: ABCB2\n",
      "Number of Nucleotides: 1000\n",
      "Number of Reading Frames: 5\n"
     ]
    }
   ],
   "source": [
    "ABC.print_state()\n",
    "print()\n",
    "ABC.set_Nr_Nucleotides(1000)\n",
    "ABC.print_state()"
   ]
  },
  {
   "cell_type": "code",
   "execution_count": 7,
   "id": "3f5c4255-fbcd-4c22-adbc-6418d00e7717",
   "metadata": {},
   "outputs": [
    {
     "name": "stdout",
     "output_type": "stream",
     "text": [
      "Name: ABCB2\n",
      "Number of Nucleotides: 1000\n",
      "Number of Reading Frames: 5\n",
      "\n",
      "Name: ABCB2\n",
      "Number of Nucleotides: 1000\n",
      "Number of Reading Frames: 10\n"
     ]
    }
   ],
   "source": [
    "ABC.print_state()\n",
    "print()\n",
    "ABC.set_Nr_ReadingFrame(10)\n",
    "ABC.print_state()"
   ]
  },
  {
   "cell_type": "markdown",
   "id": "4fbc33c4-2735-47b7-8ddf-2ac0e502b1f9",
   "metadata": {},
   "source": [
    "### Exercise 3 - Class Gene 3\n"
   ]
  },
  {
   "cell_type": "markdown",
   "id": "e4d40aac-3363-4f76-8c61-026ba1715027",
   "metadata": {},
   "source": [
    "\n",
    "Add a String-method to your class, so that the contents of your objects can be printed out in\n",
    "a good manor."
   ]
  },
  {
   "cell_type": "code",
   "execution_count": 8,
   "id": "d2d914da-8e8b-465e-904c-652ddb5d8c7a",
   "metadata": {},
   "outputs": [
    {
     "name": "stdout",
     "output_type": "stream",
     "text": [
      "<__main__.Gene2 object at 0x107b334a0>\n"
     ]
    }
   ],
   "source": [
    "# how it is without the changed __str__ method: it points to the place in the memory where the object is stored\n",
    "print(ABC)"
   ]
  },
  {
   "cell_type": "code",
   "execution_count": 9,
   "id": "5ef54528-cfc2-41bc-9ba9-e7b6595c9626",
   "metadata": {},
   "outputs": [],
   "source": [
    "#define my class\n",
    "class Gene2:\n",
    "    #the constructor method\n",
    "    def __init__(self, Name_str, NrNuc, NrRF, Nclt, ReadFrm):\n",
    "        self.__Name = Name_str\n",
    "        self.__Nr_Nucleotides = NrNuc\n",
    "        self.__Nr_ReadingFrame = NrRF\n",
    "        self.Nucleotide = Nclt\n",
    "        self.ReadingFrame = ReadFrm\n",
    "\n",
    "    #add the str method for a nicer printout\n",
    "    def __str__(self):\n",
    "        return f\"This object is of class Gene2. The Gene name is {self.__Name}.\"\n",
    "\n",
    "    #the getter methods\n",
    "    def get_Name(self):\n",
    "        return self.__Name\n",
    "\n",
    "    def get_Nr_Nucleotides(self):\n",
    "        return self.__Nr_Nucleotides\n",
    "\n",
    "    def get_Nr_ReadingFrame(self):\n",
    "        return self.__Nr_ReadingFrame\n",
    "\n",
    "    #the setter methods\n",
    "    def set_Name(self,new_name):\n",
    "        if isinstance(new_name,str):\n",
    "            self.__Name = new_name\n",
    "        else:\n",
    "             print(\"Error: Name has to be a string!\")\n",
    "\n",
    "    def set_Nr_Nucleotides(self,new_nclt):\n",
    "        if isinstance(new_nclt,int) and new_nclt > 0:\n",
    "            self.__Nr_Nucleotides = new_nclt\n",
    "        else:\n",
    "             print(\"Error: Nucleotides have to be a whole positive number!\")\n",
    " \n",
    "    def set_Nr_ReadingFrame(self,new_rf):\n",
    "        if isinstance(new_rf,int) and new_rf > 0:\n",
    "            self.__Nr_ReadingFrame = new_rf\n",
    "        else:\n",
    "             print(\"Error: Reading Frames have to be a whole positive number!\")\n",
    "\n",
    "    def print_state(self):\n",
    "        print(\"Name:\",self.__Name)\n",
    "        print(\"Number of Nucleotides:\",self.__Nr_Nucleotides)\n",
    "        print(\"Number of Reading Frames:\",self.__Nr_ReadingFrame)\n",
    "\n",
    "ABC = Gene2(\"ABCB1\",500,5,500,5)"
   ]
  },
  {
   "cell_type": "code",
   "execution_count": 10,
   "id": "9f829df9-9a0c-4c74-98d7-27fc0a5773d4",
   "metadata": {},
   "outputs": [
    {
     "name": "stdout",
     "output_type": "stream",
     "text": [
      "This object is of class Gene2. The Gene name is ABCB1.\n"
     ]
    }
   ],
   "source": [
    "#print my object again\n",
    "print(ABC)"
   ]
  },
  {
   "cell_type": "code",
   "execution_count": null,
   "id": "6027d411-7aca-4168-a6f7-77d2f0c54449",
   "metadata": {},
   "outputs": [],
   "source": []
  }
 ],
 "metadata": {
  "kernelspec": {
   "display_name": "Python 3 (ipykernel)",
   "language": "python",
   "name": "python3"
  },
  "language_info": {
   "codemirror_mode": {
    "name": "ipython",
    "version": 3
   },
   "file_extension": ".py",
   "mimetype": "text/x-python",
   "name": "python",
   "nbconvert_exporter": "python",
   "pygments_lexer": "ipython3",
   "version": "3.12.2"
  }
 },
 "nbformat": 4,
 "nbformat_minor": 5
}
