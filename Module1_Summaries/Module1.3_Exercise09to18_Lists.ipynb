{
 "cells": [
  {
   "cell_type": "markdown",
   "id": "b4f4270a-bb9c-4908-a99e-73130bf3a330",
   "metadata": {},
   "source": [
    "# Module1.3 Lists\n",
    "\n",
    "## Table of content\n",
    "\n",
    "\n",
    "1. [Table of content](#Table-of-content)\n",
    "2. [Lists](#Lists)\n",
    "    1. [General ideas about lists](#General-ideas-about-lists)\n",
    "       1. [Creating lists](#Creating-lists)\n",
    "       2. [Accessing elements in a list](#Accessing-elements-in-a-list)\n",
    "       3. [Changing elements in a list](#Changing-elements-in-a-list)\n",
    "       4. [Slicing of lists](#Slicing-of-lists)\n",
    "    2. [Useful functions when working with lists](#Useful-functions-when-working-with-lists)\n",
    "       1. [length](#length)\n",
    "       2. [range](#range)\n",
    "       3. [min, max and sum](#min,-max-and-sum)\n",
    "    3. [List methods](#List-methods)\n",
    "       1. [dir()](#dir())\n",
    "       2. [list.append()](#list.append())\n",
    "       3. [list.extend()](#list.extend())\n",
    "       4. [list.remove()](#list.remove())\n",
    "       5. [list.insert()](#list.insert())\n",
    "       6. [list.index()](#list.index())\n",
    "       7. [list.count()](#list.count())\n",
    "       8. [list.copy()](#list.copy())\n",
    "       9. [list.reverse()](#list.reverse())\n",
    "       10. [list.sort()](#list.sort())\n",
    "       11. [list.clear()](#list.clear())\n",
    "3. [Exercises](#Exercises)\n",
    "    1. [Exercise 9 - Creating lists](#Exercise-9---Creating-lists)\n",
    "    2. [Exercise 10 - accessing individual elements in lists](#Exercise-10---accessing-individual-elements-in-lists)\n",
    "    3. [Exercise 11 - changing elemets in lists](#Exercise-11---changing-elements-in-lists)\n",
    "    4. [Exercise 12 - Working with range and len](#Exercise-12---Working-with-range-and-len)\n",
    "    5. [Exercise 13 - The last values](#Exercise-13---The-last-values)\n",
    "    6. [Exercise 14 - Slicing of lists](#Exercise-14---Slicing-of-lists)\n",
    "    7. [Exercise 15 - Sclicing with a :](#Exercise-15---Slicing-with-a-:)\n",
    "    8. [Exercise 16 - Longer lists](#Exercise-16---Longer-lists)\n",
    "    9. [Exercise 17 - Removing entries](#Exercise-17---Removing-entries)\n",
    "    10. [Exercise 18 - Inserting values](#Exercise-18---Inserting-values)"
   ]
  },
  {
   "cell_type": "markdown",
   "id": "8b4b2bfc-30a7-4fca-aeea-aefed83bde97",
   "metadata": {},
   "source": [
    "# Lists"
   ]
  },
  {
   "cell_type": "markdown",
   "id": "1cc5487f-e418-4833-b06e-37dfe05e5e3a",
   "metadata": {},
   "source": [
    "## General ideas about lists"
   ]
  },
  {
   "cell_type": "markdown",
   "id": "dc652d2d-4f4e-4b71-a83c-0edf36b3b43a",
   "metadata": {},
   "source": [
    "Lists are a numbered collection of values.   \n",
    "Only the list itself has a name, the elements are accessed with [] and their index.    \n",
    "The index starts at 0   \n",
    "Lists can include duplicates and elements of different data types.   \n",
    "\n",
    "Lists are\n",
    "- ordered (the order of the elements is always the same)\n",
    "- changeable (we can replace, add, remove elements)\n",
    "- indexed (each element can be accessed usng a specific index)"
   ]
  },
  {
   "cell_type": "markdown",
   "id": "ba2240af-2499-4067-960b-8d589f596665",
   "metadata": {},
   "source": [
    "### Creating lists\n",
    "\n",
    "lists are created with []"
   ]
  },
  {
   "cell_type": "code",
   "execution_count": 1,
   "id": "b20ce07c-1f33-40f5-b2a3-36d3c3f7bea3",
   "metadata": {},
   "outputs": [
    {
     "name": "stdout",
     "output_type": "stream",
     "text": [
      "[]\n",
      "[1, 2, 3]\n",
      "[1, 2.5, 'Hello', True]\n"
     ]
    }
   ],
   "source": [
    "empty_list = []\n",
    "list1 = [1,2,3]\n",
    "list2 = [1,2.5,\"Hello\",True]\n",
    "\n",
    "print(empty_list)\n",
    "print(list1)\n",
    "print(list2)"
   ]
  },
  {
   "cell_type": "markdown",
   "id": "928b34eb-c315-4b49-bc7b-21f3bf1a1f42",
   "metadata": {},
   "source": [
    "### Accessing elements in a list"
   ]
  },
  {
   "cell_type": "markdown",
   "id": "01a10088-ad2e-4ee0-8652-2ab48ebc46a6",
   "metadata": {
    "jp-MarkdownHeadingCollapsed": true
   },
   "source": [
    "- Elements of a list are accessed with [index]\n",
    "- **Indexing starts at 0**\n",
    "- Only elements that exist can be accessed. Putting in a non-existent index results in an error\n",
    "- Negative indices are allowed and access the list from the back   \n",
    "  `list[-1]` is short for `list[len(list)-1]`   \n",
    "  since indexing starts at 0, len(list)-1 = the last index of the list   \n",
    "  As with positive numbers you are limited to the elements available. For a list with 5 elements: -5 accesses the first elemet, -6: Error\n"
   ]
  },
  {
   "cell_type": "markdown",
   "id": "f7900f7b-0afa-42cc-9837-8fc89cf06688",
   "metadata": {},
   "source": [
    "### Changing elements in a list"
   ]
  },
  {
   "cell_type": "markdown",
   "id": "d2b204a9-1c3e-40fc-a9d3-05862a52e874",
   "metadata": {},
   "source": [
    "\n",
    "\n",
    "Using indices, we can reassign its value in a list\n",
    "\n",
    "    list1[2] = \"new value\"\n",
    "\n",
    "! We can only reassign existing indices this way, not add on a new one!!\n",
    "\n",
    "- I can change a number by changing it as a function of itself with += -= *= or /=\n",
    "- I can change types (e.g. string into float or boolean)"
   ]
  },
  {
   "cell_type": "markdown",
   "id": "e94cae6c-c667-4cfc-a757-0a67fa4d1205",
   "metadata": {},
   "source": [
    "### Slicing of lists"
   ]
  },
  {
   "cell_type": "markdown",
   "id": "025a5187-3cbe-4617-8b6b-28c7904c8337",
   "metadata": {},
   "source": [
    "\n",
    "\n",
    "We can slice a list using `[]` and `:`\n",
    "\n",
    "    listname[first_index:last_index]\n",
    "\n",
    "As with `range()`, the start is *included* and the end is *excluded*!  \n",
    "This means for a list with 5 elements `list[1:4]` excludes the first (index 0) and the last (index 4) element!!\n",
    "\n",
    "`last_index` may be higher than the list is long. It simply returns the last statement then.   \n",
    "This means for a list with 5 elements `list[1:6]` returns the 2nd (index 1) to last (index 4) element\n",
    "\n",
    "Negative index values are accepted.   \n",
    "! Since slicing cuts *before* `last_index` `list[2:-1]` means the last value is *excluded*\n",
    "\n",
    "If we want to include the beginning or end of the list `first_index` or `last_index` may be excluded respectively"
   ]
  },
  {
   "cell_type": "code",
   "execution_count": 2,
   "id": "030399e9-8ec3-4102-883b-5578661417f7",
   "metadata": {},
   "outputs": [
    {
     "name": "stdout",
     "output_type": "stream",
     "text": [
      "[0, 1, 2, 3, 4, 5, 6, 7, 8, 9, 10, 11, 12, 13, 14]\n",
      "[2, 3]\n",
      "[6, 7, 8, 9, 10, 11, 12, 13]\n",
      "[6, 7, 8, 9, 10, 11, 12, 13, 14]\n",
      "[6, 7, 8, 9, 10, 11, 12, 13, 14]\n",
      "[0, 1, 2, 3]\n"
     ]
    }
   ],
   "source": [
    "list3 = list(range(15))\n",
    "print(list3)\n",
    "print(list3[2:4])\n",
    "print(list3[6:-1])\n",
    "print(list3[6:20])\n",
    "print(list3[6:])\n",
    "print(list3[:4])"
   ]
  },
  {
   "cell_type": "markdown",
   "id": "6fb53c82-d36f-4b0f-a7ca-1ea9d4656795",
   "metadata": {},
   "source": [
    "## Useful functions when working with lists"
   ]
  },
  {
   "cell_type": "markdown",
   "id": "ef766eb5-63db-4397-9c3c-6b3dd80163d6",
   "metadata": {},
   "source": [
    "### length"
   ]
  },
  {
   "cell_type": "markdown",
   "id": "ffc2581a-842c-4780-a62a-8bc21b7b002d",
   "metadata": {},
   "source": [
    "\n",
    "\n",
    "The function`len()` returns the length of a list or other data structure (= number of element).   \n",
    "To see it displayed we need to combine it with print()"
   ]
  },
  {
   "cell_type": "code",
   "execution_count": 3,
   "id": "2d934fc1-3f67-4c5d-bea4-51c6a0b216a4",
   "metadata": {},
   "outputs": [
    {
     "name": "stdout",
     "output_type": "stream",
     "text": [
      "3\n"
     ]
    }
   ],
   "source": [
    "print(len(list1))"
   ]
  },
  {
   "cell_type": "markdown",
   "id": "91d8a14a-2ed0-468a-822e-9b44e8746000",
   "metadata": {},
   "source": [
    "### range"
   ]
  },
  {
   "cell_type": "markdown",
   "id": "6b858199-84be-4438-902f-02d1ba1ab277",
   "metadata": {},
   "source": [
    "\n",
    "the function `range()` creates a sorted range of numbers  \n",
    "\n",
    "`range()` takes 1-3 arguments:\n",
    "\n",
    "  - range(start_point,end_point,step_size)\n",
    "  - the order of the arguments is important!\n",
    "  - 1 argument: end_point, 2 arguments: start_point and end_point, 3 arguments: start_point,end_point and step_size\n",
    "  - if not specified start_point has a default of 0, step_size has a default of 1\n",
    "  - the start_point is always *included* end_point is always *excluded*!!!\n",
    "  - Careful! if start_point > end_point an empty range is created (if step_size > 0)\n",
    "  - the arguments have to be integers\n",
    "  - negative values are accepted for all three arguments\n",
    "  - negative step_size leads to decreasing numbers, here: start_point > end_point !\n",
    "  - variables are accepted as arguments as long as they are integers\n",
    "\n",
    "`range()` creates a range object that has to be converted to a list:   \n",
    "`list(range(5))`\n"
   ]
  },
  {
   "cell_type": "code",
   "execution_count": 4,
   "id": "2da3214d-a298-41b9-b311-5b0a0cae88c1",
   "metadata": {},
   "outputs": [
    {
     "name": "stdout",
     "output_type": "stream",
     "text": [
      "range(0, 5)\n",
      "<class 'range'>\n",
      "\n",
      "[0, 1, 2, 3, 4]\n",
      "<class 'list'>\n"
     ]
    }
   ],
   "source": [
    "#creating a range object and showing the difference once turned into a list\n",
    "range1 = range(5)\n",
    "print(range1)\n",
    "print(type(range1))\n",
    "print()\n",
    "\n",
    "range_list = list(range(5))\n",
    "print(range_list)\n",
    "print(type(range_list))"
   ]
  },
  {
   "cell_type": "code",
   "execution_count": 5,
   "id": "4faaed87-a638-4479-958c-c2ed8158d5e6",
   "metadata": {},
   "outputs": [
    {
     "name": "stdout",
     "output_type": "stream",
     "text": [
      "[0, 1, 2, 3, 4, 5, 6, 7, 8, 9]\n",
      "[5, 6, 7, 8, 9]\n",
      "[5, 7, 9]\n",
      "[]\n",
      "[10, 8, 6]\n"
     ]
    }
   ],
   "source": [
    "# more range() examples\n",
    "print(list(range(10)))\n",
    "print(list(range(5,10)))\n",
    "print(list(range(5,10,2)))\n",
    "# This is an empty range because start > endpoint!!\n",
    "print(list(range(10,5)))\n",
    "# When negative stepsize we need start > endpoint!!\n",
    "print(list(range(10,5,-2)))"
   ]
  },
  {
   "cell_type": "markdown",
   "id": "0f05c542-6e42-42f2-9252-4a6651db0a67",
   "metadata": {},
   "source": [
    "### min, max and sum\n",
    "\n",
    "min(list) max(list) sort the content of lists and gives the lowest or highest value\n",
    "\n",
    "all values need to be strings OR numerical\n",
    "\n",
    "sum(list) gives the sum -> only for numericals"
   ]
  },
  {
   "cell_type": "code",
   "execution_count": 6,
   "id": "61af77df-5f44-4dcf-99c7-f97093040c2e",
   "metadata": {},
   "outputs": [
    {
     "name": "stdout",
     "output_type": "stream",
     "text": [
      "Min of list7: 2\n",
      "Max of list7: 8\n",
      "Sum of list7: 30.89\n"
     ]
    }
   ],
   "source": [
    "list7 = [2,6,5,4,8,5.89]\n",
    "print(\"Min of list7:\", min(list7))\n",
    "print(\"Max of list7:\", max(list7))\n",
    "print(\"Sum of list7:\", sum(list7))"
   ]
  },
  {
   "cell_type": "markdown",
   "id": "ceed09df-f381-4f03-9893-8a636f52a2b4",
   "metadata": {},
   "source": [
    "## List methods"
   ]
  },
  {
   "cell_type": "markdown",
   "id": "a242e699-c23f-4557-83b9-1aa02ca86f22",
   "metadata": {},
   "source": [
    "Normal function like `print()` work on many different data structures, which we have to specify as an argument (e.g. `print(list)`)\n",
    "\n",
    "List methods work directly on the list. We use the point notation to call the function `.`\n",
    "\n",
    "    list.function()\n",
    "    \n",
    "Different data structures have different methods that work on them.\n",
    "\n",
    "There are two kind of list methods: methods that work in-place and functions that do not work in-place\n",
    "\n",
    "- List methods that work in-place like `list.append()` or `list.extend()` cannot be used as an argument in another function!! so `print(list.append())` will produce the output `None`. CAREFUL! The command is still carried out!"
   ]
  },
  {
   "cell_type": "markdown",
   "id": "cd2a5730-b5a3-4bf6-a269-e4a20aa49995",
   "metadata": {},
   "source": [
    "### dir()"
   ]
  },
  {
   "cell_type": "markdown",
   "id": "63b703fb-f872-4e66-8b17-3014114d112a",
   "metadata": {},
   "source": [
    "using `dir()` gives informations about the methods available for a certain datatype or function\n",
    "\n",
    ">!! IGNORE everything that starts with __ !!"
   ]
  },
  {
   "cell_type": "code",
   "execution_count": 7,
   "id": "29f8f9bf-7e67-4273-a584-34466ac94922",
   "metadata": {},
   "outputs": [
    {
     "name": "stdout",
     "output_type": "stream",
     "text": [
      "['__add__', '__class__', '__class_getitem__', '__contains__', '__delattr__', '__delitem__', '__dir__', '__doc__', '__eq__', '__format__', '__ge__', '__getattribute__', '__getitem__', '__getstate__', '__gt__', '__hash__', '__iadd__', '__imul__', '__init__', '__init_subclass__', '__iter__', '__le__', '__len__', '__lt__', '__mul__', '__ne__', '__new__', '__reduce__', '__reduce_ex__', '__repr__', '__reversed__', '__rmul__', '__setattr__', '__setitem__', '__sizeof__', '__str__', '__subclasshook__', 'append', 'clear', 'copy', 'count', 'extend', 'index', 'insert', 'pop', 'remove', 'reverse', 'sort']\n"
     ]
    }
   ],
   "source": [
    "print(dir(list1))"
   ]
  },
  {
   "cell_type": "markdown",
   "id": "d2125320-1dfc-4d26-af22-7f5a94e0111c",
   "metadata": {},
   "source": [
    "### list.append()"
   ]
  },
  {
   "cell_type": "markdown",
   "id": "e66fce7e-bb19-49ea-9e49-92580aefb4ed",
   "metadata": {},
   "source": [
    "`list.append()` adds its argument (a single argument!) at the end of the list specified in front of the `.`     \n",
    "append doesn't care what is added, it can be anything (a number, a string, another list etc. etc.)\n",
    "\n",
    "- When a variable is added the list will change when the variable is changed, unless the variable is completely reassigned\n",
    "- Do not append a list to itself, it will cause an infinity loop, because the list will change as it is changed and keep going back to itself since it is self-referencing"
   ]
  },
  {
   "cell_type": "code",
   "execution_count": 8,
   "id": "bd03b287-c6a5-467c-a014-007fc8d943d4",
   "metadata": {},
   "outputs": [
    {
     "name": "stdout",
     "output_type": "stream",
     "text": [
      "[1, 2, 3]\n",
      "[1, 2, 3, 5]\n",
      "[1, 2, 3, 5, [6, 7]]\n",
      "[1, 2, 3, 5, [6, 7], (8, 9)]\n",
      "[1, 2, 3, 5, [6, 7], (8, 9), [1, 2.5, 'Hello', True]]\n"
     ]
    }
   ],
   "source": [
    "#Examples:\n",
    "print(list1)\n",
    "#the integer 5 is added to the end of the list at index 3\n",
    "list1.append(5)\n",
    "print(list1)\n",
    "#the list [6,7] is added to the end of the list at index 4\n",
    "list1.append([6,7])\n",
    "print(list1)\n",
    "#the tuple (8,9) is added to the end of the list at index 5\n",
    "list1.append((8,9))\n",
    "print(list1)\n",
    "#the list list2 is added to the end of the list at index 6\n",
    "list1.append(list2)\n",
    "print(list1)"
   ]
  },
  {
   "cell_type": "markdown",
   "id": "3b61882b-5a6e-47d4-a3ef-e06719b16f42",
   "metadata": {},
   "source": [
    ">Careful when changing an appended variable! When I append \"New\" to list2, list1, to which list2 was appended, will change as well"
   ]
  },
  {
   "cell_type": "code",
   "execution_count": 9,
   "id": "646d2b7f-2a49-4034-87f2-edfab739ce3c",
   "metadata": {},
   "outputs": [
    {
     "name": "stdout",
     "output_type": "stream",
     "text": [
      "[1, 2, 3, 5, [6, 7], (8, 9), [1, 2.5, 'Hello', True]]\n",
      "[1, 2, 3, 5, [6, 7], (8, 9), [1, 2.5, 'Hello', True, 'New']]\n"
     ]
    }
   ],
   "source": [
    "#changing list2 will now change list1!\n",
    "print(list1)\n",
    "list2.append(\"New\")\n",
    "print(list1)"
   ]
  },
  {
   "cell_type": "markdown",
   "id": "cbcc330b-f873-41d7-8b01-65ea64f0c360",
   "metadata": {},
   "source": [
    ">If I completely REASSIGN list2, this will not change list1"
   ]
  },
  {
   "cell_type": "code",
   "execution_count": 10,
   "id": "97a81bb3-164a-4c1e-a65f-68f46f4268cb",
   "metadata": {},
   "outputs": [
    {
     "name": "stdout",
     "output_type": "stream",
     "text": [
      "[1, 2, 3, 5, [6, 7], (8, 9), [1, 2.5, 'Hello', True, 'New']]\n",
      "[1, 2, 3, 5, [6, 7], (8, 9), [1, 2.5, 'Hello', True, 'New']]\n"
     ]
    }
   ],
   "source": [
    "#reassigning list2 will NOT change list1\n",
    "print(list1)\n",
    "list2 = [\"This\",\"is\",\"new\"]\n",
    "print(list1)"
   ]
  },
  {
   "cell_type": "markdown",
   "id": "f9df304a-5773-455a-8d71-e2959129ca56",
   "metadata": {},
   "source": [
    ">List functions cannot be used as an argument in another function!! so print(list.append()) will produce the output \"None\". CAREFUL! The command still carried out!"
   ]
  },
  {
   "cell_type": "code",
   "execution_count": 11,
   "id": "c42afc2d-539b-4714-a7d1-0e293c3c6c84",
   "metadata": {},
   "outputs": [
    {
     "name": "stdout",
     "output_type": "stream",
     "text": [
      "Original list2: ['This', 'is', 'new']\n",
      "None\n",
      "New list2: ['This', 'is', 'new', [1, 2, 3, 5, [6, 7], (8, 9), [1, 2.5, 'Hello', True, 'New']]]\n"
     ]
    }
   ],
   "source": [
    "print(\"Original list2:\",list2)\n",
    "\n",
    "print(list2.append(list1))\n",
    "\n",
    "print(\"New list2:\",list2)"
   ]
  },
  {
   "cell_type": "markdown",
   "id": "f4f7496e-4bda-4194-a63d-8e5c473d5c1a",
   "metadata": {},
   "source": [
    "> Appending a list to itself (or to a list it was appended to earlier...) will create an infinity loop as shown by `[...]` This is because the list then points to the exact same place in the memory twice"
   ]
  },
  {
   "cell_type": "code",
   "execution_count": 12,
   "id": "0015e757-172f-4344-b7fd-7c55a3237b9b",
   "metadata": {},
   "outputs": [
    {
     "name": "stdout",
     "output_type": "stream",
     "text": [
      "[1, 2, 3, 5, [6, 7], (8, 9), [1, 2.5, 'Hello', True, 'New']]\n",
      "['This', 'is', 'new', [1, 2, 3, 5, [6, 7], (8, 9), [1, 2.5, 'Hello', True, 'New']]]\n",
      "\n",
      "[1, 2, 3, 5, [6, 7], (8, 9), [1, 2.5, 'Hello', True, 'New'], ['This', 'is', 'new', [...]]]\n",
      "['This', 'is', 'new', [1, 2, 3, 5, [6, 7], (8, 9), [1, 2.5, 'Hello', True, 'New'], [...]]]\n"
     ]
    }
   ],
   "source": [
    "print(list1)\n",
    "print(list2)\n",
    "# list2 is appended to list1\n",
    "list1.append(list2)\n",
    "print()\n",
    "# since list1 was already appended to list2 `[...]` appears where list1 should be\n",
    "print(list1)\n",
    "# since list2 still points to list1, list2 is changed as well!!\n",
    "print(list2)"
   ]
  },
  {
   "cell_type": "markdown",
   "id": "52f28b25-f667-4763-8664-c6119f93fd51",
   "metadata": {},
   "source": [
    "### list.extend()"
   ]
  },
  {
   "cell_type": "markdown",
   "id": "58083b93-da2d-4c27-a2f2-e19e37135981",
   "metadata": {},
   "source": [
    "`list.extend()` takes iterable arguments and adds it to the list one by one.    \n",
    "Like `list.append()` it works *in-place*: It *makes permanent changes* to our list and *cannot be used in a function*.\n",
    "\n",
    "- Difference between append and extend:\n",
    "  With `list.append()` a list is added in its entirety. If listA (length of 5) is appended to listB (length of 7), the 8th element of listB is now the entire listA. With `list.extend()`, the 5 elements of listA are added to listB one by one, so listB has now 13 elements.\n",
    "- Careful when trying to extend a single string! It takes every letter individualy.\n",
    "  Strings within e.g. a list work normally -> For single numbers or strings always use `list.append()`\n",
    "- `list.extend()` *does not reference back* to the list it was extended by. If that list is changed the new list doesn't change."
   ]
  },
  {
   "cell_type": "code",
   "execution_count": 13,
   "id": "564cf64a-ad5f-439c-b28c-eac25b57501a",
   "metadata": {},
   "outputs": [
    {
     "name": "stdout",
     "output_type": "stream",
     "text": [
      "[5, 10, 15]\n",
      "[4, 8, 12, 16]\n"
     ]
    }
   ],
   "source": [
    "#create two lists\n",
    "list3 = list(range(5,20,5))\n",
    "list4 = list(range(4,20,4))\n",
    "\n",
    "print(list3)\n",
    "print(list4)"
   ]
  },
  {
   "cell_type": "markdown",
   "id": "2ebc5fe9-884f-4a76-8728-242b7f7e2a30",
   "metadata": {},
   "source": [
    "> Note the difference between `list.extend()` and `list.append()` when adding a list"
   ]
  },
  {
   "cell_type": "code",
   "execution_count": 14,
   "id": "bb885ca5-e2c6-4f10-b0ce-3f250fb6a305",
   "metadata": {},
   "outputs": [
    {
     "name": "stdout",
     "output_type": "stream",
     "text": [
      "[5, 10, 15]\n",
      "[5, 10, 15, 4, 8, 12, 16]\n",
      "[5, 10, 15, 4, 8, 12, 16, [4, 8, 12, 16]]\n"
     ]
    }
   ],
   "source": [
    "print(list3)\n",
    "list3.extend(list4)\n",
    "print(list3)\n",
    "list3.append(list4)\n",
    "print(list3)"
   ]
  },
  {
   "cell_type": "markdown",
   "id": "053964af-8a09-416d-aa4a-396477a2f003",
   "metadata": {},
   "source": [
    "> Note the difference between `list.extend()` and `list.append()` when adding a single string"
   ]
  },
  {
   "cell_type": "code",
   "execution_count": 15,
   "id": "7ad3a4d4-e0db-424b-807c-3230b5b5f3e3",
   "metadata": {},
   "outputs": [
    {
     "name": "stdout",
     "output_type": "stream",
     "text": [
      "[4, 8, 12, 16, 'H', 'a', 'l', 'l', 'o']\n",
      "[4, 8, 12, 16, 'H', 'a', 'l', 'l', 'o', 'Hallo']\n"
     ]
    }
   ],
   "source": [
    "list4.extend(\"Hallo\")\n",
    "print(list4)\n",
    "list4.append(\"Hallo\")\n",
    "print(list4)"
   ]
  },
  {
   "cell_type": "markdown",
   "id": "12237667-c233-42a2-9cc8-c90fea9f9a33",
   "metadata": {},
   "source": [
    "> Note that list4 that was *appended* to list3 has changed now (H,a,l,l,o,Hallo), whereas list4 that was *extended* to list3 did not"
   ]
  },
  {
   "cell_type": "code",
   "execution_count": 16,
   "id": "dd1edbac-6ded-4da8-851c-21f866a30619",
   "metadata": {},
   "outputs": [
    {
     "name": "stdout",
     "output_type": "stream",
     "text": [
      "[5, 10, 15, 4, 8, 12, 16, [4, 8, 12, 16, 'H', 'a', 'l', 'l', 'o', 'Hallo']]\n"
     ]
    }
   ],
   "source": [
    "print(list3)"
   ]
  },
  {
   "cell_type": "markdown",
   "id": "c704982a-504c-4143-9016-d198954ab60b",
   "metadata": {},
   "source": [
    "> `list.extend()`cannot be used in a function or to assign a new variable. But it is *still carried out*!!"
   ]
  },
  {
   "cell_type": "code",
   "execution_count": 17,
   "id": "b82e699f-5e8a-4d67-8ce7-03be9ef23d79",
   "metadata": {},
   "outputs": [
    {
     "name": "stdout",
     "output_type": "stream",
     "text": [
      "[5, 10, 15, 4, 8, 12, 16, [4, 8, 12, 16, 'H', 'a', 'l', 'l', 'o', 'Hallo']]\n",
      "[5, 10, 15, 4, 8, 12, 16, [4, 8, 12, 16, 'H', 'a', 'l', 'l', 'o', 'Hallo'], 3, 4]\n",
      "None\n"
     ]
    }
   ],
   "source": [
    "print(list3)\n",
    "list5 = list3.extend([3,4])\n",
    "print(list3)\n",
    "print(list5)"
   ]
  },
  {
   "cell_type": "markdown",
   "id": "de425481-1e1b-46ab-a864-fdfa880023ef",
   "metadata": {},
   "source": [
    "### list.remove()"
   ]
  },
  {
   "cell_type": "markdown",
   "id": "72414c17-4021-497f-9b51-365408c4f136",
   "metadata": {},
   "source": [
    "\n",
    "\n",
    "`list.remove()` removes a specified element from your list. The indices of the remaining elements change according to the deleted index!\n",
    "\n",
    "- You can only remove one argument at a time.\n",
    "- If the element doesn't exist a ValueError occurs.\n",
    "- If you have duplicates only the *first* occurence is deleted.\n",
    "- You can use the index to delete the element."
   ]
  },
  {
   "cell_type": "code",
   "execution_count": 18,
   "id": "1798a315-73a3-49a1-b716-10504dd9e72e",
   "metadata": {},
   "outputs": [
    {
     "name": "stdout",
     "output_type": "stream",
     "text": [
      "[4, 8, 12, 16, 'H', 'a', 'l', 'l', 'o', 'Hallo']\n",
      "[4, 8, 12, 16, 'H', 'a', 'l', 'l', 'o']\n",
      "[4, 8, 12, 16, 'H', 'a', 'l', 'o']\n"
     ]
    }
   ],
   "source": [
    "print(list4)\n",
    "list4.remove(\"Hallo\")\n",
    "print(list4)\n",
    "list4.remove(\"l\")\n",
    "print(list4)"
   ]
  },
  {
   "cell_type": "markdown",
   "id": "af168179-f899-410c-934c-e0b5236dc870",
   "metadata": {},
   "source": [
    "### list.insert()"
   ]
  },
  {
   "cell_type": "markdown",
   "id": "7ceef354-29f9-4132-8ccf-8ab850a12ac4",
   "metadata": {},
   "source": [
    "\n",
    "\n",
    "`list.insert()` inserts an element at a specific location. Syntax:\n",
    "\n",
    "    list.insert(index,value)\n",
    "\n",
    "index = where to put it\n",
    "\n",
    "- if index is higher than the length of the list: placed at the end\n",
    "- index = 0: placed at the beginning\n",
    "- negative values are accepeted\n",
    "- if the ngeative value is too low: placed at the beginning\n",
    "- carful with -1: placed **before** the last value!! If I want to insert at the end it might be easier to use `list.append()`\n",
    "\n",
    "value = what to put\n",
    "\n",
    "- I can insert a single value or a variable\n",
    "- can be anything from a string to a number to a list etc. etc.\n"
   ]
  },
  {
   "cell_type": "code",
   "execution_count": 19,
   "id": "0234f595-457d-4802-90a9-40df85df6d89",
   "metadata": {},
   "outputs": [
    {
     "name": "stdout",
     "output_type": "stream",
     "text": [
      "['apple', 'banana', 'orange', 'apple']\n",
      "['apple', 'banana', 'pear', 'orange', 'apple']\n"
     ]
    }
   ],
   "source": [
    "#insert \"pear\" at index2 (= 3rd place)\n",
    "list1 = [\"apple\",\"banana\",\"orange\",\"apple\"]\n",
    "print(list1)\n",
    "list1.insert(2,\"pear\")\n",
    "print(list1)"
   ]
  },
  {
   "cell_type": "markdown",
   "id": "66304cfd-b0dd-4471-aeb7-791ea71d0967",
   "metadata": {},
   "source": [
    "### list.index()"
   ]
  },
  {
   "cell_type": "markdown",
   "id": "6cef37e4-b8da-4829-9f2c-1b84f741afb8",
   "metadata": {},
   "source": [
    "\n",
    "\n",
    "Where does my element appear for the first time\n",
    "\n",
    ">If the element doesn't exist --> Error\n",
    "\n",
    "Not an in-place method, can be used within other functions"
   ]
  },
  {
   "cell_type": "code",
   "execution_count": 20,
   "id": "7755705b-537c-4fcb-a48d-5ab3935c352b",
   "metadata": {},
   "outputs": [
    {
     "name": "stdout",
     "output_type": "stream",
     "text": [
      "['apple', 'banana', 'pear', 'orange', 'apple']\n",
      "Apple first appears at index 2\n"
     ]
    }
   ],
   "source": [
    "print(list1)\n",
    "list1.index(\"pear\")\n",
    "print(\"Apple first appears at index\",list1.count(\"apple\"))"
   ]
  },
  {
   "cell_type": "markdown",
   "id": "2c708c3c-4523-4192-a994-11f77171a18b",
   "metadata": {},
   "source": [
    "### list.count()"
   ]
  },
  {
   "cell_type": "markdown",
   "id": "e5b30497-1e2a-4d91-945f-a60f0992dda1",
   "metadata": {},
   "source": [
    "\n",
    "\n",
    "Counts how often an element occurs in a list\n",
    "\n",
    "More robust than list.index(), since it simply returns 0 if the element doesn't exist\n",
    "\n",
    "Not an in-place method, can be used within other functions"
   ]
  },
  {
   "cell_type": "code",
   "execution_count": 21,
   "id": "2196fa03-0e65-4ed3-9061-62b6c3fd36a2",
   "metadata": {},
   "outputs": [
    {
     "name": "stdout",
     "output_type": "stream",
     "text": [
      "['apple', 'banana', 'pear', 'orange', 'apple']\n",
      "Apple appears 2 times in the list\n"
     ]
    }
   ],
   "source": [
    "print(list1)\n",
    "list1.count(\"apple\")\n",
    "print(\"Apple appears\", list1.count(\"apple\"),\"times in the list\")"
   ]
  },
  {
   "cell_type": "markdown",
   "id": "03cf628c-2a7a-4306-ae63-371ab4e80bef",
   "metadata": {},
   "source": [
    "### list.copy()"
   ]
  },
  {
   "cell_type": "markdown",
   "id": "66889592-18ab-4a32-9cd1-7559ec2c955d",
   "metadata": {},
   "source": [
    "\n",
    "\n",
    "Doesn't take an argument. Simply duplicates the list exactly as is into a new space in the memory.\n",
    "\n",
    "How it differs from assining the list into a new variable:\n",
    "\n",
    "    list1b = list1.copy()\n",
    "    list1c = list1\n",
    "\n",
    "list1c references back to list1. If list1 is changed, so is list1c. using `list.copy()` creates list1b as an independent copy of list1, that is no longer dependant on list1.\n",
    "\n",
    "Not an in-place method, can be used within other functions."
   ]
  },
  {
   "cell_type": "code",
   "execution_count": 22,
   "id": "46863079-a91a-460b-9094-4c61c2a80bd0",
   "metadata": {},
   "outputs": [
    {
     "name": "stdout",
     "output_type": "stream",
     "text": [
      "['apple', 'banana', 'pear', 'orange', 'apple']\n",
      "['apple', 'banana', 'pear', 'orange', 'apple']\n"
     ]
    }
   ],
   "source": [
    "print(list1)\n",
    "list_copy = list1.copy()\n",
    "print(list_copy)"
   ]
  },
  {
   "cell_type": "markdown",
   "id": "93d43b7a-8194-4ec9-bccb-3b2187c910b3",
   "metadata": {},
   "source": [
    "> Note that list_new2 is still referencing list1 and changes with it, while list_new1 copied above using `list.copy()` is unchanged"
   ]
  },
  {
   "cell_type": "code",
   "execution_count": 23,
   "id": "ae2cd640-dde4-44f0-9ace-69d4f862c937",
   "metadata": {},
   "outputs": [
    {
     "name": "stdout",
     "output_type": "stream",
     "text": [
      "list1: ['apple', 'banana', 'pear', 'orange', 'apple']\n",
      "list_copy: ['apple', 'banana', 'pear', 'orange', 'apple']\n",
      "list_new2: ['apple', 'banana', 'pear', 'orange', 'apple']\n",
      "\n",
      "list1 changed: ['apple', 'banana', 'pear', 'orange', 'apple', 'NEW']\n",
      "list_copy unchanged: ['apple', 'banana', 'pear', 'orange', 'apple']\n",
      "list_new2 changed: ['apple', 'banana', 'pear', 'orange', 'apple', 'NEW']\n"
     ]
    }
   ],
   "source": [
    "list_new2 = list1\n",
    "\n",
    "print(\"list1:\",list1)\n",
    "print(\"list_copy:\",list_copy)\n",
    "print(\"list_new2:\",list_new2)\n",
    "print()\n",
    "list1.append(\"NEW\")\n",
    "print(\"list1 changed:\",list1)\n",
    "print(\"list_copy unchanged:\",list_copy)\n",
    "print(\"list_new2 changed:\",list_new2)"
   ]
  },
  {
   "cell_type": "markdown",
   "id": "a5f82c88-ce58-4436-84a4-06fa29ddd9a7",
   "metadata": {},
   "source": [
    "### list.reverse()"
   ]
  },
  {
   "cell_type": "markdown",
   "id": "f5c81ba3-cb6a-46d6-8b5d-a9c941db17e6",
   "metadata": {},
   "source": [
    "\n",
    "\n",
    "reverses the order of the elements inside the list\n",
    "\n",
    "doesn't take an argument\n",
    "\n",
    "works in-place, cannot be used within another function"
   ]
  },
  {
   "cell_type": "code",
   "execution_count": 24,
   "id": "2be7d93e-dd81-49be-b1e2-5178f0414623",
   "metadata": {},
   "outputs": [
    {
     "name": "stdout",
     "output_type": "stream",
     "text": [
      "['apple', 'banana', 'pear', 'orange', 'apple', 'NEW']\n",
      "['NEW', 'apple', 'orange', 'pear', 'banana', 'apple']\n"
     ]
    }
   ],
   "source": [
    "print(list1)\n",
    "list1.reverse()\n",
    "print(list1)"
   ]
  },
  {
   "cell_type": "markdown",
   "id": "8b80ce34-1203-485e-b533-3137dff78820",
   "metadata": {},
   "source": [
    "### list.sort()"
   ]
  },
  {
   "cell_type": "markdown",
   "id": "479b618e-c667-493f-a328-a6906096c421",
   "metadata": {},
   "source": [
    "\n",
    "sorts the list in ascending order\n",
    "\n",
    "only works if all elements are either all strings or all numerical (floats and integers)\n",
    "\n",
    "ascending, for descending add: `reverse = True`     \n",
    "`list.sort(reverse=True)` is equivalent to `list.sort()` followed by `list.reverse()`\n",
    "\n",
    "works in-place, cannot be used within another function"
   ]
  },
  {
   "cell_type": "code",
   "execution_count": 25,
   "id": "68d7823a-0f66-4624-b5bc-7713122b6642",
   "metadata": {},
   "outputs": [
    {
     "name": "stdout",
     "output_type": "stream",
     "text": [
      "[2, 6, 5, 4, 8, 5.89]\n",
      "[2, 4, 5, 5.89, 6, 8]\n"
     ]
    }
   ],
   "source": [
    "list7 = [2,6,5,4,8,5.89]\n",
    "print(list7)\n",
    "list7.sort()\n",
    "print(list7)"
   ]
  },
  {
   "cell_type": "code",
   "execution_count": 26,
   "id": "3ef0b447-4ba5-41d6-858a-91030a8c3f9e",
   "metadata": {},
   "outputs": [
    {
     "name": "stdout",
     "output_type": "stream",
     "text": [
      "[2, 4, 5, 5.89, 6, 8]\n",
      "[8, 6, 5.89, 5, 4, 2]\n"
     ]
    }
   ],
   "source": [
    "#you can also sort in descending order\n",
    "print(list7)\n",
    "list7.sort(reverse=True)\n",
    "print(list7)"
   ]
  },
  {
   "cell_type": "markdown",
   "id": "c3fe0322-8138-4b0d-9afb-4ce36af5cc47",
   "metadata": {},
   "source": [
    "### list.clear()"
   ]
  },
  {
   "cell_type": "markdown",
   "id": "eecc2a17-31f7-42e0-be39-034b4caa484f",
   "metadata": {},
   "source": [
    "\n",
    "\n",
    "clears the list\n",
    "\n",
    "> !!!careful if the list you clear is being pointed to by another list (through append or by assiging it), because if it is being referenced it will clear as well!!!\n",
    "\n",
    "works in-place"
   ]
  },
  {
   "cell_type": "code",
   "execution_count": 27,
   "id": "7dbd6119-ba77-4ae7-80ea-ae14fe6a79e0",
   "metadata": {},
   "outputs": [
    {
     "name": "stdout",
     "output_type": "stream",
     "text": [
      "list1: ['NEW', 'apple', 'orange', 'pear', 'banana', 'apple']\n",
      "list2, contains list1: [5, 6, ['NEW', 'apple', 'orange', 'pear', 'banana', 'apple']]\n",
      "list1: []\n",
      "list2, list1 emptied: [5, 6, []]\n"
     ]
    }
   ],
   "source": [
    "list2 = [5,6,list1]\n",
    "\n",
    "print(\"list1:\",list1)\n",
    "print(\"list2, contains list1:\",list2)\n",
    "list.clear(list1)\n",
    "print(\"list1:\", list1)\n",
    "print(\"list2, list1 emptied:\",list2)"
   ]
  },
  {
   "cell_type": "markdown",
   "id": "f808c54b-32f9-4a31-b6af-dbf5e28639e2",
   "metadata": {},
   "source": [
    "# Exercises"
   ]
  },
  {
   "cell_type": "markdown",
   "id": "feb80464-15ae-4227-b2ac-2d6f69c6075e",
   "metadata": {},
   "source": [
    "## Exercise 9 - Creating lists\n",
    "Write a Program that creates at least five different lists.   \n",
    "Two of them should contain only strings and two of them should contain only numbers. The fifth one should mix strings and numbers."
   ]
  },
  {
   "cell_type": "code",
   "execution_count": 28,
   "id": "4ee31847-3a73-4b9f-a49a-a289ac07d2a5",
   "metadata": {},
   "outputs": [],
   "source": [
    "#create some lists\n",
    "names = [\"Lisa\",\"Romain\",\"Papa\",\"Mama\",\"Zoé\",\"Lara\"]\n",
    "ages = [33,34,65,65,1,35]\n",
    "hobbies = [\"biking\",\"riding\",\"reading\",\"music\"]\n",
    "distances = [5,6,7,5.48,.2]\n",
    "mixed = [\"Lisa\",\"ist\",33,\"Jahre\",\"alt\",True]\n",
    "empty_list = []\n",
    "#making lists in a list \n",
    "list_list = [ [\"Lisa\",\"Romain\",\"Papa\"], ages, \"biking\" ]"
   ]
  },
  {
   "cell_type": "code",
   "execution_count": 29,
   "id": "b21e7aa1-98d9-4003-9542-6169dcbcc352",
   "metadata": {},
   "outputs": [
    {
     "name": "stdout",
     "output_type": "stream",
     "text": [
      "The list names contains\n",
      " ['Lisa', 'Romain', 'Papa', 'Mama', 'Zoé', 'Lara']\n",
      "The list ages contains\n",
      " [33, 34, 65, 65, 1, 35]\n",
      "The list hobbies contains\n",
      " ['biking', 'riding', 'reading', 'music']\n",
      "The list distances contains\n",
      " [5, 6, 7, 5.48, 0.2]\n",
      "The list mixed contains\n",
      " ['Lisa', 'ist', 33, 'Jahre', 'alt', True]\n",
      "The list empty_list contains\n",
      " []\n",
      "The list list_list contains\n",
      " [['Lisa', 'Romain', 'Papa'], [33, 34, 65, 65, 1, 35], 'biking']\n"
     ]
    }
   ],
   "source": [
    "#look at my lists\n",
    "print(\"The list names contains\\n\",names)\n",
    "print(\"The list ages contains\\n\",ages)\n",
    "print(\"The list hobbies contains\\n\",hobbies)\n",
    "print(\"The list distances contains\\n\",distances)\n",
    "print(\"The list mixed contains\\n\",mixed)\n",
    "print(\"The list empty_list contains\\n\",empty_list)\n",
    "print(\"The list list_list contains\\n\",list_list)"
   ]
  },
  {
   "cell_type": "markdown",
   "id": "4a263d6c-3b4c-4ab9-ada3-ad846cc7db33",
   "metadata": {},
   "source": [
    "## Exercise 10 - accessing individual elements in lists"
   ]
  },
  {
   "cell_type": "markdown",
   "id": "3dd6f2fc-8352-4f8d-911e-671f84b859ae",
   "metadata": {},
   "source": [
    "Use your lists from Exercise 9 to access single elements of them. Print out 2 different elements for each list."
   ]
  },
  {
   "cell_type": "code",
   "execution_count": 30,
   "id": "9f67ed93-f3dd-4973-94f6-cafd5df5c909",
   "metadata": {},
   "outputs": [
    {
     "name": "stdout",
     "output_type": "stream",
     "text": [
      "Element [1] in names contains\n",
      " Romain\n",
      "Element [3] in ages contains\n",
      " 65\n",
      "Element [2] in hobbies contains\n",
      " reading\n",
      "Element [4] in distances contains\n",
      " 0.2\n",
      "The last element in mixed contains\n",
      " True\n",
      "Element [0] in list_list contains\n",
      " ['Lisa', 'Romain', 'Papa']\n",
      "Element [1] in Element [0] of list_list contains\n",
      " Romain\n"
     ]
    }
   ],
   "source": [
    "#look at elements in lists\n",
    "print(\"Element [1] in names contains\\n\",names[1])\n",
    "print(\"Element [3] in ages contains\\n\",ages[3])\n",
    "print(\"Element [2] in hobbies contains\\n\",hobbies[2])\n",
    "print(\"Element [4] in distances contains\\n\",distances[4])\n",
    "print(\"The last element in mixed contains\\n\",mixed[-1])\n",
    "print(\"Element [0] in list_list contains\\n\",list_list[0])\n",
    "print(\"Element [1] in Element [0] of list_list contains\\n\",list_list[0][1])"
   ]
  },
  {
   "cell_type": "code",
   "execution_count": 31,
   "id": "d329955f-1ca5-4c73-bce4-791e77060c90",
   "metadata": {},
   "outputs": [],
   "source": [
    "##since empty_list is in fact empty this produces an error\n",
    "#print(\"Element [0] in empty_list contains\\n\",empty_list[1])\n",
    "##since mixed only contains 6 elements this produces an error\n",
    "#print(\"Element [10] in mixed contains\\n\",mixed[10])"
   ]
  },
  {
   "cell_type": "markdown",
   "id": "34f5dbce-71fa-46f6-b7b2-59ba0afe83b9",
   "metadata": {},
   "source": [
    "## Exercise 11 - changing elements in lists"
   ]
  },
  {
   "cell_type": "code",
   "execution_count": 32,
   "id": "1714f8a3-5387-4aa5-a0cd-9b168e82c5dd",
   "metadata": {},
   "outputs": [
    {
     "name": "stdout",
     "output_type": "stream",
     "text": [
      "['biking', 'riding', 'reading', 'music']\n",
      "['riding bikes', 'horseriding', 'reading', 'music']\n"
     ]
    }
   ],
   "source": [
    "#reassign some arguments\n",
    "print(hobbies)\n",
    "hobbies[0] = \"riding bikes\"\n",
    "hobbies[1] = \"horseriding\"\n",
    "print(hobbies)"
   ]
  },
  {
   "cell_type": "code",
   "execution_count": 33,
   "id": "07942320-c417-495e-bc41-4d82cb9eb296",
   "metadata": {},
   "outputs": [
    {
     "name": "stdout",
     "output_type": "stream",
     "text": [
      "['Lisa', 'ist', 33, 'Jahre', 'alt', True]\n",
      "['Lisa', 'ist', 43, 'Jahre', 'alt', False]\n"
     ]
    }
   ],
   "source": [
    "print(mixed)\n",
    "mixed[2] += 10\n",
    "mixed[-1] = False\n",
    "print(mixed)"
   ]
  },
  {
   "cell_type": "code",
   "execution_count": 34,
   "id": "d4e6fdf1-1e74-4284-9f15-d6605be2194f",
   "metadata": {},
   "outputs": [
    {
     "name": "stdout",
     "output_type": "stream",
     "text": [
      "['Lisa', 'Romain', 'Papa', 'Mama', 'Zoé', 'Lara']\n",
      "[33.7, True, 'Papa', 'Mama', 'Zoé', 'Lara']\n"
     ]
    }
   ],
   "source": [
    "print(names)\n",
    "names[1] = True\n",
    "names[0] = 33.7\n",
    "print(names)"
   ]
  },
  {
   "cell_type": "markdown",
   "id": "92abcb41-75f2-47ad-af89-a3957d63d759",
   "metadata": {},
   "source": [
    "## Exercise 12 - Working with range and len\n",
    "Write a program that generates four lists with different lengths by using the range() function.    \n",
    "- The program should generate a list that doesn‘t start at 0.    \n",
    "- The program should generate two other lists that skip some numbers (three arguments for range).\n",
    "\n",
    "Let the program print out the generated lists as well as the corresponding lengths"
   ]
  },
  {
   "cell_type": "code",
   "execution_count": 35,
   "id": "32ab4ac4-9153-49b6-93bd-d3aaef060657",
   "metadata": {},
   "outputs": [
    {
     "name": "stdout",
     "output_type": "stream",
     "text": [
      "[0, 1, 2, 3, 4, 5, 6, 7, 8, 9, 10, 11, 12, 13, 14]\n",
      "15\n",
      "\n",
      "[10, 11, 12, 13, 14, 15, 16, 17, 18, 19, 20]\n",
      "11\n",
      "\n",
      "[3, 6, 9, 12, 15, 18, 21, 24, 27]\n",
      "9\n",
      "\n",
      "[5, 7, 9, 11, 13, 15]\n",
      "6\n",
      "\n"
     ]
    }
   ],
   "source": [
    "#create my lists\n",
    "list3 = list(range(15))\n",
    "list4 = list(range(10,21))\n",
    "list5 = list(range(3,30,3))\n",
    "list6 = list(range(5,16,2))\n",
    "\n",
    "#print them and their length\n",
    "print(list3)\n",
    "print(len(list3))\n",
    "print()\n",
    "\n",
    "print(list4)\n",
    "print(len(list4))\n",
    "print()\n",
    "\n",
    "print(list5)\n",
    "print(len(list5))\n",
    "print()\n",
    "\n",
    "print(list6)\n",
    "print(len(list6))\n",
    "print()"
   ]
  },
  {
   "cell_type": "markdown",
   "id": "9a100114-6e06-46b4-929a-8a7b12f482ae",
   "metadata": {},
   "source": [
    "## Exercise 13 - The last values\n",
    "Use your lists from Exercise 12 and print out the last element, as well as the third to last and fifth to last element of them using negative indices."
   ]
  },
  {
   "cell_type": "code",
   "execution_count": 36,
   "id": "02f29b5d-5c33-4e7b-b201-4aadc20c28c3",
   "metadata": {},
   "outputs": [
    {
     "name": "stdout",
     "output_type": "stream",
     "text": [
      "14\n",
      "12\n",
      "10\n",
      "\n",
      "20\n",
      "18\n",
      "16\n",
      "\n",
      "27\n",
      "21\n",
      "15\n"
     ]
    }
   ],
   "source": [
    "print(list3[-1])\n",
    "print(list3[-3])\n",
    "print(list3[-5])\n",
    "print()\n",
    "print(list4[-1])\n",
    "print(list4[-3])\n",
    "print(list4[-5])\n",
    "print()\n",
    "print(list5[-1])\n",
    "print(list5[-3])\n",
    "print(list5[-5])\n",
    "#etc."
   ]
  },
  {
   "cell_type": "markdown",
   "id": "9d8e2988-c628-4d38-a3b3-b0b11c8d1971",
   "metadata": {},
   "source": [
    "## Exercise 14 - Slicing of lists\n",
    "Write a program that generates two different lists with contents of your choice. Define four numbers and use them to slice your lists. What happens if you use numbers that are bigger than the size of your lists?"
   ]
  },
  {
   "cell_type": "code",
   "execution_count": 37,
   "id": "f0fabf9e-7489-47d8-ae23-f0b028d28209",
   "metadata": {},
   "outputs": [],
   "source": [
    "#define some numbers as variables\n",
    "num1 = 0\n",
    "num2 = -3\n",
    "num3 = 20\n",
    "num4 = 5"
   ]
  },
  {
   "cell_type": "code",
   "execution_count": 38,
   "id": "144b483f-c72b-4ed9-a40b-2677f2c0ae05",
   "metadata": {},
   "outputs": [
    {
     "name": "stdout",
     "output_type": "stream",
     "text": [
      "15\n",
      "[0, 1, 2, 3, 4, 5, 6, 7, 8, 9, 10, 11, 12, 13, 14]\n",
      "[5, 6, 7, 8, 9, 10, 11, 12, 13, 14]\n",
      "[0, 1, 2, 3, 4, 5, 6, 7, 8, 9, 10, 11]\n"
     ]
    }
   ],
   "source": [
    "print(len(list3))\n",
    "print(list3)\n",
    "print(list3[num4:num3])\n",
    "print(list3[num1:num2])"
   ]
  },
  {
   "cell_type": "code",
   "execution_count": 39,
   "id": "8974e3e5-7f91-4ab1-99ac-ac7969a1d321",
   "metadata": {},
   "outputs": [
    {
     "name": "stdout",
     "output_type": "stream",
     "text": [
      "11\n",
      "[10, 11, 12, 13, 14, 15, 16, 17, 18, 19, 20]\n",
      "[15, 16, 17, 18, 19, 20]\n",
      "[10, 11, 12, 13, 14, 15, 16, 17]\n"
     ]
    }
   ],
   "source": [
    "print(len(list4))\n",
    "print(list4)\n",
    "print(list4[num4:num3])\n",
    "print(list4[num1:num2])"
   ]
  },
  {
   "cell_type": "markdown",
   "id": "45e462d7-4682-44c8-916d-d94b238e3ab3",
   "metadata": {},
   "source": [
    "## Exercise 15 - Slicing with a :\n",
    "Write a program that generates a list with the help of the range function.    \n",
    "Create a slice of the list that contains the first 5 numbers and one that contains the first 8 numbers.    \n",
    "Create another slice that starts at index 6 and one that starts at index 10. Print out the sliced lists."
   ]
  },
  {
   "cell_type": "code",
   "execution_count": 40,
   "id": "ebd6c70f-2a71-4001-b499-dcf4c2564939",
   "metadata": {},
   "outputs": [
    {
     "name": "stdout",
     "output_type": "stream",
     "text": [
      "[3, 6, 9, 12, 15, 18, 21, 24, 27, 30, 33, 36, 39, 42, 45, 48, 51, 54, 57, 60, 63, 66, 69, 72, 75, 78, 81, 84, 87, 90, 93, 96, 99]\n",
      "\n",
      "[3, 6, 9, 12, 15]\n",
      "[3, 6, 9, 12, 15, 18, 21, 24]\n",
      "\n",
      "[21, 24, 27, 30, 33, 36, 39, 42, 45, 48, 51, 54, 57, 60, 63, 66, 69, 72, 75, 78, 81, 84, 87, 90, 93, 96, 99]\n",
      "[33, 36, 39, 42, 45, 48, 51, 54, 57, 60, 63, 66, 69, 72, 75, 78, 81, 84, 87, 90, 93, 96, 99]\n"
     ]
    }
   ],
   "source": [
    "#create a list\n",
    "list7 = list(range(3,100,3))\n",
    "print(list7)\n",
    "\n",
    "#cosmetic print()\n",
    "print()\n",
    "\n",
    "# create slices of the first 5 and the first 8 numbers respectively\n",
    "# this excludes index 5 and 8 !!\n",
    "slice1 = list7[:5]\n",
    "slice2 = list7[:8]\n",
    "\n",
    "print(slice1)\n",
    "print(slice2)\n",
    "\n",
    "#cosmetic print()\n",
    "print()\n",
    "\n",
    "#create slices that start at index 6 (= 7. Zahl!!) and 10 (= 11. Zahl!!) respectively\n",
    "slice3 = list7[6:]\n",
    "slice4 = list7[10:]\n",
    "\n",
    "print(slice3)\n",
    "print(slice4)"
   ]
  },
  {
   "cell_type": "markdown",
   "id": "810dec24-0709-49c7-9153-a305a0e449ac",
   "metadata": {},
   "source": [
    "## Exercise 16 - Longer lists\n",
    "Write a Program that generates six different lists. Append the third list to first one and the\n",
    "fourth list to the second one, e.g. list1.append(list3). Extend the first list with the help of the\n",
    "fifth list and the second one with the help of the sixth list, e.g. list1.extend(list5)."
   ]
  },
  {
   "cell_type": "code",
   "execution_count": 41,
   "id": "ffd18c8a-ea17-4793-aa87-f5cffe110124",
   "metadata": {},
   "outputs": [
    {
     "name": "stdout",
     "output_type": "stream",
     "text": [
      "[1, 2, 3, 4]\n",
      "[True, 'Hello', 6.55]\n",
      "[5, 10, 15, 20, 25, 30, 35, 40, 45]\n",
      "[4, 8, 12, 16, 20, 24, 28, 32, 36]\n",
      "['Heute', 'ist', 'hier', 'Fasnacht']\n",
      "[3.25, 3.65, 2, 6, 5]\n"
     ]
    }
   ],
   "source": [
    "#I re-create my lists from above to reset them to their original content\n",
    "list1 = list(range(1,5))\n",
    "list2 = [True, \"Hello\", 6.55]\n",
    "list3 = list(range(5,50,5))\n",
    "list4 = list(range(4,40,4))\n",
    "list5 = [\"Heute\",\"ist\",\"hier\",\"Fasnacht\"]\n",
    "list6 = [3.25,3.65,2,6,5]\n",
    "print(list1,list2,list3,list4,list5,list6,sep=\"\\n\")"
   ]
  },
  {
   "cell_type": "code",
   "execution_count": 42,
   "id": "07ab9ebb-38dd-4a1f-bc4a-ed54fbbe38f4",
   "metadata": {},
   "outputs": [
    {
     "name": "stdout",
     "output_type": "stream",
     "text": [
      "[1, 2, 3, 4, [5, 10, 15, 20, 25, 30, 35, 40, 45]]\n"
     ]
    }
   ],
   "source": [
    "list1.append(list3)\n",
    "print(list1)"
   ]
  },
  {
   "cell_type": "code",
   "execution_count": 43,
   "id": "f537f519-6ead-461c-aed6-714f6475f4c5",
   "metadata": {},
   "outputs": [
    {
     "name": "stdout",
     "output_type": "stream",
     "text": [
      "[True, 'Hello', 6.55, [4, 8, 12, 16, 20, 24, 28, 32, 36]]\n"
     ]
    }
   ],
   "source": [
    "list2.append(list4)\n",
    "print(list2)"
   ]
  },
  {
   "cell_type": "code",
   "execution_count": 44,
   "id": "af593a6b-613e-4450-a8e2-cb61f6c58a77",
   "metadata": {},
   "outputs": [
    {
     "name": "stdout",
     "output_type": "stream",
     "text": [
      "[1, 2, 3, 4, [5, 10, 15, 20, 25, 30, 35, 40, 45], 'Heute', 'ist', 'hier', 'Fasnacht']\n"
     ]
    }
   ],
   "source": [
    "list1.extend(list5)\n",
    "print(list1)"
   ]
  },
  {
   "cell_type": "code",
   "execution_count": 45,
   "id": "214fc704-cf25-4024-a242-4e565c00a073",
   "metadata": {},
   "outputs": [
    {
     "name": "stdout",
     "output_type": "stream",
     "text": [
      "[True, 'Hello', 6.55, [4, 8, 12, 16, 20, 24, 28, 32, 36], 3.25, 3.65, 2, 6, 5]\n"
     ]
    }
   ],
   "source": [
    "list2.extend(list6)\n",
    "print(list2)"
   ]
  },
  {
   "cell_type": "code",
   "execution_count": 46,
   "id": "b7056512-36e3-45bd-9cbc-eb92ad35587c",
   "metadata": {},
   "outputs": [
    {
     "name": "stdout",
     "output_type": "stream",
     "text": [
      "[1, 2, 3, 4, [5, 10, 15, 20, 25, 30, 35, 40, 45], 'Heute', 'ist', 'hier', 'Fasnacht']\n",
      "['Heute', 'ist', 'hier', 'Fasnacht']\n",
      "['Heute', 'ist', 'hier']\n",
      "[1, 2, 3, 4, [5, 10, 15, 20, 25, 30, 35, 40, 45], 'Heute', 'ist', 'hier', 'Fasnacht']\n"
     ]
    }
   ],
   "source": [
    "print(list1)\n",
    "print(list5)\n",
    "list5.remove(\"Fasnacht\")\n",
    "print(list5)\n",
    "print(list1)"
   ]
  },
  {
   "cell_type": "markdown",
   "id": "2ff10804-e43c-4022-9cf4-a5812cc574ef",
   "metadata": {},
   "source": [
    "> extend does NOT reference back to the list it is extended by, so it doesn't change with it:    \n",
    "> list1 still contains Fasnacht, even though it was removed in list5"
   ]
  },
  {
   "cell_type": "markdown",
   "id": "002a36de-01a1-4e7a-96d1-d27ce89bfef8",
   "metadata": {},
   "source": [
    "## Exercise 17 - Removing entries\n",
    "Write a program that generates at least three different lists. Print these lists out. Let the\n",
    "program remove one element from each list and then print out the new lists."
   ]
  },
  {
   "cell_type": "code",
   "execution_count": 47,
   "id": "edcffa1d-d0df-451c-83be-50c3403ca2ba",
   "metadata": {},
   "outputs": [
    {
     "name": "stdout",
     "output_type": "stream",
     "text": [
      "['apple', 'banana', 'orange', 'apple']\n",
      "[3, 6, 9, 12, 15, 18, 21]\n",
      "[True, 'list', 'for', 'me', 22, 22.56]\n"
     ]
    }
   ],
   "source": [
    "#create lists\n",
    "list1 = [\"apple\",\"banana\",\"orange\",\"apple\"]\n",
    "list2 = list(range(3,22,3))\n",
    "list3 = [True, \"list\",\"for\",\"me\",22,22.56]\n",
    "\n",
    "print(list1)\n",
    "print(list2)\n",
    "print(list3)"
   ]
  },
  {
   "cell_type": "code",
   "execution_count": 48,
   "id": "6b4179c0-0822-4d47-a58a-6016c69124dd",
   "metadata": {},
   "outputs": [
    {
     "name": "stdout",
     "output_type": "stream",
     "text": [
      "['apple', 'banana', 'orange', 'apple']\n",
      "['apple', 'orange', 'apple']\n"
     ]
    }
   ],
   "source": [
    "#deleting some elements\n",
    "print(list1)\n",
    "list1.remove(\"banana\")\n",
    "print(list1)"
   ]
  },
  {
   "cell_type": "code",
   "execution_count": 49,
   "id": "d999ff01-f325-493c-931a-121b69d82ce3",
   "metadata": {},
   "outputs": [
    {
     "name": "stdout",
     "output_type": "stream",
     "text": [
      "[3, 6, 9, 12, 15, 18, 21]\n",
      "[3, 6, 9, 12, 15, 21]\n"
     ]
    }
   ],
   "source": [
    "print(list2)\n",
    "list2.remove(list2[5])\n",
    "print(list2)"
   ]
  },
  {
   "cell_type": "code",
   "execution_count": 50,
   "id": "a08b4a76-b94d-4cf2-9a27-8dad4ba1ac53",
   "metadata": {},
   "outputs": [
    {
     "name": "stdout",
     "output_type": "stream",
     "text": [
      "[True, 'list', 'for', 'me', 22, 22.56]\n",
      "[True, 'list', 'for', 'me', 22.56]\n"
     ]
    }
   ],
   "source": [
    "print(list3)\n",
    "list3.remove(list3[-2])\n",
    "print(list3)"
   ]
  },
  {
   "cell_type": "code",
   "execution_count": 51,
   "id": "2dc5a334-4aae-4304-9d48-ae58094634f1",
   "metadata": {},
   "outputs": [
    {
     "name": "stdout",
     "output_type": "stream",
     "text": [
      "[True, 'list', 'for', 'me', 22.56]\n",
      "[True, 'list', 'for', 'me']\n"
     ]
    }
   ],
   "source": [
    "print(list3)\n",
    "list3.remove(22.56)\n",
    "print(list3)"
   ]
  },
  {
   "cell_type": "markdown",
   "id": "59405cda-d6fc-4549-90d1-525985cbb9da",
   "metadata": {},
   "source": [
    "## Exercise 18 - Inserting values\n",
    "Write a program that generates three lists of different sizes and print them out. Afterwards\n",
    "insert values into these lists at points of your choosing."
   ]
  },
  {
   "cell_type": "code",
   "execution_count": 52,
   "id": "a47f7161-5bf4-4491-8477-473608ef5504",
   "metadata": {},
   "outputs": [
    {
     "name": "stdout",
     "output_type": "stream",
     "text": [
      "['apple', 'banana', 'orange', 'apple']\n",
      "[3, 6, 9, 12, 15, 18, 21]\n",
      "[True, 'list', 'for', 'me', 22, 22.56]\n",
      "Coooool\n",
      "5.78\n"
     ]
    }
   ],
   "source": [
    "#create some lists and variables\n",
    "list1 = [\"apple\",\"banana\",\"orange\",\"apple\"]\n",
    "list2 = list(range(3,22,3))\n",
    "list3 = [True, \"list\",\"for\",\"me\",22,22.56]\n",
    "var1 = \"Coooool\"\n",
    "var2 = 5.78\n",
    "\n",
    "print(list1)\n",
    "print(list2)\n",
    "print(list3)\n",
    "print(var1)\n",
    "print(var2)"
   ]
  },
  {
   "cell_type": "code",
   "execution_count": 53,
   "id": "2012b688-3a53-4d44-bd2f-7c3bf0493f49",
   "metadata": {},
   "outputs": [
    {
     "name": "stdout",
     "output_type": "stream",
     "text": [
      "['apple', 'banana', 'orange', 'apple']\n",
      "['apple', 'banana', 22.56, 'orange', 'apple']\n"
     ]
    }
   ],
   "source": [
    "#insert at index2\n",
    "print(list1)\n",
    "list1.insert(2,22.56)\n",
    "print(list1)"
   ]
  },
  {
   "cell_type": "code",
   "execution_count": 54,
   "id": "24ad709b-b71d-4cde-b57c-754e7dc635ea",
   "metadata": {},
   "outputs": [
    {
     "name": "stdout",
     "output_type": "stream",
     "text": [
      "['apple', 'banana', 22.56, 'orange', 'apple']\n",
      "['apple', 'banana', 22.56, 'orange', False, 'apple']\n"
     ]
    }
   ],
   "source": [
    "#insert at second to last index\n",
    "print(list1)\n",
    "list1.insert(-1,False)\n",
    "print(list1)"
   ]
  },
  {
   "cell_type": "code",
   "execution_count": 55,
   "id": "a1194fb3-e39e-4fcf-9461-63f7df033c3e",
   "metadata": {},
   "outputs": [
    {
     "name": "stdout",
     "output_type": "stream",
     "text": [
      "['apple', 'banana', 22.56, 'orange', False, 'apple']\n",
      "['apple', 'banana', 22.56, 'orange', False, 'apple', 'Coooool']\n"
     ]
    }
   ],
   "source": [
    "#insert at index 100 / at the end\n",
    "print(list1)\n",
    "list1.insert(100,var1)\n",
    "print(list1)"
   ]
  },
  {
   "cell_type": "code",
   "execution_count": 56,
   "id": "6a4e71fb-3c88-4bd8-88a3-5987385d05be",
   "metadata": {},
   "outputs": [
    {
     "name": "stdout",
     "output_type": "stream",
     "text": [
      "[['apple', 'banana', 22.56, 'orange', False, 'apple', 'Coooool'], 3, 6, 9, 12, 15, 18, 21]\n"
     ]
    }
   ],
   "source": [
    "#insert at index0 = at the beginning\n",
    "list2.insert(0,list1)\n",
    "print(list2)"
   ]
  },
  {
   "cell_type": "code",
   "execution_count": null,
   "id": "f4a93d7c-70f2-4de9-bf45-ba8fee6c2160",
   "metadata": {},
   "outputs": [],
   "source": []
  }
 ],
 "metadata": {
  "kernelspec": {
   "display_name": "Python 3 (ipykernel)",
   "language": "python",
   "name": "python3"
  },
  "language_info": {
   "codemirror_mode": {
    "name": "ipython",
    "version": 3
   },
   "file_extension": ".py",
   "mimetype": "text/x-python",
   "name": "python",
   "nbconvert_exporter": "python",
   "pygments_lexer": "ipython3",
   "version": "3.12.2"
  }
 },
 "nbformat": 4,
 "nbformat_minor": 5
}
