{
 "cells": [
  {
   "cell_type": "markdown",
   "id": "c74296c7-a7ed-45c1-ab29-4fd93ed6931f",
   "metadata": {},
   "source": [
    "# Module 1.3 External Modules\n",
    "\n",
    "## Table of content\n",
    "\n",
    "1. [Table of content](#Table-of-content)\n",
    "2. [External Modules](#External-Modules)\n",
    "    1. [General ideas about modules](#General-ideas-about-modules)\n",
    "    2. [Installing modules](#Installing-modules)\n",
    "    3. [Importing-modules](#Importing-modules)\n",
    "       1. [Importing a whole module](#Importing-a-whole-module)\n",
    "       2. [Importing a module with an alias](#Importing-a-module-with-an-alias)\n",
    "       3. [Importing indiviual functions](#Importing-individual-functions)\n",
    "       4. [Looking at imported modules in Jupyter](#Looking-at-imported-modules-in-Jupyter)\n",
    "    5. [The module math](#The-module-math)\n",
    "    6. [The module random](#The-module-random)\n",
    "3. [Exercises](#Exercises)\n",
    "    1. [Exercise 49 - New modules](#Exercise-49---New-modules)\n",
    "    2. [Exercise 50 - Working with math](#Exercise-50---Working-with-math)\n",
    "    3. [Exercise 51 - Random generator](#Exercise-51---Random-generator)\n"
   ]
  },
  {
   "cell_type": "markdown",
   "id": "00868847-cf2e-4047-94c2-1814feca98b7",
   "metadata": {},
   "source": [
    "# External Modules"
   ]
  },
  {
   "cell_type": "markdown",
   "id": "671e121f-ca49-47d6-8e95-e49e3ef48973",
   "metadata": {},
   "source": [
    "## General ideas about modules"
   ]
  },
  {
   "cell_type": "markdown",
   "id": "5d4a9c0a-0068-47df-98eb-6baaa2d4a997",
   "metadata": {},
   "source": [
    "Modules are a form of function library that extend the functionality of Python by adding to our global Namespace.   \n",
    "They are simply .py files that are imported using the `import` function.   \n",
    "\n",
    "Before the first use you need to install the modules.   \n",
    "\n",
    "*Never* give your python files the same name as a module!! -> when importing the module it would create an infinity loop trying to load itself\n",
    "\n",
    "Information on modules on: https://docs.python.org/3/library/"
   ]
  },
  {
   "cell_type": "markdown",
   "id": "a1acf13f-62a2-4b05-b04d-4efc8be84054",
   "metadata": {},
   "source": [
    "## Installing modules"
   ]
  },
  {
   "cell_type": "markdown",
   "id": "d8f898ee-6785-434c-95e2-bd91e907d530",
   "metadata": {},
   "source": [
    "Before installing a module check if it's already there by trying to import it.\n",
    "\n",
    "in Thonny there is a package manager (Tools -> Manage packages...), otherwise use the command line in the terminal and use pip/pip3 to install modules:\n",
    "\n",
    "    pip install modulename\n",
    "or\n",
    "\n",
    "    pip3 install modulename\n",
    "\n",
    "On my Mac Modules are installed into:\n",
    "/Library/Frameworks/Python.framework/Versions/3.12/lib/python3.12"
   ]
  },
  {
   "cell_type": "markdown",
   "id": "8cae14df-fd4c-414b-affc-d15e227bf64f",
   "metadata": {},
   "source": [
    "## Importing modules\n",
    "\n",
    "There are different ways of importing modules/functions. There are usually conventions which one to use for a specific module.\n",
    "\n",
    "Only import individual function is specifically told so! Otherwise import the *whole module* or *submodules*   \n",
    "e.g. Biopython is so large that you shouldn't import it all but only the submodules you need\n",
    "\n",
    "Important note: `from module import *` imports *all* functions from the module into the Namespace\n",
    "\n",
    "- clutters up the Namespace\n",
    "- overwrites functions of the same name\n",
    "- **=> never ever do that**"
   ]
  },
  {
   "cell_type": "markdown",
   "id": "702601db-397c-4d92-baa3-318c66253cf2",
   "metadata": {},
   "source": [
    "### Importing a whole module\n",
    "\n",
    "Syntax:\n",
    "\n",
    "    import module\n",
    "\n",
    "You then have access to the whole module and can access functions using the syntax \n",
    "\n",
    "    module.function()"
   ]
  },
  {
   "cell_type": "code",
   "execution_count": 1,
   "id": "5f1f6b4c-a55a-44b3-a324-d5f32ba66f92",
   "metadata": {},
   "outputs": [
    {
     "name": "stdout",
     "output_type": "stream",
     "text": [
      "    January 2024\n",
      "Mo Tu We Th Fr Sa Su\n",
      " 1  2  3  4  5  6  7\n",
      " 8  9 10 11 12 13 14\n",
      "15 16 17 18 19 20 21\n",
      "22 23 24 25 26 27 28\n",
      "29 30 31\n"
     ]
    }
   ],
   "source": [
    "import calendar\n",
    "\n",
    "calendar.prmonth(2024,1)"
   ]
  },
  {
   "cell_type": "markdown",
   "id": "132e3f73-d0ec-4529-b2c3-81dc9af63828",
   "metadata": {},
   "source": [
    "### Importing a module with an alias\n",
    "\n",
    "To shorten the code you can give your module an alias. Syntax:\n",
    "\n",
    "    import module as mdl\n",
    "\n",
    "There are usually convention how to shorten the module name"
   ]
  },
  {
   "cell_type": "code",
   "execution_count": 2,
   "id": "fdc65c9f-68ae-4285-9cd5-74ac9d988f1c",
   "metadata": {},
   "outputs": [
    {
     "name": "stdout",
     "output_type": "stream",
     "text": [
      "   February 2024\n",
      "Mo Tu We Th Fr Sa Su\n",
      "          1  2  3  4\n",
      " 5  6  7  8  9 10 11\n",
      "12 13 14 15 16 17 18\n",
      "19 20 21 22 23 24 25\n",
      "26 27 28 29\n"
     ]
    }
   ],
   "source": [
    "import calendar as cld\n",
    "\n",
    "calendar.prmonth(2024,2)"
   ]
  },
  {
   "cell_type": "markdown",
   "id": "9381e721-e624-4e5c-8cc3-39824d1b4f09",
   "metadata": {},
   "source": [
    "### Importing individual functions\n",
    "\n",
    "You can also import individual functions from a module. Syntax:\n",
    "\n",
    "    from module import function\n",
    "\n",
    "We can then use the function like a built-in function.   \n",
    "Carful! In doing so we overwrite a function of the same name that might already exist!! Only do so if the documentation tells you specifically to import this way"
   ]
  },
  {
   "cell_type": "code",
   "execution_count": 3,
   "id": "34d0fd14-59b3-4dde-b3ac-1112af532abb",
   "metadata": {},
   "outputs": [
    {
     "name": "stdout",
     "output_type": "stream",
     "text": [
      "     March 2024\n",
      "Mo Tu We Th Fr Sa Su\n",
      "             1  2  3\n",
      " 4  5  6  7  8  9 10\n",
      "11 12 13 14 15 16 17\n",
      "18 19 20 21 22 23 24\n",
      "25 26 27 28 29 30 31\n"
     ]
    }
   ],
   "source": [
    "from calendar import prmonth\n",
    "\n",
    "prmonth(2024,3)"
   ]
  },
  {
   "cell_type": "markdown",
   "id": "c3495da2-a7bb-4dfb-99f0-dd021ec9cf3f",
   "metadata": {},
   "source": [
    "### Looking at imported modules in Jupyter\n",
    "\n",
    "`%who` works on imported modules and functions as well.\n",
    "\n",
    "If I want just whole modules: `%who module`\n",
    "If I want just functions (= methods): `%who method`\n",
    "\n",
    "details can be seen with `print(module)` or `print(method)`"
   ]
  },
  {
   "cell_type": "code",
   "execution_count": 4,
   "id": "bd904c56-967e-4423-a65a-d32559f9b865",
   "metadata": {},
   "outputs": [
    {
     "name": "stdout",
     "output_type": "stream",
     "text": [
      "calendar\t cld\t prmonth\t \n"
     ]
    }
   ],
   "source": [
    "%who"
   ]
  },
  {
   "cell_type": "code",
   "execution_count": 5,
   "id": "937123c5-ebf1-4370-8c1e-40d29d69de01",
   "metadata": {},
   "outputs": [
    {
     "name": "stdout",
     "output_type": "stream",
     "text": [
      "calendar\t cld\t \n"
     ]
    }
   ],
   "source": [
    "%who module"
   ]
  },
  {
   "cell_type": "code",
   "execution_count": 6,
   "id": "ece47770-9f55-4142-957f-d1fd5b27fa73",
   "metadata": {},
   "outputs": [
    {
     "name": "stdout",
     "output_type": "stream",
     "text": [
      "prmonth\t \n"
     ]
    }
   ],
   "source": [
    "%who method"
   ]
  },
  {
   "cell_type": "code",
   "execution_count": 7,
   "id": "8b77bfd1-b728-4fcd-9b5e-4ec1d37d956f",
   "metadata": {},
   "outputs": [
    {
     "name": "stdout",
     "output_type": "stream",
     "text": [
      "<module 'calendar' from '/Library/Frameworks/Python.framework/Versions/3.12/lib/python3.12/calendar.py'>\n",
      "<bound method TextCalendar.prmonth of <calendar.TextCalendar object at 0x106914650>>\n"
     ]
    }
   ],
   "source": [
    "print(calendar)\n",
    "print(prmonth)"
   ]
  },
  {
   "cell_type": "markdown",
   "id": "8ce06fe8-9775-4aed-8a7e-bff8b35d13ce",
   "metadata": {},
   "source": [
    "## The module math"
   ]
  },
  {
   "cell_type": "markdown",
   "id": "4eef14d5-09b1-4a51-95b5-84004c6b30eb",
   "metadata": {},
   "source": [
    "math provides access to mathematical functions and constants\n",
    "\n",
    "- cannot be used with complex numbers (makes our program a bit more resilient)\n",
    "- All returned values are floats\n",
    "\n",
    "Some functions:\n",
    "\n",
    "- `math.exp(x)`: e raised to the power of x\n",
    "- `math.log(x[,base])`: one argument: natural log (base e), two arguments: log of first arg to base of second arg\n",
    "- `math.log2(x)`: log to base2\n",
    "- `math.log10(x)`: log to base 10\n",
    "- `math.pow(x,y)`: x raised to the power of y\n",
    "- `math.sqrt(x)`: square root\n",
    "- `math.pi`: π\n",
    "- `math.e`: e\n",
    "- `math.tau`: τ\n",
    "\n",
    "Pay attention that your operation is mathematically defined (e.g. sqrt(-2) => Error )\n",
    "\n",
    "`abs()` gets the absolute value of a number, if you need it"
   ]
  },
  {
   "cell_type": "markdown",
   "id": "7adf3c27-18a7-40db-8800-4f168503d0e6",
   "metadata": {},
   "source": [
    "## The module random"
   ]
  },
  {
   "cell_type": "markdown",
   "id": "0f62777a-3bba-4d67-b8d0-f258d3d6e45e",
   "metadata": {},
   "source": [
    "random creates pseudorandom numbers\n",
    "\n",
    "Some functions:\n",
    "\n",
    "- `random.randint(a,b)` random integer N: a <= N <= b\n",
    "- `random.random()` random number between 0 and 1\n",
    "- `random.gaus(mu,sigma)` normal distribution with a mean of mu and a stdev of sigma\n",
    "- `random.shuffle(list1)` mixes list1 (or other data structure) randomly.    \n",
    "  Works in place, makes permanent changes to existing list -> can't be saved as a new variable. Either copy list before or use random.sample()\n",
    "- `random.randrange(a,b,c)` random integer N: a <= N < b (depends on range: start, stop, step, where start and stop are optional)\n",
    "- `random.sample(population, k)` k random numbers from a population (e.g. range(1000000))     \n",
    "  Using sample() to mix a list again: `mixed_list = random.sample(list, k=len(list))`"
   ]
  },
  {
   "cell_type": "markdown",
   "id": "1be74dac-4411-4f4d-bfd2-acdc170a1443",
   "metadata": {},
   "source": [
    "# Exercises"
   ]
  },
  {
   "cell_type": "markdown",
   "id": "ba4f8f0b-5df9-435f-ab59-def8e8e9cb3d",
   "metadata": {},
   "source": [
    "## Exercise 49 - New modules\n",
    "Write a program that asks the user to guess a specific number. Generate a random number\n",
    "between 0 and 99, search the library to find a module and a function for this task. Generate a\n",
    "while loop that asks for a guess as long as the user didn’t guess right. Print out hints if the user\n",
    "is lower or higher than the random number. Count the number of guesses the user needed\n",
    "and print them out after the user guessed correctly."
   ]
  },
  {
   "cell_type": "code",
   "execution_count": 8,
   "id": "afbd19bb-f3f4-4f99-a331-da6d91bc2767",
   "metadata": {},
   "outputs": [],
   "source": [
    "#import random to generate a random number\n",
    "import random"
   ]
  },
  {
   "cell_type": "code",
   "execution_count": 9,
   "id": "182044e5-2a62-4de7-8891-84cec6847721",
   "metadata": {},
   "outputs": [
    {
     "name": "stdout",
     "output_type": "stream",
     "text": [
      "24\n",
      "\n"
     ]
    },
    {
     "name": "stdin",
     "output_type": "stream",
     "text": [
      "Please type in a number:  10\n"
     ]
    },
    {
     "name": "stdout",
     "output_type": "stream",
     "text": [
      "Wrong choice\n",
      "Your number is too small!\n"
     ]
    },
    {
     "name": "stdin",
     "output_type": "stream",
     "text": [
      "Try again:  50\n"
     ]
    },
    {
     "name": "stdout",
     "output_type": "stream",
     "text": [
      "Wrong choice\n",
      "Your number is too big!\n"
     ]
    },
    {
     "name": "stdin",
     "output_type": "stream",
     "text": [
      "Try again:  24\n"
     ]
    },
    {
     "name": "stdout",
     "output_type": "stream",
     "text": [
      "You guessed it! The number is 24. You needed 3 guesses.\n"
     ]
    }
   ],
   "source": [
    "#create a random number and a helper variable for he number of guesses\n",
    "rand_num = random.randrange(100)\n",
    "guess = 1\n",
    "\n",
    "#this print command is cheating ;-)\n",
    "print(rand_num)\n",
    "#cosmetical print()\n",
    "print()\n",
    "\n",
    "# this command allows the user to input an integer number:\n",
    "number = int(input(\"Please type in a number: \"))\n",
    "\n",
    "#create the while loop with the hints\n",
    "while number != rand_num:\n",
    "    print(\"Wrong choice\")\n",
    "    if rand_num < number:\n",
    "        print(\"Your number is too big!\")\n",
    "    elif rand_num > number:\n",
    "        print(\"Your number is too small!\") \n",
    "    #increase the guess count\n",
    "    guess += 1\n",
    "    #make the user input another number\n",
    "    number = int(input(\"Try again: \"))\n",
    "\n",
    "#Two print statements to give the results of the game\n",
    "if guess == 1:\n",
    "    print(f\"Wow! You guessed right at the first guess! The number is {rand_num}.\")\n",
    "else:\n",
    "    print(f\"You guessed it! The number is {rand_num}. You needed {guess} guesses.\")"
   ]
  },
  {
   "cell_type": "markdown",
   "id": "af7d7dc9-6149-44dd-9085-1ded9f9634f8",
   "metadata": {},
   "source": [
    "## Exercise 50 - Working with math\n",
    "Write a program that defines two numbers (x and y) and calculates new values with the help of the math functions in the presentation (exp, log, log2, log10, pow, sqrt). Print out the results."
   ]
  },
  {
   "cell_type": "code",
   "execution_count": 10,
   "id": "2cdcefa2-2f00-48e8-bc1d-5483319eeb32",
   "metadata": {},
   "outputs": [],
   "source": [
    "#import the module math\n",
    "import math"
   ]
  },
  {
   "cell_type": "code",
   "execution_count": 11,
   "id": "3bba7d21-06c6-4ab8-92db-23b87286992b",
   "metadata": {},
   "outputs": [
    {
     "name": "stdout",
     "output_type": "stream",
     "text": [
      "6\n"
     ]
    }
   ],
   "source": [
    "#define x and y\n",
    "x = 3\n",
    "y = -6\n",
    "\n",
    "#show the working of abs()\n",
    "print(abs(y))"
   ]
  },
  {
   "cell_type": "code",
   "execution_count": 12,
   "id": "fd8ca75f-cb9e-4803-9b14-a81174c7e11e",
   "metadata": {},
   "outputs": [
    {
     "name": "stdout",
     "output_type": "stream",
     "text": [
      "20.085536923187668\n",
      "0.0024787521766663585\n"
     ]
    }
   ],
   "source": [
    "#use the exp functions\n",
    "print(math.exp(x))\n",
    "print(math.exp(y))"
   ]
  },
  {
   "cell_type": "code",
   "execution_count": 13,
   "id": "4f010c3e-3137-42a4-8909-4ad80140b3d5",
   "metadata": {},
   "outputs": [
    {
     "name": "stdout",
     "output_type": "stream",
     "text": [
      "1.0986122886681098\n",
      "1.791759469228055\n"
     ]
    }
   ],
   "source": [
    "#log base e\n",
    "print(math.log(x))\n",
    "#since y is <0 I use the absolute value\n",
    "print(math.log(abs(y)))"
   ]
  },
  {
   "cell_type": "code",
   "execution_count": 14,
   "id": "a4e4932a-5226-4831-b526-85cf04b87d83",
   "metadata": {},
   "outputs": [
    {
     "name": "stdout",
     "output_type": "stream",
     "text": [
      "1.5849625007211563\n",
      "1.584962500721156\n"
     ]
    }
   ],
   "source": [
    "#log base 2\n",
    "print(math.log(x,2))\n",
    "print(math.log2(x))"
   ]
  },
  {
   "cell_type": "code",
   "execution_count": 15,
   "id": "520e067f-d8d4-45b6-801d-033317f37bb4",
   "metadata": {},
   "outputs": [
    {
     "name": "stdout",
     "output_type": "stream",
     "text": [
      "0.7781512503836435\n",
      "0.7781512503836436\n"
     ]
    }
   ],
   "source": [
    "#log base 10\n",
    "print(math.log(abs(y),10))\n",
    "print(math.log10(abs(y)))"
   ]
  },
  {
   "cell_type": "code",
   "execution_count": 16,
   "id": "5e7b018a-c8c6-4fe8-9bc5-beb49f70396e",
   "metadata": {},
   "outputs": [
    {
     "name": "stdout",
     "output_type": "stream",
     "text": [
      "9.0\n",
      "0.0013717421124828531\n",
      "\n",
      "36.0\n",
      "-216.0\n"
     ]
    }
   ],
   "source": [
    "#power to 2 and power to each other\n",
    "print(math.pow(x,2))\n",
    "print(math.pow(x,y))\n",
    "print()\n",
    "print(math.pow(y,2))\n",
    "print(math.pow(y,x))"
   ]
  },
  {
   "cell_type": "code",
   "execution_count": 17,
   "id": "5e785665-a79b-4c6d-af49-fa3389e70ffb",
   "metadata": {},
   "outputs": [
    {
     "name": "stdout",
     "output_type": "stream",
     "text": [
      "1.7320508075688772\n",
      "2.449489742783178\n"
     ]
    }
   ],
   "source": [
    "#square root\n",
    "print(math.sqrt(x))\n",
    "#since y is <0 I use the absolute value\n",
    "print(math.sqrt(abs(y)))"
   ]
  },
  {
   "cell_type": "code",
   "execution_count": 18,
   "id": "48c7e25c-62ed-4d14-a302-f054ae1d34f4",
   "metadata": {},
   "outputs": [
    {
     "name": "stdout",
     "output_type": "stream",
     "text": [
      "3.141592653589793\n",
      "2.718281828459045\n",
      "6.283185307179586\n"
     ]
    }
   ],
   "source": [
    "#print the constants\n",
    "print(math.pi)\n",
    "print(math.e)\n",
    "print(math.tau)"
   ]
  },
  {
   "cell_type": "code",
   "execution_count": 19,
   "id": "67cf03cd-f979-4491-96a3-9bba2571850c",
   "metadata": {},
   "outputs": [
    {
     "name": "stdout",
     "output_type": "stream",
     "text": [
      "0.1411200080598672\n"
     ]
    }
   ],
   "source": [
    "#calculating the sinus\n",
    "print(math.sin(x))"
   ]
  },
  {
   "cell_type": "markdown",
   "id": "87a37693-93f6-497c-b79f-6b676453a46f",
   "metadata": {},
   "source": [
    "## Exercise 51 - Random generator\n",
    "Write a program that generates several random numbers. Define the following: \n",
    "\n",
    "- three random integers from different ranges   \n",
    "- a number random floats between 0 and 1\n",
    "- a number random floats between 0 and 10   \n",
    "- at least two mu and two sigma values to create normal distributions.   \n",
    "  What happens if you switch these last values?\n",
    "\n",
    "Last but not least put all generated values in a list, print the list, shuffle the list and print it again."
   ]
  },
  {
   "cell_type": "code",
   "execution_count": 20,
   "id": "eda2bff1-661c-4882-8d84-7c35717536d4",
   "metadata": {},
   "outputs": [
    {
     "name": "stdout",
     "output_type": "stream",
     "text": [
      "[8, 56, 30, 0.8012789636747262, 8.733432713001616, 0.7525653744817509, 0.8797840744388912, 4.967110669440437, 6.091646776585714]\n",
      "[6.091646776585714, 0.8797840744388912, 4.967110669440437, 8, 8.733432713001616, 0.8012789636747262, 30, 0.7525653744817509, 56]\n",
      "\n",
      "[6.091646776585714, 0.8797840744388912, 4.967110669440437, 8, 8.733432713001616, 0.8012789636747262, 30, 0.7525653744817509, 56]\n",
      "[6.091646776585714, 0.8012789636747262, 0.7525653744817509, 30, 56, 8.733432713001616, 8, 0.8797840744388912, 4.967110669440437]\n",
      "[6.091646776585714, 0.8797840744388912, 4.967110669440437, 8, 8.733432713001616, 0.8012789636747262, 30, 0.7525653744817509, 56]\n"
     ]
    }
   ],
   "source": [
    "import random\n",
    "\n",
    "#creating my random numbers as specified above\n",
    "rand_int1 = random.randint(0,10)\n",
    "rand_int2 = random.randrange(1,101)\n",
    "rand_int3 = random.randrange(5,50,5)\n",
    "rand_flt1 = random.random()\n",
    "rand_flt2 = random.random()*10\n",
    "rand_dist1a = random.gauss(1,0.2)\n",
    "rand_dist1b = random.gauss(0.2,1)\n",
    "rand_dist2a = random.gauss(5,0.05)\n",
    "rand_dist2b = random.gauss(0.05,5)\n",
    "\n",
    "#creating my result list\n",
    "rand_list = [rand_int1,rand_int2,rand_int3,rand_flt1, rand_flt2,rand_dist1a,rand_dist1b,rand_dist2a,rand_dist2b]\n",
    "\n",
    "#printing, shuffling (in place!!) and printing my result list again:\n",
    "print(rand_list)\n",
    "random.shuffle(rand_list)\n",
    "print(rand_list)\n",
    "\n",
    "#cosmetic print()\n",
    "print()\n",
    "\n",
    "#if I want to save the shuffled list in a new variable:\n",
    "print(rand_list)\n",
    "rand_list3 = random.sample(rand_list, k=len(rand_list))\n",
    "print(rand_list3)\n",
    "print(rand_list)"
   ]
  },
  {
   "cell_type": "code",
   "execution_count": 21,
   "id": "9e2ed650-e331-4654-a501-bdbed3e5dda2",
   "metadata": {},
   "outputs": [
    {
     "name": "stdout",
     "output_type": "stream",
     "text": [
      "1.0890164889252405\n",
      "-0.6461018679084956\n"
     ]
    }
   ],
   "source": [
    "#Note on the normal distribution:\n",
    "#mu = 1, sigma = 0.2: number close to 1\n",
    "print(random.gauss(1,0.2))\n",
    "\n",
    "#mu = 0.2, sigma = 1: number far from 0.2\n",
    "print(random.gauss(0.2,1))"
   ]
  },
  {
   "cell_type": "code",
   "execution_count": null,
   "id": "710048e1-432d-466e-829d-2bf1b420881f",
   "metadata": {},
   "outputs": [],
   "source": []
  }
 ],
 "metadata": {
  "kernelspec": {
   "display_name": "Python 3 (ipykernel)",
   "language": "python",
   "name": "python3"
  },
  "language_info": {
   "codemirror_mode": {
    "name": "ipython",
    "version": 3
   },
   "file_extension": ".py",
   "mimetype": "text/x-python",
   "name": "python",
   "nbconvert_exporter": "python",
   "pygments_lexer": "ipython3",
   "version": "3.12.2"
  }
 },
 "nbformat": 4,
 "nbformat_minor": 5
}
