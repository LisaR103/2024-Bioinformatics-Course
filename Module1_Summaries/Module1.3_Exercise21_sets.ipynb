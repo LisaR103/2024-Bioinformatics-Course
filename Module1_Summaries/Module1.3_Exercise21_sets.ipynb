{
 "cells": [
  {
   "cell_type": "markdown",
   "id": "32adcb2c-c6cb-47ca-87bf-5164c6e69ea8",
   "metadata": {},
   "source": [
    "# Module 1.3 Sets\n",
    "\n",
    "## Tabel of content\n",
    "\n",
    "1. [Tabel of content](#Tabel-of-content)\n",
    "2. [Sets](#Sets)\n",
    "    1. [Creating a set](#Creating-a-set)\n",
    "    2. [Changing a list into a set](#Changing-a-list-into-a-set)\n",
    "    3. [Changing a tuple into a set](#Changing-a-tuple-into-a-set)\n",
    "3. [Exercises](#Exercises)\n",
    "    1. [Exercise 21 - Working with sets](#Exercise-21---Working-with-sets)"
   ]
  },
  {
   "cell_type": "markdown",
   "id": "7a580dc5-620e-4ece-947c-fe55978e9c2e",
   "metadata": {},
   "source": [
    "# Sets"
   ]
  },
  {
   "cell_type": "markdown",
   "id": "70d4ac9d-ef53-4f56-bf20-e0e59cb6a293",
   "metadata": {},
   "source": [
    "Sets are unordered, unchangeable and can't be indexed\n",
    "\n",
    ">the order of the values can change depending on the calls of our program\n",
    "\n",
    ">you can't change the elements, but you can add or remove elements\n",
    "\n",
    ">we are unabel to access individual elements\n",
    "\n",
    "Sets don't allow duplicate values!!! -> converting a list to set and back removes ALL duplicates\n",
    "\n",
    "sets accept tuples as value but NOT lists, NOT dictionaries. The tuples are seen as an entity entirely as themselves\n",
    "\n",
    "If a list contains other data structures it may not be possible to turn it into a set"
   ]
  },
  {
   "cell_type": "markdown",
   "id": "649133ed-0cbd-407c-9835-1a5b5f5757dc",
   "metadata": {},
   "source": [
    "## Creating a set"
   ]
  },
  {
   "cell_type": "markdown",
   "id": "cbde5beb-ae0a-435c-9510-ceb8c1ded1bc",
   "metadata": {},
   "source": [
    "a set is created using {} like the dictionary, the difference is that the values don't have keys and I don't know where my values will end up.\n",
    "Exception: sets created using range, they are always in the \"right\" order\n",
    "\n",
    "you CANNOT create an EMPTY set"
   ]
  },
  {
   "cell_type": "code",
   "execution_count": 1,
   "id": "2b71d8ed-0dc1-470f-98de-202cd79ec5f9",
   "metadata": {},
   "outputs": [
    {
     "name": "stdout",
     "output_type": "stream",
     "text": [
      "<class 'set'>\n",
      "{'Hello', 'You', 'World', 'Are', 'How'}\n"
     ]
    }
   ],
   "source": [
    "set1 = {\"Hello\",\"World\",\"How\",\"Are\",\"You\"}\n",
    "print(type(set1))\n",
    "print(set1)"
   ]
  },
  {
   "cell_type": "code",
   "execution_count": 2,
   "id": "e35a3040-01e8-4b34-ab52-00d1a86d246f",
   "metadata": {},
   "outputs": [
    {
     "name": "stdout",
     "output_type": "stream",
     "text": [
      "<class 'set'>\n",
      "{0, 1, 2, 3, 4, 5, 6, 7, 8, 9, 10, 11, 12, 13, 14, 15, 16, 17, 18, 19}\n"
     ]
    }
   ],
   "source": [
    "set2 = set(range(20))\n",
    "print(type(set2))\n",
    "print(set2)"
   ]
  },
  {
   "cell_type": "code",
   "execution_count": 3,
   "id": "b85e5aa2-109c-49cc-8eb8-e8463203cb30",
   "metadata": {},
   "outputs": [
    {
     "name": "stdout",
     "output_type": "stream",
     "text": [
      "{(5, 6, 7), 5, (5, 6), 6}\n"
     ]
    }
   ],
   "source": [
    "set_tub = {5,6,(5,6),(5,6,7),(5,6)}\n",
    "print(set_tub)"
   ]
  },
  {
   "cell_type": "markdown",
   "id": "4921439b-5199-4936-8263-74e3f5fd87c2",
   "metadata": {},
   "source": [
    "## Changing a list into a set"
   ]
  },
  {
   "cell_type": "code",
   "execution_count": 4,
   "id": "8458f063-947c-485d-b5d6-3b501f9f5fbf",
   "metadata": {},
   "outputs": [
    {
     "name": "stdout",
     "output_type": "stream",
     "text": [
      "[1, 2, 3, 3, 4, 5, 5, 2, 3, 6, 6, 5, 8]\n",
      "{1, 2, 3, 4, 5, 6, 8}\n"
     ]
    }
   ],
   "source": [
    "list3 = [1,2,3,3,4,5,5,2,3,6,6,5,8]\n",
    "print(list3)\n",
    "set3 = set(list3)\n",
    "print(set3)"
   ]
  },
  {
   "cell_type": "markdown",
   "id": "2af5e3a9-c585-43f9-ad1a-0b8a5bd17fd9",
   "metadata": {},
   "source": [
    "> Changing a list to a set and back removes ALL duplicates. This can be done in a single line\n",
    ">\n",
    "> They are also ordered ascending at the same time"
   ]
  },
  {
   "cell_type": "code",
   "execution_count": 5,
   "id": "e536d1eb-9c06-4ab3-8e36-439a0adc71a6",
   "metadata": {},
   "outputs": [
    {
     "name": "stdout",
     "output_type": "stream",
     "text": [
      "[1, 2, 3, 3, 4, 5, 5, 2, 3, 6, 6, 5, 8]\n",
      "[1, 2, 3, 4, 5, 6, 8]\n"
     ]
    }
   ],
   "source": [
    "list3 = [1,2,3,3,4,5,5,2,3,6,6,5,8]\n",
    "print(list3)\n",
    "list3_new = list(set(list3))\n",
    "print(list3_new)"
   ]
  },
  {
   "cell_type": "code",
   "execution_count": 6,
   "id": "b82344e1-f040-49e9-97d7-c4c5e1acddd2",
   "metadata": {},
   "outputs": [
    {
     "name": "stdout",
     "output_type": "stream",
     "text": [
      "['orange', 'orange', 'apple', 'banana', 'orange', 'apple']\n",
      "['orange', 'banana', 'apple']\n"
     ]
    }
   ],
   "source": [
    "list4 = [\"orange\",\"orange\",\"apple\",\"banana\",\"orange\",\"apple\"]\n",
    "print(list4)\n",
    "list4_new = list(set(list4))\n",
    "print(list4_new)"
   ]
  },
  {
   "cell_type": "markdown",
   "id": "34d95e29-23eb-4666-9152-a94d54f38d03",
   "metadata": {},
   "source": [
    "## Changing a tuple into a set"
   ]
  },
  {
   "cell_type": "code",
   "execution_count": 7,
   "id": "29979375-f518-4875-ad95-cf8f7f6a4bbe",
   "metadata": {},
   "outputs": [
    {
     "name": "stdout",
     "output_type": "stream",
     "text": [
      "[8, 1, 2, 3, 3, 4, 5, 5, 2, 3, 6, 6, 5, 8]\n",
      "{1, 2, 3, 4, 5, 6, 8}\n"
     ]
    }
   ],
   "source": [
    "tup5 = [8,1,2,3,3,4,5,5,2,3,6,6,5,8]\n",
    "print(tup5)\n",
    "set5 = set(tup5)\n",
    "print(set5)"
   ]
  },
  {
   "cell_type": "markdown",
   "id": "806fe0d0-c6d9-41e1-824d-cbcc652f563a",
   "metadata": {},
   "source": [
    "# Exercises"
   ]
  },
  {
   "cell_type": "markdown",
   "id": "056f8bba-ba97-4ed7-87d4-c8ada11bc3b5",
   "metadata": {},
   "source": [
    "## Exercise 21 - Working with sets"
   ]
  },
  {
   "cell_type": "markdown",
   "id": "ea4e59dc-263e-4a4e-a12f-685414cd3dc4",
   "metadata": {},
   "source": [
    "Write a program that creates four sets of different lengths. Print out the sets."
   ]
  },
  {
   "cell_type": "code",
   "execution_count": 8,
   "id": "3aa102e9-3501-475a-aa7f-755aaf6bb6b7",
   "metadata": {},
   "outputs": [
    {
     "name": "stdout",
     "output_type": "stream",
     "text": [
      "set1 <class 'set'> {33, 66, 22, 55, 88, 44, 77}\n",
      "set2 <class 'set'> {'Hello', 'is', 'February', 'Today', 14}\n",
      "set3 <class 'set'> {False, True}\n",
      "set4 <class 'set'> {2.6, 36, -2, -9.65}\n"
     ]
    }
   ],
   "source": [
    "set1 = {22,33,44,55,66,77,88}\n",
    "set2 = {\"Hello\",\"Today\",\"is\",\"February\",14}\n",
    "set3 = {True,False}\n",
    "set4 = {-2,36,2.6,-9.65}\n",
    "\n",
    "print(\"set1\", type(set1), set1)\n",
    "print(\"set2\", type(set2), set2)\n",
    "print(\"set3\", type(set3), set3)\n",
    "print(\"set4\", type(set4), set4)"
   ]
  },
  {
   "cell_type": "code",
   "execution_count": null,
   "id": "f392b319-2343-4f2c-97ea-674bfb51edc3",
   "metadata": {},
   "outputs": [],
   "source": []
  },
  {
   "cell_type": "code",
   "execution_count": null,
   "id": "032393dd-ac7e-43aa-9574-29d06329c26f",
   "metadata": {},
   "outputs": [],
   "source": []
  }
 ],
 "metadata": {
  "kernelspec": {
   "display_name": "Python 3 (ipykernel)",
   "language": "python",
   "name": "python3"
  },
  "language_info": {
   "codemirror_mode": {
    "name": "ipython",
    "version": 3
   },
   "file_extension": ".py",
   "mimetype": "text/x-python",
   "name": "python",
   "nbconvert_exporter": "python",
   "pygments_lexer": "ipython3",
   "version": "3.12.2"
  }
 },
 "nbformat": 4,
 "nbformat_minor": 5
}
