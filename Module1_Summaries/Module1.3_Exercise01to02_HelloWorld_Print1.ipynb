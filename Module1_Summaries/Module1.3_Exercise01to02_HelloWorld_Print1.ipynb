{
 "cells": [
  {
   "cell_type": "markdown",
   "id": "9dab1e23-6b0e-4f2d-b67f-5645b799a71b",
   "metadata": {},
   "source": [
    "# print and Hello World"
   ]
  },
  {
   "cell_type": "markdown",
   "id": "0e913e84-35c5-4413-aa93-161fef034b7a",
   "metadata": {},
   "source": [
    "## Table of content\n",
    "1. [print()](#print)\n",
    "2. [Hello World](#helloworld)\n",
    "3. [Exercises](#exercises)\n",
    "   1. [Exercise 1 - Roasting a Steak](#exercise1)\n",
    "   2. [Exercise 2 - Simple Printing](#exercise2)"
   ]
  },
  {
   "cell_type": "markdown",
   "id": "9f268626-3b3b-4d8e-a97b-5efd8a3281b4",
   "metadata": {},
   "source": [
    "# print() <a name=\"print\"></a>"
   ]
  },
  {
   "cell_type": "markdown",
   "id": "38d2b6e4-300c-45fc-82c8-deeb58939584",
   "metadata": {},
   "source": [
    "Some general ideas:\n",
    "\n",
    "An output is only generated when asked for it, e.g. with print  \n",
    "All outputs are put directly underneath each other, for better readability it is sometimes useful to add an emtpy line by adding an empty `print()`  \n",
    "Add `print()` arguments to explain what the output you generated is  \n",
    "Try not to make lines longer than 79 characters for better readability, sometimes this is impossible   \n",
    "All arguments for one command have to be put in one line, otherwise they are recognized as something new. Example:\n",
    "\n",
    "    print(\"Hello,  \n",
    "    this is print\")\n",
    "\n",
    "won't work, it needs to be\n",
    "\n",
    "    print(\"Hello, this is print\")\n",
    "\n",
    "If a linebreak is wanted it needs to be added with \\n\n",
    "\n",
    "    print(\"Hello,\\nthis is print\")\n",
    "\n",
    "Always annotate you script!!!   \n",
    "`#`is for single line comments  \n",
    "`'''`is for multiline comments, e.g. at the beginning of a script"
   ]
  },
  {
   "cell_type": "markdown",
   "id": "d4dd51d1-69fa-4763-943e-b8de8c10aac0",
   "metadata": {},
   "source": [
    "# Hello World <a name = \"helloworld\"></a>"
   ]
  },
  {
   "cell_type": "markdown",
   "id": "3f49b39f-f342-4138-8e6a-ce03a8652f66",
   "metadata": {},
   "source": [
    "The first exercise in programming is always \"Hello World\""
   ]
  },
  {
   "cell_type": "code",
   "execution_count": 1,
   "id": "0b860260-d8b3-4962-8ef8-3aec210cf00a",
   "metadata": {},
   "outputs": [
    {
     "data": {
      "text/plain": [
       "'\\nHello World - Exercise1\\n\\nCreated by: Lisa Rösch\\n\\nCreated on: 08.02.2024\\n'"
      ]
     },
     "execution_count": 1,
     "metadata": {},
     "output_type": "execute_result"
    }
   ],
   "source": [
    "'''\n",
    "Hello World - Exercise1\n",
    "\n",
    "Created by: Lisa Rösch\n",
    "\n",
    "Created on: 08.02.2024\n",
    "'''\n",
    "\n",
    "#that was a multiline comment, this is a single line comment\n",
    "#in Jupyter the output of the last statement is printed if no output has been defined in the box!!! This is not normal python console behaviour!!"
   ]
  },
  {
   "cell_type": "code",
   "execution_count": 2,
   "id": "e94c9ed0-b8ea-4828-885a-a95c12636eeb",
   "metadata": {},
   "outputs": [
    {
     "name": "stdout",
     "output_type": "stream",
     "text": [
      "Hello World\n"
     ]
    }
   ],
   "source": [
    "# print Hello World\n",
    "print(\"Hello World\")"
   ]
  },
  {
   "cell_type": "code",
   "execution_count": 3,
   "id": "d727b5c7-54cf-4a4a-934f-4882d633b950",
   "metadata": {},
   "outputs": [
    {
     "name": "stdout",
     "output_type": "stream",
     "text": [
      "Jack and Jill went up a hill\n",
      "to fetch a pail of water;\n",
      "Jack fell down, and broke his crown,\n",
      "and Jill came tumbling after.\n"
     ]
    }
   ],
   "source": [
    "# print a poem\n",
    "print(\"Jack and Jill went up a hill\")\n",
    "print(\"to fetch a pail of water;\")\n",
    "print(\"Jack fell down, and broke his crown,\")\n",
    "print(\"and Jill came tumbling after.\")"
   ]
  },
  {
   "cell_type": "code",
   "execution_count": 4,
   "id": "a069f35b-53be-4e94-a95e-2ef878fa19e0",
   "metadata": {},
   "outputs": [
    {
     "name": "stdout",
     "output_type": "stream",
     "text": [
      "Hello World\n",
      "\n",
      "Jack and Jill went up a hill\n",
      "to fetch a pail of water;\n",
      "Jack fell down, and broke his crown,\n",
      "and Jill came tumbling after.\n"
     ]
    }
   ],
   "source": [
    "# When running a script all outputs are put directly underneath each other. For better readability it is sometimes useful to add an empty `print()`\n",
    "print(\"Hello World\")\n",
    "\n",
    "# Add a line between \"Hello World\" and the poem by adding an emtpy print command\n",
    "print(\"\")\n",
    "\n",
    "## print the poem\n",
    "print(\"Jack and Jill went up a hill\")\n",
    "print(\"to fetch a pail of water;\")\n",
    "print(\"Jack fell down, and broke his crown,\")\n",
    "print(\"and Jill came tumbling after.\")"
   ]
  },
  {
   "cell_type": "code",
   "execution_count": 5,
   "id": "6688c3fe-e352-49fe-b16b-8c4182814663",
   "metadata": {},
   "outputs": [
    {
     "name": "stdout",
     "output_type": "stream",
     "text": [
      "\n",
      "Jack and Jill went up a hill\n",
      "to fetch a pail of water;\n",
      "Jack fell down, and broke his crown,\n",
      "and Jill came tumbling after.\n"
     ]
    }
   ],
   "source": [
    "# printing the poem again, but add linebreaks (\\n) so only one print command is carried out\n",
    "# also adding a linebreak in front for better readability from the first poem\n",
    "print(\"\\nJack and Jill went up a hill\\nto fetch a pail of water;\\nJack fell down, and broke his crown,\\nand Jill came tumbling after.\")\n"
   ]
  },
  {
   "cell_type": "code",
   "execution_count": 6,
   "id": "568da790-8dcb-41aa-a346-3b5e4327f14b",
   "metadata": {},
   "outputs": [
    {
     "name": "stdout",
     "output_type": "stream",
     "text": [
      "Hello World\n",
      "\n",
      "The first poem:\n",
      "Jack and Jill went up a hill\n",
      "to fetch a pail of water;\n",
      "Jack fell down, and broke his crown,\n",
      "and Jill came tumbling after.\n",
      "\n",
      "The second poem:\n",
      "Jack and Jill went up a hill\n",
      "to fetch a pail of water;\n",
      "Jack fell down, and broke his crown,\n",
      "and Jill came tumbling after.\n"
     ]
    }
   ],
   "source": [
    "#If everything I did above is put in a single python script, the output will look like the following\n",
    "'''\n",
    "Hello World - Exercise1\n",
    "\n",
    "Created by: Lisa Rösch\n",
    "\n",
    "Created on: 08.02.2024\n",
    "'''\n",
    "\n",
    "#that was a multiline comment, this is a single line comment\n",
    "\n",
    "# print Hello World\n",
    "print(\"Hello World\")\n",
    "\n",
    "# Add a line between \"Hello World\" and the poem by adding an emtpy print command\n",
    "print(\"\")\n",
    "\n",
    "## print the poem\n",
    "print(\"The first poem:\")\n",
    "print(\"Jack and Jill went up a hill\")\n",
    "print(\"to fetch a pail of water;\")\n",
    "print(\"Jack fell down, and broke his crown,\")\n",
    "print(\"and Jill came tumbling after.\")\n",
    "\n",
    "# printing the poem again, but add linebreaks (\\n) so only one print command is carried out\n",
    "# also adding a linebreak in front for better readability from the first poem\n",
    "print(\"\\nThe second poem:\\nJack and Jill went up a hill\\nto fetch a pail of water;\\nJack fell down, and broke his crown,\\nand Jill came tumbling after.\")\n"
   ]
  },
  {
   "cell_type": "markdown",
   "id": "2ac58b4b-4e0f-4c4e-854f-86bfd3dbf9c3",
   "metadata": {},
   "source": [
    "# Exercises <a name =\"exercises\"></a>"
   ]
  },
  {
   "cell_type": "markdown",
   "id": "155fba41-23a9-4944-bf6c-5bd74237f36a",
   "metadata": {},
   "source": [
    "## Exercise 1 - Roasting a Steak <a name =\"exercise1\"></a>"
   ]
  },
  {
   "cell_type": "markdown",
   "id": "03f951ab-a44e-4503-9071-93f48e3707a0",
   "metadata": {},
   "source": [
    "Write a Guide for a Computer to roast a steak. Follow the Example we had in the course for\n",
    "baking a Cake. You need to make sure that you have a Pan, that you have oil in your Pan, that\n",
    "the fire of the Stove is on and you have to flip over your Steak after a specific time. Last but\n",
    "not least your steak has to rest for 2 Minutes before serving. Don’t include any other questions\n",
    "or problems in this process aside of the ones mentioned in the text."
   ]
  },
  {
   "cell_type": "markdown",
   "id": "50d37bee-ac08-4eef-baeb-becec35aa9b9",
   "metadata": {},
   "source": [
    "Do I have a pan?  \n",
    "  yes: go on  \n",
    "  no: get a pan  \n",
    "Is there oil in the pan?   \n",
    "  yes go on  \n",
    "  no: add oil  \n",
    "Roast the steak for 5 min   \n",
    "Flip the steak   \n",
    "roast the steak for 5 min  \n",
    "take the steak count  \n",
    "let the steak rest for 2 min  \n",
    "serve the steak  "
   ]
  },
  {
   "cell_type": "markdown",
   "id": "49892c63-edd8-4f9d-beb9-24e3734f3b5c",
   "metadata": {},
   "source": [
    "## Exercise 2 - Simple printing <a name = \"exercise2\"></a>"
   ]
  },
  {
   "cell_type": "markdown",
   "id": "0d634f6a-61e9-4d06-a1a7-9ef97bdf117d",
   "metadata": {},
   "source": [
    "Write a program that prints out at least 5 of the following:\n",
    "- Your full name\n",
    "- Your birthday\n",
    "- Your study\n",
    "- A simple sentence\n",
    "- The shout “STOP!!!”\n",
    "- The name of this course"
   ]
  },
  {
   "cell_type": "code",
   "execution_count": 7,
   "id": "b35134e4-eff6-47fe-87b8-992bbad61d4f",
   "metadata": {},
   "outputs": [
    {
     "name": "stdout",
     "output_type": "stream",
     "text": [
      "Lisa Runa Rösch\n",
      "10.03.1990\n",
      "Biology\n",
      "I am learning how to programm in Python\n",
      "STOP!!\n",
      "ABI-2024-01\n",
      "\"STOP!!\"\n"
     ]
    }
   ],
   "source": [
    "print(\"Lisa Runa Rösch\")\n",
    "print(\"10.03.1990\")\n",
    "print(\"Biology\")\n",
    "print(\"I am learning how to programm in Python\")\n",
    "print(\"STOP!!\")\n",
    "print(\"ABI-2024-01\")\n",
    "\n",
    "#if you want tot add the \"\" to Stop add \\ as escape character (it escapes the use of \" on the functinon)\n",
    "print(\"\\\"STOP!!\\\"\")"
   ]
  },
  {
   "cell_type": "code",
   "execution_count": null,
   "id": "d34efa0b-4553-438e-a1d5-c4083710ad1f",
   "metadata": {},
   "outputs": [],
   "source": []
  }
 ],
 "metadata": {
  "kernelspec": {
   "display_name": "Python 3 (ipykernel)",
   "language": "python",
   "name": "python3"
  },
  "language_info": {
   "codemirror_mode": {
    "name": "ipython",
    "version": 3
   },
   "file_extension": ".py",
   "mimetype": "text/x-python",
   "name": "python",
   "nbconvert_exporter": "python",
   "pygments_lexer": "ipython3",
   "version": "3.12.2"
  }
 },
 "nbformat": 4,
 "nbformat_minor": 5
}
