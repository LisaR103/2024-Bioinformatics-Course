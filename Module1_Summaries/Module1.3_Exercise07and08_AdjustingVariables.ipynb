{
 "cells": [
  {
   "cell_type": "markdown",
   "id": "79aad995-e89e-4e89-a445-34998727e74d",
   "metadata": {},
   "source": [
    "# Module 1.3 Adjusting variables\n",
    "\n",
    "## Table of content\n",
    "\n",
    "1. [Adjusting variables](#Adjusting-variables)\n",
    "   1. [Mathematical operators in python](#Mathematical-operators-in-python)\n",
    "   2. [Adjusting variables](#Adjusting-variables)\n",
    "      - [Shortcuts](#Shortcuts)\n",
    "\n",
    "[Exercises](#Exercises)\n",
    "1. [Exercise 7 - Math operations](#Exercise-7---Math-operations)\n",
    "2. [Exercise 8 - Math operations](#Exercise-8---Using-shortcuts)"
   ]
  },
  {
   "cell_type": "markdown",
   "id": "43615c79-6945-42b3-8f6c-0cbd519707be",
   "metadata": {},
   "source": [
    "# Adjusting variables"
   ]
  },
  {
   "cell_type": "markdown",
   "id": "d6b7f204-e5d4-42e2-9e79-4a432df451d6",
   "metadata": {},
   "source": [
    "## Mathematical operators in python\n",
    "\n",
    "Addition `+`  \n",
    "Substraction `-`  \n",
    "Multiplication `*`  \n",
    "Division`/`  \n",
    "Integer Divison `//`   \n",
    "Power `**`  \n",
    "\n",
    "Careful!! `^`is equal to `+`not `**`\n",
    "\n",
    "Division `/` always returns a float, if at least one float is involved the result is a float, otherwise integers stay integers"
   ]
  },
  {
   "cell_type": "code",
   "execution_count": 4,
   "id": "db8c78f7-6061-4e53-9be1-2074620f3af7",
   "metadata": {},
   "outputs": [
    {
     "name": "stdout",
     "output_type": "stream",
     "text": [
      "5 + 5 = 10\n",
      "5 - 5 = 0\n",
      "5 * 5 = 25\n",
      "15 / 5 = 3.0\n",
      "15 // 2 = 7 is an integer division and cuts after the decimal\n",
      "5 ** 5 = 3125\n"
     ]
    }
   ],
   "source": [
    "print(f\"5 + 5 = {5 + 5}\")\n",
    "print(f\"5 - 5 = {5 - 5}\")\n",
    "print(f\"5 * 5 = {5 * 5}\")\n",
    "print(f\"15 / 5 = {15 / 5}\")\n",
    "print(f\"15 // 2 = {15 // 2} is an integer division and cuts after the decimal\")\n",
    "print(f\"5 ** 5 = {5 ** 5}\")"
   ]
  },
  {
   "cell_type": "code",
   "execution_count": 5,
   "id": "9efaaf58-97a0-4cd8-a386-d7db203f1eb9",
   "metadata": {},
   "outputs": [
    {
     "name": "stdout",
     "output_type": "stream",
     "text": [
      "CAREFUL ^ is equal to + power to is **\n",
      "5^2 results in 7\n",
      "5**2 results in 25\n"
     ]
    }
   ],
   "source": [
    "print(\"CAREFUL ^ is equal to + power to is **\")\n",
    "print(f\"5^2 results in {5^2}\")\n",
    "print(f\"5**2 results in {5**2}\")"
   ]
  },
  {
   "cell_type": "markdown",
   "id": "0bccb063-5092-4d3c-8ce9-40288969dfb4",
   "metadata": {},
   "source": [
    "## Adjusting variables"
   ]
  },
  {
   "cell_type": "markdown",
   "id": "cf9340c8-6dab-4041-b91e-a69aa20b5040",
   "metadata": {},
   "source": [
    "We can assign a result to a variable\n",
    "\n",
    "a = 5 + 10 results in an integer object with the value 15\n",
    "\n",
    "we can also *change* a variable\n",
    "\n",
    "b = a + 1 results in an integer object with value 16"
   ]
  },
  {
   "cell_type": "code",
   "execution_count": 14,
   "id": "6c7b7bc7-e577-44db-89d7-648bb43cc0de",
   "metadata": {},
   "outputs": [
    {
     "name": "stdout",
     "output_type": "stream",
     "text": [
      "15\n",
      "20\n"
     ]
    }
   ],
   "source": [
    "a = 5 + 10\n",
    "b = a + 5\n",
    "print(a)\n",
    "print(b)"
   ]
  },
  {
   "cell_type": "markdown",
   "id": "f333a603-cdd6-4e99-bee7-fc2f4f0258ee",
   "metadata": {},
   "source": [
    "### Shortcuts\n",
    "\n",
    "When changing a variable depending on itself there are shortcuts: `+=`, `-=`, `*=`, `/=`, `//=`, `**`\n",
    "\n",
    "    b = b + 1\n",
    "    b += 1\n",
    "\n",
    "    b = b - a \n",
    "    b -= a\n",
    "\n",
    "    etc.\n",
    "\n",
    "This changes the value of the variable permanently\n",
    "\n",
    "be aware that `/=` turns an integer into a float!"
   ]
  },
  {
   "cell_type": "markdown",
   "id": "a6d99177-d343-4b81-82c1-9eead0ab73f5",
   "metadata": {},
   "source": [
    "# Exercises"
   ]
  },
  {
   "cell_type": "markdown",
   "id": "80c3fe98-f5bb-4e9a-818f-aae7cc8bebba",
   "metadata": {},
   "source": [
    "## Exercise 7 - Math operations\n",
    "\n",
    "Write a program that shows the use of all 6 math functions. It should work with at least four\n",
    "different numbers."
   ]
  },
  {
   "cell_type": "code",
   "execution_count": 15,
   "id": "35dfb7ea-1f22-4727-a592-1db663db3ffc",
   "metadata": {},
   "outputs": [],
   "source": [
    "#define variables\n",
    "var1 = 4\n",
    "var2 = -5\n",
    "var3 = 0.56\n",
    "var4 = -0.876\n",
    "var5 = 700\n",
    "var6 = 2"
   ]
  },
  {
   "cell_type": "code",
   "execution_count": 18,
   "id": "1860f1a2-4c66-4d32-b73f-bca110798833",
   "metadata": {},
   "outputs": [
    {
     "name": "stdout",
     "output_type": "stream",
     "text": [
      "var1 + var2 - 5 = -6\n",
      "4 + -5 - 5 = -6\n"
     ]
    }
   ],
   "source": [
    "#some calculations with the variables\n",
    "print(f\"var1 + var2 - 5 = {var1 + var2 - 5}\")\n",
    "print(var1, \"+\", var2, \"- 5 =\", var1 + var2 - 5)"
   ]
  },
  {
   "cell_type": "code",
   "execution_count": 19,
   "id": "ab21a95e-436d-44f9-af48-44f94a287a0a",
   "metadata": {},
   "outputs": [
    {
     "name": "stdout",
     "output_type": "stream",
     "text": [
      "var1 / var2 * 7 = -5.6000000000000005\n"
     ]
    }
   ],
   "source": [
    "result1 = var1 / var2 * 7\n",
    "print(f\"var1 / var2 * 7 = {result1}\")"
   ]
  },
  {
   "cell_type": "code",
   "execution_count": 21,
   "id": "6c464dd9-4371-4e3b-b7ec-e5daa4be95bb",
   "metadata": {},
   "outputs": [
    {
     "name": "stdout",
     "output_type": "stream",
     "text": [
      "4 * -5 - 5 = -25\n",
      "4 * (-5 - 5) = -40\n",
      "700 / 13 = 53.84615384615385\n",
      "700 // 13 = 53\n",
      "0.56 * -0.876 = -0.49056000000000005\n",
      "4 ** 2 = 16\n",
      "4 ** -5 = 0.0009765625\n"
     ]
    }
   ],
   "source": [
    "print(f\"{var1} * {var2} - 5 = {var1 * var2 - 5}\")\n",
    "print(f\"{var1} * ({var2} - 5) = {var1 * (var2 - 5)}\")\n",
    "print(f\"{var5} / 13 = {var5 / 13}\")\n",
    "print(f\"{var5} // 13 = {var5 // 13}\")\n",
    "print(f\"{var3} * {var4} = {var3 * var4}\")\n",
    "print(f\"{var1} ** {var6} = {var1 ** var6}\")\n",
    "print(f\"{var1} ** {var2} = {var1 ** var2}\")"
   ]
  },
  {
   "cell_type": "code",
   "execution_count": 24,
   "id": "3abc2dd5-dc26-4159-95ee-723816053fca",
   "metadata": {},
   "outputs": [
    {
     "name": "stdout",
     "output_type": "stream",
     "text": [
      "4 ** -5 = 0.0009765625\n",
      "round(4 ** -5, 5) = 0.00098\n"
     ]
    }
   ],
   "source": [
    "#adding round\n",
    "print(f\"{var1} ** {var2} = {var1 ** var2}\")\n",
    "print(f\"round({var1} ** {var2}, 5) = {round(var1 ** var2,5)}\")"
   ]
  },
  {
   "cell_type": "code",
   "execution_count": 25,
   "id": "b94477a4-5872-407e-8b0c-24841303b0e2",
   "metadata": {},
   "outputs": [
    {
     "name": "stdout",
     "output_type": "stream",
     "text": [
      "14.3*12 = 171.60000000000002 instead of 171.6\n"
     ]
    }
   ],
   "source": [
    "#An example for an imprecise result in float because of byte conversions\n",
    "print(f\"14.3*12 = {14.3*12} instead of 171.6\")"
   ]
  },
  {
   "cell_type": "markdown",
   "id": "1c5cde9a-a8bd-454f-8373-6f3f7f179827",
   "metadata": {},
   "source": [
    "## Exercise 8 - Using shortcuts\n",
    "Adjust your program you wrote for Exercise 7 by using the different shortcuts you learned."
   ]
  },
  {
   "cell_type": "code",
   "execution_count": 30,
   "id": "9f0846c0-f30d-4c68-bfc3-144f55a9efb5",
   "metadata": {},
   "outputs": [
    {
     "name": "stdout",
     "output_type": "stream",
     "text": [
      "4\n",
      "var_adj += 1\n",
      "5\n",
      "var_adj -= 10\n",
      "-5\n",
      "var_adj /= var6 (value of 2)\n",
      "-2.5\n",
      "var_adj *= -6\n",
      "15.0\n",
      "var_adj += var_adj\n",
      "30.0\n",
      "var_adj += var_adj\n",
      "60.0\n",
      "var_adj += var_adj\n",
      "180.0\n"
     ]
    }
   ],
   "source": [
    "var_adj = var1\n",
    "print(var_adj)\n",
    "\n",
    "var_adj += 1\n",
    "print(\"var_adj += 1\")\n",
    "print(var_adj)\n",
    "\n",
    "var_adj -= 10\n",
    "print(\"var_adj -= 10\")\n",
    "print(var_adj)\n",
    "\n",
    "var_adj /= var6\n",
    "print(f\"var_adj /= var6 (value of {var6})\")\n",
    "print(var_adj)\n",
    "\n",
    "var_adj *= -6\n",
    "print(\"var_adj *= -6\")\n",
    "print(var_adj)\n",
    "\n",
    "var_adj += var_adj\n",
    "print(\"var_adj += var_adj\")\n",
    "print(var_adj)\n",
    "\n",
    "var_adj += var_adj\n",
    "print(\"var_adj += var_adj\")\n",
    "print(var_adj)\n",
    "\n",
    "var_adj += 2 * var_adj\n",
    "print(\"var_adj += var_adj\")\n",
    "print(var_adj)\n"
   ]
  },
  {
   "cell_type": "code",
   "execution_count": null,
   "id": "b61b10dc-e90a-45ef-b879-482ee3883968",
   "metadata": {},
   "outputs": [],
   "source": []
  }
 ],
 "metadata": {
  "kernelspec": {
   "display_name": "Python 3 (ipykernel)",
   "language": "python",
   "name": "python3"
  },
  "language_info": {
   "codemirror_mode": {
    "name": "ipython",
    "version": 3
   },
   "file_extension": ".py",
   "mimetype": "text/x-python",
   "name": "python",
   "nbconvert_exporter": "python",
   "pygments_lexer": "ipython3",
   "version": "3.12.2"
  }
 },
 "nbformat": 4,
 "nbformat_minor": 5
}
