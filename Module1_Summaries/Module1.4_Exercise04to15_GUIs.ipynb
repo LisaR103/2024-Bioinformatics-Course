{
 "cells": [
  {
   "cell_type": "markdown",
   "id": "a9fd60f7-2d5a-4d5b-b554-ef2e24f9e87f",
   "metadata": {},
   "source": [
    "# Module 1.4 Graphical User Interfaces (GUIs)"
   ]
  },
  {
   "cell_type": "markdown",
   "id": "4066a408-be0a-42e9-8954-bb0e587b623c",
   "metadata": {},
   "source": [
    "## Tabel of Content\n",
    "[Graphical User Interfaces (GUIs)](#Graphical-User-Interfaces-(GUIs))\n",
    "- [helpful websites](#helpful-websites)\n",
    "\n",
    "[tkinter](#tkinter)\n",
    "1. [Constructing a GUI](#Constructing-a-GUI)\n",
    "2. [Fonts](#Fonts)\n",
    "3. [Widgets](#Widgets)\n",
    "   1. [Creating the parent window](#Creating-the-parent-window)\n",
    "   2. [Modifying the appearance of a window](#Modifying-the-appearance-of-a-window)\n",
    "   3. [Attributes](#Attributes)\n",
    "       1. [some standard attributes](#some-standard-attributes)\n",
    "   4. [The Widget Label](#The-Widget-Label)\n",
    "   5. [The Widget Button](#The-Widget-Button)\n",
    "       1. [command() and widget.destroy()](#command()-and-widget.destroy())\n",
    "4. [Getting input from the User](#Getting-input-from-the-User)\n",
    "    1. [VarVars](#VarVars)\n",
    "    2. [Entry fields](#Entry-fields)\n",
    "       - [Excursion: Creating an error message for a wrong user input](#excursionI)\n",
    "    3. [Defined user input](#Defined-user-input)\n",
    "       1. [The option menu](#The-option-menu)\n",
    "       2. [Check buttons](#Check-buttons)\n",
    "       3. [Radio buttons](#Radio-buttons)\n",
    "       4. [Scale bars](#Scale-bars)\n",
    "       5. [Spin boxes](#Spin-boxes)\n",
    "3. [Geometry managers](#Geometry-managers)\n",
    "   1. [The widgets Frame and LabelFrame](#The-widgets-Frame-and-LabelFrame)\n",
    "   2. [pack()](#pack())\n",
    "   3. [grid()](#grid())\n",
    "   4. [place()](#place())\n",
    "\n",
    "[Exercises](#Exercises)\n",
    "1. [Exercise 4 – Creating Labels](#exercise4)\n",
    "2. [Exercise 5 – Using Buttons](#exercise5)\n",
    "3. [Exercise 6 – Entries](#exercise6)\n",
    "4. [Exercise 7 – Options Menu](#exercise7)\n",
    "5. [Exercise 8 - Checks](#exercise8)\n",
    "6. [Exercise 9 - Radio Buttons](#Exercise-9---Radio-Buttons)\n",
    "7. [Exercise 10 - Two Scales](#Exercise-10---Two-Scales)\n",
    "   - [Excursion: Accessing the dimensions of the root window](#Excursion:-Accessing-the-dimensions-of-the-root-window)\n",
    "8. [Exercise 11 - Spin right round](#Exercise-11---Spin-right-round)\n",
    "9. [Exercise 12 - Framing](#Exercise-12---Framing)\n",
    "10. [Exercise 13 - Using Grid](#Exercise-13---Using-Grid)\n",
    "11. [Exercise 14 - Using Place](#Exercise-14---Using-Place)\n",
    "12. [Exercise 15 - LabelFrames](#Exercise-15---LabelFrames)\n"
   ]
  },
  {
   "cell_type": "markdown",
   "id": "a4ebf557-3415-418b-984b-20d286876a15",
   "metadata": {},
   "source": [
    "# Graphical User Interfaces (GUIs) "
   ]
  },
  {
   "cell_type": "markdown",
   "id": "c344a734-44de-43af-923b-fec1bda16362",
   "metadata": {},
   "source": [
    "Many modules exist to create a GUI in Python, e.g.\n",
    "\n",
    "- PyGUI\n",
    "- Wax\n",
    "- Pyforms\n",
    "- PySimpleGUI\n",
    "- Libvg\n",
    "- Kivy\n",
    "- PySide2\n",
    "- wxPython\n",
    "- PyQt5\n",
    "- Tkinter\n",
    "\n",
    "to transfer the programm to an executable file, so anyone can use it without having to have Python installed.\n",
    "\n",
    "    auto-py-to-exe\n",
    "\n",
    "Note that this works only within an operating system -> a file created on MacOS will only work on MacOS. But: the same Python script run on a Windows will create the correct exe file for windows, so I would just need to run the same Python script on two computers"
   ]
  },
  {
   "cell_type": "markdown",
   "id": "80321606-cda5-4d13-84c5-535d6c408fbe",
   "metadata": {},
   "source": [
    "## helpful websites "
   ]
  },
  {
   "cell_type": "markdown",
   "id": "91b68dd5-bfb3-44aa-ba8b-4ac2b545ede0",
   "metadata": {},
   "source": [
    "https://www.tutorialspoint.com/python/python_gui_programming.htm#     \n",
    "https://tkdocs.com/shipman/   \n",
    "colors (case sensitive!):    \n",
    "https://cs111.wellesley.edu/archive/cs111_fall14/public_html/labs/lab12/tkintercolor.html"
   ]
  },
  {
   "cell_type": "markdown",
   "id": "e8fe52c9-5426-4f3e-8ba9-986cd59f266a",
   "metadata": {},
   "source": [
    "# tkinter "
   ]
  },
  {
   "cell_type": "markdown",
   "id": "0c681238-f542-4821-987b-061af49e0b2a",
   "metadata": {},
   "source": [
    "tkinter is part of the standard Python library\n",
    "\n",
    "import syntax:\n",
    "\n",
    "    import tkinter as tk"
   ]
  },
  {
   "cell_type": "markdown",
   "id": "434cc8ce-588f-4db9-8559-5ce20d8bc2d3",
   "metadata": {},
   "source": [
    "## Constructing a GUI "
   ]
  },
  {
   "cell_type": "markdown",
   "id": "bf68f1f8-d620-4174-b075-7a452329b2ec",
   "metadata": {},
   "source": [
    "The general setup of a GUI:\n",
    "\n",
    "1. import the module\n",
    "2. define the root (`Tk`)\n",
    "3. add widgets (`Label`, `Button`,...)\n",
    "4. pack widgets with the help of a geometry manager (`pack`, `grid`, `place`)\n",
    "5. start the GUI (`mainloop`)\n",
    "\n",
    "           import tkinter as tk\n",
    "           root = tk.Tk()\n",
    "           label1 = tk.Label(text = \"This is an Example\")\n",
    "           label1.pack()\n",
    "           root.mainloop()\n",
    "\n",
    "**The script stays at this line of code (**`root.mainloop()`**) for as long as the GUI window is open**"
   ]
  },
  {
   "cell_type": "markdown",
   "id": "eec91106-f36e-418a-865e-cd910bf0fa77",
   "metadata": {},
   "source": [
    "## Fonts "
   ]
  },
  {
   "cell_type": "markdown",
   "id": "9c1e3954-c391-4e10-90e6-609f41006baf",
   "metadata": {},
   "source": [
    "using the module tkinter.font, which needs to be imported separately!\n",
    "\n",
    "    import tkinter.font as font\n",
    "\n",
    "Defining the font wanted:\n",
    "\n",
    "    myFont2 = font.Font(family = \"Times\",weight=\"bold\",size=10,slant = \"italic\" ,underline = 1, overstrike = 1)\n",
    "\n",
    "values are: \n",
    "- `weight` \"normal\" (default) or \"bold\"\n",
    "- `slant` \"roman\" (default) or \"italic\"\n",
    "- `underline` 0 (default) or 1\n",
    "- `overstrike` 0 (default) opr 1 (overstrike = crossed out)\n",
    "\n",
    "Note that changes to the Font type (family) will only work if the operating system knows it (e.g. if you find it in Word)\n",
    "\n",
    "You define your font inside the GUI definition, i.e. after the creation of the default window with `tk.Tk()` \n",
    "- e.g. three font definitions for Header, Buttons, Label\n",
    "\n",
    "individual changes to individual widgets can still be made"
   ]
  },
  {
   "cell_type": "markdown",
   "id": "8d4fc85a-9cd8-48b8-abec-7efbdb85a2db",
   "metadata": {},
   "source": [
    "## Widgets "
   ]
  },
  {
   "cell_type": "markdown",
   "id": "dd02fa2e-e46a-4438-aa76-c9d1371f2574",
   "metadata": {},
   "source": [
    "GUIs are made up of widgets -> graphical components on the screen\n",
    "- buttons\n",
    "- text label\n",
    "- drop down menu\n",
    "- ...\n",
    "\n",
    "Widgets need a parent (= a widget we place it on, at least the window we create in the first step)    \n",
    "Widgets contain attributes defining the look and to some extend the functionality   \n",
    "Syntax:\n",
    "\n",
    "    widget = tk.Widget(parent, attribute1 = value1, ...)\n",
    "\n",
    "`widget` is as variable name that can be freely chosen. `tk.Widget` are defined functions within `tkinter`, e.g.    \n",
    "- tk.Label()\n",
    "- tk.Button()\n",
    "- tk.Entry()\n",
    "- etc.\n",
    "\n"
   ]
  },
  {
   "cell_type": "markdown",
   "id": "07715393-f21e-4f32-be5c-18b7cdd784f7",
   "metadata": {},
   "source": [
    "### Creating the parent window "
   ]
  },
  {
   "cell_type": "markdown",
   "id": "557283b3-47f7-40f1-8dfc-5883a57ede11",
   "metadata": {},
   "source": [
    "the most important widget is the parent window\n",
    "\n",
    "the name is free to choose, but it is mainly called either `root` or `window` \n",
    "\n",
    "    root = tk.Tk()\n",
    "\n",
    "This always has to be the first line of code of the actual GUI on which the other widgets are built in a tree like structure.\n",
    "\n",
    "Good extensions are (see also below):\n",
    "\n",
    "    root = tk.Tk()\n",
    "    root.title (\"Name of my GUI\")\n",
    "    root.geometry (\"500x500\")\n",
    "    root.resizable (False,False)\n",
    "\n",
    "The details can then be adjusted as necessary"
   ]
  },
  {
   "cell_type": "markdown",
   "id": "e2a5ae92-791c-4980-b573-d852a62905eb",
   "metadata": {},
   "source": [
    "### Modifying the appearance of a window"
   ]
  },
  {
   "cell_type": "markdown",
   "id": "ea627ab1-de22-4244-a50a-c4bfd6e3a340",
   "metadata": {},
   "source": [
    "To define the size of a window in pixels, the `geometry` function may be called:\n",
    "\n",
    "    window.geometry(\"100x100\")\n",
    "\n",
    "where x and y are the dimensions of the window in pixels     \n",
    "e.g. `root.geometry(\"500x200\")` makes the parent window a default size of 500 x 200 pixles. The size of the parent window can still be changed manually by the user (unless blocked, see below). This does not *set* the values. If they need to be accessed the root needs to be updated with `root.update()`\n",
    "\n",
    "To stop manual resizing use `resizable` set to False for both dimension (width,height)\n",
    "\n",
    "    window.resizable(False,False)\n",
    "\n",
    "To add a title to a window add `title` \n",
    "\n",
    "    window.title(\"The Name of the Window\")"
   ]
  },
  {
   "cell_type": "markdown",
   "id": "ec99d702-c0f7-42a1-82d3-e564464654cf",
   "metadata": {},
   "source": [
    "### Attributes "
   ]
  },
  {
   "cell_type": "markdown",
   "id": "c31b97b3-15cc-4a0e-8810-d685c55becf5",
   "metadata": {},
   "source": [
    "attributes help us adjust the look of the GUI and Widgets\n",
    "\n",
    "    attributename = attributevalue\n",
    "\n",
    "the name is fixed, some are common to all widgets (standard attributes) some are specific to only certain widgets     \n",
    "the value determines the look (e.g. the color). If not specified default is used\n",
    "\n",
    "to read the value of an attribute (e.g. to use it later down the code) there is a getter method (ony takes a single argument): \n",
    "\n",
    "    widgetname.cget(attributename)\n",
    "\n",
    "changing an attribute after construction (e.g. in a function) using a setter method (takes multiple arguments): \n",
    "\n",
    "    widgetname.config(attributename1 = attributevalue1, attributename2 = attributevalue2)\n",
    "\n",
    "For some attributes with a standard set of values (e.g. `anchor` or `relief`) there are two possible notations for the parameter: `tk.PARAMETER` or `\"parameter\"`, e.g. `anchor = tk.NW` or `anchor = \"nw\"`\n"
   ]
  },
  {
   "cell_type": "markdown",
   "id": "ac817f56-fb57-4523-8dfc-ae6bc7d5915b",
   "metadata": {},
   "source": [
    "#### some standard attributes"
   ]
  },
  {
   "cell_type": "markdown",
   "id": "1273267f-3f4f-45e0-a299-a3af413f006c",
   "metadata": {},
   "source": [
    "- `background` or `b`g: background color of inactive widget\n",
    "- `foreground` or `fg`: color of the foreground (e.g. text) of an inactive widget\n",
    "- `height` and `width`: Height and width in text units (depending on the text size)    \n",
    "  more precise is determining the size during placement with `place()` -> determines size according to pixel\n",
    "- `state`: is the widget clickable or not\n",
    "- `relief`: how does the border of the widget looks (e.g. tk.SUNKEN)"
   ]
  },
  {
   "cell_type": "markdown",
   "id": "fc36662f-dc3a-4c7c-a8c0-cdeede3ed2d6",
   "metadata": {},
   "source": [
    "### The Widget Label "
   ]
  },
  {
   "cell_type": "markdown",
   "id": "a009b5c1-d19d-4505-9b5b-d50cef83446a",
   "metadata": {},
   "source": [
    "Labels display text on a GUI. Most important attribute is `text`\n",
    "\n",
    "    tk.Label(root, text = \"My text\")\n"
   ]
  },
  {
   "cell_type": "code",
   "execution_count": 28,
   "id": "cbcdce4e-9361-4a5a-a9e0-51768321aa01",
   "metadata": {},
   "outputs": [],
   "source": [
    "import tkinter as tk\n",
    "import tkinter.font as font\n",
    "\n",
    "root = tk.Tk()\n",
    "myFont = font.Font(size=30)\n",
    "label1 = tk.Label(root, text =\"Hello World\", background = \"green\", fg = \"yellow\", font=myFont)\n",
    "label1.pack()\n",
    "root.mainloop()"
   ]
  },
  {
   "cell_type": "markdown",
   "id": "1dfd20a8-9758-487e-82d7-525c34beadfc",
   "metadata": {},
   "source": [
    "### The Widget Button "
   ]
  },
  {
   "cell_type": "markdown",
   "id": "4b6a0b2a-d8ad-4810-bf93-824237aea452",
   "metadata": {},
   "source": [
    "if we click the button we want something to happen. This is defined with the attribute `command`, which is also used by many other widgets    \n",
    "\n",
    "    button1 = tk.Button(root, text = \"Click me\", command = root.destroy)\n"
   ]
  },
  {
   "cell_type": "markdown",
   "id": "e45e9e80-ec2a-4553-a7f2-d27368ae8964",
   "metadata": {},
   "source": [
    "#### command() and widget.destroy()"
   ]
  },
  {
   "cell_type": "markdown",
   "id": "bfc62339-6b8c-46a4-98da-ea025fe971ed",
   "metadata": {},
   "source": [
    "`command` gives the function that should run when the button is clicked.\n",
    "- The function should be defined before we create our GUI with tk.Tk()\n",
    "- there can be no parameters needed for the function\n",
    "- You cannot hand back any values from the function, if you need the result you have to run it before\n",
    "- use the function without `()` in the construction of the button\n",
    "- more than one function can be handed over with the help of `lambda`\n",
    "  - `command = lambda: [function1(),function2(),function3()]`\n",
    "  - using lambda also allows to hand over parameters to the functions\n",
    "\n",
    "\n",
    "\n",
    "The intrinsic function `widget.destroy`\n",
    "- `widget.destroy`is used to close a widget. `root.destroy` closes the GUI   \n",
    "- ! It *destroys* the widget, it doesn't just hide it in the background, you cannot get it back"
   ]
  },
  {
   "cell_type": "code",
   "execution_count": 29,
   "id": "d3ec01bb-c177-46fe-8f4a-449e643e7e5a",
   "metadata": {},
   "outputs": [],
   "source": [
    "import tkinter as tk\n",
    "import tkinter.font as font\n",
    "\n",
    "#here i define a simple function to change the original text (\"Hello World!\", defined in the GUI) to new text and back\n",
    "def ChangeText1():\n",
    "    if label1.cget(\"text\") == \"Hello World!\":\n",
    "        label1.config(text=\"I have new Text\",fg=\"red\")\n",
    "    else:\n",
    "        label1.config(text=\"Hello World!\",fg=\"black\")\n",
    "\n",
    "#a small GUI\n",
    "\n",
    "root = tk.Tk()\n",
    "myFont = font.Font(size=30)\n",
    "label1 = tk.Label(root, text =\"Hello World!\", background = \"green\", fg = \"yellow\", font= myFont)\n",
    "button1 = tk.Button(root, text = \"Click me\", command = ChangeText1,bg=\"white\", font= myFont)\n",
    "button2 = tk.Button(root, text = \"Close Window\", command = root.destroy,bg=\"white\", font= myFont)\n",
    "label1.pack()\n",
    "button1.pack()\n",
    "button2.pack()\n",
    "root.mainloop()"
   ]
  },
  {
   "cell_type": "markdown",
   "id": "9083fd15-266d-44b3-829b-ec373a4d1e79",
   "metadata": {},
   "source": [
    "## Getting input from the User "
   ]
  },
  {
   "cell_type": "markdown",
   "id": "e39e46b5-d572-4627-b983-d767560a877b",
   "metadata": {},
   "source": [
    "### VarVars "
   ]
  },
  {
   "cell_type": "markdown",
   "id": "9c139da5-30f9-43df-b618-270376b57f43",
   "metadata": {},
   "source": [
    "To save values/input from the user they have to be saved in VarVars, a specific type of variable in tkinter\n",
    "\n",
    "There are four type of VarVars. \n",
    "\n",
    "- tk.StringVar()\n",
    "- tk.IntVar()\n",
    "- tk.DoubleVar() (=floats)\n",
    "- tk.BooleanVar()\n",
    "\n",
    "Example syntax:\n",
    "\n",
    "    text1 = tk.StringVar()\n",
    "\n",
    "- You have to define the VarVar before the construction of the Widget that uses them\n",
    "- Be careful to choose the correct type of VarVar of you will get a Error. To be safe try to always use strings and convert to numbers later\n",
    "- They don't contain a value when defined, the value will be put in by the user! \n",
    "\n",
    "If you want the variable to contain a default value use the VarVar setter method `set()`:\n",
    "\n",
    "    text1.set(\"This is text\")\n",
    "\n",
    "To read out the value of a VarVar (e.g. after user input) use the VarVar getter method `get()`:\n",
    "\n",
    "    value_text1 = text1.get()\n",
    "\n",
    "> Note that VarVars and attributes have different getter and setter methods!!     \n",
    "> - VarVars: VarVar1.set() and VarVar1.get()     \n",
    "> - attributes: widget1.config() and widget1.cget()\n",
    "\n"
   ]
  },
  {
   "cell_type": "markdown",
   "id": "d8ed09ff-4a94-44d2-89c8-661e82b785e5",
   "metadata": {},
   "source": [
    "### Entry fields "
   ]
  },
  {
   "cell_type": "markdown",
   "id": "da737a4f-d3a9-47a2-b3d2-64931ab21274",
   "metadata": {},
   "source": [
    "- to be safe use only for text input, as the User can type in anything and the programm would not know how to deal with it. The Programm will always try to make it work, but it might lead to errors. If you need numbers you can convert them to integers or floats later\n",
    "- Entry fields always needs a VarVar associated with it.\n",
    "    - The VarVar can be any type (but string is prefered)\n",
    "    - The appearance of the entry field will change according to type\n",
    "    - The VarVar is called with `textvariable` (even if it's not text but numbers etc)\n",
    "\n",
    "Example Syntax:\n",
    "\n",
    "    input1 = tk.StringVar()\n",
    "    entry1 = tk.Entry(root, textvariable = input1)\n",
    "\n",
    "\n",
    "\n",
    "- `insertbackground` changes the color of the cursor\n",
    "- `show` changes what shows up indepent of input. e.g. `show = \"*\"` hides passwords by only showing `*` instead of the actual characters types. `show = \"\"` shows the actual characters typed (default)"
   ]
  },
  {
   "cell_type": "code",
   "execution_count": 30,
   "id": "f4ed970d-bc80-48b2-b9fe-0d4873c14d75",
   "metadata": {},
   "outputs": [],
   "source": [
    "import tkinter as tk\n",
    "import tkinter.font as font\n",
    "\n",
    "def mydiv():\n",
    "    num1 = inputNo.get()\n",
    "    result = float(num1)/3\n",
    "    label5.config(text=str(result))\n",
    "\n",
    "#creating the Window\n",
    "root = tk.Tk()\n",
    "#Font\n",
    "myFont = font.Font(size=30)\n",
    "inputNo = tk.DoubleVar()\n",
    "entry1 = tk.Entry(root, textvariable= inputNo, font=myFont)\n",
    "label4 = tk.Label(root, text = \"1/3 of your number above is:\", font=myFont)\n",
    "label5 = tk.Label(root, text = \"NA\", font=myFont)\n",
    "button4 = tk.Button(root, text=\"Enter\", command=mydiv, font=myFont)\n",
    "entry1.pack()\n",
    "button4.pack()\n",
    "label4.pack()\n",
    "label5.pack()\n",
    "root.mainloop()"
   ]
  },
  {
   "cell_type": "markdown",
   "id": "b8103a73-8526-41ff-971c-383c762abb6e",
   "metadata": {},
   "source": [
    "#### Excursion: Creating an error message for a wrong user input <a name = \"excursionI\" ></a>"
   ]
  },
  {
   "cell_type": "markdown",
   "id": "b9c8d329-69f0-45a4-bf39-15b57860a914",
   "metadata": {},
   "source": [
    "this can be donw with a try and except block:\n",
    "\n",
    "    try:\n",
    "        number1 = input1.get()\n",
    "        number2 = input2.get()\n",
    "        result = number1 + number2\n",
    "        label1.config(text=result)\n",
    "    except tk.TclError as error:\n",
    "        label1.config(text=error)\n",
    "\n",
    "The Error name is displayed in the Error message if you let the function break once. The error message has to be converted into a variable (here `error`) to get the proper error message"
   ]
  },
  {
   "cell_type": "code",
   "execution_count": 42,
   "id": "33b83684-d449-4973-ab75-8da9bfc99b49",
   "metadata": {},
   "outputs": [],
   "source": [
    "#making an entry field with a DoubleVar that should break in case of string input\n",
    "import tkinter as tk\n",
    "import tkinter.font as font\n",
    "\n",
    "def add_up():\n",
    "    try:\n",
    "        number1 = input1.get()\n",
    "        number2 = input2.get()\n",
    "        result = float(number1) + float(number2)\n",
    "        label1.config(text=str(result))\n",
    "    except tk.TclError as error:\n",
    "         label1.config(text=error)\n",
    "\n",
    "\n",
    "root = tk.Tk()\n",
    "myFont = font.Font(size=30)\n",
    "input1 = tk.DoubleVar()\n",
    "input2 = tk.DoubleVar()\n",
    "entry1 = tk.Entry(root, textvariable=input1, width=33,font=myFont)\n",
    "entry2 = tk.Entry(root, textvariable=input2, width=33,font=myFont)\n",
    "entry1.pack()\n",
    "entry2.pack()\n",
    "button1 = tk.Button(root, text=\"Click Me\", command=add_up, width=30,font=myFont)\n",
    "button1.pack()\n",
    "label1 = tk.Label(root, width=33,font=myFont,bg=\"yellow\",fg=\"black\")\n",
    "label1.pack()\n",
    "root.mainloop()"
   ]
  },
  {
   "cell_type": "markdown",
   "id": "a4e7d952-4965-4ce0-8a44-3eef26137c2d",
   "metadata": {},
   "source": [
    "### Defined user input "
   ]
  },
  {
   "cell_type": "markdown",
   "id": "993f15fd-ab50-4cb7-a45f-9f0e91aefd69",
   "metadata": {},
   "source": [
    "Only allow for specific inputs\n",
    "\n",
    "- option menu -> one of many options from drop down\n",
    "- check buttons -> Boolean values\n",
    "- radiobutton -> one of multiple options in a list\n",
    "- spinboxes -> you click though all the options\n",
    "- vertical and hoizontal scales -> input numerical values from a certain range"
   ]
  },
  {
   "cell_type": "markdown",
   "id": "ffbf4db8-382d-4ced-a268-f5dff2bebe4d",
   "metadata": {},
   "source": [
    "#### The option menu "
   ]
  },
  {
   "cell_type": "markdown",
   "id": "b96334a1-ec1b-45a5-bf3d-7b5cc84badb0",
   "metadata": {},
   "source": [
    "There are two ways to create an optino menu, both require a VarVar, again try to make it into strings\n",
    "\n",
    "**Option1**, writing all options in the widget function:\n",
    "\n",
    "    root = tk.Tk()\n",
    "    var1 = tk.StringVar()\n",
    "    menu1 = tk.OptionMenu(root,var1,\"Option1\",\"Option2\",..,\"OptionX\")\n",
    "    menu1.config (attributesname = attributevalue)\n",
    "\n",
    "Here the order is very important! First the parent, then the VarVar, then all the options\n",
    "\n",
    "**Option2**, writing all the options in a list or a tuple:\n",
    "\n",
    "    colors = [\"blue\",\"snow\"]\n",
    "    root = tk.Tk()\n",
    "    var2 = tk.StringVar()\n",
    "    menu2 = tk.OptionMenu (root, var2, *colors)\n",
    "    menu1.config (attributesname = attributevalue)\n",
    "\n",
    "Here the `*` is very important to enable the programm to \"unpack\" the list. The list can be created before the creation of the GUI or within\n",
    "\n",
    "- Neither option allows for appearance attributes after the options to adjust the look.    \n",
    "  - To modify the appearance of the widget it has to be changed in a second step with `widget.config()`     \n",
    "  - To adjuts the *dropdown* menu indivudually a second `config` is needed: `menu[\"menu\"].config(bg=\"blue\")`\n",
    "- The menu may be associated with a function through `command` that is added after the options/list- Unlike the buttons/radiobuttons/checkbuttons the option menu **hands over a value to the function**. This means that the function that is added after the options/list\n",
    "-    Unlike the buttons/radiobuttons/checkbuttons the option menu*hands over a value to the function**This means that the functions needs to have a parameter in the definition. This parameter takes on the value of the VarVar      "
   ]
  },
  {
   "cell_type": "code",
   "execution_count": 33,
   "id": "5fe92d87-2a6e-4018-8e38-a0a5ca45adc5",
   "metadata": {},
   "outputs": [],
   "source": [
    "import tkinter as tk\n",
    "import tkinter.font as font\n",
    "\n",
    "#create two function which use the VarVars to be selected in the dropdown menu\n",
    "def display_selected():\n",
    "    choice = var1.get()\n",
    "    print(choice)\n",
    "    label1.config(text=choice)\n",
    "\n",
    "def change_bg():\n",
    "    label1.config(bg=var2.get())\n",
    "\n",
    "def ShowChoice(picked_value):\n",
    "    print(picked_value)\n",
    "\n",
    "#create a list\n",
    "colors = [\"blue\", \"red\", \"snow\",\"green\",\"yellow\",\"cyan\",\"khaki\",\"tomato\",\"coral\",\"pale turquoise\"]\n",
    "\n",
    "##create the GUI\n",
    "root = tk.Tk()\n",
    "myFont = font.Font(size=20)\n",
    "#define the window size in pixels\n",
    "root.geometry(\"600x100\")\n",
    "\n",
    "#create the VarVars \n",
    "var1 = tk.StringVar()\n",
    "var2 = tk.StringVar()\n",
    "#preset to first value so we can see the first option\n",
    "var1.set(\"Option 1\")\n",
    "var2.set(colors[0])\n",
    "\n",
    "#create the menu2, configuring has to be in the second line for the drop down menu!!\n",
    "menu = tk.OptionMenu(root,var1,\"Option 1\",\"Option 2\",\"Option 3\")\n",
    "menu.config(font=myFont)\n",
    "\n",
    "menu2 = tk.OptionMenu(root, var2, *colors, command = ShowChoice)\n",
    "menu2.config(font=myFont)\n",
    "\n",
    "#create the labels and buttons\n",
    "label1 = tk.Label(root, text=var1.get(), bg=var2.get(), font=myFont)\n",
    "button2 = tk.Button(root,text=\"Change Color\",command=change_bg,font=myFont)\n",
    "button1 = tk.Button(root,text=\"Change Text\",command=display_selected,font=myFont)\n",
    "\n",
    "#pack everything in the order I want: \n",
    "#first the label in the top (center)\n",
    "label1.pack(side=\"top\")\n",
    "#now underneath on the far left the menu and next to it the button\n",
    "menu.pack(side=\"left\")\n",
    "button1.pack(side=\"left\")\n",
    "#and on the far right the second button and next to it the menu\n",
    "button2.pack(side=\"right\")\n",
    "menu2.pack(side=\"right\")\n",
    "\n",
    "\n",
    "#run the GUI\n",
    "root.mainloop()"
   ]
  },
  {
   "cell_type": "markdown",
   "id": "fa111ed0-980e-46e5-b8ae-600f101296b7",
   "metadata": {},
   "source": [
    "#### Check buttons "
   ]
  },
  {
   "cell_type": "markdown",
   "id": "ab4ceb1c-64f6-43c5-83ec-0337ef630a01",
   "metadata": {},
   "source": [
    "Check buttons make it possible to input Boolean values (True/False)    \n",
    "- They are attributed with a Boolean VarVar    \n",
    "- Every check button needs an individual VarVar, as they can all be ticked independently    \n",
    "- Per default the check button is set to `False`, `True` has to be set\n",
    "- the checkbutton (like any button) can be associated with a command so a function is carried out everytime the status changes\n",
    "\n",
    "Syntax:\n",
    "\n",
    "    bolvar = tk.BooleanVar()\n",
    "    bolvar.set (True)\n",
    "    check1 = tk.Checkbutton(root, text = \"Check Box\", variable = bolvar)"
   ]
  },
  {
   "cell_type": "code",
   "execution_count": 34,
   "id": "548532b7-9952-4b9c-8d9a-8d78d04f2f10",
   "metadata": {},
   "outputs": [
    {
     "name": "stdout",
     "output_type": "stream",
     "text": [
      "value of checkValue is True\n",
      "You're Check Box is activated\n",
      "\n",
      "value of checkValue is True\n",
      "You're Check Box is activated\n",
      "\n"
     ]
    }
   ],
   "source": [
    "import tkinter as tk\n",
    "import tkinter.font as font\n",
    "\n",
    "def Print_Check():\n",
    "    checking = checkValue.get()\n",
    "    if checking == True:\n",
    "        print(f\"value of checkValue is {checking}\")\n",
    "        print(\"You're Check Box is activated\")\n",
    "        print()\n",
    "    else:\n",
    "        print(f\"value of checkValue is {checking}\")\n",
    "        print(\"You're Check Box is not activated\")\n",
    "        print()\n",
    "\n",
    "\n",
    "root = tk.Tk()\n",
    "myFont = font.Font(size=20)\n",
    "root.geometry(\"500x100\")\n",
    "checkValue = tk.BooleanVar()\n",
    "checkValue.set(True)\n",
    "check1 = tk.Checkbutton(root, text=\"Check Box\", variable=checkValue,font=myFont)\n",
    "check1.pack(side=\"left\")\n",
    "button1 = tk.Button(root,text=\"Check your input\",width=80,fg=\"blue\",highlightbackground=\"blue\",command=Print_Check,font=myFont)\n",
    "button1.pack(side=\"right\")\n",
    "root.mainloop()"
   ]
  },
  {
   "cell_type": "markdown",
   "id": "a957263b-4e66-4374-bff2-66c2836c0fa6",
   "metadata": {},
   "source": [
    "#### Radio buttons "
   ]
  },
  {
   "cell_type": "markdown",
   "id": "7c9572a3-9c5c-41a0-a3aa-4337097652b3",
   "metadata": {},
   "source": [
    "Gives multiple True/Flase options \n",
    "- Each option is defined by its own widget\n",
    "- Only *one* option can be active at one time     \n",
    "- the widgets are grouped together by being associated with the same VarVar\n",
    "- the VarVar can be of any type, but needs to fit the input provided later\n",
    "- Radiobuttons can be (but don't have to be) associated with a command, i.e. choosing a value immediately sets of a function. This can be the same or a different one depending on the value.\n",
    "- `indicator = 0`creates a \"button menu\"\n",
    "\n",
    "Syntax:\n",
    "\n",
    "    var = tk.StringVar()\n",
    "    var.set(\"Hello\")\n",
    "    radio1 = tk.Radiobutton (root, text = \"Example Text\", variable = var, value =\"Hello\", command = function1)\n",
    "    radio2 = rk.Radiobutton (root, text = \"Other Text\", variable = var, value = \"World\", command = funcion1)\n",
    "\n",
    "In this Syntax example I preset the value of var with \"Hello\", which corresponds to the value of radio1. This leads to the first button being active when the GUI launches. Without setting this value all would be inactive (i.e. no value is assigned) *but appear active/are selected* until the first choice is made. When I make a choiche (i.e. click a button), the variable is assigned the value of that button. Try to always preset the default value to ensure the program works correctly     \n",
    "Example: If I click radio2 (Described by \"Other text\" in my GUI) the variable var is assigned the value \"World\". If I then print it the output is \"World\". If I then click radio2 (Described by \"Example Text\"), the value of var changes to \"Hello\". I therefore choose between one of the provided number of values for my variable."
   ]
  },
  {
   "cell_type": "code",
   "execution_count": 35,
   "id": "d3ffc292-fbb7-4c92-90a4-f1c9d0719128",
   "metadata": {},
   "outputs": [
    {
     "name": "stdout",
     "output_type": "stream",
     "text": [
      "Perl!\n",
      "Java!\n"
     ]
    }
   ],
   "source": [
    "import tkinter as tk\n",
    "import tkinter.font as font\n",
    "\n",
    "def ShowChoice():\n",
    "    print(var.get())\n",
    "\n",
    "\n",
    "root = tk.Tk()\n",
    "myFont = font.Font(size=20)\n",
    "var = tk.StringVar()\n",
    "var.set(\"Python\")\n",
    "label1 = tk.Label(root, text=\"Pick one of the following\",font=myFont)\n",
    "label1.pack()\n",
    "radio1 = tk.Radiobutton(root,text=\"Python?\",variable=var,value=\"Python!\",command=ShowChoice,font=myFont)\n",
    "radio1.pack(anchor=\"w\")\n",
    "radio2 = tk.Radiobutton(root,text=\"Perl?\",variable=var,value=\"Perl!\",command=ShowChoice,font=myFont)\n",
    "radio2.pack(anchor=\"w\")\n",
    "radio3 = tk.Radiobutton(root,text=\"Java?\",variable=var,value=\"Java!\",command=ShowChoice,font=myFont)\n",
    "radio3.pack(anchor=\"w\")\n",
    "radio4 = tk.Radiobutton(root,text=\"C++?\",variable=var,value=\"C++!\",command=ShowChoice,font=myFont)\n",
    "radio4.pack(anchor=\"w\")\n",
    "root.mainloop()"
   ]
  },
  {
   "cell_type": "markdown",
   "id": "c4ebb3c1-0bcb-4611-ba17-e4aeedff375a",
   "metadata": {},
   "source": [
    "#### Scale bars"
   ]
  },
  {
   "cell_type": "markdown",
   "id": "9eb9751f-b190-495a-9dae-14f584f18936",
   "metadata": {},
   "source": [
    "Scales allow numerical input (either int or float) from a determined range and stepsize     \n",
    "- uses VarVars (IntVar() or DoubleVar())\n",
    "- can be horizontal or vertical\n",
    "\n",
    "Syntax:\n",
    "\n",
    "    v1 = tk.DoubleVar()\n",
    "    scale1 = tk.Scale(root, variable = v1, from_= x,to = y,resolution = z)\n",
    "\n",
    "- `variable` is the VarVar (DoubleVar or IntVar\n",
    "- `from_` is the starting point (included), *careful!* the `_` belongs to the name!!\n",
    "- `to` is the endpoint (included)\n",
    "- `resolution` is the step size, default is 1\n",
    "\n",
    "\n",
    "some further useful attributes\n",
    "- `orient` is the orientation. possible values: `vertical` (default) and `horizontal`\n",
    "- `length` to change the size of the scrollbar\n",
    "  - default: 100 pixels\n",
    "  - it will maximize out at the size of the window, however it will still be the specified size in the background and will increase if the window is increased\n",
    "- `label` will add a label to the scale\n",
    "\n",
    "Further notes:\n",
    "- If you want to associate a scale with *strings* you need to put the strings in a list and use the scale bar (from 0 to len(list)-1 resolution1) to call to the index of your list\n",
    "- Note that if the specified endpoint cannot be reached exactly with the specified step size (e.g. from_ 0 to 100 resolution 5) the scale will go *beyond* the end point to the first instance after it (e.g. 101)\n"
   ]
  },
  {
   "cell_type": "code",
   "execution_count": 36,
   "id": "52d1ebc9-caef-4125-9cff-950bd9e23dfa",
   "metadata": {},
   "outputs": [],
   "source": [
    "import tkinter as tk\n",
    "import tkinter.font as font\n",
    "\n",
    "def show1():\n",
    "    sel = f\"Horizontal Scale Value = {v1.get()}\"\n",
    "    label2.config(text=sel)\n",
    "\n",
    "\n",
    "root = tk.Tk()\n",
    "myFont = font.Font(size=20)\n",
    "root.geometry(\"400x300\")\n",
    "v1 = tk.DoubleVar()\n",
    "scale1 = tk.Scale(root,variable=v1,from_=0.75,to=10,orient=\"horizontal\",font=myFont,resolution=0.5, length=500)\n",
    "label1 = tk.Label(root,text=\"Horizontal Scaler\",font=myFont)\n",
    "button1 = tk.Button(root,text=\"Display Horizontal\",command=show1,bg=\"yellow\",font=myFont)\n",
    "label2 = tk.Label(root,font=myFont)\n",
    "scale1.pack(anchor=\"center\")\n",
    "label1.pack()\n",
    "button1.pack(anchor=\"center\")\n",
    "label2.pack()\n",
    "root.mainloop()\n"
   ]
  },
  {
   "cell_type": "markdown",
   "id": "3b50eb87-4806-4244-a69c-cdede68620c2",
   "metadata": {},
   "source": [
    "#### Spin boxes"
   ]
  },
  {
   "cell_type": "markdown",
   "id": "7c0f5463-c31a-4bf6-878e-69c7882c067a",
   "metadata": {},
   "source": [
    "Spinboxes are *NOT* associated with a VarVar. To access the values use simply `spinbox1.get()` (the spinbox kind of acts like it's own VarVar)\n",
    "\n",
    "There are two ways of putting data in a spin box: a range or a list\n",
    "\n",
    "**Option1**, a range of numerical values:\n",
    "\n",
    "- similar to the scales, but easier to acess the individual values and more compact\n",
    "- default is step size (here called: `increment`) of 1.\n",
    "- The stepsize determines whether the values are integers or floats. Even if you start on a float, if the step size is an integer it converts the starting float to an integer by *cutting of the decimal*. \n",
    "  - You cannot for example go from 0.5 to 10.5 in steps of 1 (even if it's written 1.0), because it converts it to 0 to 10. This would need to be out in a list and read in using Option2\n",
    "- The *number of decimal points* are also dependent on the step size! A start of 0.75 with step size 0.5 is *rounded* to 0.8. Tailing zeros in the step size are ignored (0.50 is still only considered one decimal point)\n",
    "- If the specified endpoint does not fit the increment specified (e.g. from_ 1 to 10 increment 2) the *last step is shortend* to reach the specified endpoint (i.e. 10). When going back the increment size is normal again, so we reach a *different number*. In this example the choices would be (1,3,5,7,9,***10***,**8,6,4,2**,1,3, etc.). *This behaviour is different from scales!!*\n",
    "- **If you have something more complicated than integers, put your values in a list and use Option2**\n",
    "\n",
    "Syntax:\n",
    "\n",
    "     spinbox1 = tk.Spinbox(root, from_ = 0, to = 10, increment = 0.5)\n",
    "\n",
    "**Option2**, a list of values:\n",
    "- this has the advantage that anything, e.g. strings, can be put in\n",
    "- in this case there is *no attribute increment* the list goes throgh one by one\n",
    "\n",
    "Syntax:\n",
    "\n",
    "    list1 = [\"Apple\",\"Banana\"]\n",
    "    spinbox1 = tk.Spinbox (root, values = list1)\n",
    "\n",
    "Further notes\n",
    "- The \"default\" behaviour for the spin box is numbers, i.e. we start at the bottom with the lowest number and go up by clicking the upper arrow, also when going through a list (opposite behaviour to the Menu)\n",
    "- To circle through the list/range in an endless loop: `wrap = True` "
   ]
  },
  {
   "cell_type": "code",
   "execution_count": 37,
   "id": "538ac550-b278-45b9-919e-d57239c745ce",
   "metadata": {},
   "outputs": [],
   "source": [
    "import tkinter as tk\n",
    "import tkinter.font as font\n",
    "import numpy as np\n",
    "\n",
    "def DisplayChoice():\n",
    "    text_out = f\"Current Value: {spinbox.get()}\"\n",
    "    label.configure(text = text_out)\n",
    "\n",
    "\n",
    "root = tk.Tk()\n",
    "myFont = font.Font(size=20)\n",
    "text_values = [\"Apple\", \"Banana\", \"Cabbage\", \"Beans\"]\n",
    "float_values = list(np.arange(0.5,11,1))\n",
    "#spinbox = tk.Spinbox(root, from_ = 0.0, to = 10.0,font=myFont,increment=2)\n",
    "spinbox = tk.Spinbox(root, from_ = 0.75, to = 10,increment = 0.5,command = DisplayChoice,font=myFont)\n",
    "#spinbox = tk.Spinbox(root,values = text_values,command = DisplayChoice,font=myFont)\n",
    "#spinbox = tk.Spinbox(root,values = float_values,command = DisplayChoice,font=myFont)\n",
    "spinbox.pack()\n",
    "text1 = \"Current Value: \" + str(spinbox.get())\n",
    "label = tk.Label(root, text = text1,font=myFont)\n",
    "label.pack()\n",
    "button1 = tk.Button(root, text=\"Display Choice\", command=DisplayChoice,font=myFont)\n",
    "button1.pack()\n",
    "root.mainloop()"
   ]
  },
  {
   "cell_type": "markdown",
   "id": "b2e450c4-5ddc-4a73-942d-17193755deab",
   "metadata": {},
   "source": [
    "## Geometry managers"
   ]
  },
  {
   "cell_type": "markdown",
   "id": "2856a077-858c-4939-9293-2736210b8acc",
   "metadata": {},
   "source": [
    "Geometry managers help place and organize the widgets.     \n",
    "There are three geometry managers in tkinter: `pack`, `grid` and `place`    \n",
    "They are all called with the `.` notation:\n",
    "\n",
    "    widget1.pack()\n",
    "\n",
    "The widgets Frame and LabelFrame help with more complex layouts"
   ]
  },
  {
   "cell_type": "markdown",
   "id": "df7ada17-0650-49cb-943c-ebeca71453c3",
   "metadata": {},
   "source": [
    "### The widgets Frame and LabelFrame"
   ]
  },
  {
   "cell_type": "markdown",
   "id": "5872d48a-3967-4c1a-b37e-3d72b4e28dcc",
   "metadata": {},
   "source": [
    "Frame and LabelFrame can be used to generate complex layouts by acting as parent to other widgets\n",
    "- the frame is placed on the parent (root or other frames)\n",
    "- the frame has to be created before the widgets that are to be placed on it\n",
    "- widgets are placed on the frame\n",
    "- everything that happens to the frame happens to the widgets\n",
    "- frames need to be packed like any other widget as well\n",
    "- the borders of the frames in the final GUI are invisible\n",
    "\n",
    "Syntax\n",
    "\n",
    "    frame1 = tk.Frame(parent)\n",
    "\n",
    "LabelFrame works the same as Frame, but inlcudes a little label in the border of the Frame\n",
    "\n",
    "Syntax\n",
    "\n",
    "    labelframe1 = tk.LabelFrame(parent, text = \"Label my Frame\", labelanchor = tk.NW)\n",
    "\n",
    "12 Options for labelanchor:\n",
    "- NW, N, NE, EN, E, ES, SE, S, SW, WS, W, WN\n",
    "- Note that NE and EN are two different locations!!\n",
    "- Note that EN, ES, WN and WS only work in the \"en\" notation not the tk.EN notation!!"
   ]
  },
  {
   "cell_type": "markdown",
   "id": "e59a93ef-32d3-4c2d-8e57-9994ea6d30d5",
   "metadata": {},
   "source": [
    "### pack()"
   ]
  },
  {
   "cell_type": "markdown",
   "id": "1252f1a8-2dc9-4cd4-a989-d7c8d065871e",
   "metadata": {},
   "source": [
    "pack() is the most simple of the geometry managers. It puts widgets in the free room of the parent widget .   \n",
    "- It starts at the first pack command and places all other in order    \n",
    "  - If a widget is placed to the right or left all space above an below this widget are blocked\n",
    "  - If a widget is placed to the top or the bottom all spaceto the left and right of this widget are blocked\n",
    "  - place everything left to right OR top to bottomm\n",
    "  - Frames for more complicated layouts\n",
    "\n",
    "Possible options:\n",
    "\n",
    "`side`\n",
    "- Determines which side of the parent widget packs against\n",
    "  - \"TOP\" (default)\n",
    "  - 2BOTTOM\"\n",
    "  - \"LEFT\"\n",
    "  - \"RIGHT\"\n",
    "\n",
    "`expand`    \n",
    "- When set to `True`, widget expands to fill any space not otherwise used in widget's parent.\n",
    "   \n",
    "`fill`    \n",
    "- Determines whether widget fills any extra space allocated to it by the packer, or keeps its own minimal dimensions\n",
    "  - \"NONE\" (default)\n",
    "  - \"X\" (fill only horizontally)\n",
    "  - \"Y\" (fill only vertically)\n",
    "  - \"BOTH\" (fill both horizontally and vertically).\n",
    "    \n",
    "`anchor`\n",
    "- is a standard attribute defining the position of something compared to a reference point\n",
    "  - nw, n, ne, e, center, w, sw, s, se"
   ]
  },
  {
   "cell_type": "markdown",
   "id": "9b180a11-29a5-4de6-a8a4-3dc5286d25a7",
   "metadata": {},
   "source": [
    "### grid()"
   ]
  },
  {
   "cell_type": "markdown",
   "id": "74183733-a417-4204-be24-9f87178a6a8c",
   "metadata": {},
   "source": [
    "Uses rows and columns to arrange widgets\n",
    "- each field inside a grid is accessible thorugh the indices of rows and columns (count starts at 0)\n",
    "- indices can have gaps and assignment doesn't have to start at 0. Rows/columns left empty have a size of 0\n",
    "  - e.g. if some widgets might have to be placed in between earlier ones it can save time to place the first once only every 10 rows/columns so the code doesn't have to be changed for every single widget when a change occurs \n",
    "- each field only contains *one widget* (for >1 widget use a frame to gather them together)\n",
    "- fields can span multiple rows or columns `rowspan`/`columnspan`\n",
    "- height and width is determined by the highest/widest widget of the row/column\n",
    "\n",
    "Syntax\n",
    "\n",
    "    widget.grid(row = row_idx, column = col_idx)\n",
    "\n",
    "`row` and `column` are necessary, optional parameters:\n",
    "- `rowspan`/`columnspan`: how many rows/columns to span from the starting field\n",
    "- `sticky`: where to place a widget smaller than its field     \n",
    "  values: tk.N, tk.W, tk.S, tk.E, tk.NW, tk.NE, tk.NS, tk.SE,tk.SW,tk.EW\n",
    "- `padx`/ `pady`: take integer numbers, placing a small border around fields"
   ]
  },
  {
   "cell_type": "markdown",
   "id": "d5d38a52-1f04-465a-8222-4f140f6f3a0e",
   "metadata": {},
   "source": [
    "### place()"
   ]
  },
  {
   "cell_type": "markdown",
   "id": "6892b67b-ba1c-4402-9541-fef0fee5eb52",
   "metadata": {},
   "source": [
    "`place()` is the most accurate and flexible of the geometry managers\n",
    "- allows to place widgets pixel exactly\n",
    "- possible to define the size of the widget in pixel (not text) units\n",
    "- all widgets are placed in relation to the top left corner of the parent window\n",
    "  - unless specified otherwise with `anchor` (tk.N, tk.S, etc.) \n",
    "- There are two ways of using place: absolute and relative placing\n",
    "  - relative placing allows to adjust the placement and size of a widget according to the window size. Here it makes sense to deactivate resizing of the root window (`root.resizable(False,False)`)!\n",
    "  - especially for absolute placing it makes alot of sense to define the root window size with `root.geometry(\"100x100\")`\n",
    "  - it is possible to mix relative and absolute positionings in the placement of a single widget. If `relx` and `x` are added it adds the two together. Try to avoid using `relx` and `x` or `rely` and `y` at the same time, though\n",
    "- Widgets are not placed in the order of placing, but in the order of creation!! In case of overlapping the widget that was created (not placed!!) last is on top. \n",
    "\n",
    "Syntax for absolute placing\n",
    "\n",
    "    widget.place(x = 50, y = 50, width = 100, height = 100)\n",
    "\n",
    "- width and height are the dimensions of the widget (optional)\n",
    "- x and y are the distance to the top left corner of the parent window\n",
    "- the parameters take integer values\n",
    "\n",
    "Syntax for relative placing\n",
    "\n",
    "    widget.place(relx, rely, relwidth, relheight)\n",
    "\n",
    "- the parameters take floats between 0 and 1\n",
    "- they are percentages of the size of the parent window/frame, e.g. `relwidth = 1` spans the entire window\n",
    "\n",
    "\n",
    "\n",
    "\n",
    "\n"
   ]
  },
  {
   "cell_type": "markdown",
   "id": "cd00842f-ad4e-47cd-b37e-f6eddf19cb43",
   "metadata": {},
   "source": [
    "# Exercises "
   ]
  },
  {
   "cell_type": "markdown",
   "id": "9eb5b766-bc25-4611-b9ea-5e24d2c8dd99",
   "metadata": {},
   "source": [
    "## Exercise 4 – Creating Labels \n"
   ]
  },
  {
   "cell_type": "markdown",
   "id": "b7867c8f-8c82-4fe9-8da0-c4da33f4bec1",
   "metadata": {},
   "source": [
    "Create a GUI that contains three different Labels. Please use texts with a biological or biochemical background, we will need these labels later."
   ]
  },
  {
   "cell_type": "code",
   "execution_count": 2,
   "id": "c3c677cf-25ff-4ca8-aa08-51f4b898227f",
   "metadata": {},
   "outputs": [],
   "source": [
    "import tkinter as tk\n",
    "\n",
    "#creating the Window\n",
    "root = tk.Tk()\n",
    "#creating 3 labels\n",
    "label1 = tk.Label(root, text =\"Gene name:\", background = \"floral white\", fg = \"OrangeRed4\", height=4, width=20,font= (\"Helvetica 12 bold\"))\n",
    "label2 = tk.Label(root, text =\"ABCC2\\nABCB1 and ABCB3\", background = \"blanched almond\", fg = \"VioletRed4\", cursor =\"exchange\", font= (\"Helvetica 12\"), justify = \"center\", width=20)\n",
    "label3 = tk.Label(root, text =\"ERBB2\\nERBB3 and ERBB4\", background = \"peach puff\", fg = \"VioletRed4\", cursor =\"heart\", font= (\"Helvetica 12\"), width=20)\n",
    "#pack my labels\n",
    "label1.pack()\n",
    "label2.pack()\n",
    "label3.pack()\n",
    "#look at it\n",
    "root.mainloop()"
   ]
  },
  {
   "cell_type": "markdown",
   "id": "bad8e832-7753-487f-bded-8ac2dbd51624",
   "metadata": {},
   "source": [
    "## Exercise 5 – Using Buttons\n"
   ]
  },
  {
   "cell_type": "markdown",
   "id": "2c77c454-dff6-4b0f-9127-c904a5da2b22",
   "metadata": {},
   "source": [
    "Use your GUI from Exercise 4 and add two Buttons to it. Each Button should change the text\n",
    "in one of your three pre-defined labels."
   ]
  },
  {
   "cell_type": "code",
   "execution_count": 3,
   "id": "785880ff-cee1-42de-8d0a-6dc454814e47",
   "metadata": {},
   "outputs": [],
   "source": [
    "import tkinter as tk\n",
    "\n",
    "def ChangeText2():\n",
    "    if label2.cget(\"text\") == \"ABCB1\":\n",
    "        label2.config(text=\"ABCG2\",fg=\"red\")\n",
    "    else:\n",
    "        label2.config(text=\"ABCB1\",fg=\"VioletRed4\")\n",
    "\n",
    "def ChangeText3():\n",
    "    if label3.cget(\"text\") == \"ERBB4\":\n",
    "        label3.config(text=\"ERBB2\",fg=\"red\")\n",
    "    else:\n",
    "        label3.config(text=\"ERBB4\",fg=\"VioletRed4\")\n",
    "\n",
    "#creating the Window\n",
    "root = tk.Tk()\n",
    "#creating 3 labels\n",
    "label1 = tk.Label(root, text =\"Gene name:\", background = \"floral white\", fg = \"OrangeRed4\", height=4, width=20,font= (\"Helvetica 12 bold\"))\n",
    "label2 = tk.Label(root, text =\"ABCB1\", background = \"blanched almond\", fg = \"VioletRed4\", cursor =\"exchange\", font= (\"Helvetica 12\"), justify = \"center\", width=20)\n",
    "label3 = tk.Label(root, text =\"ERBB4\", background = \"peach puff\", fg = \"VioletRed4\", cursor =\"heart\", font= (\"Helvetica 12\"), width=20)\n",
    "button2 = tk.Button(root, text = \"Click me\", command = ChangeText2,bg=\"white\")\n",
    "button3 = tk.Button(root, text = \"Click me\", command = ChangeText3,bg=\"white\")\n",
    "#pack my labels\n",
    "label1.pack()\n",
    "label2.pack()\n",
    "button2.pack()\n",
    "label3.pack()\n",
    "button3.pack()\n",
    "#look at it\n",
    "root.mainloop()"
   ]
  },
  {
   "cell_type": "markdown",
   "id": "cedf58ef-1711-4c74-b0c7-7cb6af0a6f51",
   "metadata": {},
   "source": [
    "## Exercise 6 – Entries"
   ]
  },
  {
   "cell_type": "markdown",
   "id": "2c37d3cd-2aea-4a68-a36b-97eff90443d3",
   "metadata": {},
   "source": [
    "Add two Entry fields to your GUI from Exercise 4 so that the user can input what information\n",
    "he wants to display in your changeable labels. Don’t forget to adjust your functions for the\n",
    "Buttons. Afterwards try your hands on changing other attributes as well."
   ]
  },
  {
   "cell_type": "code",
   "execution_count": 4,
   "id": "dedca043-f45f-4b59-aa65-14543f5267c9",
   "metadata": {},
   "outputs": [],
   "source": [
    "import tkinter as tk\n",
    "import tkinter.font as font\n",
    "\n",
    "def ChangeText2():\n",
    "    txt1 = input1.get()\n",
    "    if label2.cget(\"text\") == \"ABCB1\":\n",
    "        label2.config(text=txt1,fg=\"VioletRed2\")\n",
    "    else:\n",
    "        label2.config(text=\"ABCB1\",fg=\"VioletRed4\")\n",
    "\n",
    "def ChangeText3():\n",
    "    txt2 = input2.get()\n",
    "    if label3.cget(\"text\") == \"ERBB4\":\n",
    "        label3.config(text=txt2,fg=\"VioletRed2\")\n",
    "    else:\n",
    "        label3.config(text=\"ERBB4\",fg=\"VioletRed4\")\n",
    "\n",
    "\n",
    "#creating the Window\n",
    "root = tk.Tk()\n",
    "myFont = font.Font(size=30)\n",
    "#creating 3 labels, the buttons and entries\n",
    "label1 = tk.Label(root, text =\"Gene name:\", background = \"floral white\", fg = \"OrangeRed4\", height=4, width=20,font= myFont)\n",
    "label2 = tk.Label(root, text =\"ABCB1\", bg = \"peach puff\", fg = \"VioletRed4\", cursor =\"exchange\", font= myFont, justify = \"center\", width=20)\n",
    "label3 = tk.Label(root, text =\"ERBB4\", bg = \"peach puff\", fg = \"VioletRed4\", cursor =\"heart\", font= myFont, width=20)\n",
    "button2 = tk.Button(root, text = \"Change Text\", command = ChangeText2, font=myFont, width=20)\n",
    "button3 = tk.Button(root, text = \"Change Text\", command = ChangeText3, font=myFont, width=20)\n",
    "input1 = tk.StringVar()\n",
    "input2 = tk.StringVar()\n",
    "entry1 = tk.Entry(root, textvariable = input1, background = \"blanched almond\",fg = \"VioletRed4\", font=myFont, bd=5, justify = \"center\",insertbackground=\"VioletRed4\")\n",
    "entry2 = tk.Entry(root, textvariable = input2, background = \"blanched almond\",fg = \"VioletRed4\", font=myFont, bd=5, justify = \"center\",insertbackground=\"VioletRed4\")\n",
    "#pack my labels\n",
    "label1.pack()\n",
    "label2.pack()\n",
    "entry1.pack()\n",
    "button2.pack()\n",
    "label3.pack()\n",
    "entry2.pack()\n",
    "button3.pack()\n",
    "#look at it\n",
    "root.mainloop()"
   ]
  },
  {
   "cell_type": "markdown",
   "id": "29fa1c75-4990-42a0-a6ba-dc09b7c8ffff",
   "metadata": {},
   "source": [
    "## Exercise 7 – Options Menu"
   ]
  },
  {
   "cell_type": "markdown",
   "id": "50fd7a59-7eb7-4f39-a2f8-25135faf51c8",
   "metadata": {},
   "source": [
    "\n",
    "Create a GUI that contains three Menus with at least seven different options each. \n",
    "- Two should contain colors\n",
    "- one should contain protein names.\n",
    "\n",
    "Create one function for the first color menu so that the background color of a Label can be changed and a second function that does the same with the color of the text in the Label. The color should be chosen via the Menu. For the third Menu create a function that changes the text in the Label according to the chosen protein."
   ]
  },
  {
   "cell_type": "code",
   "execution_count": 5,
   "id": "243b2c5f-c2c2-4f5a-b951-30116b7d9706",
   "metadata": {},
   "outputs": [],
   "source": [
    "import tkinter as tk\n",
    "import tkinter.font as font\n",
    "\n",
    "#make my lits\n",
    "fgcol = [\"blue\", \"red\", \"snow\",\"green\",\"yellow\",\"cyan\",\"khaki\",\"tomato\",\"coral\",\"pale turquoise\"]\n",
    "bgcol = [\"RoyalBlue1\",\"DarkOrchid1\",\"RoyalBlue3\",\"DarkOrchid3\",\"SteelBlue1\",\"purple1\",\"SteelBlue3\",\"purple4\"]\n",
    "prot = [\"EGFR\",\"ERBB2\",\"ERBB3\",\"ERBB4\",\"P-gp\",\"MDR1\",\"BCRP1\"]\n",
    "\n",
    "#define my functions:\n",
    "\n",
    "def change_fg():\n",
    "    col = fgvar.get()\n",
    "    label1.config(fg = col)\n",
    "\n",
    "def change_bg():\n",
    "    col = bgvar.get()\n",
    "    label1.config(bg = col)\n",
    "\n",
    "def change_prot():\n",
    "    prot = protvar.get()\n",
    "    label1.config(text = prot)\n",
    "\n",
    "def change_all():\n",
    "    col1 = fgvar.get()\n",
    "    col2 = bgvar.get()\n",
    "    prot = protvar.get()\n",
    "    label1.config(bg = col2,fg = col1,text = prot)\n",
    "\n",
    "    \n",
    "#create GUI\n",
    "root = tk.Tk()\n",
    "myFont = font.Font(size=20)\n",
    "fgvar = tk.StringVar()\n",
    "bgvar = tk.StringVar()\n",
    "protvar = tk.StringVar()\n",
    "#set default values\n",
    "fgvar.set(fgcol[0])\n",
    "bgvar.set(bgcol[0])\n",
    "protvar.set(prot[0])\n",
    "#create the menus\n",
    "fg_menu1 = tk.OptionMenu(root,fgvar,*fgcol)\n",
    "fg_menu1.config(font=myFont)\n",
    "bg_menu2 = tk.OptionMenu(root,bgvar,*bgcol)\n",
    "bg_menu2.config(font=myFont)\n",
    "prot_menu = tk.OptionMenu(root,protvar,*prot)\n",
    "prot_menu.config(font=myFont)\n",
    "#create the label\n",
    "label1 = tk.Label(root, text = protvar.get(), bg =  bgvar.get(), fg = fgvar.get(),font=myFont)\n",
    "#create the buttons\n",
    "fgbutton = tk.Button(root, text = \"Click to change text color\", command = change_fg,font=myFont)\n",
    "bgbutton = tk.Button(root, text =\" Click to change background color\", command = change_bg,font=myFont)\n",
    "protbutton = tk.Button(root, text = \"Click to change protein\", command = change_prot,font=myFont)\n",
    "BIGbutton = tk.Button(root, text = \"Click to change ALL\", command = change_all,font=myFont)\n",
    "BIGbutton2 = tk.Button(root, text = \"Click to change ALL\", command = lambda: [change_fg(),change_bg(),change_prot()],font=myFont)\n",
    "#pack\n",
    "label1.pack()\n",
    "fg_menu1.pack()\n",
    "fgbutton.pack()\n",
    "bg_menu2.pack()\n",
    "bgbutton.pack()\n",
    "prot_menu.pack()\n",
    "protbutton.pack()\n",
    "BIGbutton2.pack()\n",
    "#run\n",
    "root.mainloop()"
   ]
  },
  {
   "cell_type": "markdown",
   "id": "3a1948fd-16af-49e0-aece-0d6cff3111b2",
   "metadata": {},
   "source": [
    "## Exercise 8 - Checks"
   ]
  },
  {
   "cell_type": "markdown",
   "id": "2d4fe378-36e6-4d08-8af6-6417072d56c3",
   "metadata": {},
   "source": [
    "Create a GUI that contains \n",
    "- 1  Button\n",
    "- 5 Labels\n",
    "- 5 different Check Buttons\n",
    "\n",
    "With a click on the Button, the status of all five Buttons should be displayed in the corresponding Label."
   ]
  },
  {
   "cell_type": "code",
   "execution_count": 6,
   "id": "5bcd78b4-b223-46fe-80dc-5cf1dd8c09ba",
   "metadata": {},
   "outputs": [],
   "source": [
    "import tkinter as tk\n",
    "import tkinter.font as font\n",
    "\n",
    "#create my status update function\n",
    "def update_status():\n",
    "    label1.config(text = f\"Box1 is {bolvar1.get()}\")\n",
    "    label2.config(text = f\"Box2 is {bolvar2.get()}\")\n",
    "    label3.config(text = f\"Box3 is {bolvar3.get()}\")\n",
    "    label4.config(text = f\"Box4 is {bolvar4.get()}\")\n",
    "    label5.config(text = f\"Box5 is {bolvar5.get()}\")\n",
    "\n",
    "#start the definition of the GUI\n",
    "root = tk.Tk()\n",
    "#set my VarVars (1/checkbutton)\n",
    "bolvar1 = tk.BooleanVar()\n",
    "bolvar2 = tk.BooleanVar()\n",
    "bolvar3 = tk.BooleanVar()\n",
    "bolvar4 = tk.BooleanVar()\n",
    "bolvar5 = tk.BooleanVar()\n",
    "#create the Checkbuttons\n",
    "check1 = tk.Checkbutton(root,text = \"Check Box1\", variable = bolvar1)\n",
    "check2 = tk.Checkbutton(root,text = \"Check Box2\", variable = bolvar2)\n",
    "check3 = tk.Checkbutton(root,text = \"Check Box3\", variable = bolvar3)\n",
    "check4 = tk.Checkbutton(root,text = \"Check Box4\", variable = bolvar4)\n",
    "check5 = tk.Checkbutton(root,text = \"Check Box5\", variable = bolvar5)\n",
    "#create the labels\n",
    "label1 = tk.Label(root, text = f\"Box1 is {bolvar1.get()}\")\n",
    "label2 = tk.Label(root, text = f\"Box2 is {bolvar2.get()}\")\n",
    "label3 = tk.Label(root, text = f\"Box3 is {bolvar3.get()}\")\n",
    "label4 = tk.Label(root, text = f\"Box4 is {bolvar4.get()}\")\n",
    "label5 = tk.Label(root, text = f\"Box5 is {bolvar5.get()}\")\n",
    "#create the button\n",
    "button1 = tk.Button(root, text = \"Update Status of Labels\", command = update_status)\n",
    "#pack()\n",
    "button1.pack()\n",
    "check1.pack()\n",
    "check2.pack()\n",
    "check3.pack()\n",
    "check4.pack()\n",
    "check5.pack()\n",
    "label1.pack()\n",
    "label2.pack()\n",
    "label3.pack()\n",
    "label4.pack()\n",
    "label5.pack()\n",
    "#run\n",
    "root.mainloop()"
   ]
  },
  {
   "cell_type": "markdown",
   "id": "96e101c7-fd94-4ef2-a38e-a427b863a2b8",
   "metadata": {},
   "source": [
    "## Exercise 9 - Radio Buttons"
   ]
  },
  {
   "cell_type": "markdown",
   "id": "75c0a2ea-3c7f-43e4-99c9-f1b43a5feb63",
   "metadata": {},
   "source": [
    "Create a GUIs with at least eight Radiobuttons. Create a function that is coupled with the Radiobuttons."
   ]
  },
  {
   "cell_type": "code",
   "execution_count": 7,
   "id": "dfe17936-1243-42c1-b25d-74a3e26bb31d",
   "metadata": {},
   "outputs": [],
   "source": [
    "import tkinter as tk\n",
    "import tkinter.font as font\n",
    "\n",
    "#define my function\n",
    "def color_change():\n",
    "    label1.config(bg=var.get())\n",
    "\n",
    "#start the GUI definition\n",
    "root = tk.Tk()\n",
    "#set VarVar and preset the value\n",
    "var = tk.StringVar()\n",
    "var.set(\"green\")\n",
    "#create Radiobuttons\n",
    "radio1 = tk.Radiobutton(root,text = \"green\", variable = var, value = \"green\", command = color_change)\n",
    "radio2 = tk.Radiobutton(root,text = \"yellow\", variable = var, value = \"yellow\", command = color_change)\n",
    "radio3 = tk.Radiobutton(root,text = \"red\", variable = var, value = \"red\", command = color_change)\n",
    "radio4 = tk.Radiobutton(root,text = \"blue\", variable = var, value = \"blue\", command = color_change)\n",
    "radio5 = tk.Radiobutton(root,text = \"orange\", variable = var, value = \"orange\", command = color_change)\n",
    "radio6 = tk.Radiobutton(root,text = \"pink\", variable = var, value = \"pink\", command = color_change)\n",
    "radio7 = tk.Radiobutton(root,text = \"black\", variable = var, value = \"black\", command = color_change)\n",
    "radio8 = tk.Radiobutton(root,text = \"white\", variable = var, value = \"white\", command = color_change)\n",
    "#create label\n",
    "label1 = tk.Label(root,bg=var.get(), width=10)\n",
    "#pack\n",
    "label1.pack()\n",
    "radio1.pack()\n",
    "radio2.pack()\n",
    "radio3.pack()\n",
    "radio4.pack()\n",
    "radio5.pack()\n",
    "radio6.pack()\n",
    "radio7.pack()\n",
    "radio8.pack() \n",
    "#run\n",
    "root.mainloop()"
   ]
  },
  {
   "cell_type": "markdown",
   "id": "fafee0df-3dba-43c2-bd86-b52baed25abb",
   "metadata": {},
   "source": [
    "## Exercise 10 - Two Scales"
   ]
  },
  {
   "cell_type": "markdown",
   "id": "259696dc-0dc3-4661-a698-3c8f238e4d31",
   "metadata": {},
   "source": [
    "Create a GUI with two scales, a horizontal one and a vertical one. Include a Button that allows the user to show the values he selected for both Scales in one Label. (Should be similar to a coordinate system)."
   ]
  },
  {
   "cell_type": "code",
   "execution_count": 8,
   "id": "2d5b2af7-f34c-4a4a-ae2c-298d79c48954",
   "metadata": {},
   "outputs": [],
   "source": [
    "import tkinter as tk\n",
    "import tkinter.font as font\n",
    "\n",
    "#define function\n",
    "def change_label():\n",
    "    label1.config(text = f\"The horizontal scale has a value of {var1.get()}.\\nThe vertical Scale has a value of {var2.get()}.\\nTheir product is {var1.get()*var2.get()}.\")\n",
    "\n",
    "#start GUI definition\n",
    "root = tk.Tk()\n",
    "#set font\n",
    "Myfont = font.Font(size=25)\n",
    "#create VarVars\n",
    "var1 = tk.DoubleVar()\n",
    "var2 = tk.IntVar()\n",
    "#create scales and\n",
    "scale1 = tk.Scale(root, variable = var1, from_ = 0, to = 1, resolution = 0.01, orient = \"horizontal\", font = Myfont)\n",
    "scale1.config(label = \"Horizontal Scale\", length=500)\n",
    "scale2 = tk.Scale(root, variable = var2, from_ = 0, to = 100, resolution = 5, orient = \"vertical\", font = Myfont)\n",
    "scale2.config(label = \"Vertical Scale\")\n",
    "label1 = tk.Label(root, text = \"No values selected\", font = Myfont)\n",
    "button = tk.Button(root, text = \"Click to update Label\", command = change_label, font = Myfont)\n",
    "scale1.pack()\n",
    "scale2.pack()\n",
    "label1.pack()\n",
    "button.pack()\n",
    "scale1.update() \n",
    "root.mainloop()"
   ]
  },
  {
   "cell_type": "markdown",
   "id": "9538a0de-f2c4-48ea-b577-2e2060aba7cb",
   "metadata": {},
   "source": [
    "#### Excursion: Accessing the dimensions of the root window"
   ]
  },
  {
   "cell_type": "code",
   "execution_count": 9,
   "id": "2271b71f-aa12-4327-80ea-19218246ef9d",
   "metadata": {},
   "outputs": [],
   "source": [
    "#trying to get the lenth of the horizontal bar to automatically fill the whole screen \n",
    "#by calling the window size of the root. It doesn't change when the window size changes!\n",
    "\n",
    "import tkinter as tk\n",
    "import tkinter.font as font\n",
    "\n",
    "def change_label():\n",
    "    label1.config(text = f\"The horizontal scale has a value of {var1.get()}.\\nThe vertical Scale has a value of {var2.get()}.\\nTheir product is {var1.get()*var2.get()}.\")\n",
    "\n",
    "root = tk.Tk()\n",
    "#setting the size of my window\n",
    "root.geometry (\"300x300\")\n",
    "#!!! IMPORTANT !!!\n",
    "#update the root to set the values of the width and height as specified above\n",
    "# This step is not necessary for geometry to work, but only to access the values. Otherwise they are displayed as 1\n",
    "root.update()\n",
    "Myfont = font.Font(size=25)\n",
    "var1 = tk.DoubleVar()\n",
    "var2 = tk.IntVar()\n",
    "scale1 = tk.Scale(root, variable = var1, from_ = 0, to = 1, resolution = 0.01, orient = \"horizontal\", font = Myfont)\n",
    "#setting the length of the horizontal bar to the width of the window\n",
    "scale1.config(label = \"Horizontal Scale\", length=root.winfo_width())\n",
    "scale2 = tk.Scale(root, variable = var2, from_ = 0, to = 100, resolution = 5, orient = \"vertical\", font = Myfont)\n",
    "scale2.config(label = \"Vertical Scale\")\n",
    "label1 = tk.Label(root, text = \"No values selected\", font = Myfont)\n",
    "button = tk.Button(root, text = \"Click to update Label\", command = change_label, font = Myfont)\n",
    "root.update()\n",
    "scale1.pack()\n",
    "scale2.pack()\n",
    "label1.pack()\n",
    "button.pack()\n",
    "scale1.update() \n",
    "\n",
    "root.mainloop()"
   ]
  },
  {
   "cell_type": "markdown",
   "id": "9ad82238-7f7f-4e40-bfb1-c4e02873b987",
   "metadata": {},
   "source": [
    "## Exercise 11 - Spin right round"
   ]
  },
  {
   "cell_type": "markdown",
   "id": "41054990-e9ab-49b4-a26e-ae8c76e9604a",
   "metadata": {},
   "source": [
    "Create a GUI that offers the user three inputs via Spinboxes. \n",
    "- Display the result of each input in a separate label. \n",
    "- Use one spinbox with a float increment .\n",
    "- Use at least one in combination with a list of strings."
   ]
  },
  {
   "cell_type": "code",
   "execution_count": 10,
   "id": "80c68e55-410e-458a-88cf-39e236b6ee5e",
   "metadata": {},
   "outputs": [],
   "source": [
    "import tkinter as tk\n",
    "import tkinter.font as font\n",
    "\n",
    "def change_label1():\n",
    "    label1.config(text = f\"My first number is {spin1.get()}\")\n",
    "\n",
    "def change_label2():\n",
    "    label2.config(text = f\"My second number is {spin2.get()}\")\n",
    "\n",
    "def change_label3():\n",
    "    label3.config(text = f\"My color is {spin3.get()}\", bg = spin3.get())\n",
    "\n",
    "text_list = [\"red\",\"blue\",\"green\",\"pink\"]\n",
    "\n",
    "root = tk.Tk()\n",
    "root.geometry(\"400x250\")\n",
    "Myfont = font.Font(size=25)\n",
    "spin1 = tk.Spinbox(root,from_ = 1, to = 100, increment = 5, command = change_label1, font=Myfont)\n",
    "spin2 = tk.Spinbox(root, from_ = 0.75, to = 5, increment = 0.50, command = change_label2, font=Myfont)\n",
    "spin3 = tk.Spinbox (root, values = text_list, command = change_label3, font=Myfont)\n",
    "label1 = tk.Label(root, text = f\"My first number is {spin1.get()}\", font=Myfont)\n",
    "label2 = tk.Label(root, text = f\"My second number is {spin2.get()}\", font=Myfont)\n",
    "label3 = tk.Label(root, text = f\"My color is {spin3.get()}\", bg = spin3.get(), font=Myfont)\n",
    "#pack\n",
    "spin1.pack()\n",
    "spin2.pack()\n",
    "spin3.pack()\n",
    "label1.pack()\n",
    "label2.pack()\n",
    "label3.pack()\n",
    "root.mainloop()\n"
   ]
  },
  {
   "cell_type": "markdown",
   "id": "617cd7c9-58b4-4ab6-8236-0c7ae916eb7c",
   "metadata": {},
   "source": [
    "## Exercise 12 - Framing"
   ]
  },
  {
   "cell_type": "markdown",
   "id": "2784ee93-68fe-4c20-8d07-44288b8bb121",
   "metadata": {},
   "source": [
    "Create a GUI that contains the following:\n",
    "- 4 Frames\n",
    "- 8 Buttons\n",
    "- 4 Labels\n",
    "- 5 Checkboxes\n",
    "\n",
    "The buttons should be placed in two Frames, the Labels in one Frame and the Checkbuttons in the last Frame. Place the Frames top to bottom on your GUI and the Widgets inside the Frames left to right."
   ]
  },
  {
   "cell_type": "code",
   "execution_count": 2,
   "id": "fa496b5a-649e-457c-a332-390a47f6b70d",
   "metadata": {},
   "outputs": [],
   "source": [
    "import tkinter as tk\n",
    "\n",
    "#start GUI\n",
    "root = tk.Tk()\n",
    "#create frames\n",
    "button_frame1 = tk.Frame(root)\n",
    "button_frame2 = tk.Frame(root)\n",
    "label_frame = tk.Frame(root)\n",
    "check_frame = tk.Frame(root)\n",
    "#create buttons\n",
    "button1 = tk.Button(button_frame1,text = \"button1\")\n",
    "button2 = tk.Button(button_frame1,text = \"button2\")\n",
    "button3 = tk.Button(button_frame1,text = \"button3\")\n",
    "button4 = tk.Button(button_frame1,text = \"button4\")\n",
    "button5 = tk.Button(button_frame2,text = \"button5\")\n",
    "button6 = tk.Button(button_frame2,text = \"button6\")\n",
    "button7 = tk.Button(button_frame2,text = \"button7\")\n",
    "button8 = tk.Button(button_frame2,text = \"button8\")\n",
    "#create labels\n",
    "label1 = tk.Label(label_frame, text = \"Label1\")\n",
    "label2 = tk.Label(label_frame, text = \"Label2\")\n",
    "label3 = tk.Label(label_frame, text = \"Label3\")\n",
    "label4 = tk.Label(label_frame, text = \"Label4\")\n",
    "#create checkboxes\n",
    "check1 = tk.Checkbutton(check_frame, text = \"Checkbox1\")\n",
    "check2 = tk.Checkbutton(check_frame, text = \"Checkbox2\")\n",
    "check3 = tk.Checkbutton(check_frame, text = \"Checkbox3\")\n",
    "check4 = tk.Checkbutton(check_frame, text = \"Checkbox4\")\n",
    "check5 = tk.Checkbutton(check_frame, text = \"Checkbox5\")\n",
    "#place frames\n",
    "button_frame1.pack()\n",
    "button_frame2.pack()\n",
    "label_frame.pack()\n",
    "check_frame.pack()\n",
    "#place buttons on first frame\n",
    "button1.pack(side=\"left\")\n",
    "button2.pack(side=\"left\")\n",
    "button3.pack(side=\"left\")\n",
    "button4.pack(side=\"left\")\n",
    "#place buttons on second frame\n",
    "button5.pack(side=\"left\")\n",
    "button6.pack(side=\"left\")\n",
    "button7.pack(side=\"left\")\n",
    "button8.pack(side=\"left\")\n",
    "#place label\n",
    "label1.pack(side=\"left\")\n",
    "label2.pack(side=\"left\")\n",
    "label3.pack(side=\"left\")\n",
    "label4.pack(side=\"left\")\n",
    "#place checkboxes\n",
    "check1.pack(side=\"left\")\n",
    "check2.pack(side=\"left\")\n",
    "check3.pack(side=\"left\")\n",
    "check4.pack(side=\"left\")\n",
    "check5.pack(side=\"left\")\n",
    "#run\n",
    "root.mainloop()"
   ]
  },
  {
   "cell_type": "markdown",
   "id": "6aa3a64c-fc9f-4022-a519-e42204c60860",
   "metadata": {},
   "source": [
    "## Exercise 13 - Using Grid"
   ]
  },
  {
   "cell_type": "markdown",
   "id": "29be6a27-7a3a-49bf-8f33-8e2c709a93d6",
   "metadata": {},
   "source": [
    "Create a GUI with the help of a grid. The GUI should contain at least 10 different widgets of\n",
    "which at least one should be a button with a function assigned to him."
   ]
  },
  {
   "cell_type": "code",
   "execution_count": 6,
   "id": "8b65f094-e794-4f81-9f0a-808d8add4b6c",
   "metadata": {},
   "outputs": [],
   "source": [
    "import tkinter as tk\n",
    "import tkinter.font as font\n",
    "\n",
    "# I want to look at many pretty colors\n",
    "\n",
    "col1 = [\"gold\",\"dark green\",\"navy\",\"medium violet red\"]\n",
    "blues = [\"RoyalBlue1\",\"RoyalBlue2\",\"RoyalBlue3\",\"RoyalBlue4\"]\n",
    "reds = [\"firebrick1\",\"firebrick2\",\"firebrick3\",\"firebrick4\"]\n",
    "purples = [\"DarkOrchid1\",\"DarkOrchid2\",\"DarkOrchid3\",\"DarkOrchid4\"]\n",
    "greens = [\"PaleGreen1\",\"PaleGreen2\",\"PaleGreen3\",\"PaleGreen4\"]\n",
    "\n",
    "def change_col1():\n",
    "    label1.config(bg = spin1.get())\n",
    "\n",
    "def change_bls():\n",
    "    label_b.config(bg = spin_b.get())\n",
    "\n",
    "def change_rds():\n",
    "    label_r.config(bg = spin_r.get())\n",
    "\n",
    "def change_pls():\n",
    "    label_p.config(bg = spin_p.get())\n",
    "\n",
    "def change_grs():\n",
    "    label_g.config(bg = spin_g.get())\n",
    "\n",
    "def stupid_button():\n",
    "    if heading.cget(\"text\") == \"\":\n",
    "        heading.config(text = \"So many pretty colors :-)\")\n",
    "    else:\n",
    "        heading.config(text = \"\")\n",
    "\n",
    "#start GUI\n",
    "root = tk.Tk()\n",
    "Myfont = font.Font(size = 25)\n",
    "#heading label\n",
    "heading = tk.Label(root,text=\"\", font=Myfont)\n",
    "# the labels with colors\n",
    "label1 = tk.Label(root, text = \"So many pretty colors!\", bg = col1[0], font = Myfont, width=20)\n",
    "label_b = tk.Label(root, text = \"So many pretty blues!\", bg = blues[0], font = Myfont, width=20)\n",
    "label_r = tk.Label(root, text = \"So many pretty reds!\", bg = reds[0], font = Myfont, width=20)\n",
    "label_p = tk.Label(root, text = \"So many pretty purples!\", bg = purples[0], font = Myfont, width=20)\n",
    "label_g = tk.Label(root, text = \"So many pretty greens!\", bg = greens[0], font = Myfont, fg = \"black\", width=20)\n",
    "# the color options\n",
    "spin1 = tk.Spinbox(root, values = col1, command = change_col1, font = Myfont)\n",
    "spin_b = tk.Spinbox(root, values = blues, command = change_bls, font = Myfont)\n",
    "spin_r = tk.Spinbox(root, values = reds, command = change_rds, font = Myfont)\n",
    "spin_p = tk.Spinbox(root, values = purples, command = change_pls, font = Myfont)\n",
    "spin_g = tk.Spinbox(root, values = greens, command = change_grs, font = Myfont)\n",
    "# the stupid button that was asked for\n",
    "button1 = tk.Button(root, text = \"Are there pretty colors?\", command = stupid_button, font = Myfont)\n",
    "#place\n",
    "heading.grid(row = 1, column = 0, columnspan = 2)\n",
    "button1.grid(row = 0, column = 0, columnspan = 2)\n",
    "label1.grid(row = 2, column = 0)\n",
    "spin1.grid(row=2, column =1)\n",
    "\n",
    "label_b.grid(row = 3, column = 0)\n",
    "spin_b.grid(row=3, column =1)\n",
    "label_r.grid(row = 4, column = 0)\n",
    "spin_r.grid(row=4, column =1)\n",
    "label_p.grid(row = 5, column = 0)\n",
    "spin_p.grid(row=5, column =1)\n",
    "label_g.grid(row = 6, column = 0)\n",
    "spin_g.grid(row=6, column =1)\n",
    "\n",
    "root.mainloop()\n",
    "\n",
    "\n",
    "\n"
   ]
  },
  {
   "cell_type": "markdown",
   "id": "870621a1-6273-4ba9-a687-10ae55d56f90",
   "metadata": {},
   "source": [
    "## Exercise 14 - Using Place"
   ]
  },
  {
   "cell_type": "markdown",
   "id": "e2d4b861-1d98-4cad-b590-d03856ebfdf0",
   "metadata": {},
   "source": [
    "Create a GUI that contains at least 6 different Widgets and arrange them on your GUI using\n",
    "the place() method. Try to create some Widgets that are placed dynamically."
   ]
  },
  {
   "cell_type": "code",
   "execution_count": 46,
   "id": "7b2b8b22-2918-4404-9641-590b17185f4c",
   "metadata": {},
   "outputs": [],
   "source": [
    "import tkinter as tk\n",
    "# start my GUI\n",
    "root = tk.Tk()\n",
    "root.title(\"Exercise 14\")\n",
    "#define size of root window\n",
    "root.geometry(\"500x250\")\n",
    "root.resizable(True,True)\n",
    "#create some labels\n",
    "label1 = tk.Label(text=\"green\", bg=\"green\")\n",
    "label2 = tk.Label(text=\"blue\", bg=\"blue\")\n",
    "label3 = tk.Label(text=\"yeeeeeeelllowww\", bg=\"yellow\", fg=\"black\")\n",
    "label4 = tk.Label(text=\":-)\", bg=\"pink\")\n",
    "\n",
    "label_dyn1 = tk.Label(text = \"I move and resize\", bg=\"white\", fg=\"black\")\n",
    "label_dyn2 = tk.Label(text = \"I move only\", bg=\"grey\")\n",
    "label_dyn3 = tk.Label(text = \"I resize only\", bg=\"orange\")\n",
    "\n",
    "label_long = tk.Label(text=\"I am looong\", bg=\"grey50\")\n",
    "\n",
    "#create a scale bar\n",
    "var1 = tk.DoubleVar()\n",
    "scale1 = tk.Scale(root, variable = var1, from_= 0,to = 99,resolution = 1)\n",
    "\n",
    "#place the labels at fixed coordinates. Note that label3 it below of label4 even though it is placed later!\n",
    "label1.place(x = 0, y = 0, width= 100, height= 20)\n",
    "label2.place(x = 95, y = 15, width= 50, height=20)\n",
    "label4.place(x = 320, y = 45)\n",
    "label3.place(x = 140, y = 30, width= 200, height= 20)\n",
    "\n",
    "#some dynamic placing and/or sizing\n",
    "label_dyn1.place(relx = 0.5, rely = 0.5, relwidth= 0.3, relheight= 0.1)\n",
    "label_dyn2.place(relx = 0.5, rely = 0.8, width= 150, height= 20)\n",
    "label_dyn3.place(x = 75, y = 100, relwidth= 0.2, relheight= 0.1)\n",
    "\n",
    "label_long.place(relwidth=1, x=0, rely = 1, anchor = tk.SW)\n",
    "\n",
    "scale1.place(relheight=1, relx = 1, rely = 1, anchor = tk.SE)\n",
    "\n",
    "#run\n",
    "root.mainloop()"
   ]
  },
  {
   "cell_type": "markdown",
   "id": "da12bb09-f224-460f-9ec6-4ca4565229f1",
   "metadata": {},
   "source": [
    "## Exercise 15 - LabelFrames"
   ]
  },
  {
   "cell_type": "markdown",
   "id": "fe0fb9e9-93f5-4eab-b72d-e1768caa3345",
   "metadata": {},
   "source": [
    "Create a GUI that contains three different LabelFrames. Each LabelFrame should contain at least three different Widgets of your choice. Try to use different positions for the Text of your LabelFrames."
   ]
  },
  {
   "cell_type": "code",
   "execution_count": 37,
   "id": "9a338c4b-c091-4572-ab4e-6b85b0d8f3b4",
   "metadata": {},
   "outputs": [],
   "source": [
    "#import modules\n",
    "import tkinter as tk\n",
    "import tkinter.font as font\n",
    "\n",
    "#my color lists \n",
    "#(the names don't make sense anymore because I changed it around \n",
    "#and was to lazy to change the whole script)\n",
    "col1 = [\"firebrick3\",\"firebrick4\"]\n",
    "blues = [\"RoyalBlue1\",\"RoyalBlue2\"]\n",
    "reds = [\"firebrick1\",\"firebrick2\"]\n",
    "purples = [\"DarkOrchid1\",\"DarkOrchid2\"]\n",
    "greens = [\"DarkOrchid3\",\"DarkOrchid4\"]\n",
    "greys = [\"RoyalBlue3\",\"RoyalBlue4\"]\n",
    "\n",
    "# I write a little function to turn my text vertically by adding a line break after every charatcer\n",
    "def vert_text(text):\n",
    "    ret_text=\"\"\n",
    "    for letter in text:\n",
    "        ret_text += letter + \"\\n\"\n",
    "    return ret_text\n",
    "\n",
    "boxtitle_R = vert_text(\"Dark colors\")\n",
    "boxtitle_L = vert_text(\"Light colors\")\n",
    "\n",
    "# the functinos for the spinboxes\n",
    "def change_col1():\n",
    "    label2b.config(bg = spin1.get())\n",
    "\n",
    "def change_bls():\n",
    "    label1a.config(bg = spin_b.get())\n",
    "\n",
    "def change_rds():\n",
    "    label2a.config(bg = spin_r.get())\n",
    "\n",
    "def change_pls():\n",
    "    label3a.config(bg = spin_p.get())\n",
    "\n",
    "def change_grs():\n",
    "    label3b.config(bg = spin_g.get())\n",
    "\n",
    "def change_gys():\n",
    "    label1b.config(bg = spin_gy.get())\n",
    "\n",
    "\n",
    "# start GUI\n",
    "root = tk.Tk()\n",
    "root.title(\"Exercise 15\")\n",
    "root.geometry(\"400x500\")\n",
    "Myfont = font.Font(size = 18)\n",
    "Framefont = font.Font(size = 18, slant = \"italic\")\n",
    "#create four LabelFrames\n",
    "frame_out = tk.LabelFrame(root, text = \"Here are three frames\", labelanchor = tk.N, font = Framefont)\n",
    "frame_top = tk.LabelFrame(frame_out, text = \"Choose a color\", labelanchor = tk.NW, font = Framefont)\n",
    "frame_left = tk.LabelFrame(frame_out, text = boxtitle_L, labelanchor = \"wn\", font = Framefont)\n",
    "frame_right = tk.LabelFrame(frame_out, text = boxtitle_R, labelanchor = \"en\", font = Framefont)\n",
    "\n",
    "#create three labels in each lower frame\n",
    "label1a = tk.Label(frame_left, text = \"Light Blue\", bg = blues[0], font = Myfont)\n",
    "label2a = tk.Label(frame_left, text = \"Light Red\", bg = reds[0], font = Myfont)\n",
    "label3a = tk.Label(frame_left, text = \"Light Purple\", bg = purples[0], font = Myfont)\n",
    "\n",
    "label1b = tk.Label(frame_right, text = \"Dark Blue\", bg = greys[0], font = Myfont)\n",
    "label2b = tk.Label(frame_right, text = \"Dark Red\", bg = col1[0], font = Myfont)\n",
    "label3b = tk.Label(frame_right, text = \"Dark Purple\", bg = greens[0], font = Myfont)\n",
    "\n",
    "#create 6 spinboxes\n",
    "# the color options\n",
    "spin1 = tk.Spinbox(frame_top, values = col1, command = change_col1, font = Myfont)\n",
    "spin_b = tk.Spinbox(frame_top, values = blues, command = change_bls, font = Myfont)\n",
    "spin_r = tk.Spinbox(frame_top, values = reds, command = change_rds, font = Myfont)\n",
    "spin_p = tk.Spinbox(frame_top, values = purples, command = change_pls, font = Myfont)\n",
    "spin_g = tk.Spinbox(frame_top, values = greens, command = change_grs, font = Myfont)\n",
    "spin_gy = tk.Spinbox(frame_top, values = greys, command = change_gys, font = Myfont)\n",
    "\n",
    "#place frames\n",
    "frame_out.place(relwidth = 1, relheight = 1, x = 0, y = 0)\n",
    "frame_top.place(relwidth = 1, relheight = 0.35, x = 0, y = 0)\n",
    "frame_left.place(relwidth = 0.5, relheight = 0.65, relx = 0, rely = 0.35)\n",
    "frame_right.place(relwidth = 0.5, relheight = 0.65, relx = 0.5, rely = 0.35)\n",
    "\n",
    "#place labels\n",
    "label1a.place(relwidth = 1, relheight = 0.3, x = 0, rely = 0)\n",
    "label2a.place(relwidth = 1, relheight = 0.3, x = 0, rely = 0.33)\n",
    "label3a.place(relwidth = 1, relheight = 0.3, x = 0, rely = 0.66)\n",
    "\n",
    "label1b.place(relwidth = 1, relheight = 0.3, x = 0, rely = 0)\n",
    "label2b.place(relwidth = 1, relheight = 0.3, x = 0, rely = 0.33)\n",
    "label3b.place(relwidth = 1, relheight = 0.3, x = 0, rely = 0.66)\n",
    "\n",
    "#place spinboxes\n",
    "spin_b.place(relwidth = 0.5, relheight = 0.3, relx = 0, rely = 0)\n",
    "spin_r.place(relwidth = 0.5, relheight = 0.3, relx = 0, rely = 0.3)\n",
    "spin_p.place(relwidth = 0.5, relheight = 0.3, relx = 0, rely = 0.6)\n",
    "\n",
    "spin_gy.place(relwidth = 0.5, relheight = 0.3, relx = 0.5, rely = 0)\n",
    "spin1.place(relwidth = 0.5, relheight = 0.3, relx = 0.5, rely = 0.3)\n",
    "spin_g.place(relwidth = 0.5, relheight = 0.3, relx = 0.5, rely = 0.6)\n",
    "\n",
    "#run\n",
    "root.mainloop()"
   ]
  },
  {
   "cell_type": "code",
   "execution_count": null,
   "id": "13c67aa8-ce35-4f7c-92d5-59a3ae41a6f3",
   "metadata": {},
   "outputs": [],
   "source": []
  }
 ],
 "metadata": {
  "kernelspec": {
   "display_name": "Python 3 (ipykernel)",
   "language": "python",
   "name": "python3"
  },
  "language_info": {
   "codemirror_mode": {
    "name": "ipython",
    "version": 3
   },
   "file_extension": ".py",
   "mimetype": "text/x-python",
   "name": "python",
   "nbconvert_exporter": "python",
   "pygments_lexer": "ipython3",
   "version": "3.12.2"
  }
 },
 "nbformat": 4,
 "nbformat_minor": 5
}
