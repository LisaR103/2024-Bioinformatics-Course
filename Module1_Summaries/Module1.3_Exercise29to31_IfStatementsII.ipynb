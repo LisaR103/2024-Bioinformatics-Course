{
 "cells": [
  {
   "cell_type": "markdown",
   "id": "f8eae369-219e-46de-9c1d-20680cffa884",
   "metadata": {},
   "source": [
    "# Module 1.3 if statements with data structures\n",
    "\n",
    "## Table of content\n",
    "\n",
    "[if statements with data structures](#if-statements-with-data-structures)\n",
    "1. [in](#in)\n",
    "   1. [lists/setes/tuples](#lists/sets/tuples)\n",
    "   2. [dictionaries](#dictionaries)\n",
    "3. [any() and all()](#any()-and-all())\n",
    "\n",
    "[Exercises](#Exercises)\n",
    "1. [Exercise 29 - Checking for elements](#Exercise-29---Checking-for-elements)\n",
    "2. [Exercise 30 - Searching in dictionaries](#Exercise-30---Searching-in-dictionaries)\n",
    "3. [Exercise 31 - Working with any() and all()](#Exercise-31---Working-with-any()-and-all())"
   ]
  },
  {
   "cell_type": "markdown",
   "id": "37a1374a-74b0-434c-9c43-3aafceb93913",
   "metadata": {},
   "source": [
    "# if statements with data structures"
   ]
  },
  {
   "cell_type": "markdown",
   "id": "77dc0fec-b6d8-4c41-b540-2397453d07eb",
   "metadata": {},
   "source": [
    "## in\n",
    "\n",
    "combining an if statement with the keywod `in` allows to search in data structures\n",
    "\n",
    "### lists/sets/tuples\n",
    "\n",
    "For lists/sets/tuples this is very straight forward\n",
    "\n",
    "    if element in list:\n",
    "        instruction1\n",
    "\n"
   ]
  },
  {
   "cell_type": "code",
   "execution_count": 1,
   "id": "f90fba0f-a7f6-4acc-9389-24b8dd731014",
   "metadata": {},
   "outputs": [
    {
     "name": "stdout",
     "output_type": "stream",
     "text": [
      "Yes\n"
     ]
    }
   ],
   "source": [
    "list1 = [2,3,4,5,6,7]\n",
    "\n",
    "if 2 in list1:\n",
    "    print(\"Yes\")"
   ]
  },
  {
   "cell_type": "markdown",
   "id": "a8b22585-dbf7-44d0-a489-abbfc78ec9b8",
   "metadata": {},
   "source": [
    "### dictionaries\n",
    "\n",
    "For dictionaries it depends whether we search for the key or the value. If we use just the dictionary name it automatically searches through the keys. If we want to search the values we have to specify this!\n",
    "\n",
    "- `key`\n",
    "\n",
    "        if key in dict:\n",
    "          instructions1   \n",
    "\n",
    "- `value`\n",
    "\n",
    "        if value in dict.values():\n",
    "          instructions1\n"
   ]
  },
  {
   "cell_type": "code",
   "execution_count": 2,
   "id": "f29b1487-1e6e-48dd-a249-c4cdb0c453c8",
   "metadata": {},
   "outputs": [
    {
     "name": "stdout",
     "output_type": "stream",
     "text": [
      "A\n",
      "2\n"
     ]
    }
   ],
   "source": [
    "dict1 = {\"A\":1, \"B\":2, \"C\":3}\n",
    "\n",
    "if \"A\" in dict1:\n",
    "    print(\"A\")\n",
    "\n",
    "if 2 in dict1.values():\n",
    "    print(2)"
   ]
  },
  {
   "cell_type": "markdown",
   "id": "1a009ca5-9137-479a-8aa1-c68ebcad1995",
   "metadata": {},
   "source": [
    "## any() and all()\n",
    "\n",
    "Usage for an example list called list1\n",
    "\n",
    "    if any(elem > 6 for elem in list1): \n",
    "        instruction1\n",
    "\n",
    "elem is a \"temporary variable\" that goes through each element in the list/dictionary etc. one by one. elem can be anything I want     \n",
    "this is only possible if all elements in the list (or other data structure) are of the same type, because numbers and strings cannot be compared\n",
    "\n",
    "`any()` checks if there is even just a SINGLE element that fulfillfs the criteria\n",
    "\n",
    "`all()` checks if ALL elements fulfill the criteria"
   ]
  },
  {
   "cell_type": "code",
   "execution_count": 3,
   "id": "e0d77355-797e-4082-9993-4feb67624d50",
   "metadata": {},
   "outputs": [],
   "source": [
    "list1 = [2,3,4,5,6,7]"
   ]
  },
  {
   "cell_type": "code",
   "execution_count": 4,
   "id": "257ae3ee-6e38-4a91-997b-e65760007e24",
   "metadata": {},
   "outputs": [
    {
     "name": "stdout",
     "output_type": "stream",
     "text": [
      "Yes\n"
     ]
    }
   ],
   "source": [
    "if any(elem > 2 for elem in list1):\n",
    "    print(\"Yes\")\n",
    "\n",
    "else:\n",
    "    print(\"No\")"
   ]
  },
  {
   "cell_type": "code",
   "execution_count": 5,
   "id": "d14862a6-b246-4e41-85e3-da9599adc7f6",
   "metadata": {},
   "outputs": [
    {
     "name": "stdout",
     "output_type": "stream",
     "text": [
      "No\n"
     ]
    }
   ],
   "source": [
    "if all(elem > 2 for elem in list1):\n",
    "    print(\"Yes\")\n",
    "else:\n",
    "    print(\"No\")"
   ]
  },
  {
   "cell_type": "markdown",
   "id": "08064f65-eeba-4df7-b1c6-e52cddc7720c",
   "metadata": {},
   "source": [
    "# Exercises"
   ]
  },
  {
   "cell_type": "markdown",
   "id": "b98cd11c-58d7-4485-8ba3-3d260a3fbfd9",
   "metadata": {},
   "source": [
    "## Exercise 29 - Checking for elements\n",
    "\n",
    "Write a program that generates a list with contents of your choice. Now create three if\n",
    "statements to check whether a value of your choice is part of your list or not. Print out an\n",
    "appropriate answer."
   ]
  },
  {
   "cell_type": "code",
   "execution_count": 6,
   "id": "43ba4101-2dae-4d1b-a274-666cfe44d545",
   "metadata": {},
   "outputs": [],
   "source": [
    "#create two lists\n",
    "list1 = [2,3,4,5,6,7]\n",
    "list2 = [\"apple\",\"orange\",\"banana\"]"
   ]
  },
  {
   "cell_type": "code",
   "execution_count": 7,
   "id": "628720ee-c9b0-4cc9-ad50-ddaa2b20da49",
   "metadata": {},
   "outputs": [
    {
     "name": "stdout",
     "output_type": "stream",
     "text": [
      "Yes, 3 is there\n"
     ]
    }
   ],
   "source": [
    "#first check\n",
    "if 3 in list1:\n",
    "    print(\"Yes, 3 is there\")\n",
    "\n",
    "else: \n",
    "    print(\"No, 3 is not there\")"
   ]
  },
  {
   "cell_type": "code",
   "execution_count": 8,
   "id": "7ba134b8-ffed-47d4-abe3-98cd3785465c",
   "metadata": {},
   "outputs": [
    {
     "name": "stdout",
     "output_type": "stream",
     "text": [
      "No, 8 is not there\n"
     ]
    }
   ],
   "source": [
    "#second check\n",
    "if 8 in list1:\n",
    "      print(\"Yes, 8 is there\")\n",
    "\n",
    "else: \n",
    "    print(\"No, 8 is not there\")"
   ]
  },
  {
   "cell_type": "code",
   "execution_count": 9,
   "id": "be9c07d4-fba1-4bd0-a8a7-eaff2c7fbcb0",
   "metadata": {},
   "outputs": [
    {
     "name": "stdout",
     "output_type": "stream",
     "text": [
      "Yes, apple is there\n"
     ]
    }
   ],
   "source": [
    "#third check\n",
    "if \"apple\" in list2:\n",
    "    print(\"Yes, apple is there\")\n",
    "\n",
    "else: \n",
    "    print(\"No, apple is not there\")"
   ]
  },
  {
   "cell_type": "code",
   "execution_count": 10,
   "id": "c5be7960-31b7-442a-ac21-79090a48c307",
   "metadata": {},
   "outputs": [
    {
     "name": "stdout",
     "output_type": "stream",
     "text": [
      "No, pear is not there\n"
     ]
    }
   ],
   "source": [
    "#fourth check\n",
    "if \"pear\" in list2:\n",
    "    print(\"Yes, pear is there\")\n",
    "\n",
    "else: \n",
    "    print(\"No, pear is not there\")"
   ]
  },
  {
   "cell_type": "markdown",
   "id": "851371b3-7043-4820-aa82-6ffd1cc544f9",
   "metadata": {},
   "source": [
    "## Exercise 30 - Searching in dictionaries\n",
    "\n",
    "Create a dictionary with at least five entries with biological or biochemical background. Let\n",
    "the user specify a new key/value pair by getting two inputs from him. Search the dictionary\n",
    "for the specified key. If the key is already present tell the user that you update the value for\n",
    "this key, if the key does not exist tell the user that it’s added to the dictionary. Run the same\n",
    "code at least three times during one call of the program. Print out the original dictionary at\n",
    "the beginning and the modified dictionary at the end."
   ]
  },
  {
   "cell_type": "code",
   "execution_count": 11,
   "id": "fcc18760-1fb5-4879-895f-e5b811500e38",
   "metadata": {},
   "outputs": [],
   "source": [
    "#creating the dictionary\n",
    "dict2 = {\"EGFR\":45,\"ERBB2\":65, \"ERBB3\":78, \"AKT\":987, \"ERK\":897,\"S6\":65}"
   ]
  },
  {
   "cell_type": "code",
   "execution_count": 12,
   "id": "ec614b9e-5d41-4aed-94fa-55f46ee78b81",
   "metadata": {},
   "outputs": [],
   "source": [
    "#user specifies two inputs:\n",
    "key1 = \"ERBB4\"\n",
    "value1 = 3456\n",
    "\n",
    "key2 = \"AKT\"\n",
    "value2 = 0"
   ]
  },
  {
   "cell_type": "code",
   "execution_count": 13,
   "id": "5877b458-ad78-4980-a0f9-6da396e06d2f",
   "metadata": {},
   "outputs": [
    {
     "name": "stdout",
     "output_type": "stream",
     "text": [
      "First run\n",
      "{'EGFR': 45, 'ERBB2': 65, 'ERBB3': 78, 'AKT': 987, 'ERK': 897, 'S6': 65}\n",
      "\n",
      "ERBB4 with value 3456 was added to the dictionary\n",
      "\n",
      "{'EGFR': 45, 'ERBB2': 65, 'ERBB3': 78, 'AKT': 987, 'ERK': 897, 'S6': 65, 'ERBB4': 3456}\n",
      "\n",
      "AKT was updated from value 987 to value 0\n",
      "\n",
      "{'EGFR': 45, 'ERBB2': 65, 'ERBB3': 78, 'AKT': 0, 'ERK': 897, 'S6': 65, 'ERBB4': 3456}\n",
      "\n"
     ]
    }
   ],
   "source": [
    "##First run\n",
    "print(\"First run\")\n",
    "#print the dictionary\n",
    "print(dict2)\n",
    "\n",
    "#add a cosmetic print() to separate the outputs\n",
    "print()\n",
    "\n",
    "#ask if key1 is already present in dict2:\n",
    "if key1 in dict2:\n",
    "    #if the key is there, there is a subquestion:\n",
    "    #is the value the user provided the same as the one in the dictionary? \n",
    "    if value1 == dict2[key1]:\n",
    "        #If the value is the same, just let the user know that it's already there and doesn't need to be updated\n",
    "        print(f\"{key1} is already of value {value1}\")\n",
    "\n",
    "    #if the value is different: \n",
    "    else:\n",
    "        #let the user know that the value was updated and update the value\n",
    "        print(f\"{key1} was updated from value {dict2[key1]} to value {value1}\")\n",
    "        dict2[key1] = value1\n",
    "\n",
    "#if the key is not already present: \n",
    "else:\n",
    "    #add it and let the user know that you did so\n",
    "    print(f\"{key1} with value {value1} was added to the dictionary\")\n",
    "    dict2[key1] = value1\n",
    "\n",
    "print()\n",
    "print(dict2)\n",
    "print()\n",
    "\n",
    "#do the same as above for key1 for key2\n",
    "if key2 in dict2:\n",
    "    if value2 == dict2[key2]:\n",
    "        print(f\"{key2} is already of value {value2}\")\n",
    "\n",
    "    else:\n",
    "        print(f\"{key2} was updated from value {dict2[key2]} to value {value2}\")\n",
    "        dict2[key2] = value2\n",
    "\n",
    "else:\n",
    "    print(f\"{key2} with value {value2} was added to the dictionary\")\n",
    "    dict2[key2] = value2\n",
    "\n",
    "print()\n",
    "print(dict2)\n",
    "print()"
   ]
  },
  {
   "cell_type": "code",
   "execution_count": 14,
   "id": "378ac846-cc82-4c6b-adf0-65e311b2f500",
   "metadata": {},
   "outputs": [
    {
     "name": "stdout",
     "output_type": "stream",
     "text": [
      "Second run\n",
      "{'EGFR': 45, 'ERBB2': 65, 'ERBB3': 78, 'AKT': 0, 'ERK': 897, 'S6': 65, 'ERBB4': 3456}\n",
      "\n",
      "ERBB4 is already of value 3456\n",
      "\n",
      "{'EGFR': 45, 'ERBB2': 65, 'ERBB3': 78, 'AKT': 0, 'ERK': 897, 'S6': 65, 'ERBB4': 3456}\n",
      "\n",
      "AKT is already of value 0\n",
      "\n",
      "{'EGFR': 45, 'ERBB2': 65, 'ERBB3': 78, 'AKT': 0, 'ERK': 897, 'S6': 65, 'ERBB4': 3456}\n",
      "\n"
     ]
    }
   ],
   "source": [
    "##Second run\n",
    "print(\"Second run\")\n",
    "#print the dictionary\n",
    "print(dict2)\n",
    "\n",
    "#add a cosmetic print() to separate the outputs\n",
    "print()\n",
    "\n",
    "#define the if statement depending on the presence of key1 in the dictionary\n",
    "if key1 in dict2:\n",
    "    if value1 == dict2[key1]:\n",
    "        print(f\"{key1} is already of value {value1}\")\n",
    "\n",
    "    else:\n",
    "        print(f\"{key1} was updated from value {dict2[key1]} to value {value1}\")\n",
    "        dict2[key1] = value1\n",
    "\n",
    "else:\n",
    "    print(f\"{key1} with value {value1} was added to the dictionary\")\n",
    "    dict2[key1] = value1\n",
    "\n",
    "print()\n",
    "print(dict2)\n",
    "print()\n",
    "\n",
    "#define the if statement depending on the presence of key2 in the dictionary\n",
    "if key2 in dict2:\n",
    "    if value2 == dict2[key2]:\n",
    "        print(f\"{key2} is already of value {value2}\")\n",
    "\n",
    "    else:\n",
    "        print(f\"{key2} was updated from value {dict2[key2]} to value {value2}\")\n",
    "        dict2[key2] = value2\n",
    "\n",
    "else:\n",
    "    print(f\"{key2} with value {value2} was added to the dictionary\")\n",
    "    dict2[key2] = value2\n",
    "\n",
    "print()\n",
    "print(dict2)\n",
    "print()"
   ]
  },
  {
   "cell_type": "code",
   "execution_count": 15,
   "id": "3dcab1c5-b903-4dec-a943-2791981ca336",
   "metadata": {},
   "outputs": [
    {
     "name": "stdout",
     "output_type": "stream",
     "text": [
      "Third run\n",
      "{'EGFR': 45, 'ERBB2': 65, 'ERBB3': 78, 'AKT': 0, 'ERK': 897, 'S6': 65, 'ERBB4': 3456}\n",
      "\n",
      "ERBB4 is already of value 3456\n",
      "\n",
      "{'EGFR': 45, 'ERBB2': 65, 'ERBB3': 78, 'AKT': 0, 'ERK': 897, 'S6': 65, 'ERBB4': 3456}\n",
      "\n",
      "AKT is already of value 0\n",
      "\n",
      "{'EGFR': 45, 'ERBB2': 65, 'ERBB3': 78, 'AKT': 0, 'ERK': 897, 'S6': 65, 'ERBB4': 3456}\n",
      "\n"
     ]
    }
   ],
   "source": [
    "##Third run\n",
    "print(\"Third run\")\n",
    "#print the dictionary\n",
    "print(dict2)\n",
    "\n",
    "#add a cosmetic print() to separate the outputs\n",
    "print()\n",
    "\n",
    "#define the if statement depending on the presence of key1 in the dictionary\n",
    "if key1 in dict2:\n",
    "    if value1 == dict2[key1]:\n",
    "        print(f\"{key1} is already of value {value1}\")\n",
    "\n",
    "    else:\n",
    "        print(f\"{key1} was updated from value {dict2[key1]} to value {value1}\")\n",
    "        dict2[key1] = value1\n",
    "\n",
    "else:\n",
    "    print(f\"{key1} with value {value1} was added to the dictionary\")\n",
    "    dict2[key1] = value1\n",
    "\n",
    "print()\n",
    "print(dict2)\n",
    "print()\n",
    "\n",
    "#define the if statement depending on the presence of key2 in the dictionary\n",
    "if key2 in dict2:\n",
    "    if value2 == dict2[key2]:\n",
    "        print(f\"{key2} is already of value {value2}\")\n",
    "\n",
    "    else:\n",
    "        print(f\"{key2} was updated from value {dict2[key2]} to value {value2}\")\n",
    "        dict2[key2] = value2\n",
    "\n",
    "else:\n",
    "    print(f\"{key2} with value {value2} was added to the dictionary\")\n",
    "    dict2[key2] = value2\n",
    "\n",
    "print()\n",
    "print(dict2)\n",
    "print()"
   ]
  },
  {
   "cell_type": "markdown",
   "id": "f3d0b9c5-04dd-442c-8ed7-86b3802097f6",
   "metadata": {},
   "source": [
    "## Exercise 31 - Working with any() and all()\n",
    "\n",
    "Use the list at the end of this exercise to run the following checks using any() and all():\n",
    "1. Is there at least one element greater than 10?\n",
    "2. Is there at least one element smaller than -5?\n",
    "3. Is there at least one element that is equal to 20?\n",
    "4. Is there at least one element that is NOT equal to -10?\n",
    "5. Is every element negative?\n",
    "6. Is every element positive?\n",
    "7. Is every element greater than 10?\n",
    "8. Is every element equal to 15?\n",
    "9. Is every element in a range of -30 to 30? (Bonus)\n",
    "\n",
    "\n",
    "`list = [10,20,-3,-4,8,1,5,-25,5,6,-7,9,2,15]`"
   ]
  },
  {
   "cell_type": "code",
   "execution_count": 16,
   "id": "9bfc7ebb-867d-4aa3-bfaa-bbba146c7d79",
   "metadata": {},
   "outputs": [],
   "source": [
    "#create my list\n",
    "list3 = [10,20,-3,-4,8,1,5,-25,5,6,-7,9,2,15]"
   ]
  },
  {
   "cell_type": "code",
   "execution_count": 17,
   "id": "6cbee9d5-8310-40b6-9282-accbaf5c7334",
   "metadata": {},
   "outputs": [
    {
     "name": "stdout",
     "output_type": "stream",
     "text": [
      "Yes, there is a number > 10\n"
     ]
    }
   ],
   "source": [
    "#1st test: Is there at least one element greater than 10?\n",
    "if any(elem > 10 for elem in list3):\n",
    "    print(\"Yes, there is a number > 10\")\n",
    "\n",
    "else:\n",
    "    print(\"No, there is no number > 10\")"
   ]
  },
  {
   "cell_type": "code",
   "execution_count": 18,
   "id": "6432b276-eee0-4d8b-9b1d-92867bbdbccb",
   "metadata": {},
   "outputs": [
    {
     "name": "stdout",
     "output_type": "stream",
     "text": [
      "Yes, there is a number < -5\n"
     ]
    }
   ],
   "source": [
    "#2nd test: Is there at least one element smaller than -5?\n",
    "if any(elem < -5 for elem in list3):\n",
    "    print(\"Yes, there is a number < -5\")\n",
    "    \n",
    "else:\n",
    "    print(\"No, there is no number < -5\")"
   ]
  },
  {
   "cell_type": "code",
   "execution_count": 19,
   "id": "8b7c593b-5e37-4f78-a35a-e8a199b998ce",
   "metadata": {},
   "outputs": [
    {
     "name": "stdout",
     "output_type": "stream",
     "text": [
      "Yes, there is a number 20\n"
     ]
    }
   ],
   "source": [
    "#3rd test: Is there at least one element that is equal to 20?\n",
    "if any(elem == 20 for elem in list3):\n",
    "    print(\"Yes, there is a number 20\")\n",
    "    \n",
    "else:\n",
    "    print(\"No, there is no number 20\")"
   ]
  },
  {
   "cell_type": "code",
   "execution_count": 20,
   "id": "ac8018af-e098-409a-b221-59d2a43940c4",
   "metadata": {},
   "outputs": [
    {
     "name": "stdout",
     "output_type": "stream",
     "text": [
      "Yes, there is a number 20\n"
     ]
    }
   ],
   "source": [
    "#4th test: Is there at least one element that is equal to 20?\n",
    "if any(elem == 20 for elem in list3):\n",
    "    print(\"Yes, there is a number 20\")\n",
    "    \n",
    "else:\n",
    "    print(\"No, there is no number 20\")"
   ]
  },
  {
   "cell_type": "code",
   "execution_count": 21,
   "id": "e2bffc46-cbe2-452c-bebc-a8d8c56ee495",
   "metadata": {},
   "outputs": [
    {
     "name": "stdout",
     "output_type": "stream",
     "text": [
      "No, not all numbers are negative\n"
     ]
    }
   ],
   "source": [
    "#5th test: Is every element negative?\n",
    "if all(elem < 0 for elem in list3):\n",
    "    print(\"Yes, all numbers are negative\")\n",
    "    \n",
    "else:\n",
    "    print(\"No, not all numbers are negative\")"
   ]
  },
  {
   "cell_type": "code",
   "execution_count": 22,
   "id": "474af8f3-8a53-4221-abb9-a75c2a8e8ba2",
   "metadata": {},
   "outputs": [
    {
     "name": "stdout",
     "output_type": "stream",
     "text": [
      "No, not all numbers are positive\n"
     ]
    }
   ],
   "source": [
    "#6th test: Is every element positive?\n",
    "if all(elem > 0 for elem in list3):\n",
    "    print(\"Yes, all numbers are positive\")\n",
    "    \n",
    "else:\n",
    "    print(\"No, not all numbers are positive\")"
   ]
  },
  {
   "cell_type": "code",
   "execution_count": 23,
   "id": "057a5073-60a2-4e8c-8110-b53b7d5a93f8",
   "metadata": {},
   "outputs": [
    {
     "name": "stdout",
     "output_type": "stream",
     "text": [
      "No, not all numbers are > 10\n"
     ]
    }
   ],
   "source": [
    "#7th test: Is every element greater than 10?\n",
    "if all(elem > 10 for elem in list3):\n",
    "    print(\"Yes, all numbers are > 10\")\n",
    "    \n",
    "else:\n",
    "    print(\"No, not all numbers are > 10\")"
   ]
  },
  {
   "cell_type": "code",
   "execution_count": 24,
   "id": "6b3c84ee-d7d1-4068-850e-b0c2b3840e8a",
   "metadata": {},
   "outputs": [
    {
     "name": "stdout",
     "output_type": "stream",
     "text": [
      "No, not all numbers are 15\n"
     ]
    }
   ],
   "source": [
    "#8th test: Is every element equal to 15?\n",
    "if all(elem == 15 for elem in list3):\n",
    "    print(\"Yes, all numbers are 15\")\n",
    "    \n",
    "else:\n",
    "    print(\"No, not all numbers are 15\")"
   ]
  },
  {
   "cell_type": "code",
   "execution_count": 25,
   "id": "22f315df-93b9-477b-8389-a887270f219c",
   "metadata": {},
   "outputs": [
    {
     "name": "stdout",
     "output_type": "stream",
     "text": [
      "Yes, all numbers are between -30 and 30\n",
      "range() works, too!\n"
     ]
    }
   ],
   "source": [
    "#9th test: Is every element in a range of -30 to 30? (Bonus)\n",
    "if all(elem <= 30 and elem >= -30 for elem in list3):\n",
    "    print(\"Yes, all numbers are between -30 and 30\")\n",
    "    \n",
    "else:\n",
    "    print(\"No, not all numbers are between -30 and 30\")\n",
    "\n",
    "#Alternative:\n",
    "if all(elem in range(-30,31) for elem in list3):\n",
    "    print(\"range() works, too!\")"
   ]
  },
  {
   "cell_type": "code",
   "execution_count": null,
   "id": "cbf5553e-732b-4977-aa56-8ea8cf8eb6c3",
   "metadata": {},
   "outputs": [],
   "source": []
  }
 ],
 "metadata": {
  "kernelspec": {
   "display_name": "Python 3 (ipykernel)",
   "language": "python",
   "name": "python3"
  },
  "language_info": {
   "codemirror_mode": {
    "name": "ipython",
    "version": 3
   },
   "file_extension": ".py",
   "mimetype": "text/x-python",
   "name": "python",
   "nbconvert_exporter": "python",
   "pygments_lexer": "ipython3",
   "version": "3.12.2"
  }
 },
 "nbformat": 4,
 "nbformat_minor": 5
}
