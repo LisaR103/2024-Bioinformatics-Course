{
 "cells": [
  {
   "cell_type": "markdown",
   "id": "c1909f2c-c092-4f83-bf88-d9da9fdf88d2",
   "metadata": {},
   "source": [
    "# Module 1.3 Scientific Modules II\n",
    "\n",
    "## Table of contents\n",
    "\n",
    "1. [Table of contents](#Table-of-contents)\n",
    "2. [Scientific Modules II](#Scientific-Modules-II)\n",
    "    1. [Pandas](#Pandas)\n",
    "       1. [Data Structures](#Data-Structures)\n",
    "          1. [Series](#Series)\n",
    "          2. [DataFrames](#DataFrames)\n",
    "       3. [DataFrame methods](#DataFrame-methods)\n",
    "       4. [Accessing Series and DataFrames](#Accessing-Series-and-DataFrames)\n",
    "          1. [Accessing Elements in a Series](#Accessing-Elements-in-a-Series)\n",
    "          2. [Accessing Elements in a DataFrame](#Accessing-Elements-in-a-DataFrame)\n",
    "          3. [Accessing (parts of) rows and columns](#Accessing-(parts-of)-rows-and-columns)\n",
    "          4. [Adding rows or columns](#Adding-rows-or-columns)\n",
    "       5. [Pandas and files](#Pandas-and-files)\n",
    "3. [Exercises](#Exercises)\n",
    "    1. [Exercise 54 - Pandas DataFrames](#Exercise-54---Pandas-DataFrames)\n",
    "    2. [Exercise 55 - DataFrame methods](#Exercise-55---DataFrame-methods)\n",
    "    3. [Exercise 56 - Single elements in DataFrames](#Exercise-56---Single-elements-in-DataFrames)\n",
    "    4. [Exercise 57 - Modifying DataFrames](#Exercise-57---Modifying-DataFrames)\n",
    "    5. [Exercise 58 - Pandas and Files](#Exercise-58---Pandas-and-Files)"
   ]
  },
  {
   "cell_type": "markdown",
   "id": "d3bc8781-8866-41a7-8cea-5096455c2852",
   "metadata": {},
   "source": [
    "# Scientific Modules II"
   ]
  },
  {
   "cell_type": "markdown",
   "id": "1f3bcfc8-fa13-48f9-9e0f-6c3b0e84f5e1",
   "metadata": {},
   "source": [
    "## Pandas"
   ]
  },
  {
   "cell_type": "markdown",
   "id": "80c86292-686d-44b5-a6c0-06e73cb0f9e1",
   "metadata": {},
   "source": [
    "Pandas is used to work with tables, i.e. DataFrames\n",
    "\n",
    "- supports file formates like .csv, .xlsx, .sql, .json, .parquet\n",
    "- data manipulation on column work elementwise\n",
    "- straightforward extending/editing of DataFrame\n",
    "\n",
    "Standard import:\n",
    "\n",
    "    import pandas as pd"
   ]
  },
  {
   "cell_type": "code",
   "execution_count": 1,
   "id": "5cd63c53-7d6a-447d-9d52-f0dc27fa03f5",
   "metadata": {},
   "outputs": [],
   "source": [
    "#installed pandas via the terminal: `pip3 install pandas`\n",
    "#at the frist import I got a warning that `Pyarrow`will soon be a dependency of pandas, so just to be sure I install that as well?"
   ]
  },
  {
   "cell_type": "code",
   "execution_count": 2,
   "id": "620a8783-697d-4c9a-8d95-8287aa290847",
   "metadata": {},
   "outputs": [],
   "source": [
    "import pandas as pd\n",
    "#I also import NumPy since I need it in the examples\n",
    "import numpy as np"
   ]
  },
  {
   "cell_type": "markdown",
   "id": "175a1019-2f75-4af1-a8f2-ed547aef1315",
   "metadata": {},
   "source": [
    "### Data Structures\n"
   ]
  },
  {
   "cell_type": "markdown",
   "id": "05ecab28-71ca-49ce-90e7-3ab6bbde080f",
   "metadata": {},
   "source": [
    "Data structures\n",
    "\n",
    "- series (one dimensional):\n",
    "  seen as a one column data frame with row names\n",
    "- DataFrame (two dimensional):\n",
    "  has row names and column names\n",
    "\n",
    "\n",
    "> In pandas **index** means **row name**\n",
    "\n",
    "Notes on naming the rows and columns: \n",
    "\n",
    "- duplicate names in row and column names are possible but can lead to difficulties later (e.g. when trying to sort according to a column name that isn't unique)\n",
    "- the names are type sensitive! A column name 8 (type: int) will not be found when looking for \"8\" (type: str)   "
   ]
  },
  {
   "cell_type": "markdown",
   "id": "754a5ad5-d607-448a-a9c8-01454f07c5ba",
   "metadata": {},
   "source": [
    "#### Series"
   ]
  },
  {
   "cell_type": "markdown",
   "id": "faf9bc14-7710-4101-933b-d8f7f180e520",
   "metadata": {},
   "source": [
    "\n",
    "\n",
    "One dimensional, interpreted as a single column with row names -> pandas functions work on it. Similar to lists and tuples.\n",
    "\n",
    "Creating an empty series: \n",
    "\n",
    "    series1 = pd.Series()\n",
    "\n",
    "Data can be added in form of an iterable (list, tuple etc.). The first argument *always* has to be the data. It prefers to have the same datatype within one column, but it accepts mixed data types.\n",
    "\n",
    "Row names can be created using the argument `index = []`. The same number of arguments are needed for data and index!! If not specified the row names are numbers starting at 0. For ease of handling try to always name the rows using strings!\n"
   ]
  },
  {
   "cell_type": "code",
   "execution_count": 3,
   "id": "27ccb88a-32bd-40ee-8668-e6d3f667db4f",
   "metadata": {},
   "outputs": [
    {
     "name": "stdout",
     "output_type": "stream",
     "text": [
      "A    1.0\n",
      "B    3.0\n",
      "C    5.0\n",
      "D    NaN\n",
      "E    6.0\n",
      "F    8.0\n",
      "dtype: float64\n"
     ]
    }
   ],
   "source": [
    "series1 = pd.Series([1, 3, 5, None, 6, 8],index=[\"A\",\"B\",\"C\",\"D\",\"E\",\"F\"])\n",
    "print(series1)\n",
    "\n",
    "#Note that the placehiolder `None` is recognized as float, which turns the rest of the numbers into floats as well."
   ]
  },
  {
   "cell_type": "code",
   "execution_count": 4,
   "id": "e9ce0a72-00a8-4e4f-979d-351f97fcee47",
   "metadata": {},
   "outputs": [
    {
     "name": "stdout",
     "output_type": "stream",
     "text": [
      "1.0\n",
      "1.0\n"
     ]
    },
    {
     "name": "stderr",
     "output_type": "stream",
     "text": [
      "/var/folders/pq/1h0dzqv16j58hqpqtlb29y280000gn/T/ipykernel_34841/1265678217.py:1: FutureWarning: Series.__getitem__ treating keys as positions is deprecated. In a future version, integer keys will always be treated as labels (consistent with DataFrame behavior). To access a value by position, use `ser.iloc[pos]`\n",
      "  print(series1[0])\n"
     ]
    }
   ],
   "source": [
    "print(series1[0])\n",
    "print(series1[\"A\"])"
   ]
  },
  {
   "cell_type": "markdown",
   "id": "1575a785-060c-4f68-bb97-55b2e7b0b9a0",
   "metadata": {},
   "source": [
    "#### DataFrames"
   ]
  },
  {
   "cell_type": "markdown",
   "id": "37b26d2e-9688-46c8-a574-5e74d6f68a16",
   "metadata": {},
   "source": [
    "\n",
    "\n",
    "Two dimensional with row and column names\n",
    "\n",
    "Creation of an empty DataFrame:\n",
    "\n",
    "    df1 = pd.DataFrame()\n",
    "\n",
    "Data can already be added at the moment of creation, e.g. by putting in an ndarray (e.g. np.random.randn(2,4))\n",
    "\n",
    "Row names can be named using `index = []`, columns can be named using `columns = []` \n",
    "\n",
    "If I define `index` and `columns` without data I create an empty DataFrame that is already defined\n",
    "\n",
    "If the columns or row names need to be changed, this is done with a dictionary, where the key is the current and the value the new name:\n",
    "\n",
    "    df = df.rename(columns = {\"OldColName1\":\"NewColName1\",\"OldColName2\":\"NewColName2\"}, index = {\"OldRowName1\":\"NewRowName1\"})"
   ]
  },
  {
   "cell_type": "code",
   "execution_count": 5,
   "id": "4ad4a7cc-f490-4239-acf1-a1a5669c014e",
   "metadata": {},
   "outputs": [
    {
     "name": "stdout",
     "output_type": "stream",
     "text": [
      "              A         B         C         D\n",
      "Test1  0.745268  0.889983  0.148750  1.502688\n",
      "Test2 -0.532049 -0.925582  0.450910  0.236353\n",
      "Test3 -0.366323 -0.167643 -1.088904  0.615240\n"
     ]
    }
   ],
   "source": [
    "dataframe1 = pd.DataFrame(np.random.randn(3,4), index=[\"Test1\",\"Test2\",\"Test3\"], columns=[\"A\",\"B\",\"C\",\"D\"])\n",
    "print(dataframe1)"
   ]
  },
  {
   "cell_type": "code",
   "execution_count": 6,
   "id": "08fe4b67-c43e-48e8-880b-b3dff6635d15",
   "metadata": {},
   "outputs": [
    {
     "name": "stdout",
     "output_type": "stream",
     "text": [
      "         Hello1    Hello2         C         D\n",
      "New    0.745268  0.889983  0.148750  1.502688\n",
      "Test2 -0.532049 -0.925582  0.450910  0.236353\n",
      "Test3 -0.366323 -0.167643 -1.088904  0.615240\n"
     ]
    }
   ],
   "source": [
    "dataframe1b = dataframe1.rename(columns = {\"A\":\"Hello1\",\"B\":\"Hello2\"}, index = {\"Test1\":\"New\"})\n",
    "print(dataframe1b)"
   ]
  },
  {
   "cell_type": "markdown",
   "id": "4664ea95-f609-4827-afa3-752ad6122e0e",
   "metadata": {},
   "source": [
    "### DataFrame methods"
   ]
  },
  {
   "cell_type": "markdown",
   "id": "5301b846-d200-4332-a9cd-58ad2eccadf2",
   "metadata": {},
   "source": [
    "Generally the DataFrame methods work column wise. By specifying `axis = 1` this behaviour changes to row wise\n",
    "\n",
    "`df.sum()`    \n",
    "sums up all the values in the columns, returns a series with column names as row names.\n",
    "\n",
    "`df.sum(axis = 1)`    \n",
    "sums up all the values in the rows, returns a series with row names as row names.\n",
    "\n",
    "`df.describe()`   \n",
    "described the df: count, mean, stdv, min, 25%, 50%, 75%, max     \n",
    "note that in count `nan` is not counted, so we immediately see missing values\n",
    "\n",
    "`df.sort_index()`   \n",
    "default works row wise not column wise! Data is sorted according to the row names, with axis = 1 according to column names.   \n",
    "default works ascending, for descending add `ascending = False`    \n",
    "does not work in-place but creates a new DataFrame    \n",
    "   \n",
    "\n",
    "`df.sort_values(by = \"columnname\")` or `df.sort_values([\"colname\"])`      \n",
    "Sorts the df by the values in a specified column. To sort by row add `axis = 1`.   \n",
    "Sorting according to several columns: `df.sort_values([\"colname1\",\"colname2\"])`     \n",
    "does not work in-place but creates a new DataFrame \n",
    "\n",
    "`df.index`   \n",
    "Without `()`! Gives all row names.    \n",
    "We can even access individual names with `[]`. Behaves a bit like a list, but *isn't* a list. List methods won't work.\n",
    "\n",
    "`df.columns`   \n",
    "Without `()`! Gives all column names.    \n",
    "We can even access individual names with `[]`. Behaves a bit like a list, but *isn't* a list. List methods won't work.\n",
    "\n",
    "\n",
    "index and column names are *Attributes* of our DataFrame. Attributes are always used without `()`"
   ]
  },
  {
   "cell_type": "markdown",
   "id": "50a7fe5f-d00d-4566-90ee-1331a6662ccb",
   "metadata": {},
   "source": [
    "### Accessing Series and DataFrames"
   ]
  },
  {
   "cell_type": "markdown",
   "id": "e8290bc6-c446-4530-9af9-763935137ee6",
   "metadata": {},
   "source": [
    "#### Accessing Elements in a Series"
   ]
  },
  {
   "cell_type": "markdown",
   "id": "e83bc717-85c5-4478-8b74-ecbb39678b92",
   "metadata": {},
   "source": [
    "Elements in a series are accessed using `[]` with the rowname:\n",
    "\n",
    "    series1[Rowname]\n",
    "    \n",
    "Only a single element can be accessed this way\n",
    "\n",
    "Elements in series *can* be accessed using indices `series[idx]` starting at 0, but this is **not recommended**    \n",
    "-> it doesn't work as soon as there is a single number in the rownames as there will then be a conflict!\n",
    "\n",
    "To access elements using indices use\n",
    "\n",
    "    series1.iloc[idx]\n",
    "\n",
    "This supports slices as well (but not tuples)"
   ]
  },
  {
   "cell_type": "code",
   "execution_count": 7,
   "id": "2210d7ca-b00c-4e27-b941-e74f41254297",
   "metadata": {},
   "outputs": [
    {
     "name": "stdout",
     "output_type": "stream",
     "text": [
      "A    1.0\n",
      "B    3.0\n",
      "C    5.0\n",
      "D    NaN\n",
      "E    6.0\n",
      "F    8.0\n",
      "dtype: float64\n",
      "\n",
      "1.0\n",
      "1.0\n",
      "A    1.0\n",
      "B    3.0\n",
      "dtype: float64\n"
     ]
    }
   ],
   "source": [
    "#The index and the row name both work because all row names are strings. \n",
    "#If the rownames are not defined the default is equal to the index\n",
    "print(series1)\n",
    "print()\n",
    "print(series1[\"A\"])\n",
    "print(series1.iloc[0])\n",
    "print(series1.iloc[0:2])"
   ]
  },
  {
   "cell_type": "markdown",
   "id": "7368ce3f-ad07-4f56-a3b2-23cc5f35df60",
   "metadata": {},
   "source": [
    "#### Accessing Elements in a DataFrame"
   ]
  },
  {
   "cell_type": "markdown",
   "id": "e29f8deb-784a-4e3f-a9e3-7b1030934e51",
   "metadata": {},
   "source": [
    "There are two methods to access elements in a DataFrame:"
   ]
  },
  {
   "cell_type": "markdown",
   "id": "054053e8-2123-4a6b-8eb2-a8ed57061ca1",
   "metadata": {},
   "source": [
    "##### df.loc()"
   ]
  },
  {
   "cell_type": "markdown",
   "id": "02ed0d92-ae98-4c99-86d8-5c024484489b",
   "metadata": {},
   "source": [
    "\n",
    "\n",
    "`df.loc` uses the colname and rowname to access an element\n",
    "\n",
    "    df.loc[Rowname,Colname]\n",
    "    \n",
    "e.g.: `df1.loc[\"Row1\",\"Col2\"]` accesses the element in the row called \"Row1\" and column called \"Col2\" of df1\n",
    "\n",
    "\n",
    "\n"
   ]
  },
  {
   "cell_type": "code",
   "execution_count": 8,
   "id": "aa61fbd4-1972-4220-ba38-0e02bff38254",
   "metadata": {},
   "outputs": [
    {
     "name": "stdout",
     "output_type": "stream",
     "text": [
      "              A         B         C         D\n",
      "Test1  0.745268  0.889983  0.148750  1.502688\n",
      "Test2 -0.532049 -0.925582  0.450910  0.236353\n",
      "Test3 -0.366323 -0.167643 -1.088904  0.615240\n",
      "\n",
      "-0.5320486676460422\n"
     ]
    }
   ],
   "source": [
    "#Example:\n",
    "print(dataframe1)\n",
    "print()\n",
    "print(dataframe1.loc[\"Test2\",(\"A\")])"
   ]
  },
  {
   "cell_type": "markdown",
   "id": "5ae684c6-bfa5-4149-8b92-42cf74efa271",
   "metadata": {},
   "source": [
    "##### df.iloc()"
   ]
  },
  {
   "cell_type": "markdown",
   "id": "1871eebe-41c4-4a03-bfc5-ad93918e8259",
   "metadata": {},
   "source": [
    "`df.iloc` uses the indices similar to accessing multidimensional lists, indices start at 0. Two ways of writing it:\n",
    "    \n",
    "    df.iloc[row_idx].iloc[col_idx]\n",
    "    df.iloc[row_idx,col_idx]\n",
    "\n",
    "`df.iloc[3].iloc[2]` or `df.iloc[3,2]` accesses the element in the fourth row and third column (indices star at 0)   \n",
    "\n",
    "The syntax `df.iloc[row_idx][col_idx]` works as well, *but only* as long as the column names are either all *unique strings* or *haven't been defined* (i.e. are the same as the index)\n",
    "\n",
    "Why this is so:    \n",
    "`df1.iloc[3]` will create a series of the fourth row with the colnames of df1 as row names. (see below accessing rows and columns)     \n",
    "Since `series[x]` looks for rownames before indices the correct use would be `df.iloc[idx][Rowname]`   \n",
    "`df.iloc[idx][idx]` will be depreciated since it leads to errors when duplicate row names are present or there are numbers in the row names.\n",
    "\n",
    "**For** `iloc` **always use the syntax** `df.iloc[idx_row].iloc[idx_col]` **or** `df.iloc[row_idx,col_idx]`"
   ]
  },
  {
   "cell_type": "code",
   "execution_count": 9,
   "id": "babe7dd4-9eab-4b94-bd1b-fc7ac17289b4",
   "metadata": {},
   "outputs": [
    {
     "name": "stdout",
     "output_type": "stream",
     "text": [
      "              A         B         C         D\n",
      "Test1  0.745268  0.889983  0.148750  1.502688\n",
      "Test2 -0.532049 -0.925582  0.450910  0.236353\n",
      "Test3 -0.366323 -0.167643 -1.088904  0.615240\n",
      "\n",
      "0.4509102918586784\n",
      "0.4509102918586784\n"
     ]
    }
   ],
   "source": [
    "#Examples:\n",
    "print(dataframe1)\n",
    "print()\n",
    "print(dataframe1.iloc[1].iloc[2])\n",
    "print(dataframe1.iloc[1,2])"
   ]
  },
  {
   "cell_type": "markdown",
   "id": "b080f8c7-e987-430e-9012-0636ef20c4d4",
   "metadata": {},
   "source": [
    "#### Accessing (parts of) rows and columns"
   ]
  },
  {
   "cell_type": "markdown",
   "id": "e8238860-4500-4e52-a7b4-817176a7ae39",
   "metadata": {},
   "source": [
    "> Note: if a single row or column is accessed the returned object is a series where the rownames are the former colnames (if a row was accessed) or rownames (if a column was accessed) of the df. When at least two rows and two columns are accessed a DataFrame is returned."
   ]
  },
  {
   "cell_type": "markdown",
   "id": "6a8e8e1c-cb61-441d-af49-13e961ee0ab1",
   "metadata": {},
   "source": [
    "##### using loc()"
   ]
  },
  {
   "cell_type": "markdown",
   "id": "f004e222-f3bd-4a24-b427-f035178eafac",
   "metadata": {},
   "source": [
    "Several rows or columns can be accessed with a tuple or a slice.    \n",
    "First and last row in a slice may be left undefined -> for a whole row or column put simply `:`\n",
    "\n",
    "Examples:\n",
    "\n",
    "- to access a single row, replace the column with `:`    \n",
    "  `df.loc[Rowname,:]`    \n",
    "  may be shortened to    \n",
    "  `df.loc[Rowname]`\n",
    "- to access a single column, replace the row with `:`    \n",
    "  `df.loc[:,Colname]`\n",
    "- to access two entire rows, replace the column with `:` and add the rownames as a tuple    \n",
    "  `df.loc[(Rowname1, Rowname2),:]`\n",
    "- to access a defined subset add the rownames and colnames as tuples    \n",
    "  `df.loc[(Rowname1, Rowname2),(Colname3,Colname4)]`\n",
    "\n",
    "> Note: if a single row or column is accessed the returned object is a series where the rownames are the former colnames (if a row was accessed) or rownames (if a column was accessed) of the df. When at least two rows and two columns are accessed a DataFrame is returned.\n"
   ]
  },
  {
   "cell_type": "code",
   "execution_count": 10,
   "id": "32ca2007-169a-42e4-9fc9-519cd616d1a9",
   "metadata": {},
   "outputs": [
    {
     "name": "stdout",
     "output_type": "stream",
     "text": [
      "              A         B         C         D\n",
      "Test1  0.745268  0.889983  0.148750  1.502688\n",
      "Test2 -0.532049 -0.925582  0.450910  0.236353\n",
      "Test3 -0.366323 -0.167643 -1.088904  0.615240\n",
      "\n",
      "A   -0.532049\n",
      "B   -0.925582\n",
      "C    0.450910\n",
      "D    0.236353\n",
      "Name: Test2, dtype: float64\n",
      "Test1    0.745268\n",
      "Test2   -0.532049\n",
      "Test3   -0.366323\n",
      "Name: A, dtype: float64\n",
      "              A         B\n",
      "Test1  0.745268  0.889983\n",
      "Test2 -0.532049 -0.925582\n",
      "Test3 -0.366323 -0.167643\n",
      "              A         B         C\n",
      "Test1  0.745268  0.889983  0.148750\n",
      "Test2 -0.532049 -0.925582  0.450910\n",
      "Test3 -0.366323 -0.167643 -1.088904\n",
      "              A         B         C         D\n",
      "Test2 -0.532049 -0.925582  0.450910  0.236353\n",
      "Test3 -0.366323 -0.167643 -1.088904  0.615240\n"
     ]
    }
   ],
   "source": [
    "#Examples for loc\n",
    "print(dataframe1)\n",
    "print()\n",
    "#only the row Test2\n",
    "print(dataframe1.loc[\"Test2\"])\n",
    "#only the column \"A\"\n",
    "print(dataframe1.loc[:,\"A\"])\n",
    "#both column \"A\" and \"B\"\n",
    "print(dataframe1.loc[:,(\"A\",\"B\")])\n",
    "#columns \"A\" to \"C\"\n",
    "print(dataframe1.loc[:,\"A\":\"C\"])\n",
    "#row \"Test\" till end\n",
    "print(dataframe1.loc[\"Test2\":])"
   ]
  },
  {
   "cell_type": "markdown",
   "id": "1659ff52-101f-4708-a448-05ab0b57b9b5",
   "metadata": {},
   "source": [
    "##### Using iloc"
   ]
  },
  {
   "cell_type": "markdown",
   "id": "8121edb0-db97-4834-996a-36d2c64c0ac2",
   "metadata": {},
   "source": [
    "Only use the syntax `df.iloc[row,col]`   \n",
    "Several rows or columns can be accessed with a list or a slice.    \n",
    "All rows or columns are accessed with a `:`\n",
    "\n",
    "Examples:\n",
    "\n",
    "- slicing    \n",
    "  `df.iloc[ridx1:ridx2, cidx1:cidx2]`   \n",
    "- to access a single row:    \n",
    "  `df.iloc[row_idx,:]`    \n",
    "  can be abbreviated to `df.iloc[row_idx,]` or `df.iloc[row_idx]`\n",
    "- to access a single column:    \n",
    "  `df.iloc[:,col_idx]`    \n",
    "  cannot be abbreviated!\n",
    "- integer list with double []    \n",
    "  `df.iloc[ [ridx1,ridx2] , [cidx1,cidx2] ]` \n"
   ]
  },
  {
   "cell_type": "code",
   "execution_count": 11,
   "id": "987e5f11-2d11-4de1-a8f6-00ddb8a4d03d",
   "metadata": {},
   "outputs": [
    {
     "name": "stdout",
     "output_type": "stream",
     "text": [
      "              A         B         C         D\n",
      "Test1  0.745268  0.889983  0.148750  1.502688\n",
      "Test2 -0.532049 -0.925582  0.450910  0.236353\n",
      "Test3 -0.366323 -0.167643 -1.088904  0.615240\n",
      "\n",
      "A   -0.532049\n",
      "B   -0.925582\n",
      "C    0.450910\n",
      "D    0.236353\n",
      "Name: Test2, dtype: float64\n",
      "A   -0.532049\n",
      "B   -0.925582\n",
      "C    0.450910\n",
      "D    0.236353\n",
      "Name: Test2, dtype: float64\n",
      "\n",
      "Test1    0.745268\n",
      "Test2   -0.532049\n",
      "Test3   -0.366323\n",
      "Name: A, dtype: float64\n",
      "\n",
      "              B        C\n",
      "Test1  0.889983  0.14875\n",
      "Test2 -0.925582  0.45091\n",
      "              B         D\n",
      "Test1  0.889983  1.502688\n",
      "Test3 -0.167643  0.615240\n"
     ]
    }
   ],
   "source": [
    "print(dataframe1)\n",
    "print()\n",
    "#Accessing the rows\n",
    "print(dataframe1.iloc[1,:])\n",
    "print(dataframe1.iloc[1])\n",
    "print()\n",
    "#Accessing the colummns\n",
    "print(dataframe1.iloc[:,0])\n",
    "print()\n",
    "#Sclicing and integer list\n",
    "print(dataframe1.iloc[:2,1:3])\n",
    "print(dataframe1.iloc[[0,2],[1,3]])"
   ]
  },
  {
   "cell_type": "markdown",
   "id": "b75736c0-f904-4e10-994d-1da4f93ef49b",
   "metadata": {},
   "source": [
    "#### Adding rows or columns"
   ]
  },
  {
   "cell_type": "markdown",
   "id": "4fe8206e-8c8b-432f-82ac-bb967baf12fc",
   "metadata": {},
   "source": [
    "\n",
    "\n",
    "Rows or columns can be added using `df.loc()`. If a value is placed in a row and/or column that doesn't exist the row/column is created in the placement of the value. The other fields are left empty (`NaN`). This doesn't work with `iloc`\n",
    "\n",
    "General Syntax:    \n",
    "`df.loc[\"NewRow\",\"NewColumn\"] = value`\n",
    "\n",
    "for an empty row/column add the value `None` and replace the column/row with `:`. For a new empty column:    \n",
    "`df.loc[:,\"NewColumn\"] = None`\n",
    "   \n",
    "for a new column with several entries exactly matching the number of rows:    \n",
    "`df.loc[:,\"NewColumn\"] = [1,2,3,4]`\n",
    "\n",
    "otherwise the rows (existing or new) need to be defined    \n",
    "`df.loc[(\"A\",\"B\"),\"NewColumn\"] = [1,2]`\n"
   ]
  },
  {
   "cell_type": "markdown",
   "id": "d8ed6442-3ba7-4b64-9a35-e7ba0834d68b",
   "metadata": {},
   "source": [
    "> **A NOTE ON MISSING NUMBERS**   \n",
    "> NumPy np.nan and pandas NaN and pd.NA are not (quite) the same!!   \n",
    "> the functinon to find empty values can depend on the type of `None` value (e.g. pd.notnull() for pandas)\n",
    ">\n",
    "> NumPy `None` (`np.nan`) happens e.g. if we can't do a calculation    \n",
    "> pandas `None` (`NaN`) happens e.g. when creating an empty DataFrame/row/column    \n",
    "> pandas `None` (`<NA>`) can be created with `pd.NA`"
   ]
  },
  {
   "cell_type": "code",
   "execution_count": 12,
   "id": "5d85dd77-c450-4bc7-bb23-7927f870942f",
   "metadata": {},
   "outputs": [
    {
     "name": "stdout",
     "output_type": "stream",
     "text": [
      "              A         B         C         D\n",
      "Test1  0.745268  0.889983  0.148750  1.502688\n",
      "Test2 -0.532049 -0.925582  0.450910  0.236353\n",
      "Test3 -0.366323 -0.167643 -1.088904  0.615240\n",
      "              A         B         C         D    E\n",
      "Test1  0.745268  0.889983  0.148750  1.502688  new\n",
      "Test2 -0.532049 -0.925582  0.450910  0.236353  NaN\n",
      "Test3 -0.366323 -0.167643 -1.088904  0.615240  NaN\n",
      "              A         B         C         D    E     F\n",
      "Test1  0.745268  0.889983  0.148750  1.502688  new   NaN\n",
      "Test2 -0.532049 -0.925582  0.450910  0.236353  NaN   NaN\n",
      "Test3 -0.366323 -0.167643 -1.088904  0.615240  NaN   NaN\n",
      "Test5       NaN       NaN       NaN       NaN  NaN  None\n",
      "              A         B         C         D    E     F     G\n",
      "Test1  0.745268  0.889983  0.148750  1.502688  new   NaN   NaN\n",
      "Test2 -0.532049 -0.925582  0.450910  0.236353  NaN   NaN   NaN\n",
      "Test3 -0.366323 -0.167643 -1.088904  0.615240  NaN   NaN   NaN\n",
      "Test5       NaN       NaN       NaN       NaN  NaN  None  <NA>\n"
     ]
    }
   ],
   "source": [
    "print(dataframe1)\n",
    "dataframe1.loc[\"Test1\",\"E\"] = \"new\"\n",
    "print(dataframe1)\n",
    "dataframe1.loc[\"Test5\",\"F\"] = None\n",
    "print(dataframe1)\n",
    "dataframe1.loc[\"Test5\",\"G\"] = pd.NA\n",
    "print(dataframe1)\n",
    "\n",
    "# Note that the row Test5 now has 3 versions of empty numbers!!"
   ]
  },
  {
   "cell_type": "markdown",
   "id": "aaa29207-f0e1-49a8-8a94-6f2c313cb83f",
   "metadata": {},
   "source": [
    "### Pandas and files"
   ]
  },
  {
   "cell_type": "markdown",
   "id": "3c0b7f47-591d-4f2c-84f1-b430adab754f",
   "metadata": {},
   "source": [
    "commands to save DataFrames:\n",
    "\n",
    "- df.to_xml\n",
    "- df.to_csv\n",
    "- df.to_excel\n",
    "- etc.\n",
    "  \n",
    "commands to read in files:\n",
    "\n",
    "- read_xml\n",
    "- read_csv\n",
    "- read_excel\n",
    "- read_json\n",
    "\n",
    "To read in the first spread sheet in an excel file (if it is in the same directory as my script)    \n",
    "`data1 = pd.read_excel(\"Cation.xlsx\")`\n",
    "\n",
    "- per default column names are taken over, row names only if specified with `index_col`     \n",
    "  for the first column: `index_col = 0`\n",
    "- spreadsheet can be specified with the command `sheet_name`    \n",
    "  if this is set to `None` we get the entire file with all contents as a big dictionary\n",
    "- if my file is in a different directory, use absolute path to access or use the module `os` to change the working directory\n",
    "\n",
    "to use the excel functions the module `openpyxl` has to be installed\n"
   ]
  },
  {
   "cell_type": "code",
   "execution_count": 13,
   "id": "9158967f-3caa-4dc3-8ba3-36956ae82884",
   "metadata": {},
   "outputs": [
    {
     "name": "stdout",
     "output_type": "stream",
     "text": [
      "#### default: the first spreadsheet ####\n",
      "   Unnamed: 0       ModBase   SwissModel        T0863      T0872        T0886  \\\n",
      "0        #Yes   2812.000000  1134.000000   486.000000  482.00000   486.000000   \n",
      "1         #No    384.000000   111.000000     5.000000   21.00000    10.000000   \n",
      "2       #Mean     17.837838    26.679012    51.777778    4.93361     8.691358   \n",
      "3         HIS   5605.000000  3552.000000  2865.000000  302.00000   372.000000   \n",
      "4         PHE   6551.000000  3448.000000  4740.000000  574.00000  1273.000000   \n",
      "5         TRP   3362.000000  1922.000000  1282.000000   71.00000     0.000000   \n",
      "6         TYR   5351.000000  3178.000000  3627.000000  588.00000  1079.000000   \n",
      "7         ARG  11664.000000  7254.000000  4243.000000  302.00000   461.000000   \n",
      "8         ASN   3520.000000  1705.000000  3202.000000  528.00000  1034.000000   \n",
      "9         GLN   3825.000000  2142.000000  2527.000000  590.00000   743.000000   \n",
      "10        LYS   2264.000000  1266.000000  2540.000000  129.00000   788.000000   \n",
      "\n",
      "          T0892        T0917        T0944  Single_Test  Single_Training  \\\n",
      "0    491.000000   187.000000   455.000000    82.000000       728.000000   \n",
      "1      5.000000     0.000000     0.000000     0.000000         8.000000   \n",
      "2     18.458248    23.283422    33.435165    43.329268        39.553571   \n",
      "3    785.000000  1084.000000   805.000000   287.000000      2375.000000   \n",
      "4   1205.000000   393.000000  1745.000000   484.000000      3773.000000   \n",
      "5    169.000000   238.000000  2005.000000   246.000000      2006.000000   \n",
      "6   1540.000000   671.000000  1699.000000   563.000000      4803.000000   \n",
      "7   1827.000000   725.000000  3443.000000   618.000000      4821.000000   \n",
      "8    169.000000   598.000000  1087.000000   358.000000      3113.000000   \n",
      "9    651.000000     6.000000  1401.000000   357.000000      2780.000000   \n",
      "10   772.000000   955.000000   749.000000   299.000000      2486.000000   \n",
      "\n",
      "       XRay5000  \n",
      "0    5491.00000  \n",
      "1      54.00000  \n",
      "2      31.10672  \n",
      "3   14485.00000  \n",
      "4   23416.00000  \n",
      "5   11183.00000  \n",
      "6   27526.00000  \n",
      "7   29688.00000  \n",
      "8   16922.00000  \n",
      "9   16060.00000  \n",
      "10  16072.00000  \n"
     ]
    }
   ],
   "source": [
    "file1 = pd.read_excel(\"/Users/Lisa/Documents/Lisa/Arbeit/FortbildungBioinformatik/ABI-2024-1_Course-Materials/Teaching_materials/Module 1 - Introduction to programming and python/1.3 Introduction to programming and Python/ABI_Files-Python/Cation.xlsx\")   \n",
    "print(\"#### default: the first spreadsheet ####\")\n",
    "print(file1)"
   ]
  },
  {
   "cell_type": "code",
   "execution_count": 14,
   "id": "0663eb3a-fb1a-4962-9f0a-a8efe47cacb9",
   "metadata": {},
   "outputs": [
    {
     "name": "stdout",
     "output_type": "stream",
     "text": [
      "#### whole notebook with sheet_name = None ####\n",
      "{'Hits':    Unnamed: 0       ModBase   SwissModel        T0863      T0872        T0886  \\\n",
      "0        #Yes   2812.000000  1134.000000   486.000000  482.00000   486.000000   \n",
      "1         #No    384.000000   111.000000     5.000000   21.00000    10.000000   \n",
      "2       #Mean     17.837838    26.679012    51.777778    4.93361     8.691358   \n",
      "3         HIS   5605.000000  3552.000000  2865.000000  302.00000   372.000000   \n",
      "4         PHE   6551.000000  3448.000000  4740.000000  574.00000  1273.000000   \n",
      "5         TRP   3362.000000  1922.000000  1282.000000   71.00000     0.000000   \n",
      "6         TYR   5351.000000  3178.000000  3627.000000  588.00000  1079.000000   \n",
      "7         ARG  11664.000000  7254.000000  4243.000000  302.00000   461.000000   \n",
      "8         ASN   3520.000000  1705.000000  3202.000000  528.00000  1034.000000   \n",
      "9         GLN   3825.000000  2142.000000  2527.000000  590.00000   743.000000   \n",
      "10        LYS   2264.000000  1266.000000  2540.000000  129.00000   788.000000   \n",
      "\n",
      "          T0892        T0917        T0944  Single_Test  Single_Training  \\\n",
      "0    491.000000   187.000000   455.000000    82.000000       728.000000   \n",
      "1      5.000000     0.000000     0.000000     0.000000         8.000000   \n",
      "2     18.458248    23.283422    33.435165    43.329268        39.553571   \n",
      "3    785.000000  1084.000000   805.000000   287.000000      2375.000000   \n",
      "4   1205.000000   393.000000  1745.000000   484.000000      3773.000000   \n",
      "5    169.000000   238.000000  2005.000000   246.000000      2006.000000   \n",
      "6   1540.000000   671.000000  1699.000000   563.000000      4803.000000   \n",
      "7   1827.000000   725.000000  3443.000000   618.000000      4821.000000   \n",
      "8    169.000000   598.000000  1087.000000   358.000000      3113.000000   \n",
      "9    651.000000     6.000000  1401.000000   357.000000      2780.000000   \n",
      "10   772.000000   955.000000   749.000000   299.000000      2486.000000   \n",
      "\n",
      "       XRay5000  \n",
      "0    5491.00000  \n",
      "1      54.00000  \n",
      "2      31.10672  \n",
      "3   14485.00000  \n",
      "4   23416.00000  \n",
      "5   11183.00000  \n",
      "6   27526.00000  \n",
      "7   29688.00000  \n",
      "8   16922.00000  \n",
      "9   16060.00000  \n",
      "10  16072.00000  , 'Separations':   Unnamed: 0  ModBase  SwissModel    T0863   T0872   T0886   T0892   T0917  \\\n",
      "0         >4  34709.0     21270.0  16633.0  1721.0  3229.0  7067.0  2979.0   \n",
      "1         <6  16694.0      9709.0   9031.0   696.0  1017.0  2258.0  1484.0   \n",
      "2      6<=12      NaN         NaN      NaN     NaN     NaN     NaN     NaN   \n",
      "3     12<=24   5256.0      2916.0   2340.0   434.0   509.0  1052.0   635.0   \n",
      "4        >24  23567.0     15040.0  12070.0   912.0  2284.0  5040.0  2042.0   \n",
      "5        >50  15117.0      9779.0   8370.0   304.0  1515.0  1982.0  1560.0   \n",
      "6       >100   8182.0      5815.0   5045.0     0.0   762.0   566.0   994.0   \n",
      "7      6>=12   4208.0      2303.0   1612.0   336.0   363.0   535.0   192.0   \n",
      "\n",
      "     T0944  Single_Test  Single_Training  XRay5000  \n",
      "0  11875.0       2630.0          21802.0  125060.0  \n",
      "1   3476.0        990.0           7672.0   49526.0  \n",
      "2      NaN          NaN              NaN       NaN  \n",
      "3    798.0        414.0           2969.0   19600.0  \n",
      "4   9016.0       1856.0          15541.0   84688.0  \n",
      "5   6184.0       1205.0          10610.0   54517.0  \n",
      "6   4388.0        705.0           6057.0   29384.0  \n",
      "7   1791.0        263.0           2409.0   15492.0  , 'ModBase':   Unnamed: 0   ARG   ASN   GLN  LYS\n",
      "0        HIS  3891  1140  1141  716\n",
      "1        PHE  4227  1459  1504  791\n",
      "2        TRP  2478   559   713  344\n",
      "3        TYR  3699  1050  1095  765, 'SwissModel':   Unnamed: 0   ARG  ASN  GLN  LYS\n",
      "0        HIS  2627  600  656  437\n",
      "1        PHE  2356  636  759  385\n",
      "2        TRP  1471  248  422  176\n",
      "3        TYR  2267  531  663  471, 'T0863':   Unnamed: 0   ARG   ASN   GLN   LYS\n",
      "0        HIS  1465   882   662   608\n",
      "1        PHE  2089  1567  1211  1067\n",
      "2        TRP   538   368   394   216\n",
      "3        TYR  1374   992   892  1148, 'T0872':   Unnamed: 0  ARG  ASN  GLN  LYS\n",
      "0        HIS  129   76  182    5\n",
      "1        PHE   26  418  143   43\n",
      "2        TRP   31   10   32   10\n",
      "3        TYR  157  105  308   97, 'T0886':   Unnamed: 0  ARG  ASN  GLN  LYS\n",
      "0        HIS   40  140  108  144\n",
      "1        PHE  263  545  340  377\n",
      "2        TRP    0    0    0    0\n",
      "3        TYR  204  436  366  327, 'T0892':   Unnamed: 0   ARG  ASN  GLN  LYS\n",
      "0        HIS   544   40  161  233\n",
      "1        PHE   771   71  275  307\n",
      "2        TRP    46    7  115   24\n",
      "3        TYR  1161   88  277  352, 'T0917':   Unnamed: 0  ARG  ASN  GLN  LYS\n",
      "0        HIS  332  464    2  455\n",
      "1        PHE  107  146    0  173\n",
      "2        TRP  101   59    0   93\n",
      "3        TYR  365   91    4  377, 'T0944':   Unnamed: 0   ARG  ASN  GLN  LYS\n",
      "0        HIS   708   85   62   74\n",
      "1        PHE   987  267  531  310\n",
      "2        TRP  1605  477  176  307\n",
      "3        TYR   884  352  797  162, 'Single_Test':   Unnamed: 0  ARG  ASN  GLN  LYS\n",
      "0        HIS  121  100   80   59\n",
      "1        PHE  257  128  126   97\n",
      "2        TRP  142   63   73   50\n",
      "3        TYR  302  142  163  132, 'Single_Training':   Unnamed: 0   ARG   ASN   GLN   LYS\n",
      "0        HIS  1157   755   632   471\n",
      "1        PHE  1851  1124  1063   706\n",
      "2        TRP  1106   554   570   403\n",
      "3        TYR  2392  1400  1193  1241, 'XRay5000':   Unnamed: 0    ARG   ASN   GLN   LYS\n",
      "0        HIS   6827  4190  3820  3220\n",
      "1        PHE  12037  6186  6121  4535\n",
      "2        TRP   5928  2784  2872  2542\n",
      "3        TYR  14029  7485  6510  7728, 'O_ModBase':   Unnamed: 0  Parallel  Stacked\n",
      "0          3        23       21\n",
      "1        3.5       186      231\n",
      "2          4       323      686\n",
      "3        4.5       365     1162\n",
      "4          5       494     1831\n",
      "5        5.5       542     2197\n",
      "6        All      1933     6128, 'O_SwissModel':   Unnamed: 0  Parallel  Stacked\n",
      "0          3        15        6\n",
      "1        3.5       170      107\n",
      "2          4       271      311\n",
      "3        4.5       254      644\n",
      "4          5       320     1109\n",
      "5        5.5       344     1431\n",
      "6        All      1374     3608, 'O_T0863':   Unnamed: 0  Parallel  Stacked\n",
      "0          3         2       13\n",
      "1        3.5        91      128\n",
      "2          4       147      289\n",
      "3        4.5       157      430\n",
      "4          5       216      607\n",
      "5        5.5       211      784\n",
      "6        All       824     2251, 'O_T0872':   Unnamed: 0  Parallel  Stacked\n",
      "0          3         0        2\n",
      "1        3.5         3        3\n",
      "2          4        11       14\n",
      "3        4.5         8       39\n",
      "4          5         7       48\n",
      "5        5.5        12       45\n",
      "6        All        41      151, 'O_T0886':   Unnamed: 0  Parallel  Stacked\n",
      "0          3         1        0\n",
      "1        3.5         8        6\n",
      "2          4        10       15\n",
      "3        4.5        16       39\n",
      "4          5        13       56\n",
      "5        5.5        18       85\n",
      "6        All        66      201, 'O_T0892':   Unnamed: 0  Parallel  Stacked\n",
      "0          3         1        5\n",
      "1        3.5        32       48\n",
      "2          4        54      105\n",
      "3        4.5        56      177\n",
      "4          5        68      299\n",
      "5        5.5        93      340\n",
      "6        All       304      974, 'O_T0917':   Unnamed: 0  Parallel  Stacked\n",
      "0          3         1        1\n",
      "1        3.5        10       12\n",
      "2          4        16       38\n",
      "3        4.5        37       69\n",
      "4          5        27      103\n",
      "5        5.5        46      128\n",
      "6        All       137      351, 'O_T0944':   Unnamed: 0  Parallel  Stacked\n",
      "0          3         6       11\n",
      "1        3.5        76       81\n",
      "2          4       155      175\n",
      "3        4.5       155      319\n",
      "4          5       159      448\n",
      "5        5.5       153      583\n",
      "6        All       704     1617, 'O_Single_Test':   Unnamed: 0  Parallel  Stacked\n",
      "0          3         3        1\n",
      "1        3.5        56        7\n",
      "2          4        53       13\n",
      "3        4.5        46       59\n",
      "4          5        23      112\n",
      "5        5.5        25      106\n",
      "6        All       206      298, 'O_Single_Training':   Unnamed: 0  Parallel  Stacked\n",
      "0          3        30        7\n",
      "1        3.5       390       39\n",
      "2          4       423      124\n",
      "3        4.5       325      421\n",
      "4          5       197      791\n",
      "5        5.5       200      990\n",
      "6        All      1565     2372, 'O_XRay5000':   Unnamed: 0  Parallel  Stacked\n",
      "0          3       139       13\n",
      "1        3.5      2181      225\n",
      "2          4      2794      758\n",
      "3        4.5      1901     2407\n",
      "4          5      1261     5068\n",
      "5        5.5      1192     5659\n",
      "6        All      9468    14130}\n"
     ]
    }
   ],
   "source": [
    "print(\"#### whole notebook with sheet_name = None ####\")\n",
    "file2 = pd.read_excel(\"/Users/Lisa/Documents/Lisa/Arbeit/FortbildungBioinformatik/ABI-2024-1_Course-Materials/Teaching_materials/Module 1 - Introduction to programming and python/1.3 Introduction to programming and Python/ABI_Files-Python/Cation.xlsx\", sheet_name=None)   \n",
    "print(file2)"
   ]
  },
  {
   "cell_type": "markdown",
   "id": "aae30bfb-4742-4ce8-8f9d-dacd0379f4cb",
   "metadata": {},
   "source": [
    "# Exercises"
   ]
  },
  {
   "cell_type": "markdown",
   "id": "cdb07142-3e86-4879-bec0-0721ebff2701",
   "metadata": {},
   "source": [
    "## Exercise 54 - Pandas DataFrames"
   ]
  },
  {
   "cell_type": "markdown",
   "id": "999d7131-9927-4928-a1c5-4ee351f6bba1",
   "metadata": {},
   "source": [
    "\n",
    "Write a program that creates multiple DataFrames. The DataFrames should have the following dimensions:\n",
    "\n",
    "1. 6 rows and 4 columns\n",
    "2. 4 rows and 8 columns\n",
    "3. 10 rows and 3 columns\n",
    "4. 5 rows and 9 columns"
   ]
  },
  {
   "cell_type": "markdown",
   "id": "c3a783fd-0f1c-4716-9591-60fc47a60540",
   "metadata": {},
   "source": [
    "> changed rownames, default colnames"
   ]
  },
  {
   "cell_type": "code",
   "execution_count": 15,
   "id": "ef7b3616-5f51-497e-ae9f-6be339ff948f",
   "metadata": {},
   "outputs": [
    {
     "name": "stdout",
     "output_type": "stream",
     "text": [
      "          A  B  C  D\n",
      "I        -8 -1 -2  7\n",
      "add      -5  8  2 -9\n",
      "6        -8 -8  0 -7\n",
      "row       8  2  6  5\n",
      "names     3  0  9  8\n",
      "manually  6 -4 -2  5\n"
     ]
    }
   ],
   "source": [
    "df1 = pd.DataFrame(np.random.randint(-10, 10, size=(6,4)),index=[\"I\",\"add\",\"6\",\"row\",\"names\",\"manually\"], columns = [\"A\",\"B\",\"C\",\"D\"])\n",
    "print(df1)"
   ]
  },
  {
   "cell_type": "markdown",
   "id": "49e7bede-81c1-4cb0-860f-f5041f755a22",
   "metadata": {},
   "source": [
    "> changed rownames and colnames by defining them as alist before. Duplicates are allowed, even in both! This might lead to problems down the line though!"
   ]
  },
  {
   "cell_type": "code",
   "execution_count": 16,
   "id": "0a221e58-2277-42a1-b832-aa59262345aa",
   "metadata": {},
   "outputs": [
    {
     "name": "stdout",
     "output_type": "stream",
     "text": [
      "        I  need   8  colnames   I  can  choose  duplicates!\n",
      "My     28    98  48        22  77    1       5           84\n",
      "row    63    20  15        11  54   21      13           15\n",
      "row    70    18  59        12  17   74      20           65\n",
      "names  11    69  11         3  93   32      75            6\n"
     ]
    }
   ],
   "source": [
    "rownames1 = [\"My\",\"row\",\"row\",\"names\"]\n",
    "colnames1 = [\"I\",\"need\",8,\"colnames\",\"I\",\"can\",\"choose\",\"duplicates!\"]\n",
    "df2 = pd.DataFrame(np.random.randint(0,100, size=(4,8)),index= rownames1, columns = colnames1)\n",
    "print(df2)"
   ]
  },
  {
   "cell_type": "markdown",
   "id": "f4c594b7-4397-4dec-a6ce-bc357bbc7bb3",
   "metadata": {},
   "source": [
    "> changed column names"
   ]
  },
  {
   "cell_type": "code",
   "execution_count": 17,
   "id": "93196aa2-5196-4ac8-84c1-4744aec1abab",
   "metadata": {},
   "outputs": [
    {
     "name": "stdout",
     "output_type": "stream",
     "text": [
      "   My  column  names\n",
      "0  17      25     27\n",
      "1  31      24     47\n",
      "2  23      48     12\n",
      "3  45      33     40\n",
      "4  29      32     13\n",
      "5  23      33     17\n",
      "6  13      37     33\n",
      "7  21      43     29\n",
      "8  27      49     14\n",
      "9   6      11     10\n"
     ]
    }
   ],
   "source": [
    "df3 = pd.DataFrame(np.random.randint(5, 50, size=(10,3)), columns = [\"My\",\"column\",\"names\"])\n",
    "print(df3)"
   ]
  },
  {
   "cell_type": "markdown",
   "id": "4fd81c51-8cce-43d0-8691-6df8255b2f66",
   "metadata": {},
   "source": [
    "> I create functions for my row and column names"
   ]
  },
  {
   "cell_type": "code",
   "execution_count": 18,
   "id": "e3a07520-5bd5-46fd-842a-6b7b6a9b0121",
   "metadata": {},
   "outputs": [
    {
     "name": "stdout",
     "output_type": "stream",
     "text": [
      "     Col1 Col2 Col3 Col4 Col5 Col6 Col7 Col8 Col9\n",
      "Row1  NaN  NaN  NaN  NaN  NaN  NaN  NaN  NaN  NaN\n",
      "Row2  NaN  NaN  NaN  NaN  NaN  NaN  NaN  NaN  NaN\n",
      "Row3  NaN  NaN  NaN  NaN  NaN  NaN  NaN  NaN  NaN\n",
      "Row4  NaN  NaN  NaN  NaN  NaN  NaN  NaN  NaN  NaN\n",
      "Row5  NaN  NaN  NaN  NaN  NaN  NaN  NaN  NaN  NaN\n"
     ]
    }
   ],
   "source": [
    "rownames2 = [\"Row\"+str(i) for i in range(1,6)]\n",
    "colnames2 = [\"Col\"+str(i) for i in range(1,10)]\n",
    "df4 = pd.DataFrame(index = rownames2, columns = colnames2)\n",
    "print(df4)"
   ]
  },
  {
   "cell_type": "markdown",
   "id": "44eedf41-22e5-4521-983b-a8c538bc64f2",
   "metadata": {},
   "source": [
    "> In large df the middle is cut of with `...`, if it goes on into a 2nd line this is shown with `\\`\n"
   ]
  },
  {
   "cell_type": "code",
   "execution_count": 19,
   "id": "d0e3a399-d815-4cd8-8478-5a84f6b0c933",
   "metadata": {},
   "outputs": [
    {
     "name": "stdout",
     "output_type": "stream",
     "text": [
      "   0   1   2   3   4   5   6   7   8   9   ...  40  41  42  43  44  45  46  \\\n",
      "0  20  43  86  83  37  38  28  65  93   4  ...   1  91  18  26  85  93  62   \n",
      "1   8  67  36  41  41  57   0  73  36  49  ...  73  39   9  39  32  70  85   \n",
      "2  69  95  78  66  34  55  35  92  40  19  ...  95  36  64  16  53  12  38   \n",
      "3  46   0  61  57  25  94  27  85   2  73  ...  80  41  42   5  49  26  35   \n",
      "\n",
      "   47  48  49  \n",
      "0  71   4  83  \n",
      "1  70  73  23  \n",
      "2  12  41   3  \n",
      "3  22  29  89  \n",
      "\n",
      "[4 rows x 50 columns]\n"
     ]
    }
   ],
   "source": [
    "#a very large df\n",
    "df5 = pd.DataFrame(np.random.randint(0,100, size=(4,50)))\n",
    "print(df5)"
   ]
  },
  {
   "cell_type": "markdown",
   "id": "a0b69b1d-55ed-464f-93da-a5a7a63d8468",
   "metadata": {},
   "source": [
    "## Exercise 55 - DataFrame methods"
   ]
  },
  {
   "cell_type": "markdown",
   "id": "85492a68-9702-4865-9fc7-b25056575104",
   "metadata": {},
   "source": [
    "\n",
    "Use your DataFrames from Exercise 54 to fulfill the following tasks:\n",
    "\n",
    "1. Calculate the columnwise sum for the first DataFrame\n",
    "2. Calculate the rowwise sum for the second DataFrame\n",
    "3. Sort the fourth DataFrame according to the values in the first and third column\n",
    "4. Create a description of the third DataFrame\n",
    "5. Print out the row and column names of the second DataFrame"
   ]
  },
  {
   "cell_type": "code",
   "execution_count": 20,
   "id": "26827fe6-7580-4ac1-abd3-64d1db6b9cdc",
   "metadata": {},
   "outputs": [
    {
     "name": "stdout",
     "output_type": "stream",
     "text": [
      "          A  B  C  D\n",
      "I        -8 -1 -2  7\n",
      "add      -5  8  2 -9\n",
      "6        -8 -8  0 -7\n",
      "row       8  2  6  5\n",
      "names     3  0  9  8\n",
      "manually  6 -4 -2  5\n",
      "\n",
      "A    -4\n",
      "B    -3\n",
      "C    13\n",
      "D     9\n",
      "dtype: int64\n"
     ]
    }
   ],
   "source": [
    "#Calculate the columnwise sum for the first DataFrame\n",
    "print(df1)\n",
    "print()\n",
    "print(df1.sum())"
   ]
  },
  {
   "cell_type": "code",
   "execution_count": 21,
   "id": "c4712ce2-19b6-4a64-9056-21022ac443d0",
   "metadata": {},
   "outputs": [
    {
     "name": "stdout",
     "output_type": "stream",
     "text": [
      "        I  need   8  colnames   I  can  choose  duplicates!\n",
      "My     28    98  48        22  77    1       5           84\n",
      "row    63    20  15        11  54   21      13           15\n",
      "row    70    18  59        12  17   74      20           65\n",
      "names  11    69  11         3  93   32      75            6\n",
      "\n",
      "My       363\n",
      "row      212\n",
      "row      335\n",
      "names    300\n",
      "dtype: int64\n"
     ]
    }
   ],
   "source": [
    "#Calculate the rowwise sum for the second DataFrame\n",
    "print(df2)\n",
    "print()\n",
    "print(df2.sum(axis=1))"
   ]
  },
  {
   "cell_type": "code",
   "execution_count": 22,
   "id": "6fc582d7-5439-46c3-9e7e-707a89ed2668",
   "metadata": {},
   "outputs": [
    {
     "name": "stdout",
     "output_type": "stream",
     "text": [
      "        I  need   8  colnames   I  can  choose  duplicates!\n",
      "My     28    98  48        22  77    1       5           84\n",
      "row    63    20  15        11  54   21      13           15\n",
      "row    70    18  59        12  17   74      20           65\n",
      "names  11    69  11         3  93   32      75            6\n",
      "\n",
      "        I  need   8  colnames   I  can  choose  duplicates!\n",
      "row    70    18  59        12  17   74      20           65\n",
      "row    63    20  15        11  54   21      13           15\n",
      "names  11    69  11         3  93   32      75            6\n",
      "My     28    98  48        22  77    1       5           84\n"
     ]
    }
   ],
   "source": [
    "#Sort the fourth DataFrame according to the values in the first and third column\n",
    "#df4 is an empty dataframe... I use df2 instead, and since the first column is a duplicate I use the second\n",
    "#note that the columename 8 was an integer and is not recognized as string \"8\"\n",
    "print(df2)\n",
    "print()\n",
    "print(df2.sort_values([\"need\",8]))"
   ]
  },
  {
   "cell_type": "code",
   "execution_count": 23,
   "id": "3a93fdd7-ee87-4c62-91cd-6bb4e3bf8c29",
   "metadata": {},
   "outputs": [
    {
     "name": "stdout",
     "output_type": "stream",
     "text": [
      "   My  column  names\n",
      "0  17      25     27\n",
      "1  31      24     47\n",
      "2  23      48     12\n",
      "3  45      33     40\n",
      "4  29      32     13\n",
      "5  23      33     17\n",
      "6  13      37     33\n",
      "7  21      43     29\n",
      "8  27      49     14\n",
      "9   6      11     10\n",
      "\n",
      "             My     column     names\n",
      "count  10.00000  10.000000  10.00000\n",
      "mean   23.50000  33.500000  24.20000\n",
      "std    10.67968  11.664285  12.95119\n",
      "min     6.00000  11.000000  10.00000\n",
      "25%    18.00000  26.750000  13.25000\n",
      "50%    23.00000  33.000000  22.00000\n",
      "75%    28.50000  41.500000  32.00000\n",
      "max    45.00000  49.000000  47.00000\n"
     ]
    }
   ],
   "source": [
    "#Create a description of the third DataFrame\n",
    "print(df3)\n",
    "print()\n",
    "print(df3.describe())"
   ]
  },
  {
   "cell_type": "code",
   "execution_count": 24,
   "id": "e87e0b8d-c842-4ce8-92ad-25a6c83a227f",
   "metadata": {},
   "outputs": [
    {
     "name": "stdout",
     "output_type": "stream",
     "text": [
      "Index(['My', 'row', 'row', 'names'], dtype='object')\n",
      "Index(['I', 'need', 8, 'colnames', 'I', 'can', 'choose', 'duplicates!'], dtype='object')\n"
     ]
    }
   ],
   "source": [
    "#Print out the row and column names of the second DataFrame\n",
    "print(df2.index)\n",
    "print(df2.columns)"
   ]
  },
  {
   "cell_type": "markdown",
   "id": "f7f13c4e-df43-4f4f-b1a3-a9c33fb0aa3e",
   "metadata": {},
   "source": [
    "## Exercise 56 - Single elements in DataFrames"
   ]
  },
  {
   "cell_type": "markdown",
   "id": "e60167c9-cf6a-4e11-adee-22a71602a49a",
   "metadata": {},
   "source": [
    "\n",
    "Use your DataFrames from Exercise 54 to fulfill the following tasks:\n",
    "\n",
    "1. Print out the element in the first column and first row of DataFrame1\n",
    "2. Print out the element in the third column and the second row of DataFrame2\n",
    "3. Print out the fifth row of DataFrame3\n",
    "4. Print out the sixth column of DataFrame4\n",
    "   \n",
    "Use both versions (loc and iloc to fulfill the tasks)"
   ]
  },
  {
   "cell_type": "code",
   "execution_count": 25,
   "id": "69d56c50-5d1f-4c9d-9116-b8c74d6cd554",
   "metadata": {},
   "outputs": [
    {
     "name": "stdout",
     "output_type": "stream",
     "text": [
      "          A  B  C  D\n",
      "I        -8 -1 -2  7\n",
      "add      -5  8  2 -9\n",
      "6        -8 -8  0 -7\n",
      "row       8  2  6  5\n",
      "names     3  0  9  8\n",
      "manually  6 -4 -2  5\n",
      "-8\n",
      "-8\n",
      "-8\n"
     ]
    }
   ],
   "source": [
    "#Print out the element in the first column and first row of DataFrame1\n",
    "print(df1)\n",
    "print(df1.iloc[0,0])\n",
    "print(df1.iloc[0].iloc[0])\n",
    "print(df1.loc[\"I\",\"A\"])"
   ]
  },
  {
   "cell_type": "code",
   "execution_count": 26,
   "id": "e2bd59ff-1657-4004-8c7c-31a5e8e275c9",
   "metadata": {},
   "outputs": [
    {
     "name": "stdout",
     "output_type": "stream",
     "text": [
      "          A  B  C  D\n",
      "I        -8 -1 -2  7\n",
      "add      -5  8  2 -9\n",
      "6        -8 -8  0 -7\n",
      "row       8  2  6  5\n",
      "names     3  0  9  8\n",
      "manually  6 -4 -2  5\n",
      "-8\n"
     ]
    },
    {
     "name": "stderr",
     "output_type": "stream",
     "text": [
      "/var/folders/pq/1h0dzqv16j58hqpqtlb29y280000gn/T/ipykernel_34841/1965926925.py:3: FutureWarning: Series.__getitem__ treating keys as positions is deprecated. In a future version, integer keys will always be treated as labels (consistent with DataFrame behavior). To access a value by position, use `ser.iloc[pos]`\n",
      "  print(df1.iloc[0][0])\n"
     ]
    }
   ],
   "source": [
    "#Do not use this syntax!\n",
    "print(df1)\n",
    "print(df1.iloc[0][0])"
   ]
  },
  {
   "cell_type": "markdown",
   "id": "6d5979d6-36b9-44e3-b47b-f7a8f8c39ce6",
   "metadata": {},
   "source": [
    "why `df1.iloc[0][0]` gives a warning:\n",
    "\n",
    "`df1.iloc[idx]` creates a series out of the row with index = idx of df1. The *colnames* of df1 are turned into the *rownames* of this series\n",
    "\n",
    "the syntax `series[x]` wants x to be rownames.      \n",
    "If x are *indices* this works only if there are *absolutely no numbers (or duplicates?)* in the rownames of the series (which waere the colnames of df1)"
   ]
  },
  {
   "cell_type": "code",
   "execution_count": 27,
   "id": "76f655e4-87cb-450c-9e4b-810648c3ac62",
   "metadata": {},
   "outputs": [
    {
     "name": "stdout",
     "output_type": "stream",
     "text": [
      "          A  B  C  D\n",
      "I        -8 -1 -2  7\n",
      "add      -5  8  2 -9\n",
      "6        -8 -8  0 -7\n",
      "row       8  2  6  5\n",
      "names     3  0  9  8\n",
      "manually  6 -4 -2  5\n",
      "-8\n"
     ]
    }
   ],
   "source": [
    "print(df1)\n",
    "print(df1.iloc[0][\"A\"])"
   ]
  },
  {
   "cell_type": "code",
   "execution_count": 28,
   "id": "e9d5034a-02f7-42cc-96cf-860236ee9d76",
   "metadata": {},
   "outputs": [
    {
     "name": "stdout",
     "output_type": "stream",
     "text": [
      "        I  need   8  colnames   I  can  choose  duplicates!\n",
      "My     28    98  48        22  77    1       5           84\n",
      "row    63    20  15        11  54   21      13           15\n",
      "row    70    18  59        12  17   74      20           65\n",
      "names  11    69  11         3  93   32      75            6\n",
      "48\n",
      "48\n",
      "15\n"
     ]
    }
   ],
   "source": [
    "#Print out the element in the third column and the second row of DataFrame2\n",
    "#the second row has a non-unique name: use first row for loc\n",
    "#because of the duplicates I strictly need the iloc.iloc notation here!!\n",
    "print(df2)\n",
    "print(df2.loc[\"My\",8])\n",
    "print(df2.iloc[0].iloc[2])\n",
    "print(df2.iloc[1].iloc[2])\n",
    "#print(df2.iloc[0][2])"
   ]
  },
  {
   "cell_type": "code",
   "execution_count": 29,
   "id": "816026b2-1d36-46cf-9e48-082128fc94df",
   "metadata": {},
   "outputs": [
    {
     "name": "stdout",
     "output_type": "stream",
     "text": [
      "     Col1 Col2 Col3 Col4 Col5 Col6 Col7 Col8 Col9\n",
      "Row1  NaN  NaN  NaN  NaN  NaN  NaN  NaN  NaN  NaN\n",
      "Row2  NaN  NaN  NaN  NaN  NaN  NaN  NaN  NaN  NaN\n",
      "Row3  NaN  NaN  NaN  NaN  NaN  NaN  NaN  NaN  NaN\n",
      "Row4  NaN  NaN  NaN  NaN  NaN  NaN  NaN  NaN  NaN\n",
      "Row5  NaN  NaN  NaN  NaN  NaN  NaN  NaN  NaN  NaN\n",
      "\n",
      "Col1    NaN\n",
      "Col2    NaN\n",
      "Col3    NaN\n",
      "Col4    NaN\n",
      "Col5    NaN\n",
      "Col6    NaN\n",
      "Col7    NaN\n",
      "Col8    NaN\n",
      "Col9    NaN\n",
      "Name: Row5, dtype: object\n",
      "[nan, nan, nan, nan, nan, nan, nan, nan, nan]\n",
      "[nan, nan, nan, nan, nan, nan, nan, nan, nan]\n",
      "[nan, nan, nan, nan, nan, nan, nan, nan, nan]\n",
      "[nan, nan, nan, nan, nan, nan, nan, nan, nan]\n",
      "[nan, nan, nan, nan, nan, nan, nan, nan, nan]\n",
      "[nan, nan, nan, nan, nan, nan, nan, nan, nan]\n"
     ]
    }
   ],
   "source": [
    "#Print out the fifth row of DataFrame4\n",
    "#adding list shows the print out in a single line\n",
    "print(df4)\n",
    "print()\n",
    "\n",
    "#for `loc` accessing rows can be done in two ways:\n",
    "print(df4.loc[\"Row5\",:])\n",
    "print(list(df4.loc[\"Row5\"]))\n",
    "\n",
    "#for iloc we have a few more\n",
    "print(list(df4.iloc[4,:]))\n",
    "print(list(df4.iloc[4]))\n",
    "print(list(df4.iloc[4].iloc[:]))\n",
    "print(list(df4.iloc[4][:]))\n",
    "print(list(df4.iloc[:].iloc[1]))\n"
   ]
  },
  {
   "cell_type": "code",
   "execution_count": 30,
   "id": "e50f10a4-efbf-4f77-ae9a-6b355459771b",
   "metadata": {},
   "outputs": [
    {
     "name": "stdout",
     "output_type": "stream",
     "text": [
      "     Col1 Col2 Col3 Col4 Col5 Col6 Col7 Col8 Col9\n",
      "Row1  NaN  NaN  NaN  NaN  NaN  NaN  NaN  NaN  NaN\n",
      "Row2  NaN  NaN  NaN  NaN  NaN  NaN  NaN  NaN  NaN\n",
      "Row3  NaN  NaN  NaN  NaN  NaN  NaN  NaN  NaN  NaN\n",
      "Row4  NaN  NaN  NaN  NaN  NaN  NaN  NaN  NaN  NaN\n",
      "Row5  NaN  NaN  NaN  NaN  NaN  NaN  NaN  NaN  NaN\n",
      "\n",
      "Row1    NaN\n",
      "Row2    NaN\n",
      "Row3    NaN\n",
      "Row4    NaN\n",
      "Row5    NaN\n",
      "Name: Col6, dtype: object\n",
      "\n",
      "[nan, nan, nan, nan, nan]\n"
     ]
    }
   ],
   "source": [
    "#Print out the sixth column of DataFrame4\n",
    "print(df4)\n",
    "print()\n",
    "#for loc accessing rows can be done in two ways:\n",
    "print(df4.loc[:,\"Col6\"])\n",
    "print()\n",
    "print(list(df4.iloc[:,5]))"
   ]
  },
  {
   "cell_type": "markdown",
   "id": "dba8ba0f-8b89-4652-aa9f-1626447b0cc2",
   "metadata": {},
   "source": [
    "## Exercise 57 - Modifying DataFrames"
   ]
  },
  {
   "cell_type": "markdown",
   "id": "9248f696-3950-4365-819e-2754e420e7fc",
   "metadata": {},
   "source": [
    "\n",
    "Use your DataFrames from Exercise 54 to fulfill the following tasks:\n",
    "\n",
    "1. Place a new element in the fifth row of a new column into DataFrame1\n",
    "2. Place a new element in the fourth column of a new row into DataFrame2\n",
    "3. Place a new element in the seventh row of a new column into DataFrame3\n",
    "4. Place a new element into a new row and new column into DataFrame4"
   ]
  },
  {
   "cell_type": "code",
   "execution_count": 31,
   "id": "05b2b4ad-6a1c-4870-b7f2-8924d210fa10",
   "metadata": {},
   "outputs": [
    {
     "name": "stdout",
     "output_type": "stream",
     "text": [
      "          A  B  C  D\n",
      "I        -8 -1 -2  7\n",
      "add      -5  8  2 -9\n",
      "6        -8 -8  0 -7\n",
      "row       8  2  6  5\n",
      "names     3  0  9  8\n",
      "manually  6 -4 -2  5\n",
      "\n",
      "          A  B  C  D     4\n",
      "I        -8 -1 -2  7   NaN\n",
      "add      -5  8  2 -9   NaN\n",
      "6        -8 -8  0 -7   NaN\n",
      "row       8  2  6  5   NaN\n",
      "names     3  0  9  8  24.0\n",
      "manually  6 -4 -2  5   NaN\n"
     ]
    }
   ],
   "source": [
    "print(df1)\n",
    "print()\n",
    "df1.loc[\"names\",4] = 24\n",
    "print(df1)"
   ]
  },
  {
   "cell_type": "code",
   "execution_count": 32,
   "id": "23dfd946-4063-4cb7-9b03-c5c9424de489",
   "metadata": {},
   "outputs": [
    {
     "name": "stdout",
     "output_type": "stream",
     "text": [
      "        I  need   8  colnames   I  can  choose  duplicates!\n",
      "My     28    98  48        22  77    1       5           84\n",
      "row    63    20  15        11  54   21      13           15\n",
      "row    70    18  59        12  17   74      20           65\n",
      "names  11    69  11         3  93   32      75            6\n",
      "\n",
      "          I  need     8  colnames     I   can  choose  duplicates!\n",
      "My     28.0  98.0  48.0      22.0  77.0   1.0     5.0         84.0\n",
      "row    63.0  20.0  15.0      11.0  54.0  21.0    13.0         15.0\n",
      "row    70.0  18.0  59.0      12.0  17.0  74.0    20.0         65.0\n",
      "names  11.0  69.0  11.0       3.0  93.0  32.0    75.0          6.0\n",
      "new     NaN   NaN   NaN      50.0   NaN   NaN     NaN          NaN\n"
     ]
    }
   ],
   "source": [
    "print(df2)\n",
    "print()\n",
    "df2.loc[\"new\",\"colnames\"] = 50\n",
    "print(df2)"
   ]
  },
  {
   "cell_type": "code",
   "execution_count": 33,
   "id": "4eddeebc-279b-4463-b997-f38750e47da0",
   "metadata": {},
   "outputs": [
    {
     "name": "stdout",
     "output_type": "stream",
     "text": [
      "   My  column  names\n",
      "0  17      25     27\n",
      "1  31      24     47\n",
      "2  23      48     12\n",
      "3  45      33     40\n",
      "4  29      32     13\n",
      "5  23      33     17\n",
      "6  13      37     33\n",
      "7  21      43     29\n",
      "8  27      49     14\n",
      "9   6      11     10\n",
      "\n",
      "   My  column  names    new\n",
      "0  17      25     27    NaN\n",
      "1  31      24     47    NaN\n",
      "2  23      48     12    NaN\n",
      "3  45      33     40    NaN\n",
      "4  29      32     13    NaN\n",
      "5  23      33     17    NaN\n",
      "6  13      37     33  100.0\n",
      "7  21      43     29    NaN\n",
      "8  27      49     14    NaN\n",
      "9   6      11     10    NaN\n"
     ]
    }
   ],
   "source": [
    "print(df3)\n",
    "print()\n",
    "df3.loc[6,\"new\"] = 100\n",
    "print(df3)"
   ]
  },
  {
   "cell_type": "code",
   "execution_count": 34,
   "id": "e626abaa-9714-43da-856d-e5c9c837fa24",
   "metadata": {},
   "outputs": [
    {
     "name": "stdout",
     "output_type": "stream",
     "text": [
      "     Col1 Col2 Col3 Col4 Col5 Col6 Col7 Col8 Col9\n",
      "Row1  NaN  NaN  NaN  NaN  NaN  NaN  NaN  NaN  NaN\n",
      "Row2  NaN  NaN  NaN  NaN  NaN  NaN  NaN  NaN  NaN\n",
      "Row3  NaN  NaN  NaN  NaN  NaN  NaN  NaN  NaN  NaN\n",
      "Row4  NaN  NaN  NaN  NaN  NaN  NaN  NaN  NaN  NaN\n",
      "Row5  NaN  NaN  NaN  NaN  NaN  NaN  NaN  NaN  NaN\n",
      "\n",
      "     Col1 Col2 Col3 Col4 Col5 Col6 Col7 Col8         Col9\n",
      "Row1  NaN  NaN  NaN  NaN  NaN  NaN  NaN  NaN          NaN\n",
      "Row2  NaN  NaN  NaN  NaN  NaN  NaN  NaN  NaN          NaN\n",
      "Row3  NaN  NaN  NaN  NaN  NaN  NaN  NaN  NaN          NaN\n",
      "Row4  NaN  NaN  NaN  NaN  NaN  NaN  NaN  NaN          NaN\n",
      "Row5  NaN  NaN  NaN  NaN  NaN  NaN  NaN  NaN          NaN\n",
      "Row6  NaN  NaN  NaN  NaN  NaN  NaN  NaN  NaN  Wow a value\n"
     ]
    }
   ],
   "source": [
    "print(df4)\n",
    "print()\n",
    "df4.loc[\"Row6\",\"Col9\"] = \"Wow a value\"\n",
    "print(df4)"
   ]
  },
  {
   "cell_type": "markdown",
   "id": "88a79206-2e44-419b-9225-bc17964a1d49",
   "metadata": {},
   "source": [
    "## Exercise 58 - Pandas and Files"
   ]
  },
  {
   "cell_type": "markdown",
   "id": "e2e805c3-172e-4103-8246-cca991ef0d2d",
   "metadata": {},
   "source": [
    "Use your DataFrame from Exercise 54 and save it to a csv-file and an Excel-file. Try to read these files with the help of pandas afterwards."
   ]
  },
  {
   "cell_type": "code",
   "execution_count": 35,
   "id": "d7a833f0-672d-4883-8c80-4b2eb072cd13",
   "metadata": {},
   "outputs": [
    {
     "name": "stdout",
     "output_type": "stream",
     "text": [
      "          A  B  C  D     4\n",
      "I        -8 -1 -2  7   NaN\n",
      "add      -5  8  2 -9   NaN\n",
      "6        -8 -8  0 -7   NaN\n",
      "row       8  2  6  5   NaN\n",
      "names     3  0  9  8  24.0\n",
      "manually  6 -4 -2  5   NaN\n"
     ]
    }
   ],
   "source": [
    "print(df1)"
   ]
  },
  {
   "cell_type": "code",
   "execution_count": 36,
   "id": "021d00be-be37-4048-a4d3-b1ce9d3d7a36",
   "metadata": {},
   "outputs": [],
   "source": [
    "df1.to_csv(\"Test_df1.csv\")\n",
    "df1.to_excel(\"Test_df1.xlsx\")"
   ]
  },
  {
   "cell_type": "code",
   "execution_count": 37,
   "id": "046105f6-2247-4b3f-bd3f-c9e267354f38",
   "metadata": {},
   "outputs": [
    {
     "name": "stdout",
     "output_type": "stream",
     "text": [
      "  Unnamed: 0  A  B  C  D     4\n",
      "0          I -8 -1 -2  7   NaN\n",
      "1        add -5  8  2 -9   NaN\n",
      "2          6 -8 -8  0 -7   NaN\n",
      "3        row  8  2  6  5   NaN\n",
      "4      names  3  0  9  8  24.0\n",
      "5   manually  6 -4 -2  5   NaN\n",
      "\n",
      "  Unnamed: 0  A  B  C  D     4\n",
      "0          I -8 -1 -2  7   NaN\n",
      "1        add -5  8  2 -9   NaN\n",
      "2          6 -8 -8  0 -7   NaN\n",
      "3        row  8  2  6  5   NaN\n",
      "4      names  3  0  9  8  24.0\n",
      "5   manually  6 -4 -2  5   NaN\n"
     ]
    }
   ],
   "source": [
    "df1_new1 = pd.read_csv(\"Test_df1.csv\")\n",
    "df1_new2 = pd.read_excel(\"Test_df1.xlsx\")\n",
    "\n",
    "print(df1_new1)\n",
    "print()\n",
    "print(df1_new2)"
   ]
  },
  {
   "cell_type": "code",
   "execution_count": null,
   "id": "24996a03-6d0c-452e-949c-6812c537efa2",
   "metadata": {},
   "outputs": [],
   "source": []
  }
 ],
 "metadata": {
  "kernelspec": {
   "display_name": "Python 3 (ipykernel)",
   "language": "python",
   "name": "python3"
  },
  "language_info": {
   "codemirror_mode": {
    "name": "ipython",
    "version": 3
   },
   "file_extension": ".py",
   "mimetype": "text/x-python",
   "name": "python",
   "nbconvert_exporter": "python",
   "pygments_lexer": "ipython3",
   "version": "3.12.2"
  }
 },
 "nbformat": 4,
 "nbformat_minor": 5
}
