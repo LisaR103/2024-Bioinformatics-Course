{
 "cells": [
  {
   "cell_type": "markdown",
   "id": "0f76da64-0cd3-4d5d-af45-2e590e2663f0",
   "metadata": {},
   "source": [
    "# Variables and their type"
   ]
  },
  {
   "cell_type": "markdown",
   "id": "2665b4f9-21c4-44ab-b891-4bbf2985be8e",
   "metadata": {},
   "source": [
    "## Table of content\n",
    "\n",
    "1. [Table of content](#Table-of-content)\n",
    "2. [Variables and their type](#Variables-and-their-type)\n",
    "   1. [Variables](#Variables)\n",
    "       1. [Assigning a variable](#Assigning-a-variable)\n",
    "       2. [Types of variables](#Types-of-variables)\n",
    "       3. [Changin the type of a variable: Casting a variable](#Changin-the-type-of-a-variable:-Casting-a-variable)\n",
    "       - [A note on Jupyter and Thonny](#A-note-on-Jupyter-and-Thonny:)\n",
    "       - [Some useful codes when working with strings](#Some-useful-codes-when-working-with-strings)\n",
    "          - [Creating Row and Column names](#Creating-Row-and-Column-names)\n",
    "          - [Accessing the Alphabet](#Accessing-the-Alphabet) \n",
    "   2. [Complex Printing](#Complex-Printing)\n",
    "   3. [Adjusting variables](#Adjusting-variables)\n",
    "       - [Note on Mathematical operators in python](#Note-on-Mathematical-operators-in-python)\n",
    "       1. [Shortcuts](#Shortcuts)\n",
    "5. [Exercises](#Exercises)\n",
    "    1. [Exercise 3 - Some Variables](#Exercise-3---Some-Variables)\n",
    "    2. [Exercise 4 - Using type](#Exercise-4---Using-type)\n",
    "       - [Complex numbers and typos](#Complex-numbers-and-typos)\n",
    "    4. [Exercise 5 - Complex Printing](#Exercise-5---Complex-Printing)\n",
    "    5. [Exercise 6 - Casting variable](#Exercise-6---Casting-variable)\n",
    "    6. [Exercise 7 - Math operations](#Exercise-7---Math-operations)\n",
    "    7. [Exercise 8 - Using shortcuts](#Exercise-8---Using-shortcuts)"
   ]
  },
  {
   "cell_type": "markdown",
   "id": "d4669590-2623-4cc5-96c2-0a2a4f12784c",
   "metadata": {},
   "source": [
    "# Variables and their type"
   ]
  },
  {
   "cell_type": "markdown",
   "id": "47df8cc5-782b-4910-9d6a-e900424e4ff0",
   "metadata": {},
   "source": [
    "## Variables"
   ]
  },
  {
   "cell_type": "markdown",
   "id": "bc9d8b9b-828f-456c-97a8-caa3a99022c7",
   "metadata": {},
   "source": [
    "\n",
    "\n",
    "A variable is a placeholder for a known value or result that we can retrieve when we need it. Primitives have a single value attached."
   ]
  },
  {
   "cell_type": "markdown",
   "id": "9968bc6c-9f5d-49d5-a474-6c9c8a1f513c",
   "metadata": {},
   "source": [
    "### Assigning a variable"
   ]
  },
  {
   "cell_type": "markdown",
   "id": "7fe8f27b-d8c6-462a-a2b2-14ec5c66ec9a",
   "metadata": {},
   "source": [
    "\n",
    "\n",
    "Var1 = \"A\"  \n",
    "Num1 = 23\n",
    "\n",
    "When assinging a variable, NEVER use the name of a built-in function, as it will overwrite it (for this one session)  \n"
   ]
  },
  {
   "cell_type": "markdown",
   "id": "79237f38-f091-4358-b7ab-e02e4c64fb3d",
   "metadata": {},
   "source": [
    "### Types of variables"
   ]
  },
  {
   "cell_type": "markdown",
   "id": "034c2264-eab0-4290-82f2-2caa078b574d",
   "metadata": {},
   "source": [
    "\n",
    "\n",
    "A number of different primitive types exist, for us only four are really relevant:\n",
    "\n",
    "- strings (str): \"Defined by quotation marks, colloquially: text\"\n",
    "- integers (int): Whole numbers, e.g. 1,4,-5\n",
    "- floats (float): Decimal numbers, e.g 1.0, -4.5\n",
    "- boolean (bool): Truth value (`True`/`False`)\n",
    "\n",
    "> careful! boolean is a subtype of integer (value 0 or 1) !!!! When filtering for Intergers Boolean will turn up as well\n",
    "\n",
    "Unlike R, Python doesn't have a format for dates\n",
    "\n",
    "The type of a variable or datastructure can be checked using the command `type()`  \n",
    "`type()` results in a class object (I think...)   \n",
    "Note: `type()` does not prouce an output! To see the type you have combine it with `print()`:\n",
    "\n",
    "    print(type(object))"
   ]
  },
  {
   "cell_type": "markdown",
   "id": "f228b2ff-c6cb-4c72-9a0e-11ac24b15f25",
   "metadata": {},
   "source": [
    "### Changin the type of a variable: Casting a variable"
   ]
  },
  {
   "cell_type": "markdown",
   "id": "ef15cccd-a928-4da4-ac23-539e6a9082d6",
   "metadata": {},
   "source": [
    "\n",
    "\n",
    "Converting the type of a variable into another. The commands are `str()`to convert into string, `int()` to convert into integer and `float()` to convert into a float (decimal numbers). Only one variable can be changed at a time.\n",
    "\n",
    "Why casting is important:    \n",
    "It is possible to attach two strings with `+`\n",
    "\n",
    "    \"10\" + \"10\" = \"1010\"\n",
    "    10 + 10 = 20\n",
    "\n",
    "\n",
    "- `str()`\n",
    "  - floats and integers can be cast into a string with no problem\n",
    "- `float()`\n",
    "  - integers can be cast into floats with no problem. But be aware that sometimes 10 is turned into 10.000001 -> combine with `round()`\n",
    "  - `round()`takes two arguments: the number to round and the decimal points. Negative decimals round to the nearest 10/100 etc.\n",
    "\n",
    "        round(1.56678,3) = 1.566\n",
    "        round(1456,-2) = 1500\n",
    "\n",
    "  - strings can be cast into a float as long as they contain only numbers with max one `.`and a preceding `-`as other characters. Otherwise: Error\n",
    "- `int()`\n",
    "   - strings can only be converted into integers if they contain only numbers and max a preceding `-`, decimals produce an error.\n",
    "   - floats can be turned into integers, but anything after the `.`is simply cut off (not rounded!!)"
   ]
  },
  {
   "cell_type": "markdown",
   "id": "f24618af-0066-4435-b711-4e2e5acd2232",
   "metadata": {},
   "source": [
    "### A note on Jupyter and Thonny:\n",
    "\n",
    "- In Thonny there is the variable viewer on the side to see which variable have been assigned already. In the Object Inspector we can then get more information   \n",
    "- In Jupyter assigned variables can be viewd using the magic command `%who`. More information can be obtained by `%pinfo object` (synonymous to `?object`). Magic commands are specific to IPyhton (Jupyter) and are not recognized by normal Python (e.g. Thonny)"
   ]
  },
  {
   "cell_type": "markdown",
   "id": "d4ec4e19-923f-432d-a64c-96e2fb847e9f",
   "metadata": {},
   "source": [
    "### Some useful codes when working with strings"
   ]
  },
  {
   "cell_type": "markdown",
   "id": "b9803479-34ac-4ed9-b4b3-1190ba4c460a",
   "metadata": {},
   "source": [
    "#### Creating Row and Column names"
   ]
  },
  {
   "cell_type": "code",
   "execution_count": 2,
   "id": "c9b14a37-4c12-4fb2-9fdc-4683a745b8e9",
   "metadata": {},
   "outputs": [
    {
     "name": "stdout",
     "output_type": "stream",
     "text": [
      "['Col1', 'Col2', 'Col3', 'Col4', 'Col5', 'Col6', 'Col7', 'Col8', 'Col9', 'Col10', 'Col11', 'Col12', 'Col13', 'Col14', 'Col15', 'Col16', 'Col17', 'Col18', 'Col19', 'Col20', 'Col21', 'Col22', 'Col23', 'Col24', 'Col25', 'Col26', 'Col27', 'Col28', 'Col29', 'Col30', 'Col31', 'Col32', 'Col33', 'Col34', 'Col35', 'Col36', 'Col37', 'Col38', 'Col39', 'Col40', 'Col41', 'Col42', 'Col43', 'Col44', 'Col45', 'Col46', 'Col47', 'Col48', 'Col49', 'Col50', 'Col51', 'Col52', 'Col53', 'Col54', 'Col55', 'Col56', 'Col57', 'Col58', 'Col59', 'Col60', 'Col61', 'Col62', 'Col63', 'Col64', 'Col65', 'Col66', 'Col67', 'Col68', 'Col69', 'Col70', 'Col71', 'Col72', 'Col73', 'Col74', 'Col75', 'Col76', 'Col77', 'Col78', 'Col79', 'Col80', 'Col81', 'Col82', 'Col83', 'Col84', 'Col85', 'Col86', 'Col87', 'Col88', 'Col89', 'Col90', 'Col91', 'Col92', 'Col93', 'Col94', 'Col95', 'Col96', 'Col97', 'Col98', 'Col99', 'Col100']\n"
     ]
    }
   ],
   "source": [
    "# To create a list containing columnnames Col1, Col2, ..., Col99,\n",
    "# Col100 you need a list comprehension as shown below.\n",
    "# In there python executes the loop (for i in range(1,101)) and\n",
    "# combines the string \"Col\" with the converted value of the loop\n",
    "# variable i (str(i)). These combined strings are placed inside a\n",
    "# list, because I placed the whole construct inside [ ]\n",
    "col_names = [\"Col\"+str(i) for i in range(1,101)]\n",
    "# Now we can print out the created list\n",
    "print(col_names)"
   ]
  },
  {
   "cell_type": "markdown",
   "id": "63c175a9-4a18-48df-8c48-0f8a4fe500cb",
   "metadata": {},
   "source": [
    "#### Accessing the Alphabet"
   ]
  },
  {
   "cell_type": "code",
   "execution_count": 1,
   "id": "3a85fcc7-ce7b-401f-b0ce-50f7aa6d1c49",
   "metadata": {},
   "outputs": [
    {
     "name": "stdout",
     "output_type": "stream",
     "text": [
      "#### Constant ####\n",
      "abcdefghijklmnopqrstuvwxyz\n",
      "\n",
      "#### Lists ####\n",
      "['a', 'b', 'c', 'd', 'e', 'f', 'g', 'h', 'i', 'j', 'k', 'l', 'm', 'n', 'o', 'p', 'q', 'r', 's', 't', 'u', 'v', 'w', 'x', 'y', 'z']\n",
      "['A', 'B', 'C', 'D', 'E', 'F', 'G', 'H', 'I', 'J', 'K', 'L', 'M', 'N', 'O', 'P', 'Q', 'R', 'S', 'T', 'U', 'V', 'W', 'X', 'Y', 'Z']\n",
      "\n",
      "#### Both alphabets ####\n",
      "['a', 'b', 'c', 'd', 'e', 'f', 'g', 'h', 'i', 'j', 'k', 'l', 'm', 'n', 'o', 'p', 'q', 'r', 's', 't', 'u', 'v', 'w', 'x', 'y', 'z', 'A', 'B', 'C', 'D', 'E', 'F', 'G', 'H', 'I', 'J', 'K', 'L', 'M', 'N', 'O', 'P', 'Q', 'R', 'S', 'T', 'U', 'V', 'W', 'X', 'Y', 'Z']\n",
      "\n",
      "#### Specific letters ####\n",
      "['E', 'F', 'G', 'H', 'I', 'J', 'K', 'L', 'M', 'N', 'O', 'P', 'Q', 'R', 'S', 'T', 'U', 'V', 'W']\n"
     ]
    }
   ],
   "source": [
    "# import the module string\n",
    "import string\n",
    "\n",
    "# Example for these constants\n",
    "print(\"#### Constant ####\")\n",
    "print(string.ascii_lowercase)\n",
    "print()\n",
    "\n",
    "# You can convert these constants to list with the casting\n",
    "# function list\n",
    "print(\"#### Lists ####\")\n",
    "lower = list(string.ascii_lowercase)\n",
    "print(lower)\n",
    "upper = list(string.ascii_uppercase)\n",
    "print(upper)\n",
    "print()\n",
    "\n",
    "# If you want both you can use letter\n",
    "all_letters = list(string.ascii_letters)\n",
    "print(\"#### Both alphabets ####\")\n",
    "print(all_letters)\n",
    "print()\n",
    "\n",
    "# Now you can get all letters from \"E\" to \"W\" as follows\n",
    "letters = upper[upper.index(\"E\"):upper.index(\"W\")+1]\n",
    "print(\"#### Specific letters ####\")\n",
    "print(letters)\n"
   ]
  },
  {
   "cell_type": "markdown",
   "id": "ae166005-6da5-4298-bf90-98f8fed7125d",
   "metadata": {},
   "source": [
    "## Complex Printing <a name = \"complexprint\" ></a>"
   ]
  },
  {
   "cell_type": "markdown",
   "id": "02e75ed3-8f95-4eaa-b02a-2759d4769bab",
   "metadata": {},
   "source": [
    "\n",
    "\n",
    "Several arguments can be combined in `print()`using `,` or f-strings\n",
    "\n",
    "    print(var1,\"text\",var2)\n",
    "\n",
    "This just putes eacht argument after the other separated by a blank. The separation character can be changed using `sep=\"\"`. `sep`has to be the last argument\n",
    "\n",
    "    print(var1,\"text\",var2,\"text2\", sep=\"_\")\n",
    "\n",
    "f-strings or formatted strings include a variable or formular within one single string. They are defined by an f before the first \"\n",
    "\n",
    "    print(f\"Text that includes {var1} or even a function {2+5}\")"
   ]
  },
  {
   "cell_type": "code",
   "execution_count": 1,
   "id": "cf58516d-b377-47cb-b662-b66d83aee3f5",
   "metadata": {},
   "outputs": [],
   "source": [
    "A = 2"
   ]
  },
  {
   "cell_type": "code",
   "execution_count": 2,
   "id": "0fd1d1b4-fe5e-4546-a37c-16c4575161d3",
   "metadata": {},
   "outputs": [
    {
     "name": "stdout",
     "output_type": "stream",
     "text": [
      "A\t \n"
     ]
    }
   ],
   "source": [
    "%who"
   ]
  },
  {
   "cell_type": "code",
   "execution_count": 3,
   "id": "fe30ea26-373a-43d0-a1f9-596d987393d1",
   "metadata": {},
   "outputs": [
    {
     "data": {
      "text/plain": [
       "\u001b[0;31mType:\u001b[0m        int\n",
       "\u001b[0;31mString form:\u001b[0m 2\n",
       "\u001b[0;31mDocstring:\u001b[0m  \n",
       "int([x]) -> integer\n",
       "int(x, base=10) -> integer\n",
       "\n",
       "Convert a number or string to an integer, or return 0 if no arguments\n",
       "are given.  If x is a number, return x.__int__().  For floating point\n",
       "numbers, this truncates towards zero.\n",
       "\n",
       "If x is not a number or if base is given, then x must be a string,\n",
       "bytes, or bytearray instance representing an integer literal in the\n",
       "given base.  The literal can be preceded by '+' or '-' and be surrounded\n",
       "by whitespace.  The base defaults to 10.  Valid bases are 0 and 2-36.\n",
       "Base 0 means to interpret the base from the string as an integer literal.\n",
       ">>> int('0b100', base=0)\n",
       "4"
      ]
     },
     "metadata": {},
     "output_type": "display_data"
    }
   ],
   "source": [
    "?A"
   ]
  },
  {
   "cell_type": "markdown",
   "id": "20464803-d553-4d4e-b232-b8429ed85038",
   "metadata": {},
   "source": [
    "## Adjusting variables"
   ]
  },
  {
   "cell_type": "markdown",
   "id": "aa69fc07-98cb-446e-9615-e819921d68b7",
   "metadata": {},
   "source": [
    "We can assign a result to a variable\n",
    "\n",
    "a = 5 + 10 results in an integer object with the value 15\n",
    "\n",
    "we can also *change* a variable\n",
    "\n",
    "b = a + 1 results in an integer object with value 16"
   ]
  },
  {
   "cell_type": "code",
   "execution_count": 4,
   "id": "6d44123c-0974-40a7-b9e4-f655932cecca",
   "metadata": {},
   "outputs": [
    {
     "name": "stdout",
     "output_type": "stream",
     "text": [
      "15\n",
      "20\n"
     ]
    }
   ],
   "source": [
    "a = 5 + 10\n",
    "b = a + 5\n",
    "print(a)\n",
    "print(b)"
   ]
  },
  {
   "cell_type": "markdown",
   "id": "5062743f-54a6-444e-a90a-0f3490f1417f",
   "metadata": {},
   "source": [
    "### Note on Mathematical operators in python\n",
    "\n",
    "Addition `+`  \n",
    "Substraction `-`  \n",
    "Multiplication `*`  \n",
    "Division `/`  \n",
    "Integer Divison `//`   \n",
    "Power `**`  \n",
    "\n",
    "Careful!! `^`is equal to `+` not `**`\n",
    "\n",
    "Division `/` always returns a float, if at least one float is involved the result is a float, otherwise integers stay integers"
   ]
  },
  {
   "cell_type": "code",
   "execution_count": 5,
   "id": "927c933e-97c7-43f6-9ae2-7be54c95b402",
   "metadata": {},
   "outputs": [
    {
     "name": "stdout",
     "output_type": "stream",
     "text": [
      "5 + 5 = 10\n",
      "5 - 5 = 0\n",
      "5 * 5 = 25\n",
      "15 / 5 = 3.0\n",
      "15 // 2 = 7 is an integer division and cuts after the decimal\n",
      "5 ** 5 = 3125\n"
     ]
    }
   ],
   "source": [
    "print(f\"5 + 5 = {5 + 5}\")\n",
    "print(f\"5 - 5 = {5 - 5}\")\n",
    "print(f\"5 * 5 = {5 * 5}\")\n",
    "print(f\"15 / 5 = {15 / 5}\")\n",
    "print(f\"15 // 2 = {15 // 2} is an integer division and cuts after the decimal\")\n",
    "print(f\"5 ** 5 = {5 ** 5}\")"
   ]
  },
  {
   "cell_type": "code",
   "execution_count": 6,
   "id": "d9de8c5a-27b7-4235-bac1-2f4800b43e83",
   "metadata": {},
   "outputs": [
    {
     "name": "stdout",
     "output_type": "stream",
     "text": [
      "CAREFUL ^ is equal to + power to is **\n",
      "5^2 results in 7\n",
      "5**2 results in 25\n"
     ]
    }
   ],
   "source": [
    "print(\"CAREFUL ^ is equal to + power to is **\")\n",
    "print(f\"5^2 results in {5^2}\")\n",
    "print(f\"5**2 results in {5**2}\")"
   ]
  },
  {
   "cell_type": "markdown",
   "id": "db6c4cf9-54d8-4d0c-8017-9ea6c2811441",
   "metadata": {},
   "source": [
    "### Shortcuts"
   ]
  },
  {
   "cell_type": "markdown",
   "id": "0f3cdec8-8cb2-460c-9e6c-ced6be9c109a",
   "metadata": {},
   "source": [
    "\n",
    "\n",
    "When changing a variable depending on itself there are shortcuts: `+=`, `-=`, `*=`, `/=`, `//=`, `**`\n",
    "\n",
    "    b = b + 1\n",
    "    b += 1\n",
    "\n",
    "    b = b - a \n",
    "    b -= a\n",
    "\n",
    "    etc.\n",
    "\n",
    "This changes the value of the variable permanently\n",
    "\n",
    "be aware that `/=` turns an integer into a float!"
   ]
  },
  {
   "cell_type": "markdown",
   "id": "a7c3cc1f-858b-4727-9b4c-c7ca61f5958e",
   "metadata": {},
   "source": [
    "# Exercises"
   ]
  },
  {
   "cell_type": "markdown",
   "id": "db2afbd6-36a7-416c-9490-4381027e6662",
   "metadata": {},
   "source": [
    "## Exercise 3 - Some Variables"
   ]
  },
  {
   "cell_type": "markdown",
   "id": "8e6ac136-c87c-4ae1-aec5-87246d76d2bd",
   "metadata": {},
   "source": [
    "Write a small Python program that declares and assigns at least 10 Variables of different types\n",
    "(int, string, float, bool). Use print to show them in the terminal."
   ]
  },
  {
   "cell_type": "code",
   "execution_count": 7,
   "id": "005e66f3-2418-4fdd-b889-2d08619acf92",
   "metadata": {},
   "outputs": [
    {
     "name": "stdout",
     "output_type": "stream",
     "text": [
      "Geburtstag\n",
      "33\n",
      "1.7\n",
      "True\n",
      "You can use this to write Geburtstag and age 33\n"
     ]
    }
   ],
   "source": [
    "#assigning variables of the 4 important types (integer, string, float and boolean)\n",
    "stringBirthday = \"Geburtstag\"\n",
    "age = 33\n",
    "height = 1.70\n",
    "cor = True\n",
    "#f strings can also be used in the assignment of string\n",
    "fstringexample = f\"You can use this to write {stringBirthday} and age {age}\" \n",
    "\n",
    "#test  that they were correctly assigned with print\n",
    "#I end with an empty print to separate the next outputs visually\n",
    "print(stringBirthday)\n",
    "print(age)\n",
    "print(height)\n",
    "print(cor)\n",
    "print(fstringexample)\n",
    "\n"
   ]
  },
  {
   "cell_type": "code",
   "execution_count": 8,
   "id": "9de07b4e-b0a1-4547-8556-85bba73fe0e0",
   "metadata": {},
   "outputs": [
    {
     "name": "stdout",
     "output_type": "stream",
     "text": [
      "My name is Lisa Rösch.\n",
      "I was born 10.03.1990. I am 33 years old.\n",
      "I am 1.72 meters tall.\n",
      "This statement is True\n",
      "\n",
      "My name is Zoé.\n",
      "I was born 30.04.2002. I am 100 years old.\n",
      "I am -4.6 meters tall.\n",
      "This statement is False\n",
      "\n"
     ]
    }
   ],
   "source": [
    "#make something a bit more fun\n",
    "name1 = \"Lisa Rösch\"\n",
    "birthday1 = \"10.03.1990\"\n",
    "age1 = 33\n",
    "height1 = 1.72\n",
    "check1 = True\n",
    "\n",
    "name2 = \"Zoé\"\n",
    "birthday2 = \"30.04.2002\"\n",
    "age2 = 100\n",
    "height2 = -4.6\n",
    "check2 = False\n",
    "\n",
    "print(\"My name is \",name1,\".\",sep=\"\")\n",
    "print(\"I was born \",birthday1,\". I am \",age1,\" years old.\",sep=\"\")\n",
    "print(\"I am \",height1,\" meters tall.\",sep=\"\")\n",
    "print(\"This statement is\",check1)\n",
    "print()\n",
    "\n",
    "print(\"My name is \",name2,\".\",sep=\"\")\n",
    "print(\"I was born \",birthday2,\". I am \",age2,\" years old.\",sep=\"\")\n",
    "print(\"I am \",height2,\" meters tall.\",sep=\"\")\n",
    "print(\"This statement is\",check2)\n",
    "print()"
   ]
  },
  {
   "cell_type": "markdown",
   "id": "32024e65-5d98-4bb6-960a-7cf1d9dbb4cc",
   "metadata": {},
   "source": [
    "## Exercise 4 - Using type()"
   ]
  },
  {
   "cell_type": "markdown",
   "id": "d51c6182-03d1-4543-95a8-5174b36b003f",
   "metadata": {},
   "source": [
    "Define at least seven different variables of different types (integer, float, string, bool) and print\n",
    "out the corresponding type of them."
   ]
  },
  {
   "cell_type": "code",
   "execution_count": 9,
   "id": "8f0521b8-c9ca-4ccc-8e54-65a3527e4b69",
   "metadata": {},
   "outputs": [
    {
     "name": "stdout",
     "output_type": "stream",
     "text": [
      "<class 'str'>\n",
      "<class 'str'>\n",
      "<class 'int'>\n",
      "<class 'float'>\n",
      "<class 'bool'>\n",
      "<class 'str'>\n",
      "<class 'str'>\n",
      "<class 'int'>\n",
      "<class 'float'>\n",
      "<class 'bool'>\n"
     ]
    }
   ],
   "source": [
    "#checking the type of the variables created abpove\n",
    "print(type(name1))\n",
    "print(type(birthday1))\n",
    "print(type(age1))\n",
    "print(type(height1))\n",
    "print(type(check1))\n",
    "\n",
    "print(type(name2))\n",
    "print(type(birthday2))\n",
    "print(type(age2))\n",
    "print(type(height2))\n",
    "print(type(check2))"
   ]
  },
  {
   "cell_type": "markdown",
   "id": "7c64734e-dfa1-4b31-9c71-716d94913a66",
   "metadata": {},
   "source": [
    "### Complex numbers and typos <a name = \"excursion2\"></a>"
   ]
  },
  {
   "cell_type": "code",
   "execution_count": 10,
   "id": "3ae674cc-3772-4293-b5c6-b5edb68b4c59",
   "metadata": {},
   "outputs": [
    {
     "name": "stdout",
     "output_type": "stream",
     "text": [
      "<class 'tuple'>\n"
     ]
    }
   ],
   "source": [
    "#if by mistake one types , instead of . for decimal one creates a tuple\n",
    "mistake = 4,5\n",
    "print(type(mistake))"
   ]
  },
  {
   "cell_type": "code",
   "execution_count": 11,
   "id": "31428a77-6a23-4338-b2f0-877084c7cc78",
   "metadata": {},
   "outputs": [
    {
     "name": "stdout",
     "output_type": "stream",
     "text": [
      "(2+3j)\n",
      "<class 'complex'>\n"
     ]
    }
   ],
   "source": [
    "#There is also the class complex numbers\n",
    "complex_number = 2 + 3j\n",
    "print(complex_number)\n",
    "print(type(complex_number))"
   ]
  },
  {
   "cell_type": "markdown",
   "id": "a3d4e2e3-a14c-47f4-97ad-c3873d18a80e",
   "metadata": {},
   "source": [
    "## Exercise 5 - Complex printing"
   ]
  },
  {
   "cell_type": "markdown",
   "id": "13d29235-7314-4fa3-b140-bea6aaaa42f8",
   "metadata": {},
   "source": [
    "Use your knowledge of assigning Variables to declare at least seven different variables in a\n",
    "new script. Print out the variables and combine them with either strings or each other by using\n",
    "commas and f-Strings. Your program should contain at least 10 different print commands."
   ]
  },
  {
   "cell_type": "code",
   "execution_count": 12,
   "id": "a5ffe71d-ef68-47fe-a063-4c86910b17c5",
   "metadata": {},
   "outputs": [],
   "source": [
    "##add some variables\n",
    "name1 = \"Lisa Rösch\"\n",
    "birthday1 = \"10.03.1990\"\n",
    "age1 = 33\n",
    "height1 = 1.72\n",
    "check1 = True\n",
    "hobby1 = \"knitting\"\n",
    "hobby2 = \"playing the piano\""
   ]
  },
  {
   "cell_type": "code",
   "execution_count": 13,
   "id": "16ef1df7-4387-4bff-8054-016614a0a094",
   "metadata": {},
   "outputs": [
    {
     "name": "stdout",
     "output_type": "stream",
     "text": [
      "My name is Lisa Rösch.\n",
      "My birthday is 10.03.1990 and I am 33 years old.\n",
      "I am 1.72 metres tall.\n",
      "These statements are True.\n",
      "I enjoy knitting and playing the piano.\n"
     ]
    }
   ],
   "source": [
    "#print them using f-Strings.\n",
    "print(f\"My name is {name1}.\\nMy birthday is {birthday1} and I am {age1} years old.\")\n",
    "print(f\"I am {height1} metres tall.\\nThese statements are {check1}.\")\n",
    "print(f\"I enjoy {hobby1} and {hobby2}.\")"
   ]
  },
  {
   "cell_type": "code",
   "execution_count": 14,
   "id": "c938144b-d837-459f-8fbc-b295be87b75b",
   "metadata": {},
   "outputs": [
    {
     "name": "stdout",
     "output_type": "stream",
     "text": [
      "My name is Lisa Rösch.\n",
      "My birthday is 10.03.1990 and I am 33 years old.\n",
      "I am 1.72 meters tall.\n",
      "This statement is True\n",
      "I enjoy knitting and playing the piano.\n"
     ]
    }
   ],
   "source": [
    "#the alternative is adding everything together with commas:\n",
    "#but it is more complicated to integrate it into the text this way\n",
    "print(\"My name is \",name1,\".\",sep=\"\")\n",
    "print(\"My birthday is\",birthday1,\"and I am\",age1,\"years old.\")\n",
    "print(\"I am \",height1,\" meters tall.\",sep=\"\")\n",
    "print(\"This statement is\",check1)\n",
    "print(\"I enjoy \", hobby1, \" and \", hobby2,\".\",sep=\"\")"
   ]
  },
  {
   "cell_type": "code",
   "execution_count": 15,
   "id": "00e72b48-749b-46c3-bd1c-d374730f004b",
   "metadata": {},
   "outputs": [
    {
     "name": "stdout",
     "output_type": "stream",
     "text": [
      "5\n",
      "12\n",
      "5 + 7 = 12\n",
      "5 + 7 = 12\n"
     ]
    }
   ],
   "source": [
    "##I can also print numbers\n",
    "print(5)\n",
    "\n",
    "#I can even perform calculations with the numbers within the print command\n",
    "print(5+7)\n",
    "\n",
    "## writing a statement that explains what my number means/how I calculated it\n",
    "\n",
    "#combining with commas\n",
    "print(5,\"+\",7,\"=\",5+7)\n",
    "\n",
    "#combining with f string\n",
    "#in the f string a simple number can be put into the string (5)\n",
    "#or outside it with {} (7)\n",
    "#the calculation has to be outside the string in {}\n",
    "print(f\"5 + {7} = {5+7}\")"
   ]
  },
  {
   "cell_type": "code",
   "execution_count": 16,
   "id": "aca502fa-5e1d-48a3-89c6-8e5a95facce3",
   "metadata": {},
   "outputs": [
    {
     "name": "stdout",
     "output_type": "stream",
     "text": [
      "I combine f string True with numbers 12 4\n",
      "I combine normal string True with an f string 12\n"
     ]
    }
   ],
   "source": [
    "##I can combine f string and normal string (both ways around)\n",
    "check2 = True\n",
    "randomnumber = 12\n",
    "print(f\"I combine f string {check2}\",\"with numbers\",randomnumber,4)\n",
    "print(\"I combine normal string\",check2,f\"with an f string {randomnumber}\")"
   ]
  },
  {
   "cell_type": "markdown",
   "id": "44da1761-fc74-4dd7-8c0b-2b94ca8f5a47",
   "metadata": {},
   "source": [
    "## Exercise 6 - Casting variable"
   ]
  },
  {
   "cell_type": "markdown",
   "id": "8aba37bd-c976-4413-9398-40357a385e2d",
   "metadata": {},
   "source": [
    "Write a script that defines at least five variables of different types and print them out.\n",
    "Afterwards try to change the datatypes of your variables by casting them. Don’t forget to print\n",
    "out the type of your variable before and after casting it."
   ]
  },
  {
   "cell_type": "code",
   "execution_count": 17,
   "id": "72386935-795e-4f45-a159-55e06e3bf0fd",
   "metadata": {},
   "outputs": [],
   "source": [
    "# make some variables\n",
    "int1 = 5\n",
    "flt1 = 2.5\n",
    "string1 = \"Hallo\"\n",
    "string2 = \"10\"\n",
    "string3 = \"4.67\""
   ]
  },
  {
   "cell_type": "code",
   "execution_count": 18,
   "id": "ac8fa5fc-e9c2-453f-affb-49face012ed3",
   "metadata": {},
   "outputs": [
    {
     "name": "stdout",
     "output_type": "stream",
     "text": [
      "Check the class of my variables:\n",
      "class of int1 (5) is <class 'int'>\n",
      "class of flt1 (2.5) is <class 'float'>\n",
      "class of string1 (Hallo) is <class 'str'>\n",
      "class of string2 (10) is <class 'str'>\n",
      "class of string3 (4.67) is <class 'str'>\n"
     ]
    }
   ],
   "source": [
    "# check the types of the variables\n",
    "print(\"Check the class of my variables:\")\n",
    "print(f\"class of int1 ({int1}) is {type(int1)}\")\n",
    "print(f\"class of flt1 ({flt1}) is {type(flt1)}\")\n",
    "print(f\"class of string1 ({string1}) is {type(string1)}\")\n",
    "print(f\"class of string2 ({string2}) is {type(string2)}\")\n",
    "print(f\"class of string3 ({string3}) is {type(string3)}\")"
   ]
  },
  {
   "cell_type": "code",
   "execution_count": 19,
   "id": "e78914fc-c269-4305-bb7b-e69b6ed8e300",
   "metadata": {},
   "outputs": [
    {
     "name": "stdout",
     "output_type": "stream",
     "text": [
      "class of int1_str (5) is <class 'str'>\n",
      "class of flt1_str (2.5) is <class 'str'>\n"
     ]
    }
   ],
   "source": [
    "# turning my numbers (one an integer and one a float) into strings\n",
    "int1_str = str(int1)\n",
    "flt1_str = str(flt1)\n",
    "\n",
    "print(f\"class of int1_str ({int1_str}) is {type(int1_str)}\")\n",
    "print(f\"class of flt1_str ({flt1_str}) is {type(flt1_str)}\")"
   ]
  },
  {
   "cell_type": "code",
   "execution_count": 20,
   "id": "037cda3f-5688-4de8-b1dc-56ae416b599e",
   "metadata": {},
   "outputs": [
    {
     "name": "stdout",
     "output_type": "stream",
     "text": [
      "class of int1_flt (5.0) is <class 'float'>\n",
      "class of string2_flt (10.0) is <class 'float'>\n",
      "class of string3_flt (4.67) is <class 'float'>\n"
     ]
    }
   ],
   "source": [
    "# turning my integer and strings into a float\n",
    "int1_flt = float(round(int1))\n",
    "#string1 cannot be turned into a float because it contains characters\n",
    "#string1_flt = float(string1)\n",
    "string2_flt = float(string2)\n",
    "string3_flt = float(string3)\n",
    "\n",
    "print(f\"class of int1_flt ({int1_flt}) is {type(int1_flt)}\")\n",
    "print(f\"class of string2_flt ({string2_flt}) is {type(string2_flt)}\")\n",
    "print(f\"class of string3_flt ({string3_flt}) is {type(string3_flt)}\")"
   ]
  },
  {
   "cell_type": "code",
   "execution_count": 21,
   "id": "5c716968-c69d-49e5-a6a2-79d452d4236d",
   "metadata": {},
   "outputs": [
    {
     "name": "stdout",
     "output_type": "stream",
     "text": [
      "int() just cuts the decimal, so flt1 (2.5) turns into flt1_int (2)\n",
      "class of flt1_int (2) is <class 'int'>\n"
     ]
    }
   ],
   "source": [
    "# turning my float into an integer\n",
    "flt1_int = int(flt1)\n",
    "print(f\"int() just cuts the decimal, so flt1 ({flt1}) turns into flt1_int ({flt1_int})\")\n",
    "print(f\"class of flt1_int ({flt1_int}) is {type(flt1_int)}\")"
   ]
  },
  {
   "cell_type": "code",
   "execution_count": 22,
   "id": "135e7a15-f0fe-414d-a4c0-018e44368e52",
   "metadata": {},
   "outputs": [
    {
     "name": "stdout",
     "output_type": "stream",
     "text": [
      "class of string2_int (10) is <class 'int'>\n"
     ]
    }
   ],
   "source": [
    "#turning my strings into an integer\n",
    "#only works with string2 because the others are more than a full number\n",
    "string2_int = int(string2)\n",
    "print(f\"class of string2_int ({string2_int}) is {type(string2_int)}\")"
   ]
  },
  {
   "cell_type": "code",
   "execution_count": 23,
   "id": "721df221-85ea-4976-9bc3-faea68bf3778",
   "metadata": {},
   "outputs": [
    {
     "name": "stdout",
     "output_type": "stream",
     "text": [
      "HalloHallo Two strings added with +\n",
      "1010 Two strings (10) added with +\n",
      "20.0 Two floats (10) added with +\n"
     ]
    }
   ],
   "source": [
    "#Examples why casting is importantprint(\"Why converting is important - examples:\")\n",
    "print(string1+string1,\"Two strings added with +\")\n",
    "#print(string1-string1) -> produces an error\n",
    "print(string2+string2,\"Two strings (10) added with +\") # -> adds the two tens to each other, result: 1010\n",
    "print(string2_flt+string2_flt,\"Two floats (10) added with +\") # -> adds the two tens to each other, result: 20\n",
    "\n"
   ]
  },
  {
   "cell_type": "markdown",
   "id": "1cd079de-5e9a-40ac-b02b-32ea11d09302",
   "metadata": {},
   "source": [
    "## Exercise 7 - Math operations"
   ]
  },
  {
   "cell_type": "markdown",
   "id": "9286829b-c99c-448d-a7df-f6268c56e85e",
   "metadata": {},
   "source": [
    "Write a program that shows the use of all 6 math functions. It should work with at least four\n",
    "different numbers."
   ]
  },
  {
   "cell_type": "code",
   "execution_count": 24,
   "id": "f88777d3-7eb2-4b0f-86d2-4fe5ceb89e05",
   "metadata": {},
   "outputs": [],
   "source": [
    "#define variables\n",
    "var1 = 4\n",
    "var2 = -5\n",
    "var3 = 0.56\n",
    "var4 = -0.876\n",
    "var5 = 700\n",
    "var6 = 2"
   ]
  },
  {
   "cell_type": "code",
   "execution_count": 25,
   "id": "89c76928-9e3c-410e-a762-45bd0d0edb67",
   "metadata": {},
   "outputs": [
    {
     "name": "stdout",
     "output_type": "stream",
     "text": [
      "var1 + var2 - 5 = -6\n",
      "4 + -5 - 5 = -6\n"
     ]
    }
   ],
   "source": [
    "#some calculations with the variables\n",
    "print(f\"var1 + var2 - 5 = {var1 + var2 - 5}\")\n",
    "print(var1, \"+\", var2, \"- 5 =\", var1 + var2 - 5)"
   ]
  },
  {
   "cell_type": "code",
   "execution_count": 26,
   "id": "e158e56c-50a0-4362-8042-309e78caecf1",
   "metadata": {},
   "outputs": [
    {
     "name": "stdout",
     "output_type": "stream",
     "text": [
      "var1 / var2 * 7 = -5.6000000000000005\n"
     ]
    }
   ],
   "source": [
    "result1 = var1 / var2 * 7\n",
    "print(f\"var1 / var2 * 7 = {result1}\")"
   ]
  },
  {
   "cell_type": "code",
   "execution_count": 27,
   "id": "0a1d948c-2c77-41cb-9208-05235b4274f1",
   "metadata": {},
   "outputs": [
    {
     "name": "stdout",
     "output_type": "stream",
     "text": [
      "4 * -5 - 5 = -25\n",
      "4 * (-5 - 5) = -40\n",
      "700 / 13 = 53.84615384615385\n",
      "700 // 13 = 53\n",
      "0.56 * -0.876 = -0.49056000000000005\n",
      "4 ** 2 = 16\n",
      "4 ** -5 = 0.0009765625\n"
     ]
    }
   ],
   "source": [
    "print(f\"{var1} * {var2} - 5 = {var1 * var2 - 5}\")\n",
    "print(f\"{var1} * ({var2} - 5) = {var1 * (var2 - 5)}\")\n",
    "print(f\"{var5} / 13 = {var5 / 13}\")\n",
    "print(f\"{var5} // 13 = {var5 // 13}\")\n",
    "print(f\"{var3} * {var4} = {var3 * var4}\")\n",
    "print(f\"{var1} ** {var6} = {var1 ** var6}\")\n",
    "print(f\"{var1} ** {var2} = {var1 ** var2}\")"
   ]
  },
  {
   "cell_type": "code",
   "execution_count": 28,
   "id": "e2cbcae1-16e6-4db0-a240-1c353b262c69",
   "metadata": {},
   "outputs": [
    {
     "name": "stdout",
     "output_type": "stream",
     "text": [
      "4 ** -5 = 0.0009765625\n",
      "round(4 ** -5, 5) = 0.00098\n"
     ]
    }
   ],
   "source": [
    "#adding round\n",
    "print(f\"{var1} ** {var2} = {var1 ** var2}\")\n",
    "print(f\"round({var1} ** {var2}, 5) = {round(var1 ** var2,5)}\")"
   ]
  },
  {
   "cell_type": "code",
   "execution_count": 29,
   "id": "3019942d-aee1-4f67-8fcd-18de387df5a7",
   "metadata": {},
   "outputs": [
    {
     "name": "stdout",
     "output_type": "stream",
     "text": [
      "14.3*12 = 171.60000000000002 instead of 171.6\n"
     ]
    }
   ],
   "source": [
    "#An example for an imprecise result in float because of byte conversions\n",
    "print(f\"14.3*12 = {14.3*12} instead of 171.6\")"
   ]
  },
  {
   "cell_type": "markdown",
   "id": "14beb0d6-90aa-4f8a-95f7-de6e5e21e129",
   "metadata": {},
   "source": [
    "## Exercise 8 - Using shortcuts"
   ]
  },
  {
   "cell_type": "markdown",
   "id": "3e78a57e-18b0-4961-af7f-94fcad174cd9",
   "metadata": {},
   "source": [
    "\n",
    "Adjust your program you wrote for Exercise 7 by using the different shortcuts you learned."
   ]
  },
  {
   "cell_type": "code",
   "execution_count": 30,
   "id": "81c1a9d2-a54b-446a-ad64-e43966ed0498",
   "metadata": {},
   "outputs": [
    {
     "name": "stdout",
     "output_type": "stream",
     "text": [
      "4\n",
      "var_adj += 1\n",
      "5\n",
      "var_adj -= 10\n",
      "-5\n",
      "var_adj /= var6 (value of 2)\n",
      "-2.5\n",
      "var_adj *= -6\n",
      "15.0\n",
      "var_adj += var_adj\n",
      "30.0\n",
      "var_adj += var_adj\n",
      "60.0\n",
      "var_adj += var_adj\n",
      "180.0\n"
     ]
    }
   ],
   "source": [
    "var_adj = var1\n",
    "print(var_adj)\n",
    "\n",
    "var_adj += 1\n",
    "print(\"var_adj += 1\")\n",
    "print(var_adj)\n",
    "\n",
    "var_adj -= 10\n",
    "print(\"var_adj -= 10\")\n",
    "print(var_adj)\n",
    "\n",
    "var_adj /= var6\n",
    "print(f\"var_adj /= var6 (value of {var6})\")\n",
    "print(var_adj)\n",
    "\n",
    "var_adj *= -6\n",
    "print(\"var_adj *= -6\")\n",
    "print(var_adj)\n",
    "\n",
    "var_adj += var_adj\n",
    "print(\"var_adj += var_adj\")\n",
    "print(var_adj)\n",
    "\n",
    "var_adj += var_adj\n",
    "print(\"var_adj += var_adj\")\n",
    "print(var_adj)\n",
    "\n",
    "var_adj += 2 * var_adj\n",
    "print(\"var_adj += var_adj\")\n",
    "print(var_adj)\n"
   ]
  }
 ],
 "metadata": {
  "kernelspec": {
   "display_name": "Python 3 (ipykernel)",
   "language": "python",
   "name": "python3"
  },
  "language_info": {
   "codemirror_mode": {
    "name": "ipython",
    "version": 3
   },
   "file_extension": ".py",
   "mimetype": "text/x-python",
   "name": "python",
   "nbconvert_exporter": "python",
   "pygments_lexer": "ipython3",
   "version": "3.12.2"
  }
 },
 "nbformat": 4,
 "nbformat_minor": 5
}
