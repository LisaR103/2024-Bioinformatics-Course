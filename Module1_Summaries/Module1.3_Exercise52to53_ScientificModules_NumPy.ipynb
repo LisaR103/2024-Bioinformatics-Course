{
 "cells": [
  {
   "cell_type": "markdown",
   "id": "eae1f129-22af-4b53-944d-c001d7224971",
   "metadata": {},
   "source": [
    "# Module 1.3 - Scientific Modules\n",
    "\n",
    "## Table of content\n",
    "\n",
    "1. [Table of content](#Table-of-content)\n",
    "2. [Scientifics Modules](#Scientific-Modules)\n",
    "    1. [NumPy](#NumPy)\n",
    "      1. [ndarray](#ndarray)\n",
    "          1. [creating and ndarray](#creating-an-ndarray)\n",
    "          2. [working with ndarrays](#working-with-ndarrays)\n",
    "          3. [NumPy and mathematics](#NumPy-and-mathematics) \n",
    "3. [Exercises](#Exercises)\n",
    "    1. [Exercise 52 - NumPy arrays](#Exercise-52---NumPy-arrays)\n",
    "    2. [Exercise 53 - Mathematics with NumPy](#Exercise-53---Mathematics-with-NumPy)"
   ]
  },
  {
   "cell_type": "markdown",
   "id": "533ea238-7bbe-4d11-9cce-e161e51ad2a4",
   "metadata": {},
   "source": [
    "# Scientific Modules"
   ]
  },
  {
   "cell_type": "markdown",
   "id": "5d944003-f360-48ef-a06f-68ed3fd75797",
   "metadata": {},
   "source": [
    "## NumPy\n",
    "\n",
    "*The* fundamental package for scientific computing.    \n",
    "Includes among other things:\n",
    "- the np.ndarray\n",
    "- mathematical functions like np.sqrt()\n",
    "- submodule np.linalg for linear algebra (to import a single submodule: `import numpy.linalg as linalg`)\n",
    "\n",
    "Importing convention for NumPy: `import numpy as np`\n",
    "\n",
    "It has it's own help page: https://numpy.org"
   ]
  },
  {
   "cell_type": "code",
   "execution_count": 1,
   "id": "75662964-89e7-42db-945d-587d3a86797d",
   "metadata": {},
   "outputs": [],
   "source": [
    "#installed numpy through the terminal with the command `pip3 install numpy`"
   ]
  },
  {
   "cell_type": "code",
   "execution_count": 2,
   "id": "881e8304-ef57-4eed-94bc-f8a2e4e892c1",
   "metadata": {},
   "outputs": [],
   "source": [
    "import numpy as np"
   ]
  },
  {
   "cell_type": "markdown",
   "id": "444e8dd6-9d55-4a27-b25e-082b2bd0d810",
   "metadata": {},
   "source": [
    "### ndarray"
   ]
  },
  {
   "cell_type": "markdown",
   "id": "64053d6a-b7df-42d4-91d3-2edd8f282874",
   "metadata": {},
   "source": [
    "Datastructure in NumPy which is used to model matrices and vectors\n",
    "\n",
    "- fixed size at the creation, we cannot add or remove elements from an ndarray (but we can change them, e.g. when placing results inside)\n",
    "- all elements have to be of the same type: all strings, all floats, all integers etc.\n",
    "\n",
    "ndarrays look like lists in the print out, except they have no commas.   \n",
    "ndarrays are of type numpy.ndarray"
   ]
  },
  {
   "cell_type": "code",
   "execution_count": 3,
   "id": "a4c53443-b8cb-491c-a998-4cf184b18352",
   "metadata": {},
   "outputs": [
    {
     "name": "stdout",
     "output_type": "stream",
     "text": [
      "[1 2 3 4]\n",
      "<class 'numpy.ndarray'>\n"
     ]
    }
   ],
   "source": [
    "#create a small example ndarray\n",
    "a1 = np.array([1,2,3,4])\n",
    "print(a1)\n",
    "print(type(a1))"
   ]
  },
  {
   "cell_type": "markdown",
   "id": "1087fba9-84d9-42e4-bd48-5c7fbcdf8703",
   "metadata": {},
   "source": [
    "#### creating an ndarray\n",
    "\n",
    "- lists, sets and tuples can be cast into an ndarray (as long as they only have one data type)    \n",
    "  `np.array(list)`\n",
    "- creating a range in the creation (follows the usual `range()` rules, but allows for floats)    \n",
    "  `np.arange(start,stop,step)`\n",
    "- creating an array with zeros, where x is the number of elements. x can be a tuple   \n",
    "  `np.zeros(x)`\n",
    "- creating an array with ones, where x is the number of elements. x can be a tuple       \n",
    "  `np.ones(x)`\n",
    "- creating an multidimensional arrays with a tuple, where x is the number of outside elements and y is the number of inside elements. Can have as many dimensions as needed/wanted   \n",
    "  `np.zeros((x,y))`\n",
    "- creating an array with random numbers taken from a normal distribution with mean 0 and stdev 1   \n",
    "  `np.random.randn(x,y)`\n",
    "- creating an array with x rows and y columns with random integers in the range between start and stop    \n",
    "  `np.random.randint(start, stop, size=(x,y))`\n",
    "\n",
    "Note: Multidimensional arrays are *always* rectangular, i.e. all elements in the outer part of the array have the exact same number of elements"
   ]
  },
  {
   "cell_type": "code",
   "execution_count": 4,
   "id": "b8086c20-8dfc-45b7-bd47-d48c7ef0196c",
   "metadata": {},
   "outputs": [
    {
     "name": "stdout",
     "output_type": "stream",
     "text": [
      "[ 5 10]\n",
      "[0. 0. 0.]\n",
      "[[1. 1. 1.]\n",
      " [1. 1. 1.]]\n",
      "[[-1.54101971  1.4566511 ]\n",
      " [-0.6044626  -1.41569932]\n",
      " [ 1.03909306 -1.65168547]]\n"
     ]
    }
   ],
   "source": [
    "print(np.arange(5,15,5))\n",
    "print(np.zeros(3))\n",
    "print(np.ones((2,3)))\n",
    "print(np.random.randn(3,2))"
   ]
  },
  {
   "cell_type": "markdown",
   "id": "aac5d126-e379-4348-aa2f-27a91323fdf4",
   "metadata": {},
   "source": [
    "#### working with ndarrays\n",
    "\n",
    "- all operations apply elementwise\n",
    "- as long as two ndarrays have the same size I can freely sum up, substract, multiply them etc.\n",
    "- basic ndarray functions, none of these work in-place:   \n",
    "  `array.sum()` -> gives the total sum of the array   \n",
    "  `arry.min()` -> gives the min value of the array   \n",
    "  `arry.max()` -> gives the max value of the array   \n",
    "  `array.transpose()` -> turns the array around (rows -> columns and columns-> rows), needs to be assigned to a variable if you want to work with it   \n",
    "  `array.shape` -> without `()` as not a method!! Gives us back the shape of the array\n",
    "\n",
    "We can call individual elements using `[idx]`, same as with lists.    \n",
    "Multidimensional arrays are accessed with multiple `[]`:\n",
    "`array[2][3]` calls the fourth element of the third element"
   ]
  },
  {
   "cell_type": "markdown",
   "id": "2788e835-1abc-44ef-a834-adff2844826f",
   "metadata": {},
   "source": [
    "#### NumPy and mathematics\n",
    "There are a large number of mathematical operations we can use on arrays in NumPy.   \n",
    "\n",
    "- All of these methods work elementwise.   \n",
    "- If I want to work mathematics with two arrays they have to be of the *same dimension*\n",
    "- some examples for function: `np.sin()`, `np.cos()`, `nplog()`, `np.log10()`, `np.exp()`, `np.power()`, `np.sqrt()` etc. etc.\n",
    "- these functions are rather robust, even if a mathematical operation is not possible it continues and just returs `nan`"
   ]
  },
  {
   "cell_type": "code",
   "execution_count": 5,
   "id": "82f5fe9c-a503-4006-8574-4d97beada137",
   "metadata": {},
   "outputs": [
    {
     "name": "stdout",
     "output_type": "stream",
     "text": [
      "[[ -6  -7 -10]\n",
      " [ -7   0  -7]]\n"
     ]
    }
   ],
   "source": [
    "#create an example array\n",
    "arrayA = np.random.randint(-10, 10, size=(2,3))\n",
    "print(arrayA)"
   ]
  },
  {
   "cell_type": "markdown",
   "id": "ceb7dea4-5782-4c42-ab78-b181a260d120",
   "metadata": {},
   "source": [
    "> mathematical operations with a single number work on all elements"
   ]
  },
  {
   "cell_type": "code",
   "execution_count": 6,
   "id": "68fca527-cb51-4716-b8d3-4a921ceb89cc",
   "metadata": {},
   "outputs": [
    {
     "name": "stdout",
     "output_type": "stream",
     "text": [
      "[[ -6  -7 -10]\n",
      " [ -7   0  -7]]\n",
      "[[-24 -28 -40]\n",
      " [-28   0 -28]]\n"
     ]
    }
   ],
   "source": [
    "print(arrayA)\n",
    "arrayA4 = arrayA * 4\n",
    "print(arrayA4)"
   ]
  },
  {
   "cell_type": "markdown",
   "id": "8e063a46-64b1-4bb2-9b11-1ee4d1bcd683",
   "metadata": {},
   "source": [
    "> two arrays have to have the same size"
   ]
  },
  {
   "cell_type": "code",
   "execution_count": 7,
   "id": "59b5041e-593b-44fe-a406-799abc5323e6",
   "metadata": {},
   "outputs": [
    {
     "name": "stdout",
     "output_type": "stream",
     "text": [
      "[[18 21 30]\n",
      " [21  0 21]]\n"
     ]
    }
   ],
   "source": [
    "arrayAb = arrayA - arrayA4\n",
    "print(arrayAb)"
   ]
  },
  {
   "cell_type": "markdown",
   "id": "6c5b4b8f-4ed8-42a3-a01a-bea0ca17914e",
   "metadata": {},
   "source": [
    "> the mathematical functions work on the whole array and are rather robust"
   ]
  },
  {
   "cell_type": "code",
   "execution_count": 8,
   "id": "e28f1dd4-5f16-4628-8fbc-c5aaf74f4884",
   "metadata": {},
   "outputs": [
    {
     "name": "stdout",
     "output_type": "stream",
     "text": [
      "[[ -6  -7 -10]\n",
      " [ -7   0  -7]]\n",
      "\n",
      "[[ 36  49 100]\n",
      " [ 49   0  49]]\n",
      "\n",
      "[[nan nan nan]\n",
      " [nan  0. nan]]\n"
     ]
    },
    {
     "name": "stderr",
     "output_type": "stream",
     "text": [
      "/var/folders/pq/1h0dzqv16j58hqpqtlb29y280000gn/T/ipykernel_12788/151381962.py:5: RuntimeWarning: invalid value encountered in sqrt\n",
      "  print(np.sqrt(arrayA))\n"
     ]
    }
   ],
   "source": [
    "print(arrayA)\n",
    "print()\n",
    "print(np.power(arrayA,2))\n",
    "print()\n",
    "print(np.sqrt(arrayA))"
   ]
  },
  {
   "cell_type": "markdown",
   "id": "53fdba38-9082-4a56-9389-a1ed12903c5e",
   "metadata": {},
   "source": [
    "# Exercises"
   ]
  },
  {
   "cell_type": "markdown",
   "id": "95a12d62-92f3-4f23-8c7a-c09f853d2583",
   "metadata": {},
   "source": [
    "## Exercise 52 - NumPy arrays\n",
    "Write a simple python program that generates the following arrays:  \n",
    "\n",
    "- An array consisting of 25 zeros\n",
    "- An array consisting of 8 ones\n",
    "- An array consisting of numbers from 0 to 24 in order\n",
    "- An array consisting of 9 entries of your choice\n",
    "- An two-dimensional array TD consisting of 6 rows of arrays with 5 entries each\n",
    "- A transposed version of the two-dimensional array TD\n",
    "\n",
    "Furthermore print out the sum, maximum value, minimum value and shape of all created arrays."
   ]
  },
  {
   "cell_type": "code",
   "execution_count": 9,
   "id": "9b2e9e08-9bd1-45f1-95e0-066c57771515",
   "metadata": {},
   "outputs": [
    {
     "name": "stdout",
     "output_type": "stream",
     "text": [
      "#### array1 ####\n",
      "[0. 0. 0. 0. 0. 0. 0. 0. 0. 0. 0. 0. 0. 0. 0. 0. 0. 0. 0. 0. 0. 0. 0. 0.\n",
      " 0.]\n",
      "sum: 0.0\n",
      "max: 0.0\n",
      "min: 0.0\n",
      "shape: (25,)\n",
      "\n",
      "#### array2 ####\n",
      "[1. 1. 1. 1. 1. 1. 1. 1.]\n",
      "sum: 8.0\n",
      "max: 1.0\n",
      "min: 1.0\n",
      "shape: (8,)\n",
      "\n",
      "#### array3 ####\n",
      "[ 0  1  2  3  4  5  6  7  8  9 10 11 12 13 14 15 16 17 18 19 20 21 22 23\n",
      " 24]\n",
      "sum: 300\n",
      "max: 24\n",
      "min: 0\n",
      "shape: (25,)\n",
      "\n",
      "#### array4 ####\n",
      "[10.    3.   19.9  16.    6.   20.22  4.    3.   19.89]\n",
      "sum: 102.01\n",
      "max: 20.22\n",
      "min: 3.0\n",
      "shape: (9,)\n",
      "\n",
      "#### arrayTD ####\n",
      "[[68 93 18 17 53]\n",
      " [53 93 44  5 76]\n",
      " [79 37 84 91 65]\n",
      " [ 1 49 35  9  9]\n",
      " [56 83 69 62 36]\n",
      " [14 49 17 40 41]]\n",
      "sum: 1446\n",
      "max: 93\n",
      "min: 1\n",
      "shape: (6, 5)\n",
      "\n",
      "#### arrayTD_t ####\n",
      "[[68 53 79  1 56 14]\n",
      " [93 93 37 49 83 49]\n",
      " [18 44 84 35 69 17]\n",
      " [17  5 91  9 62 40]\n",
      " [53 76 65  9 36 41]]\n",
      "sum: 1446\n",
      "max: 93\n",
      "min: 1\n",
      "shape: (5, 6)\n",
      "\n"
     ]
    }
   ],
   "source": [
    "#creating the arrays, note: I use random.randint not random.randn simply for better readbility of the readout\n",
    "array1 = np.zeros(25)\n",
    "array2 = np.ones(8)\n",
    "array3 = np.arange(25)\n",
    "array4 = np.array([10, 3, 19.90, 16, 6, 20.22, 4, 3, 19.89])\n",
    "arrayTD = np.random.randint(1, 100, size=(6,5))\n",
    "arrayTD_t = arrayTD.transpose()\n",
    "\n",
    "# I put all my arrays in a dictionary so I can loop the print command\n",
    "arraydict = {\"array1\":array1,\"array2\":array2,\"array3\":array3,\"array4\":array4,\"arrayTD\":arrayTD,\"arrayTD_t\":arrayTD_t}\n",
    "\n",
    "#loop of the print command. I use dict.items() to easily access both the name (= the key) and the arrays themselves\n",
    "for name,ary in arraydict.items():\n",
    "    print(\"####\",name,\"####\")\n",
    "    print(ary)\n",
    "    print(\"sum:\",ary.sum())\n",
    "    print(\"max:\",ary.max())\n",
    "    print(\"min:\",ary.min())\n",
    "    print(\"shape:\",ary.shape)\n",
    "    print()"
   ]
  },
  {
   "cell_type": "markdown",
   "id": "21ac582e-a243-4601-aaa6-5e9d435cfa47",
   "metadata": {},
   "source": [
    "## Exercise 53 - Mathematics with NumPy\n",
    "Use the arrays from Exercise 52 and run some mathematical functions like np.sin with them. You can just add the calculations to your script from exercise 54. Don’t forget to print out the results."
   ]
  },
  {
   "cell_type": "code",
   "execution_count": 10,
   "id": "fb11a30a-0efe-4791-89c5-d97397723356",
   "metadata": {},
   "outputs": [
    {
     "name": "stdout",
     "output_type": "stream",
     "text": [
      "[      -inf 0.         0.30103    0.47712125 0.60205999 0.69897\n",
      " 0.77815125 0.84509804 0.90308999 0.95424251 1.         1.04139269\n",
      " 1.07918125 1.11394335 1.14612804 1.17609126 1.20411998 1.23044892\n",
      " 1.25527251 1.2787536  1.30103    1.32221929 1.34242268 1.36172784\n",
      " 1.38021124]\n"
     ]
    },
    {
     "name": "stderr",
     "output_type": "stream",
     "text": [
      "/var/folders/pq/1h0dzqv16j58hqpqtlb29y280000gn/T/ipykernel_12788/2386033878.py:1: RuntimeWarning: divide by zero encountered in log10\n",
      "  print(np.log10(array3))\n"
     ]
    }
   ],
   "source": [
    "print(np.log10(array3))"
   ]
  },
  {
   "cell_type": "code",
   "execution_count": 11,
   "id": "5849f31a-5e2e-4799-80ee-ca5a08333485",
   "metadata": {},
   "outputs": [
    {
     "name": "stdout",
     "output_type": "stream",
     "text": [
      "[[3.40427605e+29 2.45124554e+40 6.56599691e+07 2.41549528e+07\n",
      "  1.04137594e+23]\n",
      " [1.04137594e+23 2.45124554e+40 1.28516001e+19 1.48413159e+02\n",
      "  1.01480039e+33]\n",
      " [2.03828107e+34 1.17191424e+16 3.02507732e+36 3.31740010e+39\n",
      "  1.69488924e+28]\n",
      " [2.71828183e+00 1.90734657e+21 1.58601345e+15 8.10308393e+03\n",
      "  8.10308393e+03]\n",
      " [2.09165950e+24 1.11286375e+36 9.25378173e+29 8.43835667e+26\n",
      "  4.31123155e+15]\n",
      " [1.20260428e+06 1.90734657e+21 2.41549528e+07 2.35385267e+17\n",
      "  6.39843494e+17]]\n"
     ]
    }
   ],
   "source": [
    "print(np.exp(arrayTD))"
   ]
  },
  {
   "cell_type": "code",
   "execution_count": 12,
   "id": "af8c05c4-379f-4330-82f7-e0f95b77bcd4",
   "metadata": {},
   "outputs": [
    {
     "name": "stdout",
     "output_type": "stream",
     "text": [
      "[[8.24621125 7.28010989 8.88819442 1.         7.48331477 3.74165739]\n",
      " [9.64365076 9.64365076 6.08276253 7.         9.11043358 7.        ]\n",
      " [4.24264069 6.63324958 9.16515139 5.91607978 8.30662386 4.12310563]\n",
      " [4.12310563 2.23606798 9.53939201 3.         7.87400787 6.32455532]\n",
      " [7.28010989 8.71779789 8.06225775 3.         6.         6.40312424]]\n"
     ]
    }
   ],
   "source": [
    "print(np.sqrt(arrayTD_t))"
   ]
  },
  {
   "cell_type": "code",
   "execution_count": null,
   "id": "7f7c9c2f-4c75-42bf-98c0-07a0d531d44a",
   "metadata": {},
   "outputs": [],
   "source": []
  }
 ],
 "metadata": {
  "kernelspec": {
   "display_name": "Python 3 (ipykernel)",
   "language": "python",
   "name": "python3"
  },
  "language_info": {
   "codemirror_mode": {
    "name": "ipython",
    "version": 3
   },
   "file_extension": ".py",
   "mimetype": "text/x-python",
   "name": "python",
   "nbconvert_exporter": "python",
   "pygments_lexer": "ipython3",
   "version": "3.12.2"
  }
 },
 "nbformat": 4,
 "nbformat_minor": 5
}
