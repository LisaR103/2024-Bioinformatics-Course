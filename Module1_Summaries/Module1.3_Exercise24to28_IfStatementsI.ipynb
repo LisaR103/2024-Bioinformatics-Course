{
 "cells": [
  {
   "cell_type": "markdown",
   "id": "e4df740f-cf28-4f26-8bb6-af54735d4e9e",
   "metadata": {},
   "source": [
    "# Module 1.3 Branching with if\n",
    "\n",
    "## Table of content\n",
    "\n",
    "1. [Table of content](#Table-of-content)\n",
    "2. [Branching with if](#Branching-with-if)\n",
    "    1. [Usage of if else](#Usage-of-if-else)\n",
    "    2. [Nested if Statements](#Nested-if-Statements)\n",
    "    3. [Predicates](#Predicates)\n",
    "       1. [Testing for data type](#Testing-for-data-type)\n",
    "    4. [Examples](#Examples)\n",
    "       1. [Simple if else function](#Simple-if-else-function)\n",
    "       2. [adding elif](#adding-elif)\n",
    "       3. [testing for data types](#testing-for-data-types)\n",
    "       4. [combining several conditions in the predicate using logic](#combining-several-conditions-in-the-predicate-using-logic)\n",
    "       5. [nested if statements](#nested-if-statements)\n",
    "3. [Exercises](#Exercises)\n",
    "    1. [Exercise 24 - Simple Branches](#Exercise-24---Simple-Branches)\n",
    "    2. [Exercise 25 - Names](#Exercise-25---Names)\n",
    "    3. [Exercise 26 - Comparing variables](#Exercise-26---Comparing-variables)\n",
    "    4. [Exercise 27 - Using Logic](#Exercise-27---Using-Logic)\n",
    "    5. [Exercise 28 - Nested ifs](#Exercise-28---Nested-ifs)"
   ]
  },
  {
   "cell_type": "markdown",
   "id": "7a25b47d-3387-49a1-9b85-6eb46bb5e489",
   "metadata": {},
   "source": [
    "# Branching with if"
   ]
  },
  {
   "cell_type": "markdown",
   "id": "eb78dd3c-8c7d-4425-9a47-f37e2e26848a",
   "metadata": {},
   "source": [
    "## Usage of if else"
   ]
  },
  {
   "cell_type": "markdown",
   "id": "869cc655-01ff-4ead-bfe9-b1767b8009dd",
   "metadata": {},
   "source": [
    "Syntax of if statements, where Predicate is a statement that is either `True` or `False` (type: `bool`):\n",
    "\n",
    "    if Predicate:\n",
    "        instruction1\n",
    "        instruction2\n",
    "\n",
    "- The instructions of the `if` statement have to be in an indentation (1 or more spaces, tab stop etc. Common practise is 4 spaces. Thonny and Jupiter convert a tab stop to 4 spaces)\n",
    "- The `if` statement ends and regular code continues as soon as the code is written back at the beginning of the line\n",
    "\n",
    "If you want to test more than one thing you can combine several if statements with `elif` (for a second and third ... test) and `else` (what happens if everything is `False`)\n",
    "\n",
    "    if Predicate1:\n",
    "        instruction1\n",
    "        instruction2\n",
    "\n",
    "    elif Predicate2:\n",
    "        instruction3\n",
    "\n",
    "    else:\n",
    "        instruction4\n",
    "        \n",
    "- It is not strictly necessary to include `else`, but as soon as it is there it needs an instruction. A line ending with `:` and not followed by anthing results in `Error`.  Also, `else` and `elif` strictly require a preceding `if` statement (at the same level of indentation)\n",
    "- When testing more than one statement as soon as the first `True` is reached the function ends, even if later statements might be `True` as well!!\n",
    " "
   ]
  },
  {
   "cell_type": "markdown",
   "id": "3884d2c7-ffd3-4cdb-8f13-d6b581c2b8a3",
   "metadata": {},
   "source": [
    "## Nested if Statements"
   ]
  },
  {
   "cell_type": "markdown",
   "id": "85ae6e62-a28c-42a0-a63a-ca14927d6e88",
   "metadata": {},
   "source": [
    "\n",
    "`If` fuctions can be nested. The inner `if` is only tested if the outer `if` is `True`, otherwise it is skipped as we immediately go to `else`\n",
    "\n",
    "\n",
    "    if Predicate1:\n",
    "        instruction1a\n",
    "        \n",
    "        if Predicate2:\n",
    "            insctruction2a\n",
    "            \n",
    "        else:\n",
    "            instruction2b\n",
    "            \n",
    "    else:\n",
    "        instruction2b\n",
    "\n",
    "Accessing nesting and `elif` follows opposing logic:\n",
    "- in nesting the second `if` is only tested if the first `if` is `True`\n",
    "-  `elif` is only tested if the first `if` is `False`\n",
    "\n",
    "Nesting differs from several conditions added by the logics operators (`and`/`or`) by having *one* set of instructions that are carried out if Pred1 is true and another set of instruction that is only carried out if Pred1 *and* Pred2 are true. When combining Pred1 and Pred2 by `and` as one big Pred1 we only have one set of instructions that is carried out if *both* are true\n"
   ]
  },
  {
   "cell_type": "markdown",
   "id": "122bc019-61c9-4ac6-b3ac-7bb0f02a2b36",
   "metadata": {},
   "source": [
    "## Predicates  "
   ]
  },
  {
   "cell_type": "markdown",
   "id": "4f3b8082-e812-4378-9904-6a4a305ffd58",
   "metadata": {},
   "source": [
    "\n",
    "Predicates can be linked by logical operators\n",
    "\n",
    "- `and` (both statements must be true)\n",
    "- `or` (one statement must be true)\n",
    "- `not` (reverses the logic of the statement it precedes (and only this one statement), only really useful to check in combination with `in`, otherwise try to avoid!!)  \n",
    "\n",
    "more than one logical operator can be used at the same time!\n",
    "\n",
    "- in this case the order goes left to right unless specified by `()`\n",
    "- Predicates can be mathematical operators (`<`,`>`,`==`,`!=`,`<=`,`>=`) or any boolean statement (e.g. earching for elements in a data structure etc.)\n",
    "\n",
    "strings can only be compared to other strings when using mathematical operators, not to numbers! Integers and floats can be compared to each other as well\n",
    "\n",
    "- e.g. `\"8\"` cannot be compared to `8`, but `9.6` can be compared to `10`\n",
    "- when strings are compared this happens letter by letter, as soon as a conclusion is reached it ends. Case sensitivity applies (A<a, A<B, B<a -> first A-Z then a-z)\n",
    "\n",
    "There is no equivalent to `%in%` in R or `IN` in SQL, the roundabout Python way uses `any` and a list:\n",
    "\n",
    "    if any(variable == elem for elem in (var1,var2,var3...)):\n",
    "        instruction\n"
   ]
  },
  {
   "cell_type": "markdown",
   "id": "a8b31d45-2d05-4ce0-9a64-28d9e229b028",
   "metadata": {},
   "source": [
    "### Testing for data type"
   ]
  },
  {
   "cell_type": "markdown",
   "id": "5b01c534-41bb-45f3-8059-0d882f2c30fb",
   "metadata": {},
   "source": [
    "There are two ways of testing for types or data, e.g. when testing for a string. Both result in a boolean object.\n",
    "\n",
    "- Careful that the datatype is exactly as it appears when checking `type(var)`!! e.g. dictionary is `dict`, string is `str`, integer is `int`, float is `float`, list is `list`    \n",
    "\n",
    "Syntax:\n",
    "\n",
    "    type(var) == str\n",
    "\n",
    "or\n",
    "\n",
    "    isinstance(var,str)"
   ]
  },
  {
   "cell_type": "markdown",
   "id": "daa24eef-0b0f-46cb-b160-92e1b238a928",
   "metadata": {},
   "source": [
    "## Examples"
   ]
  },
  {
   "cell_type": "code",
   "execution_count": 1,
   "id": "622fcafc-5a7a-4782-8d43-14566a80bd7b",
   "metadata": {},
   "outputs": [],
   "source": [
    "#define some variables\n",
    "var1 = 5\n",
    "var2 = 10\n",
    "var3 = 20\n",
    "name1 = \"Lisa\"\n",
    "name2 = \"Lara\"\n",
    "name3 = \"Zoé\"\n",
    "num1 = 5\n",
    "num2 = 4.67"
   ]
  },
  {
   "cell_type": "code",
   "execution_count": 2,
   "id": "447232de-c5b1-48e9-bcd3-cde5ab27c091",
   "metadata": {},
   "outputs": [
    {
     "name": "stdout",
     "output_type": "stream",
     "text": [
      "True\n",
      "True\n"
     ]
    }
   ],
   "source": [
    "#exmple of how to test for a datatype\n",
    "print(type(var1) == int)\n",
    "print(isinstance(var1, int))"
   ]
  },
  {
   "cell_type": "markdown",
   "id": "cd85af05-4bf4-4b9e-a497-5e7a8afedc9b",
   "metadata": {},
   "source": [
    "### Simple if else function"
   ]
  },
  {
   "cell_type": "code",
   "execution_count": 3,
   "id": "5cd50424-2afa-4c68-b7f6-dfefc8908852",
   "metadata": {},
   "outputs": [
    {
     "name": "stdout",
     "output_type": "stream",
     "text": [
      "Yes, that's right\n",
      "5 < 10\n",
      "This sentence is no longer part of the if statement\n"
     ]
    }
   ],
   "source": [
    "#write a simple if else statement\n",
    "if var1 < var2:\n",
    "    print(\"Yes, that's right\")\n",
    "    print(f\"{var1} < {var2}\")\n",
    "\n",
    "else:\n",
    "    print(\"No, that's wrong\")\n",
    "    print(f\"{var1} is not < {var2}\")\n",
    "\n",
    "print(\"This sentence is no longer part of the if statement\")"
   ]
  },
  {
   "cell_type": "code",
   "execution_count": 4,
   "id": "3cbadf0c-8933-424c-a5dc-8bdb2780ca10",
   "metadata": {},
   "outputs": [
    {
     "name": "stdout",
     "output_type": "stream",
     "text": [
      "No, that's wrong\n",
      "5 is not > 10\n",
      "This sentence is no longer part of the if statement\n"
     ]
    }
   ],
   "source": [
    "#change the simple if else statement from < to >\n",
    "if var1 > var2:\n",
    "    print(\"Yes, that's right\")\n",
    "    print(f\"{var1} > {var2}\")\n",
    "\n",
    "else:\n",
    "    print(\"No, that's wrong\")\n",
    "    print(f\"{var1} is not > {var2}\")\n",
    "\n",
    "print(\"This sentence is no longer part of the if statement\")"
   ]
  },
  {
   "cell_type": "markdown",
   "id": "6c4139f4-24e0-4bd2-848d-07ce18396721",
   "metadata": {},
   "source": [
    "### adding elif"
   ]
  },
  {
   "cell_type": "code",
   "execution_count": 5,
   "id": "ed2430a1-f4aa-4e17-8356-02467e30d85e",
   "metadata": {},
   "outputs": [
    {
     "name": "stdout",
     "output_type": "stream",
     "text": [
      "This is me\n"
     ]
    }
   ],
   "source": [
    "#create an if else statment with two tests and check the three possible outputs when testing: \n",
    "#name1\n",
    "if name1 == \"Lisa\":\n",
    "    print(\"This is me\")\n",
    "\n",
    "elif name1 == \"Zoé\":\n",
    "    print(\"This is Zoé\")\n",
    "\n",
    "else:\n",
    "    print(\"This is someone else\")"
   ]
  },
  {
   "cell_type": "code",
   "execution_count": 6,
   "id": "75743544-d40f-4843-a5ec-a84c0eb2c3f5",
   "metadata": {},
   "outputs": [
    {
     "name": "stdout",
     "output_type": "stream",
     "text": [
      "This is someone else\n"
     ]
    }
   ],
   "source": [
    "#create an if else statment with two tests and check the three possible outputs when testing: \n",
    "#name2\n",
    "if name2 == \"Lisa\":\n",
    "    print(\"This is me\")\n",
    "\n",
    "elif name2 == \"Zoé\":\n",
    "    print(\"This is Zoé\")\n",
    "\n",
    "else:\n",
    "    print(\"This is someone else\")"
   ]
  },
  {
   "cell_type": "code",
   "execution_count": 7,
   "id": "21932702-715a-4be9-9ee3-2e94139cdacc",
   "metadata": {},
   "outputs": [
    {
     "name": "stdout",
     "output_type": "stream",
     "text": [
      "This is Zoé\n"
     ]
    }
   ],
   "source": [
    "#create an if else statment with two tests and check the three possible outputs when testing: \n",
    "#name3\n",
    "if name3 == \"Lisa\":\n",
    "    print(\"This is me\")\n",
    "\n",
    "elif name3 == \"Zoé\":\n",
    "    print(\"This is Zoé\")\n",
    "\n",
    "else:\n",
    "    print(\"This is someone else\")"
   ]
  },
  {
   "cell_type": "markdown",
   "id": "65251bf3-fe3d-413e-8af3-905458a5043c",
   "metadata": {},
   "source": [
    "### testing for data types"
   ]
  },
  {
   "cell_type": "code",
   "execution_count": 8,
   "id": "4193afd7-0dcd-4c92-a638-eb0f2aa76294",
   "metadata": {},
   "outputs": [
    {
     "name": "stdout",
     "output_type": "stream",
     "text": [
      "Yes, this is an Integer\n"
     ]
    }
   ],
   "source": [
    "#check if num1 is an integer\n",
    "if type(num1) == int:\n",
    "    print(\"Yes, this is an Integer\")\n",
    "\n",
    "else:\n",
    "    print(\"Nope, not an Integer\")"
   ]
  },
  {
   "cell_type": "code",
   "execution_count": 9,
   "id": "984cf002-3dc5-4da8-9c53-a619b25e2846",
   "metadata": {},
   "outputs": [
    {
     "name": "stdout",
     "output_type": "stream",
     "text": [
      "Nope, not an Integer\n"
     ]
    }
   ],
   "source": [
    "#check if num2 is an integer\n",
    "if isinstance(num2,int):\n",
    "    print(\"Yes, this is an Integer\")\n",
    "\n",
    "else:\n",
    "    print(\"Nope, not an Integer\")"
   ]
  },
  {
   "cell_type": "markdown",
   "id": "ac5eccd7-7a16-46e1-bb79-6634f52a670d",
   "metadata": {},
   "source": [
    "### combining several conditions in the predicate using logic"
   ]
  },
  {
   "cell_type": "code",
   "execution_count": 10,
   "id": "5520de4f-f685-4125-984b-43eae19996bf",
   "metadata": {},
   "outputs": [
    {
     "name": "stdout",
     "output_type": "stream",
     "text": [
      "Yes, this is a number (int or flaot)\n"
     ]
    }
   ],
   "source": [
    "#check if num1 is an integer or a float\n",
    "if type(num1) == int or type(num1) == float:\n",
    "    print(\"Yes, this is a number (int or flaot)\")\n",
    "\n",
    "else:\n",
    "    print(\"Nope, not a number (int or float)\")"
   ]
  },
  {
   "cell_type": "code",
   "execution_count": 11,
   "id": "dede487f-0c7d-402e-a037-5030bce9d0a8",
   "metadata": {},
   "outputs": [
    {
     "name": "stdout",
     "output_type": "stream",
     "text": [
      "Nope, not a number (int or float)\n"
     ]
    }
   ],
   "source": [
    "#check if name1 is an integer or a float\n",
    "if isinstance(name1,int) or isinstance(name1,float):\n",
    "    print(\"Yes, this is a number (int or flaot)\")\n",
    "\n",
    "else:\n",
    "    print(\"Nope, not a number (int or float)\")"
   ]
  },
  {
   "cell_type": "code",
   "execution_count": 12,
   "id": "6ad2dc2a-d8a6-45e8-9231-1d2c4f456f5d",
   "metadata": {},
   "outputs": [
    {
     "name": "stdout",
     "output_type": "stream",
     "text": [
      "Yes, this string has at least 4 characters\n"
     ]
    }
   ],
   "source": [
    "#check is name1 is a string with at least 4 letters\n",
    "if type(name1) == str and len(name1) >= 4:\n",
    "    print(\"Yes, this string has at least 4 characters\")\n",
    "\n",
    "else:\n",
    "    print(\"Nope, not a string or less than 4 characters\")"
   ]
  },
  {
   "cell_type": "code",
   "execution_count": 13,
   "id": "d5afcbea-8091-4949-ab37-2680cf4120c3",
   "metadata": {},
   "outputs": [
    {
     "name": "stdout",
     "output_type": "stream",
     "text": [
      "Nope, not a string or less than 4 characters\n"
     ]
    }
   ],
   "source": [
    "#check is name3 is a string with at least 4 letters\n",
    "if type(name3) == str and len(name3) >= 4:\n",
    "    print(\"Yes, this string has at least 4 characters\")\n",
    "\n",
    "else:\n",
    "    print(\"Nope, not a string or less than 4 characters\")"
   ]
  },
  {
   "cell_type": "code",
   "execution_count": 14,
   "id": "58b1f163-2fda-4b21-82c8-9ff5b8419455",
   "metadata": {},
   "outputs": [
    {
     "name": "stdout",
     "output_type": "stream",
     "text": [
      "Lisa is not Zoé\n"
     ]
    }
   ],
   "source": [
    "#reverse the logic with not (try to avoid not)\n",
    "if not name1 == \"Zoé\":\n",
    "    print(f\"{name1} is not Zoé\")\n",
    "\n",
    "else:\n",
    "    print(\"This variable is Zoé\")"
   ]
  },
  {
   "cell_type": "markdown",
   "id": "af2211f1-fcb3-480f-ae3b-854f0bba37fc",
   "metadata": {},
   "source": [
    "when using several logic functions they are checked one by one from left to right (underlined becomes bold): \n",
    "\n",
    "<u>True and True</u> or True and True  \n",
    "<u>**True** or True</u> and True  \n",
    "<u>**True** and True</u>  \n",
    "True   \n",
    "\n",
    "<u>True and False</u> or True and True  \n",
    "<u>**False** or True</u> and True  \n",
    "<u>**True** and True</u>  \n",
    "True  \n",
    "\n",
    "<u>True and True</u> or False and True  \n",
    "<u>**True** or False</u> and True  \n",
    "<u>**True** and True</u>  \n",
    "True \n",
    "\n",
    "<u>True and False</u> or False and True  \n",
    "<u>**False** or False</u> and True  \n",
    "<u>**False** and True</u>  \n",
    "False \n",
    "\n",
    "() help define this behaviour by first checking inside the brackets. \n",
    "\n",
    "`Pred1 or Pred2 and Pred3 and Pred4` is not NECCESSARILY the same as `Pred1 or (Pred2 and Pred3) and Pred4`\n",
    "\n",
    "\n",
    "<u>True or False</u> and False and True    \n",
    "<u>**True** and False</u> and True     \n",
    "<u>**False** and True</u>     \n",
    "False  \n",
    "\n",
    "True or (False and False) and True  \n",
    "True or <u>**False**</u> and True    \n",
    "<u>**True** and True</u>  \n",
    "True  "
   ]
  },
  {
   "cell_type": "markdown",
   "id": "a138bbbf-1b40-4b51-aff4-98aaf4fe357b",
   "metadata": {},
   "source": [
    "### nested if statements"
   ]
  },
  {
   "cell_type": "code",
   "execution_count": 15,
   "id": "8a01d817-7283-4a92-b0d6-7b6582608fa1",
   "metadata": {},
   "outputs": [
    {
     "name": "stdout",
     "output_type": "stream",
     "text": [
      "Yes, this is a string.\n",
      "It has at least 4 characters\n"
     ]
    }
   ],
   "source": [
    "#check if name1 is a string with at least 4 letters\n",
    "if type(name1) == str: \n",
    "    print(\"Yes, this is a string.\")\n",
    "    if len(name1) >= 4:\n",
    "        print(\"It has at least 4 characters\")\n",
    "\n",
    "    else:\n",
    "        print(\"But is has less than 4 characters\")\n",
    "else:\n",
    "    print(\"Nope, not a string.\")"
   ]
  },
  {
   "cell_type": "code",
   "execution_count": 16,
   "id": "54577ef2-6029-4e1e-835e-14eacfdee21e",
   "metadata": {},
   "outputs": [
    {
     "name": "stdout",
     "output_type": "stream",
     "text": [
      "Yes, this is a string.\n",
      "But is has less than 4 characters\n"
     ]
    }
   ],
   "source": [
    "#check if name3 is a string with at least 4 letters\n",
    "if type(name3) == str: \n",
    "    print(\"Yes, this is a string.\")\n",
    "    if len(name3) >= 4:\n",
    "        print(\"It has at least 4 characters\")\n",
    "\n",
    "    else:\n",
    "        print(\"But is has less than 4 characters\")\n",
    "else:\n",
    "    print(\"Nope, not a string.\")"
   ]
  },
  {
   "cell_type": "code",
   "execution_count": 17,
   "id": "61e83987-a3f1-456b-84e5-485f2638ed50",
   "metadata": {},
   "outputs": [
    {
     "name": "stdout",
     "output_type": "stream",
     "text": [
      "Nope, not a string.\n"
     ]
    }
   ],
   "source": [
    "#check if num2 is a string with at least 4 letters\n",
    "if type(num2) == str: \n",
    "    print(\"Yes, this is a string.\")\n",
    "    if len(num2) >= 4:\n",
    "        print(\"It has at least 4 characters\")\n",
    "\n",
    "    else:\n",
    "        print(\"But is has less than 4 characters\")\n",
    "else:\n",
    "    print(\"Nope, not a string.\")"
   ]
  },
  {
   "cell_type": "markdown",
   "id": "84cf815e-7b53-460d-8697-9f93bec225e0",
   "metadata": {},
   "source": [
    "# Exercises"
   ]
  },
  {
   "cell_type": "markdown",
   "id": "61cd2d33-b44c-434e-be87-bd97a1fc93df",
   "metadata": {},
   "source": [
    "## Exercise 24 - Simple Branches"
   ]
  },
  {
   "cell_type": "markdown",
   "id": "1a5e37b7-16f1-44ee-9ba9-c71d33d5d47a",
   "metadata": {},
   "source": [
    "Write a program that contains at least three different if/else statements. Try to compare\n",
    "numbers as well as strings."
   ]
  },
  {
   "cell_type": "code",
   "execution_count": 18,
   "id": "4e29ac5b-c26d-4ca5-8d41-5ee8012435bf",
   "metadata": {},
   "outputs": [],
   "source": [
    "#create some variables\n",
    "name1 = \"Lisa\"\n",
    "name2 = \"Lara\"\n",
    "name3 = \"Zoé\"\n",
    "num1 = 5\n",
    "num2 = 4.67"
   ]
  },
  {
   "cell_type": "code",
   "execution_count": 19,
   "id": "2b5eb79d-038e-410b-bb8d-9f4a2eb2955e",
   "metadata": {},
   "outputs": [
    {
     "name": "stdout",
     "output_type": "stream",
     "text": [
      "This is me\n"
     ]
    }
   ],
   "source": [
    "#test if name1 is Lisa\n",
    "if name1 == \"Lisa\":\n",
    "    print(\"This is me\")\n",
    "\n",
    "else:\n",
    "    print(\"This is not me\")"
   ]
  },
  {
   "cell_type": "code",
   "execution_count": 20,
   "id": "9487e438-2ce7-48a4-9046-7310e04fec3e",
   "metadata": {},
   "outputs": [
    {
     "name": "stdout",
     "output_type": "stream",
     "text": [
      "This is not me\n"
     ]
    }
   ],
   "source": [
    "#test if name2 is Lisa\n",
    "if name2 == \"Lisa\":\n",
    "    print(\"This is me\")\n",
    "\n",
    "else:\n",
    "    print(\"This is not me\")"
   ]
  },
  {
   "cell_type": "code",
   "execution_count": 21,
   "id": "0bb1523c-a659-4e99-bee9-517966cab078",
   "metadata": {},
   "outputs": [
    {
     "name": "stdout",
     "output_type": "stream",
     "text": [
      "This is me\n"
     ]
    }
   ],
   "source": [
    "#test is name1 is Lisa, Zoé or someone else\n",
    "if name1 == \"Lisa\":\n",
    "    print(\"This is me\")\n",
    "\n",
    "elif name1 == \"Zoé\":\n",
    "    print(\"This is Zoé\")\n",
    "\n",
    "else:\n",
    "    print(\"This is someone else\")"
   ]
  },
  {
   "cell_type": "code",
   "execution_count": 22,
   "id": "b923e6d8-e295-4965-be6c-69a1d7dcf72d",
   "metadata": {},
   "outputs": [
    {
     "name": "stdout",
     "output_type": "stream",
     "text": [
      "This is someone else\n"
     ]
    }
   ],
   "source": [
    "#test is name2 is Lisa, Zoé or someone else\n",
    "if name2 == \"Lisa\":\n",
    "    print(\"This is me\")\n",
    "\n",
    "elif name2 == \"Zoé\":\n",
    "    print(\"This is Zoé\")\n",
    "\n",
    "else:\n",
    "    print(\"This is someone else\")"
   ]
  },
  {
   "cell_type": "code",
   "execution_count": 23,
   "id": "ed1c91d8-a32a-462d-8267-f77e0c12523d",
   "metadata": {},
   "outputs": [
    {
     "name": "stdout",
     "output_type": "stream",
     "text": [
      "Wow, that's precise!\n"
     ]
    }
   ],
   "source": [
    "#test if num1 is equal to 5\n",
    "if num1 == 5:\n",
    "    print(\"Wow, that's precise!\")\n",
    "\n",
    "else:\n",
    "    print(\"Nope, not 5! Sorry...\")"
   ]
  },
  {
   "cell_type": "code",
   "execution_count": 24,
   "id": "0942f51f-bf65-436e-83e1-1a741a7251c2",
   "metadata": {},
   "outputs": [
    {
     "name": "stdout",
     "output_type": "stream",
     "text": [
      "Nope, not 5! Sorry...\n"
     ]
    }
   ],
   "source": [
    "#test if num2 is equal to 5\n",
    "if num2 == 5:\n",
    "    print(\"Wow, that's precise!\")\n",
    "\n",
    "else:\n",
    "    print(\"Nope, not 5! Sorry...\")"
   ]
  },
  {
   "cell_type": "markdown",
   "id": "8e5320b8-fa80-418d-a6a6-cc2b05a7406b",
   "metadata": {},
   "source": [
    "## Exercise 25 - Names"
   ]
  },
  {
   "cell_type": "markdown",
   "id": "8cda561e-186e-44ef-9c1c-9e78bebe31d1",
   "metadata": {},
   "source": [
    "Write a program that defines a string variable name. If the strings is your name print \"That is\n",
    "a nice name\", if it’s\"John Cleese\" or \"Michael Palin\", print something to tell how you feel about\n",
    "them ;), otherwise print \"You have a nice name.“ Do all of this using an if, elif, else construct."
   ]
  },
  {
   "cell_type": "code",
   "execution_count": 25,
   "id": "99c020eb-43ae-4507-9c4e-e97e759d20a9",
   "metadata": {},
   "outputs": [],
   "source": [
    "#define the name\n",
    "name4 = \"Lisa\""
   ]
  },
  {
   "cell_type": "code",
   "execution_count": 26,
   "id": "ccb7bb5c-b7ed-4127-9629-34b72e9f4909",
   "metadata": {},
   "outputs": [
    {
     "name": "stdout",
     "output_type": "stream",
     "text": [
      "This is a nice name\n"
     ]
    }
   ],
   "source": [
    "#write the if statements\n",
    "if name4 == \"Lisa\":\n",
    "    print(\"This is a nice name\")\n",
    "\n",
    "elif name4 == \"John Cleese\":\n",
    "    print(\"Who are you dude?\")\n",
    "\n",
    "elif name4 == \"Michael Palin\":\n",
    "    print(\"Any relation to that weird republican lady?\")\n",
    "\n",
    "else:\n",
    "    print(\"You have a nice name\")"
   ]
  },
  {
   "cell_type": "code",
   "execution_count": 27,
   "id": "5b4277a3-3696-41e0-9b1f-397a4a62ef09",
   "metadata": {},
   "outputs": [],
   "source": [
    "#change the name\n",
    "name4 = \"John Cleese\""
   ]
  },
  {
   "cell_type": "code",
   "execution_count": 28,
   "id": "e9617938-5bfa-44a2-8194-e4b2a1c248d1",
   "metadata": {},
   "outputs": [
    {
     "name": "stdout",
     "output_type": "stream",
     "text": [
      "Who are you dude?\n"
     ]
    }
   ],
   "source": [
    "#and try the if statements again\n",
    "if name4 == \"Lisa\":\n",
    "    print(\"This is a nice name\")\n",
    "\n",
    "elif name4 == \"John Cleese\":\n",
    "    print(\"Who are you dude?\")\n",
    "\n",
    "elif name4 == \"Michael Palin\":\n",
    "    print(\"Any relation to that weird republican lady?\")\n",
    "\n",
    "else:\n",
    "    print(\"You have a nice name\")"
   ]
  },
  {
   "cell_type": "code",
   "execution_count": 29,
   "id": "1c68eb5f-d159-4b4a-ae9e-1641370ddc3f",
   "metadata": {},
   "outputs": [],
   "source": [
    "#change the name\n",
    "name4 = \"Michael Palin\""
   ]
  },
  {
   "cell_type": "code",
   "execution_count": 30,
   "id": "d08f051f-3035-48f6-b7cf-cd274f806c46",
   "metadata": {},
   "outputs": [
    {
     "name": "stdout",
     "output_type": "stream",
     "text": [
      "Any relation to that weird republican lady?\n"
     ]
    }
   ],
   "source": [
    "#and try the if statements again\n",
    "if name4 == \"Lisa\":\n",
    "    print(\"This is a nice name\")\n",
    "\n",
    "elif name4 == \"John Cleese\":\n",
    "    print(\"Who are you dude?\")\n",
    "\n",
    "elif name4 == \"Michael Palin\":\n",
    "    print(\"Any relation to that weird republican lady?\")\n",
    "\n",
    "else:\n",
    "    print(\"You have a nice name\")"
   ]
  },
  {
   "cell_type": "code",
   "execution_count": 31,
   "id": "2dcd3307-4f07-49a3-a8bd-9608bbc15d4e",
   "metadata": {},
   "outputs": [],
   "source": [
    "#change the name\n",
    "name4 = \"John Doe\""
   ]
  },
  {
   "cell_type": "code",
   "execution_count": 32,
   "id": "32ba5aa3-e675-4abf-a3a4-23347b9b2db6",
   "metadata": {},
   "outputs": [
    {
     "name": "stdout",
     "output_type": "stream",
     "text": [
      "You have a nice name\n"
     ]
    }
   ],
   "source": [
    "#and try the if statements again\n",
    "if name4 == \"Lisa\":\n",
    "    print(\"This is a nice name\")\n",
    "\n",
    "elif name4 == \"John Cleese\":\n",
    "    print(\"Who are you dude?\")\n",
    "\n",
    "elif name4 == \"Michael Palin\":\n",
    "    print(\"Any relation to that weird republican lady?\")\n",
    "\n",
    "else:\n",
    "    print(\"You have a nice name\")"
   ]
  },
  {
   "cell_type": "markdown",
   "id": "494ad2c7-be11-4b56-96c0-319a0557b0fa",
   "metadata": {},
   "source": [
    "## Exercise 26 - Comparing variables"
   ]
  },
  {
   "cell_type": "markdown",
   "id": "8939b849-f71c-4cef-94d0-3056c0b0006e",
   "metadata": {},
   "source": [
    "Write a program that defines the variables var1, var2, var3, var4, var5 and var6 with the type\n",
    "of your choice. Create six if statements to test the following aspects:\n",
    "1. Is var1 bigger than var4\n",
    "2. Is var2 smaller than var5\n",
    "3. Is var3 equal to var6\n",
    "4. Is var4 bigger than or equal to var 2\n",
    "5. Is var5 smaller than or equal to var3\n",
    "6. Is var6 not equal to var1"
   ]
  },
  {
   "cell_type": "code",
   "execution_count": 33,
   "id": "a0674890-05c3-4c04-896d-2b0d8f509197",
   "metadata": {},
   "outputs": [],
   "source": [
    "#creating my numeric variables\n",
    "var1 = 5\n",
    "var2 = 9.7\n",
    "var3 = 100\n",
    "var4 = 3\n",
    "var5 = 4782\n",
    "var6 = 8.76"
   ]
  },
  {
   "cell_type": "code",
   "execution_count": 34,
   "id": "e5e50dbc-167e-4238-bb6e-48abda0a7f91",
   "metadata": {},
   "outputs": [
    {
     "name": "stdout",
     "output_type": "stream",
     "text": [
      "Yes: 5 > 3\n"
     ]
    }
   ],
   "source": [
    "#Is var1 bigger than var4\n",
    "if var1 > var4:\n",
    "    print(f\"Yes: {var1} > {var4}\")\n",
    "else:\n",
    "    print(f\"No: {var1} is not > {var4}\")"
   ]
  },
  {
   "cell_type": "code",
   "execution_count": 35,
   "id": "045e9461-37d7-4c28-9a68-3edd46dc4343",
   "metadata": {},
   "outputs": [
    {
     "name": "stdout",
     "output_type": "stream",
     "text": [
      "Yes: 9.7 < 4782\n"
     ]
    }
   ],
   "source": [
    "#Is var2 smaller than var5\n",
    "if var2 < var5:\n",
    "    print(f\"Yes: {var2} < {var5}\")\n",
    "else:\n",
    "    print(f\"No: {var2} is not < {var5}\")"
   ]
  },
  {
   "cell_type": "code",
   "execution_count": 36,
   "id": "b6604007-bee0-4a6a-8e0b-4b8b2419f46a",
   "metadata": {},
   "outputs": [
    {
     "name": "stdout",
     "output_type": "stream",
     "text": [
      "No: 100 ≠ 8.76\n"
     ]
    }
   ],
   "source": [
    "#Is var3 equal to var6\n",
    "if var3 == var6:\n",
    "    print(f\"Yes: {var3} = {var6}\")\n",
    "else:\n",
    "    print(f\"No: {var3} ≠ {var6}\")"
   ]
  },
  {
   "cell_type": "code",
   "execution_count": 37,
   "id": "070d4998-87b8-447e-b553-700016a14ce9",
   "metadata": {},
   "outputs": [
    {
     "name": "stdout",
     "output_type": "stream",
     "text": [
      "No: 3 < 9.7\n"
     ]
    }
   ],
   "source": [
    "#Is var4 bigger than or equal to var 2\n",
    "if var4 >= var2:\n",
    "    print(f\"Yes: {var4} >= {var2}\")\n",
    "else:\n",
    "    print(f\"No: {var4} < {var2}\")"
   ]
  },
  {
   "cell_type": "code",
   "execution_count": 38,
   "id": "cb211cd6-3f83-41fa-93c8-d57b34753cfd",
   "metadata": {},
   "outputs": [
    {
     "name": "stdout",
     "output_type": "stream",
     "text": [
      "No: 4782 > 100\n"
     ]
    }
   ],
   "source": [
    "#Is var5 smaller than or equal to var3\n",
    "if var5 <= var3:\n",
    "    print(f\"Yes: {var5} <= {var3}\")\n",
    "else:\n",
    "    print(f\"No: {var5} > {var3}\")"
   ]
  },
  {
   "cell_type": "code",
   "execution_count": 39,
   "id": "7d6729ed-beb2-4fe4-884e-c0c80802614e",
   "metadata": {},
   "outputs": [
    {
     "name": "stdout",
     "output_type": "stream",
     "text": [
      "Yes: 8.76 ≠ 5\n"
     ]
    }
   ],
   "source": [
    "#Is var6 not equal to var1\n",
    "if var6 != var1:\n",
    "    print(f\"Yes: {var6} ≠ {var1}\")\n",
    "else:\n",
    "    print(f\"No: {var6} = {var1}\")"
   ]
  },
  {
   "cell_type": "markdown",
   "id": "1c7e08d2-f112-4399-8898-63c1a9b8408a",
   "metadata": {},
   "source": [
    "> Since I cannot compare numbers with strings I repeat the exercise with strings"
   ]
  },
  {
   "cell_type": "code",
   "execution_count": 40,
   "id": "a7c16c46-6acb-4ef9-b85d-36d6b9db84c0",
   "metadata": {},
   "outputs": [],
   "source": [
    "#creating my string variables\n",
    "var1 = \"Today\"\n",
    "var2 = \"has\"\n",
    "var3 = \"been\"\n",
    "var4 = \"A\"\n",
    "var5 = \"special\"\n",
    "var6 = \"Today\""
   ]
  },
  {
   "cell_type": "code",
   "execution_count": 41,
   "id": "b3647912-06ae-480a-a04f-281a12f5694f",
   "metadata": {},
   "outputs": [
    {
     "name": "stdout",
     "output_type": "stream",
     "text": [
      "Yes: Today > A\n"
     ]
    }
   ],
   "source": [
    "#1. Is var1 bigger than var4\n",
    "if var1 > var4:\n",
    "    print(f\"Yes: {var1} > {var4}\")\n",
    "else:\n",
    "    print(f\"No: {var1} is not > {var4}\")"
   ]
  },
  {
   "cell_type": "code",
   "execution_count": 42,
   "id": "2b065623-ec2a-4473-8e7d-ef6ff0eaf70c",
   "metadata": {},
   "outputs": [
    {
     "name": "stdout",
     "output_type": "stream",
     "text": [
      "Yes: has < special\n"
     ]
    }
   ],
   "source": [
    "#Is var2 smaller than var5\n",
    "if var2 < var5:\n",
    "    print(f\"Yes: {var2} < {var5}\")\n",
    "else:\n",
    "    print(f\"No: {var2} is not < {var5}\")"
   ]
  },
  {
   "cell_type": "code",
   "execution_count": 43,
   "id": "9e7b2dd5-a1ca-4ad8-95ce-487a5361ee77",
   "metadata": {},
   "outputs": [
    {
     "name": "stdout",
     "output_type": "stream",
     "text": [
      "No: been ≠ Today\n"
     ]
    }
   ],
   "source": [
    "#Is var3 equal to var6\n",
    "if var3 == var6:\n",
    "    print(f\"Yes: {var3} = {var6}\")\n",
    "else:\n",
    "    print(f\"No: {var3} ≠ {var6}\")"
   ]
  },
  {
   "cell_type": "code",
   "execution_count": 44,
   "id": "c7f38b21-e0b6-44e5-9ec4-113489e860b6",
   "metadata": {},
   "outputs": [
    {
     "name": "stdout",
     "output_type": "stream",
     "text": [
      "No: A < has\n"
     ]
    }
   ],
   "source": [
    "#Is var4 bigger than or equal to var 2\n",
    "if var4 >= var2:\n",
    "    print(f\"Yes: {var4} >= {var2}\")\n",
    "else:\n",
    "    print(f\"No: {var4} < {var2}\")"
   ]
  },
  {
   "cell_type": "code",
   "execution_count": 45,
   "id": "ca6bb522-98f2-4e1b-8182-925aa7531e08",
   "metadata": {},
   "outputs": [
    {
     "name": "stdout",
     "output_type": "stream",
     "text": [
      "No: special > been\n"
     ]
    }
   ],
   "source": [
    "#Is var5 smaller than or equal to var3\n",
    "if var5 <= var3:\n",
    "    print(f\"Yes: {var5} <= {var3}\")\n",
    "else:\n",
    "    print(f\"No: {var5} > {var3}\")"
   ]
  },
  {
   "cell_type": "code",
   "execution_count": 46,
   "id": "02815132-0f7c-4a78-a017-95dc573e88c0",
   "metadata": {},
   "outputs": [
    {
     "name": "stdout",
     "output_type": "stream",
     "text": [
      "No: Today = Today\n"
     ]
    }
   ],
   "source": [
    "#Is var6 not equal to var1\n",
    "if var6 != var1:\n",
    "    print(f\"Yes: {var6} ≠ {var1}\")\n",
    "else:\n",
    "    print(f\"No: {var6} = {var1}\")"
   ]
  },
  {
   "cell_type": "markdown",
   "id": "27ca39e2-fd3c-40d4-8f75-5708008531f2",
   "metadata": {},
   "source": [
    "## Exercise 27 - Using Logic"
   ]
  },
  {
   "cell_type": "markdown",
   "id": "d4da439a-cf4a-449b-babf-f4a4d843657b",
   "metadata": {},
   "source": [
    "Write a program that defines two numerical variables called number1 and number2. Create if\n",
    "statements to test the following:\n",
    "\n",
    "1. Are both numbers greater than 0\n",
    "2. Are both numbers smaller than 0\n",
    "3. Is at least one number greater than 0\n",
    "4. Is at least one number smaller than 0\n",
    "5. Is one number greater than 0 and the other one smaller than 0\n",
    "6. Are both numbers in the range of -10 to 10"
   ]
  },
  {
   "cell_type": "code",
   "execution_count": 47,
   "id": "e677b750-2ff3-4d13-85a6-0b5d027c4412",
   "metadata": {},
   "outputs": [],
   "source": [
    "#create variable\n",
    "number1 = -98\n",
    "number2 = 25"
   ]
  },
  {
   "cell_type": "code",
   "execution_count": 48,
   "id": "ea238c17-4ab2-4b84-b0b3-7f478132b916",
   "metadata": {},
   "outputs": [
    {
     "name": "stdout",
     "output_type": "stream",
     "text": [
      "No! -98 and 25 are not both > 0\n"
     ]
    }
   ],
   "source": [
    "#Are both numbers greater than 0\n",
    "if number1 > 0 and number2 > 0:\n",
    "    print(f\"Yes! {number1} and {number2} are > 0\")\n",
    "\n",
    "else:\n",
    "    print(f\"No! {number1} and {number2} are not both > 0\")"
   ]
  },
  {
   "cell_type": "code",
   "execution_count": 49,
   "id": "0c32eed9-6bc2-4421-b5b6-389bf3ef1db5",
   "metadata": {},
   "outputs": [
    {
     "name": "stdout",
     "output_type": "stream",
     "text": [
      "No! -98 and 25 are not both < 0\n"
     ]
    }
   ],
   "source": [
    "#Are both numbers smaller than 0\n",
    "if number1 < 0 and number2 < 0:\n",
    "    print(f\"Yes! {number1} and {number2} are < 0\")\n",
    "\n",
    "else:\n",
    "    print(f\"No! {number1} and {number2} are not both < 0\")"
   ]
  },
  {
   "cell_type": "code",
   "execution_count": 50,
   "id": "c2b6c896-aa28-4744-939c-94485fa126b9",
   "metadata": {},
   "outputs": [
    {
     "name": "stdout",
     "output_type": "stream",
     "text": [
      "Yes! -98 or 25 are > 0\n"
     ]
    }
   ],
   "source": [
    "#Is at least one number greater than 0\n",
    "if number1 > 0 or number2 > 0:\n",
    "    print(f\"Yes! {number1} or {number2} are > 0\")\n",
    "\n",
    "else:\n",
    "    print(f\"No! {number1} and {number2} are not > 0\")"
   ]
  },
  {
   "cell_type": "code",
   "execution_count": 51,
   "id": "6c8a39a1-4d65-473e-945c-929409836258",
   "metadata": {},
   "outputs": [
    {
     "name": "stdout",
     "output_type": "stream",
     "text": [
      "Yes! -98 or 25 are < 0\n"
     ]
    }
   ],
   "source": [
    "#Is at least one number smaller than 0\n",
    "if number1 < 0 or number2 < 0:\n",
    "    print(f\"Yes! {number1} or {number2} are < 0\")\n",
    "\n",
    "else:\n",
    "    print(f\"No! {number1} and {number2} are not < 0\")"
   ]
  },
  {
   "cell_type": "code",
   "execution_count": 52,
   "id": "8aaf1dcf-f29b-4145-b03e-9a1c085744be",
   "metadata": {},
   "outputs": [
    {
     "name": "stdout",
     "output_type": "stream",
     "text": [
      "Yes! -98 is < 0 and 25 is > 0\n"
     ]
    }
   ],
   "source": [
    "#Is one number greater than 0 and the other one smaller than 0\n",
    "#OptionA: using elif\n",
    "if number1 < 0 and number2 > 0:\n",
    "    print(f\"Yes! {number1} is < 0 and {number2} is > 0\")\n",
    "\n",
    "elif number1 > 0 and number2 < 0:\n",
    "        print(f\"Yes! {number1} is > 0 and {number2} is < 0\")\n",
    "\n",
    "else:\n",
    "    print(f\"No! {number1} and {number2} are not both > 0 or both < 0\")"
   ]
  },
  {
   "cell_type": "code",
   "execution_count": 53,
   "id": "fc9a7222-746d-4309-a8a4-546859f72a10",
   "metadata": {},
   "outputs": [
    {
     "name": "stdout",
     "output_type": "stream",
     "text": [
      "Yes! Of -98 and 25 one is > 0 and one is < 0\n"
     ]
    }
   ],
   "source": [
    "#Is one number greater than 0 and the other one smaller than 0\n",
    "#OptionB: using nested logic\n",
    "if (number1 < 0 and number2 > 0) or (number1 > 0 and number2 < 0):\n",
    "    print(f\"Yes! Of {number1} and {number2} one is > 0 and one is < 0\")\n",
    "\n",
    "else:\n",
    "    print(f\"No! {number1} and {number2} are not both > 0 or both < 0\")"
   ]
  },
  {
   "cell_type": "code",
   "execution_count": 54,
   "id": "4c2f6a7a-c4fa-4b81-979d-5868656d2b83",
   "metadata": {},
   "outputs": [
    {
     "name": "stdout",
     "output_type": "stream",
     "text": [
      "No! -98 or 25 are not both between -10 and 10\n"
     ]
    }
   ],
   "source": [
    "#Are both numbers in the range of -10 to 10\n",
    "if -10 <= number1 <= 10 and -10 <= number2 <= 10:\n",
    "    print(f\"Yes! {number1} and {number2} are both between -10 and 10\")\n",
    "\n",
    "else:\n",
    "    print(f\"No! {number1} or {number2} are not both between -10 and 10\")"
   ]
  },
  {
   "cell_type": "markdown",
   "id": "281b5077-c260-4b9c-9d6d-0b9eede571b7",
   "metadata": {},
   "source": [
    "## Exercise 28 - Nested ifs\n"
   ]
  },
  {
   "cell_type": "markdown",
   "id": "1af7524c-5520-4f54-be1c-fcbfc9fb8d03",
   "metadata": {},
   "source": [
    "Write a program that defines two numerical variables called number1 and number2. Create\n",
    "nested if statements to test the following:\n",
    "\n",
    "1. Are both numbers greater than 0\n",
    "2. Are both numbers smaller than 0\n",
    "3. Is number1 equal to 0 and number2 not equal to 0\n",
    "4. Is number1 bigger than 0 and number2 smaller than 0\n",
    "5. Are both numbers in the range of -50 to 50\n",
    "\n",
    "Please include a print out after each if statement."
   ]
  },
  {
   "cell_type": "code",
   "execution_count": 55,
   "id": "0d1bd18d-d4d9-414f-a9f7-003cc0602c9c",
   "metadata": {},
   "outputs": [],
   "source": [
    "#create variable\n",
    "number1 = 10\n",
    "number2 = 25"
   ]
  },
  {
   "cell_type": "code",
   "execution_count": 56,
   "id": "1ea27a79-c10c-44a7-8f17-ed6dbe094aff",
   "metadata": {},
   "outputs": [
    {
     "name": "stdout",
     "output_type": "stream",
     "text": [
      "Yes! 10 > 0\n",
      "Lucky us! 25 is > 0 is true, too!\n"
     ]
    }
   ],
   "source": [
    "#Are both numbers greater than 0\n",
    "if number1 > 0:\n",
    "    print(f\"Yes! {number1} > 0\")\n",
    "    if number2 > 0:\n",
    "        print(f\"Lucky us! {number2} is > 0 is true, too!\")\n",
    "    else:\n",
    "        print(f\"Nope, sorry! {number2} is not > 0\")\n",
    "else:\n",
    "    print(f\"Nope, sorry! {number1} is not > 0\")"
   ]
  },
  {
   "cell_type": "code",
   "execution_count": 57,
   "id": "c731ef01-6a6a-4581-930d-411904127404",
   "metadata": {},
   "outputs": [
    {
     "name": "stdout",
     "output_type": "stream",
     "text": [
      "Nope, sorry! 10 is not < 0\n"
     ]
    }
   ],
   "source": [
    "#Are both numbers smaller than 0\n",
    "if number1 < 0:\n",
    "    print(f\"Yes! {number1} < 0\")\n",
    "    if number2 < 0:\n",
    "        print(f\"Lucky us! {number2} is < 0 is true, too!\")\n",
    "    else:\n",
    "        print(f\"Nope, sorry! {number2} is not < 0\")\n",
    "else:\n",
    "    print(f\"Nope, sorry! {number1} is not < 0\")"
   ]
  },
  {
   "cell_type": "code",
   "execution_count": 58,
   "id": "ac5703c6-a2f3-4f5f-84c9-e42aa74f3cbd",
   "metadata": {},
   "outputs": [
    {
     "name": "stdout",
     "output_type": "stream",
     "text": [
      "Nope, sorry! 10 is not = 0\n"
     ]
    }
   ],
   "source": [
    "#Is number1 equal to 0 and number2 not equal to 0\n",
    "if number1 == 0:\n",
    "    print(f\"Yes! {number1} = 0\")\n",
    "    if number2 != 0:\n",
    "        print(f\"Lucky us! {number2} ≠ 0 is true, too!\")\n",
    "    else:\n",
    "        print(f\"Nope, sorry! {number2} is not ≠ 0\")\n",
    "else:\n",
    "    print(f\"Nope, sorry! {number1} is not = 0\")"
   ]
  },
  {
   "cell_type": "code",
   "execution_count": 59,
   "id": "e4d3a047-6942-452a-b187-f2e3eabffced",
   "metadata": {},
   "outputs": [
    {
     "name": "stdout",
     "output_type": "stream",
     "text": [
      "Yes! 10 > 0\n",
      "Nope, sorry! 25 is not < 0\n"
     ]
    }
   ],
   "source": [
    "#Is number1 bigger than 0 and number2 smaller than 0\n",
    "if number1 > 0:\n",
    "    print(f\"Yes! {number1} > 0\")\n",
    "    if number2 < 0:\n",
    "        print(f\"Lucky us! {number2} is < 0 is true, too!\")\n",
    "    else:\n",
    "        print(f\"Nope, sorry! {number2} is not < 0\")\n",
    "else:\n",
    "    print(f\"Nope, sorry! {number1} is not > 0\")"
   ]
  },
  {
   "cell_type": "code",
   "execution_count": 60,
   "id": "2edfb767-1653-4ce8-8028-d2ff86690b8a",
   "metadata": {},
   "outputs": [
    {
     "name": "stdout",
     "output_type": "stream",
     "text": [
      "Yes! 10 is between -50 and 50\n",
      "Lucky us! 25 is between -50 and 50, too!\n"
     ]
    }
   ],
   "source": [
    "#Are both numbers in the range of -50 to 50\n",
    "if -50 <= number1 <= 50:\n",
    "    print(f\"Yes! {number1} is between -50 and 50\")\n",
    "    if -50 <= number2 <= 50:\n",
    "        print(f\"Lucky us! {number2} is between -50 and 50, too!\")\n",
    "    else:\n",
    "        print(f\"Nope, sorry! {number2} is not between -50 and 50\")\n",
    "else:\n",
    "    print(f\"Nope, sorry! {number1} is not between -50 and 50\")"
   ]
  },
  {
   "cell_type": "code",
   "execution_count": null,
   "id": "9812c837-eef3-4014-921e-97249226a3d6",
   "metadata": {},
   "outputs": [],
   "source": []
  }
 ],
 "metadata": {
  "kernelspec": {
   "display_name": "Python 3 (ipykernel)",
   "language": "python",
   "name": "python3"
  },
  "language_info": {
   "codemirror_mode": {
    "name": "ipython",
    "version": 3
   },
   "file_extension": ".py",
   "mimetype": "text/x-python",
   "name": "python",
   "nbconvert_exporter": "python",
   "pygments_lexer": "ipython3",
   "version": "3.12.2"
  }
 },
 "nbformat": 4,
 "nbformat_minor": 5
}
