{
 "cells": [
  {
   "cell_type": "markdown",
   "id": "7463722b-6627-4f40-9a82-b09e4469ac94",
   "metadata": {},
   "source": [
    "# Module 1.3 - Functions\n",
    "\n",
    "## Tabel of contents\n",
    "\n",
    "[Functions](#Functions)\n",
    "1. [The signature of a function](#The-signature-of-a-function)\n",
    "2. [Parameters](#Parameters)\n",
    "   1. [Positional Parameters](#Positional-Parameters)\n",
    "   2. [Default Parameters](#Default-Parameters)\n",
    "   3. [Getting input from the User](#Getting-input-from-the-User)\n",
    "3. [The inside of the function](#The-inside-of-the-function)\n",
    "   1. [Using a global variable](#Using-a-global-variable)\n",
    "4. [Executing a function](#Executing-a-function)\n",
    "5. [Output](#Output)\n",
    "6. [some more notes](#some-more-notes)\n",
    "7. [the keywords break, continue and pass](#the-keywords-break,-continue-and-pass)\n",
    "8. [Examples](#Examples)\n",
    "\n",
    "[Exercises](#Exercises)\n",
    "1. [Exercise 41 - Function I](#Exercise-41---Function-I)\n",
    "2. [Exercise 42 - Functions with simple loops](#Exercise-42---Functions-with-simple-loops)\n",
    "3. [Exercise 43 - Functions with nested loops](#Exercise-43---Functions-with-nested-loops)\n",
    "4. [Exercise 44 - Multiple returns](#Exercise-44---Multiple-returns)\n",
    "5. [Exercise 45 - Multiple returns from lists](#Exercise-45---Multiple-returns-from-lists)\n",
    "6. [Exercise 46 - Functions with defaults](#Exercise-46---Functions-with-defaults)\n",
    "7. [Exercise 47 - Keyword arguments](#Exercise-47---Keyword-arguments)\n",
    "8. [Exercise 48 - Keywords in Python](#Exercise-48---Keywords-in-Python)"
   ]
  },
  {
   "cell_type": "markdown",
   "id": "f103a16b-e284-4428-ada8-e66dd62265e7",
   "metadata": {},
   "source": [
    "# Functions"
   ]
  },
  {
   "cell_type": "markdown",
   "id": "47f6a638-9940-4d08-9708-da1b66f1dd42",
   "metadata": {},
   "source": [
    "General syntax:\n",
    "\n",
    "    def sum_up(num1,num2):\n",
    "        function\n",
    "        return output"
   ]
  },
  {
   "cell_type": "markdown",
   "id": "fb84adc3-b405-43f1-9422-be68ab1f442e",
   "metadata": {},
   "source": [
    "## The signature of a function"
   ]
  },
  {
   "cell_type": "markdown",
   "id": "8697efda-246c-48e8-a5cd-c3e65679121a",
   "metadata": {},
   "source": [
    "The first line is the signature:\n",
    "\n",
    "    def sum_up(num1,num2):\n",
    "\n",
    "- `def`: is the keyword that a new function will be defined now   \n",
    "- `sum_up`: is the name of my new function. Use descriptive names that are not built-in functions!! separate words with `_`\n",
    "- the function is always followed by `()` even if no parameters are necessary \n",
    "- `num1` and `num2`: are the parameters needed for my function. \n",
    "- It can be helpful to add a comment above the signature to explain what the parameters are / have to be/ can't be\n",
    "- the signature ends with a `:`\n"
   ]
  },
  {
   "cell_type": "markdown",
   "id": "9e2317da-290e-41f7-a660-8d2f7fd9e944",
   "metadata": {},
   "source": [
    "## Parameters"
   ]
  },
  {
   "cell_type": "markdown",
   "id": "1f4fc82f-5a8e-41e3-b380-f81fb3b176dd",
   "metadata": {},
   "source": [
    "\n",
    "\n",
    "- The parameters should have descriptive names, so that it is easily understandable which data type has to be put in. A function should only depend on these specified parameters to work correctly!!\n",
    "- If a parameter (our later an output) have the same name as a global variable already defined in the script, this global variable is hidden for the duration of the execution of the function. A global variable that is not present in the function can be calles´d inside the functino (but this will result in problems if you want to use the function elsewhere, so don't do that!)\n",
    "- using `*args` we can tell the function that a variable number of this particular argument is being given. `args` is a helper variable, it can be named anythig (descriptive is best...) They can then be used e.g. in a loop inside the function. `*args` is turned into a `tuple`\n",
    "- parameters can also be lists or other data structures"
   ]
  },
  {
   "cell_type": "markdown",
   "id": "a9f71ff8-e054-45de-a42e-053033441588",
   "metadata": {},
   "source": [
    "### Positional Parameters"
   ]
  },
  {
   "cell_type": "markdown",
   "id": "ec41151f-395d-4daa-9c14-4ae64d7ad99d",
   "metadata": {},
   "source": [
    "\n",
    "- positional parameters HAVE to be handed over to the function for it to work properly\n",
    "- they are always defined before the default parameters"
   ]
  },
  {
   "cell_type": "markdown",
   "id": "e1dc8d81-0304-48fb-b76e-1ee1c51bdf7a",
   "metadata": {},
   "source": [
    "### Default Parameters"
   ]
  },
  {
   "cell_type": "markdown",
   "id": "3072eb5c-2c09-4fa4-943f-c8037c1845e9",
   "metadata": {},
   "source": [
    "\n",
    "\n",
    "Parameters can have a default value assignes. This makes them optional parameters (e.g. start in enumerate)\n",
    "\n",
    "Syntax:\n",
    "\n",
    "    def sum_up(num1,num2=10):\n",
    "        function\n",
    "        return result\n",
    "\n",
    "Here num2 has the value 10 assigned default, unless I tell it otherwise.     \n",
    "I could therefore use the function with only one argument (num1)"
   ]
  },
  {
   "cell_type": "markdown",
   "id": "f11f7963-9649-4e40-9532-f64a63430d0d",
   "metadata": {},
   "source": [
    "### Getting input from the User"
   ]
  },
  {
   "cell_type": "markdown",
   "id": "9b0a409d-0eb1-47f6-b93b-0a0b6126fb3a",
   "metadata": {},
   "source": [
    "A variable can also be defined by the user using `input`\n",
    "\n",
    "Syntax\n",
    "\n",
    "    input(\"Description of input\")\n",
    "\n",
    "The output is a string, so a number has to be converted\n",
    "\n",
    "Syntax\n",
    "\n",
    "    float(input(\"Write a number\"))"
   ]
  },
  {
   "cell_type": "code",
   "execution_count": 3,
   "id": "566c2e84-897c-4ae7-b40c-25b3c8d4ad60",
   "metadata": {},
   "outputs": [
    {
     "name": "stdin",
     "output_type": "stream",
     "text": [
      "Write your first name Lisa \n",
      "Write your last name:  Rösch\n"
     ]
    },
    {
     "name": "stdout",
     "output_type": "stream",
     "text": [
      "Rösch\n"
     ]
    }
   ],
   "source": [
    "input(\"Write your first name\")\n",
    "\n",
    "name1 = input(\"Write your last name: \")\n",
    "\n",
    "print(name1)\n",
    "\n"
   ]
  },
  {
   "cell_type": "code",
   "execution_count": 7,
   "id": "4f4cb1b3-a7b2-41d4-8580-577fe0b8aba1",
   "metadata": {},
   "outputs": [
    {
     "name": "stdin",
     "output_type": "stream",
     "text": [
      "Write a number 1\n"
     ]
    },
    {
     "name": "stdout",
     "output_type": "stream",
     "text": [
      "<class 'str'>\n"
     ]
    },
    {
     "name": "stdin",
     "output_type": "stream",
     "text": [
      "Write a number 2\n"
     ]
    },
    {
     "name": "stdout",
     "output_type": "stream",
     "text": [
      "<class 'float'>\n"
     ]
    }
   ],
   "source": [
    "num1 = input(\"Write a number\")\n",
    "print(type(num1))\n",
    "\n",
    "num2 = float(input(\"Write a number\"))\n",
    "print(type(num2))"
   ]
  },
  {
   "cell_type": "markdown",
   "id": "07dd2e1b-0352-486b-905a-884dd054cc3f",
   "metadata": {},
   "source": [
    "## The inside of the function"
   ]
  },
  {
   "cell_type": "markdown",
   "id": "9358d910-ed36-4c7d-a5d6-eeaf15ead0e2",
   "metadata": {},
   "source": [
    "\n",
    "\n",
    "- We can put anything inside the functions, even other functions!\n",
    "- at least one line if code is needed (as always after a`:`)\n",
    "- the inside is written inside an indentation\n",
    "- The inside is seperate from the rest of my script: I can't access what is defined inside my function (e.g. variables) from the rest of my script\n",
    "- as soon as my functions stops running Python deletes the memory space alloted to this function!!\n",
    "- to handback the outputs to our scipt we use `return` (see below)\n",
    "- variables inside the function are *local* as opposed to the *global* variables in our script\n",
    "- if a local variable already exists globally, the global variable is hidden for the duration of the function\n",
    "\n",
    "The function ends as soon as the indentation ends or the command `return` appears. The only things that is allowed after `return` are our outputs."
   ]
  },
  {
   "cell_type": "markdown",
   "id": "2e593ca3-d8c3-40aa-af5a-6d353371e129",
   "metadata": {},
   "source": [
    "### Using a global variable"
   ]
  },
  {
   "cell_type": "markdown",
   "id": "d783523a-0fa8-41e4-b00a-e54ff807cfe6",
   "metadata": {},
   "source": [
    "with the command `global` it is possible to access and change a global variable in the execution of my function\n",
    "\n",
    "    def fun1():\n",
    "        global var1\n",
    "        var1 = \"new value\"\n",
    "\n",
    "If I now change var 1 it is changed globally without the need of a return statement!!!\n",
    "`global` only needs to be called once to always refer to the global variable during the functino"
   ]
  },
  {
   "cell_type": "markdown",
   "id": "c2a1e06f-10db-4eb3-802c-7b6d93101ad2",
   "metadata": {},
   "source": [
    "## Executing a function\n",
    "\n",
    "We have to define the function before we can use it. Best practise: Have all of the necessary functions at the beginning of the script.   \n",
    "\n",
    "Executing a function is called calling a function.\n",
    "\n",
    "    sum_up(5,6)\n",
    "\n",
    "\n",
    "When the function is called the arguments given have to be in the exact order as defined! Above, 5 is replacing num1 and 6 is replacing num2\n",
    "\n",
    "Alternatively using keyword arguments, we can state which parameter we are currently putting in and the order doesn't matter anymore\n",
    "\n",
    "    sum_up(num2 = 5, num1 = 6)"
   ]
  },
  {
   "cell_type": "markdown",
   "id": "1d2815c5-a4dc-436f-bf83-5663c112f4ab",
   "metadata": {},
   "source": [
    "## Output\n",
    "\n",
    "We cannot normally get to anything that happens inside the function   \n",
    "To get our results we use the `return` statement\n",
    "- this hands back a **value** not a variable! If we want to continue working with the result we need to assign it to a new variable ourselves\n",
    "- the outputs have to be in the same line as `return`\n",
    "- if there is no output, Python returns `None`\n",
    "- Several values can be returned by being comma separated\n",
    "\n",
    "        return Output1, Outpu2, Output3\n",
    "  the order will then *always* be the same: 1, 2, 3. Also when creating variables etc. it is always in this order\n",
    "- to assign multiple outputs to variables to have access in the global namespace\n",
    "  - If I assign them to a single variable it is returned as a `tuple`\n",
    "\n",
    "        OutAll = function(ParameterA, ParameterB)\n",
    "    --> returns (Out1, Out2, Out3) in one tuple#\n",
    "  - I can assign several outputs by defining a variable for each output.   \n",
    "  For a function with 3 outputs (last line: `return output1, output2, output3`) I can assign three variables:   \n",
    "\n",
    "        Out1, Out2, Out3 = function(ParameterA, ParameterB) "
   ]
  },
  {
   "cell_type": "markdown",
   "id": "c82eacee-5f65-4ed2-8963-6b6beec91dcc",
   "metadata": {},
   "source": [
    "## some more notes\n",
    "\n",
    "these two magic functions help to look at how many arguments I have and what the variable ware calles\n",
    "\n",
    "    sum_up.__code__.co_argcount\n",
    "    sum_up.__code__.co_varnames"
   ]
  },
  {
   "cell_type": "markdown",
   "id": "74234db3-4f1e-420f-9df9-ee00d5503312",
   "metadata": {},
   "source": [
    "## the keywords break, continue and pass"
   ]
  },
  {
   "cell_type": "markdown",
   "id": "443591e8-aa88-4f4b-89c0-ec9c4e11dc56",
   "metadata": {},
   "source": [
    "The following are three more important keywords for functions. Try to use them only if you absolutley have to.    \n",
    "`break` and `continue` are only for `for`/`while` loops!!\n",
    "\n",
    "`break`   \n",
    "- stops the innermost loop\n",
    "- can only be used inside loops\n",
    "- e.g. when searching for something, so you can stop looking once it's found\n",
    "\n",
    "`continue`\n",
    "- skips all parts of a loop coming after it\n",
    "- can only be used inside loops\n",
    "- use only when you're sure you don't need the calculations coming after it\n",
    "- e.g. when you are filtering your data\n",
    "\n",
    "`pass`\n",
    "- placeholder for future code\n",
    "- empty if/for/while/functions are not allowed in python. With pass you can create the logical structure of your code and fill it in bit by bit. This allows to test the individual parts during writing\n",
    "- use it only if you *know* what you want to put there! Write it down in a comment so you know what your plan was!!"
   ]
  },
  {
   "cell_type": "markdown",
   "id": "6cfd667e-ef26-4f1f-8612-dd88caad0475",
   "metadata": {},
   "source": [
    "## Examples"
   ]
  },
  {
   "cell_type": "code",
   "execution_count": 1,
   "id": "ebbb1703-ce3b-46bd-be0a-7c832cd5a3f9",
   "metadata": {},
   "outputs": [],
   "source": [
    "#defining a simple function\n",
    "def sum_up(num1,num2):\n",
    "    result = num1 + num2\n",
    "    return result"
   ]
  },
  {
   "cell_type": "code",
   "execution_count": 2,
   "id": "b9bb9ee0-692d-41cd-b47a-0a307b02322d",
   "metadata": {},
   "outputs": [
    {
     "name": "stdout",
     "output_type": "stream",
     "text": [
      "7\n"
     ]
    }
   ],
   "source": [
    "#testing the function and saving the result in the variable test\n",
    "test = sum_up(5,2)\n",
    "print(test)"
   ]
  },
  {
   "cell_type": "code",
   "execution_count": 3,
   "id": "92aaa54d-7e84-434a-ba89-b33d517461b6",
   "metadata": {},
   "outputs": [
    {
     "name": "stdout",
     "output_type": "stream",
     "text": [
      "sum_up\t test\t \n"
     ]
    }
   ],
   "source": [
    "#note that I now have two variables, my function and test. I do not have a variable called num1, num2 or result\n",
    "%who"
   ]
  },
  {
   "cell_type": "code",
   "execution_count": 4,
   "id": "ed3f27cb-02ae-415a-9bf0-2afd2de4b464",
   "metadata": {},
   "outputs": [],
   "source": [
    "# A simple function with two outputs\n",
    "def sum_up2(num1,num2):\n",
    "    result = num1 + num2\n",
    "    result2 = result + num2\n",
    "    return result, result2"
   ]
  },
  {
   "cell_type": "code",
   "execution_count": 5,
   "id": "6a5aa239-f2fa-47f1-a949-f4aa127fd1b3",
   "metadata": {},
   "outputs": [
    {
     "name": "stdout",
     "output_type": "stream",
     "text": [
      "(7, 9)\n",
      "<class 'tuple'>\n"
     ]
    }
   ],
   "source": [
    "#One way to access my two results: save them as a tuple in one variable\n",
    "test2 = sum_up2(5,2)\n",
    "print(test2)\n",
    "print(type(test2))"
   ]
  },
  {
   "cell_type": "code",
   "execution_count": 6,
   "id": "5ff3d999-7b17-4c31-b54d-561edbfdbbf3",
   "metadata": {},
   "outputs": [
    {
     "name": "stdout",
     "output_type": "stream",
     "text": [
      "My results are 10 and 16\n",
      "<class 'int'> <class 'int'>\n"
     ]
    }
   ],
   "source": [
    "#Another way to save them is in individual values\n",
    "res1, res2 = sum_up2(4,6)\n",
    "print(\"My results are\",res1,\"and\", res2)\n",
    "print(type(res1),type(res2))"
   ]
  },
  {
   "cell_type": "code",
   "execution_count": 7,
   "id": "d62e4537-7a4d-4bfc-845f-12b34485c608",
   "metadata": {},
   "outputs": [
    {
     "name": "stdout",
     "output_type": "stream",
     "text": [
      "10\n",
      "13.2\n"
     ]
    }
   ],
   "source": [
    "# A function to sum up a variable amount of numbers\n",
    "def sum_up_many(*numbs):\n",
    "    result=0\n",
    "    for x in numbs:\n",
    "        result += x\n",
    "    return result\n",
    "\n",
    "print(sum_up_many(2,3,5))\n",
    "print(sum_up_many(2,3,5,2,1.2))"
   ]
  },
  {
   "cell_type": "code",
   "execution_count": 8,
   "id": "911e18d9-b4f3-4f11-a6a6-17631ace9b02",
   "metadata": {},
   "outputs": [
    {
     "name": "stdout",
     "output_type": "stream",
     "text": [
      "28\n",
      "14\n",
      "45\n"
     ]
    }
   ],
   "source": [
    "#summing up over a list, a set or a tuple\n",
    "def sum_over(inputlist):\n",
    "    result=0\n",
    "    for elem in inputlist:\n",
    "        result += elem\n",
    "    return result\n",
    "\n",
    "list1 = [2,3,4,5,2,3,4,5]\n",
    "set1 = set(list1)\n",
    "tuple1 = tuple(range(10))\n",
    "\n",
    "print(sum_over(list1))\n",
    "print(sum_over(set1))\n",
    "print(sum_over(tuple1))"
   ]
  },
  {
   "cell_type": "code",
   "execution_count": 9,
   "id": "8a980a45-40af-4129-862b-677a1aa70a90",
   "metadata": {},
   "outputs": [
    {
     "name": "stdout",
     "output_type": "stream",
     "text": [
      "0\n",
      "End of Loop\n",
      "1\n",
      "End of Loop\n",
      "2\n",
      "End of Loop\n",
      "3\n",
      "4\n",
      "5\n",
      "Finished\n"
     ]
    }
   ],
   "source": [
    "#keywords\n",
    "list1b = list(range(20))\n",
    "\n",
    "for elem in list1b:\n",
    "    print(elem)\n",
    "    if elem > 1:\n",
    "        pass\n",
    "    if elem == 5:\n",
    "        break\n",
    "    if elem > 2:\n",
    "        continue\n",
    "    print(\"End of Loop\")\n",
    "    \n",
    "print(\"Finished\")"
   ]
  },
  {
   "cell_type": "markdown",
   "id": "13a94ec4-2d7c-4c43-97f8-ce5ca89227ce",
   "metadata": {},
   "source": [
    "# Exercises"
   ]
  },
  {
   "cell_type": "markdown",
   "id": "55b6728d-0788-4d78-b434-869a359a8703",
   "metadata": {},
   "source": [
    "## Exercise 41 - Function I\n",
    "Create a program that defines functions for the three remaining mathematical basic\n",
    "operations (-, * and /). Call each of the functions at least three times with different arguments."
   ]
  },
  {
   "cell_type": "code",
   "execution_count": 10,
   "id": "23bf959d-f7c9-4d43-a4cd-e170adf4faed",
   "metadata": {},
   "outputs": [],
   "source": [
    "## the minus function\n",
    "def subst(num1,num2):\n",
    "    result = num1 - num2\n",
    "    return result\n",
    "\n",
    "## the multiplication function\n",
    "def multply(num1,num2):\n",
    "    result = num1 * num2\n",
    "    return result\n",
    "\n",
    "## the division function\n",
    "def dvsn(num1,num2):\n",
    "    result = num1 / num2\n",
    "    return result\n",
    "\n",
    "# I include an if statement, because division by 0 would result in Error. \n",
    "# My If statements prints an Error message to alert the user to the problem\n",
    "#even if I add `return` in front of print I get a `None` value, because `print` itself returns `None`. \n",
    "#It prints in the terminal but doesn't give any variable or value to the global script\n",
    "def dvsn_complex(num1,num2):\n",
    "    if num2 == 0:\n",
    "        print(\"ERROR: num2 cannot be 0!\")\n",
    "    else:\n",
    "        result = num1 / num2\n",
    "        return result\n",
    "\n",
    "# Careful!! The above allows the function to continue, but returns `None` without altering the user if it's in the middle of a script.\n",
    "# Better to let the function fail! If necessary `raise Exception` will allow a customized error message\n",
    "#Of course in this case the built in error message would work beautifully. \n",
    "def dvsn_complex2(num1,num2):\n",
    "    if num2 == 0:\n",
    "        raise Exception(\"ERROR: num2 cannot be 0!\")\n",
    "    else:\n",
    "        result = num1 / num2\n",
    "        return result"
   ]
  },
  {
   "cell_type": "code",
   "execution_count": 11,
   "id": "dfeecf12-8060-4efc-a087-7c5255b1cdda",
   "metadata": {},
   "outputs": [
    {
     "name": "stdout",
     "output_type": "stream",
     "text": [
      "4\n",
      "-0.5\n",
      "-15\n"
     ]
    }
   ],
   "source": [
    "print(subst(8,4))\n",
    "print(subst(0.5,1))\n",
    "print(subst(-5,10))"
   ]
  },
  {
   "cell_type": "code",
   "execution_count": 12,
   "id": "90e2c87a-31f6-4524-9e00-ea93dd3667b1",
   "metadata": {},
   "outputs": [
    {
     "name": "stdout",
     "output_type": "stream",
     "text": [
      "32\n",
      "0.5\n",
      "-50\n"
     ]
    }
   ],
   "source": [
    "print(multply(8,4))\n",
    "print(multply(0.5,1))\n",
    "print(multply(-5,10))"
   ]
  },
  {
   "cell_type": "code",
   "execution_count": 13,
   "id": "4c47feb6-6d12-463c-9c48-4e8ba3b11cdf",
   "metadata": {},
   "outputs": [
    {
     "name": "stdout",
     "output_type": "stream",
     "text": [
      "2.0\n",
      "0.5\n",
      "-1.0\n"
     ]
    }
   ],
   "source": [
    "print(dvsn(8,4))\n",
    "print(dvsn(0.5,1))\n",
    "print(dvsn(-5,5))"
   ]
  },
  {
   "cell_type": "code",
   "execution_count": 14,
   "id": "a8275a28-b6e4-40d6-8318-5a5e42daed97",
   "metadata": {},
   "outputs": [
    {
     "name": "stdout",
     "output_type": "stream",
     "text": [
      "2.0\n",
      "0.5\n",
      "-1.0\n"
     ]
    }
   ],
   "source": [
    "print(dvsn_complex(8,4))\n",
    "print(dvsn_complex(0.5,1))\n",
    "print(dvsn_complex(-5,5))"
   ]
  },
  {
   "cell_type": "code",
   "execution_count": 15,
   "id": "27ef5e87-59dd-4807-9a1f-272753b0183a",
   "metadata": {},
   "outputs": [
    {
     "name": "stdout",
     "output_type": "stream",
     "text": [
      "ERROR: num2 cannot be 0!\n",
      "New line\n",
      "\n",
      "None\n"
     ]
    },
    {
     "data": {
      "text/plain": [
       "NoneType"
      ]
     },
     "execution_count": 15,
     "metadata": {},
     "output_type": "execute_result"
    }
   ],
   "source": [
    "# here I use 0 to test my if statement. Note that the Output of the function is still 'None', even though I had my print command!\n",
    "# even though my function failed, the script continues. \n",
    "#The print out happens at the point of the function, which would be hidden in the middle of a long script\n",
    "test3 = dvsn_complex(8,0)\n",
    "print(\"New line\")\n",
    "print()\n",
    "print(test3)\n",
    "type(test3)"
   ]
  },
  {
   "cell_type": "code",
   "execution_count": 16,
   "id": "662c4dbe-b55e-42ee-a476-ce32aa590ee7",
   "metadata": {},
   "outputs": [],
   "source": [
    "# here I check my user defined error message. The script stops at this point, so I have to block out the code again ;-)\n",
    "# note that in this case the built in error message would work very well ;-)\n",
    "\n",
    "#print(dvsn_complex2(-5,0))\n",
    "#print(dvsn(-5,0))"
   ]
  },
  {
   "cell_type": "markdown",
   "id": "3f27f504-02c1-4dd2-9679-4eecbc9426a0",
   "metadata": {},
   "source": [
    "## Exercise 42 - Functions with simple loops\n",
    "Write a program that defines functions for the following tasks:\n",
    "1. Multiply all elements with each other in a list of numbers (element1 * element2 *\n",
    "element3 * … * element N)\n",
    "2. Add up all numbers inside a range defined by a start and end value (range function and\n",
    "two parameters)\n",
    "3. Create a list containing the square numbers of the elements of a list of numbers. (Input:\n",
    "[1,2,3] ➔ Output: [1,4,9])\n",
    "\n",
    "Each function should use a for loop to fulfill its task. Call each function at least twice."
   ]
  },
  {
   "cell_type": "code",
   "execution_count": 17,
   "id": "d4d817cd-5078-4fae-9e3f-607d963707eb",
   "metadata": {},
   "outputs": [
    {
     "name": "stdout",
     "output_type": "stream",
     "text": [
      "14400\n",
      "-506912696.6399999\n"
     ]
    }
   ],
   "source": [
    "# 1. Multiply all elements with each other in a list of numbers\n",
    "\n",
    "# my new function multply_list requires a list as input_list\n",
    "def multply_list (input_list):\n",
    "    #set up helper variable. For multipliation= 1!!\n",
    "    result = 1\n",
    "    #multiply each element of the input list with result\n",
    "    for elem in input_list:\n",
    "        result *= elem\n",
    "    #return the final result\n",
    "    return result\n",
    "\n",
    "#create a list\n",
    "list2 = [2,4,6,8,3,5,7,-10,5.667,34,-0.087,-75]\n",
    "\n",
    "#print the result\n",
    "print(multply_list(list1))\n",
    "print(multply_list(list2))"
   ]
  },
  {
   "cell_type": "code",
   "execution_count": 18,
   "id": "b202e316-9f51-4394-882d-a92adc4b995e",
   "metadata": {},
   "outputs": [
    {
     "name": "stdout",
     "output_type": "stream",
     "text": [
      "9\n",
      "774\n"
     ]
    }
   ],
   "source": [
    "# 2. Add up all numbers inside a range defined by a start and end value\n",
    "\n",
    "#my new function sum_range, requires two integers to define the start and end of my range\n",
    "def sum_range (start_range, end_range):\n",
    "    #set up helper variable\n",
    "    result = 0\n",
    "    #sum up all members of a range described by start_range and end_range\n",
    "    for i in range(start_range,end_range):\n",
    "        result += i\n",
    "    #return the final result\n",
    "    return result\n",
    "\n",
    "#print a result for range(2,5)\n",
    "print(sum_range(2,5))\n",
    "print(sum_range(4,40))"
   ]
  },
  {
   "cell_type": "code",
   "execution_count": 19,
   "id": "de66f797-5149-404e-a220-ab498cfb4a7c",
   "metadata": {},
   "outputs": [
    {
     "name": "stdout",
     "output_type": "stream",
     "text": [
      "[1, 4, 9, 16]\n"
     ]
    }
   ],
   "source": [
    "# 3.Create a list containing the square numbers of the elements of a list of numbers.\n",
    "\n",
    "#define my function call sqr_list, requiring a single list as parameter\n",
    "def sq_list (input_list):\n",
    "    #set up empty result list:\n",
    "    result = []\n",
    "    #create loop, save the results in my (previously) emtpy list:\n",
    "    for val in input_list:\n",
    "        result.append(val**2)\n",
    "    #return the final list\n",
    "    return result\n",
    "\n",
    "#define a simple list\n",
    "list3 = [1,2,3,4]\n",
    "#test the result of my function\n",
    "list3_sqr = sq_list(list3)\n",
    "print(list3_sqr)"
   ]
  },
  {
   "cell_type": "code",
   "execution_count": 20,
   "id": "d00c8b34-4e5e-4403-b82e-02741acea066",
   "metadata": {},
   "outputs": [
    {
     "name": "stdout",
     "output_type": "stream",
     "text": [
      "[4, 9, 16, 25, 4, 9, 16, 25]\n",
      "[4, 16, 36, 64, 9, 25, 49, 100, 32.114889, 1156, 0.007568999999999999, 5625]\n"
     ]
    }
   ],
   "source": [
    "#run the function again on list1 and list2\n",
    "print(sq_list(list1))\n",
    "print(sq_list(list2))"
   ]
  },
  {
   "cell_type": "markdown",
   "id": "12fb21f9-738d-47d4-ae9f-81b8a96c168b",
   "metadata": {},
   "source": [
    "## Exercise 43 - Functions with nested loops\n",
    "Write a program that defines functions for the following tasks:\n",
    "1. Multiply each element of a list of numbers with each element of a second list of\n",
    "numbers (num1 * num1, num1 * num2,…., num2 * num1, num2 * num2,…, numN * numN)\n",
    "2. Print out the multiplication of two numbers from different ranges starting at 1 and\n",
    "ending at a number specified by the parameters (range(1,num1) & range(1,num2))\n",
    "\n",
    "Each function should use nested for loops to fulfill its task. Call each function at least once."
   ]
  },
  {
   "cell_type": "code",
   "execution_count": 21,
   "id": "0d7d4677-729f-4eef-aa97-e811fe1c2531",
   "metadata": {},
   "outputs": [
    {
     "name": "stdout",
     "output_type": "stream",
     "text": [
      "[4, 8, 12, 16, 6, 10, 14, -20, 11.334, 68, -0.174, -150, 6, 12, 18, 24, 9, 15, 21, -30, 17.000999999999998, 102, -0.261, -225, 8, 16, 24, 32, 12, 20, 28, -40, 22.668, 136, -0.348, -300, 10, 20, 30, 40, 15, 25, 35, -50, 28.335, 170, -0.43499999999999994, -375, 4, 8, 12, 16, 6, 10, 14, -20, 11.334, 68, -0.174, -150, 6, 12, 18, 24, 9, 15, 21, -30, 17.000999999999998, 102, -0.261, -225, 8, 16, 24, 32, 12, 20, 28, -40, 22.668, 136, -0.348, -300, 10, 20, 30, 40, 15, 25, 35, -50, 28.335, 170, -0.43499999999999994, -375]\n",
      "\n",
      "[2, 4, 6, 8, 3, 6, 9, 12, 4, 8, 12, 16, 5, 10, 15, 20, 2, 4, 6, 8, 3, 6, 9, 12, 4, 8, 12, 16, 5, 10, 15, 20]\n"
     ]
    }
   ],
   "source": [
    "#function No1 \n",
    "def list_mul (list1,list2):\n",
    "    result = []\n",
    "    for elem1 in list1:\n",
    "        for elem2 in list2:\n",
    "            product = elem1*elem2\n",
    "            result.append(product)\n",
    "    return result\n",
    "\n",
    "list_mul_result1 = list_mul (list1,list2)\n",
    "print(list_mul_result1)\n",
    "print()\n",
    "\n",
    "list_mul_result2 = list_mul (list1,list3)\n",
    "print(list_mul_result2)"
   ]
  },
  {
   "cell_type": "code",
   "execution_count": 22,
   "id": "12855d54-9249-43a6-80a9-c7b1c0295a08",
   "metadata": {},
   "outputs": [
    {
     "name": "stdout",
     "output_type": "stream",
     "text": [
      "[1, 2, 3, 2, 4, 6, 3, 6, 9, 4, 8, 12]\n",
      "\n",
      "[1, 2, 3, 4, 5, 6, 7, 8, 9, 10, 11, 12, 13, 14, 2, 4, 6, 8, 10, 12, 14, 16, 18, 20, 22, 24, 26, 28, 3, 6, 9, 12, 15, 18, 21, 24, 27, 30, 33, 36, 39, 42]\n"
     ]
    }
   ],
   "source": [
    "#function No1 \n",
    "def range_mul (num1,num2):\n",
    "    result = []\n",
    "    for i in range(1, num1):\n",
    "        for j in range(1,num2):\n",
    "            product = i*j\n",
    "            result.append(product)\n",
    "    return result\n",
    "\n",
    "range_mul_result1 = range_mul (5,4)\n",
    "print(range_mul_result1)\n",
    "print()\n",
    "\n",
    "range_mul_result2 = range_mul (4,15)\n",
    "print(range_mul_result2)"
   ]
  },
  {
   "cell_type": "markdown",
   "id": "d1430a22-e09c-4647-a617-edd3c7a54feb",
   "metadata": {},
   "source": [
    "## Exercise 44 - Multiple returns\n",
    "In Exercise 41 you created three different functions, now combine them into a new function that returns all results at once.   \n",
    "Call this function at least three times with different arguments and print out the results.   \n",
    "Call the function at least once by specifying only 1 variable name on\n",
    "the left side of the „=„ sign."
   ]
  },
  {
   "cell_type": "code",
   "execution_count": 23,
   "id": "24b7d3de-876d-4e85-9029-0c35209961c5",
   "metadata": {},
   "outputs": [],
   "source": [
    "## the new maths function for all simple maths operations\n",
    "def maths(num1,num2):\n",
    "    add = num1 + num2\n",
    "    sub = num1 - num2\n",
    "    mult = num1 * num2\n",
    "    div = num1 / num2\n",
    "    return add, sub, mult, div"
   ]
  },
  {
   "cell_type": "code",
   "execution_count": 24,
   "id": "3702974a-959a-42d9-8b35-d92277f46630",
   "metadata": {},
   "outputs": [
    {
     "name": "stdout",
     "output_type": "stream",
     "text": [
      "(9, -1, 20, 0.8)\n"
     ]
    }
   ],
   "source": [
    "# trial call of the function\n",
    "print(maths(4,5))"
   ]
  },
  {
   "cell_type": "code",
   "execution_count": 25,
   "id": "8854d0c2-b0a9-4cb5-9008-b6d1acfae5cf",
   "metadata": {},
   "outputs": [
    {
     "name": "stdout",
     "output_type": "stream",
     "text": [
      "My first result as a tuple\n",
      "(15, -1, 56, 0.875)\n",
      "\n",
      "My second result as variables\n",
      "2 10 -24 -1.5\n",
      "\n",
      "My third result as variables\n",
      "0.403 0.397 0.0012000000000000001 133.33333333333334\n"
     ]
    }
   ],
   "source": [
    "#call the function a few more times\n",
    "print(\"My first result as a tuple\")\n",
    "tub = maths(7,8)\n",
    "print(tub)\n",
    "print()\n",
    "\n",
    "print(\"My second result as variables\")\n",
    "add1, sub1, mult1, div1 = maths(6,-4)\n",
    "print(add1, sub1, mult1, div1)\n",
    "print() \n",
    "\n",
    "print(\"My third result as variables\")\n",
    "add2, sub2, mult2, div2 = maths(0.4,0.003)\n",
    "print(add2, sub2, mult2, div2)"
   ]
  },
  {
   "cell_type": "markdown",
   "id": "5692d812-6a01-4b9f-a9ef-d9e7b5152612",
   "metadata": {},
   "source": [
    "## Exercise 45 - Multiple returns from lists\n",
    "Write a function that takes a list as parameter and calculates the length, sum, minimum and maximum value of this list. Return all four results to the main script. Call the function at least four times with different lists. Does it work with a list of strings as well?"
   ]
  },
  {
   "cell_type": "code",
   "execution_count": 26,
   "id": "61dc0e0f-a710-41d3-813d-375f455e7d24",
   "metadata": {},
   "outputs": [
    {
     "name": "stdout",
     "output_type": "stream",
     "text": [
      "(4, 10, 1, 4)\n",
      "(8, 28, 2, 5)\n",
      "(12, -10.419999999999998, -75, 34)\n"
     ]
    }
   ],
   "source": [
    "def list_math (list):\n",
    "    lgth = len(list)\n",
    "    sm = sum(list)\n",
    "    mn = min(list)\n",
    "    mx = max(list)\n",
    "    return lgth, sm, mn,mx\n",
    "\n",
    "print(list_math(list3))\n",
    "print(list_math(list1))\n",
    "print(list_math(list2))"
   ]
  },
  {
   "cell_type": "code",
   "execution_count": 27,
   "id": "2f26bd53-9370-4e1b-baea-caae970d94e1",
   "metadata": {},
   "outputs": [],
   "source": [
    "#str_list = [\"apple\",\"banana\",\"orange\"]\n",
    "#print(list_math(str_list))"
   ]
  },
  {
   "cell_type": "markdown",
   "id": "f2402b7c-af7c-40f6-9119-d9fcd29bb062",
   "metadata": {},
   "source": [
    "> no it doesn't work on strings, because sum doesn't work on strings, if sum is removed from the function it works"
   ]
  },
  {
   "cell_type": "markdown",
   "id": "571432ac-9480-48e3-94f0-8733e048b828",
   "metadata": {},
   "source": [
    "## Exercise 46 - Functions with defaults\n",
    "Write a script that contains a function that takes five numbers as parameters. Three of them should be using a default value of 0, 10 and 100 respectively. Add up all parameters and return the result to the main script. Call the function at least four times, once with two arguments, once with three arguments, once with four arguments and once with five arguments."
   ]
  },
  {
   "cell_type": "code",
   "execution_count": 28,
   "id": "e5467d6a-83fa-4888-8680-2ea203ffe485",
   "metadata": {},
   "outputs": [],
   "source": [
    "#defining my function with three default parameters\n",
    "def para_func (num1, num2, num3 = 0, num4 = 10, num5 = 100):\n",
    "    result = num1 + num2 + num3 + num4 + num5\n",
    "    return result"
   ]
  },
  {
   "cell_type": "code",
   "execution_count": 29,
   "id": "3ce78663-0008-49bd-be62-a958eac2329f",
   "metadata": {},
   "outputs": [
    {
     "name": "stdout",
     "output_type": "stream",
     "text": [
      "117\n"
     ]
    }
   ],
   "source": [
    "#try my function a few times with different number of arguments\n",
    "#here I add 2+5+0+10+100\n",
    "print(para_func(2,5))"
   ]
  },
  {
   "cell_type": "code",
   "execution_count": 30,
   "id": "9cd7fa97-bb17-44cb-a848-3a3873f37e6c",
   "metadata": {},
   "outputs": [
    {
     "name": "stdout",
     "output_type": "stream",
     "text": [
      "124\n"
     ]
    }
   ],
   "source": [
    "#here I add 2+5+7+10+100\n",
    "print(para_func(2,5,7))"
   ]
  },
  {
   "cell_type": "code",
   "execution_count": 31,
   "id": "98499462-5df3-4f83-8d74-3f057c4bf73e",
   "metadata": {},
   "outputs": [
    {
     "name": "stdout",
     "output_type": "stream",
     "text": [
      "123\n"
     ]
    }
   ],
   "source": [
    "#here I add 2+5+7+9+100\n",
    "print(para_func(2,5,7,9))"
   ]
  },
  {
   "cell_type": "code",
   "execution_count": 32,
   "id": "e4797be1-250c-42b3-abfc-8991d99c2e5a",
   "metadata": {},
   "outputs": [
    {
     "name": "stdout",
     "output_type": "stream",
     "text": [
      "33\n"
     ]
    }
   ],
   "source": [
    "#here I add 2+5+7+9+10\n",
    "print(para_func(2,5,7,9,10))"
   ]
  },
  {
   "cell_type": "markdown",
   "id": "a7ec0d79-1f17-4ead-b83e-23e5f777ade2",
   "metadata": {},
   "source": [
    "## Exercise 47 - Keyword arguments\n",
    "Use the function from Exercise 46 and add several calls to it using keyword arguments."
   ]
  },
  {
   "cell_type": "code",
   "execution_count": 33,
   "id": "3e5a4158-3488-4427-a688-4a6e8f93c76e",
   "metadata": {},
   "outputs": [
    {
     "name": "stdout",
     "output_type": "stream",
     "text": [
      "33\n"
     ]
    }
   ],
   "source": [
    "print(para_func(num2=2,num5=5,num1=7,num3=9,num4=10))"
   ]
  },
  {
   "cell_type": "markdown",
   "id": "ec7e14b9-1bc9-4940-834b-ab80e8fe5cd2",
   "metadata": {},
   "source": [
    "## Exercise 48 - Keywords in Python\n",
    "Write a program that creates a list with at least 15 random entries. Iterate over the list with a for loop and add up the elements in it. Create at least one if statement in your loop that can’t be true and add a pass instruction to it. Include a second if statement in your loop that breaks the loop if your sum gets bigger than a certain threshold. Include a third if statement in your loop that uses continue if the current entry of your list is in a specific range, eg. 50 to 60, and prints out something in all other cases (use else). Let the program print out the sum and the number of iterations at the end of the program."
   ]
  },
  {
   "cell_type": "code",
   "execution_count": 39,
   "id": "40403318-3c7d-4c37-a879-8c299ffb056b",
   "metadata": {},
   "outputs": [
    {
     "name": "stdout",
     "output_type": "stream",
     "text": [
      "1: This number is not between 20 and 40\n",
      "6: This number is not between 20 and 40\n",
      "12: This number is not between 20 and 40\n",
      "42.0: This number is not between 20 and 40\n",
      "92.0: This number is not between 20 and 40\n",
      "\n",
      "The final sum is 117.0 after 12 iterations\n"
     ]
    }
   ],
   "source": [
    "#create my list\n",
    "list4 = [1,5,6,8,9,1,2,2,5.5,2.5,50,25,30,6,0.5,0.75]\n",
    "\n",
    "#two helper variables for the sum and the number of iterations\n",
    "sum0 = 0\n",
    "it_count = 0\n",
    "#create the loop\n",
    "for elem in list4:\n",
    "    #count my iteration\n",
    "    it_count += 1\n",
    "    #my basic summing up function:\n",
    "    sum0 = sum0 + elem\n",
    "    # impossible if statement with pass\n",
    "    if elem > 5000:\n",
    "        pass\n",
    "    # break the loop if sum gets too big\n",
    "    if sum0 > 100:\n",
    "        break\n",
    "    # print a sentence only if the sum is not within the specified range\n",
    "    if 20 <= sum0 <= 40:\n",
    "        continue\n",
    "    else:\n",
    "        print(f\"{sum0}: This number is not between 20 and 40\")\n",
    "        \n",
    "#cosmetic print()\n",
    "print()\n",
    "#print final result\n",
    "print(\"The final sum is\",sum0,\"after\",it_count,\"iterations\")"
   ]
  },
  {
   "cell_type": "code",
   "execution_count": null,
   "id": "93ef5c8d-c0c2-4305-bf02-a2539606e4e2",
   "metadata": {},
   "outputs": [],
   "source": []
  }
 ],
 "metadata": {
  "kernelspec": {
   "display_name": "Python 3 (ipykernel)",
   "language": "python",
   "name": "python3"
  },
  "language_info": {
   "codemirror_mode": {
    "name": "ipython",
    "version": 3
   },
   "file_extension": ".py",
   "mimetype": "text/x-python",
   "name": "python",
   "nbconvert_exporter": "python",
   "pygments_lexer": "ipython3",
   "version": "3.12.2"
  }
 },
 "nbformat": 4,
 "nbformat_minor": 5
}
