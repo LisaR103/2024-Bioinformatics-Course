{
 "cells": [
  {
   "cell_type": "markdown",
   "id": "7c9a33bd-ee60-45f6-aae6-a40918ac193b",
   "metadata": {},
   "source": [
    "# Module 1.3 Tuples\n",
    "\n",
    "## Table of contents\n",
    "\n",
    "[Tuples](#Tuples)\n",
    "1. [Generating tuples](#Generating-tuples)\n",
    "   1. [Converting into a tuple](#Converting-into-a-tuple)\n",
    "3. [Accessing elements](#Accessing-elements)\n",
    "4. [Usage of tuple](#Usage-of-tuple)\n",
    "\n",
    "[Exercises](#Exercises)\n",
    "1. [Exercise 20 - Working with tuples](#Exercise-20---Working-with-tuples)"
   ]
  },
  {
   "cell_type": "markdown",
   "id": "0aeb7d5e-fa26-4484-ad78-342394c31e25",
   "metadata": {},
   "source": [
    "# Tuples"
   ]
  },
  {
   "cell_type": "markdown",
   "id": "b0a56236-7519-4463-902e-6e87b0496699",
   "metadata": {},
   "source": [
    "Tuples are ordered, unchangeable and indexed, this means\n",
    "\n",
    ">You cannot change the order of the elements\n",
    "\n",
    ">you can't add/remove/replace elements from a tuple without completely defining it new\n",
    "\n",
    ">You can access elements with indices (like lists)\n",
    "\n",
    "Tuples are generated with (,)\n",
    "\n",
    "Tuples can be freely turned into lists and sets, but not dictionaries and vice versa"
   ]
  },
  {
   "cell_type": "markdown",
   "id": "d0ee10a9-de5a-4006-85ef-6fdb19165a74",
   "metadata": {},
   "source": [
    "## Generating tuples"
   ]
  },
  {
   "cell_type": "markdown",
   "id": "4cf9bdeb-9fc3-4f79-99d1-489fd724abef",
   "metadata": {},
   "source": [
    "Tuples are generated with , inside () - the () are not strictly necessary, but it makes the script more readble\n",
    "\n",
    "A single element in a tuple still needs a (,) otherwise it is just a string"
   ]
  },
  {
   "cell_type": "code",
   "execution_count": 1,
   "id": "52b0d9b3-8731-4344-999a-55e14aa7ad32",
   "metadata": {},
   "outputs": [
    {
     "name": "stdout",
     "output_type": "stream",
     "text": [
      "(1, 2, 3, 4, 5, 6)\n",
      "<class 'tuple'>\n"
     ]
    }
   ],
   "source": [
    "tuple1 = (1,2,3,4,5,6)\n",
    "print(tuple1)\n",
    "print(type(tuple1))"
   ]
  },
  {
   "cell_type": "code",
   "execution_count": 2,
   "id": "35e53e8f-521f-4f8b-81a9-ebbe46027bc6",
   "metadata": {},
   "outputs": [
    {
     "name": "stdout",
     "output_type": "stream",
     "text": [
      "tuple2: (5,)\n",
      "tuple2 is a tuple <class 'tuple'>\n",
      "tuple3: 5\n",
      "tuple3 is not a tuple <class 'int'>\n"
     ]
    }
   ],
   "source": [
    "tuple2 = (5,)\n",
    "print(\"tuple2:\",tuple2)\n",
    "print(\"tuple2 is a tuple\",type(tuple2))\n",
    "\n",
    "tuple3 = (5)\n",
    "print(\"tuple3:\",tuple3)\n",
    "print(\"tuple3 is not a tuple\",type(tuple3))"
   ]
  },
  {
   "cell_type": "code",
   "execution_count": 3,
   "id": "74eb5add-dbd2-4251-87ec-678d7799b09f",
   "metadata": {},
   "outputs": [
    {
     "name": "stdout",
     "output_type": "stream",
     "text": [
      "('Hello', 'World', 'no', 'Comma')\n",
      "<class 'tuple'>\n"
     ]
    }
   ],
   "source": [
    "tuple4 = \"Hello\",\"World\",\"no\",\"Comma\"\n",
    "print(tuple4)\n",
    "print(type(tuple4))"
   ]
  },
  {
   "cell_type": "markdown",
   "id": "611eff80-1729-46ad-87af-c5477dd8974d",
   "metadata": {},
   "source": [
    "tuple5 is a NESTED tuple, because it contains another tuple. Could also e.g. be a list, set, dictionary etc."
   ]
  },
  {
   "cell_type": "code",
   "execution_count": 4,
   "id": "de93cb70-4efd-4c4d-aa43-6baa23127bd5",
   "metadata": {},
   "outputs": [
    {
     "name": "stdout",
     "output_type": "stream",
     "text": [
      "('Hello', 'tuple4', ('Hello', 'World', 'no', 'Comma'))\n",
      "<class 'tuple'>\n"
     ]
    }
   ],
   "source": [
    "tuple5 = (\"Hello\",\"tuple4\",tuple4)\n",
    "print(tuple5)\n",
    "print(type(tuple5))"
   ]
  },
  {
   "cell_type": "markdown",
   "id": "fd6ad143-82df-4a9e-8ca5-a124b8c48d4f",
   "metadata": {},
   "source": [
    "### Converting into a tuple"
   ]
  },
  {
   "cell_type": "markdown",
   "id": "3d77bde1-5c77-4971-a53e-e1bc2476e13e",
   "metadata": {},
   "source": [
    "other objects can be turned into tuples using tuple()"
   ]
  },
  {
   "cell_type": "code",
   "execution_count": 5,
   "id": "8832a9c9-376c-457b-9f0c-a79052e3bacb",
   "metadata": {},
   "outputs": [
    {
     "name": "stdout",
     "output_type": "stream",
     "text": [
      "(2, 4, 6, 8, 10)\n",
      "<class 'tuple'>\n"
     ]
    }
   ],
   "source": [
    "tuple5 = tuple(range(2,11,2))\n",
    "print(tuple5)\n",
    "print(type(tuple5))"
   ]
  },
  {
   "cell_type": "markdown",
   "id": "1e9eb848-dda2-4d7c-ae73-a2a36823b96b",
   "metadata": {},
   "source": [
    "## Accessing elements"
   ]
  },
  {
   "cell_type": "markdown",
   "id": "0cf04a20-06cf-4512-b40b-18f5f19d9b62",
   "metadata": {},
   "source": [
    "The indices of tuples work exactly like they do for lists, including numbering, slicing, negative values etc."
   ]
  },
  {
   "cell_type": "code",
   "execution_count": 6,
   "id": "8806b954-6efc-4c7a-ba7c-aa9f29991669",
   "metadata": {},
   "outputs": [
    {
     "name": "stdout",
     "output_type": "stream",
     "text": [
      "(1, 2, 3, 4, 5, 6)\n",
      "1\n",
      "6\n"
     ]
    }
   ],
   "source": [
    "print(tuple1)\n",
    "print(tuple1[0])\n",
    "print(tuple1[-1])"
   ]
  },
  {
   "cell_type": "code",
   "execution_count": 7,
   "id": "2e6743ec-fd46-4c57-ac43-686f22de5871",
   "metadata": {},
   "outputs": [
    {
     "name": "stdout",
     "output_type": "stream",
     "text": [
      "(1, 2, 3, 4, 5, 6)\n",
      "(2, 3, 4)\n"
     ]
    }
   ],
   "source": [
    "print(tuple1)\n",
    "print(tuple1[1:4])"
   ]
  },
  {
   "cell_type": "markdown",
   "id": "35468121-7eb0-418f-9799-cc4c00f45ded",
   "metadata": {},
   "source": [
    "## Usage of tuple"
   ]
  },
  {
   "cell_type": "markdown",
   "id": "794397ae-1313-4623-870f-9facd6185736",
   "metadata": {},
   "source": [
    "Tuple is used in functions or to talk to external modules"
   ]
  },
  {
   "cell_type": "markdown",
   "id": "1d8dfca1-7fe5-4678-84e0-474e25f37017",
   "metadata": {},
   "source": [
    "# Exercises"
   ]
  },
  {
   "cell_type": "markdown",
   "id": "773e96c0-371f-4c9b-9ff7-f33d3947cc22",
   "metadata": {},
   "source": [
    "## Exercise 20 - Working with tuples"
   ]
  },
  {
   "cell_type": "markdown",
   "id": "f15289b3-2cc7-4f60-b16f-5425b061ad4c",
   "metadata": {},
   "source": [
    "Write a program that creates four tuples of different lengths. Print out the tuples. Afterwards\n",
    "display one entry from each tuple. Try to generate a tuple with duplicate values."
   ]
  },
  {
   "cell_type": "code",
   "execution_count": 8,
   "id": "f28f8e0e-eca0-4319-a732-92627207f675",
   "metadata": {},
   "outputs": [
    {
     "name": "stdout",
     "output_type": "stream",
     "text": [
      "tup1: ('Hello', 'World')\n",
      "tup2: (4, 19, 34, 49, 64, 79, 94)\n",
      "tup3: (False, True, False, False, False, True, None, True)\n",
      "tup4: (3, 'mal', 3, 'macht', 6, 'widdewidde wer', 'wills', 'von mir', 'lernen')\n"
     ]
    }
   ],
   "source": [
    "#creating some tuples and printing them\n",
    "tup1 = (\"Hello\",\"World\")\n",
    "tup2 = tuple(range(4,100,15))\n",
    "tup3 = (False,True,False,False,False,True,None,True)\n",
    "tup4 = (3,\"mal\",3,\"macht\",6,\"widdewidde wer\",\"wills\",\"von mir\",\"lernen\")\n",
    "\n",
    "print(\"tup1:\",tup1)\n",
    "print(\"tup2:\",tup2)\n",
    "print(\"tup3:\",tup3)\n",
    "print(\"tup4:\",tup4)"
   ]
  },
  {
   "cell_type": "code",
   "execution_count": 9,
   "id": "44da1f90-fbdf-4c8c-9cef-e86a2e410a5b",
   "metadata": {},
   "outputs": [
    {
     "name": "stdout",
     "output_type": "stream",
     "text": [
      "World\n"
     ]
    }
   ],
   "source": [
    "#accessing some entries\n",
    "print(tup1[1])"
   ]
  },
  {
   "cell_type": "code",
   "execution_count": 10,
   "id": "c575f67b-c052-4896-8e90-c6e3ed8242a4",
   "metadata": {},
   "outputs": [
    {
     "name": "stdout",
     "output_type": "stream",
     "text": [
      "79\n"
     ]
    }
   ],
   "source": [
    "print(tup2[5])"
   ]
  },
  {
   "cell_type": "code",
   "execution_count": 11,
   "id": "bd3f808f-a6f9-4370-a88a-e375d771d698",
   "metadata": {},
   "outputs": [
    {
     "name": "stdout",
     "output_type": "stream",
     "text": [
      "False\n"
     ]
    }
   ],
   "source": [
    "print(tup3[-5])"
   ]
  },
  {
   "cell_type": "code",
   "execution_count": 12,
   "id": "40cbc006-af11-4516-a53f-0418bd829656",
   "metadata": {
    "editable": true,
    "slideshow": {
     "slide_type": ""
    },
    "tags": []
   },
   "outputs": [
    {
     "name": "stdout",
     "output_type": "stream",
     "text": [
      "(3, 'macht', 6, 'widdewidde wer')\n"
     ]
    }
   ],
   "source": [
    "print(tup4[2:6])"
   ]
  },
  {
   "cell_type": "code",
   "execution_count": null,
   "id": "6f96c21c-9e78-4038-9007-7ed00aabbc87",
   "metadata": {},
   "outputs": [],
   "source": []
  }
 ],
 "metadata": {
  "kernelspec": {
   "display_name": "Python 3 (ipykernel)",
   "language": "python",
   "name": "python3"
  },
  "language_info": {
   "codemirror_mode": {
    "name": "ipython",
    "version": 3
   },
   "file_extension": ".py",
   "mimetype": "text/x-python",
   "name": "python",
   "nbconvert_exporter": "python",
   "pygments_lexer": "ipython3",
   "version": "3.12.2"
  }
 },
 "nbformat": 4,
 "nbformat_minor": 5
}
