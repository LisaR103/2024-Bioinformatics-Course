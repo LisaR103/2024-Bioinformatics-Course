{
 "cells": [
  {
   "cell_type": "markdown",
   "id": "7b021f20-7daa-4e45-9520-e6f2ac57e886",
   "metadata": {},
   "source": [
    "# Module 1.3 - Nested Datastructures\n",
    "\n",
    "## Table of content\n",
    "\n",
    "[Nested Datastructures](#Nested-Datastructures)\n",
    "1. [Nested lists](#Nested-lists)\n",
    "2. [Nested Dictionaries](#Nested-Dictionaries)\n",
    "\n",
    "[Exercises](#Exercises)\n",
    "1. [Exercise 22 - New lists](#Exercise-22---New-lists)\n",
    "2. [Exercise 23 - Protein collection](#Exercise-23---Protein-collection)"
   ]
  },
  {
   "cell_type": "markdown",
   "id": "5f82dc02-1846-4014-88d1-670bb4c12af9",
   "metadata": {},
   "source": [
    "# Nested Datastructures"
   ]
  },
  {
   "cell_type": "markdown",
   "id": "2781ddcf-011a-47cb-910d-e2258484bae2",
   "metadata": {},
   "source": [
    "## Nested lists"
   ]
  },
  {
   "cell_type": "markdown",
   "id": "cc702a72-5082-4528-8bf4-36c088ad9253",
   "metadata": {},
   "source": [
    "We can create a two-dimensional list with the following syntax:\n",
    "multi_list1 = [[],[]]\n",
    "\n",
    "We are not limited to two layers, we can have as many lists within each other as we want\n",
    "\n",
    "list functions can be used on nested lists as well, e.g.\n",
    "\n",
    "multi_list1[1].append(20) -> appends 20 to the 2nd list (index1) of multi_list1\n",
    "\n",
    "multi_list1.append(multi_list2[0].copy()) -> copies (≠ links) the first list of multi_list2 to multi_list1"
   ]
  },
  {
   "cell_type": "code",
   "execution_count": 1,
   "id": "95708f19-6b82-48ff-9435-f18447e0fc8a",
   "metadata": {},
   "outputs": [
    {
     "name": "stdout",
     "output_type": "stream",
     "text": [
      "[[1, 2, 3], [4, 5, 6]]\n"
     ]
    }
   ],
   "source": [
    "multi_list1 = [[1,2,3],[4,5,6]]\n",
    "print(multi_list1)"
   ]
  },
  {
   "cell_type": "code",
   "execution_count": 2,
   "id": "186f7f4f-c5c5-4598-924f-fa1c5993f415",
   "metadata": {},
   "outputs": [
    {
     "name": "stdout",
     "output_type": "stream",
     "text": [
      "[[1, 2, 3], [4, 5, 6]]\n"
     ]
    }
   ],
   "source": [
    "#Accessing the whole lists\n",
    "print(multi_list1)"
   ]
  },
  {
   "cell_type": "code",
   "execution_count": 3,
   "id": "31d3f7f5-cb90-47f8-aadc-3e541a3680cf",
   "metadata": {},
   "outputs": [
    {
     "name": "stdout",
     "output_type": "stream",
     "text": [
      "[1, 2, 3]\n"
     ]
    }
   ],
   "source": [
    "#Accessing the first sublist\n",
    "print(multi_list1[0])"
   ]
  },
  {
   "cell_type": "code",
   "execution_count": 4,
   "id": "4218dc18-11dd-4ca7-9e28-1c576145566a",
   "metadata": {},
   "outputs": [
    {
     "name": "stdout",
     "output_type": "stream",
     "text": [
      "1\n"
     ]
    }
   ],
   "source": [
    "#Accessing the first element of the first sublist\n",
    "print(multi_list1[0][0])"
   ]
  },
  {
   "cell_type": "code",
   "execution_count": 5,
   "id": "9ff7b01d-8eae-4f22-80b5-0dc3e8887b9e",
   "metadata": {},
   "outputs": [
    {
     "name": "stdout",
     "output_type": "stream",
     "text": [
      "[[1, 2, 3], [4, 5, 6, 20]]\n"
     ]
    }
   ],
   "source": [
    "#using list functions by calling the sublist I want\n",
    "multi_list1[1].append(20)\n",
    "print(multi_list1)"
   ]
  },
  {
   "cell_type": "markdown",
   "id": "83479f17-f029-433a-a2a2-712327d154a9",
   "metadata": {},
   "source": [
    "## Nested Dictionaries"
   ]
  },
  {
   "cell_type": "markdown",
   "id": "f3220944-74be-4fc8-baa6-d4d25dc33642",
   "metadata": {},
   "source": [
    "Like lists we can nest dictionaries and use it according to the noral rules\n",
    "\n",
    "multi_dict1 = {“Key1”:{“In1”:2,”In2”:5}, “Key2”:{“In3”:10,”In4”:2"
   ]
  },
  {
   "cell_type": "code",
   "execution_count": 6,
   "id": "f391c052-372c-4a7a-8a22-2abff11b71f3",
   "metadata": {},
   "outputs": [
    {
     "name": "stdout",
     "output_type": "stream",
     "text": [
      "{'lower': {'in1': 'a', 'in2': 'b'}, 'UPPER': {'in1': 'A', 'in2': 'B'}}\n"
     ]
    }
   ],
   "source": [
    "nest_dict1 = {\"lower\":{\"in1\":\"a\",\"in2\":\"b\"},\"UPPER\":{\"in1\":\"A\",\"in2\":\"B\"}}\n",
    "print(nest_dict1)"
   ]
  },
  {
   "cell_type": "code",
   "execution_count": 7,
   "id": "13497f70-dbc3-4db2-920c-82fdbac26853",
   "metadata": {},
   "outputs": [
    {
     "name": "stdout",
     "output_type": "stream",
     "text": [
      "a\n",
      "A\n"
     ]
    }
   ],
   "source": [
    "#accessing \n",
    "print(nest_dict1[\"lower\"][\"in1\"])\n",
    "print(nest_dict1[\"UPPER\"][\"in1\"])"
   ]
  },
  {
   "cell_type": "code",
   "execution_count": 8,
   "id": "d3a74efb-d739-4236-beff-7619dc262745",
   "metadata": {},
   "outputs": [
    {
     "name": "stdout",
     "output_type": "stream",
     "text": [
      "{'lower': {'in1': 'a', 'in2': 'b', 'in3': 'c'}, 'UPPER': {'in1': 'A', 'in2': 'B'}}\n"
     ]
    }
   ],
   "source": [
    "#adding to an inner dictionary\n",
    "nest_dict1[\"lower\"][\"in3\"] = \"c\"\n",
    "print(nest_dict1)"
   ]
  },
  {
   "cell_type": "code",
   "execution_count": 9,
   "id": "ea3004b0-9887-4c47-b060-e88d58a59261",
   "metadata": {},
   "outputs": [
    {
     "name": "stdout",
     "output_type": "stream",
     "text": [
      "{'lower': {'in1': 'a', 'in2': 'b', 'in3': 'c'}, 'UPPER': {'in1': 'A', 'in2': 'B'}, 'number': {'in1': 1, 'in2': 2, 'in3': 3}}\n"
     ]
    }
   ],
   "source": [
    "#adding another inner dictionary\n",
    "nest_dict1[\"number\"] = {\"in1\":1,\"in2\":2,\"in3\":3}\n",
    "print(nest_dict1)"
   ]
  },
  {
   "cell_type": "code",
   "execution_count": 10,
   "id": "1d95c4a2-4b90-43fa-9a90-45ee1856886f",
   "metadata": {},
   "outputs": [
    {
     "name": "stdout",
     "output_type": "stream",
     "text": [
      "dict_keys(['lower', 'UPPER', 'number'])\n"
     ]
    }
   ],
   "source": [
    "#accessing the keys\n",
    "#to navigate through the dictionary we start at the outermost layer and work our way in\n",
    "print(nest_dict1.keys())"
   ]
  },
  {
   "cell_type": "code",
   "execution_count": 11,
   "id": "932ed339-8f12-4d5f-8941-ef6e9d97e230",
   "metadata": {},
   "outputs": [
    {
     "data": {
      "text/plain": [
       "dict_keys(['in1', 'in2', 'in3'])"
      ]
     },
     "execution_count": 11,
     "metadata": {},
     "output_type": "execute_result"
    }
   ],
   "source": [
    "nest_dict1[\"lower\"].keys()"
   ]
  },
  {
   "cell_type": "code",
   "execution_count": 12,
   "id": "9edaf117-0e9f-4cf8-bf83-1bfe5f2aeffa",
   "metadata": {},
   "outputs": [
    {
     "name": "stdout",
     "output_type": "stream",
     "text": [
      "dict_values([{'in1': 'a', 'in2': 'b', 'in3': 'c'}, {'in1': 'A', 'in2': 'B'}, {'in1': 1, 'in2': 2, 'in3': 3}])\n"
     ]
    }
   ],
   "source": [
    "#accessing the values\n",
    "print(nest_dict1.values())"
   ]
  },
  {
   "cell_type": "code",
   "execution_count": 13,
   "id": "bb5d2418-04fa-4b96-aadb-e11adace3326",
   "metadata": {},
   "outputs": [
    {
     "name": "stdout",
     "output_type": "stream",
     "text": [
      "dict_values(['a', 'b', 'c'])\n"
     ]
    }
   ],
   "source": [
    "print(nest_dict1[\"lower\"].values())"
   ]
  },
  {
   "cell_type": "code",
   "execution_count": 14,
   "id": "1d7464e4-e489-4872-a897-47ba72b38465",
   "metadata": {},
   "outputs": [
    {
     "name": "stdout",
     "output_type": "stream",
     "text": [
      "{'Lisa': {'Name': 'Rösch', 'FirstName': 'Lisa', 'Age': 33}, 'Lara': {'Name': 'August', 'FirstName': 'Lara', 'Age': 35}}\n"
     ]
    }
   ],
   "source": [
    "# a more useful example\n",
    "adressbook = {\"Lisa\":{\"Name\":\"Rösch\",\"FirstName\":\"Lisa\",\"Age\":33},\"Lara\":{\"Name\":\"August\",\"FirstName\":\"Lara\",\"Age\":35}}\n",
    "print(adressbook)"
   ]
  },
  {
   "cell_type": "markdown",
   "id": "5ea0d675-35f1-4b15-b72a-b9894c056659",
   "metadata": {},
   "source": [
    "# Exercises"
   ]
  },
  {
   "cell_type": "markdown",
   "id": "9ca318f6-b15b-4b43-ba5e-e0e84f3ad065",
   "metadata": {},
   "source": [
    "## Exercise 22 - New lists"
   ]
  },
  {
   "cell_type": "markdown",
   "id": "a88ff3b6-705d-4023-bfb7-d575eb406f32",
   "metadata": {},
   "source": [
    "Write a program that creates at least three different two-dimensional lists with different sizes.\n",
    ">One of them should contain 4 sublists with 4 elements each\n",
    ">\n",
    ">One should should contain 3 sublists with 6 elements each\n",
    ">\n",
    ">One should should contain 6 sublists with 3 elements each\n",
    "\n",
    "Print out two elements of your choice (use the indices you want) of each two-dimensional list."
   ]
  },
  {
   "cell_type": "code",
   "execution_count": 15,
   "id": "9a463c72-3900-4b99-b0e2-4f7684eca050",
   "metadata": {},
   "outputs": [
    {
     "name": "stdout",
     "output_type": "stream",
     "text": [
      "[['A', 'B', 'C', 'D'], ['a', 'b', 'c', 'd'], ['1', '2', '3', '4'], [1, 2, 3, 4]]\n"
     ]
    }
   ],
   "source": [
    "nest1 = [[\"A\",\"B\",\"C\",\"D\"],[\"a\",\"b\",\"c\",\"d\"],[\"1\",\"2\",\"3\",\"4\"],[1,2,3,4]]\n",
    "print(nest1)"
   ]
  },
  {
   "cell_type": "code",
   "execution_count": 16,
   "id": "8c4ea4bd-6c32-4975-9b75-c4b4fa93acfa",
   "metadata": {},
   "outputs": [
    {
     "name": "stdout",
     "output_type": "stream",
     "text": [
      "C\n"
     ]
    }
   ],
   "source": [
    "print(nest1[0][2])"
   ]
  },
  {
   "cell_type": "code",
   "execution_count": 17,
   "id": "cc0a323d-54b3-483e-8364-6c7122cead19",
   "metadata": {},
   "outputs": [
    {
     "name": "stdout",
     "output_type": "stream",
     "text": [
      "2\n"
     ]
    }
   ],
   "source": [
    "print(nest1[3][1])"
   ]
  },
  {
   "cell_type": "code",
   "execution_count": 18,
   "id": "b7c7d5f7-1dd8-49be-9d04-4e97652c1691",
   "metadata": {},
   "outputs": [
    {
     "name": "stdout",
     "output_type": "stream",
     "text": [
      "[[0, 1, 2, 3, 4, 5], [5, 10, 15, 20, 25, 30], ['Hallo', 'liebe', 'Welt', 'Regen', 'Sonne', 'Schnee']]\n"
     ]
    }
   ],
   "source": [
    "nest2 = [list(range(6)),list(range(5,31,5)),[\"Hallo\",\"liebe\",\"Welt\",\"Regen\",\"Sonne\",\"Schnee\"]]\n",
    "print(nest2)"
   ]
  },
  {
   "cell_type": "code",
   "execution_count": 19,
   "id": "0124eb71-6bde-4724-b4e1-682d8c5937dd",
   "metadata": {},
   "outputs": [
    {
     "name": "stdout",
     "output_type": "stream",
     "text": [
      "Schnee\n"
     ]
    }
   ],
   "source": [
    "print(nest2[2][-1])"
   ]
  },
  {
   "cell_type": "code",
   "execution_count": 20,
   "id": "45376d71-ad39-42a0-893a-c09328127ffd",
   "metadata": {},
   "outputs": [
    {
     "name": "stdout",
     "output_type": "stream",
     "text": [
      "4\n"
     ]
    }
   ],
   "source": [
    "print(nest2[0][4])"
   ]
  },
  {
   "cell_type": "code",
   "execution_count": 21,
   "id": "fe5fdfb4-cceb-41ae-a0fb-c56129b1fc15",
   "metadata": {},
   "outputs": [
    {
     "name": "stdout",
     "output_type": "stream",
     "text": [
      "[['Montag', 'Dienstag', 'Mittwoch'], ['ERBB2', 'ERBB3', 'ERBB3'], [5, 6, 7], [8, 9, 10], [0, 1, 2], ['grün', 'blau', 'gelb']]\n"
     ]
    }
   ],
   "source": [
    "nest3 = [[\"Montag\",\"Dienstag\",\"Mittwoch\"],[\"ERBB2\",\"ERBB3\",\"ERBB3\"],[5,6,7],[8,9,10],list(range(3)),[\"grün\",\"blau\",\"gelb\"]]\n",
    "print(nest3)"
   ]
  },
  {
   "cell_type": "code",
   "execution_count": 22,
   "id": "b968fd11-29e1-4d1a-b103-a8d59850bc5f",
   "metadata": {},
   "outputs": [
    {
     "name": "stdout",
     "output_type": "stream",
     "text": [
      "gelb\n"
     ]
    }
   ],
   "source": [
    "print(nest3[5][2])"
   ]
  },
  {
   "cell_type": "code",
   "execution_count": 23,
   "id": "125e159b-a4e9-48c2-8f58-df3a32aef91a",
   "metadata": {},
   "outputs": [
    {
     "name": "stdout",
     "output_type": "stream",
     "text": [
      "0\n"
     ]
    }
   ],
   "source": [
    "print(nest3[4][0])"
   ]
  },
  {
   "cell_type": "code",
   "execution_count": 24,
   "id": "15f72470-1d0a-4265-a523-9bc3299de2e0",
   "metadata": {},
   "outputs": [
    {
     "name": "stdout",
     "output_type": "stream",
     "text": [
      "[[0, 1, 2, 3, 4, 5], [5, 10, 15, 20, 25, 30], ['Hallo', 'liebe', 'Welt', 'Regen', 'Sonne', 'Schnee'], ['a', 'b', 'c', 'd']]\n"
     ]
    }
   ],
   "source": [
    "nest2.append(nest1[1].copy())\n",
    "print(nest2)"
   ]
  },
  {
   "cell_type": "code",
   "execution_count": 25,
   "id": "19e432f7-6816-435a-8686-5cc44860bfe0",
   "metadata": {},
   "outputs": [
    {
     "name": "stdout",
     "output_type": "stream",
     "text": [
      "[[0, 1, 2, 3, 4, 5, ['a', 'b', 'c', 'd']], [5, 10, 15, 20, 25, 30], ['Hallo', 'liebe', 'Welt', 'Regen', 'Sonne', 'Schnee'], ['a', 'b', 'c', 'd']]\n"
     ]
    }
   ],
   "source": [
    "nest2[0].append(nest1[1].copy())\n",
    "print(nest2)"
   ]
  },
  {
   "cell_type": "markdown",
   "id": "0e94983e-ba21-4ab5-a62f-e092a0a5b632",
   "metadata": {},
   "source": [
    "## Exercise 23 - Protein collection"
   ]
  },
  {
   "cell_type": "markdown",
   "id": "c1237496-f308-45d8-a3ea-38ccc8e66d92",
   "metadata": {},
   "source": [
    "Write a program that creates a complex dictionary in form of a protein collection. Each key of\n",
    "the dictionary „proteins“ should be associated with another dictionary as value in which the\n",
    "name, the length of the protein, the function and the location are collected. The final\n",
    "dictionary should contain information of at least two proteins. Print out the final dictionary at\n",
    "the end."
   ]
  },
  {
   "cell_type": "code",
   "execution_count": 26,
   "id": "6669ee6a-61c0-48d8-855a-b273b45ec658",
   "metadata": {},
   "outputs": [
    {
     "name": "stdout",
     "output_type": "stream",
     "text": [
      "{'EGFR': {'name': 'EGFR', 'length': 1200, 'function': 'Kinase', 'location': 'Chr7:55'}, 'ERBB2': {'name': 'ERBB2', 'length': 1255, 'function': 'Kinase', 'location': 'Chr17:39'}}\n"
     ]
    }
   ],
   "source": [
    "proteins = {\"EGFR\":{\"name\":\"EGFR\",\"length\":1200,\"function\":\"Kinase\",\"location\":\"Chr7:55\"},\"ERBB2\":{\"name\":\"ERBB2\",\"length\":1255,\"function\":\"Kinase\",\"location\":\"Chr17:39\"}}\n",
    "print(proteins)"
   ]
  },
  {
   "cell_type": "code",
   "execution_count": 27,
   "id": "9aacd377-cf41-4a5c-b81e-dc46e9b80523",
   "metadata": {},
   "outputs": [
    {
     "name": "stdout",
     "output_type": "stream",
     "text": [
      "{'EGFR': {'name': 'EGFR', 'length': 1200, 'function': 'Kinase', 'location': 'Chr7:55'}, 'ERBB2': {'name': 'ERBB2', 'length': 1255, 'function': 'Kinase', 'location': 'Chr17:39'}, 'ERBB4': {'name': 'ERBB4', 'length': 1300, 'function': 'Kinase', 'location': 'Chr2:211'}}\n"
     ]
    }
   ],
   "source": [
    "#add erbb4\n",
    "proteins[\"ERBB4\"] = {\"name\":\"ERBB4\",\"length\":1300,\"function\":\"Kinase\",\"location\":\"Chr2:211\"}\n",
    "print(proteins)"
   ]
  },
  {
   "cell_type": "code",
   "execution_count": null,
   "id": "e95c4fa5-7e88-42ac-bff3-a58e57a4eec3",
   "metadata": {},
   "outputs": [],
   "source": []
  }
 ],
 "metadata": {
  "kernelspec": {
   "display_name": "Python 3 (ipykernel)",
   "language": "python",
   "name": "python3"
  },
  "language_info": {
   "codemirror_mode": {
    "name": "ipython",
    "version": 3
   },
   "file_extension": ".py",
   "mimetype": "text/x-python",
   "name": "python",
   "nbconvert_exporter": "python",
   "pygments_lexer": "ipython3",
   "version": "3.12.2"
  }
 },
 "nbformat": 4,
 "nbformat_minor": 5
}
