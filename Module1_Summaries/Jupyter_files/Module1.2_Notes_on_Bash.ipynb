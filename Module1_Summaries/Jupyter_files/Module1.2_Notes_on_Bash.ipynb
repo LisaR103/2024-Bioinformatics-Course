{
 "cells": [
  {
   "cell_type": "markdown",
   "id": "4edad4e7-f1ce-4ffd-a0e3-318cd34e2224",
   "metadata": {},
   "source": [
    "# Table of content\n",
    "\n",
    "1. [Table of content](#Table-of-content)\n",
    "2. [Bash and Linux](#Bash-and-Linux)\n",
    "   1. [helpful websites](#helpful-websites)\n",
    "3. [Basic commands](#Basic-commands)\n",
    "     1. [man](#man)\n",
    "     2. [echo](#echo)\n",
    "4. [working directory](#working-directory)\n",
    "     1. [pwd and cd](#pwd-and-cd)\n",
    "     2. [Looking at the content of a directory](#Looking-at-the-content-of-a-directory)\n",
    "         1. [ls](#ls)\n",
    "     3. [Creating, modifying and deleting directories and files](#Creating,-modifying-and-deleting-directories-and-files)\n",
    "         1. [mkdir](#mkdir)\n",
    "         2. [touch](#touch)\n",
    "         3. [mkfile](#mkfile)\n",
    "         4. [rm/rmdir](#rm/rmdir)\n",
    "         5. [mv](#mv)\n",
    "         6. [copy](#copy)\n",
    "5. [Wildcards: * and ?](#Wildcards:-*-and-?)\n",
    "6. [Paths](#Paths)\n",
    "   1. [find](#find)\n",
    "7. [Working with the content of files](#Working-with-the-content-of-files)\n",
    "   1. [wc](#wc)\n",
    "   2. [uniq](#uniq)\n",
    "   3. [sort](#sort)\n",
    "   4. [cat](#cat)\n",
    "8. [Redirecting output](#Redirecting-output)\n",
    "9. [Pipes](#Pipes)\n",
    "10. [Permission rights](#Permission-rights)\n",
    "    1. [chmod](#chmod)\n",
    "12. [Bash scripting](#Bash-scripting)\n",
    "    1. [the shebang](#the-shebang)\n",
    "    2. [Commenting bash scripts](#Commenting-bash-scripts)\n",
    "    3. [Variables](#Variables)\n",
    "       1. [working with variable](#working-with-variables)\n",
    "       2. [creating variables](#creating-variables)\n",
    "       3. [command substitution](#command-substitution)\n",
    "       4. [predefined variables](#predefined-variables)\n",
    "       5. [Handing values to the bash script (input)](#Handing-values-to-the-bash-script-(input))\n",
    "    4. [if statements](#if-statements)\n",
    "       1. [conditions](#conditions)\n",
    "       2. [Logical operators](#Logical-operators)\n",
    "    5. [Lists in Bash](#Lists-in-bash)\n",
    "    6. [Loops](#Loops)\n",
    "       1. [for loops](#for-loops)\n",
    "       2. [while-loops](#while-loops)\n",
    "       3. [until-loops](#until-loops)\n",
    "    9. [Functions](#Functions)\n",
    "    10. [Arithmetics](#Arithmetics)\n",
    "13. [Exercises](#Exercises)\n",
    "     1. [Exercise 1 - Linux commands](#Exercise-1---Linux-commands)\n"
   ]
  },
  {
   "cell_type": "markdown",
   "id": "1da418ed-c7e1-4830-9444-5f19c7966445",
   "metadata": {},
   "source": [
    "# Bash and Linux"
   ]
  },
  {
   "cell_type": "markdown",
   "id": "b51d9053-966c-42ac-8ed0-70f371f77e52",
   "metadata": {},
   "source": [
    "## helpful websites"
   ]
  },
  {
   "cell_type": "markdown",
   "id": "633ae8a6-04c8-411e-a5a0-c7be1748d146",
   "metadata": {},
   "source": [
    "Linux commands:\n",
    "\n",
    "- https://ss64.com/bash/\n",
    "\n",
    "Bash scripting info and tutorials:\n",
    "\n",
    "- https://ryanstutorials.net/bash-scripting-tutorial/\n",
    "- https://tldp.org/LDP/Bash-Beginners-Guide/html/index.html\n",
    "- https://www.devopsschool.com/blog/shell-bash-scripting-assignment-excercise/"
   ]
  },
  {
   "cell_type": "markdown",
   "id": "05363daa-8582-4d50-a1ad-ed26635e86d6",
   "metadata": {},
   "source": [
    "# Basic commands"
   ]
  },
  {
   "cell_type": "markdown",
   "id": "9b924507-bfbd-4a6c-afa2-a1e426771882",
   "metadata": {},
   "source": [
    "All bash commands are case sensitive! ls != LS    \n",
    "bash is very sensitive to spaces. Put them where they belong and *only* where they belong\n",
    "\n",
    "- Many bash commands have options that are called with `-` for the short version or `--` for the long version    \n",
    "- Different options can be grouped\n",
    "- options always come before arguments\n",
    "- for a list of all options see: https://ss64.com/bash/\n",
    "\n",
    "Syntax for options\n",
    "\n",
    "```\n",
    "ls -la\n",
    "OR\n",
    "ls -l -a\n",
    "OR\n",
    "ls --long --all\n",
    "```\n",
    "\n",
    "- Some commands have arguments that can be / have to be called for the function to work\n",
    "- arguments always come after options\n",
    "\n",
    "Syntax for arguments\n",
    "\n",
    "```\n",
    "cd Documents\n",
    "```\n",
    "\n",
    "This example changes the working directory from the current folder to the folder Documents (as long as Documents is contained within the current wd). `cd` alone would change the working directory to the home directoy"
   ]
  },
  {
   "cell_type": "markdown",
   "id": "297dd9f0-cdb3-45d7-9700-794f6444e785",
   "metadata": {},
   "source": [
    "## man"
   ]
  },
  {
   "cell_type": "markdown",
   "id": "1347e6a5-6f83-4c56-b1d0-a63185a328a5",
   "metadata": {},
   "source": [
    "To find the documentation for a Bash command use `man`\n",
    "\n",
    "Syntax for the manual of `ls`:\n",
    "\n",
    "```\n",
    "man ls\n",
    "```\n",
    "\n",
    "Close the manual with `q`"
   ]
  },
  {
   "cell_type": "markdown",
   "id": "ff7aa886-8ea6-4231-ba5e-c04886763d2c",
   "metadata": {},
   "source": [
    "## echo"
   ]
  },
  {
   "cell_type": "markdown",
   "id": "647908d0-3c3f-403f-a64c-d749ad1be0fb",
   "metadata": {},
   "source": [
    "`echo` is the print equivalent of bash. It simply prints everythin that comes after in the terminal\n",
    "\n",
    "Syntax\n",
    "\n",
    "```\n",
    "echo Hello World!\n",
    "```\n",
    "\n",
    "`echo` without anyhting after induces an empty line in the termi"
   ]
  },
  {
   "cell_type": "markdown",
   "id": "2e7d996a-e0b6-4ac3-8e89-8d09c352fe5a",
   "metadata": {},
   "source": [
    "# working directory"
   ]
  },
  {
   "cell_type": "markdown",
   "id": "8241d4cc-0e69-43c9-a3d9-7562668584fb",
   "metadata": {},
   "source": [
    "## pwd and cd"
   ]
  },
  {
   "cell_type": "markdown",
   "id": "d05218b4-e114-42a8-8d08-e1ae93eb2c0d",
   "metadata": {},
   "source": [
    "when working in a terminal there always is a working directory it is associated with at this moment\n",
    "\n",
    "The command `pwd` shows the current working directory. `~` is short for the home directory (for me: `/Users/Lisa`)\n",
    "\n",
    "The working directory is changed with the command `cd`  \n",
    "\n",
    "- without an argument `cd` changes to the home directory\n",
    "- arguments can be directories (= folders) in the working directory or the absolute path of a directory\n",
    "- the abbreviation `..` stands for the parent folder, i.e. going *up* in the directory tree"
   ]
  },
  {
   "cell_type": "markdown",
   "id": "3f2cb85f-d0ab-45b2-9096-4ad82ffcbf14",
   "metadata": {},
   "source": [
    "```\n",
    "MacBook-Pro:Exercises Lisa$ pwd\n",
    "/Users/Lisa/Documents/Lisa/Arbeit/FortbildungBioinformatik/ABI-2024-1_Course-Materials/Teaching_materials/Module 1 - Introduction to programming and python/1.2 Introduction to Linux/Exercises\n",
    "    \n",
    "MacBook-Pro:Exercises Lisa$ cd HomeFolder\n",
    "    \n",
    "MacBook-Pro:HomeFolder Lisa$ pwd\n",
    "/Users/Lisa/Documents/Lisa/Arbeit/FortbildungBioinformatik/ABI-2024-1_Course-Materials/Teaching_materials/Module 1 - Introduction to programming and python/1.2 Introduction to Linux/Exercises/HomeFolder\n",
    "\n",
    "MacBook-Pro:HomeFolder Lisa$ cd ..\n",
    "    \n",
    "MacBook-Pro:Exercises Lisa$ pwd\n",
    "/Users/Lisa/Documents/Lisa/Arbeit/FortbildungBioinformatik/ABI-2024-1_Course-Materials/Teaching_materials/Module 1 - Introduction to programming and python/1.2 Introduction to Linux/Exercises\n",
    "```\n"
   ]
  },
  {
   "cell_type": "markdown",
   "id": "803fc8e3-f4f9-4b1f-9b11-e5b7c903ee3a",
   "metadata": {},
   "source": [
    "## Looking at the content of a directory"
   ]
  },
  {
   "cell_type": "markdown",
   "id": "a91c80ec-8a9a-482b-b62c-f1c046126b15",
   "metadata": {},
   "source": [
    "### ls"
   ]
  },
  {
   "cell_type": "markdown",
   "id": "a54a056f-5405-4bc1-ab18-611114c4ea34",
   "metadata": {},
   "source": [
    "The command `ls` displays all directories and files in a directory.\n",
    "\n",
    "- if used without an argument it displays the contents of the current working directory\n",
    "- arguments can be child directories of the wd or absolute or relative paths to directories\n",
    "\n",
    "Default listing is Numbers, Upper case A-Z, lowercase a-z\n",
    "\n",
    "Options\n",
    "\n",
    "- -l (long, details of content)\n",
    "- -a (all, show hidden files)\n",
    "- -t (sort by timestamp)\n",
    "- -r (show in reverse order)"
   ]
  },
  {
   "cell_type": "markdown",
   "id": "7ca1c55d-b8ff-476f-b45a-2820f0cc0a29",
   "metadata": {},
   "source": [
    "```\n",
    "MacBook-Pro:Exercises Lisa$ ls\n",
    "ExercisesScripts\tHomeFolder\n",
    "\n",
    "MacBook-Pro:Exercises Lisa$ ls /Users/Lisa\n",
    "Calibre Library\tDownloads\tMusic\t\tSites\n",
    "Desktop\t\t    Library\t\tPictures\tUntitled.ipynb\n",
    "Documents     \tMovies\t\tPublic\t\tUntitled1.ipynb\n",
    "    \n",
    "MacBook-Pro:Exercises Lisa$ ls\n",
    "ExercisesScripts\tHomeFolder\n",
    "\n",
    "MacBook-Pro:Exercises Lisa$ ls HomeFolder\n",
    "ABI_Files-Bash\t\t\tNGS\n",
    "Alignments\t\t\tPython\n",
    "Biopython\t\t\tStatistics\n",
    "Databases\t\t\tStringMethods\n",
    "GUIs\t\t\t\tStructural_Bioinformatics\n",
    "Linux\t\t\t\tWorking_with_Strings\n",
    "Linux2\n",
    "\n",
    "MacBook-Pro:Exercises Lisa$ ls -l\n",
    "total 0\n",
    "drwxr-xr-x   4 Lisa  staff  128 Feb 29 15:02 ExercisesScripts\n",
    "drwxr-xr-x@ 16 Lisa  staff  512 Feb 29 20:24 HomeFolder\n",
    "```\n",
    "\n",
    "what the details mean:\n",
    "\n",
    "- the first letter is the file type\n",
    "  - d = directory; - = file, l = link\n",
    "- the next three letters (rwx here) are the owner permissions\n",
    "- the next three letters (r-x here) are the group permissions\n",
    "- the next three letters (r-x here) are the world permissions\n",
    "- in my case this is sometimes followed by @, which probably indicates that this file is associated with a particular program\n",
    "- the number of hard links\n",
    "- th Owner (me)\n",
    "- the group (staff)\n",
    "- File size in bytes\n",
    "- Modification date\n",
    "- Name"
   ]
  },
  {
   "cell_type": "markdown",
   "id": "239fbe8b-9c00-4077-ae21-77883d290319",
   "metadata": {},
   "source": [
    "## Creating, modifying and deleting directories and files"
   ]
  },
  {
   "cell_type": "markdown",
   "id": "c2d6de01-8743-4c72-b791-4bf9c78b8149",
   "metadata": {},
   "source": [
    "### mkdir"
   ]
  },
  {
   "cell_type": "markdown",
   "id": "807892c7-a38f-4730-ae95-214fbe43e616",
   "metadata": {},
   "source": [
    "The command `mkdir` creates directories *as long as they don't already exist*\n",
    "\n",
    "- the new directory is a child of the current workind directory\n",
    "- `mkdir` takes multiple arguments, i.e. several directories can be created in one directory at the same time\n",
    "\n",
    "Syntax\n",
    "\n",
    "```\n",
    "mkdir Name_of_new_Directory1 Name_of_new_Directory2\n",
    "```"
   ]
  },
  {
   "cell_type": "markdown",
   "id": "e54053b0-72f3-4e01-b272-26ba54a98599",
   "metadata": {},
   "source": [
    "Example:\n",
    "\n",
    "```\n",
    "MacBook-Pro:Exercises Lisa$ ls -l\n",
    "total 0\n",
    "drwxr-xr-x   4 Lisa  staff  128 Feb 29 15:02 ExercisesScripts\n",
    "drwxr-xr-x@ 16 Lisa  staff  512 Feb 29 20:24 HomeFolder\n",
    "\n",
    "MacBook-Pro:Exercises Lisa$ mkdir Scripts\n",
    "\n",
    "MacBook-Pro:Exercises Lisa$ ls -l\n",
    "total 0\n",
    "drwxr-xr-x   4 Lisa  staff  128 Feb 29 15:02 ExercisesScripts\n",
    "drwxr-xr-x@ 16 Lisa  staff  512 Feb 29 20:24 HomeFolder\n",
    "drwxr-xr-x   2 Lisa  staff   64 Mar  1 08:59 Scripts\n",
    "```"
   ]
  },
  {
   "cell_type": "markdown",
   "id": "5c611846-d00b-4690-9e3d-9114559a4c34",
   "metadata": {},
   "source": [
    "### touch"
   ]
  },
  {
   "cell_type": "markdown",
   "id": "bbef4484-9007-4521-a232-c3b72c70b0e9",
   "metadata": {},
   "source": [
    "With the command `touch` an empty text file is created in the working directory     \n",
    "optional the relative or absolute path of the file may be given (but this will get confusing fast)\n",
    "\n",
    "- multiple files can be created by multiple arguments\n",
    "- if the file already exists the command is not carried out and the existing file is not changed\n",
    "\n",
    "Syntax\n",
    "\n",
    "```\n",
    "touch File1.txt Directory1/File2.sh\n",
    "```\n",
    "\n",
    "Note that it always creates an empty *text file* even if the extension is not .txt "
   ]
  },
  {
   "cell_type": "markdown",
   "id": "bec5e922-2011-4003-8411-6fa45d575b49",
   "metadata": {},
   "source": [
    "### mkfile"
   ]
  },
  {
   "cell_type": "markdown",
   "id": "3db4bdef-c520-43d4-9dcf-f740705181f5",
   "metadata": {},
   "source": [
    "Like touch mkfile creates files, however, while touch creates empty files, mkfile needs to have space allocated to it, even if it's just a byte.\n",
    "\n",
    "```\n",
    "mkfile size file\n",
    "```\n",
    "\n",
    "e.g.\n",
    "\n",
    "```\n",
    "mkfile 1 file.txt\n",
    "```"
   ]
  },
  {
   "cell_type": "markdown",
   "id": "19aa0071-f4d4-4262-a0e4-ff0f69d50c98",
   "metadata": {},
   "source": [
    "### rm/rmdir"
   ]
  },
  {
   "cell_type": "markdown",
   "id": "cdddcdb1-69a1-4b63-90c0-4483b910b85a",
   "metadata": {},
   "source": [
    "These commands permanently delete files/directories without further warning so be careful what you delete!\n",
    "\n",
    "*Empty* directories can be deleted with `rmdir`. This takes several arguments so multiple directories (in the wd) can be deleted at the same time.\n",
    "\n",
    "```\n",
    "rmdir EmptyDirectory1 EmptyDirectory2\n",
    "```\n",
    "\n",
    "Files are deleted with `rm`. This takes several arguments so multiple files (in the wd) can be deleted at the same time.\n",
    "\n",
    "```\n",
    "rm File1.txt File2.sh\n",
    "```\n",
    "\n",
    "Directories with (or without) contents are deleted with `rm` using the option `-r`\n",
    "\n",
    "```\n",
    "rm -r Directory_with_contents1 EmptyDirectory2\n",
    "```"
   ]
  },
  {
   "cell_type": "markdown",
   "id": "9023ea88-2bf2-485d-9551-25184e6f4bad",
   "metadata": {},
   "source": [
    "### mv"
   ]
  },
  {
   "cell_type": "markdown",
   "id": "f791eb4b-7969-4bfd-97bd-2ce1ba01d0cb",
   "metadata": {},
   "source": [
    "The command `mv` moves or renames files and directories\n",
    "\n",
    "- *be careful if the file already exists as it will be **overwritten***\n",
    "- only one file or directory can be renamed/moved at one time\n",
    "- mv takes two arguments\n",
    "  - the file/directory we want to move/rename (accepts wildcards)\n",
    "  - the new name/new location (doesn't accept wildcards)    \n",
    "    If it's location the path needs to be included (can be absolute or relative paths) and the directory needs to exist, otherwise the file is just renamed!!\n",
    " \n",
    "Examples:\n",
    "```\n",
    "mv file1.txt file2.txt\n",
    "```\n",
    "This renames file1 to file2\n",
    "\n",
    "```\n",
    "mv file1.txt Directory1/file1.txt\n",
    "```\n",
    "This moves file1 into the child directory of the wd called Directory1. The name stays the same\n",
    "\n",
    "```\n",
    "mv file1.txt Directory1/file2.txt\n",
    "```\n",
    "This moves file1 into the child directory of the wd called Directory1 and changes the name to file2.txt\n",
    "\n",
    "```\n",
    "mv Directory1 Directory2/Directory3\n",
    "```\n",
    "This moves Directory1 into the child directory of the wd called Directory2 and changes the name to Directory3\n",
    "\n",
    "```\n",
    "mv file1.txt ..\n",
    "```\n",
    "This moves file1 into the parent directory of the wd \n"
   ]
  },
  {
   "cell_type": "markdown",
   "id": "894f0fa8-9221-4fa3-b9fc-dc4a2956b5ca",
   "metadata": {},
   "source": [
    "### copy"
   ]
  },
  {
   "cell_type": "markdown",
   "id": "12e6fab7-7e36-436d-8138-b934c52b9ca7",
   "metadata": {},
   "source": [
    "The command `copy` copied files and directories\n",
    "\n",
    "- it takes two arguments\n",
    "  - the the file/directory we want to copy (accepts wildcards)\n",
    "  - the new name and or new location (doesn't accept wildcards)      \n",
    "    *careful if the name already exists as copy will overwrite it without warning*\n",
    "- the default behaviour is for files only\n",
    "  - the option `-r` allows to copy directories and all their content\n",
    "\n",
    "Examples\n",
    "\n",
    "```\n",
    "cp test.txt test2.txt\n",
    "```\n",
    "This creates a duplicate of the file test called test2\n",
    "\n",
    "```\n",
    "cp -r test_dir test_dir_copy\n",
    "```\n",
    "This creates a duplicate of the directory test_dir called test_dir_copy\n",
    "\n",
    "```\n",
    "cp test.txt test_dir/test.txt\n",
    "```\n",
    "This creates a copy of the file test in the directory test_dir"
   ]
  },
  {
   "cell_type": "markdown",
   "id": "3dd1b592-021f-42c2-95c4-89e00cc26f4d",
   "metadata": {},
   "source": [
    "# Wildcards: * and ?"
   ]
  },
  {
   "cell_type": "markdown",
   "id": "1e37205e-9ab7-4cba-9672-aede38428cd0",
   "metadata": {},
   "source": [
    "Wildcards are placeholders to find/access/move/copy etc. etc. many files at once as long as they have similarities, e.g. all the same extension    \n",
    "\n",
    "There are two wildcards: `*` and `?`\n",
    "\n",
    "- `*` represents 0 or more symbols/characters\n",
    "- `?` represents *exactly one* symbol/character\n",
    "\n",
    "Examples:\n",
    "```\n",
    "ls magic*\n",
    "```\n",
    "This shows all files and direcotires starting with the word magic\n",
    "\n",
    "```\n",
    "ls *magic*\n",
    "```\n",
    "This shows all files and direcotires containing the word magic\n",
    "\n",
    "```\n",
    "ls magic?*.txt\n",
    "```\n",
    "This shows all txt files that start with magic and have at least one character following\n",
    "\n",
    "```\n",
    "ls */*\n",
    "```\n",
    "This shows all directories and subdirectories (one level)) in the current working directory"
   ]
  },
  {
   "cell_type": "markdown",
   "id": "4abdb1d8-12a8-44fb-809c-b098456b2b2a",
   "metadata": {},
   "source": [
    "# Paths"
   ]
  },
  {
   "cell_type": "markdown",
   "id": "e27f6506-f304-47a5-9ca0-c194038671ab",
   "metadata": {},
   "source": [
    "Paths refer to a file or directory's locaation in the filesystem\n",
    "\n",
    "- absolute paths\n",
    "  - start with `/`\n",
    "  - start at the lowest level, i.e. the home direcoty, which can be abbreviated with `~` (/Users/Lisa)\n",
    "- relative paths\n",
    "  - no leading `/`\n",
    "  - relative to the current working directory\n",
    "  - mainly goes down into the children directories\n",
    "  - we can go one level up with `..` (abbreviation for the parent directory) "
   ]
  },
  {
   "cell_type": "markdown",
   "id": "6049b15b-3f70-4127-a171-2290e7b24ea9",
   "metadata": {},
   "source": [
    "## find\n",
    "\n",
    "the command `find` allows to search for files based on different criteria, which are called by different options\n",
    "\n",
    "Syntax\n",
    "\n",
    "```\n",
    "find [path_to_search][option1 criterium][option2 criterium]\n",
    "```\n",
    "\n",
    "path\n",
    "\n",
    "- can be absolute or relative\n",
    "- if not specified it is the working directory (this will only work for some bash versions, so try never to use it this way)\n",
    "  - this only works if no options are included and we only search *in* the wd by name, e.g. `find *.sh`)\n",
    "  - this then works similarly to `ls`\n",
    "  - in all other cases the path needs to be specified\n",
    "- `.` specifies the working directory\n",
    "- we search the path and *all the children directories* of the path\n",
    "\n",
    "options for `find`\n",
    "\n",
    "- if no option is specified everything in the path specified is shown\n",
    "-  `-name`: Search according to name, accepts wildcards\n",
    "- `-iname`: Search according to name, case insensitive, accepts wildcards\n",
    "- `-type`: search for file type (7 possibilities, but important are only: \"f\" for file or \"d\" for directory)\n",
    "- `-mmin`: files/directories last modified more than (`+`), less than (`-`) or exactly (no preceding sign) n minutes ago, where n is a whole number (e.g. `-mmin -60` for files modified in the last 1 h)\n",
    "  - related: `-amin` and `-cmin` for when it was last accessed / changed (i.e. moved, copied, renamed, access rights changed etc.). modified means content was changed\n",
    "- `-mtime`: files/directories last modified more than (`+`), less than (`-`) or exactly (no preceding sign) n*24 hours ago, where n is a whole number (e.g. `-mtime -1` for files modified in the last day)\n",
    "  - also: `-atime` `-ctime` \n",
    "- `-size`: for file size\n",
    "- many more, see [Linux commands](#helpful-websites)"
   ]
  },
  {
   "cell_type": "markdown",
   "id": "4875813d-f4ce-4ee4-95a9-fdaeca0a1df6",
   "metadata": {},
   "source": [
    "# Working with the content of files"
   ]
  },
  {
   "cell_type": "markdown",
   "id": "7946f7f6-110d-423a-9947-f819d84c14ce",
   "metadata": {},
   "source": [
    "## wc"
   ]
  },
  {
   "cell_type": "markdown",
   "id": "1177500f-c315-4297-8789-3ac48bcf84c5",
   "metadata": {},
   "source": [
    "Counts how many lines, words and characters a file contains\n",
    "\n",
    "- takes several arguments, so we can look at several files at the same time\n",
    "- only makes sense with text documents, e.g. .docx documents have way too much bullshit associated with them\n",
    "- works with wildcards\n",
    "- options are `-l` (only lines), `-w` (only words), `-c` (only characters), `-L` (length of the longest line) or any combination thereof\n",
    "- Result is displayed in the order: line - words - characters\n",
    "\n",
    "Syntax\n",
    "\n",
    "```\n",
    "wc file1.txt file2.txt\n",
    "```\n",
    "\n",
    "Example:\n",
    "\n",
    "```\n",
    "MacBook-Pro:ExercisesScripts Lisa$ wc *.sh\n",
    "          18      35     300 Exercise14.sh\n",
    "          38     114     793 Exercise15.sh\n",
    "          50     110     707 Exercise16.sh\n",
    "          20      36     287 Exercise17.sh\n",
    "          22      87     607 Exercise18.sh\n",
    "          10      14     110 Test.sh\n",
    "         158     396    2804 total\n",
    "```\n",
    "\n",
    "Again, the output order is: Line - Words - Characters\n"
   ]
  },
  {
   "cell_type": "markdown",
   "id": "132bebf6-f356-4172-8817-5fec84a2e9aa",
   "metadata": {},
   "source": [
    "## uniq"
   ]
  },
  {
   "cell_type": "markdown",
   "id": "f4a8edf9-943a-454c-9889-fb8ba795204f",
   "metadata": {},
   "source": [
    "The command `uniq` displays only lines that are unique in a certain file into the terminal\n",
    "\n",
    "- works only if the duplicates are written directly underneath each other!\n",
    "- usually used in combination with `sort`\n",
    "- Note that `uniq` also recongized line breaks at the end of a line as a character and that windows and linux linebreaks are different and recongized as being different!\n",
    "\n",
    "Syntax\n",
    "\n",
    "```\n",
    "uniq file.txt\n",
    "```\n",
    "\n",
    "options:\n",
    "\n",
    "- `-d`: shows duplicate lines\n",
    "- `-c`: counts the number of unique lines\n",
    "- `-i`: ignores case sensitivity\n",
    "- `-s`: skip some letters before looking for uniqueness"
   ]
  },
  {
   "cell_type": "markdown",
   "id": "ca3b7eab-6085-4706-a77f-c03b5b7e7774",
   "metadata": {},
   "source": [
    "## sort"
   ]
  },
  {
   "cell_type": "markdown",
   "id": "b0679dd3-7d6c-468e-a28c-0c00930a0db6",
   "metadata": {},
   "source": [
    "The command `sort` reads a file, sorts the contents and displays them into the terminal\n",
    "\n",
    "- Order: Spaces, special characters, Numbers, Uppercase A-Z, lowercase a-z\n",
    "- takes more than one argument to sort and display more than one file. Careful! The results are all displayed together\n",
    "\n",
    "Syntax\n",
    "\n",
    "```\n",
    "sort file1.txt file2.txt\n",
    "```\n",
    "\n",
    "options:\n",
    "\n",
    "- `-n`: Sort fields numerically by arithmetic value\n",
    "  - before: 1-10-2-Z-a, now Z-a-1-2-10 \n",
    "- `-r`: show in reverse order\n",
    "- `-f`: ignores case sensitivity (! unlike others where case insentivity is usually `-i`)\n",
    "- `-i`: Ignore all non-printable characters\n",
    "- `-b`: ignore leading blanks\n",
    "- `-M`: according to month. Careful! This recognizes month abbreviations according to language settings of the operating system!!"
   ]
  },
  {
   "cell_type": "markdown",
   "id": "27599169-68e9-407c-ae33-65cdcf4cda2f",
   "metadata": {},
   "source": [
    "## cat"
   ]
  },
  {
   "cell_type": "markdown",
   "id": "5bd02618-e0cf-499d-b726-12279de0d6c3",
   "metadata": {},
   "source": [
    "cat is short for concatenate and is used to combine the contents of files and display the result in the terminal\n",
    "\n",
    "- `cat` used on a single file simply displays that file (in its entirety) in the terminal as is\n",
    "- `cat` used on multiple files shows them one after the other (but as one)\n",
    "- `cat` uses wildcards\n",
    "\n",
    "Syntax\n",
    "\n",
    "```\n",
    "cat file1.txt file2.txt\n",
    "```\n",
    "\n",
    "options:\n",
    "\n",
    "- `n`: number output lines\n",
    "- `b`: number non-blank output lines\n",
    "\n",
    "Note: Since cat shows the whole file this can be rather confusing in the terminal. If just a quick overview is needed use `head` \n",
    "\n",
    "Note2: If redirecting the output of `cat` into a file, never concatenate it back into itself (-> infinity loop), always `cat` into a new file\n",
    "\n",
    "Note3: If i want to include the original file names into the new file I have to include find:\n",
    "\n",
    "```\n",
    "find . -type f -name \"*magic*\" -print -exec cat {} \\; > newmagicfile.txt\n",
    "```\n",
    "\n",
    "`find`    = linux `find` command finds filenames, see `man find` for more info     \n",
    "`.`       = in current directory     \n",
    "`-type f` = only files, not directories     \n",
    "`-name \"*magic*\"` = filename has to contain magic     \n",
    "`-print`  = show found file     \n",
    "`-exec`  = additionally execute another linux command     \n",
    "`cat`     = linux `cat` command, see `man cat`, displays file contents     \n",
    "`{}`      = placeholder for the currently found filename     \n",
    "`\\;`      = tell `find` command that it ends now here     \n",
    "`> newmagicfile.txt` = redirect output to file     "
   ]
  },
  {
   "cell_type": "markdown",
   "id": "9f42c1f8-034e-4d8f-bfdc-620b7aae79c9",
   "metadata": {},
   "source": [
    "# Redirecting output"
   ]
  },
  {
   "cell_type": "markdown",
   "id": "26845493-8854-4d51-90e8-a54d7958024d",
   "metadata": {},
   "source": [
    "Any output that is usually displayed in the terminal (e.g. as a result of sort or uniq) can be redirected into a file using either `>` or `>>` \n",
    "\n",
    "- if the file doesn't exist it is created\n",
    "- for `>`: if the file *does* exist it is *overwritten*\n",
    "- for `>>`: if the file *does* exist it is *extended*\n",
    "\n",
    "Syntax for a new file/file to be overwritten:\n",
    "\n",
    "```\n",
    "command > file\n",
    "```\n",
    "\n",
    "Syntax to *add* to the content of a file:\n",
    "\n",
    "Syntax\n",
    "\n",
    "```\n",
    "command >> file\n",
    "```\n",
    "\n",
    "Example\n",
    "\n",
    "```\n",
    "find . -name \"*.txt\" > files.txt\n",
    "find . -name \"*.zip\" >> files.txt\n",
    "```"
   ]
  },
  {
   "cell_type": "markdown",
   "id": "cd504f58-f645-4f4f-94e4-88ca1bd9dc11",
   "metadata": {},
   "source": [
    "# Pipes"
   ]
  },
  {
   "cell_type": "markdown",
   "id": "b8b9863f-a0c2-40d2-b7ab-71708f7d7944",
   "metadata": {},
   "source": [
    "Some terminal outputs can be redirected into files. Similary some command outputs can be used as inputs for the next command using the pipe operator `|`. We can pipe any number of commands together and even redirect their fional output into a file\n",
    "\n",
    "Example: adding two text files together and then sorting the result, taking only unique lines and saving\n",
    "\n",
    "```\n",
    "cat decksmagic.txt magicprecons.txt | sort | uniq > magicfile.txt\n",
    "```"
   ]
  },
  {
   "cell_type": "markdown",
   "id": "02bef859-5cba-4953-9417-a9fbecb46b97",
   "metadata": {},
   "source": [
    "# Permission rights"
   ]
  },
  {
   "cell_type": "markdown",
   "id": "d2b07d19-7956-4379-9ec7-99428219d5a1",
   "metadata": {},
   "source": [
    "every file has reading (r), writing (w) and executing (x) permissions that can be adjusted by the owner.\n",
    "\n",
    "The owner is the user who created the file (or opened a .zip file, which turns the user into the owners of these files)\n",
    "\n",
    "There are three types of permission levels: user - group - others (world)\n",
    "\n",
    "- user is the owner if he created the file (u)\n",
    "- group is defined, otherwise it's just the owner (g)\n",
    "- others is the whole world (o)\n",
    "\n",
    "Permissions can be accessed using `ls -l`, which shows something like the following:\n",
    "\n",
    "```\n",
    "drwxr--r--\n",
    "```\n",
    "\n",
    "- the first letter is the file type\n",
    "  - d = directory; - = file, l = link\n",
    "- the next three letters (rwx here) are the owner permissions\n",
    "- the next three letters (r-- here) are the group permissions\n",
    "- the next three letters (r-- here) are the world permissions\n",
    "- in my case this is sometimes followed by @, which probably indicates that this file is associated with a particular program\n",
    "\n",
    "\n"
   ]
  },
  {
   "cell_type": "markdown",
   "id": "9b3f56bf-5e01-4b73-b359-3e7447727311",
   "metadata": {},
   "source": [
    "## chmod"
   ]
  },
  {
   "cell_type": "markdown",
   "id": "5f49d741-e2da-440e-9311-ac2f9a39f843",
   "metadata": {},
   "source": [
    "Onyl the owner, i.e. the creator of the files can change permission rights. If you have files on a stick they are not recognized as your own     \n",
    "This is done using the command `chmod`     \n",
    "\n",
    "\n",
    "Syntax:\n",
    "\n",
    "```\n",
    "chmod L1oL2 filename\n",
    "```\n",
    "\n",
    "where\n",
    "\n",
    "- L1 is any combination of\n",
    "  - `u` (user)\n",
    "  - `g` (group)\n",
    "  - `o` (other)\n",
    "  - `a` (all of the above)\n",
    "- L2 is any combination of\n",
    "  - `r` (read)\n",
    "  - `w` (write)\n",
    "  - `x` (execute)\n",
    "- o is either\n",
    "  - `+` (grant)\n",
    "  - `-`(deny) \n",
    "\n",
    "e.g. `chmod u+x file.sh` grants execution rights to the owner of the file file.sh, while `chmod go-r file.sh` takes reading rights away from group and world for the same file\n",
    "\n",
    "Several files may be changed at the same time using wildcards     \n",
    "e.g. `chmod u+x *.sh` makes all `.sh` files in the working directory executable\n"
   ]
  },
  {
   "cell_type": "markdown",
   "id": "84ae9d68-60df-4ac1-bf7f-9be32bef07d8",
   "metadata": {},
   "source": [
    "# Bash scripting"
   ]
  },
  {
   "cell_type": "markdown",
   "id": "3150bb54-4bad-4085-b728-2dc9a83ec196",
   "metadata": {},
   "source": [
    "Bash scripts are plain text files that contain a series of bash commands written underneath each other\n",
    "\n",
    "- they are usually saved with the extension `.sh` This is not strictly necessary, but makes it easier to recognize\n",
    "- the linebreaks have to be linux linebreaks (LF (Unix) lineendings). This can be easily checked in Atom\n",
    "- the first line of the bash script has to define the interpreter (`#!/bin/bash`)\n",
    "- bash scripts are generally very robust. If something doesn't work the rest of the script is still executed\n",
    "\n",
    "Necessary steps to make a script work\n",
    "\n",
    "1. write it. Include the shebang!\n",
    "2. Make it executable (e.g. `chmod u+x example.sh`), this only has to be done the frist time\n",
    "3. Run it\n",
    "   - scripts in the working directory are started with `./example.sh`. Alernatively to `./` the absolute path may be used"
   ]
  },
  {
   "cell_type": "markdown",
   "id": "054a96c0-1947-4784-adf7-90b994d11ad6",
   "metadata": {},
   "source": [
    "A simple example:"
   ]
  },
  {
   "cell_type": "markdown",
   "id": "6631ad21-86fe-46c7-9266-e2e9e0d6a841",
   "metadata": {},
   "source": [
    "```\n",
    "#!/bin/bash\n",
    "echo Hello World!\n",
    "```"
   ]
  },
  {
   "cell_type": "markdown",
   "id": "d01ce444-cfdd-4909-ab39-28b28d7fa4f1",
   "metadata": {},
   "source": [
    "## the shebang"
   ]
  },
  {
   "cell_type": "markdown",
   "id": "dec5c3dd-1edf-4073-853f-24511d4195ed",
   "metadata": {},
   "source": [
    "At the beginning of the script you have to define the interpreter (bash). This is done by the shebang (#!) and is followed by the absolute path to the programm or interpreter (here bash) we want to run\n",
    "\n",
    "Syntax:\n",
    "\n",
    "```\n",
    "#!/bin/bash\n",
    "```\n",
    "\n",
    "- this is *ALWAYS* the *very first* line (not even preceded by an emtpy line)\n",
    "- no spaces in this line!\n",
    "- always start the script this way to ensure there are no troubles later on\n",
    "\n",
    "if we e.g. want to work with python through the terminal this would work as well"
   ]
  },
  {
   "cell_type": "markdown",
   "id": "d0097086-6ae6-4b26-8655-556ad88a5f02",
   "metadata": {},
   "source": [
    "## Commenting bash scripts"
   ]
  },
  {
   "cell_type": "markdown",
   "id": "cc06f0bf-0899-4b05-95f0-147cec327146",
   "metadata": {},
   "source": [
    "Bash scripts can be commented by starting a line with `#` \n",
    "\n",
    "Unlike python there are only single line comments. All comments have to start with `#`"
   ]
  },
  {
   "cell_type": "markdown",
   "id": "b8564ba2-3f74-4ffd-9b36-f2ac44b409d2",
   "metadata": {},
   "source": [
    "## Variables"
   ]
  },
  {
   "cell_type": "markdown",
   "id": "14509421-d299-43bb-8b4d-f52b02c455ef",
   "metadata": {},
   "source": [
    "### working with variables"
   ]
  },
  {
   "cell_type": "markdown",
   "id": "81ada260-c308-4986-8732-8ddfd81ebfcb",
   "metadata": {},
   "source": [
    "To get access to the variable we need to include `$` before the variable name. Otherwise it is just interpreted as a text/bash command (whatever bash would expect at this point)\n",
    "\n",
    "Example:\n",
    "\n",
    "```\n",
    "echo $myname\n",
    "```"
   ]
  },
  {
   "cell_type": "markdown",
   "id": "d7cf0fc2-a050-43a5-a72b-c48043aa5572",
   "metadata": {},
   "source": [
    "### creating variables"
   ]
  },
  {
   "cell_type": "markdown",
   "id": "aea91f1c-49bd-4294-97b5-74ca88f124c5",
   "metadata": {},
   "source": [
    "Similar to Python an R we can define variables in a Bash script\n",
    "\n",
    "- we can define strings, integers and floats\n",
    "- strings only need \"\" if they rae more than one word\n",
    "- no spaces between variablename = and variablevalue\n",
    "- variablenames cannot have spaces\n",
    "- if the string has more than one word \"\" are needed\n",
    "\n",
    "Syntax\n",
    "\n",
    "```\n",
    "myname=Lisa\n",
    "myage=34\n",
    "myhours=39.5\n",
    "myfullname=\"Lisa Rösch\"\n",
    "```"
   ]
  },
  {
   "cell_type": "markdown",
   "id": "709f84f7-5cae-4cf3-a156-002661aebadd",
   "metadata": {},
   "source": [
    "### command substitution"
   ]
  },
  {
   "cell_type": "markdown",
   "id": "50751422-1f38-45e6-902f-d4bd233096cb",
   "metadata": {},
   "source": [
    "To use the output of a command we can define it to a variable, e.g. to store a file path\n",
    "\n",
    "- the output of any command (even pipes) can be used. Be aware that the output of commands may differ significantly depending on input \n",
    "\n",
    "Syntax (note the spaces behind the opening and before the closing brackets!!) \n",
    "\n",
    "```\n",
    "variablename=$( command )\n",
    "```"
   ]
  },
  {
   "cell_type": "markdown",
   "id": "5111ece7-fbe4-4b9d-85de-30fb6e318107",
   "metadata": {},
   "source": [
    "### predefined variables"
   ]
  },
  {
   "cell_type": "markdown",
   "id": "de204a9c-f470-4176-9e02-0d52b9ddcb04",
   "metadata": {},
   "source": [
    "There are some predefined variables. For arguments handed over (lines 2-4) see [below](#Handing-values-to-the-bash-script-(input))\n",
    "\n",
    "| variable | Meaning | \n",
    "|:---|:---|\n",
    "|`$0` |Name of the bash script|\n",
    "| `$1` - `${99}`|Arguments handed over, from 10 needs {}, can go *high*|\n",
    "| `$#`|Number of arguments handed over (even if they aren't used)|\n",
    "| `$@`|All arguments handed over|\n",
    "| `$USER`|The name of the user running the script (equivalent to `whoami`)|\n",
    "| `$SECONDS`|seconds since the script was started|\n",
    "| `$RANDOM`|A random number that changes every time it is referenced|"
   ]
  },
  {
   "cell_type": "markdown",
   "id": "5d7eca1b-25ed-4bb6-af90-30c5794f29f8",
   "metadata": {},
   "source": [
    "### Handing values to the bash script (input)"
   ]
  },
  {
   "cell_type": "markdown",
   "id": "aa8be423-e4e5-4c6c-a4f2-ff869e901ea6",
   "metadata": {},
   "source": [
    "It is possible to define arguments that are to be handed over to the script when it is executed\n",
    "\n",
    "Syntax for the execution:\n",
    "\n",
    "```\n",
    "./script.sh argument1 argument2 argument3\n",
    "```\n",
    "\n",
    "- Inside the script we access them using `$1`,...,`$9`,`${10}`,... \n",
    "- the order of the argument is determined by the order they are given.\n",
    "  - `$1` refers to argument1 etc.\n",
    "- If an argument is not given the script will run on and just react accordingly (empty lines, error messages)"
   ]
  },
  {
   "cell_type": "markdown",
   "id": "7a9cb8f5-23c0-489d-912c-0fc079f43145",
   "metadata": {},
   "source": [
    "## if statements"
   ]
  },
  {
   "cell_type": "markdown",
   "id": "2f77d708-bbf8-4dc0-b01a-40cb6c05cc59",
   "metadata": {},
   "source": [
    "If statements can be included to run parts of the code only if a certain condition is fulfilled    \n",
    "\n",
    "- Unlike R and Pythin we have to actively close the statement with the keyword `fi`\n",
    "- `elif` and `else` are optional\n",
    "- nested if statements are possible\n",
    "\n",
    "\n",
    "Syntax, again note the spaces in the lines of `if` and `elif`!!\n",
    "\n",
    "```\n",
    "if [ <some test> ]\n",
    "then\n",
    "    <commands>\n",
    "elif [ <some test> ]\n",
    "then\n",
    "    <commands>\n",
    "else\n",
    "    <commands>\n",
    "fi\n",
    "```"
   ]
  },
  {
   "cell_type": "markdown",
   "id": "903e79b2-99af-4793-af26-663a3cbb181a",
   "metadata": {},
   "source": [
    "### conditions"
   ]
  },
  {
   "cell_type": "markdown",
   "id": "e20eb4c5-aca1-4938-a900-e0aff6d437e8",
   "metadata": {},
   "source": [
    "conditions / command tests are written differently from Python and R:\n",
    "\n",
    "- `-gt`: >\n",
    "- `-lt`: < \n",
    "- `-eq`: = \n",
    "- `-ge`: >= \n",
    "- `-le`: <= \n",
    "- `-ne`: !=\n",
    "- `-d`: does the file exist and is a directory?\n",
    "- `-e`: does the file exist\n",
    "- `-z`: with string, is the length of string zero, i.e. is it emtpy\n",
    "- `-n`: with string: is the length of the string >0\n",
    "- `=`: with strings! Are the two strings equal?\n",
    "- `!=`: with strings! Are the two strings different?\n",
    "- for more details see the manual / help pages       \n",
    "  https://tldp.org/LDP/Bash-Beginners-Guide/html/sect_07_01.html\n",
    "\n",
    "\n",
    "Example:\n",
    "`[ 50 -gt 20 ]`\n",
    "\n",
    "Note that some bash terminals need two pairs of `[]` when comparing strings:     \n",
    "`[ [ \"Hello\" != \"Hallo\" ] ]`"
   ]
  },
  {
   "cell_type": "markdown",
   "id": "0fec57fc-fcad-4fa1-bf93-daf6096f4a03",
   "metadata": {},
   "source": [
    "### Logical operators"
   ]
  },
  {
   "cell_type": "markdown",
   "id": "bd0c45b5-6394-487d-9042-fc6dca0672b7",
   "metadata": {},
   "source": [
    "In bash the logical operator and is `&&` and the logical operator or is `||`\n",
    "\n",
    "Example:\n",
    "\n",
    "```\n",
    "[ 1 -eq 5 ] && [ 6 -gt 3]  -> False\n",
    "[ 1 -eq 5 ] || [ 6 -gt 3]  -> True\n",
    "```"
   ]
  },
  {
   "cell_type": "markdown",
   "id": "7dd79e39-4d6b-47d0-afa4-f29fb22322a9",
   "metadata": {},
   "source": [
    "## Lists in bash"
   ]
  },
  {
   "cell_type": "markdown",
   "id": "e6caf9ec-f2e0-4b31-9cb1-3321595b3614",
   "metadata": {},
   "source": [
    "we didn't get that far. See pdf of the powerpoint"
   ]
  },
  {
   "cell_type": "markdown",
   "id": "fb9730b2-ed40-44e7-9f85-2b7dbfd2e8d9",
   "metadata": {},
   "source": [
    "## Loops"
   ]
  },
  {
   "cell_type": "markdown",
   "id": "d75fd9c8-d25f-4fe1-b7b9-cb79541bddd8",
   "metadata": {},
   "source": [
    "In bash we have `for`, `while` and `until` loops"
   ]
  },
  {
   "cell_type": "markdown",
   "id": "da3631a3-9451-4daf-b6d7-ea2b7df6fb1d",
   "metadata": {},
   "source": [
    "### for loops"
   ]
  },
  {
   "cell_type": "markdown",
   "id": "b33de466-e491-405b-aea9-22ddfab49e18",
   "metadata": {},
   "source": [
    "we didn't get that far. See pdf of the powerpoint"
   ]
  },
  {
   "cell_type": "markdown",
   "id": "30de321d-8864-4678-bcf4-bcc6c7a36256",
   "metadata": {},
   "source": [
    "### while loops"
   ]
  },
  {
   "cell_type": "markdown",
   "id": "021595e8-3965-47e6-96f4-a21688fa8f56",
   "metadata": {},
   "source": [
    "we didn't get that far. See pdf of the powerpoint"
   ]
  },
  {
   "cell_type": "markdown",
   "id": "5a2d6b40-0417-4119-a081-b29502ef6f53",
   "metadata": {},
   "source": [
    "### until loops"
   ]
  },
  {
   "cell_type": "markdown",
   "id": "c4738672-72de-4478-ba3b-d2fad60f6823",
   "metadata": {},
   "source": [
    "we didn't get that far. See pdf of the powerpoint"
   ]
  },
  {
   "cell_type": "markdown",
   "id": "dceb6d7a-5c20-4764-97f0-451abe7650e7",
   "metadata": {},
   "source": [
    "## Functions"
   ]
  },
  {
   "cell_type": "markdown",
   "id": "2a445e71-3347-4983-9edc-ac74c7f31065",
   "metadata": {},
   "source": [
    "we didn't get that far. See pdf of the powerpoint"
   ]
  },
  {
   "cell_type": "markdown",
   "id": "ba8bac75-26ac-45a1-bfa6-97045636ff1c",
   "metadata": {},
   "source": [
    "## Arithmetics"
   ]
  },
  {
   "cell_type": "markdown",
   "id": "a7edc49f-21a9-40a4-a613-64c5644e8764",
   "metadata": {},
   "source": [
    "It's not possible to do basic math in bash withput one of two workarounds: let or $(())\n",
    "\n",
    "```\n",
    "let num=5+4\n",
    "let \"num1 = 5 + 4\"\n",
    "let num1++ (increase by 1)\n",
    "let num2-- (decrease by one)\n",
    "let num1+=20 (increase by 20)\n",
    "```\n",
    "\n",
    "Alternative: $(())\n",
    "\n",
    "```\n",
    "num1=$((5+4))\n",
    "num1=$((9 + 4))\n",
    "((num1--))(decrease by one)\n",
    "```\n",
    "\n",
    "etc."
   ]
  },
  {
   "cell_type": "markdown",
   "id": "56274a71-e87f-48d1-86dc-62f6d71c7c2c",
   "metadata": {},
   "source": [
    "# Exercises"
   ]
  },
  {
   "cell_type": "markdown",
   "id": "7cf5b34f-f39d-41c3-a895-0c33282ee9c8",
   "metadata": {},
   "source": [
    "## Exercise 1 - Linux commands"
   ]
  },
  {
   "cell_type": "markdown",
   "id": "2593753b-0b6f-4502-9a39-bce88b27087e",
   "metadata": {},
   "source": [
    "Type in the following commands in your command line. Don’t forget to hit enter after each\n",
    "command.\n",
    "\n",
    "```\n",
    "whoami\n",
    "pwd\n",
    "ls\n",
    "echo “Hello World”\n",
    "```"
   ]
  },
  {
   "cell_type": "markdown",
   "id": "0f918268-93a3-4c08-8b17-c965e47d8f26",
   "metadata": {},
   "source": [
    "Copied from terminal:\n",
    "\n",
    "```\n",
    "MacBook-Pro:Exercises Lisa$ whoami\n",
    "Lisa\n",
    "\n",
    "MacBook-Pro:Exercises Lisa$ pwd\n",
    "/Users/Lisa/Documents/Lisa/Arbeit/FortbildungBioinformatik/ABI-2024-1_Course-Materials/Teaching_materials/Module 1 - Introduction to programming and python/1.2 Introduction to Linux/Exercises\n",
    "\n",
    "MacBook-Pro:Exercises Lisa$ ls\n",
    "ExercisesScripts\tHomeFolder\n",
    "\n",
    "MacBook-Pro:Exercises Lisa$ echo \"Hello World\"\n",
    "Hello World\n",
    "```"
   ]
  },
  {
   "cell_type": "markdown",
   "id": "05a156a0-0ecc-49d2-8a84-ee85061512b4",
   "metadata": {},
   "source": []
  },
  {
   "cell_type": "markdown",
   "id": "4c369573-16a2-46d3-a709-1f00630da65b",
   "metadata": {},
   "source": []
  }
 ],
 "metadata": {
  "kernelspec": {
   "display_name": "Python 3 (ipykernel)",
   "language": "python",
   "name": "python3"
  },
  "language_info": {
   "codemirror_mode": {
    "name": "ipython",
    "version": 3
   },
   "file_extension": ".py",
   "mimetype": "text/x-python",
   "name": "python",
   "nbconvert_exporter": "python",
   "pygments_lexer": "ipython3",
   "version": "3.12.2"
  }
 },
 "nbformat": 4,
 "nbformat_minor": 5
}
