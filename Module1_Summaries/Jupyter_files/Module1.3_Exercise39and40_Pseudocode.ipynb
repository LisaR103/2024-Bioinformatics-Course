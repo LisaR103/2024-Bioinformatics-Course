{
 "cells": [
  {
   "cell_type": "markdown",
   "id": "f8fd10d8-70de-4bcb-b336-44660097e3a2",
   "metadata": {},
   "source": [
    "# Pseudocode"
   ]
  },
  {
   "cell_type": "markdown",
   "id": "38d4a483-fee6-4704-8638-7a57e95428c0",
   "metadata": {},
   "source": [
    "Pseudocode is useful to plan, structure and discuss your codes with others"
   ]
  },
  {
   "cell_type": "markdown",
   "id": "76cb12a4-e9c9-4265-b6ec-a0e5bec04497",
   "metadata": {},
   "source": [
    "## Exercise 39 – Pseudocode\n",
    "Write a Pseudocode for the first tasks of Exercise 32, Exercise 37 and Exercise 38."
   ]
  },
  {
   "cell_type": "markdown",
   "id": "4176ab67-043b-4d4d-b6c2-5dd10eaad518",
   "metadata": {},
   "source": [
    "**Exercise 32 – Your first loops**\n",
    "\n",
    "All following loops should run at least over a range from 0 to 21.      \n",
    "**Write one loop that sums up all numbers in the set range.**    \n",
    "Write another loop that sums up only the even numbers in the set range.      \n",
    "Write a third loop that sums up only the odd numbers in the set range. Print out all three results."
   ]
  },
  {
   "cell_type": "markdown",
   "id": "eef0e4f4-edd2-40bc-bdb5-29bbfb061b9f",
   "metadata": {},
   "source": [
    "sum = 0       #helper variable to start the sum   \n",
    "\n",
    "    for i in range:\n",
    "        sum + i (=value of the range)\n",
    "\n",
    "    print(sum)"
   ]
  },
  {
   "cell_type": "markdown",
   "id": "6ec2e375-362e-4851-88bf-49cc5fda0ae8",
   "metadata": {},
   "source": [
    "**Exercise 37 – 2 while loops**\n",
    "\n",
    "Write a program that uses while loops to finish the tasks below:   \n",
    "**Dividing a number of your choice (> 100) by 2 until it’s smaller than 5 (as long its bigger than 5)**   \n",
    "Adding up the elements of a list of your choice until the sum is bigger than a threshold\n",
    "of your choice"
   ]
  },
  {
   "cell_type": "markdown",
   "id": "2e0c62b8-9d02-4996-8981-6c176a2628a6",
   "metadata": {},
   "source": [
    "define my number:\n",
    "\n",
    "    x=110\n",
    "\n",
    "whats my loop?\n",
    "        \n",
    "    while x > 5:\n",
    "        print(x)\n",
    "        x /= 2  --> x durch zwei teilen und so neu definieren"
   ]
  },
  {
   "cell_type": "markdown",
   "id": "cd269f6d-0dc0-40c4-8160-6e0e2dab7cc8",
   "metadata": {},
   "source": [
    "**Exercise 38 – Nested Loops**\n",
    "\n",
    "Write a Program that uses nested loops to tackle the tasks below:   \n",
    "**Loop through a two-dimensional list and print out each element**   \n",
    "Loop through a two-dimensional list and add up all elements   \n",
    "Loop over two ranges and multiply the loop variables with each other   "
   ]
  },
  {
   "cell_type": "markdown",
   "id": "385f4822-78eb-4c98-b851-5af56858c02d",
   "metadata": {},
   "source": [
    "make a list \n",
    "\n",
    "    list = [ [sub1] [sub2]  ]\n",
    "\n",
    "make the loop\n",
    "\n",
    "    outer loop:   \n",
    "        for sub in list:\n",
    "            print(sub) --> will print sub1 and sub2 entirely\n",
    "            for elem in sub:\n",
    "                print(elem) --> will print individual elements of first sub1 and subsequently sub2 "
   ]
  },
  {
   "cell_type": "markdown",
   "id": "d12a892b-72bf-4a1e-9a4e-8ec26f1f6d8f",
   "metadata": {},
   "source": [
    "## Exercise 40 – Structograms\n",
    "Create some structograms for the first tasks of Exercise 32, Exercise 37 and Exercise 38."
   ]
  },
  {
   "cell_type": "markdown",
   "id": "5e36f7d9-a1db-4f06-98f0-526d5ae869ce",
   "metadata": {},
   "source": [
    "Created using:\n",
    "\n",
    "https://dditools.inf.tu-dresden.de/dev/struktog/ "
   ]
  },
  {
   "cell_type": "markdown",
   "id": "808f68b8-ff58-4843-9fa4-07bca68d299f",
   "metadata": {},
   "source": [
    "created and saved in output folder"
   ]
  },
  {
   "cell_type": "code",
   "execution_count": null,
   "id": "3c81b90c-70d2-4858-943a-53e23bb407ea",
   "metadata": {},
   "outputs": [],
   "source": []
  }
 ],
 "metadata": {
  "kernelspec": {
   "display_name": "Python 3 (ipykernel)",
   "language": "python",
   "name": "python3"
  },
  "language_info": {
   "codemirror_mode": {
    "name": "ipython",
    "version": 3
   },
   "file_extension": ".py",
   "mimetype": "text/x-python",
   "name": "python",
   "nbconvert_exporter": "python",
   "pygments_lexer": "ipython3",
   "version": "3.12.2"
  }
 },
 "nbformat": 4,
 "nbformat_minor": 5
}
