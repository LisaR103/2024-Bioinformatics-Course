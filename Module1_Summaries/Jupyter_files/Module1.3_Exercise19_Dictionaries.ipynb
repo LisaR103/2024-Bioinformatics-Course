{
 "cells": [
  {
   "cell_type": "markdown",
   "id": "adee865d-9296-432f-8f60-a9ec22a98799",
   "metadata": {},
   "source": [
    "# Module 1.3 Dictionaries\n",
    "\n",
    "## Table of content\n",
    "\n",
    "[Dictionaries](#Dictionaries)\n",
    "1. [Defining dictionaries and adding values](#Defining-dictionaries-and-adding-values)\n",
    "   1. [Defining an empty dictionary](#Defining-an-empty-dictionary)\n",
    "   2. [Adding elements to dictionaries](#Adding-elements-to-dictionaries)\n",
    "   3. [Defining a dictionary directly](#Defining-a-dictionary-directly)\n",
    "3. [Accessing keys and values](#Accessing-keys-and-values)\n",
    "4. [Accessing individual values](#Accessing-individual-values)\n",
    "5. [Replacing values](#Replacing-values)\n",
    "6. [Removing values](#Removing-values)\n",
    "\n",
    "[Exercises](#Exercises)\n",
    "1. [Exercise 19 - Simple dictionary](#Exercise-19---Simple-dictionary)"
   ]
  },
  {
   "cell_type": "markdown",
   "id": "0a8e3293-cd04-4375-9d23-812d2d199a59",
   "metadata": {},
   "source": [
    "# Dictionaries"
   ]
  },
  {
   "cell_type": "markdown",
   "id": "45895a84-c1ef-4574-8a63-8d68498cd216",
   "metadata": {},
   "source": [
    "- Dictionaries define key/values pairs\n",
    "\n",
    "- Dictionaries are shown by {\"key1\":value1,\"key2\":value2}\n",
    "\n",
    "- keys have to be unique and are used to find the corresponding value. They can be numbers but it is better to have them be strings to be able to differentiate dictionaries and lists (which always have numbers as indices)\n",
    "\n",
    "- values can be anything, except nothing (they have to be something). None can be applied as a placeholder\n",
    "\n",
    "- dictionaries are ordered (chronologically) and stay in their order\n",
    "\n",
    "- you can merge 2 dictionaries by dict.update():\n",
    "    - dict1.update(dict2) adds dict2 to dict1. This does NOT link the dictionaries but simply copies dict2 into dict1. CAREFUL: If there are the same keys in dict2 as dict1 dict1 will be overwritten"
   ]
  },
  {
   "cell_type": "markdown",
   "id": "934f4040-9ea5-4baf-8344-307c63aa937f",
   "metadata": {},
   "source": [
    "## Defining dictionaries and adding values"
   ]
  },
  {
   "cell_type": "markdown",
   "id": "19855d61-b5cd-49cb-af5e-37b44e0ccc00",
   "metadata": {},
   "source": [
    "### Defining an empty dictionary"
   ]
  },
  {
   "cell_type": "code",
   "execution_count": 1,
   "id": "1bc63a7a-c96b-4ff9-a4c1-45c42207ae9c",
   "metadata": {},
   "outputs": [
    {
     "name": "stdout",
     "output_type": "stream",
     "text": [
      "{}\n"
     ]
    }
   ],
   "source": [
    "#defining an empty dictionary\n",
    "dict1 = {}\n",
    "print(dict1)"
   ]
  },
  {
   "cell_type": "markdown",
   "id": "6dda2c3e-b4ee-46c9-85eb-a850642a87b8",
   "metadata": {},
   "source": [
    "### Adding elements to dictionaries"
   ]
  },
  {
   "cell_type": "code",
   "execution_count": 2,
   "id": "62923d59-13e4-48de-bbab-56d5390c46fd",
   "metadata": {},
   "outputs": [
    {
     "name": "stdout",
     "output_type": "stream",
     "text": [
      "{'Bennet': 562, 'Collins': 54, 'Bingley': 'Jane'}\n"
     ]
    }
   ],
   "source": [
    "#adding elements\n",
    "dict1[\"Bennet\"] = 562\n",
    "dict1[\"Collins\"] = 54\n",
    "dict1[\"Bingley\"] = \"Jane\"\n",
    "print(dict1)"
   ]
  },
  {
   "cell_type": "markdown",
   "id": "e4c92e7f-904a-4e2b-a847-a3013744ee36",
   "metadata": {},
   "source": [
    ">It is impossible to define an empty value, but None can be used as a place holder:"
   ]
  },
  {
   "cell_type": "code",
   "execution_count": 3,
   "id": "e7b4b5e4-b233-4e1d-84f4-f55a9981c74c",
   "metadata": {},
   "outputs": [
    {
     "name": "stdout",
     "output_type": "stream",
     "text": [
      "{'Bennet': 562, 'Collins': 54, 'Bingley': 'Jane', 'empty': None}\n"
     ]
    }
   ],
   "source": [
    "dict1[\"empty\"] = None\n",
    "print(dict1)"
   ]
  },
  {
   "cell_type": "markdown",
   "id": "f84e4991-20e0-4321-920d-9044ba5e2665",
   "metadata": {},
   "source": [
    "> It is possible to use a simple number to define a key\n",
    ">\n",
    "> Try to avoid this though to avoid confusion with lists\n",
    "\n",
    "dict1[6] could be a list, while dict1[\"6\"] can only be a dictionary"
   ]
  },
  {
   "cell_type": "code",
   "execution_count": 4,
   "id": "50b840f2-8a3c-4138-8645-df2b655bc85c",
   "metadata": {},
   "outputs": [
    {
     "name": "stdout",
     "output_type": "stream",
     "text": [
      "{'Bennet': 562, 'Collins': 54, 'Bingley': 'Jane', 'empty': None, 6: False}\n"
     ]
    }
   ],
   "source": [
    "dict1[6] = False\n",
    "print(dict1)"
   ]
  },
  {
   "cell_type": "markdown",
   "id": "f2445f29-9f15-4fa5-9025-76e3ca8c270e",
   "metadata": {},
   "source": [
    "### Defining a dictionary directly"
   ]
  },
  {
   "cell_type": "code",
   "execution_count": 5,
   "id": "936abb1e-039d-4e08-b319-370b93977501",
   "metadata": {},
   "outputs": [
    {
     "name": "stdout",
     "output_type": "stream",
     "text": [
      "{'A': 1, 'B': 2, 'C': 5.23}\n"
     ]
    }
   ],
   "source": [
    "#defining dictionaries directly\n",
    "dict2 = {\"A\":1,\"B\":2,\"C\":5.23}\n",
    "print(dict2)"
   ]
  },
  {
   "cell_type": "markdown",
   "id": "13fb7df1-9510-4628-bfb4-c293d732783c",
   "metadata": {},
   "source": [
    "## Accessing keys and values"
   ]
  },
  {
   "cell_type": "markdown",
   "id": "89d4f562-6f08-4ea1-b8aa-b9eaa9e0f3e8",
   "metadata": {},
   "source": [
    "keys and values can be accessed using dict.keys() or dict.values() respectively\n",
    "\n",
    ">This leads to dict_key / dict_values objects\n",
    "\n",
    "If I want to work with them as lists I have to convert them to a list"
   ]
  },
  {
   "cell_type": "code",
   "execution_count": 6,
   "id": "14662303-34fb-419d-aa4b-4aa5ff8d0355",
   "metadata": {},
   "outputs": [
    {
     "data": {
      "text/plain": [
       "dict_keys(['Bennet', 'Collins', 'Bingley', 'empty', 6])"
      ]
     },
     "execution_count": 6,
     "metadata": {},
     "output_type": "execute_result"
    }
   ],
   "source": [
    "#dict.keys() returns all keys in a dict_key object\n",
    "dict1.keys()"
   ]
  },
  {
   "cell_type": "code",
   "execution_count": 7,
   "id": "a9fdbd2d-872f-4cb6-8e9b-c138d90de1f2",
   "metadata": {},
   "outputs": [
    {
     "data": {
      "text/plain": [
       "dict_values([562, 54, 'Jane', None, False])"
      ]
     },
     "execution_count": 7,
     "metadata": {},
     "output_type": "execute_result"
    }
   ],
   "source": [
    "#dict.values() returns all values in a dict_values object\n",
    "dict1.values()"
   ]
  },
  {
   "cell_type": "code",
   "execution_count": 8,
   "id": "b8a1ea11-98a2-409d-bc53-587670520000",
   "metadata": {},
   "outputs": [
    {
     "name": "stdout",
     "output_type": "stream",
     "text": [
      "['A', 'B', 'C']\n",
      "[1, 2, 5.23]\n",
      "Sum of dict2 = 8.23\n"
     ]
    }
   ],
   "source": [
    "#If you want them directly as lists (e.g. to have access to the list methods)\n",
    "print(list(dict2.keys()))\n",
    "print(list(dict2.values()))\n",
    "print(\"Sum of dict2 =\",sum(list(dict2.values())))"
   ]
  },
  {
   "cell_type": "code",
   "execution_count": 9,
   "id": "85e93563-1294-4e73-942d-1ec429016a36",
   "metadata": {},
   "outputs": [
    {
     "name": "stdout",
     "output_type": "stream",
     "text": [
      "[1, 2, 5.23]\n"
     ]
    }
   ],
   "source": [
    "#the keys and values can then also be stored in a list\n",
    "values2 = list(dict2.values())\n",
    "print(values2)"
   ]
  },
  {
   "cell_type": "markdown",
   "id": "e48c27e2-581a-4554-918b-c47a8b13fbf3",
   "metadata": {},
   "source": [
    "## Accessing individual values"
   ]
  },
  {
   "cell_type": "markdown",
   "id": "a863b4be-7291-48d0-91b9-d30d82a2c86b",
   "metadata": {},
   "source": [
    "Individual values can be accessed with []\n",
    "\n",
    "dict[\"key\"]"
   ]
  },
  {
   "cell_type": "code",
   "execution_count": 10,
   "id": "cc372e26-390e-461c-aed3-06451388e33a",
   "metadata": {},
   "outputs": [
    {
     "name": "stdout",
     "output_type": "stream",
     "text": [
      "562\n"
     ]
    }
   ],
   "source": [
    "print(dict1[\"Bennet\"])"
   ]
  },
  {
   "cell_type": "code",
   "execution_count": 11,
   "id": "2fb32dfa-c12e-40a2-b311-a9747c73a4e7",
   "metadata": {},
   "outputs": [
    {
     "name": "stdout",
     "output_type": "stream",
     "text": [
      "1\n"
     ]
    }
   ],
   "source": [
    "print(dict2[\"A\"])"
   ]
  },
  {
   "cell_type": "markdown",
   "id": "ba342bcf-c0a4-4e81-a367-2766c6216729",
   "metadata": {},
   "source": [
    "## Replacing values"
   ]
  },
  {
   "cell_type": "markdown",
   "id": "91ff0ac9-d871-49fc-908e-488bfa126bfe",
   "metadata": {},
   "source": [
    "You can overwrite the value of a key by just defining it again\n",
    "\n",
    ">Careful when assigning new key:value pairs that this key doesn't yet exist, otherwise it gets overwritten"
   ]
  },
  {
   "cell_type": "code",
   "execution_count": 12,
   "id": "51c19793-a3e6-46dd-a119-0f0418189775",
   "metadata": {},
   "outputs": [
    {
     "name": "stdout",
     "output_type": "stream",
     "text": [
      "{'Bennet': 562, 'Collins': 54, 'Bingley': 'Jane', 'empty': None, 6: False}\n",
      "{'Bennet': 'Elizabeth', 'Collins': 54, 'Bingley': 'Jane', 'empty': None, 6: False}\n"
     ]
    }
   ],
   "source": [
    "print(dict1)\n",
    "dict1[\"Bennet\"] = \"Elizabeth\"\n",
    "print(dict1)"
   ]
  },
  {
   "cell_type": "markdown",
   "id": "7ae7801e-1289-47ec-ac4e-6aeb4d205747",
   "metadata": {},
   "source": [
    "## Removing values"
   ]
  },
  {
   "cell_type": "markdown",
   "id": "cc1d7297-f29f-4d4e-99b2-8127ec2d54de",
   "metadata": {},
   "source": [
    "Remove a key:value pair by using\n",
    "\n",
    "more than one key:value pair can be removed at the same time! Even from more than one dictionary!\n",
    "\n",
    "del(dict[\"key\"])"
   ]
  },
  {
   "cell_type": "code",
   "execution_count": 13,
   "id": "4756e05c-81cc-491c-b415-30d0c8e62c65",
   "metadata": {},
   "outputs": [
    {
     "name": "stdout",
     "output_type": "stream",
     "text": [
      "{'Bennet': 'Elizabeth', 'Collins': 54, 'Bingley': 'Jane', 'empty': None, 6: False}\n",
      "{'Collins': 54, 'Bingley': 'Jane', 'empty': None, 6: False}\n"
     ]
    }
   ],
   "source": [
    "print(dict1)\n",
    "del(dict1[\"Bennet\"])\n",
    "print(dict1)\n"
   ]
  },
  {
   "cell_type": "code",
   "execution_count": 14,
   "id": "c9b5dc45-8f67-45fd-b48c-ae064d2b3ad3",
   "metadata": {},
   "outputs": [
    {
     "name": "stdout",
     "output_type": "stream",
     "text": [
      "### Original dictionaries ###\n",
      "{'Collins': 54, 'Bingley': 'Jane', 'empty': None, 6: False}\n",
      "{'A': 1, 'B': 2, 'C': 5.23}\n",
      "\n",
      "### Changed dictionaries ###\n",
      "{'Bingley': 'Jane', 6: False}\n",
      "{'B': 2, 'C': 5.23}\n"
     ]
    }
   ],
   "source": [
    "print(\"### Original dictionaries ###\")\n",
    "print(dict1)\n",
    "print(dict2)\n",
    "print()\n",
    "del(dict1[\"empty\"],dict1[\"Collins\"],dict2[\"A\"])\n",
    "print(\"### Changed dictionaries ###\")\n",
    "print(dict1)\n",
    "print(dict2)"
   ]
  },
  {
   "cell_type": "markdown",
   "id": "e138f0bc-87de-4260-ba57-60a37689635e",
   "metadata": {},
   "source": [
    "# Exercises"
   ]
  },
  {
   "cell_type": "markdown",
   "id": "044db7cf-64f5-416c-8a0e-6b46810853d6",
   "metadata": {},
   "source": [
    "## Exercise 19 - Simple dictionary"
   ]
  },
  {
   "cell_type": "markdown",
   "id": "8cf2a195-b87e-492a-a6d8-100528ca9827",
   "metadata": {},
   "source": [
    "Write a program that generates a simple dictionary consisting of at least three pre-defined\n",
    "entries with biological or biochemical background. Print out the dictionary and afterwards\n",
    "insert a new key/value pair into your dictionary and remove a different key/value pair. Print\n",
    "out the remaining dictionary."
   ]
  },
  {
   "cell_type": "code",
   "execution_count": 15,
   "id": "6705fb27-9f82-4c0f-af37-cbd48ff201ec",
   "metadata": {},
   "outputs": [
    {
     "name": "stdout",
     "output_type": "stream",
     "text": [
      "{'EGFR': 1, 'ERBB2': 2, 'ERBB3': 3, 'ATPase': 'wrong'}\n"
     ]
    }
   ],
   "source": [
    "#creating a dictionary\n",
    "erbb = {\"EGFR\":1,\"ERBB2\":2,\"ERBB3\":3,\"ATPase\":\"wrong\"}\n",
    "print(erbb)"
   ]
  },
  {
   "cell_type": "code",
   "execution_count": 16,
   "id": "192a8b9f-bab7-4b43-8cf5-40d504b1f584",
   "metadata": {},
   "outputs": [
    {
     "name": "stdout",
     "output_type": "stream",
     "text": [
      "{'EGFR': 1, 'ERBB2': 2, 'ERBB3': 3, 'ATPase': 'wrong', 'ERBB4': 4}\n"
     ]
    }
   ],
   "source": [
    "#adding ERBB4\n",
    "erbb[\"ERBB4\"] = 4\n",
    "print(erbb)"
   ]
  },
  {
   "cell_type": "code",
   "execution_count": 17,
   "id": "19c09f7d-e508-4020-a0bb-a933e4a16b87",
   "metadata": {},
   "outputs": [
    {
     "name": "stdout",
     "output_type": "stream",
     "text": [
      "{'EGFR': 1, 'ERBB2': 2, 'ERBB3': 3, 'ERBB4': 4}\n"
     ]
    }
   ],
   "source": [
    "#removeing ATPase\n",
    "del erbb[\"ATPase\"]\n",
    "print(erbb)"
   ]
  },
  {
   "cell_type": "code",
   "execution_count": null,
   "id": "8ef69d21-a52d-4f43-be9f-586a83e89fad",
   "metadata": {},
   "outputs": [],
   "source": []
  }
 ],
 "metadata": {
  "kernelspec": {
   "display_name": "Python 3 (ipykernel)",
   "language": "python",
   "name": "python3"
  },
  "language_info": {
   "codemirror_mode": {
    "name": "ipython",
    "version": 3
   },
   "file_extension": ".py",
   "mimetype": "text/x-python",
   "name": "python",
   "nbconvert_exporter": "python",
   "pygments_lexer": "ipython3",
   "version": "3.12.2"
  }
 },
 "nbformat": 4,
 "nbformat_minor": 5
}
