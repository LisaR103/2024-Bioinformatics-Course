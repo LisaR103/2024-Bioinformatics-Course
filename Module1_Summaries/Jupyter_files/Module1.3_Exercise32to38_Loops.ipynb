{
 "cells": [
  {
   "cell_type": "markdown",
   "id": "7071e1fe-1c9a-461f-a57f-8ff507f84efa",
   "metadata": {},
   "source": [
    "# Module 1.3 Loops\n",
    "\n",
    "## Table of content\n",
    "\n",
    "[Loops](#Loops)\n",
    "1. [For Loops](#For-Loops)\n",
    "   1. [For loop over a range](#For-loop-over-a-range)\n",
    "   2. [For loop over a list (for each loop)](#For-loop-over-a-list-(for-each-loop))\n",
    "   3. [For loop over a dictionary (for each loop)](#For-loop-over-a-dictionary-(for-each-loop))\n",
    "   4. [iterating over multiple lists using zip()](#iterating-over-multiple-lists-using-zip())\n",
    "   5. [enumerate()](#enumerate())\n",
    "   6. [items()](#items())\n",
    "3. [While loops](#While-loops)\n",
    "4. [Nested Loops](#Nested-Loops)\n",
    "5. [The keywords break, continue and pass](#The-keywords-break,-continue-and-pass)\n",
    "\n",
    "\n",
    "[Exercises](#Exercises)\n",
    "1. [Exercise 32 - Your first loops](#Exercise-32---Your-first-loops)\n",
    "2. [Exercise 33 - More for loops](#Exercise-33---More-for-loops)\n",
    "3. [Exercise 34 - Looping a dictionary](#Exercise-34---Looping-a-dictionary)\n",
    "4. [Exercise 35 - zip in for](#Exercise-35---zip-in-for)\n",
    "5. [Exercise 36 - Using enumerate](#Exercise-36---Using-enumerate)\n",
    "6. [Exercise 37 - While loops](#Exercise-37---While-loops)\n",
    "7. [Exercise 38 - Nested Loops](#Exercise-38---Nested-Loops)"
   ]
  },
  {
   "cell_type": "markdown",
   "id": "b1ae3866-181f-4dfd-9663-243203c4991b",
   "metadata": {},
   "source": [
    "# Loops"
   ]
  },
  {
   "cell_type": "markdown",
   "id": "4cab688e-d37b-4c6b-a229-abed82df25ff",
   "metadata": {},
   "source": [
    "## For Loops"
   ]
  },
  {
   "cell_type": "markdown",
   "id": "98b12ed5-af82-4a55-ae9b-87afc6643a35",
   "metadata": {},
   "source": [
    "Syntax:\n",
    "\n",
    "    for var in iterable:\n",
    "        instructions:\n",
    "\n",
    "`for` is a keyword which tells Python we are starting a for loop now  \n",
    "`var` is freely definable\n",
    "- some naming conventions apply, e.g. `i` for ranges (short for <u>i</u>ndex)\n",
    "- Always use something descriptive! Not just x...\n",
    "- var is assigned the value of our iterable for each repeat\n",
    "  \n",
    "`in` is another keyword telling Python to look into the iterable   \n",
    "the `iterable` tells Python the values of our loop variable\n",
    "- iterables are lists, dictionaries, ranges, as long as they are of one specific type\n",
    "- if you have a mixed list, an if statement in front of the loop is necessary to make sure you only use the type needed\n",
    "- when we work with data structures we create a for-each loop: the instructions are carried ou for EACH element of a list/dictionary etc."
   ]
  },
  {
   "cell_type": "markdown",
   "id": "43e63a42-043d-4264-b1f9-053047bbb059",
   "metadata": {},
   "source": [
    "### For loop over a range"
   ]
  },
  {
   "cell_type": "markdown",
   "id": "b1094920-e57a-46a2-8513-b7f994088920",
   "metadata": {},
   "source": [
    "Example Syntax:\n",
    "\n",
    "    for i in (range(21)):\n",
    "        print(i)\n",
    "\n",
    "This simply goes through the specified numbers (here 0 - 20) one by one. Usually the variable is called `i` here"
   ]
  },
  {
   "cell_type": "code",
   "execution_count": 1,
   "id": "c3aa95a1-997f-4c10-a9a0-529e65ce93ad",
   "metadata": {},
   "outputs": [
    {
     "name": "stdout",
     "output_type": "stream",
     "text": [
      "0\n",
      "End of iteration 1\n",
      "1\n",
      "End of iteration 2\n",
      "2\n",
      "End of iteration 3\n",
      "\n",
      "Loop is over\n",
      "\n",
      "i is now 2\n"
     ]
    }
   ],
   "source": [
    "## for loop in a range\n",
    "\n",
    "for i in range(3):\n",
    "    print(i)\n",
    "    print(\"End of iteration\",i+1)\n",
    "\n",
    "print()\n",
    "print(\"Loop is over\")\n",
    "\n",
    "print()\n",
    "print(\"i is now\",i)"
   ]
  },
  {
   "cell_type": "markdown",
   "id": "9b8dfe5e-5c3a-4266-9059-a2adadf07d27",
   "metadata": {},
   "source": [
    "### For loop over a list (for each loop)"
   ]
  },
  {
   "cell_type": "markdown",
   "id": "21f95817-3c71-4460-b851-82a8b00b88e5",
   "metadata": {},
   "source": [
    "Example Syntax:\n",
    "\n",
    "    for var in list1:\n",
    "        print(var)\n",
    "\n",
    "This simply goes through the contents of the list one by one. Call the variable something desciptive! E.g. num, fruit, whatever you have in your list.\n",
    "\n",
    "Try to have only one datatype in your list. For something as simple as `print()`it doesn't matter, but a calculation would result in errors. \n",
    "\n",
    "If more than one datatype is present it might be necessary to include an `if` statement"
   ]
  },
  {
   "cell_type": "code",
   "execution_count": 2,
   "id": "72b280b4-c73c-453d-9403-358ff882b863",
   "metadata": {},
   "outputs": [],
   "source": [
    "#Examples:\n",
    "\n",
    "# create lists\n",
    "list1 = [3,4,5]\n",
    "list2 = [\"apple\",\"orange\",\"banana\"]\n",
    "mixed = [5,\"apple\", 6.7, True]"
   ]
  },
  {
   "cell_type": "code",
   "execution_count": 3,
   "id": "1e06a24c-c6ee-4693-9b1e-cc672c4eaf11",
   "metadata": {},
   "outputs": [
    {
     "name": "stdout",
     "output_type": "stream",
     "text": [
      "3\n",
      "4\n",
      "5\n"
     ]
    }
   ],
   "source": [
    "#print the elements in list1\n",
    "for elem in list1:\n",
    "    print(elem)"
   ]
  },
  {
   "cell_type": "code",
   "execution_count": 4,
   "id": "2cd9f71f-363d-4f62-b3e4-6046c232b4ef",
   "metadata": {},
   "outputs": [
    {
     "name": "stdout",
     "output_type": "stream",
     "text": [
      "apple\n",
      "orange\n",
      "banana\n"
     ]
    }
   ],
   "source": [
    "#print the elements in list2, since they are fruit I call them fruit\n",
    "for fruit in list2:\n",
    "    print(fruit)"
   ]
  },
  {
   "cell_type": "code",
   "execution_count": 5,
   "id": "4d4c0c6e-5a12-4632-ac7c-d62b8c5268ba",
   "metadata": {},
   "outputs": [
    {
     "name": "stdout",
     "output_type": "stream",
     "text": [
      "\n",
      "5\n",
      "This is a number\n",
      "\n",
      "apple\n",
      "\n",
      "6.7\n",
      "This is a number\n",
      "\n",
      "True\n",
      "This is a number\n"
     ]
    }
   ],
   "source": [
    "#print the elements in mixed, only add the second print statement if they are numbers\n",
    "for mix in mixed:\n",
    "    print()\n",
    "    print(mix)\n",
    "    if isinstance(mix, int) or isinstance(mix,float):\n",
    "        print(\"This is a number\")"
   ]
  },
  {
   "cell_type": "markdown",
   "id": "91a16788-667c-4b35-82c6-5c5bb08aeec8",
   "metadata": {},
   "source": [
    "> Note that `True` as boolean is a subtype of integer and therefore recognized as a number with value 1!!"
   ]
  },
  {
   "cell_type": "code",
   "execution_count": 6,
   "id": "118a1f19-25df-4ae4-866d-af04398e0f67",
   "metadata": {},
   "outputs": [
    {
     "name": "stdout",
     "output_type": "stream",
     "text": [
      "12.7 This is one too big\n",
      "11.7 Now it's correct\n"
     ]
    }
   ],
   "source": [
    "#If I want to add all numbers in mix together the boolean has the taken into account:\n",
    "sum0 = 0\n",
    "for mix in mixed:\n",
    "    if isinstance(mix, int) or isinstance(mix,float):\n",
    "        sum0 = sum0 + mix\n",
    "\n",
    "print(sum0,\"This is one too big\")\n",
    "\n",
    "#This is one too big, because True is recognized as integer with value = 1\n",
    "#to exclude True:\n",
    "\n",
    "sum0 = 0\n",
    "for mix in mixed:\n",
    "    if (isinstance(mix, int) or isinstance(mix,float)) and not isinstance(mix,bool):\n",
    "        sum0 = sum0 + mix\n",
    "\n",
    "print(sum0, \"Now it's correct\")"
   ]
  },
  {
   "cell_type": "markdown",
   "id": "1abf2649-5969-473c-b347-99aff06ef536",
   "metadata": {},
   "source": [
    "### For loop over a dictionary (for each loop)"
   ]
  },
  {
   "cell_type": "markdown",
   "id": "07fc740a-7cea-45af-9b11-6821ec2eb3e1",
   "metadata": {},
   "source": [
    "Dictionaries behave a little differently than lists. \n",
    "\n",
    "The syntax  \n",
    "        \n",
    "    for key in dict:\n",
    "        instruction1()\n",
    "would result in a loop only over the keys and not the values"
   ]
  },
  {
   "cell_type": "code",
   "execution_count": 7,
   "id": "969b9818-44d2-418b-802e-817926dd2a43",
   "metadata": {},
   "outputs": [
    {
     "name": "stdout",
     "output_type": "stream",
     "text": [
      "A\n",
      "B\n"
     ]
    }
   ],
   "source": [
    "dict1 = {\"A\":1,\"B\":2}\n",
    "\n",
    "for key in dict1:\n",
    "    print(key)"
   ]
  },
  {
   "cell_type": "markdown",
   "id": "3dfeec79-3987-4e9b-b1d5-8afb75a37aa7",
   "metadata": {},
   "source": [
    "To access the values one has to either\n",
    "- use the key to access the variable inside the loop or\n",
    "- loop over the values using the values() method of dictionaries\n",
    "\n",
    "If we need both the keys and the values, it is better to have the keys as the loop variable because they are difficult to infer from the values. If we really don't need the keys and only the values it is faster to use the values directly in the loop."
   ]
  },
  {
   "cell_type": "code",
   "execution_count": 8,
   "id": "e59cfad9-3731-45cc-8eb8-2abd73d7f4d7",
   "metadata": {},
   "outputs": [
    {
     "name": "stdout",
     "output_type": "stream",
     "text": [
      "1\n",
      "2\n"
     ]
    }
   ],
   "source": [
    "#using the key name inside the loop\n",
    "for key in dict1:\n",
    "    print(dict1[key])"
   ]
  },
  {
   "cell_type": "code",
   "execution_count": 9,
   "id": "7a439286-a59e-4f1c-b369-361ed7580d16",
   "metadata": {},
   "outputs": [
    {
     "name": "stdout",
     "output_type": "stream",
     "text": [
      "1\n",
      "2\n"
     ]
    }
   ],
   "source": [
    "#using the values method\n",
    "for val in dict1.values():\n",
    "    print(val)"
   ]
  },
  {
   "cell_type": "markdown",
   "id": "d10525e2-0c84-4031-a1b5-f6c389def571",
   "metadata": {},
   "source": [
    "### iterating over multiple lists using zip()"
   ]
  },
  {
   "cell_type": "markdown",
   "id": "7bc3940c-a436-495d-9cd7-1a4b67406394",
   "metadata": {},
   "source": [
    "If we need to iterate over multiple lists we can do that using `zip()`\n",
    "\n",
    "`zip()`\n",
    "- aggregates (=combines) elements from different iterable structures (e.g. lists)\n",
    "- creates an iterator object (like e.g. the `range()` function\n",
    "- can be used to iterate over several lists in parallel\n",
    "- stops as soon as the shortest list reaches its end\n",
    "\n",
    "Syntax:\n",
    "\n",
    "    for var1,var2 in zip(list1,list2)\n",
    "        instructions\n",
    "\n",
    "you need as many loop variables as you have arguments inside your `zip()` function\n"
   ]
  },
  {
   "cell_type": "code",
   "execution_count": 10,
   "id": "d0450578-17bb-4bfc-bbcd-04889a422d15",
   "metadata": {},
   "outputs": [
    {
     "name": "stdout",
     "output_type": "stream",
     "text": [
      "1 and 6\n",
      "2 and 7\n",
      "3 and 8\n"
     ]
    }
   ],
   "source": [
    "listA = [1,2,3,4,5]\n",
    "listB = [6,7,8]\n",
    "\n",
    "for a,b in zip(listA, listB):\n",
    "    print(a,\"and\",b)"
   ]
  },
  {
   "cell_type": "markdown",
   "id": "6ee7e481-1fc4-423f-89ab-1c7dbc24c623",
   "metadata": {},
   "source": [
    "in the example above 4 and 5 in listA were not printed, because listB only has three elements and the loop therefore stops after three elements"
   ]
  },
  {
   "cell_type": "markdown",
   "id": "28330cf2-dbc4-45e1-b6cf-8d38c1b5c69a",
   "metadata": {},
   "source": [
    "### enumerate()"
   ]
  },
  {
   "cell_type": "markdown",
   "id": "6127c289-8d8e-41e3-b6fc-e194c1f1066e",
   "metadata": {},
   "source": [
    "Works for lists, tuples and sets (although for sets it doesn't make sense since they don't have indices)\n",
    "\n",
    "The default of looping over a list is to loop over the variables\n",
    "\n",
    "    for value in iterable\n",
    "\n",
    "Sometimes we need to loop over the index of a list:\n",
    "\n",
    "    for idx in range(len(iterable))\n",
    "\n",
    "If we then need access to the values we could do this inside the loop by calling `interable[idx]` similar how we did it with the dictionaries. \n",
    "\n",
    "This is comparatively error prone. `enumerate() allows to work with both indices and values of a list at the same time:\n",
    "\n",
    "    for idx, value in enumerate(iterable):\n",
    "        instruction\n",
    "\n",
    "Optional argument: start (=at which number the index starts (instead of default 0).   \n",
    "This changes the numbering of the index not the position of the list at which to start!!!\n",
    "\n",
    "    for idx, value in enumerate(iterable, start = 5):\n",
    "        instruction"
   ]
  },
  {
   "cell_type": "code",
   "execution_count": 11,
   "id": "17da2d3e-79fd-40e2-b1bf-01ad24bab865",
   "metadata": {},
   "outputs": [
    {
     "name": "stdout",
     "output_type": "stream",
     "text": [
      "0 apple\n",
      "1 orange\n",
      "2 banana\n",
      "\n",
      "10 apple\n",
      "11 orange\n",
      "12 banana\n"
     ]
    }
   ],
   "source": [
    "list2 = [\"apple\",\"orange\",\"banana\"]\n",
    "\n",
    "for idx, value in enumerate(list2):\n",
    "    print(idx, value)\n",
    "\n",
    "print()\n",
    "\n",
    "for idx, value in enumerate(list2, start = 10):\n",
    "    print(idx, value)"
   ]
  },
  {
   "cell_type": "markdown",
   "id": "a152f66a-4cf9-403a-9f5b-555c7a1c6bcb",
   "metadata": {},
   "source": [
    "### items()\n",
    "\n",
    "similar to enumerate for lists we have items() for dictionaries if we need to access both keys and values\n",
    "\n",
    "    for key, value in dict.items()\n",
    "        print(key)\n",
    "        print(value)"
   ]
  },
  {
   "cell_type": "code",
   "execution_count": 12,
   "id": "cd2773e2-0ab8-4d42-87c3-6a6e79f72f1e",
   "metadata": {},
   "outputs": [
    {
     "name": "stdout",
     "output_type": "stream",
     "text": [
      "A\n",
      "1\n",
      "B\n",
      "2\n"
     ]
    }
   ],
   "source": [
    "for char, num in dict1.items():\n",
    "    print(char)\n",
    "    print(num)"
   ]
  },
  {
   "cell_type": "markdown",
   "id": "0eb33be4-d697-45ec-8911-9a663bc1fe9c",
   "metadata": {},
   "source": [
    "## While loops"
   ]
  },
  {
   "cell_type": "markdown",
   "id": "1fe58673-a884-487f-881e-8169dd149149",
   "metadata": {},
   "source": [
    "Can create infinity loops! CAREFUL!!!\n",
    "\n",
    "Repeats something for an unknown number of times until the predicate is no longer true -> necessary to update the predicate in each run\n",
    "\n",
    "Syntax:\n",
    "\n",
    "    define loop_variable\n",
    "    while (predicate):\n",
    "        instructions\n",
    "        update loop_variable"
   ]
  },
  {
   "cell_type": "code",
   "execution_count": 13,
   "id": "3d27757e-f2c0-4659-a403-496b3cf82b36",
   "metadata": {},
   "outputs": [
    {
     "name": "stdout",
     "output_type": "stream",
     "text": [
      "0\n",
      "1\n",
      "2\n",
      "Ende. i = 3\n"
     ]
    }
   ],
   "source": [
    "i = 0\n",
    "while (i < 3):\n",
    "    print(i)\n",
    "    i += 1\n",
    "\n",
    "print(\"Ende. i =\",i)"
   ]
  },
  {
   "cell_type": "markdown",
   "id": "78f4d981-e0d9-4e3a-80fe-334be1e5cc05",
   "metadata": {},
   "source": [
    "## Nested Loops\n",
    "\n",
    "When Python encouters nested loops, it goes to the deepest level (the most inner loop) and repeats this loop as often as needed, only afterwards we go to the next iteration of the outer loop. If there are instructions inside the outer loop, they get performed once before the inner loop in each iteration."
   ]
  },
  {
   "cell_type": "code",
   "execution_count": 14,
   "id": "2f404384-e3c1-43cb-815f-3f27e211b6d2",
   "metadata": {},
   "outputs": [
    {
     "name": "stdout",
     "output_type": "stream",
     "text": [
      "0\n",
      "0 0\n",
      "0 1\n",
      "0 2\n",
      "1\n",
      "1 0\n",
      "1 1\n",
      "1 2\n"
     ]
    }
   ],
   "source": [
    "for i in range(2):\n",
    "    print(i)\n",
    "    for j in range(3):\n",
    "        print(i,j)"
   ]
  },
  {
   "cell_type": "markdown",
   "id": "e86b35b6-093f-43cc-bc47-0caa9ef3f44e",
   "metadata": {},
   "source": [
    "## The keywords break, continue and pass"
   ]
  },
  {
   "cell_type": "markdown",
   "id": "112a1538-4792-4087-8e55-3f440a787a42",
   "metadata": {},
   "source": [
    "The following are three more important keywords for functions. Try to use them only if you absolutley have to. \n",
    "\n",
    "`break`   \n",
    "- stops the innermost loop\n",
    "- can only be used inside loops\n",
    "- e.g. when searching for something, so you can stop looking once it's found\n",
    "\n",
    "`continue`\n",
    "- skips all parts of a loop coming after it\n",
    "- can only be used inside loops\n",
    "- use only when you're sure you don't need the calculations coming after it\n",
    "- e.g. when you are filtering your data\n",
    "\n",
    "`pass`\n",
    "- placeholder for future code\n",
    "- empty if/for/while/functions are not allowed in python. With pass you can create the logical structure of your code and fill it in bit by bit. This allows to test the individual parts during writing\n",
    "- use it only if you *know* what you want to put there! Write it down in a comment so you know what your plan was!!"
   ]
  },
  {
   "cell_type": "markdown",
   "id": "0eb52b4d-eaa1-4b98-9158-6df03b21f9bc",
   "metadata": {},
   "source": [
    "# Exercises"
   ]
  },
  {
   "cell_type": "markdown",
   "id": "d90fa1cd-b0a6-495e-8912-3c59d624ff06",
   "metadata": {},
   "source": [
    "## Exercise 32 - Your first loops\n",
    "All following loops should run at least over a range from 0 to 21.   \n",
    "Write one loop that sums up all numbers in the set range.   \n",
    "Write another loop that sums up only the even numbers in the set range.   \n",
    "Write a third loop that sums up only the odd numbers in the set range.   \n",
    "Print out all three results."
   ]
  },
  {
   "cell_type": "code",
   "execution_count": 15,
   "id": "ed943255-fd57-45ce-b694-7bee882ac4e7",
   "metadata": {},
   "outputs": [
    {
     "name": "stdout",
     "output_type": "stream",
     "text": [
      "231\n"
     ]
    }
   ],
   "source": [
    "#first loop\n",
    "\n",
    "#create the helper variable I am going to change\n",
    "sum = 0\n",
    "#create the loop\n",
    "for i in range(22):\n",
    "    sum = sum + i\n",
    "#print the endresult\n",
    "print(sum)"
   ]
  },
  {
   "cell_type": "code",
   "execution_count": 16,
   "id": "d75bb34d-8f06-4a4c-80e8-e1ab2dbd1fd7",
   "metadata": {},
   "outputs": [
    {
     "name": "stdout",
     "output_type": "stream",
     "text": [
      "110\n"
     ]
    }
   ],
   "source": [
    "#second loop, even numbers\n",
    "\n",
    "#create the helper variable I am going to change\n",
    "sum2 = 0\n",
    "#create the loop\n",
    "for i in range(0,22,2):\n",
    "    sum2 = sum2 + i\n",
    "#print the endresult\n",
    "print(sum2)"
   ]
  },
  {
   "cell_type": "code",
   "execution_count": 17,
   "id": "545487ba-cf5c-41b8-91ec-d8ba9b37a243",
   "metadata": {},
   "outputs": [
    {
     "name": "stdout",
     "output_type": "stream",
     "text": [
      "121\n"
     ]
    }
   ],
   "source": [
    "#third loop, odd numbers\n",
    "\n",
    "#create the helper variable I am going to change\n",
    "sum3 = 0\n",
    "#create the loop\n",
    "for i in range(1,22,2):\n",
    "    sum3 = sum3 + i\n",
    "#print the endresult\n",
    "print(sum3)"
   ]
  },
  {
   "cell_type": "markdown",
   "id": "9bcd85ea-61d2-497f-9d41-927138b0c6f6",
   "metadata": {},
   "source": [
    "## Exercise 33 - More for loops\n",
    "Create a list that contains at least 20 different numbers that aren’t sorted (Don’t use range for\n",
    "the generation of the list). Write a loop that runs over all elements of the list and adds them\n",
    "all up (sum up all elements). Write a second loop that tells the user for each element whether\n",
    "it is bigger or lower than a number specified by him (This number should be generated by\n",
    "using input before the start of the loop)."
   ]
  },
  {
   "cell_type": "code",
   "execution_count": 18,
   "id": "a9701d0a-c3a2-4526-9713-e57822db5f64",
   "metadata": {},
   "outputs": [
    {
     "name": "stdout",
     "output_type": "stream",
     "text": [
      "22\n"
     ]
    }
   ],
   "source": [
    "#creating the list\n",
    "list3 = [2,4,50,1,-56,-4-2,5,0,8,9,345,-527,568,0.67,1.54,7,5.67,-2.456,-0.12,567,5,2]\n",
    "\n",
    "#checking how many elements I have in my list\n",
    "print(len(list3))"
   ]
  },
  {
   "cell_type": "code",
   "execution_count": 19,
   "id": "499ddf16-6bba-4753-8a66-7e686ffb45ba",
   "metadata": {},
   "outputs": [
    {
     "name": "stdout",
     "output_type": "stream",
     "text": [
      "The sum of my list is 989.3040000000001\n"
     ]
    }
   ],
   "source": [
    "#first loop, summing up all elements\n",
    "\n",
    "#creating the helper variable\n",
    "sum3 = 0\n",
    "\n",
    "#writing the loop\n",
    "for num in list3:\n",
    "    sum3 = sum3 + num\n",
    "\n",
    "#showing the result\n",
    "print(\"The sum of my list is\", sum3)"
   ]
  },
  {
   "cell_type": "code",
   "execution_count": 20,
   "id": "f5c4cb71-72bd-4e89-b5d5-16ba8264e35e",
   "metadata": {},
   "outputs": [
    {
     "name": "stdout",
     "output_type": "stream",
     "text": [
      "2 = 2\n",
      "4 > 2\n",
      "50 > 2\n",
      "1 < 2\n",
      "-56 < 2\n",
      "-6 < 2\n",
      "5 > 2\n",
      "0 < 2\n",
      "8 > 2\n",
      "9 > 2\n",
      "345 > 2\n",
      "-527 < 2\n",
      "568 > 2\n",
      "0.67 < 2\n",
      "1.54 < 2\n",
      "7 > 2\n",
      "5.67 > 2\n",
      "-2.456 < 2\n",
      "-0.12 < 2\n",
      "567 > 2\n",
      "5 > 2\n",
      "2 = 2\n"
     ]
    }
   ],
   "source": [
    "#second loop, is the number bigger or smaller than my variable\n",
    "\n",
    "#defining my variable\n",
    "var1 = 2\n",
    "\n",
    "#writing my loop\n",
    "for num in list3:\n",
    "    if num < var1:\n",
    "        print(num,\"<\",var1)\n",
    "    elif num > var1:\n",
    "        print(num,\">\",var1)\n",
    "    elif num == var1:\n",
    "        print(num, \"=\", var1)\n",
    "    else:\n",
    "        print(\"Error\")"
   ]
  },
  {
   "cell_type": "markdown",
   "id": "491fe672-83de-47f0-9c96-cb83453fd5ae",
   "metadata": {},
   "source": [
    "## Exercise 34 - Looping a dictionary\n",
    "Write a program that creates a dictionary containing at least four key/value pairs. The values\n",
    "should be numbers. Write a loop that iterates over the dictionary and compares each value\n",
    "with the number 10. Tell the user whether the value bigger, smaller or equal to the number\n",
    "10. Use print outs that contain the key and the value."
   ]
  },
  {
   "cell_type": "code",
   "execution_count": 21,
   "id": "49bc0e0d-d282-420d-9745-695f5d942c45",
   "metadata": {},
   "outputs": [
    {
     "name": "stdout",
     "output_type": "stream",
     "text": [
      "Banana with a value of 2 is smaller 10\n",
      "Orange with a value of 1 is smaller 10\n",
      "Grapes with a value of 20 is bigger 10\n",
      "Grapefruit with a value of 0 is smaller 10\n"
     ]
    }
   ],
   "source": [
    "#creating the dictionary\n",
    "dict2 = {\"Banana\":2,\"Orange\":1,\"Grapes\":20,\"Grapefruit\":0}\n",
    "\n",
    "#creating the loop\n",
    "for key in dict2:\n",
    "    if dict2[key] < 10:\n",
    "        print(key, \"with a value of\", dict2[key], \"is smaller 10\")\n",
    "    elif dict2[key] > 10:\n",
    "        print(key, \"with a value of\", dict2[key], \"is bigger 10\")\n",
    "    elif dict2[key] == 10:\n",
    "        print(key, \"with a value of\", dict2[key], \"is equal to 10\")"
   ]
  },
  {
   "cell_type": "markdown",
   "id": "d1f1d798-60b7-4137-b10f-d57a386e604c",
   "metadata": {},
   "source": [
    "## Exercise 35 - zip in for\n",
    "Write a program that creates three different lists of different lengths. Loop over all possible\n",
    "two-fold combinations with one for loop each by using zip. Print out both elements of the lists\n",
    "during each iteration."
   ]
  },
  {
   "cell_type": "code",
   "execution_count": 22,
   "id": "447140ce-fd82-499e-b23d-906aebf8dc32",
   "metadata": {},
   "outputs": [
    {
     "name": "stdout",
     "output_type": "stream",
     "text": [
      "1 and 15\n",
      "2 and 16\n",
      "3 and 17\n",
      "4 and 18\n",
      "\n",
      "1 and a\n",
      "2 and b\n",
      "3 and c\n",
      "\n",
      "15 and a\n",
      "16 and b\n",
      "17 and c\n"
     ]
    }
   ],
   "source": [
    "listA = [1,2,3,4]\n",
    "listB = [15,16,17,18,19,20]\n",
    "listC = [\"a\",\"b\",\"c\"]\n",
    "\n",
    "for a,b in zip(listA,listB):\n",
    "    print(a,\"and\",b)\n",
    "print()\n",
    "\n",
    "for a,c in zip(listA,listC):\n",
    "    print(a,\"and\",c)\n",
    "print()\n",
    "\n",
    "for b,c in zip(listB,listC):\n",
    "    print(b,\"and\",c)"
   ]
  },
  {
   "cell_type": "markdown",
   "id": "127e84dd-2133-45cf-a376-a6301dd1cca9",
   "metadata": {},
   "source": [
    "## Exercise 36 - Using enumerate\n",
    "Write a program that defines three different lists, which contain different datatypes. Create\n",
    "three loops, one for each list, with the help of enumerate. Try different start values for the\n",
    "index value."
   ]
  },
  {
   "cell_type": "code",
   "execution_count": 23,
   "id": "ebca43c5-0a95-4333-a7a5-740ee99f535b",
   "metadata": {},
   "outputs": [
    {
     "name": "stdout",
     "output_type": "stream",
     "text": [
      "a\t b\t c\t char\t dict1\t dict2\t elem\t fruit\t i\t \n",
      "idx\t j\t key\t list1\t list2\t list3\t listA\t listB\t listC\t \n",
      "mix\t mixed\t num\t sum\t sum0\t sum2\t sum3\t val\t value\t \n",
      "var1\t \n"
     ]
    }
   ],
   "source": [
    "%who"
   ]
  },
  {
   "cell_type": "code",
   "execution_count": 24,
   "id": "244c6682-db20-4c32-9497-9c60ca030aad",
   "metadata": {},
   "outputs": [],
   "source": [
    "#create three lists\n",
    "list4 = [\"Birke\",\"Ahorn\",\"Apfel\",\"Eiche\",\"Esche\"]\n",
    "list5 = [2,4,6,8,3,5,7,9,-10,-0.5]\n",
    "list6 = [True,False,False,True,True,False]"
   ]
  },
  {
   "cell_type": "code",
   "execution_count": 25,
   "id": "e8fa4317-6cea-44af-b26b-b6a80ba36a5f",
   "metadata": {},
   "outputs": [
    {
     "name": "stdout",
     "output_type": "stream",
     "text": [
      "0: Birke\n",
      "1: Ahorn\n",
      "2: Apfel\n",
      "3: Eiche\n",
      "4: Esche\n",
      "\n",
      "10: Birke\n",
      "11: Ahorn\n",
      "12: Apfel\n",
      "13: Eiche\n",
      "14: Esche\n"
     ]
    }
   ],
   "source": [
    "# first loop\n",
    "for idx, baum in enumerate(list4):\n",
    "    print(f\"{idx}: {baum}\")\n",
    "\n",
    "print()\n",
    "\n",
    "for idx, baum in enumerate(list4,start = 10):\n",
    "    print(f\"{idx}: {baum}\")"
   ]
  },
  {
   "cell_type": "code",
   "execution_count": 26,
   "id": "5457cf0a-9ad4-4f2b-a031-1cc1741732f8",
   "metadata": {},
   "outputs": [
    {
     "name": "stdout",
     "output_type": "stream",
     "text": [
      "1: 2\n",
      "2: 6\n",
      "3: 12\n",
      "4: 20\n",
      "5: 23\n",
      "6: 28\n",
      "7: 35\n",
      "8: 44\n",
      "9: 34\n",
      "10: 33.5\n"
     ]
    }
   ],
   "source": [
    "# second loop, running sum\n",
    "sum4 = 0\n",
    "for idx, zahl in enumerate(list5, start = 1):\n",
    "    sum4 = sum4 + zahl\n",
    "    print(f\"{idx}: {sum4}\")"
   ]
  },
  {
   "cell_type": "code",
   "execution_count": 27,
   "id": "c54ab76c-b16b-4f4f-9135-18b8ebab95d3",
   "metadata": {},
   "outputs": [
    {
     "name": "stdout",
     "output_type": "stream",
     "text": [
      "5000 True\n",
      "5001 False\n",
      "5002 False\n",
      "5003 True\n",
      "5004 True\n",
      "5005 False\n"
     ]
    }
   ],
   "source": [
    "#third loop, booleans\n",
    "for idx, value in enumerate(list6,start=5000):\n",
    "    print(idx, value)"
   ]
  },
  {
   "cell_type": "markdown",
   "id": "0c7ea633-051c-453b-97fb-79a8c3086391",
   "metadata": {},
   "source": [
    "## Exercise 37 - While loops\n",
    "\n",
    "Write a program that uses while loops to finish the tasks below:  \n",
    "Dividing a number of your choice (> 100) by 2 until it’s smaller than 5 (as long its bigger\n",
    "than 5)  \n",
    "Adding up the elements of a list of your choice until the sum is bigger than a threshold\n",
    "of your choice"
   ]
  },
  {
   "cell_type": "code",
   "execution_count": 28,
   "id": "99926dfb-fc30-47cc-a66b-e05c2898b4fb",
   "metadata": {},
   "outputs": [
    {
     "name": "stdout",
     "output_type": "stream",
     "text": [
      "120 is still too big\n",
      "60.0 is still too big\n",
      "30.0 is still too big\n",
      "15.0 is still too big\n",
      "7.5 is still too big\n",
      "small enough now\n"
     ]
    }
   ],
   "source": [
    "#loop no1\n",
    "num1 = 120\n",
    "while (num1 > 5):\n",
    "    print(num1,\"is still too big\")\n",
    "    num1 /= 2\n",
    "\n",
    "print(\"small enough now\")"
   ]
  },
  {
   "cell_type": "code",
   "execution_count": 29,
   "id": "ebf7f9c1-458f-4f6a-b3e4-2a1460e6b88c",
   "metadata": {},
   "outputs": [
    {
     "name": "stdout",
     "output_type": "stream",
     "text": [
      "0 2 2\n",
      "New index: 1\n",
      "\n",
      "1 4 6\n",
      "New index: 2\n",
      "\n",
      "2 5 11\n",
      "New index: 3\n",
      "\n",
      "3 8 19\n",
      "New index: 4\n",
      "\n",
      "4 95.87 114.87\n",
      "New index: 5\n",
      "\n"
     ]
    }
   ],
   "source": [
    "#loop no 2\n",
    "list_w = [2,4,5,8,95.87,5,4,7]\n",
    "\n",
    "#define some helper variables\n",
    "idx_w = 0\n",
    "sum_w = 0\n",
    "#note that this only works if I can reach 100 within my list!!\n",
    "#for as long as my sum is below 100\n",
    "while (sum_w < 100):\n",
    "    #add the value of list_w at the index defined by idx_w to sum_w\n",
    "    #this changes my while variable in a way that my predicate may turn false eventually\n",
    "    sum_w += list_w[idx_w]\n",
    "    #print the index, the corresponding value and the current sum\n",
    "    print(idx_w,list_w[idx_w],sum_w)\n",
    "    #increase the index by one, so I will add the next value in the next go\n",
    "    idx_w += 1\n",
    "    #print the new index:\n",
    "    print(\"New index:\",idx_w)\n",
    "    print()"
   ]
  },
  {
   "cell_type": "code",
   "execution_count": 30,
   "id": "db221630-b22a-4b79-ab10-af9354b81fc3",
   "metadata": {},
   "outputs": [
    {
     "name": "stdout",
     "output_type": "stream",
     "text": [
      "130.87\n"
     ]
    }
   ],
   "source": [
    "#checking what the total sum of my list is\n",
    "sum0=0\n",
    "for num in list_w:\n",
    "    sum0 += num\n",
    "print(sum0)"
   ]
  },
  {
   "cell_type": "code",
   "execution_count": 31,
   "id": "3634d152-5ba5-44d4-bee1-2f26656dbe8d",
   "metadata": {},
   "outputs": [
    {
     "name": "stdout",
     "output_type": "stream",
     "text": [
      "index = 0 value = 2\n",
      "1. iteration of list\n",
      "sum = 2\n",
      "New index: 1\n",
      "\n",
      "index = 1 value = 4\n",
      "1. iteration of list\n",
      "sum = 6\n",
      "New index: 2\n",
      "\n",
      "index = 2 value = 5\n",
      "1. iteration of list\n",
      "sum = 11\n",
      "New index: 3\n",
      "\n",
      "index = 3 value = 8\n",
      "1. iteration of list\n",
      "sum = 19\n",
      "New index: 4\n",
      "\n",
      "index = 4 value = 95.87\n",
      "1. iteration of list\n",
      "sum = 114.87\n",
      "New index: 5\n",
      "\n",
      "index = 5 value = 5\n",
      "1. iteration of list\n",
      "sum = 119.87\n",
      "New index: 6\n",
      "\n",
      "index = 6 value = 4\n",
      "1. iteration of list\n",
      "sum = 123.87\n",
      "New index: 7\n",
      "\n",
      "index = 7 value = 7\n",
      "1. iteration of list\n",
      "sum = 130.87\n",
      "New index: 8\n",
      "\n",
      "Reset idx_w to 0\n",
      "index = 0 value = 2\n",
      "2. iteration of list\n",
      "sum = 132.87\n",
      "New index: 1\n",
      "\n",
      "index = 1 value = 4\n",
      "2. iteration of list\n",
      "sum = 136.87\n",
      "New index: 2\n",
      "\n",
      "index = 2 value = 5\n",
      "2. iteration of list\n",
      "sum = 141.87\n",
      "New index: 3\n",
      "\n"
     ]
    }
   ],
   "source": [
    "#My sum is 130, so as long as I only want to reach 100 that's ok. \n",
    "#If I want a higher number and need to reiterate over the list over an over again I have to reset the index\n",
    "\n",
    "#setting helper variables: index, sum and which re-iteration of the list I'm at\n",
    "idx_w = 0\n",
    "sum_w = 0\n",
    "reit = 0\n",
    "\n",
    "# I now add an if statement to my while loop to reiterate the list if needed\n",
    "#for as long as my sum is < 140\n",
    "while (sum_w < 140):\n",
    "    #if I reached the end of my list (idx_w == len(list_w) is the first index that is out of bounds):\n",
    "    if idx_w == len(list_w):\n",
    "        #reset the index to 0\n",
    "        idx_w = 0\n",
    "        #tell me that I did reset the index\n",
    "        print(\"Reset idx_w to 0\")\n",
    "        #remember that I am in a new iteration of the list by increasing by reiteration variable\n",
    "        reit +=1\n",
    "    #add the current value to my sum\n",
    "    sum_w += list_w[idx_w]\n",
    "    #print my results, which index with what value am I at\n",
    "    print(\"index =\",idx_w,\"value =\",list_w[idx_w])\n",
    "    #which re-iteration of the list am I at\n",
    "    print(f\"{reit+1}. iteration of list\")\n",
    "    #What is my current sum\n",
    "    print(\"sum =\",sum_w)\n",
    "    #increase the index by one to access the next value in my list\n",
    "    idx_w += 1\n",
    "    #print the new index\n",
    "    print(\"New index:\",idx_w)\n",
    "    print()"
   ]
  },
  {
   "cell_type": "markdown",
   "id": "7304b8e1-7d40-45e9-a628-23e4682ba4c9",
   "metadata": {},
   "source": [
    "## Exercise 38 - Nested Loops\n",
    "Write a Program that uses nested loops to tackle the tasks below:  \n",
    "Loop through a two-dimensional list (= list in a list!) and print out each element  \n",
    "Loop through a two-dimensional list and add up all elements  \n",
    "Loop over two ranges and multiply the loop variables with each other  "
   ]
  },
  {
   "cell_type": "code",
   "execution_count": 32,
   "id": "34b61aec-7309-4c49-b7df-e4c82b5ceb73",
   "metadata": {},
   "outputs": [],
   "source": [
    "# Define the lists\n",
    "list1 = [[1,2,3],[4,5,6],[7,8,9]]\n",
    "multi_list1 = [[1.1,1.2,1.3,1.4,1.5,1.6],[2.4,2.5,2.6,2.7,2.8,2.9],[5.7,5.8,5.9,6.0,6.1,6.2]]"
   ]
  },
  {
   "cell_type": "code",
   "execution_count": 33,
   "id": "20808e33-9f8d-4b2a-9d33-452f7aff10b5",
   "metadata": {},
   "outputs": [
    {
     "name": "stdout",
     "output_type": "stream",
     "text": [
      "[1, 2, 3]\n",
      "1\n",
      "2\n",
      "3\n",
      "[4, 5, 6]\n",
      "4\n",
      "5\n",
      "6\n",
      "[7, 8, 9]\n",
      "7\n",
      "8\n",
      "9\n"
     ]
    }
   ],
   "source": [
    "# Loop through a two-dimensional list (= list in a list!) and print out each element  \n",
    "for sublist in list1:\n",
    "    print(sublist)\n",
    "    for val in sublist:\n",
    "        print(val)"
   ]
  },
  {
   "cell_type": "code",
   "execution_count": 34,
   "id": "e3c25771-4de0-495f-9c28-326a03701868",
   "metadata": {},
   "outputs": [
    {
     "name": "stdout",
     "output_type": "stream",
     "text": [
      "[1.1, 1.2, 1.3, 1.4, 1.5, 1.6]\n",
      "1.1\n",
      "1.2\n",
      "1.3\n",
      "1.4\n",
      "1.5\n",
      "1.6\n",
      "[2.4, 2.5, 2.6, 2.7, 2.8, 2.9]\n",
      "2.4\n",
      "2.5\n",
      "2.6\n",
      "2.7\n",
      "2.8\n",
      "2.9\n",
      "[5.7, 5.8, 5.9, 6.0, 6.1, 6.2]\n",
      "5.7\n",
      "5.8\n",
      "5.9\n",
      "6.0\n",
      "6.1\n",
      "6.2\n"
     ]
    }
   ],
   "source": [
    "# Loop through a two-dimensional list (= list in a list!) and print out each element  \n",
    "for sublist in multi_list1:\n",
    "    print(sublist)\n",
    "    for val in sublist:\n",
    "        print(val)"
   ]
  },
  {
   "cell_type": "code",
   "execution_count": 35,
   "id": "62eb3aeb-a26f-4845-98a3-4973c2c0e551",
   "metadata": {},
   "outputs": [
    {
     "name": "stdout",
     "output_type": "stream",
     "text": [
      "59.7\n"
     ]
    }
   ],
   "source": [
    "# Loop through a two-dimensional list and add up all elements \n",
    "sum_list = 0\n",
    "for sublist in multi_list1:\n",
    "    for val in sublist:\n",
    "        sum_list += val\n",
    "print(sum_list)"
   ]
  },
  {
   "cell_type": "code",
   "execution_count": 36,
   "id": "ce3c4471-d1f9-4ea2-9844-ae380ba8834c",
   "metadata": {},
   "outputs": [
    {
     "name": "stdout",
     "output_type": "stream",
     "text": [
      "1 * 1 = 1\n",
      "1 * 2 = 2\n",
      "1 * 3 = 3\n",
      "1 * 4 = 4\n",
      "2 * 1 = 2\n",
      "2 * 2 = 4\n",
      "2 * 3 = 6\n",
      "2 * 4 = 8\n",
      "3 * 1 = 3\n",
      "3 * 2 = 6\n",
      "3 * 3 = 9\n",
      "3 * 4 = 12\n"
     ]
    }
   ],
   "source": [
    "# Loop over two ranges and multiply the loop variables with each other \n",
    "result1 = 1\n",
    "for i in range(1,4):\n",
    "    for j in range(1,5):\n",
    "        print(i,\"*\",j, \"=\",i*j)"
   ]
  },
  {
   "cell_type": "code",
   "execution_count": null,
   "id": "4605968f-0f63-48f2-9617-17fa4ce7bac3",
   "metadata": {},
   "outputs": [],
   "source": []
  }
 ],
 "metadata": {
  "kernelspec": {
   "display_name": "Python 3 (ipykernel)",
   "language": "python",
   "name": "python3"
  },
  "language_info": {
   "codemirror_mode": {
    "name": "ipython",
    "version": 3
   },
   "file_extension": ".py",
   "mimetype": "text/x-python",
   "name": "python",
   "nbconvert_exporter": "python",
   "pygments_lexer": "ipython3",
   "version": "3.12.2"
  }
 },
 "nbformat": 4,
 "nbformat_minor": 5
}
