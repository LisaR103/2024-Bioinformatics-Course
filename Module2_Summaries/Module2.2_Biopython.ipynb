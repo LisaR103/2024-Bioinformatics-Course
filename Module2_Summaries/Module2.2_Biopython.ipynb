{
 "cells": [
  {
   "cell_type": "markdown",
   "id": "fe75ba70-fa07-478a-b62c-31cfb7e8127a",
   "metadata": {},
   "source": [
    "# Table of content\n",
    "\n",
    "1. [Table of content](#Table-of-content)   \n",
    "2. [Biopython](#Biopython)\n",
    "3. [Useful websites](#Useful-websites)\n",
    "4. [XML files](#XML-files)\n",
    "5. [Biopython Entrez](#Biopython-Entrez)\n",
    "   1. [ez.einfo() and ez.read()](#ez.einfo()-and-ez.read())\n",
    "       - [Excursion: read()](#Excursion:-read())\n",
    "      1. [ez.einfo() without an argument](#ez.einfo()-without-an-argument)\n",
    "      2. [ez.einfo() with an argument](#ez.einfo()-with-an-argument)\n",
    "      3. [Finding the search terms available to a particular database](#Finding-the-search-terms-available-to-a-particular-database)\n",
    "   4. [ez.esearch()](#ez.esearch())\n",
    "   5. [ez.esummary()](#ez.esummary())\n",
    "      1. [esummary in the databases Gene and Biosample (and maybe others)](#esummary-in-the-databases-Gene-and-Biosample-(and-maybe-others))\n",
    "   6. [ez.efetch()](#ez.efetch())\n",
    "   7. [SeqIO](#SeqIO)\n",
    "   8. [ez.elink()](#ez.elink())\n",
    "   9. [ez.egquery()](#ez.egquery())\n",
    "   10. [Combining Functions](#Combining-Functions)\n",
    "6. [UniProt](#UniProt)\n",
    "   1. [ExPASy.get_sprot_raw()](ExPASy.get_sprot_raw())\n",
    "   2. [SwissProt.read()](#SwissProt.read())\n",
    "7. [PDB](#PDB)   \n",
    "8. [Exercises](#Exercises)\n",
    "    1. [Exercise 6 - Using ez.einfo](#Exercise-6---Using-ez.einfo)\n",
    "    2. [Exercise 7 - Searching NCBI Databases](#Exercise-7---Searching-NCBI-Databases)\n",
    "    3. [Exercise 8 - Creating Summaries](#Exercise-8---Creating-Summaries)\n",
    "    4. [Exercise 9 - Fetching Data](#Exercise-9---Fetching-Data)\n",
    "    5. [Exercise 10 - Linked data](#Exercise-10---Linked-data)\n",
    "    6. [Exercise 11 - Global Searches](#Exercise-11---Global-Searches)\n",
    "    7. [Exercise 12 - A pipeline](#Exercise-12-A-pipeline)"
   ]
  },
  {
   "cell_type": "markdown",
   "id": "bb1d71af-5c60-4b37-9f46-f047a015fdaa",
   "metadata": {},
   "source": [
    "# Biopython"
   ]
  },
  {
   "cell_type": "markdown",
   "id": "8889c485-e2c0-44f5-ad1d-d2cea5a94348",
   "metadata": {},
   "source": [
    "Big collection of tools for biological computation in Python.\n",
    "\n",
    "- Interacts with common bioinformatics programs\n",
    "- Also used to read in data from databases (e.g. Entrez, UniPot). Developed in colaboration with scientists from the databases.\n",
    "- Allows to read many bioinformatics files (e.g. fasta, genbank)\n",
    "- Can start command line tools like BLAST or Alignment Tools from EMBL (usually started from terminal)\n",
    "- *Extremely* big module. Never import the whole Biopython but only the submodules you need"
   ]
  },
  {
   "cell_type": "markdown",
   "id": "5582c066-a36f-4805-b2d2-1fe1918a7912",
   "metadata": {},
   "source": [
    "# Useful websites"
   ]
  },
  {
   "cell_type": "markdown",
   "id": "b24ecc77-6581-4840-a1c8-2ecce8ec8472",
   "metadata": {},
   "source": [
    "https://biopython.org/DIST/docs/tutorial/Tutorial.html\n",
    "\n",
    "https://biopython.org/wiki"
   ]
  },
  {
   "cell_type": "markdown",
   "id": "7e884f46-d264-458f-ba3d-49c33397ecc7",
   "metadata": {},
   "source": [
    "# XML files"
   ]
  },
  {
   "cell_type": "markdown",
   "id": "f8889799-6a25-49b0-a7d6-4098f7d1c909",
   "metadata": {},
   "source": [
    "XML = extensible mashup language     \n",
    "Allows to store data, similar to html files. \n",
    "\n",
    "3 elements:\n",
    "\n",
    "- tags (structure elemetns)\n",
    "- attributes (additional information added to tags)\n",
    "- values (our data)\n",
    "\n",
    "Example Syntax:\n",
    "\n",
    "    <protein_list>\n",
    "        <protein>\n",
    "            <name>RNA-Polymerase</name>\n",
    "            <weight unit=\"Da\">50473</weight>\n",
    "        </protein>\n",
    "    <protein_list>\n",
    "\n",
    "- `<>` are the opening tags and `</>` are the closing tags. Every opening tag must have a closing tag.\n",
    "- anything written between `<>` and `</>` is the value, e.g. the name of the protein RNA-Polymerase or its weight\n",
    "- if the opening tag contains information that the closing tag doesn't have this is an attribute. The syntax for attributes is always `attributename=attributevalue`. Without spaces!! There can be more than one attribute.\n",
    "- indentation is *not* important as long as the hierachy is correct. it does make readability easier though.\n",
    "\n",
    "There are many ways to read in xml files. Most often a nested dictionary is the easiest since it allows us to access the tree structure through the keys. Every tag becomse a key. If a tag occurs twice at the same level of the hierachy a list is created"
   ]
  },
  {
   "cell_type": "markdown",
   "id": "2c1bf435-7086-4e9a-871d-5da8ba27737b",
   "metadata": {},
   "source": [
    "# Biopython Entrez"
   ]
  },
  {
   "cell_type": "markdown",
   "id": "763adfd5-e8cd-4252-8f0f-7c7da135cf44",
   "metadata": {},
   "source": [
    "To use the web services of Biopython in combination with the Entrez NCBI database we use the submodule `Bio.Entrez`\n",
    "\n",
    "import Syntax\n",
    "\n",
    "    import Bio.Entrez as ez\n",
    "\n",
    "At the beginning we always have to hand over an email (for notification in case of downtime). Can be an empty string, but the line has to be there.\n",
    "\n",
    "    ez.email = \"\"\n",
    "\n",
    "The data sent from the server is always is a text file, most often .xlm. The best way to read in Entrez data is the built-in function of Bio.Entrez, but other parsers would work just maybe not as well"
   ]
  },
  {
   "cell_type": "markdown",
   "id": "07f0b725-d3dd-4e1e-84a5-c4c0679cd6b8",
   "metadata": {},
   "source": [
    "## ez.einfo() and ez.read()"
   ]
  },
  {
   "cell_type": "markdown",
   "id": "b780b56c-c4ef-4089-b660-cdb0f5c8c34c",
   "metadata": {},
   "source": [
    "### Excursion: read()\n",
    "\n",
    "read is a function of a text file that simply reads the whole thing\n",
    "\n",
    "Syntax:\n",
    "\n",
    "    textfile.read()\n",
    "\n",
    "Useful in combination with `print` `print(textfile.read())` for *short* textfiles\n",
    "\n",
    "Unlike `ez.read()` which is a Biopython inbuilt method.\n",
    "\n",
    "Use `read` when `ez.read` or `SeqIO.read` are not possible"
   ]
  },
  {
   "cell_type": "markdown",
   "id": "6bc2490f-b735-48af-8dde-9901970ffb6f",
   "metadata": {},
   "source": [
    "### ez.einfo() without an argument"
   ]
  },
  {
   "cell_type": "markdown",
   "id": "0c8f5c3e-35b3-4e09-9003-701db563282e",
   "metadata": {},
   "source": [
    "`einfo` helps to create good search queries. It has 2 purposes\n",
    "\n",
    "1. to get a,list of available databases (without argument)\n",
    "2. to get more infromation about a specific database of the NCBI (with the db as argument)\n",
    "\n",
    "`einfo`requires a `with` statement. Anything inside the `with` statements happens while we are connected to the NCBI servers. Once we are outside of it again (indentation at level of `with`, rather than inside) the connection is closed again\n",
    "\n",
    "Syntax (not preferred):\n",
    "\n",
    "    with ez.einfo() as query:\n",
    "        xml_string = query.read()\n",
    "\n",
    "However, it is better to use `ez.read`, this creates a dictionary out of the .xml file. Better readability\n",
    "\n",
    "Syntax (preferred):\n",
    "\n",
    "    with ez.einfo() as query:\n",
    "        parse_dict = ez.read(query)\n",
    "\n",
    "The name (`query`) can be freely chosen, but it is customary to use `query` for searches or `handle` for downloads\n",
    "\n",
    "Without any arguments `einfo` will return a list of databases available in the NCBI. Note that the names may differ from the website. e.g. GeneBank is nuccore\n",
    "\n",
    "`ez.read()` always creates a dictionary. One `with` statement only allows to read in a single file. For several queries several `with` statements are necessary. `ez.read` *only works with .xml files!!*"
   ]
  },
  {
   "cell_type": "code",
   "execution_count": 1,
   "id": "d1a4305e-75f3-404f-b8d7-f044fd7b66b2",
   "metadata": {},
   "outputs": [
    {
     "name": "stdout",
     "output_type": "stream",
     "text": [
      "Output of query.read():\n",
      "b'<?xml version=\"1.0\" encoding=\"UTF-8\" ?>\\n<!DOCTYPE eInfoResult PUBLIC \"-//NLM//DTD einfo 20190110//EN\" \"https://eutils.ncbi.nlm.nih.gov/eutils/dtd/20190110/einfo.dtd\">\\n<eInfoResult>\\n<DbList>\\n\\n\\t<DbName>pubmed</DbName>\\n\\t<DbName>protein</DbName>\\n\\t<DbName>nuccore</DbName>\\n\\t<DbName>ipg</DbName>\\n\\t<DbName>nucleotide</DbName>\\n\\t<DbName>structure</DbName>\\n\\t<DbName>genome</DbName>\\n\\t<DbName>annotinfo</DbName>\\n\\t<DbName>assembly</DbName>\\n\\t<DbName>bioproject</DbName>\\n\\t<DbName>biosample</DbName>\\n\\t<DbName>blastdbinfo</DbName>\\n\\t<DbName>books</DbName>\\n\\t<DbName>cdd</DbName>\\n\\t<DbName>clinvar</DbName>\\n\\t<DbName>gap</DbName>\\n\\t<DbName>gapplus</DbName>\\n\\t<DbName>grasp</DbName>\\n\\t<DbName>dbvar</DbName>\\n\\t<DbName>gene</DbName>\\n\\t<DbName>gds</DbName>\\n\\t<DbName>geoprofiles</DbName>\\n\\t<DbName>medgen</DbName>\\n\\t<DbName>mesh</DbName>\\n\\t<DbName>nlmcatalog</DbName>\\n\\t<DbName>omim</DbName>\\n\\t<DbName>orgtrack</DbName>\\n\\t<DbName>pmc</DbName>\\n\\t<DbName>popset</DbName>\\n\\t<DbName>proteinclusters</DbName>\\n\\t<DbName>pcassay</DbName>\\n\\t<DbName>protfam</DbName>\\n\\t<DbName>pccompound</DbName>\\n\\t<DbName>pcsubstance</DbName>\\n\\t<DbName>seqannot</DbName>\\n\\t<DbName>snp</DbName>\\n\\t<DbName>sra</DbName>\\n\\t<DbName>taxonomy</DbName>\\n\\t<DbName>biocollections</DbName>\\n\\t<DbName>gtr</DbName>\\n</DbList>\\n\\n</eInfoResult>\\n'\n",
      "\n",
      "##########################################################\n",
      "\n",
      "Output of ez.read(query):\n",
      "{'DbList': ['pubmed', 'protein', 'nuccore', 'ipg', 'nucleotide', 'structure', 'genome', 'annotinfo', 'assembly', 'bioproject', 'biosample', 'blastdbinfo', 'books', 'cdd', 'clinvar', 'gap', 'gapplus', 'grasp', 'dbvar', 'gene', 'gds', 'geoprofiles', 'medgen', 'mesh', 'nlmcatalog', 'omim', 'orgtrack', 'pmc', 'popset', 'proteinclusters', 'pcassay', 'protfam', 'pccompound', 'pcsubstance', 'seqannot', 'snp', 'sra', 'taxonomy', 'biocollections', 'gtr']}\n"
     ]
    }
   ],
   "source": [
    "import Bio.Entrez as ez\n",
    "\n",
    "ez.email = \"\"\n",
    "\n",
    "with ez.einfo() as query:\n",
    "        xml_string = query.read()\n",
    "\n",
    "print(\"Output of query.read():\")\n",
    "print(xml_string)\n",
    "\n",
    "print()\n",
    "print(\"##########################################################\")\n",
    "print()\n",
    "\n",
    "with ez.einfo() as query:\n",
    "    parse_dict = ez.read(query)\n",
    "\n",
    "print(\"Output of ez.read(query):\")\n",
    "print(parse_dict)"
   ]
  },
  {
   "cell_type": "markdown",
   "id": "325bd107-b8f2-4a22-839a-5bf3c8d2ec50",
   "metadata": {},
   "source": [
    "### ez.einfo() with an argument"
   ]
  },
  {
   "cell_type": "markdown",
   "id": "be4f960c-ee71-4379-840c-35f468477420",
   "metadata": {},
   "source": [
    "To search a specific server we add it as arguments to `einfo`\n",
    "\n",
    "Syntax to search in PubMed:\n",
    "\n",
    "    with ez.einfo(db = \"pubmed\") as query:\n",
    "        answer_dict = ez.read(query)\n",
    "\n",
    "The important key combination to see which search terms are available for a particular database, see also example below.\n",
    "\n",
    "    answer_dict[\"DbInfo\"][\"FieldList\"]"
   ]
  },
  {
   "cell_type": "code",
   "execution_count": 2,
   "id": "f519aef6-0dc1-43f3-b269-a08099bde677",
   "metadata": {
    "scrolled": true
   },
   "outputs": [
    {
     "name": "stdout",
     "output_type": "stream",
     "text": [
      "{'DbInfo': {'DbName': 'pubmed', 'MenuName': 'PubMed', 'Description': 'PubMed bibliographic record', 'DbBuild': 'Build-2024.03.14.07.38', 'Count': '36966824', 'LastUpdate': '2024/03/14 07:38', 'FieldList': [{'Name': 'ALL', 'FullName': 'All Fields', 'Description': 'All terms from all searchable fields', 'TermCount': '', 'IsDate': 'N', 'IsNumerical': 'N', 'SingleToken': 'N', 'Hierarchy': 'N', 'IsHidden': 'N'}, {'Name': 'UID', 'FullName': 'UID', 'Description': 'Unique number assigned to publication', 'TermCount': '', 'IsDate': 'N', 'IsNumerical': 'Y', 'SingleToken': 'Y', 'Hierarchy': 'N', 'IsHidden': 'Y'}, {'Name': 'FILT', 'FullName': 'Filter', 'Description': 'Limits the records', 'TermCount': '', 'IsDate': 'N', 'IsNumerical': 'N', 'SingleToken': 'Y', 'Hierarchy': 'N', 'IsHidden': 'N'}, {'Name': 'TITL', 'FullName': 'Title', 'Description': 'Words in title of publication', 'TermCount': '', 'IsDate': 'N', 'IsNumerical': 'N', 'SingleToken': 'N', 'Hierarchy': 'N', 'IsHidden': 'N'}, {'Name': 'MESH', 'FullName': 'MeSH Terms', 'Description': 'Medical Subject Headings assigned to publication', 'TermCount': '', 'IsDate': 'N', 'IsNumerical': 'N', 'SingleToken': 'Y', 'Hierarchy': 'Y', 'IsHidden': 'N'}, {'Name': 'MAJR', 'FullName': 'MeSH Major Topic', 'Description': 'MeSH terms of major importance to publication', 'TermCount': '', 'IsDate': 'N', 'IsNumerical': 'N', 'SingleToken': 'Y', 'Hierarchy': 'Y', 'IsHidden': 'N'}, {'Name': 'JOUR', 'FullName': 'Journal', 'Description': 'Journal abbreviation of publication', 'TermCount': '', 'IsDate': 'N', 'IsNumerical': 'N', 'SingleToken': 'Y', 'Hierarchy': 'N', 'IsHidden': 'N'}, {'Name': 'AFFL', 'FullName': 'Affiliation', 'Description': \"Author's institutional affiliation and address\", 'TermCount': '', 'IsDate': 'N', 'IsNumerical': 'N', 'SingleToken': 'N', 'Hierarchy': 'N', 'IsHidden': 'N'}, {'Name': 'ECNO', 'FullName': 'EC/RN Number', 'Description': 'EC number for enzyme or CAS registry number', 'TermCount': '', 'IsDate': 'N', 'IsNumerical': 'N', 'SingleToken': 'Y', 'Hierarchy': 'N', 'IsHidden': 'N'}, {'Name': 'SUBS', 'FullName': 'Supplementary Concept', 'Description': 'CAS chemical name or MEDLINE Substance Name', 'TermCount': '', 'IsDate': 'N', 'IsNumerical': 'N', 'SingleToken': 'Y', 'Hierarchy': 'N', 'IsHidden': 'N'}, {'Name': 'PDAT', 'FullName': 'Date - Publication', 'Description': 'Date of publication', 'TermCount': '', 'IsDate': 'Y', 'IsNumerical': 'N', 'SingleToken': 'Y', 'Hierarchy': 'N', 'IsHidden': 'N'}, {'Name': 'EDAT', 'FullName': 'Date - Entry', 'Description': 'Date publication first accessible through Entrez', 'TermCount': '', 'IsDate': 'Y', 'IsNumerical': 'N', 'SingleToken': 'Y', 'Hierarchy': 'N', 'IsHidden': 'N'}, {'Name': 'VOL', 'FullName': 'Volume', 'Description': 'Volume number of publication', 'TermCount': '', 'IsDate': 'N', 'IsNumerical': 'N', 'SingleToken': 'Y', 'Hierarchy': 'N', 'IsHidden': 'N'}, {'Name': 'PAGE', 'FullName': 'Pagination', 'Description': 'Page number(s) of publication', 'TermCount': '', 'IsDate': 'N', 'IsNumerical': 'N', 'SingleToken': 'Y', 'Hierarchy': 'N', 'IsHidden': 'N'}, {'Name': 'PTYP', 'FullName': 'Publication Type', 'Description': 'Type of publication (e.g., review)', 'TermCount': '', 'IsDate': 'N', 'IsNumerical': 'N', 'SingleToken': 'Y', 'Hierarchy': 'Y', 'IsHidden': 'N'}, {'Name': 'LANG', 'FullName': 'Language', 'Description': 'Language of publication', 'TermCount': '', 'IsDate': 'N', 'IsNumerical': 'N', 'SingleToken': 'Y', 'Hierarchy': 'N', 'IsHidden': 'N'}, {'Name': 'ISS', 'FullName': 'Issue', 'Description': 'Issue number of publication', 'TermCount': '', 'IsDate': 'N', 'IsNumerical': 'N', 'SingleToken': 'Y', 'Hierarchy': 'N', 'IsHidden': 'N'}, {'Name': 'SUBH', 'FullName': 'MeSH Subheading', 'Description': 'Additional specificity for MeSH term', 'TermCount': '', 'IsDate': 'N', 'IsNumerical': 'N', 'SingleToken': 'Y', 'Hierarchy': 'Y', 'IsHidden': 'N'}, {'Name': 'SI', 'FullName': 'Secondary Source ID', 'Description': 'Cross-reference from publication to other databases', 'TermCount': '', 'IsDate': 'N', 'IsNumerical': 'N', 'SingleToken': 'Y', 'Hierarchy': 'N', 'IsHidden': 'N'}, {'Name': 'MHDA', 'FullName': 'Date - MeSH', 'Description': 'Date publication was indexed with MeSH terms', 'TermCount': '', 'IsDate': 'Y', 'IsNumerical': 'N', 'SingleToken': 'Y', 'Hierarchy': 'N', 'IsHidden': 'N'}, {'Name': 'TIAB', 'FullName': 'Title/Abstract', 'Description': 'Free text associated with Abstract/Title', 'TermCount': '', 'IsDate': 'N', 'IsNumerical': 'N', 'SingleToken': 'N', 'Hierarchy': 'N', 'IsHidden': 'N'}, {'Name': 'OTRM', 'FullName': 'Other Term', 'Description': 'Other terms associated with publication', 'TermCount': '', 'IsDate': 'N', 'IsNumerical': 'N', 'SingleToken': 'N', 'Hierarchy': 'N', 'IsHidden': 'N'}, {'Name': 'COLN', 'FullName': 'Author - Corporate', 'Description': 'Corporate Author of publication', 'TermCount': '', 'IsDate': 'N', 'IsNumerical': 'N', 'SingleToken': 'N', 'Hierarchy': 'N', 'IsHidden': 'N'}, {'Name': 'CNTY', 'FullName': 'Place of Publication', 'Description': 'Country of publication', 'TermCount': '', 'IsDate': 'N', 'IsNumerical': 'N', 'SingleToken': 'N', 'Hierarchy': 'N', 'IsHidden': 'Y'}, {'Name': 'PAPX', 'FullName': 'Pharmacological Action', 'Description': 'MeSH pharmacological action pre-explosions', 'TermCount': '', 'IsDate': 'N', 'IsNumerical': 'N', 'SingleToken': 'Y', 'Hierarchy': 'N', 'IsHidden': 'N'}, {'Name': 'GRNT', 'FullName': 'Grants and Funding', 'Description': 'NIH Grant Numbers', 'TermCount': '', 'IsDate': 'N', 'IsNumerical': 'N', 'SingleToken': 'Y', 'Hierarchy': 'N', 'IsHidden': 'N'}, {'Name': 'MDAT', 'FullName': 'Date - Modification', 'Description': 'Date of last modification', 'TermCount': '', 'IsDate': 'Y', 'IsNumerical': 'N', 'SingleToken': 'Y', 'Hierarchy': 'N', 'IsHidden': 'N'}, {'Name': 'CDAT', 'FullName': 'Date - Completion', 'Description': 'Date of completion', 'TermCount': '', 'IsDate': 'Y', 'IsNumerical': 'N', 'SingleToken': 'Y', 'Hierarchy': 'N', 'IsHidden': 'N'}, {'Name': 'PID', 'FullName': 'Publisher ID', 'Description': 'Publisher ID', 'TermCount': '', 'IsDate': 'N', 'IsNumerical': 'N', 'SingleToken': 'Y', 'Hierarchy': 'N', 'IsHidden': 'Y'}, {'Name': 'FAUT', 'FullName': 'Author - First', 'Description': 'First Author of publication', 'TermCount': '', 'IsDate': 'N', 'IsNumerical': 'N', 'SingleToken': 'Y', 'Hierarchy': 'N', 'IsHidden': 'N'}, {'Name': 'FULL', 'FullName': 'Author', 'Description': 'Full Author Name(s) of publication', 'TermCount': '', 'IsDate': 'N', 'IsNumerical': 'N', 'SingleToken': 'Y', 'Hierarchy': 'N', 'IsHidden': 'N'}, {'Name': 'FINV', 'FullName': 'Investigator', 'Description': 'Full name of investigator', 'TermCount': '', 'IsDate': 'N', 'IsNumerical': 'N', 'SingleToken': 'Y', 'Hierarchy': 'N', 'IsHidden': 'N'}, {'Name': 'TT', 'FullName': 'Transliterated Title', 'Description': 'Words in transliterated title of publication', 'TermCount': '', 'IsDate': 'N', 'IsNumerical': 'N', 'SingleToken': 'N', 'Hierarchy': 'N', 'IsHidden': 'N'}, {'Name': 'LAUT', 'FullName': 'Author - Last', 'Description': 'Last Author of publication', 'TermCount': '', 'IsDate': 'N', 'IsNumerical': 'N', 'SingleToken': 'Y', 'Hierarchy': 'N', 'IsHidden': 'N'}, {'Name': 'PPDT', 'FullName': 'Print Publication Date', 'Description': 'Date of print publication', 'TermCount': '', 'IsDate': 'Y', 'IsNumerical': 'N', 'SingleToken': 'Y', 'Hierarchy': 'N', 'IsHidden': 'Y'}, {'Name': 'EPDT', 'FullName': 'Electronic Publication Date', 'Description': 'Date of Electronic publication', 'TermCount': '', 'IsDate': 'Y', 'IsNumerical': 'N', 'SingleToken': 'Y', 'Hierarchy': 'N', 'IsHidden': 'Y'}, {'Name': 'LID', 'FullName': 'Location ID', 'Description': 'ELocation ID', 'TermCount': '', 'IsDate': 'N', 'IsNumerical': 'N', 'SingleToken': 'Y', 'Hierarchy': 'N', 'IsHidden': 'N'}, {'Name': 'CRDT', 'FullName': 'Date - Create', 'Description': 'Date publication first accessible through Entrez', 'TermCount': '', 'IsDate': 'Y', 'IsNumerical': 'N', 'SingleToken': 'Y', 'Hierarchy': 'N', 'IsHidden': 'N'}, {'Name': 'BOOK', 'FullName': 'Book', 'Description': 'ID of the book that contains the document', 'TermCount': '', 'IsDate': 'N', 'IsNumerical': 'N', 'SingleToken': 'Y', 'Hierarchy': 'N', 'IsHidden': 'N'}, {'Name': 'ED', 'FullName': 'Editor', 'Description': \"Section's Editor\", 'TermCount': '', 'IsDate': 'N', 'IsNumerical': 'N', 'SingleToken': 'Y', 'Hierarchy': 'N', 'IsHidden': 'N'}, {'Name': 'ISBN', 'FullName': 'ISBN', 'Description': 'ISBN', 'TermCount': '', 'IsDate': 'N', 'IsNumerical': 'N', 'SingleToken': 'Y', 'Hierarchy': 'N', 'IsHidden': 'N'}, {'Name': 'PUBN', 'FullName': 'Publisher', 'Description': \"Publisher's name\", 'TermCount': '', 'IsDate': 'N', 'IsNumerical': 'N', 'SingleToken': 'Y', 'Hierarchy': 'N', 'IsHidden': 'N'}, {'Name': 'AUCL', 'FullName': 'Author Cluster ID', 'Description': 'Author Cluster ID', 'TermCount': '', 'IsDate': 'N', 'IsNumerical': 'N', 'SingleToken': 'Y', 'Hierarchy': 'N', 'IsHidden': 'Y'}, {'Name': 'EID', 'FullName': 'Extended PMID', 'Description': 'Extended PMID', 'TermCount': '', 'IsDate': 'N', 'IsNumerical': 'N', 'SingleToken': 'Y', 'Hierarchy': 'N', 'IsHidden': 'Y'}, {'Name': 'DSO', 'FullName': 'DSO', 'Description': 'Additional text from the summary', 'TermCount': '', 'IsDate': 'N', 'IsNumerical': 'N', 'SingleToken': 'N', 'Hierarchy': 'N', 'IsHidden': 'Y'}, {'Name': 'AUID', 'FullName': 'Author - Identifier', 'Description': 'Author Identifier', 'TermCount': '', 'IsDate': 'N', 'IsNumerical': 'N', 'SingleToken': 'Y', 'Hierarchy': 'N', 'IsHidden': 'N'}, {'Name': 'PS', 'FullName': 'Subject - Personal Name', 'Description': 'Personal Name as Subject', 'TermCount': '', 'IsDate': 'N', 'IsNumerical': 'N', 'SingleToken': 'Y', 'Hierarchy': 'N', 'IsHidden': 'N'}, {'Name': 'COIS', 'FullName': 'Conflict of Interest Statements', 'Description': 'Conflict of Interest Statements', 'TermCount': '', 'IsDate': 'N', 'IsNumerical': 'N', 'SingleToken': 'N', 'Hierarchy': 'N', 'IsHidden': 'N'}, {'Name': 'WORD', 'FullName': 'Text Word', 'Description': 'Free text associated with publication', 'TermCount': '', 'IsDate': 'N', 'IsNumerical': 'N', 'SingleToken': 'N', 'Hierarchy': 'N', 'IsHidden': 'N'}, {'Name': 'P1DAT', 'FullName': 'P1DAT', 'Description': 'Date publication first accessible through Solr', 'TermCount': '', 'IsDate': 'Y', 'IsNumerical': 'N', 'SingleToken': 'Y', 'Hierarchy': 'N', 'IsHidden': 'Y'}], 'LinkList': [{'Name': 'pubmed_assembly', 'Menu': 'Assembly', 'Description': 'Assembly', 'DbTo': 'assembly'}, {'Name': 'pubmed_bioproject', 'Menu': 'Project Links', 'Description': 'Related Projects', 'DbTo': 'bioproject'}, {'Name': 'pubmed_biosample', 'Menu': 'BioSample Links', 'Description': 'BioSample links', 'DbTo': 'biosample'}, {'Name': 'pubmed_biosystems', 'Menu': 'BioSystem Links', 'Description': 'BioSystems', 'DbTo': 'biosystems'}, {'Name': 'pubmed_books_refs', 'Menu': 'Cited in Books', 'Description': 'PubMed links associated with Books', 'DbTo': 'books'}, {'Name': 'pubmed_cdd', 'Menu': 'Conserved Domain Links', 'Description': 'Link to related CDD entry', 'DbTo': 'cdd'}, {'Name': 'pubmed_clinvar', 'Menu': 'ClinVar', 'Description': 'Clinical variations associated with publication', 'DbTo': 'clinvar'}, {'Name': 'pubmed_clinvar_calculated', 'Menu': 'ClinVar (calculated)', 'Description': 'Clinical variations calculated to be associated with publication', 'DbTo': 'clinvar'}, {'Name': 'pubmed_dbvar', 'Menu': 'dbVar', 'Description': 'Link from PubMed to dbVar', 'DbTo': 'dbvar'}, {'Name': 'pubmed_gap', 'Menu': 'dbGaP Links', 'Description': 'Related dbGaP record', 'DbTo': 'gap'}, {'Name': 'pubmed_gds', 'Menu': 'GEO DataSet Links', 'Description': 'Related GEO DataSets', 'DbTo': 'gds'}, {'Name': 'pubmed_gene', 'Menu': 'Gene Links', 'Description': 'Link to related Genes', 'DbTo': 'gene'}, {'Name': 'pubmed_gene_bookrecords', 'Menu': 'Gene (from Bookshelf)', 'Description': 'Gene records in this citation', 'DbTo': 'gene'}, {'Name': 'pubmed_gene_citedinomim', 'Menu': 'Gene (OMIM) Links', 'Description': 'PubMed links to Gene derived from pubmed_omim_cited links', 'DbTo': 'gene'}, {'Name': 'pubmed_gene_pmc_nucleotide', 'Menu': 'Gene (nucleotide/PMC)', 'Description': 'Records in Gene identified from shared sequence and PMC links.', 'DbTo': 'gene'}, {'Name': 'pubmed_gene_rif', 'Menu': 'Gene (GeneRIF) Links', 'Description': 'Link to Gene for the GeneRIF subcategory', 'DbTo': 'gene'}, {'Name': 'pubmed_genome', 'Menu': 'Genome Links', 'Description': 'Published genome sequences', 'DbTo': 'genome'}, {'Name': 'pubmed_geoprofiles', 'Menu': 'GEO Profile Links', 'Description': 'GEO records associated with pubmed record', 'DbTo': 'geoprofiles'}, {'Name': 'pubmed_homologene', 'Menu': 'HomoloGene Links', 'Description': 'Related HomoloGene', 'DbTo': 'homologene'}, {'Name': 'pubmed_medgen', 'Menu': 'MedGen', 'Description': 'Related information in MedGen', 'DbTo': 'medgen'}, {'Name': 'pubmed_medgen_bookshelf_cited', 'Menu': 'MedGen (Bookshelf cited)', 'Description': 'Related records in MedGen based on citations in GeneReviews and Medical Genetics Summaries', 'DbTo': 'medgen'}, {'Name': 'pubmed_medgen_genereviews', 'Menu': 'MedGen (GeneReviews)', 'Description': 'Related MedGen records', 'DbTo': 'medgen'}, {'Name': 'pubmed_medgen_omim', 'Menu': 'MedGen (OMIM)', 'Description': 'Related information in MedGen (OMIM)', 'DbTo': 'medgen'}, {'Name': 'pubmed_nuccore', 'Menu': 'Nucleotide Links', 'Description': 'Published Nucleotide sequences', 'DbTo': 'nuccore'}, {'Name': 'pubmed_nuccore_refseq', 'Menu': 'Nucleotide (RefSeq) Links', 'Description': 'Link to Nucleotide RefSeqs', 'DbTo': 'nuccore'}, {'Name': 'pubmed_nuccore_weighted', 'Menu': 'Nucleotide (Weighted) Links', 'Description': 'Links to nuccore', 'DbTo': 'nuccore'}, {'Name': 'pubmed_omim_bookrecords', 'Menu': 'OMIM (from Bookshelf)', 'Description': 'OMIM records in this citation', 'DbTo': 'omim'}, {'Name': 'pubmed_omim_calculated', 'Menu': 'OMIM (calculated) Links', 'Description': 'OMIM (calculated) Links', 'DbTo': 'omim'}, {'Name': 'pubmed_omim_cited', 'Menu': 'OMIM (cited) Links', 'Description': 'OMIM (cited) Links', 'DbTo': 'omim'}, {'Name': 'pubmed_pcassay', 'Menu': 'PubChem BioAssay', 'Description': 'Related PubChem BioAssay', 'DbTo': 'pcassay'}, {'Name': 'pubmed_pccompound', 'Menu': 'PubChem Compound', 'Description': 'Related PubChem Compound', 'DbTo': 'pccompound'}, {'Name': 'pubmed_pccompound_mesh', 'Menu': 'PubChem Compound (MeSH Keyword)', 'Description': 'Related PubChem Compound via MeSH', 'DbTo': 'pccompound'}, {'Name': 'pubmed_pccompound_publisher', 'Menu': 'PubChem Compound (Publisher)', 'Description': 'Publisher deposited structures linked to PubChem Compound', 'DbTo': 'pccompound'}, {'Name': 'pubmed_pcsubstance', 'Menu': 'PubChem Substance Links', 'Description': 'Related PubChem Substance', 'DbTo': 'pcsubstance'}, {'Name': 'pubmed_pcsubstance_bookrecords', 'Menu': 'PubChem Substance (from Bookshelf)', 'Description': 'Structures in the PubChem Substance database in this citation', 'DbTo': 'pcsubstance'}, {'Name': 'pubmed_pcsubstance_publisher', 'Menu': 'PubChem Substance (Publisher)', 'Description': 'PubChem Substances supplied by publisher', 'DbTo': 'pcsubstance'}, {'Name': 'pubmed_pmc', 'Menu': 'PMC Links', 'Description': 'Free full text articles in PMC', 'DbTo': 'pmc'}, {'Name': 'pubmed_pmc_bookrecords', 'Menu': 'References in PMC for this Bookshelf citation', 'Description': 'Full text of articles in PubMed Central cited in this record', 'DbTo': 'pmc'}, {'Name': 'pubmed_pmc_embargo', 'Menu': '', 'Description': 'Embargoed PMC article associated with PubMed', 'DbTo': 'pmc'}, {'Name': 'pubmed_pmc_local', 'Menu': '', 'Description': 'Free full text articles in PMC', 'DbTo': 'pmc'}, {'Name': 'pubmed_pmc_refs', 'Menu': 'Cited in PMC', 'Description': 'PubMed links associated with PMC', 'DbTo': 'pmc'}, {'Name': 'pubmed_popset', 'Menu': 'PopSet Links', 'Description': 'Published population set', 'DbTo': 'popset'}, {'Name': 'pubmed_probe', 'Menu': 'Probe Links', 'Description': 'Related Probe entry', 'DbTo': 'probe'}, {'Name': 'pubmed_protein', 'Menu': 'Protein Links', 'Description': 'Published protein sequences', 'DbTo': 'protein'}, {'Name': 'pubmed_protein_refseq', 'Menu': 'Protein (RefSeq) Links', 'Description': 'Link to Protein RefSeqs', 'DbTo': 'protein'}, {'Name': 'pubmed_protein_weighted', 'Menu': 'Protein (Weighted) Links', 'Description': 'Links to protein', 'DbTo': 'protein'}, {'Name': 'pubmed_proteinclusters', 'Menu': 'Protein Cluster Links', 'Description': 'Related Protein Clusters', 'DbTo': 'proteinclusters'}, {'Name': 'pubmed_protfam', 'Menu': 'Protein Family Models', 'Description': 'Protein family models supported by a particular publication', 'DbTo': 'protfam'}, {'Name': 'pubmed_pubmed', 'Menu': 'Similar articles', 'Description': 'Similar PubMed articles, obtained by matching text and MeSH terms', 'DbTo': 'pubmed'}, {'Name': 'pubmed_pubmed_alsoviewed', 'Menu': 'Articles frequently viewed together', 'Description': 'Articles frequently viewed together', 'DbTo': 'pubmed'}, {'Name': 'pubmed_pubmed_bookrecords', 'Menu': 'References for this Bookshelf citation', 'Description': 'PubMed abstracts for articles cited in this record', 'DbTo': 'pubmed'}, {'Name': 'pubmed_pubmed_refs', 'Menu': 'References for PMC Articles', 'Description': 'References for this PMC Article', 'DbTo': 'pubmed'}, {'Name': 'pubmed_snp', 'Menu': 'SNP Links', 'Description': 'PubMed to SNP links', 'DbTo': 'snp'}, {'Name': 'pubmed_snp_cited', 'Menu': 'SNP (Cited)', 'Description': 'Related SNP (Cited) records', 'DbTo': 'snp'}, {'Name': 'pubmed_sra', 'Menu': 'SRA Links', 'Description': 'Links to Short Read Archive Experiments', 'DbTo': 'sra'}, {'Name': 'pubmed_structure', 'Menu': 'Structure Links', 'Description': 'Published 3D structures', 'DbTo': 'structure'}, {'Name': 'pubmed_taxonomy_entrez', 'Menu': 'Taxonomy via GenBank', 'Description': 'Related Taxonomy entry computed using other Entrez links', 'DbTo': 'taxonomy'}]}}\n"
     ]
    }
   ],
   "source": [
    "with ez.einfo(db=\"pubmed\") as query:\n",
    "    PubMedDict = ez.read(query)\n",
    "\n",
    "print(PubMedDict)"
   ]
  },
  {
   "cell_type": "markdown",
   "id": "69ce7a36-713a-45db-9e98-540b34cdebc2",
   "metadata": {},
   "source": [
    "### Finding the search terms available to a particular database"
   ]
  },
  {
   "cell_type": "markdown",
   "id": "92f40846-7ddc-42f4-83bc-b27a00814910",
   "metadata": {},
   "source": [
    "to find search critera I can go deeper into the dictionary created with `ez.einfo` and `ez.read`\n",
    "\n",
    "Syntax\n",
    "\n",
    "    with ez.einfo(db=\"nucleotide\") as query:\n",
    "        PubMedDict = ez.read(query)\n",
    "    \n",
    "    for field in PubMedDict[\"DbInfo\"][\"FieldList\"]:\n",
    "        print(field[\"Name\"],field[\"FullName\"],field[\"Description\"])"
   ]
  },
  {
   "attachments": {
    "7fc9d1d8-89e6-4a18-a5bb-34229c4e366d.jpg": {
     "image/jpeg": "[encoded data removed]"
    }
   },
   "cell_type": "markdown",
   "id": "e3a242d5-0f76-4137-9406-f42a415b4d60",
   "metadata": {},
   "source": [
    "The hierachy of the databases: \n",
    "\n",
    "![DataBaseStructure.jpg](attachment:7fc9d1d8-89e6-4a18-a5bb-34229c4e366d.jpg)\n",
    "\n",
    "Kudos to Ioana!!"
   ]
  },
  {
   "cell_type": "markdown",
   "id": "1b1023bb-5473-4a52-8b05-b40f385e1fbd",
   "metadata": {},
   "source": [
    "Example:      \n",
    "\n",
    "The database nucleotide has in a dictionry one key: `DbInfo`       \n",
    "\n",
    "`DbInfo` has more keys: 'DbName', 'MenuName', 'Description', 'DbBuild', 'Count', 'LastUpdate', 'FieldList', 'LinkList'\n",
    "\n",
    "`FieldList` are the search terms in a *list* of dictionaries. This is rather troublesome to read, therefore the loop over every element of the list printing only Name, FullName and Decription helps to see what we can actually serach for. To know which keys are available inside the list it is possible to use the Syntax `OuterDict[\"InnerDict1\"][\"InnerDict2\"][0].keys()` which simply shows the keys of the first elemetn in the list."
   ]
  },
  {
   "cell_type": "code",
   "execution_count": 3,
   "id": "6ae7944b-286d-499b-8f75-285c4c3c17fa",
   "metadata": {},
   "outputs": [
    {
     "name": "stdout",
     "output_type": "stream",
     "text": [
      "dict_keys(['DbInfo'])\n",
      "dict_keys(['DbName', 'MenuName', 'Description', 'DbBuild', 'Count', 'LastUpdate', 'FieldList', 'LinkList'])\n",
      "dict_keys(['Name', 'FullName', 'Description', 'TermCount', 'IsDate', 'IsNumerical', 'SingleToken', 'Hierarchy', 'IsHidden'])\n",
      "\n",
      "ALL All Fields All terms from all searchable fields\n",
      "UID UID Unique number assigned to each sequence\n",
      "FILT Filter Limits the records\n",
      "WORD Text Word Free text associated with record\n",
      "TITL Title Words in definition line\n",
      "KYWD Keyword Nonstandardized terms provided by submitter\n",
      "AUTH Author Author(s) of publication\n",
      "JOUR Journal Journal abbreviation of publication\n",
      "VOL Volume Volume number of publication\n",
      "ISS Issue Issue number of publication\n",
      "PAGE Page Number Page number(s) of publication\n",
      "ORGN Organism Scientific and common names of organism, and all higher levels of taxonomy\n",
      "ACCN Accession Accession number of sequence\n",
      "PACC Primary Accession Does not include retired secondary accessions\n",
      "GENE Gene Name Name of gene associated with sequence\n",
      "PROT Protein Name Name of protein associated with sequence\n",
      "ECNO EC/RN Number EC number for enzyme or CAS registry number\n",
      "PDAT Publication Date Date sequence added to GenBank\n",
      "MDAT Modification Date Date of last update\n",
      "SUBS Substance Name CAS chemical name or MEDLINE Substance Name\n",
      "PROP Properties Classification by source qualifiers and molecule type\n",
      "SQID SeqID String String identifier for sequence\n",
      "GPRJ BioProject BioProject\n",
      "SLEN Sequence Length Length of sequence\n",
      "FKEY Feature key Feature annotated on sequence\n",
      "PORG Primary Organism Scientific and common names of primary organism, and all higher levels of taxonomy\n",
      "COMP Component Accession Component accessions for an assembly\n",
      "ASSM Assembly Assembly\n",
      "DIV Division Division\n",
      "STRN Strain Strain\n",
      "ISOL Isolate Isolate\n",
      "CULT Cultivar Cultivar\n",
      "BRD Breed Breed\n",
      "BIOS BioSample BioSample\n"
     ]
    }
   ],
   "source": [
    "with ez.einfo(db=\"nucleotide\") as query:\n",
    "    NucDict = ez.read(query)\n",
    "    \n",
    "print(NucDict.keys())\n",
    "print(NucDict[\"DbInfo\"].keys())\n",
    "print(PubMedDict[\"DbInfo\"][\"FieldList\"][0].keys())\n",
    "print()\n",
    "for field in NucDict[\"DbInfo\"][\"FieldList\"]:\n",
    "    print(field[\"Name\"],field[\"FullName\"],field[\"Description\"])"
   ]
  },
  {
   "cell_type": "markdown",
   "id": "0d78abb0-5414-4fae-a99d-f2ed81dd7a96",
   "metadata": {},
   "source": [
    "## ez.esearch()"
   ]
  },
  {
   "cell_type": "markdown",
   "id": "4b2fd265-9c22-431a-95c3-afb2894bade3",
   "metadata": {},
   "source": [
    "`esearch` searches through the NCBI databases. \n",
    "\n",
    "It takes two arguments, both as strings:\n",
    "\n",
    "1. `db` (the database to search), only one database at a time\n",
    "2. `term` (the things we want to look for)\n",
    "   - one statement but several criteria can be added by logical operators: `AND` `OR` `NOT`    \n",
    "     - Example: `\"Biopython [title] OR Pandas [title]\"`\n",
    "     - The same term can be searched for in several fields connected by `/`\n",
    "          - `\"Biopython [title/abstract]`\n",
    "         - doesn't work for *all* databases, does work for PubMed\n",
    "     - Note that `\"Two words\"` and `' \"Two words\" '` is not the same!! `\"Two words [ALL]\"` is interpreted like the latter     \n",
    "     - If double quotation marks are used it *always* has to be single `'` outside and double `\"` inside: `' \"a\n",
    "term\" '`\n",
    "        - otherwise the inner `'`are interpreted as part of the word\n",
    "   - be aware of *capital letters in logical operators*\n",
    "   - wildcards (`*`/`?`) work\n",
    "   - Organisms need to be with the latin name\n",
    "   - Searches are case insensitice (A/a doesn't matter)\n",
    "\n",
    "The result is a dictionary containing a list numbers (identifiers) which can later be used to download the data\n",
    "\n",
    "Syntax\n",
    "\n",
    "    with ez.esearch(db=\"pubmed\", term = \"Biopython[title]\") as query:\n",
    "        record_pub = ez.read(query)\n",
    "\n",
    "Optional arguments:\n",
    "\n",
    "- `retmax`: How many identifiers the search returns. Default is 20, maximum is 10,000\n",
    "- `retstart`: At which index to start returning the identifiers.\n",
    "   - if > 10,000 results are wanted retmax and retstart have to be combined through multiple searches\n",
    "- `idtype`: to choose whether identifiers or accession numbers are returned\n",
    "  - identifiers are specific to a particular database and may exist, though completly unrelated, in other databases. The accession numbers link related content between the databases.\n",
    "- `sort`: if the results are to be sorted other than the default (varies for the databases)\n",
    "  check the websites for terms by which the results can be sort. same spelling as website (including spaces) but all lowercase. Careful, if typo occurs it goes to default without notification\n",
    "\n",
    "The result is always the same dictionary with the following keys:\n",
    "\n",
    "- `count` the number of hits\n",
    "- `RetMax`: max number of results saved and displaced. Can be adjusted, but maximum is 10,000\n",
    "- `RetStart`: which result is the fist one\n",
    "- `IdList`: List with the identifiers of the resuls.\n",
    "   - Per default these identifiers are independent between the databases!!\n",
    "   - Can be changed to accession numbers, which span databases and connects the entries\n",
    "- `TranslationSet` and `QueryTranslation`: Show how our query was handed over, not of great importance to us, unless we get very unexpected results\n",
    "\n",
    "If the query is saved we can access the IDs or the Count as keys:\n",
    "\n",
    "    query_dict[\"IdList\"]\n",
    "    query_dict[\"Count\"]"
   ]
  },
  {
   "cell_type": "code",
   "execution_count": 47,
   "id": "2b32804d-badd-4fb9-9cc3-f46bd39fd8aa",
   "metadata": {},
   "outputs": [
    {
     "name": "stdout",
     "output_type": "stream",
     "text": [
      "{'Count': '3', 'RetMax': '3', 'RetStart': '0', 'IdList': ['34434786', '22909249', '19304878'], 'TranslationSet': [], 'QueryTranslation': '\"Biopython\"[Title]'}\n",
      "['34434786', '22909249', '19304878']\n",
      "3\n"
     ]
    }
   ],
   "source": [
    "with ez.esearch(db=\"pubmed\", term = \"Biopython[title]\") as query:\n",
    "    record_pub = ez.read(query)\n",
    "\n",
    "print(record_pub)\n",
    "print(record_pub[\"IdList\"])\n",
    "print(record_pub[\"Count\"])"
   ]
  },
  {
   "cell_type": "markdown",
   "id": "51de5033-86eb-40e1-b324-b51b26ea03bb",
   "metadata": {},
   "source": [
    "## ez.esummary()"
   ]
  },
  {
   "cell_type": "markdown",
   "id": "7f1aabe6-a6d8-4d80-87fd-b504ca37f1a0",
   "metadata": {},
   "source": [
    "Allows us to pull a short summary of a single entry from a single database   \n",
    "contains essential information (differs a bit depending on the db)\n",
    "\n",
    "- author(s)\n",
    "- title\n",
    "- publicaition date\n",
    "- etc.\n",
    "\n",
    "takes two argument: `db` (which database to look in) and `id` (which entry to look at)    \n",
    "Since it looks at one entry at a time we need to loop over a list (e.g. the IdList form the search dictionary) for several entries. Optionally the results can be stored in a DataFrame or dictionary. See Christophs example script\n",
    "\n",
    "Syntax\n",
    "\n",
    "    # I reproduce the above to have the search term\n",
    "    with ez.esearch(db=\"pubmed\", term = \"Biopython[title]\") as query:\n",
    "        record_pub = ez.read(query)\n",
    "    \n",
    "    answer_dict = {} #optional dictionary\n",
    "\n",
    "    # here come our esummary\n",
    "    for ids in record_pub[\"IdList\"]:\n",
    "        with ez.esummary(db = \"pubmed\", id = ids) as handle:\n",
    "            record = ez.read(handle)\n",
    "        print(record)\n",
    "        \n",
    "        answer_dict[ids] = record[0]  #optional\n",
    "         \n",
    "        #optional more complex print statment to get a better overview\n",
    "        print(\"Journal info\\nid:\",record[0][\"Id\"],\"\\nTitle: \",record[0][\"Title\"])\n",
    "\n",
    "\n",
    "we take `record[0]` to append to the answer_list/add to answer_dict, since record is a dictionary inside a list `[{}]` , an we don't need the outer list.\n",
    "\n",
    "`esummary` is often used in combination with if statements to filter for seach terms not available in `esearch`. Especially if saving the results this might make sense\n"
   ]
  },
  {
   "cell_type": "markdown",
   "id": "bf0ba842-5ca9-4d88-92c6-64003a9f0e88",
   "metadata": {},
   "source": [
    "### esummary in the databases Gene and Biosample (and maybe others)\n",
    "\n",
    "Note that in the database gene, record is directly a dictionary, not a dictionary in a list. \n",
    "\n",
    "Information has to be accessed differently:\n",
    "\n",
    "    record['DocumentSummarySet']['DocumentSummary'][0]\n",
    "\n",
    "Also the ID is not a value, but an *attribute* of this inner dictionary and has to be accessed through\n",
    "\n",
    "    record['DocumentSummarySet']['DocumentSummary'][0].attributes[\"uid\"]"
   ]
  },
  {
   "cell_type": "markdown",
   "id": "bc471db5-262a-46df-aea4-1bec85a7befd",
   "metadata": {},
   "source": [
    "## ez.efetch()"
   ]
  },
  {
   "cell_type": "markdown",
   "id": "5529ba6a-ac80-4b63-9215-ac1fd60674f3",
   "metadata": {},
   "source": [
    "After identifying which data to download this is done with `efetch`.\n",
    "\n",
    "`efetch` takes 4 arguments\n",
    "\n",
    "- `db`: database\n",
    "- `id`: id\n",
    "- `retmode`: datatype returned, e.g. xml, text\n",
    "- `rettype`: type of data returned, can be left out, e.g. ID List, Abstract\n",
    "- combinatinos of retmode and rettype possible:\n",
    "  - https://www.ncbi.nlm.nih.gov/books/NBK25499/table/chapter4.T._valid_values_of__retmode_and/?report=objectonly\n",
    "\n",
    "Syntax\n",
    "\n",
    "    with ez.efetch(db = \"database\", id = \"identifier or accession number\", retmode = \"xml\") as handle:\n",
    "        record1 = ez.read(handle)\n",
    "\n",
    "remember that `ez.read()` only works for xml files. Other file types need other functions, e.g. \n",
    "\n",
    "- `handle.read()` one big string\n",
    "- `handle.readlines()` a list of strings with each line being one element\n",
    "- `SeqIO.read(handle, \"fasta\")` see below"
   ]
  },
  {
   "cell_type": "markdown",
   "id": "5ad2581a-c6c3-4e8f-9c2c-a1fe8e299a95",
   "metadata": {},
   "source": [
    "## SeqIO"
   ]
  },
  {
   "cell_type": "markdown",
   "id": "53673846-2d19-4011-b39f-47d3731bb583",
   "metadata": {},
   "source": [
    "SeqIO = Sequence Input/Output\n",
    "\n",
    "- Helps to read in a wide variety of files, e.g. fasta or Genbank data. \n",
    "- https://biopython.org/wiki/SeqIO\n",
    "- generates a SeqRecord object of the Seq class\n",
    "- (we need to have the data first, so it would first have to be downloaded with efetch if we don't have it already)\n",
    "\n",
    "\n",
    "Syntax for import\n",
    "\n",
    "    from Bio import SeqIO\n",
    "\n",
    "Reading in data (both arguments as strings):\n",
    "\n",
    "    record1 = SeqIO.read(filename,file type)\n",
    "\n",
    "For **fasta files** I access the id and sequence through `record1.id` and `record1.seq` respectively\n",
    "\n",
    "- `record1.seq` creates a Seq object for which we can use sequence methods, e.g. `record1.seq.transcribe()`\n",
    "   - `transcribe`, `back_transcribe`, `translate` (very rudimentary, optional argument: `to_stop = True`), `complement()`, `reverse_complement()`, `complement_rna()`, `reverse_complement_rna()`\n",
    "\n"
   ]
  },
  {
   "cell_type": "markdown",
   "id": "d0dd6f2f-bbb2-40a7-ac9a-091984206d98",
   "metadata": {},
   "source": [
    "## ez.elink()"
   ]
  },
  {
   "cell_type": "markdown",
   "id": "d487028f-b099-4e41-b16c-fc2ff868b233",
   "metadata": {},
   "source": [
    "Finding links between the databases by using the identifier from one database to find an entry in another database. This does not make use of a shared accession number as really being connected in the background database structure. Crosslinks will not always be found -> this will result in an empty list\n",
    "\n",
    "All possible crosslinks:     \n",
    "\n",
    "https://eutils.ncbi.nlm.nih.gov/entrez/query/static/entrezlinks.html\n",
    "\n",
    "Syntax:\n",
    "\n",
    "    with ez.elink(db = database_to_search, dbfrom = identifiers_database, id = identifier) as query:\n",
    "        record = ez.read(query)\n",
    "        \n",
    "    print(record[0]['LinkSetDb'][0]['Link'][0]['Id'])\n",
    "\n",
    "The print statement shows the path to the Link"
   ]
  },
  {
   "cell_type": "code",
   "execution_count": 7,
   "id": "45f61a16-f925-4718-b878-169bef9f63c7",
   "metadata": {},
   "outputs": [
    {
     "name": "stdout",
     "output_type": "stream",
     "text": [
      "[{'ERROR': [], 'LinkSetDb': [{'Link': [{'Id': '1479555241'}], 'DbTo': 'nuccore', 'LinkName': 'protein_nuccore'}, {'Link': [{'Id': '1479555241'}], 'DbTo': 'nuccore', 'LinkName': 'protein_nuccore_mrna'}], 'LinkSetDbHistory': [], 'DbFrom': 'protein', 'IdList': ['1479555242']}]\n",
      "\n",
      "[{'Link': [{'Id': '1479555241'}], 'DbTo': 'nuccore', 'LinkName': 'protein_nuccore'}, {'Link': [{'Id': '1479555241'}], 'DbTo': 'nuccore', 'LinkName': 'protein_nuccore_mrna'}]\n",
      "\n",
      "[{'Id': '1479555241'}]\n",
      "\n",
      "1479555241\n"
     ]
    }
   ],
   "source": [
    "#showing the link between a protein identifier and the nucleotide database\n",
    "import Bio.Entrez as ez\n",
    "ez.email = \"christoph-knorr@gmx.de\"\n",
    "\n",
    "protid = \"1479555242\"\n",
    "with ez.elink(db=\"nucleotide\",dbfrom=\"protein\",id=protid) as query:\n",
    "    record = ez.read(query)\n",
    "\n",
    "print(record)\n",
    "print()\n",
    "print(record[0]['LinkSetDb'])\n",
    "print()\n",
    "print(record[0]['LinkSetDb'][0]['Link'])\n",
    "print()\n",
    "print(record[0]['LinkSetDb'][0]['Link'][0]['Id'])"
   ]
  },
  {
   "cell_type": "markdown",
   "id": "3dc2b372-7392-428c-a1d3-99f693400483",
   "metadata": {},
   "source": [
    "## ez.egquery()"
   ]
  },
  {
   "cell_type": "markdown",
   "id": "2bdf56e9-f1e7-45c0-9bd7-b27bc92fbf7c",
   "metadata": {},
   "source": [
    "runs a simple text search over all databases of the NCBI databases. \n",
    "\n",
    "- General search terms, e.g `title`, work as for `esearch`\n",
    "- Logical operators apply `AND` `OR` `NOT`\n",
    "- Result is the number of found entries.\n",
    "\n",
    "Syntax:\n",
    "\n",
    "    with ez.egquery(term = \"Searchterm AND Searchterm2\") as handle:\n",
    "        record = ez.read(handle)\n",
    "\n",
    "Resulting Dictonary is always the same. Contains a list with the databases and their results.\n",
    "\n",
    "Syntax for Overview:\n",
    "\n",
    "    for row in record[\"eGQueryResult\"]:\n",
    "        print(row[\"DbName\"], row[\"Count\"])\n"
   ]
  },
  {
   "cell_type": "markdown",
   "id": "92fe46d1-25a8-4d6e-8b3f-e164fbeb412d",
   "metadata": {},
   "source": [
    "## Combining functions"
   ]
  },
  {
   "cell_type": "markdown",
   "id": "4d27f5b1-bd32-44a8-9ec1-064b12552921",
   "metadata": {},
   "source": [
    "Most funcionalities require the above functions to be combined to a cohesive script\n",
    "\n",
    "e.g. egquery to find number ofesearch to find proteins, then download summaries and filter for length, then fetch data and save sequence"
   ]
  },
  {
   "cell_type": "markdown",
   "id": "085efa88-9d8e-4505-a6b6-144dded64174",
   "metadata": {},
   "source": [
    "# UniProt"
   ]
  },
  {
   "cell_type": "markdown",
   "id": "b1fdd4ad-2922-4ed3-a7c9-8b4d1ff66823",
   "metadata": {},
   "source": [
    "used to access Uniprot and SwissProt. Requires ExPASy to download and Swissprot to read\n",
    "\n",
    "Syntax for import\n",
    "\n",
    "    from Bio import ExPASy\n",
    "    from Bio import SwissProt\n"
   ]
  },
  {
   "cell_type": "markdown",
   "id": "29a4c905-30ea-46a8-a85e-4bcefc1b355e",
   "metadata": {},
   "source": [
    "## ExPASy.get_sprot_raw()"
   ]
  },
  {
   "cell_type": "markdown",
   "id": "f149f0c4-fcbf-4b0a-8440-7b20c1afa2ce",
   "metadata": {},
   "source": [
    "used to download the data\n",
    "\n",
    "Syntax\n",
    "\n",
    "    handle = ExPASy.get_sprot_raw(\"Identifier\")\n",
    "\n",
    "This creates a TextWrapper Object that is then read in with SwissProt.read()"
   ]
  },
  {
   "cell_type": "markdown",
   "id": "e9e9f857-db66-4b65-b2cf-98b1f8c49b69",
   "metadata": {},
   "source": [
    "## SwissProt.read()"
   ]
  },
  {
   "cell_type": "markdown",
   "id": "c4f043ab-871a-4a78-ae0f-f47d4fa5814c",
   "metadata": {},
   "source": [
    "used to read the data\n",
    "\n",
    "Syntax\n",
    "\n",
    "    record = SwissProt.read(handle)\n",
    "\n",
    "This creates a SwissProt record object. The sequence can be accessed by using the attribute `sequence` of this object\n",
    "\n",
    "    record.sequence\n"
   ]
  },
  {
   "cell_type": "code",
   "execution_count": 29,
   "id": "efa91439-4786-4e44-ae4f-85b0ef164001",
   "metadata": {},
   "outputs": [
    {
     "data": {
      "text/plain": [
       "'MAPAMEEIRQAQRAEGPAAVLAIGTSTPPNALYQADYPDYYFRITKSEHLTELKEKFKRMCDKSMIKKRYMYLTEEILKENPNICAFMAPSLDARQDIVVTEVPKLAKEAAVRAIKEWGHPKSRITHLIFCTTSGIDMPGADYQLTRLLGLRPSVNRFMLYQQGCFAGGTVLRLAKDLAENNAGARVLVVCSEITAVTFRGPSESHLDSLVGQALFGDGAAAIIVGSDPDSATERPLFQLVSASQTILPESEGAIDGHLREIGLTFHLLKDVPGLISKNIQKCLLDAFKPLGVHDWNSIFWIAHPGGPAILDQVEIKLGLKAEKLAASRNVLAEYGNMSSACVLFILDEMRRRSAEAGQATTGEGLEWGVLFGFGPGLTVETIVLRSVPIAGAE'"
      ]
     },
     "execution_count": 29,
     "metadata": {},
     "output_type": "execute_result"
    }
   ],
   "source": [
    "from Bio import ExPASy\n",
    "from Bio import SwissProt\n",
    "\n",
    "handle = ExPASy.get_sprot_raw(\"O23729\")\n",
    "record = SwissProt.read(handle)\n",
    "record.sequence"
   ]
  },
  {
   "cell_type": "markdown",
   "id": "e2b9dec9-6ac3-4a71-8599-49edca37f33a",
   "metadata": {},
   "source": [
    "# PDB"
   ]
  },
  {
   "cell_type": "markdown",
   "id": "5b266fa6-3557-4e28-b99c-75495b4d949f",
   "metadata": {},
   "source": [
    "Gives us access to structural data from the RCSB-PDB, also gives us access to more file types.\n",
    "\n",
    "Unless UniProt and Entrez we actually download the file into our working directory\n",
    "\n",
    "import Syntax:\n",
    "\n",
    "    from Bio.PDB import PDBList\n",
    "    \n",
    "    #and one of the following depending on data type:\n",
    "    from Bio.PDB.PDBParser import PDBParser\n",
    "    from Bio.PDB.MMCIFParser import MMCIFParser\n",
    "\n",
    "Accessing files\n",
    "\n",
    "- First a PDBList object has to be created\n",
    "\n",
    "Syntax:\n",
    "\n",
    "    pdbl = PDBList()\n",
    "\n",
    "This object has an associated method that can be called to retrieve data\n",
    "\n",
    "- per default this is a mmcif-file\n",
    "- can be changed to pdb file with the optional argument `file_format='pdb'`\n",
    "  - file ending is .ent \n",
    "- the file is downloaded into the working directory\n",
    "- the variable (here `filename`) stores the path to the location of the object on the hard drive\n",
    "\n",
    "Syntax:\n",
    "\n",
    "    filename = pdbl.retrieve_pdb_file(\"1FAT\")\n",
    "\n",
    "After dowload the file can be read in using the respecitve parser.\n",
    "\n",
    "- First a parser object has to be created\n",
    "- this parser object has a method called `get_structure` that is used to read the file\n",
    "- `get_structure` takes two arguments:\n",
    "  - an identifier you can freely choose to name your Structure object\n",
    "  - the path to the file you want to read in (saved in `filename` above)\n",
    "\n",
    "Syntax:\n",
    "\n",
    "    #depending on datatype create the correct parser object\n",
    "    parser = PDBParser()\n",
    "    parser = MMCIFParser()\n",
    "    \n",
    "    structure = parser.get_structure(\"1fat\", filename)\n",
    "\n",
    "Note that warning messages are normal.      \n",
    "\n",
    "`structure` is an obect with many different attributes that might be useful (see `dir(structure)`)"
   ]
  },
  {
   "cell_type": "markdown",
   "id": "048606d3-f694-480f-94ab-a68f79be5319",
   "metadata": {},
   "source": [
    "# Exercises"
   ]
  },
  {
   "cell_type": "markdown",
   "id": "8953d135-cc5d-45f2-b6d6-7c6508a2bae5",
   "metadata": {},
   "source": [
    "## Exercise 6 - Using ez.einfo"
   ]
  },
  {
   "cell_type": "markdown",
   "id": "40b465ee-8033-40a9-8e0f-51699b738aea",
   "metadata": {},
   "source": [
    "Without any argument it really is *just* the databases"
   ]
  },
  {
   "cell_type": "code",
   "execution_count": 4,
   "id": "ed471623-3ef9-424a-9a8e-ec38fa6bb709",
   "metadata": {},
   "outputs": [
    {
     "name": "stdout",
     "output_type": "stream",
     "text": [
      "['pubmed', 'protein', 'nuccore', 'ipg', 'nucleotide', 'structure', 'genome', 'annotinfo', 'assembly', 'bioproject', 'biosample', 'blastdbinfo', 'books', 'cdd', 'clinvar', 'gap', 'gapplus', 'grasp', 'dbvar', 'gene', 'gds', 'geoprofiles', 'medgen', 'mesh', 'nlmcatalog', 'omim', 'orgtrack', 'pmc', 'popset', 'proteinclusters', 'pcassay', 'protfam', 'pccompound', 'pcsubstance', 'seqannot', 'snp', 'sra', 'taxonomy', 'biocollections', 'gtr']\n",
      "\n",
      "pubmed\n",
      "\n",
      "<class 'Bio.Entrez.Parser.StringElement'>\n"
     ]
    }
   ],
   "source": [
    "import Bio.Entrez as ez\n",
    "\n",
    "ez.email = \"\"\n",
    "\n",
    "with ez.einfo() as query:\n",
    "        JustAList = ez.read(query)\n",
    "\n",
    "print(JustAList['DbList'])\n",
    "print()\n",
    "print(JustAList['DbList'][0])\n",
    "print()\n",
    "print(type(JustAList['DbList'][0]))"
   ]
  },
  {
   "cell_type": "code",
   "execution_count": 49,
   "id": "6e3eee2a-9e73-4170-8005-8d4fbb47cf8a",
   "metadata": {},
   "outputs": [
    {
     "name": "stdout",
     "output_type": "stream",
     "text": [
      "ALL All Fields All terms from all searchable fields\n",
      "UID Taxonomy ID Unique number assigned to publication\n",
      "FILT Filter Limits the records\n",
      "SCIN Scientific Name Scientific name of organism\n",
      "COMN Common Name Common name of organism\n",
      "TXSY Synonym Synonym of organism name\n",
      "ALLN All Names All aliases for organism\n",
      "NXLV Next Level Immediate parent in taxonomic hierarchy\n",
      "SBTR Subtree Any parent node in taxonomic hierarchy\n",
      "LNGE Lineage Lineage in taxonomic hierarchy\n",
      "GC Nuclear Genetic Code Nuclear genetic code\n",
      "MGC Mitochondrial Genetic Code Mitochondrial genetic code\n",
      "PGC Plastid Genetic Code Plastid genetic code\n",
      "TXDV Division GenBank division\n",
      "RANK Rank Hierarchical position (e.g., order, genus)\n",
      "EDAT Entrez Date Date record first accessible through Entrez\n",
      "MDAT Modification Date Date of last update\n",
      "PROP Properties Property defined on particular node (e.g., terminal node)\n",
      "WORD Text Word Free text associated with record\n",
      "NTOK Name Tokens Name tokens associated with organism names\n",
      "HGC Hydrogenosome Genetic Code Hydrogenosome genetic code\n"
     ]
    }
   ],
   "source": [
    "import Bio.Entrez as ez\n",
    "\n",
    "ez.email = \"\"\n",
    "\n",
    "with ez.einfo(db = \"taxonomy\") as query:\n",
    "        Tax = ez.read(query)\n",
    "\n",
    "#print(Tax)\n",
    "#print(Tax.keys())\n",
    "#print(Tax[\"DbInfo\"])\n",
    "#print(Tax[\"DbInfo\"].keys())\n",
    "#print(Tax[\"DbInfo\"][\"FieldList\"])\n",
    "for field in Tax[\"DbInfo\"][\"FieldList\"]:\n",
    "    print(field[\"Name\"],field[\"FullName\"],field[\"Description\"])"
   ]
  },
  {
   "cell_type": "code",
   "execution_count": 5,
   "id": "addd3c99-c52a-424a-8391-9ca68b8bffaf",
   "metadata": {},
   "outputs": [
    {
     "name": "stdout",
     "output_type": "stream",
     "text": [
      "ALL All Fields All terms from all searchable fields\n",
      "UID MIM ID Unique number assigned to OMIM record\n",
      "FILT Filter Limits the records\n",
      "TITL Title Words in title of record\n",
      "WORD Text Word Free text associated with record\n",
      "AUTH Contributor Contributor to OMIM record\n",
      "CLIN Clinical Synopsis Clinical features of disorder\n",
      "MDAT Modification Date The last date on which the record was updated\n",
      "ALVR Allelic Variant A subset of disease-producing mutations\n",
      "MDHS Modification History All dates on which the record was updated\n",
      "REFR Reference Authors and titles of citations\n",
      "GMAP Gene Map Chromosomal map location\n",
      "DSDR Gene Map Disorder Text word in disorder\n",
      "GENE Gene Name Name of gene associated with record\n",
      "ECNO EC/RN Number EC number for enzyme or CAS registry number\n",
      "CHR Chromosome Chromosome number; also 'mitochondrial', 'unknown' properties\n",
      "EDTR Editor A username of an OMIM record Editor\n",
      "PROP Properties Properties of OMIM record\n",
      "PDAT Publication Date The date on which this record first appeared\n",
      "CSK Clinical Synopsis Key The keyword designating a part of the Clinical Synopsis\n",
      "CSED Clinical Synopsis Editor A username of an OMIM record Editor\n",
      "CSDT Clinical Synopsis Date The last date on which the Clinical Synopsis was updated\n"
     ]
    }
   ],
   "source": [
    "with ez.einfo(db = \"omim\") as query:\n",
    "        OmimDict = ez.read(query)\n",
    "\n",
    "for field in OmimDict[\"DbInfo\"][\"FieldList\"]:\n",
    "    print(field[\"Name\"],field[\"FullName\"],field[\"Description\"])"
   ]
  },
  {
   "cell_type": "code",
   "execution_count": 50,
   "id": "2d536a9a-14b6-443a-9611-032ff6d9a4ae",
   "metadata": {},
   "outputs": [
    {
     "name": "stdout",
     "output_type": "stream",
     "text": [
      "ALL All Fields All terms from all searchable fields\n",
      "UID UID Unique number assigned to publication\n",
      "FILT Filter Limits the records\n",
      "TITL Title Words in title of publication\n",
      "MESH MeSH Terms Medical Subject Headings assigned to publication\n",
      "MAJR MeSH Major Topic MeSH terms of major importance to publication\n",
      "JOUR Journal Journal abbreviation of publication\n",
      "AFFL Affiliation Author's institutional affiliation and address\n",
      "ECNO EC/RN Number EC number for enzyme or CAS registry number\n",
      "SUBS Supplementary Concept CAS chemical name or MEDLINE Substance Name\n",
      "PDAT Date - Publication Date of publication\n",
      "EDAT Date - Entry Date publication first accessible through Entrez\n",
      "VOL Volume Volume number of publication\n",
      "PAGE Pagination Page number(s) of publication\n",
      "PTYP Publication Type Type of publication (e.g., review)\n",
      "LANG Language Language of publication\n",
      "ISS Issue Issue number of publication\n",
      "SUBH MeSH Subheading Additional specificity for MeSH term\n",
      "SI Secondary Source ID Cross-reference from publication to other databases\n",
      "MHDA Date - MeSH Date publication was indexed with MeSH terms\n",
      "TIAB Title/Abstract Free text associated with Abstract/Title\n",
      "OTRM Other Term Other terms associated with publication\n",
      "COLN Author - Corporate Corporate Author of publication\n",
      "CNTY Place of Publication Country of publication\n",
      "PAPX Pharmacological Action MeSH pharmacological action pre-explosions\n",
      "GRNT Grants and Funding NIH Grant Numbers\n",
      "MDAT Date - Modification Date of last modification\n",
      "CDAT Date - Completion Date of completion\n",
      "PID Publisher ID Publisher ID\n",
      "FAUT Author - First First Author of publication\n",
      "FULL Author Full Author Name(s) of publication\n",
      "FINV Investigator Full name of investigator\n",
      "TT Transliterated Title Words in transliterated title of publication\n",
      "LAUT Author - Last Last Author of publication\n",
      "PPDT Print Publication Date Date of print publication\n",
      "EPDT Electronic Publication Date Date of Electronic publication\n",
      "LID Location ID ELocation ID\n",
      "CRDT Date - Create Date publication first accessible through Entrez\n",
      "BOOK Book ID of the book that contains the document\n",
      "ED Editor Section's Editor\n",
      "ISBN ISBN ISBN\n",
      "PUBN Publisher Publisher's name\n",
      "AUCL Author Cluster ID Author Cluster ID\n",
      "EID Extended PMID Extended PMID\n",
      "DSO DSO Additional text from the summary\n",
      "AUID Author - Identifier Author Identifier\n",
      "PS Subject - Personal Name Personal Name as Subject\n",
      "COIS Conflict of Interest Statements Conflict of Interest Statements\n",
      "WORD Text Word Free text associated with publication\n",
      "P1DAT P1DAT Date publication first accessible through Solr\n"
     ]
    }
   ],
   "source": [
    "with ez.einfo(db = \"pubmed\") as query:\n",
    "        PubMed = ez.read(query)\n",
    "\n",
    "for field in PubMed[\"DbInfo\"][\"FieldList\"]:\n",
    "    print(field[\"Name\"],field[\"FullName\"],field[\"Description\"])"
   ]
  },
  {
   "cell_type": "markdown",
   "id": "b60f3c25-d41d-43e6-8c66-9dacd7bf5c70",
   "metadata": {},
   "source": [
    "## Exercise 7 - Searching NCBI Databases"
   ]
  },
  {
   "cell_type": "code",
   "execution_count": null,
   "id": "e4d9f993-cfc9-4a50-aebf-f1de6dfcded5",
   "metadata": {},
   "outputs": [],
   "source": [
    "import Bio.Entrez as ez\n",
    "\n",
    "ez.email = \"\""
   ]
  },
  {
   "cell_type": "code",
   "execution_count": 24,
   "id": "95cfeca9-2fa3-4cdc-8838-d491ca28d4eb",
   "metadata": {},
   "outputs": [
    {
     "name": "stdout",
     "output_type": "stream",
     "text": [
      "{'Count': '2', 'RetMax': '2', 'RetStart': '0', 'IdList': ['25562845', '19507864'], 'TranslationSet': [], 'QueryTranslation': '\"hepatitis c ns5b\"[Title] AND \"inhibitor\"[Title]'}\n"
     ]
    }
   ],
   "source": [
    "#first search\n",
    "with ez.esearch(db=\"pubmed\", term = \"Hepatitis C NS5B[title] AND inhibitor[title]\") as query:\n",
    "    record_pub0 = ez.read(query)\n",
    "\n",
    "print(record_pub0)"
   ]
  },
  {
   "cell_type": "code",
   "execution_count": 43,
   "id": "1639da32-3a3d-4aa6-9aa8-cceffa39da7c",
   "metadata": {},
   "outputs": [
    {
     "name": "stdout",
     "output_type": "stream",
     "text": [
      "{'Count': '398', 'RetMax': '20', 'RetStart': '0', 'IdList': ['7040', '2099', '207', '5243', '1499', '21926', '7015', '5468', '999', '3106', '7852', '12387', '4780', '17874', '19211', '595', '406991', '5290', '20423', '960'], 'TranslationSet': [], 'TranslationStack': [{'Term': 'Wnt pathway[All]', 'Field': 'All', 'Count': '398', 'Explode': 'N'}, 'GROUP'], 'QueryTranslation': 'Wnt pathway[All]'}\n",
      "###############################\n",
      "{'Count': '114331', 'RetMax': '20', 'RetStart': '0', 'IdList': ['7157', '1956', '348', '7124', '7422', '3569', '7040', '22059', '3091', '2064', '11816', '2099', '351', '6774', '672', '3845', '627', '673', '4318', '21898'], 'TranslationSet': [], 'TranslationStack': [{'Term': 'Wnt[All Fields]', 'Field': 'All Fields', 'Count': '122910', 'Explode': 'N'}, {'Term': 'pathway[All Fields]', 'Field': 'All Fields', 'Count': '1947565', 'Explode': 'N'}, 'AND', 'GROUP'], 'QueryTranslation': 'Wnt[All Fields] AND pathway[All Fields]'}\n",
      "###############################\n",
      "{'Count': '398', 'RetMax': '20', 'RetStart': '0', 'IdList': ['7040', '2099', '207', '5243', '1499', '21926', '7015', '5468', '999', '3106', '7852', '12387', '4780', '17874', '19211', '595', '406991', '5290', '20423', '960'], 'TranslationSet': [], 'TranslationStack': [{'Term': '\"Wnt pathway\"[All Fields]', 'Field': 'All Fields', 'Count': '398', 'Explode': 'N'}, 'GROUP'], 'QueryTranslation': '\"Wnt pathway\"[All Fields]'}\n",
      "###############################\n",
      "{'Count': '7', 'RetMax': '7', 'RetStart': '0', 'IdList': ['6615', '6591', '29482', '3797721', '3797037', '3796608', '3795729'], 'TranslationSet': [], 'TranslationStack': [{'Term': \"pathway'[All Fields]\", 'Field': 'All Fields', 'Count': '7', 'Explode': 'N'}, 'GROUP'], 'QueryTranslation': \"pathway'[All Fields]\", 'ErrorList': {'FieldNotFound': [], 'PhraseNotFound': [\"'Wnt\"]}}\n"
     ]
    }
   ],
   "source": [
    "#second search. Note the difference in Syntax!!!! \n",
    "#In case of 3b, the inner quotation marks are interpreted as part of the word -> wrong output\n",
    "with ez.esearch(db=\"gene\", term = \"Wnt pathway [All]\") as query:\n",
    "    record_pub1 = ez.read(query)\n",
    "\n",
    "with ez.esearch(db=\"gene\", term = \"Wnt pathway\") as query:\n",
    "    record_pub2 = ez.read(query)\n",
    "\n",
    "with ez.esearch(db=\"gene\", term = ' \"Wnt pathway\" ') as query:\n",
    "    record_pub3 = ez.read(query)\n",
    "\n",
    "with ez.esearch(db=\"gene\", term = \" 'Wnt pathway' \") as query:\n",
    "    record_pub3b = ez.read(query)\n",
    "\n",
    "print(record_pub1)\n",
    "print(\"###############################\")\n",
    "print(record_pub2)\n",
    "print(\"###############################\")\n",
    "print(record_pub3)\n",
    "print(\"###############################\")\n",
    "print(record_pub3b)"
   ]
  },
  {
   "cell_type": "code",
   "execution_count": 28,
   "id": "c369c7c7-ef56-468a-b621-17fda6d932a7",
   "metadata": {},
   "outputs": [
    {
     "name": "stdout",
     "output_type": "stream",
     "text": [
      "{'Count': '1', 'RetMax': '1', 'RetStart': '0', 'IdList': ['82219'], 'TranslationSet': [], 'TranslationStack': [{'Term': 'Monkeypox[title]', 'Field': 'title', 'Count': '1', 'Explode': 'N'}, 'GROUP'], 'QueryTranslation': 'Monkeypox[title]'}\n"
     ]
    }
   ],
   "source": [
    "#third search\n",
    "with ez.esearch(db=\"genome\", term = 'Monkeypox [title]') as query:\n",
    "    record_pub4 = ez.read(query)\n",
    "\n",
    "print(record_pub4)"
   ]
  },
  {
   "cell_type": "code",
   "execution_count": 34,
   "id": "3e32c543-f113-4bf7-b5c0-5a5dc0185ab4",
   "metadata": {},
   "outputs": [
    {
     "name": "stdout",
     "output_type": "stream",
     "text": [
      "{'Count': '1470', 'RetMax': '20', 'RetStart': '0', 'IdList': ['38075406', '37906795', '37641788', '37576001', '37457524', '37426289', '37397408', '37282990', '37246705', '37133370', '37099022', '37073236', '36908385', '36908381', '36860630', '36814644', '36778612', '36763012', '36756631', '36743120'], 'TranslationSet': [], 'QueryTranslation': '\"Monkeypox\"[Title] AND 2022/01/01:2022/12/31[Date - Publication]'}\n"
     ]
    }
   ],
   "source": [
    "#fourth search\n",
    "with ez.esearch(db=\"pubmed\", term = 'Monkeypox [title] AND 2022 [pdat]') as query:\n",
    "    record_pub5 = ez.read(query)\n",
    "\n",
    "print(record_pub5)"
   ]
  },
  {
   "cell_type": "code",
   "execution_count": 37,
   "id": "d010b9c7-3756-427f-9d4d-9661ce563623",
   "metadata": {},
   "outputs": [
    {
     "name": "stdout",
     "output_type": "stream",
     "text": [
      "ALL All Fields All terms from all searchable fields\n",
      "UID UID Unique number assigned to each sequence\n",
      "FILT Filter Limits the records\n",
      "WORD Text Word Free text associated with record\n",
      "TITL Title Words in definition line\n",
      "KYWD Keyword Nonstandardized terms provided by submitter\n",
      "AUTH Author Author(s) of publication\n",
      "JOUR Journal Journal abbreviation of publication\n",
      "VOL Volume Volume number of publication\n",
      "ISS Issue Issue number of publication\n",
      "PAGE Page Number Page number(s) of publication\n",
      "ORGN Organism Scientific and common names of organism, and all higher levels of taxonomy\n",
      "ACCN Accession Accession number of sequence\n",
      "PACC Primary Accession Does not include retired secondary accessions\n",
      "GENE Gene Name Name of gene associated with sequence\n",
      "PROT Protein Name Name of protein associated with sequence\n",
      "ECNO EC/RN Number EC number for enzyme or CAS registry number\n",
      "PDAT Publication Date Date sequence added to GenBank\n",
      "MDAT Modification Date Date of last update\n",
      "SUBS Substance Name CAS chemical name or MEDLINE Substance Name\n",
      "PROP Properties Classification by source qualifiers and molecule type\n",
      "SQID SeqID String String identifier for sequence\n",
      "GPRJ BioProject BioProject\n",
      "SLEN Sequence Length Length of sequence\n",
      "MLWT Molecular Weight Molecular Weight\n",
      "FKEY Feature key Feature annotated on sequence\n",
      "PORG Primary Organism Scientific and common names of primary organism, and all higher levels of taxonomy\n",
      "ASSM Assembly Assembly\n",
      "DIV Division Division\n",
      "STRN Strain Strain\n",
      "ISOL Isolate Isolate\n",
      "CULT Cultivar Cultivar\n",
      "BRD Breed Breed\n"
     ]
    }
   ],
   "source": [
    "#look up the sequence length argument for the fifth search\n",
    "with ez.einfo(db = \"protein\") as query:\n",
    "    record_pub = ez.read(query)\n",
    "\n",
    "for field in record_pub[\"DbInfo\"][\"FieldList\"]:\n",
    "    print(field[\"Name\"],field[\"FullName\"],field[\"Description\"])"
   ]
  },
  {
   "cell_type": "code",
   "execution_count": 38,
   "id": "0f4ddd3e-3d79-48a0-aa4d-01f1d976bb26",
   "metadata": {},
   "outputs": [
    {
     "name": "stdout",
     "output_type": "stream",
     "text": [
      "{'Count': '4', 'RetMax': '4', 'RetStart': '0', 'IdList': ['215981657', '215981655', '215981650', '215981647'], 'TranslationSet': [], 'TranslationStack': [{'Term': '\"Borna Virus\"[all]', 'Field': 'all', 'Count': '15', 'Explode': 'N'}, {'Term': '000250[SLEN]', 'Field': 'SLEN', 'Count': '0', 'Explode': 'N'}, {'Term': '000500[SLEN]', 'Field': 'SLEN', 'Count': '0', 'Explode': 'N'}, 'RANGE', 'AND'], 'QueryTranslation': '\"Borna Virus\"[all] AND 000250[SLEN] : 000500[SLEN]'}\n"
     ]
    }
   ],
   "source": [
    "#fifth search\n",
    "with ez.esearch(db=\"protein\", term = ' \"Borna Virus\" [all] AND 250:500 [SLEN]') as query:\n",
    "    record_pub6 = ez.read(query)\n",
    "\n",
    "print(record_pub6)"
   ]
  },
  {
   "cell_type": "code",
   "execution_count": 39,
   "id": "8514b025-ba40-4ea1-96f0-34fe83643cbd",
   "metadata": {},
   "outputs": [
    {
     "name": "stdout",
     "output_type": "stream",
     "text": [
      "{'Count': '460', 'RetMax': '20', 'RetStart': '0', 'IdList': ['23498700', '2688751', '4623503', '4623502', '4623501', '4623500', '4623499', '4623498', '4623497', '4623496', '4623495', '4623494', '4623493', '4623492', '4623491', '4623490', '4623489', '4623488', '4623487', '4623486'], 'TranslationSet': [], 'TranslationStack': [{'Term': '\"Varicella-zoster Virus\"[title]', 'Field': 'title', 'Count': '460', 'Explode': 'N'}, 'GROUP'], 'QueryTranslation': '\"Varicella-zoster Virus\"[title]'}\n"
     ]
    }
   ],
   "source": [
    "#sixth search\n",
    "with ez.esearch(db=\"biosample\", term = ' \"Varicella-zoster Virus\" [title]') as query:\n",
    "    record_pub7 = ez.read(query)\n",
    "\n",
    "print(record_pub7)"
   ]
  },
  {
   "cell_type": "code",
   "execution_count": 40,
   "id": "5b941dac-9bc7-417d-9ce1-5372f708d364",
   "metadata": {},
   "outputs": [
    {
     "name": "stdout",
     "output_type": "stream",
     "text": [
      "{'Count': '0', 'RetMax': '0', 'RetStart': '0', 'IdList': [], 'TranslationSet': [], 'TranslationStack': [{'Term': '\"pyruvate kinase\"[title]', 'Field': 'title', 'Count': '141', 'Explode': 'N'}, {'Term': '\"electron microscopy\"[EXPM]', 'Field': 'EXPM', 'Count': '19093', 'Explode': 'N'}, 'AND'], 'QueryTranslation': '\"pyruvate kinase\"[title] AND \"electron microscopy\"[EXPM]'}\n"
     ]
    }
   ],
   "source": [
    "#seventh search\n",
    "with ez.esearch(db=\"structure\", term = ' \"pyruvate kinase\" [title] AND \"electron microscopy\" [EXPM]') as query:\n",
    "    record_pub8 = ez.read(query)\n",
    "\n",
    "print(record_pub8)"
   ]
  },
  {
   "cell_type": "code",
   "execution_count": 41,
   "id": "be084cf4-11d5-4490-ad8e-600fdc938d4f",
   "metadata": {},
   "outputs": [
    {
     "name": "stdout",
     "output_type": "stream",
     "text": [
      "{'Count': '7', 'RetMax': '7', 'RetStart': '0', 'IdList': ['183214', '183213', '183212', '183211', '183210', '182961', '182960'], 'TranslationSet': [], 'TranslationStack': [{'Term': '\"pyruvate kinase\"[all]', 'Field': 'all', 'Count': '236', 'Explode': 'N'}, {'Term': '\"electron microscopy\"[EXPM]', 'Field': 'EXPM', 'Count': '19093', 'Explode': 'N'}, 'AND'], 'QueryTranslation': '\"pyruvate kinase\"[all] AND \"electron microscopy\"[EXPM]'}\n"
     ]
    }
   ],
   "source": [
    "#seventh search\n",
    "with ez.esearch(db=\"structure\", term = ' \"pyruvate kinase\" [all] AND \"electron microscopy\" [EXPM]') as query:\n",
    "    record_pub8 = ez.read(query)\n",
    "\n",
    "print(record_pub8)"
   ]
  },
  {
   "cell_type": "markdown",
   "id": "69f03bd3-aff9-4e59-adda-c33dc9987de6",
   "metadata": {},
   "source": [
    "## Exercise 8 - Creating Summaries"
   ]
  },
  {
   "cell_type": "markdown",
   "id": "1abc2d26-f70a-45db-8a82-44430881bcef",
   "metadata": {},
   "source": [
    "Use some of the IDs you can see in the table below to create summaries of them from the corresponding database.\n",
    "\n",
    "|ID(s)| Database|\n",
    "|:----|:----|\n",
    "|25562845| PubMed|\n",
    "|21926, 406991 & 595 |Gene|\n",
    "|82219 |Genome|\n",
    "|37426289 & 36814644 |PubMed|\n",
    "|215981657 & 215981655 |Protein|\n",
    "|23498700 & 4623491 |Biosample|\n",
    "|231743 |Structure|"
   ]
  },
  {
   "cell_type": "code",
   "execution_count": 1,
   "id": "ddd462d6-a1a9-4241-b083-ab0e15ac8202",
   "metadata": {},
   "outputs": [],
   "source": [
    "import Bio.Entrez as ez\n",
    "\n",
    "ez.email = \"\""
   ]
  },
  {
   "cell_type": "code",
   "execution_count": 8,
   "id": "7d4dfb97-e4db-48eb-bc8a-d360c2cb501f",
   "metadata": {},
   "outputs": [
    {
     "name": "stdout",
     "output_type": "stream",
     "text": [
      "[{'Item': [], 'Id': '25562845', 'PubDate': '2015 Mar 25', 'EPubDate': '2014 Dec 17', 'Source': 'J Pharm Biomed Anal', 'AuthorList': ['Jiang H', 'Demers R', 'Kandoussi H', 'Burrell R', 'Eley T', 'Kadiyala P', 'Cojocaru L', 'Baker C', 'Ryan J', 'Aubry AF', 'Arnold ME', 'Zeng J'], 'LastAuthor': 'Zeng J', 'Title': 'Sensitive and accurate liquid chromatography-tandem mass spectrometry methods for quantitative determination of a novel hepatitis C NS5B inhibitor BMS-791325 and its active metabolite in human plasma and urine.', 'Volume': '107', 'Issue': '', 'Pages': '17-23', 'LangList': ['English'], 'NlmUniqueID': '8309336', 'ISSN': '0731-7085', 'ESSN': '1873-264X', 'PubTypeList': ['Journal Article'], 'RecordStatus': 'PubMed - indexed for MEDLINE', 'PubStatus': 'ppublish+epublish', 'ArticleIds': {'medline': [], 'pubmed': ['25562845'], 'doi': '10.1016/j.jpba.2014.12.011', 'pii': 'S0731-7085(14)00606-2'}, 'DOI': '10.1016/j.jpba.2014.12.011', 'History': {'medline': ['2015/11/18 06:00'], 'pubmed': ['2015/01/07 06:00'], 'received': '2014/10/17 00:00', 'revised': '2014/12/05 00:00', 'accepted': '2014/12/09 00:00', 'entrez': '2015/01/07 06:00'}, 'References': [], 'HasAbstract': IntegerElement(1, attributes={}), 'PmcRefCount': IntegerElement(0, attributes={}), 'FullJournalName': 'Journal of pharmaceutical and biomedical analysis', 'ELocationID': 'doi: 10.1016/j.jpba.2014.12.011', 'SO': '2015 Mar 25;107:17-23'}]\n",
      "\n",
      "dict_keys(['Item', 'Id', 'PubDate', 'EPubDate', 'Source', 'AuthorList', 'LastAuthor', 'Title', 'Volume', 'Issue', 'Pages', 'LangList', 'NlmUniqueID', 'ISSN', 'ESSN', 'PubTypeList', 'RecordStatus', 'PubStatus', 'ArticleIds', 'DOI', 'History', 'References', 'HasAbstract', 'PmcRefCount', 'FullJournalName', 'ELocationID', 'SO'])\n",
      "\n",
      "Paper details\n",
      "PMID: 25562845 \n",
      "Title:  Sensitive and accurate liquid chromatography-tandem mass spectrometry methods for quantitative determination of a novel hepatitis C NS5B inhibitor BMS-791325 and its active metabolite in human plasma and urine. \n",
      "DOI: 10.1016/j.jpba.2014.12.011\n"
     ]
    }
   ],
   "source": [
    "# first summary\n",
    "\n",
    "with ez.esummary(db = \"pubmed\", id = \"25562845\") as handle:\n",
    "    record = ez.read(handle)\n",
    "print(record)\n",
    "print()\n",
    "print(record[0].keys())\n",
    "print()\n",
    "#optional more complex print statment to get a better overview\n",
    "print(\"Paper details\\nPMID:\",record[0][\"Id\"],\"\\nTitle: \",record[0][\"Title\"],\"\\nDOI:\",record[0][\"DOI\"])\n"
   ]
  },
  {
   "cell_type": "code",
   "execution_count": 56,
   "id": "2702aeb9-2942-4b15-a4c5-1e6ef49a5178",
   "metadata": {},
   "outputs": [
    {
     "name": "stdout",
     "output_type": "stream",
     "text": [
      "Name: Tnf\n",
      "GeneWeight: 219055\n",
      "ID: 21926\n",
      "\n",
      "Name: MIR21\n",
      "GeneWeight: 135471\n",
      "ID: 406991\n",
      "\n",
      "Name: CCND1\n",
      "GeneWeight: 136431\n",
      "ID: 595\n",
      "\n",
      "dict_keys(['DocumentSummary', 'DbBuild'])\n",
      "\n",
      "1\n",
      "\n",
      "Build240316-2105.1\n",
      "\n",
      "dict_keys(['Name', 'Description', 'Status', 'CurrentID', 'Chromosome', 'GeneticSource', 'MapLocation', 'OtherAliases', 'OtherDesignations', 'NomenclatureSymbol', 'NomenclatureName', 'NomenclatureStatus', 'Mim', 'GenomicInfo', 'GeneWeight', 'Summary', 'ChrSort', 'ChrStart', 'Organism', 'LocationHist'])\n"
     ]
    }
   ],
   "source": [
    "#second summary\n",
    "id_list = [\"21926\", \"406991\", \"595\"]\t\n",
    "\n",
    "for ids in id_list:\n",
    "    with ez.esummary(db = \"gene\", id = ids) as handle:\n",
    "        record = ez.read(handle)\n",
    "    #print(record)\n",
    "    print(\"Name:\",record['DocumentSummarySet']['DocumentSummary'][0][\"Name\"])\n",
    "    print(\"GeneWeight:\",record['DocumentSummarySet']['DocumentSummary'][0][\"GeneWeight\"])\n",
    "    print(\"ID:\",record['DocumentSummarySet']['DocumentSummary'][0].attributes[\"uid\"])\n",
    "    print()\n",
    "\n",
    "print(record['DocumentSummarySet'].keys())\n",
    "print()\n",
    "print(len(record['DocumentSummarySet']['DocumentSummary']))\n",
    "print()\n",
    "print(record['DocumentSummarySet']['DbBuild'])\n",
    "print()\n",
    "print(record['DocumentSummarySet']['DocumentSummary'][0].keys())\n"
   ]
  },
  {
   "cell_type": "code",
   "execution_count": 59,
   "id": "c9a10f5b-dde0-4ce5-b744-a3560790e2e1",
   "metadata": {},
   "outputs": [
    {
     "name": "stdout",
     "output_type": "stream",
     "text": [
      "[{'Item': [], 'Id': '82219', 'Organism_Name': 'Monkeypox virus', 'Organism_Kingdom': 'Viruses', 'DefLine': 'Monkeypox virus RefSeq Genome', 'ProjectID': '284025', 'Number_of_Chromosomes': '1', 'Number_of_Plasmids': '0', 'Number_of_Organelles': '0', 'Assembly_Name': '', 'Assembly_Accession': '', 'AssemblyID': '0', 'Create_Date': '2001/12/12 00:00', 'Options': ''}]\n",
      "\n",
      "dict_keys(['Item', 'Id', 'Organism_Name', 'Organism_Kingdom', 'DefLine', 'ProjectID', 'Number_of_Chromosomes', 'Number_of_Plasmids', 'Number_of_Organelles', 'Assembly_Name', 'Assembly_Accession', 'AssemblyID', 'Create_Date', 'Options'])\n",
      "\n",
      "Genome details\n",
      "ID: 82219\n",
      "Organism Name:  Monkeypox virus\n",
      "Number of Organelles: 0\n",
      "Number of Chromosomes: 1\n"
     ]
    }
   ],
   "source": [
    "# third summary\n",
    "\n",
    "with ez.esummary(db = \"genome\", id = \"82219\") as handle:\n",
    "    record = ez.read(handle)\n",
    "print(record)\n",
    "print()\n",
    "print(record[0].keys())\n",
    "print()\n",
    "#optional more complex print statment to get a better overview\n",
    "print(\"Genome details\\nID:\",record[0][\"Id\"])\n",
    "print(\"Organism Name: \",record[0][\"Organism_Name\"])\n",
    "print(\"Number of Organelles:\",record[0][\"Number_of_Organelles\"])\n",
    "print(\"Number of Chromosomes:\",record[0][\"Number_of_Chromosomes\"])\n"
   ]
  },
  {
   "cell_type": "code",
   "execution_count": 62,
   "id": "43b17871-b526-47d3-8359-ce39ac7b606d",
   "metadata": {},
   "outputs": [
    {
     "name": "stdout",
     "output_type": "stream",
     "text": [
      "Paper details\n",
      "PMID: 37426289 \n",
      "Title:  Summary of the National Advisory Committee on Immunization (NACI) Rapid Response-Interim guidance on the use of Imvamune in the context of monkeypox outbreaks in Canada.\n",
      "First Author: Brousseau N\n",
      "Last Author: Brousseau N\n",
      "DOI: 10.14745/ccdr.v48i78a09\n",
      "\n",
      "Paper details\n",
      "PMID: 36814644 \n",
      "Title:  The monkeypox diagnosis, treatments and prevention: A review.\n",
      "First Author: Rauf MA\n",
      "Last Author: Ji XY\n",
      "DOI: 10.3389/fcimb.2022.1088471\n",
      "\n"
     ]
    }
   ],
   "source": [
    "# fourth summary\n",
    "id_list = [37426289, 36814644]\n",
    "\n",
    "for ids in id_list:\n",
    "    with ez.esummary(db = \"pubmed\", id = ids) as handle:\n",
    "        record = ez.read(handle)\n",
    "    #print(record)\n",
    "    #print()\n",
    "    #print(record[0].keys())\n",
    "    #print()\n",
    "    #optional more complex print statment to get a better overview\n",
    "    print(\"Paper details\\nPMID:\",record[0][\"Id\"],\"\\nTitle: \",record[0][\"Title\"])\n",
    "    print(\"First Author:\", record[0][\"AuthorList\"][1])\n",
    "    print(\"Last Author:\", record[0][\"AuthorList\"][-1])\n",
    "    print(\"DOI:\",record[0][\"DOI\"])\n",
    "    print()\n"
   ]
  },
  {
   "cell_type": "code",
   "execution_count": 69,
   "id": "dffc4ef9-b4e8-4e2d-8b61-0b482c42b516",
   "metadata": {},
   "outputs": [
    {
     "name": "stdout",
     "output_type": "stream",
     "text": [
      "Protein details\n",
      "ID: 215981657 \n",
      "Title:  N [Parrot bornavirus 4]\n",
      "Length: IntegerElement(373, attributes={})\n",
      "Status: live\n",
      "\n",
      "Protein details\n",
      "ID: 215981655 \n",
      "Title:  G [Parrot bornavirus 4]\n",
      "Length: IntegerElement(500, attributes={})\n",
      "Status: live\n",
      "\n"
     ]
    }
   ],
   "source": [
    "# fifth summary\n",
    "id_list = [215981657, 215981655]\n",
    "\n",
    "for ids in id_list:\n",
    "    with ez.esummary(db = \"protein\", id = ids) as handle:\n",
    "        record = ez.read(handle)\n",
    "    #print(record)\n",
    "    #print()\n",
    "    #print(record[0].keys())\n",
    "    #print()\n",
    "    #optional more complex print statment to get a better overview\n",
    "    print(\"Protein details\\nID:\",record[0][\"Id\"],\"\\nTitle: \",record[0][\"Title\"])\n",
    "    print(\"Length:\", record[0][\"Length\"])\n",
    "    print(\"Status:\",record[0][\"Status\"])\n",
    "    print()\n"
   ]
  },
  {
   "cell_type": "code",
   "execution_count": 72,
   "id": "03c3b23e-47db-4334-bc5e-e82656e80c69",
   "metadata": {},
   "outputs": [
    {
     "name": "stdout",
     "output_type": "stream",
     "text": [
      "dict_keys(['Title', 'Accession', 'Date', 'PublicationDate', 'ModificationDate', 'Organization', 'Taxonomy', 'Organism', 'SourceSample', 'SampleData', 'Identifiers', 'Infraspecies', 'Package', 'SortKey'])\n"
     ]
    }
   ],
   "source": [
    "print(record['DocumentSummarySet']['DocumentSummary'][0].keys())"
   ]
  },
  {
   "cell_type": "code",
   "execution_count": 74,
   "id": "19040bb0-c68c-4f29-8b63-4370589b7b00",
   "metadata": {},
   "outputs": [
    {
     "name": "stdout",
     "output_type": "stream",
     "text": [
      "Title: Pathogen: clinical or host-associated sample from varicella-zoster virus\n",
      "Organism: Human alphaherpesvirus 3\n",
      "ID: 23498700\n",
      "Accession: SAMN23498700\n",
      "\n",
      "Title: RNA sample from PBMC of a human male participant in the dbGaP study \"T Cell Responses to Varicella Zoster Virus\"\n",
      "Organism: Homo sapiens\n",
      "ID: 4623491\n",
      "Accession: SAMN04623491\n",
      "\n"
     ]
    }
   ],
   "source": [
    "# sixth summary\n",
    "id_list = [23498700 , 4623491]\n",
    "\n",
    "for ids in id_list:\n",
    "    with ez.esummary(db = \"biosample\", id = ids) as handle:\n",
    "        record = ez.read(handle)\n",
    "    #print(record)\n",
    "    print(\"Title:\",record['DocumentSummarySet']['DocumentSummary'][0][\"Title\"])\n",
    "    print(\"Organism:\",record['DocumentSummarySet']['DocumentSummary'][0][\"Organism\"])\n",
    "    print(\"ID:\",record['DocumentSummarySet']['DocumentSummary'][0].attributes[\"uid\"])\n",
    "    print(\"Accession:\",record['DocumentSummarySet']['DocumentSummary'][0][\"Accession\"])\n",
    "    print()\n"
   ]
  },
  {
   "cell_type": "code",
   "execution_count": 80,
   "id": "28cbb05e-8f1e-48a4-9a4b-2af3e40768cc",
   "metadata": {},
   "outputs": [
    {
     "name": "stdout",
     "output_type": "stream",
     "text": [
      "Structure details\n",
      "ID: 231743 \n",
      "Organism:  ['Streptococcus pneumoniae R6'] \n",
      "Method: X-ray Diffraction\n"
     ]
    }
   ],
   "source": [
    "# seventh summary\n",
    "\n",
    "with ez.esummary(db = \"structure\", id = \"231743\") as handle:\n",
    "    record = ez.read(handle)\n",
    "#print(record)\n",
    "#print()\n",
    "#print(record[0].keys())\n",
    "#print()\n",
    "#optional more complex print statment to get a better overview\n",
    "print(\"Structure details\\nID:\",record[0][\"Id\"],\"\\nOrganism: \",record[0][\"OrganismList\"],\"\\nMethod:\",record[0][\"ExpMethod\"])\n"
   ]
  },
  {
   "cell_type": "code",
   "execution_count": 10,
   "id": "5a8dfdca-e7e3-46fa-acc7-2d1433352c09",
   "metadata": {},
   "outputs": [
    {
     "name": "stdout",
     "output_type": "stream",
     "text": [
      "{'DbList': ['pubmed', 'protein', 'nuccore', 'ipg', 'nucleotide', 'structure', 'genome', 'annotinfo', 'assembly', 'bioproject', 'biosample', 'blastdbinfo', 'books', 'cdd', 'clinvar', 'gap', 'gapplus', 'grasp', 'dbvar', 'gene', 'gds', 'geoprofiles', 'medgen', 'mesh', 'nlmcatalog', 'omim', 'orgtrack', 'pmc', 'popset', 'proteinclusters', 'pcassay', 'protfam', 'pccompound', 'pcsubstance', 'seqannot', 'snp', 'sra', 'taxonomy', 'biocollections', 'gtr']}\n"
     ]
    }
   ],
   "source": [
    "with ez.einfo() as query:\n",
    "    print(ez.read(query))"
   ]
  },
  {
   "cell_type": "markdown",
   "id": "aca7eeeb-b730-45b7-9804-401985c45a7c",
   "metadata": {},
   "source": [
    "## Exercise 9 - Fetching Data"
   ]
  },
  {
   "cell_type": "markdown",
   "id": "b98caf2e-798c-4f72-89fa-e528bdb870ae",
   "metadata": {},
   "source": [
    "Use some of the IDs from Exercise 8 to download data from the different databases"
   ]
  },
  {
   "cell_type": "code",
   "execution_count": 3,
   "id": "ad308673-d7e4-4d8d-b5bf-9b55c462df0d",
   "metadata": {},
   "outputs": [],
   "source": [
    "import Bio.Entrez as ez\n",
    "import xmltodict\n",
    "from Bio import SeqIO\n",
    "\n",
    "ez.email = \"\""
   ]
  },
  {
   "cell_type": "code",
   "execution_count": 106,
   "id": "f6608fd9-721f-47c0-9c6b-dba8fd0cdf68",
   "metadata": {},
   "outputs": [
    {
     "name": "stdout",
     "output_type": "stream",
     "text": [
      "dict_keys(['PubmedArticle', 'PubmedBookArticle'])\n",
      "\n",
      "The first key 'PubmedArticle' is of type: <class 'list'>\n",
      "The list is of length 1\n",
      "\n",
      "The list contains a: <class 'Bio.Entrez.Parser.DictionaryElement'>\n",
      "The dict keys are: dict_keys(['MedlineCitation', 'PubmedData'])\n",
      "\n",
      "'MedlineCitation' is a <class 'Bio.Entrez.Parser.DictionaryElement'>\n",
      "'PubmedData' is a  <class 'Bio.Entrez.Parser.DictionaryElement'>\n",
      "\n",
      "'MedlineCitation' has the keys dict_keys(['SpaceFlightMission', 'OtherID', 'GeneralNote', 'InvestigatorList', 'OtherAbstract', 'CitationSubset', 'KeywordList', 'PMID', 'DateCompleted', 'DateRevised', 'Article', 'MedlineJournalInfo', 'ChemicalList', 'MeshHeadingList'])\n",
      "'PubmedData' has the keys dict_keys(['ReferenceList', 'History', 'PublicationStatus', 'ArticleIdList'])\n",
      "\n",
      "'Article' has the keys dict_keys(['ELocationID', 'ArticleDate', 'Language', 'Journal', 'ArticleTitle', 'Pagination', 'Abstract', 'AuthorList', 'PublicationTypeList'])\n",
      "\n",
      "{'AbstractText': ['BMS-791325 is a novel hepatitis C NS5B inhibitor which is currently in clinical development. To support pharmacokinetic (PK) assessments, sensitive, accurate, precise, and reproducible liquid chromatography-tandem mass spectrometry (LC-MS/MS) methods have been developed and validated for the quantitation of BMS-791325 and its active N-demethyl metabolite (BMS-794712) in human plasma and urine. Plasma and urine samples were extracted with methyl-t-butyl ether followed by an LC-MS/MS analysis which was conducted in a multiple reaction monitoring (MRM) mode for the simultaneous detection of the two analytes in human plasma (0.1-50 ng/mL) and in human urine (5-2500 ng/mL). Intra-run precision (3.0% R.S.D.), inter-run precision (5.3% R.S.D.), and accuracy (±4.7% deviation) from plasma and urine quality control samples provide evidence of the methods accuracy and precision. Selectivity, stability in matrices, extraction recovery, matrix effect on LC-MS detection, and interference of coadministered drugs (famotidine and ritonavir) were all acceptable. Reproducibility of the plasma method was demonstrated by reanalysis of a portion of study samples. The results of cross-validations demonstrated the equivalency of two methods validated in two labs. The plasma method was applied to the analysis of several thousand clinical study samples for PK evaluations of the drug in normal healthy subjects and in patients. The urine method was used in the first in human study to evaluate renal clearance and urinary recovery.'], 'CopyrightInformation': 'Copyright © 2014 Elsevier B.V. All rights reserved.'}\n"
     ]
    }
   ],
   "source": [
    "#first fetch: Pubmed\n",
    "with ez.efetch(db = \"pubmed\", id = \"25562845\") as handle:\n",
    "    record = ez.read(handle)\n",
    "\n",
    "print(record.keys())\n",
    "print()\n",
    "print(\"The first key \\'PubmedArticle\\' is of type:\", type(record[\"PubmedArticle\"]))\n",
    "print(\"The list is of length\", len(record[\"PubmedArticle\"]))\n",
    "print()\n",
    "print(\"The list contains a:\", type(record[\"PubmedArticle\"][0]))\n",
    "print(\"The dict keys are:\", record[\"PubmedArticle\"][0].keys())\n",
    "print()\n",
    "print(\"'MedlineCitation' is a\", type(record[\"PubmedArticle\"][0][\"MedlineCitation\"]))\n",
    "print(\"'PubmedData' is a \", type(record[\"PubmedArticle\"][0][\"PubmedData\"]))\n",
    "print()\n",
    "print(\"'MedlineCitation' has the keys\",record[\"PubmedArticle\"][0][\"MedlineCitation\"].keys())\n",
    "print(\"'PubmedData' has the keys\",record[\"PubmedArticle\"][0][\"PubmedData\"].keys())\n",
    "print()\n",
    "print(\"'Article' has the keys\",record[\"PubmedArticle\"][0][\"MedlineCitation\"][\"Article\"].keys())\n",
    "print()\n",
    "print(record[\"PubmedArticle\"][0][\"MedlineCitation\"][\"Article\"][\"Abstract\"])"
   ]
  },
  {
   "cell_type": "code",
   "execution_count": 135,
   "id": "45e21167-a01a-4595-90c6-2f666c43681f",
   "metadata": {},
   "outputs": [
    {
     "name": "stdout",
     "output_type": "stream",
     "text": [
      "<class 'Bio.Entrez.Parser.ListElement'>\n",
      "1\n",
      "<class 'Bio.Entrez.Parser.DictionaryElement'>\n",
      "dict_keys(['Entrezgene_track-info', 'Entrezgene_type', 'Entrezgene_source', 'Entrezgene_gene', 'Entrezgene_prot', 'Entrezgene_summary', 'Entrezgene_location', 'Entrezgene_gene-source', 'Entrezgene_locus', 'Entrezgene_properties', 'Entrezgene_comments', 'Entrezgene_unique-keys', 'Entrezgene_xtra-index-terms'])\n",
      "\n",
      "This gene encodes a multifunctional proinflammatory cytokine that belongs to the tumor necrosis factor (TNF) superfamily. Members of this family are classified based on primary sequence, function, and structure. This protein is synthesized as a type-II transmembrane protein and is reported to be cleaved into products that exert distinct biological functions. It plays an important role in the innate immune response as well as regulating homeostasis but is also implicated in diseases of chronic inflammation. In mouse deficiency of this gene is associated with defects in response to bacterial infection, with defects in forming organized follicular dendritic cell networks and germinal centers, and with a lack of primary B cell follicles. Alternative splicing results in multiple transcript variants. [provided by RefSeq, Jun 2013]\n",
      "\n",
      "{'Gene-ref': {'Gene-ref_locus': 'Tnf', 'Gene-ref_desc': 'tumor necrosis factor', 'Gene-ref_maploc': '17 18.59 cM', 'Gene-ref_db': [{'Dbtag_db': 'MGI', 'Dbtag_tag': {'Object-id': {'Object-id_str': 'MGI:104798'}}}, {'Dbtag_db': 'Ensembl', 'Dbtag_tag': {'Object-id': {'Object-id_str': 'ENSMUSG00000024401'}}}, {'Dbtag_db': 'AllianceGenome', 'Dbtag_tag': {'Object-id': {'Object-id_str': 'MGI:104798'}}}], 'Gene-ref_syn': ['DIF', 'Tnfa', 'TNF-a', 'TNFSF2', 'Tnlg1f', 'Tnfsf1a', 'TNFalpha', 'TNF-alpha']}}\n"
     ]
    }
   ],
   "source": [
    "#second fetch: gene\n",
    "with ez.efetch(db = \"gene\", id = 21926, retmode = \"xml\") as handle:\n",
    "    record1 = ez.read(handle)\n",
    "\n",
    "print(type(record1))\n",
    "print(len(record1))\n",
    "print(type(record1[0]))\n",
    "print((record1[0].keys()))\n",
    "print()\n",
    "print(record1[0][\"Entrezgene_summary\"])\n",
    "print()\n",
    "print((record1[0][\"Entrezgene_gene\"]))"
   ]
  },
  {
   "cell_type": "markdown",
   "id": "dedd3436-0b26-4d70-8658-d36810621290",
   "metadata": {},
   "source": [
    "> I can't fetch anything from genome, the genomes are stored in nucleotides....."
   ]
  },
  {
   "cell_type": "code",
   "execution_count": 133,
   "id": "3e17c77e-0d52-4115-95da-12ad17fccbf9",
   "metadata": {},
   "outputs": [],
   "source": [
    "#third fetch genome\n",
    "with ez.efetch(db = \"genome\", id = \"82219\", retmode = \"xml\") as handle:\n",
    "    record = ez.read(handle)\n",
    "\n",
    "print((record))\n",
    "\n"
   ]
  },
  {
   "cell_type": "code",
   "execution_count": 137,
   "id": "fd84e74a-0131-4359-afe2-f85fdb91be06",
   "metadata": {},
   "outputs": [
    {
     "name": "stdout",
     "output_type": "stream",
     "text": [
      "1. Can Commun Dis Rep. 2022 Jul 7;48(7-8):367-371. doi: 10.14745/ccdr.v48i78a09. \n",
      "eCollection 2022 Jul 7.\n",
      "\n",
      "Summary of the National Advisory Committee on Immunization (NACI) Rapid \n",
      "Response-Interim guidance on the use of Imvamune in the context of monkeypox \n",
      "outbreaks in Canada.\n",
      "\n",
      "Killikelly A(1), Brousseau N(2).\n",
      "\n",
      "Author information:\n",
      "(1)Public Health Agency of Canada, Centre for Immunization and Respiratory \n",
      "Infectious Diseases, Ottawa, ON.\n",
      "(2)Institut national de santé publique du Québec, Direction des risques \n",
      "biologiques, Québec, QC.\n",
      "\n",
      "BACKGROUND: Monkeypox is endemic in Central and West Africa. Cases in \n",
      "non-endemic countries, including Canada, have been increasing since May 2022. \n",
      "Imvamune®, a live, non-replicating smallpox vaccine, was approved by Health \n",
      "Canada for active immunization against smallpox and monkeypox infections and \n",
      "disease in adults determined to be at high risk for exposure. The aim of this \n",
      "interim guidance is to consider the use of Imvamune for post-exposure \n",
      "prophylaxis (PEP) and to summarize the available evidence in support of Imvamune \n",
      "use in this specific current context.\n",
      "METHODS: The National Advisory Committee on Immunization (NACI) High Consequence \n",
      "Infectious Disease Working Group (HCID WG) reviewed data on the current status \n",
      "of the monkeypox outbreak, along with additional evidence included in published \n",
      "scientific literature and from manufacturers, regarding the safety, \n",
      "immunogenicity and protection offered by Imvamune. NACI approved these HCID WG \n",
      "recommendations on June 8, 2022.\n",
      "RESULTS: In brief, NACI recommends that PEP, using a single dose of the Imvamune \n",
      "vaccine, may be offered to individuals with high-risk exposures to a probable or \n",
      "confirmed case of monkeypox, or within a setting where transmission is \n",
      "happening. After 28 days, if an individual is assessed as having a predictable \n",
      "ongoing risk of exposure, a second dose may be offered. Imvamune may be offered \n",
      "to special populations; including individuals who are immunosuppressed, \n",
      "pregnant, breastfeeding, younger than 18 years of age and/or with atopic \n",
      "dermatitis.\n",
      "CONCLUSION: NACI has rapidly developed guidance on the use of Imvamune in Canada \n",
      "in the context of many uncertainties. Recommendations may be revisited as new \n",
      "evidence emerges.\n",
      "\n",
      "Public Health Agency of Canada, 2022.\n",
      "\n",
      "DOI: 10.14745/ccdr.v48i78a09\n",
      "PMCID: PMC10324881\n",
      "PMID: 37426289\n",
      "\n",
      "Conflict of interest statement: Competing interests: None.\n"
     ]
    }
   ],
   "source": [
    "# fourth fetch: abstract from PubMed\n",
    "\n",
    "with ez.efetch(db = \"pubmed\", id = 37426289, rettype = \"abstract\", retmode =\"text\") as handle:\n",
    "    record = handle.read()\n",
    "\n",
    "print(record)"
   ]
  },
  {
   "cell_type": "code",
   "execution_count": 149,
   "id": "a98d4c02-bed1-4bb1-acfc-c67aea2a1800",
   "metadata": {},
   "outputs": [
    {
     "name": "stdout",
     "output_type": "stream",
     "text": [
      "ID: ACJ71394.1\n",
      "Name: ACJ71394.1\n",
      "Description: ACJ71394.1 N [Parrot bornavirus 4]\n",
      "Number of features: 0\n",
      "Seq('MPPKRQRSPNDQDEEMDSGEPAASRGHFPSLTGAFLQYTQGGVDPHPGIGNEKD...FAN')\n",
      "\n",
      "Sequence: MPPKRQRSPNDQDEEMDSGEPAASRGHFPSLTGAFLQYTQGGVDPHPGIGNEKDIHKNAVALLDQSRRELYHSVTPSLVFLCLLIPGLHSALLFAGVQRESYLTTPVKQGERLITKTANFFGEKTMDQELTELQISSIFNHCCSLLIGVVIGSSAKIKAGAEQIKKRFKTLMASINRPGHGETANLLSVFNPHEAIDWINAQPWVGSFVLALLTTDFESPGKEFMDQIKLVAGFAQMTTYTTIKEYLNECMDATLTIPAVALEIKEFLDTTAKLKAEHGDMFKYLGAIRHSDAIKLAPRNFPNLASAAFYWSKKENPTMAGYRASTIQPGSIVKEAQLARFRRREITRGDDGTTMSPEIAEVMKLIGVTGFAN\n",
      "\n",
      "Name: ACJ71394.1\n",
      "All available attributes:\n",
      "['_AnnotationsDict', '_AnnotationsDictValue', '__add__', '__annotations__', '__bool__', '__bytes__', '__class__', '__contains__', '__delattr__', '__dict__', '__dir__', '__doc__', '__eq__', '__format__', '__ge__', '__getattribute__', '__getitem__', '__getstate__', '__gt__', '__hash__', '__init__', '__init_subclass__', '__iter__', '__le__', '__len__', '__lt__', '__module__', '__ne__', '__new__', '__radd__', '__reduce__', '__reduce_ex__', '__repr__', '__setattr__', '__sizeof__', '__str__', '__subclasshook__', '__weakref__', '_per_letter_annotations', '_seq', '_set_per_letter_annotations', '_set_seq', 'annotations', 'count', 'dbxrefs', 'description', 'features', 'format', 'id', 'islower', 'isupper', 'letter_annotations', 'lower', 'name', 'reverse_complement', 'seq', 'translate', 'upper']\n",
      "typing.Dict[str, typing.Union[str, int]]\n"
     ]
    }
   ],
   "source": [
    "# fifth fetch protein\n",
    "\n",
    "with ez.efetch(db = \"protein\", id = 215981657, rettype = \"fasta\", retmode=\"text\") as handle:\n",
    "    record = SeqIO.read(handle,\"fasta\")\n",
    "\n",
    "print(record)\n",
    "print()\n",
    "print(\"Sequence:\", record.seq)\n",
    "print()\n",
    "print(\"Name:\",record.name)\n",
    "print(\"All available attributes:\")\n",
    "print(list(dir(record)))\n"
   ]
  },
  {
   "cell_type": "code",
   "execution_count": 5,
   "id": "2e7dd586-fbcb-4a8e-a597-e91e9a39b4b1",
   "metadata": {},
   "outputs": [
    {
     "name": "stdout",
     "output_type": "stream",
     "text": [
      "{'BioSampleSet': {'BioSample': {'@access': 'public', '@publication_date': '2021-11-30T00:00:00.000', '@last_update': '2021-11-30T22:34:32.897', '@submission_date': '2021-11-30T01:00:04.700', '@id': '23498700', '@accession': 'SAMN23498700', 'Ids': {'Id': [{'@db': 'BioSample', '@is_primary': '1', '#text': 'SAMN23498700'}, {'@db_label': 'Sample name', '#text': 'Patient 9'}, {'@db': 'SRA', '#text': 'SRS11190871'}]}, 'Description': {'Title': 'Pathogen: clinical or host-associated sample from varicella-zoster virus', 'Organism': {'@taxonomy_id': '10335', '@taxonomy_name': 'Human alphaherpesvirus 3', 'OrganismName': 'Human alphaherpesvirus 3'}}, 'Owner': {'Name': 'The Second Hospital of Nanjing', 'Contacts': {'Contact': {'@email': 'huzhiliangseu@163.com', 'Name': {'First': 'Zhiliang', 'Last': 'Hu'}}}}, 'Models': {'Model': 'Pathogen.cl'}, 'Package': {'@display_name': 'Pathogen: clinical or host-associated; version 1.0', '#text': 'Pathogen.cl.1.0'}, 'Attributes': {'Attribute': [{'@attribute_name': 'isolate', '@harmonized_name': 'isolate', '@display_name': 'isolate', '#text': 'human'}, {'@attribute_name': 'collected_by', '@harmonized_name': 'collected_by', '@display_name': 'collected by', '#text': 'the Second Hospital of Nanjing'}, {'@attribute_name': 'collection_date', '@harmonized_name': 'collection_date', '@display_name': 'collection date', '#text': '2020-09'}, {'@attribute_name': 'geo_loc_name', '@harmonized_name': 'geo_loc_name', '@display_name': 'geographic location', '#text': 'China:Nanjing'}, {'@attribute_name': 'host', '@harmonized_name': 'host', '@display_name': 'host', '#text': 'Homo sapiens'}, {'@attribute_name': 'host_disease', '@harmonized_name': 'host_disease', '@display_name': 'host disease', '#text': 'chickenpox'}, {'@attribute_name': 'isolation_source', '@harmonized_name': 'isolation_source', '@display_name': 'isolation source', '#text': 'China'}, {'@attribute_name': 'lat_lon', '@harmonized_name': 'lat_lon', '@display_name': 'latitude and longitude', '#text': 'not applicable'}]}, 'Links': {'Link': {'@type': 'entrez', '@target': 'bioproject', '@label': 'PRJNA784638', '#text': '784638'}}, 'Status': {'@status': 'live', '@when': '2021-11-30T20:50:56.121'}}}}\n"
     ]
    }
   ],
   "source": [
    "\n",
    "# sixth fetch\n",
    "with ez.efetch(db = \"biosample\", id = 23498700, rettype= \"full\",retmode =\"xml\") as handle:\n",
    "    record2 = xmltodict.parse(handle)\n",
    "\n",
    "print(record2)"
   ]
  },
  {
   "cell_type": "markdown",
   "id": "adeca080-f3b0-49d6-ac18-017cbcafbdb7",
   "metadata": {},
   "source": [
    "## Exercsie 10 - Linked data"
   ]
  },
  {
   "cell_type": "code",
   "execution_count": null,
   "id": "b1531fbf-f84e-41be-912f-e980305cad52",
   "metadata": {},
   "outputs": [],
   "source": [
    "import Bio.Entrez as ez\n",
    "\n",
    "ez.email = \"\""
   ]
  },
  {
   "cell_type": "code",
   "execution_count": 15,
   "id": "38e3b53b-7ace-4d28-a797-0944b092662c",
   "metadata": {},
   "outputs": [
    {
     "name": "stdout",
     "output_type": "stream",
     "text": [
      "[{'ERROR': [], 'LinkSetDb': [{'Link': [{'Id': '215981651'}], 'DbTo': 'nuccore', 'LinkName': 'protein_nuccore'}, {'Link': [{'Id': '215981651'}], 'DbTo': 'nuccore', 'LinkName': 'protein_nuccore_mrna'}], 'LinkSetDbHistory': [], 'DbFrom': 'protein', 'IdList': ['215981657']}]\n",
      "\n",
      "[{'Id': '215981651'}]\n"
     ]
    }
   ],
   "source": [
    "#first link\n",
    "protid = \"215981657\"\n",
    "with ez.elink(db=\"nuccore\",dbfrom=\"protein\",id=protid) as query:\n",
    "    record = ez.read(query)\n",
    "\n",
    "print(record)\n",
    "print()\n",
    "print(record[0]['LinkSetDb'][0]['Link'])"
   ]
  },
  {
   "cell_type": "code",
   "execution_count": 38,
   "id": "44f07626-4207-4fd6-b316-fa7038170d0b",
   "metadata": {},
   "outputs": [
    {
     "name": "stdout",
     "output_type": "stream",
     "text": [
      "['1707394072', '1707394070', '1707394069', '1707394068', '1707377795', '1707377792', '1707377787', '2697720765', '1402625529', '1402624465', '1402624273', '1402624250', '1402623976', '1402623911', '1402623852', '1402623819', '1402623799', '1402623776', '1402623774', '124377986']\n",
      "\n",
      "1707394072\n",
      "[{'Id': '1707394041'}]\n",
      "\n",
      "1707394070\n",
      "[{'Id': '1707394041'}]\n",
      "\n",
      "1707394069\n",
      "[{'Id': '1707394041'}]\n",
      "\n",
      "1707394068\n",
      "[{'Id': '1707394041'}]\n",
      "\n",
      "1707377795\n",
      "[{'Id': '1707377779'}]\n",
      "\n",
      "1707377792\n",
      "[{'Id': '1707377779'}]\n",
      "\n",
      "1707377787\n",
      "[{'Id': '1707377779'}]\n",
      "\n",
      "2697720765\n"
     ]
    },
    {
     "ename": "ValueError",
     "evalue": "Unexpected item 'Link' in dictionary",
     "output_type": "error",
     "traceback": [
      "\u001b[0;31m---------------------------------------------------------------------------\u001b[0m",
      "\u001b[0;31mValueError\u001b[0m                                Traceback (most recent call last)",
      "Cell \u001b[0;32mIn[38], line 12\u001b[0m\n\u001b[1;32m      9\u001b[0m \u001b[38;5;28mprint\u001b[39m(protid)\n\u001b[1;32m     11\u001b[0m \u001b[38;5;28;01mwith\u001b[39;00m ez\u001b[38;5;241m.\u001b[39melink(db\u001b[38;5;241m=\u001b[39m\u001b[38;5;124m\"\u001b[39m\u001b[38;5;124mnuccore\u001b[39m\u001b[38;5;124m\"\u001b[39m,dbfrom\u001b[38;5;241m=\u001b[39m\u001b[38;5;124m\"\u001b[39m\u001b[38;5;124mprotein\u001b[39m\u001b[38;5;124m\"\u001b[39m,\u001b[38;5;28mid\u001b[39m\u001b[38;5;241m=\u001b[39mprotid) \u001b[38;5;28;01mas\u001b[39;00m query2:\n\u001b[0;32m---> 12\u001b[0m     record2 \u001b[38;5;241m=\u001b[39m \u001b[43mez\u001b[49m\u001b[38;5;241;43m.\u001b[39;49m\u001b[43mread\u001b[49m\u001b[43m(\u001b[49m\u001b[43mquery2\u001b[49m\u001b[43m)\u001b[49m\n\u001b[1;32m     14\u001b[0m \u001b[38;5;66;03m#print(record2)\u001b[39;00m\n\u001b[1;32m     15\u001b[0m \u001b[38;5;66;03m#print()\u001b[39;00m\n\u001b[1;32m     16\u001b[0m \u001b[38;5;28mprint\u001b[39m(record2[\u001b[38;5;241m0\u001b[39m][\u001b[38;5;124m'\u001b[39m\u001b[38;5;124mLinkSetDb\u001b[39m\u001b[38;5;124m'\u001b[39m][\u001b[38;5;241m0\u001b[39m][\u001b[38;5;124m'\u001b[39m\u001b[38;5;124mLink\u001b[39m\u001b[38;5;124m'\u001b[39m])\n",
      "File \u001b[0;32m/Library/Frameworks/Python.framework/Versions/3.12/lib/python3.12/site-packages/Bio/Entrez/__init__.py:518\u001b[0m, in \u001b[0;36mread\u001b[0;34m(source, validate, escape, ignore_errors)\u001b[0m\n\u001b[1;32m    515\u001b[0m \u001b[38;5;28;01mfrom\u001b[39;00m \u001b[38;5;21;01m.\u001b[39;00m\u001b[38;5;21;01mParser\u001b[39;00m \u001b[38;5;28;01mimport\u001b[39;00m DataHandler\n\u001b[1;32m    517\u001b[0m handler \u001b[38;5;241m=\u001b[39m DataHandler(validate, escape, ignore_errors)\n\u001b[0;32m--> 518\u001b[0m record \u001b[38;5;241m=\u001b[39m \u001b[43mhandler\u001b[49m\u001b[38;5;241;43m.\u001b[39;49m\u001b[43mread\u001b[49m\u001b[43m(\u001b[49m\u001b[43msource\u001b[49m\u001b[43m)\u001b[49m\n\u001b[1;32m    519\u001b[0m \u001b[38;5;28;01mreturn\u001b[39;00m record\n",
      "File \u001b[0;32m/Library/Frameworks/Python.framework/Versions/3.12/lib/python3.12/site-packages/Bio/Entrez/Parser.py:403\u001b[0m, in \u001b[0;36mDataHandler.read\u001b[0;34m(self, source)\u001b[0m\n\u001b[1;32m    401\u001b[0m     \u001b[38;5;28;01mraise\u001b[39;00m \u001b[38;5;167;01mTypeError\u001b[39;00m(\u001b[38;5;124m\"\u001b[39m\u001b[38;5;124mfile should be opened in binary mode\u001b[39m\u001b[38;5;124m\"\u001b[39m)\n\u001b[1;32m    402\u001b[0m \u001b[38;5;28;01mtry\u001b[39;00m:\n\u001b[0;32m--> 403\u001b[0m     \u001b[38;5;28;43mself\u001b[39;49m\u001b[38;5;241;43m.\u001b[39;49m\u001b[43mparser\u001b[49m\u001b[38;5;241;43m.\u001b[39;49m\u001b[43mParseFile\u001b[49m\u001b[43m(\u001b[49m\u001b[43mstream\u001b[49m\u001b[43m)\u001b[49m\n\u001b[1;32m    404\u001b[0m \u001b[38;5;28;01mexcept\u001b[39;00m expat\u001b[38;5;241m.\u001b[39mExpatError \u001b[38;5;28;01mas\u001b[39;00m e:\n\u001b[1;32m    405\u001b[0m     \u001b[38;5;28;01mif\u001b[39;00m \u001b[38;5;28mself\u001b[39m\u001b[38;5;241m.\u001b[39mparser\u001b[38;5;241m.\u001b[39mStartElementHandler:\n\u001b[1;32m    406\u001b[0m         \u001b[38;5;66;03m# We saw the initial <!xml declaration, so we can be sure that\u001b[39;00m\n\u001b[1;32m    407\u001b[0m         \u001b[38;5;66;03m# we are parsing XML data. Most likely, the XML file is\u001b[39;00m\n\u001b[1;32m    408\u001b[0m         \u001b[38;5;66;03m# corrupted.\u001b[39;00m\n",
      "File \u001b[0;32m/Users/sysadmin/build/v3.12.2/Modules/pyexpat.c:416\u001b[0m, in \u001b[0;36mStartElement\u001b[0;34m()\u001b[0m\n",
      "File \u001b[0;32m/Library/Frameworks/Python.framework/Versions/3.12/lib/python3.12/site-packages/Bio/Entrez/Parser.py:693\u001b[0m, in \u001b[0;36mDataHandler.startElementHandler\u001b[0;34m(self, tag, attrs)\u001b[0m\n\u001b[1;32m    691\u001b[0m     \u001b[38;5;28mself\u001b[39m\u001b[38;5;241m.\u001b[39mrecord \u001b[38;5;241m=\u001b[39m element\n\u001b[1;32m    692\u001b[0m \u001b[38;5;28;01melse\u001b[39;00m:\n\u001b[0;32m--> 693\u001b[0m     \u001b[43mparent\u001b[49m\u001b[38;5;241;43m.\u001b[39;49m\u001b[43mstore\u001b[49m\u001b[43m(\u001b[49m\u001b[43melement\u001b[49m\u001b[43m)\u001b[49m\n\u001b[1;32m    694\u001b[0m \u001b[38;5;28mself\u001b[39m\u001b[38;5;241m.\u001b[39melement \u001b[38;5;241m=\u001b[39m element\n\u001b[1;32m    695\u001b[0m \u001b[38;5;28mself\u001b[39m\u001b[38;5;241m.\u001b[39mparser\u001b[38;5;241m.\u001b[39mEndElementHandler \u001b[38;5;241m=\u001b[39m \u001b[38;5;28mself\u001b[39m\u001b[38;5;241m.\u001b[39mendElementHandler\n",
      "File \u001b[0;32m/Library/Frameworks/Python.framework/Versions/3.12/lib/python3.12/site-packages/Bio/Entrez/Parser.py:199\u001b[0m, in \u001b[0;36mDictionaryElement.store\u001b[0;34m(self, value)\u001b[0m\n\u001b[1;32m    197\u001b[0m tag \u001b[38;5;241m=\u001b[39m value\u001b[38;5;241m.\u001b[39mtag\n\u001b[1;32m    198\u001b[0m \u001b[38;5;28;01mif\u001b[39;00m \u001b[38;5;28mself\u001b[39m\u001b[38;5;241m.\u001b[39mallowed_tags \u001b[38;5;129;01mis\u001b[39;00m \u001b[38;5;129;01mnot\u001b[39;00m \u001b[38;5;28;01mNone\u001b[39;00m \u001b[38;5;129;01mand\u001b[39;00m tag \u001b[38;5;129;01mnot\u001b[39;00m \u001b[38;5;129;01min\u001b[39;00m \u001b[38;5;28mself\u001b[39m\u001b[38;5;241m.\u001b[39mallowed_tags:\n\u001b[0;32m--> 199\u001b[0m     \u001b[38;5;28;01mraise\u001b[39;00m \u001b[38;5;167;01mValueError\u001b[39;00m(\u001b[38;5;124m\"\u001b[39m\u001b[38;5;124mUnexpected item \u001b[39m\u001b[38;5;124m'\u001b[39m\u001b[38;5;132;01m%s\u001b[39;00m\u001b[38;5;124m'\u001b[39m\u001b[38;5;124m in dictionary\u001b[39m\u001b[38;5;124m\"\u001b[39m \u001b[38;5;241m%\u001b[39m key)\n\u001b[1;32m    200\u001b[0m \u001b[38;5;28;01mdel\u001b[39;00m value\u001b[38;5;241m.\u001b[39mkey\n\u001b[1;32m    201\u001b[0m \u001b[38;5;28;01mif\u001b[39;00m \u001b[38;5;28mself\u001b[39m\u001b[38;5;241m.\u001b[39mrepeated_tags \u001b[38;5;129;01mand\u001b[39;00m key \u001b[38;5;129;01min\u001b[39;00m \u001b[38;5;28mself\u001b[39m\u001b[38;5;241m.\u001b[39mrepeated_tags:\n",
      "\u001b[0;31mValueError\u001b[0m: Unexpected item 'Link' in dictionary"
     ]
    }
   ],
   "source": [
    "with ez.esearch(db = \"protein\", term=\"ERBB4\") as query:\n",
    "    record = ez.read(query)\n",
    "\n",
    "print(record[\"IdList\"])\n",
    "print()\n",
    "\n",
    "for i in range(0,len(record[\"IdList\"])):\n",
    "    protid = record[\"IdList\"][i]\n",
    "    print(protid)\n",
    "\n",
    "    with ez.elink(db=\"nuccore\",dbfrom=\"protein\",id=protid) as query2:\n",
    "        record2 = ez.read(query2)\n",
    "\n",
    "    #print(record2)\n",
    "    #print()\n",
    "    print(record2[0]['LinkSetDb'][0]['Link'])\n",
    "    print()"
   ]
  },
  {
   "cell_type": "code",
   "execution_count": 50,
   "id": "c2305c62-bf0b-46dd-9679-71021577f45e",
   "metadata": {},
   "outputs": [
    {
     "name": "stdout",
     "output_type": "stream",
     "text": [
      "['1707394072', '1707394070', '1707394069', '1707394068', '1707377795', '1707377792', '1707377787', '2697720765', '1402625529', '1402624465', '1402624273', '1402624250', '1402623976', '1402623911', '1402623852', '1402623819', '1402623799', '1402623776', '1402623774', '124377986']\n",
      "\n",
      "2697720765\n",
      "{'eLinkResult': {'LinkSet': [{'DbFrom': 'protein', 'IdList': {'Id': '2697720765'}, 'LinkSetDb': {'DbTo': 'nuccore', 'LinkName': 'protein_nuccore', 'Link': [{'Id': '2697720764'}, {'Id': '2671792870'}]}}, {'DbFrom': 'protein', 'Link': {'Id': '0'}}]}}\n"
     ]
    }
   ],
   "source": [
    "#for the seventh identifier the xml file is not programmed properly. With xmltodict it works\n",
    "with ez.esearch(db = \"protein\", term=\"ERBB4\") as query:\n",
    "    record = ez.read(query)\n",
    "\n",
    "print(record[\"IdList\"])\n",
    "print()\n",
    "\n",
    "\n",
    "protid = record[\"IdList\"][7]\n",
    "print(protid)\n",
    "\n",
    "with ez.elink(db=\"nuccore\",dbfrom=\"protein\",id=protid) as query2:\n",
    "    record2 = xmltodict.parse(query2)\n",
    "\n",
    "print(record2)\n",
    "#print()\n"
   ]
  },
  {
   "cell_type": "code",
   "execution_count": 42,
   "id": "8d448ff0-23b9-4fcc-9801-6bcfd1c4cbec",
   "metadata": {},
   "outputs": [
    {
     "data": {
      "text/plain": [
       "20"
      ]
     },
     "execution_count": 42,
     "metadata": {},
     "output_type": "execute_result"
    }
   ],
   "source": []
  },
  {
   "cell_type": "markdown",
   "id": "a786a581-0487-4b8d-aa56-f90183c9f633",
   "metadata": {},
   "source": [
    "## Exercise 11 - Global Searches"
   ]
  },
  {
   "cell_type": "markdown",
   "id": "4c50f797-6a6e-45e6-86d2-bf52a5178444",
   "metadata": {},
   "source": [
    "Write a script that runs at least five different gloabl searches. Print out the number of results\n",
    "for the databases Nucleotide, Protein, Structure, Gene, Genome and PubMed."
   ]
  },
  {
   "cell_type": "code",
   "execution_count": 1,
   "id": "f5cbba9c-8ee5-4f82-bac7-3757a297eb2d",
   "metadata": {},
   "outputs": [],
   "source": [
    "import Bio.Entrez as ez\n",
    "\n",
    "ez.email = \"\""
   ]
  },
  {
   "cell_type": "code",
   "execution_count": 14,
   "id": "9161a80c-5bd3-4cd1-b702-24f5da8a9aa3",
   "metadata": {},
   "outputs": [
    {
     "name": "stdout",
     "output_type": "stream",
     "text": [
      "pubmed 2554\n",
      "nuccore 2760\n",
      "protein 1892\n",
      "genome 144\n",
      "structure 44\n",
      "gene 1346\n"
     ]
    }
   ],
   "source": [
    "#first search: ERBB4\n",
    "\n",
    "with ez.egquery(term = \"ERBB4\") as query1:\n",
    "    answer1 = ez.read(query1)\n",
    "\n",
    "#print(answer1['eGQueryResult'])\n",
    "\n",
    "dbs = [\"nuccore\", \"protein\", \"structure\", \"gene\", \"genome\", \"pubmed\"]\n",
    "\n",
    "for elem in answer1['eGQueryResult']:\n",
    "    if elem[\"DbName\"] in dbs:\n",
    "        print(elem[\"DbName\"], elem[\"Count\"])"
   ]
  },
  {
   "cell_type": "code",
   "execution_count": 16,
   "id": "7a139aa7-b209-4d46-884a-fe618f12dd7a",
   "metadata": {},
   "outputs": [
    {
     "name": "stdout",
     "output_type": "stream",
     "text": [
      "pubmed 127602\n",
      "nuccore 44421\n",
      "protein 23339\n",
      "genome 141\n",
      "structure 511\n",
      "gene 11040\n"
     ]
    }
   ],
   "source": [
    "#second  search: EGFR\n",
    "\n",
    "with ez.egquery(term = \"EGFR\") as query1:\n",
    "    answer1 = ez.read(query1)\n",
    "\n",
    "#print(answer1['eGQueryResult'])\n",
    "\n",
    "dbs = [\"nuccore\", \"protein\", \"structure\", \"gene\", \"genome\", \"pubmed\"]\n",
    "\n",
    "for elem in answer1['eGQueryResult']:\n",
    "    if elem[\"DbName\"] in dbs:\n",
    "        print(elem[\"DbName\"], elem[\"Count\"])"
   ]
  },
  {
   "cell_type": "code",
   "execution_count": 17,
   "id": "d08bf1da-5278-4650-8ac9-8c34b64bd04e",
   "metadata": {},
   "outputs": [
    {
     "name": "stdout",
     "output_type": "stream",
     "text": [
      "pubmed 37559\n",
      "nuccore 11647\n",
      "protein 10109\n",
      "genome 207\n",
      "structure 106\n",
      "gene 5564\n"
     ]
    }
   ],
   "source": [
    "#third search: ERBB2\n",
    "\n",
    "with ez.egquery(term = \"ERBB2\") as query1:\n",
    "    answer1 = ez.read(query1)\n",
    "\n",
    "#print(answer1['eGQueryResult'])\n",
    "\n",
    "dbs = [\"nuccore\", \"protein\", \"structure\", \"gene\", \"genome\", \"pubmed\"]\n",
    "\n",
    "for elem in answer1['eGQueryResult']:\n",
    "    if elem[\"DbName\"] in dbs:\n",
    "        print(elem[\"DbName\"], elem[\"Count\"])"
   ]
  },
  {
   "cell_type": "code",
   "execution_count": 18,
   "id": "1afa700c-010d-45c3-b0de-338df0d10418",
   "metadata": {},
   "outputs": [
    {
     "name": "stdout",
     "output_type": "stream",
     "text": [
      "pubmed 2745\n",
      "nuccore 6129\n",
      "protein 6231\n",
      "genome 135\n",
      "structure 46\n",
      "gene 1121\n"
     ]
    }
   ],
   "source": [
    "#fourth search: ERBB3\n",
    "\n",
    "with ez.egquery(term = \"ERBB3\") as query1:\n",
    "    answer1 = ez.read(query1)\n",
    "\n",
    "#print(answer1['eGQueryResult'])\n",
    "\n",
    "dbs = [\"nuccore\", \"protein\", \"structure\", \"gene\", \"genome\", \"pubmed\"]\n",
    "\n",
    "for elem in answer1['eGQueryResult']:\n",
    "    if elem[\"DbName\"] in dbs:\n",
    "        print(elem[\"DbName\"], elem[\"Count\"])"
   ]
  },
  {
   "cell_type": "code",
   "execution_count": 25,
   "id": "e611b2b3-6927-49e3-8e08-b8509c8b9e36",
   "metadata": {},
   "outputs": [
    {
     "name": "stdout",
     "output_type": "stream",
     "text": [
      "pubmed 2695\n",
      "nuccore 57719\n",
      "protein 109564\n",
      "genome 0\n",
      "structure 66\n",
      "gene 0\n"
     ]
    }
   ],
   "source": [
    "#fifth search: Rösch\n",
    "\n",
    "with ez.egquery(term = \"Rösch [author]\") as query1:\n",
    "    answer1 = ez.read(query1)\n",
    "\n",
    "#print(answer1['eGQueryResult'])\n",
    "\n",
    "dbs = [\"nuccore\", \"protein\", \"structure\", \"gene\", \"genome\", \"pubmed\"]\n",
    "\n",
    "for elem in answer1['eGQueryResult']:\n",
    "    if elem[\"DbName\"] in dbs:\n",
    "        print(elem[\"DbName\"], elem[\"Count\"])"
   ]
  },
  {
   "cell_type": "markdown",
   "id": "d7955ce9-0c11-4f17-8aef-74f801ffd976",
   "metadata": {},
   "source": [
    "## Exercise 12 - A pipeline"
   ]
  },
  {
   "cell_type": "markdown",
   "id": "0c1d74e4-e77d-48b6-a52e-c8f5b7970c2b",
   "metadata": {},
   "source": [
    "Create a Pipeline that gives you access to data from one Organism. Such a Pipeline consists of\n",
    "running a search in the Entrez System (maybe run a global one first), eventually a filtering via\n",
    "Esummary, then fetching data with Efetch and last but not least saving the data of interest in\n",
    "a new data structure. I would try to find:\n",
    "- PubMed IDs\n",
    "- Sequence data from Nucleotide\n",
    "- Sequence data from Gene\n",
    "\n",
    "Try to find at least 100 entries if available. Save all IDs in a list and create data structures that\n",
    "are able to hold the found information in a usable way. Please plan before you start\n",
    "programming, especially what kind of data structure you want to use at the end."
   ]
  },
  {
   "cell_type": "code",
   "execution_count": 1,
   "id": "17bcca63-3854-4c68-b165-13dd554514fd",
   "metadata": {},
   "outputs": [],
   "source": [
    "#import (potentially) neccessary modules\n",
    "import Bio.Entrez as ez\n",
    "import xmltodict\n",
    "from Bio import SeqIO\n",
    "\n",
    "ez.email = \"\""
   ]
  },
  {
   "cell_type": "code",
   "execution_count": 2,
   "id": "810648a4-a9fa-4cad-abdf-895afa1def22",
   "metadata": {},
   "outputs": [
    {
     "name": "stdout",
     "output_type": "stream",
     "text": [
      "pubmed 628587\n",
      "nuccore 67488\n",
      "gene 7246\n"
     ]
    }
   ],
   "source": [
    "#first search: global\n",
    "\n",
    "with ez.egquery(term =  \"kinase AND Homo sapiens [organism]\") as query1:\n",
    "    answer1 = ez.read(query1)\n",
    "\n",
    "#print(answer1['eGQueryResult'])\n",
    "\n",
    "dbs = [\"nuccore\", \"gene\", \"pubmed\"]\n",
    "\n",
    "for elem in answer1['eGQueryResult']:\n",
    "    if elem[\"DbName\"] in dbs:\n",
    "        print(elem[\"DbName\"], elem[\"Count\"])\n",
    "\n"
   ]
  },
  {
   "cell_type": "code",
   "execution_count": 3,
   "id": "8b969382-25ae-4515-a0c6-18956371aac3",
   "metadata": {},
   "outputs": [
    {
     "name": "stdout",
     "output_type": "stream",
     "text": [
      "['38497869', '38495892', '38495884', '38495876', '38494768', '38494767', '38494766', '38494765', '38494473', '38493505', '38493304', '38493215', '38493096', '38491522', '38491408', '38491315', '38489731', '38489696', '38489305', '38489072', '38489060', '38488488', '38487532', '38487529', '38486378', '38486006', '38484195', '38483999', '38483988', '38483448', '38483048', '38480587', '38480495', '38477045', '38476120', '38475971', '38474775', '38474594', '38474590', '38474476', '38474465', '38474312', '38474305', '38474223', '38474205', '38474202', '38474165', '38474118', '38473977', '38473863', '38472425', '38469143', '38468224', '38466911', '38466436', '38465731', '38465561', '38464829', '38464823', '38464510', '38461323', '38461209', '38461173', '38459564', '38459558', '38459553', '38459011', '38458783', '38458648', '38457511', '38457494', '38457493', '38457252', '38457233', '38457222', '38455651', '38455046', '38454810', '38454571', '38453961', '38453326', '38453325', '38452728', '38452312', '38451510', '38448989', '38448889', '38448006', '38448000', '38447999', '38444845', '38444749', '38444047', '38444002', '38443765', '38443456', '38443119', '38442372', '38440808', '38440738']\n",
      "\n",
      "['1890270145', '1732746245', '1701108954', '1677531612', '1653960552', '1624705783', '1552383961', '1552383850', '1543377039', '1519311789', '1494862027', '1494862004', '1494653809', '1488192503', '1488192499', '1488192495', '1488192493', '1488192488', '1488192484', '1488192481', '2463203295', '1890609182', '1890403399', '1890391216', '1791035036', '1701949936', '1701216018', '1700660535', '1677499656', '1677498973', '13439753', '13439752', '13439751', '13439750', '13439749', '13439748', '13439747', '13439746', '13439745', '13439744', '3836594', '3836534', '3836213', '3836185', '3836183', '3835911', '3835884', '3835871', '3835853', '3835725', '1036030297', '1036030291', '1036030130', '1036030128', '1036030058', '1036030057', '1036030009', '1036030004', '1036029813', '1036029792', '34528757', '34528455', '34528436', '34528435', '34528432', '34528411', '34528057', '34528048', '34528034', '34527977']\n",
      "\n",
      "['7157', '1956', '348', '7124', '7422', '3569', '7040', '4524', '3091', '2064', '2099', '3586', '351', '6774', '672', '1636', '3845', '627', '673', '4318', '7421', '1401', '367', '29126', '9370', '207', '5243', '4790', '3553', '3123', '1499', '5728', '1029', '7099', '6622', '5743', '1080', '4846', '7015', '4137', '3576', '4609', '1312', '2475', '5468', '6532', '999', '3479', '3106', '3952', '596', '675', '7852', '3458', '4780', '3717', '2944', '4193', '3605', '4313', '23411', '595', '406991', '5594', '6347', '5290', '5054', '920', '59272', '3146', '1234', '1026', '4879', '6647', '960', '332', '7097', '4851', '2146', '472', '4233', '2950', '6387', '3105', '2147', '1813', '2908', '50943', '5133', '2153', '6696', '3162', '3815', '10413', '120892', '3606', '114548', '3383', '3077', '5970']\n"
     ]
    }
   ],
   "source": [
    "#finding the pubmed ids. Since pubmed can't go beyon 9999 searches anymore I don't loop\n",
    "with ez.esearch(db = \"pubmed\", term = \"tyrosine kinase AND Homo sapiens [organism]\", retmax = 100) as query1:\n",
    "    answer1a = ez.read(query1)\n",
    "\n",
    "pubmed_ids = answer1a[\"IdList\"]\n",
    "print(pubmed_ids)\n",
    "print()\n",
    "\n",
    "#finding the nucleotide ids. since there are >60000 entries in nuclein I loop and only take 10 entries per loop\n",
    "nucleot_ids = []\n",
    "\n",
    "for repeat in range((int(answer1['eGQueryResult'][7][\"Count\"])//10000)+1):\n",
    "    with ez.esearch(db = \"nuccore\", term = \"kinase AND Homo sapiens [organism]\",retstart = 10000*repeat, retmax = 10) as query2:\n",
    "        answer2 = ez.read(query2)\n",
    "    nucleot_ids_x = answer2[\"IdList\"]\n",
    "    nucleot_ids.extend(nucleot_ids_x)\n",
    "\n",
    "print(nucleot_ids)\n",
    "print()\n",
    "\n",
    "#finding the gene ids. Since there are <10000 I don't loop\n",
    "with ez.esearch(db = \"gene\", term = \"kinase AND Homo sapiens [organism]\", retmax=100) as query3:\n",
    "    answer3 = ez.read(query3)\n",
    "\n",
    "gene_ids = answer3[\"IdList\"]\n",
    "print(gene_ids)\n"
   ]
  },
  {
   "cell_type": "code",
   "execution_count": 4,
   "id": "f5210d49-143b-4110-9f36-2bb7213e603e",
   "metadata": {},
   "outputs": [
    {
     "name": "stdout",
     "output_type": "stream",
     "text": [
      "['38497869', '38489060', '38488488', '38484195', '38483048', '38480495', '38477045', '38454810', '38454571', '38453326', '38453325', '38452312', '38444047', '38443765']\n",
      "\n",
      "['1701108954', '1552383961', '1552383850', '1519311789', '1494862027', '1494862004', '1494653809', '1488192503', '1488192499', '1488192495', '1488192493', '1488192484', '1488192481', '1677499656', '1677498973', '1036030297', '1036030058', '1036030004']\n",
      "\n",
      "['7157', '1956', '348', '7124', '7422', '3569', '7040', '4524', '3091', '2064', '2099', '3586', '351', '6774', '672', '1636', '3845', '627', '673', '4318', '7421', '1401', '367', '29126', '9370', '207', '5243', '4790', '3553', '3123', '1499', '5728', '1029', '7099', '6622', '5743', '1080', '4846']\n"
     ]
    }
   ],
   "source": [
    "#I filter my articels for publications of this year March\n",
    "pubmed_ids_filtered = []\n",
    "for ids in pubmed_ids:\n",
    "    with ez.esummary(db = \"pubmed\", id = ids) as handle:\n",
    "        record = ez.read(handle)\n",
    "    if record[0][\"PubDate\"] == \"2024 Mar\":\n",
    "        pubmed_ids_filtered.append(ids)\n",
    "\n",
    "\n",
    "print(pubmed_ids_filtered)\n",
    "print()\n",
    "\n",
    "#I filter my nucleotides for length 5000 - 10000\n",
    "nucleot_ids_filtered = []\n",
    "for ids in nucleot_ids:\n",
    "    with ez.esummary(db = \"nuccore\", id = ids) as handle:\n",
    "        record = ez.read(handle)\n",
    "    if 5000 < int(record[0][\"Length\"]) < 10000:\n",
    "        nucleot_ids_filtered.append(ids)\n",
    "\n",
    "print(nucleot_ids_filtered)\n",
    "print()\n",
    "\n",
    "#I filter my genes for GeneWeight > 200000\n",
    "gene_ids_filtered = []\n",
    "for ids in gene_ids:\n",
    "    with ez.esummary(db = \"gene\", id = ids) as handle:\n",
    "        record = ez.read(handle)\n",
    "    if int(record['DocumentSummarySet']['DocumentSummary'][0][\"GeneWeight\"]) > 200000:\n",
    "        gene_ids_filtered.append(ids)\n",
    "\n",
    "print(gene_ids_filtered)"
   ]
  },
  {
   "cell_type": "code",
   "execution_count": 93,
   "id": "92675492-757a-4307-ba69-ea750648b556",
   "metadata": {},
   "outputs": [
    {
     "ename": "HTTPError",
     "evalue": "HTTP Error 400: Bad Request",
     "output_type": "error",
     "traceback": [
      "\u001b[0;31m---------------------------------------------------------------------------\u001b[0m",
      "\u001b[0;31mHTTPError\u001b[0m                                 Traceback (most recent call last)",
      "Cell \u001b[0;32mIn[93], line 11\u001b[0m\n\u001b[1;32m      9\u001b[0m return_dict[dbs] \u001b[38;5;241m=\u001b[39m {}\n\u001b[1;32m     10\u001b[0m \u001b[38;5;28;01mfor\u001b[39;00m id1 \u001b[38;5;129;01min\u001b[39;00m databases[dbs]:\n\u001b[0;32m---> 11\u001b[0m     \u001b[38;5;28;01mwith\u001b[39;00m \u001b[43mez\u001b[49m\u001b[38;5;241;43m.\u001b[39;49m\u001b[43mefetch\u001b[49m\u001b[43m(\u001b[49m\u001b[43mdb\u001b[49m\u001b[43m \u001b[49m\u001b[38;5;241;43m=\u001b[39;49m\u001b[43m \u001b[49m\u001b[43mdbs\u001b[49m\u001b[43m,\u001b[49m\u001b[43m \u001b[49m\u001b[38;5;28;43mid\u001b[39;49m\u001b[43m \u001b[49m\u001b[38;5;241;43m=\u001b[39;49m\u001b[43m \u001b[49m\u001b[43mid1\u001b[49m\u001b[43m,\u001b[49m\u001b[43m \u001b[49m\u001b[43mretmode\u001b[49m\u001b[43m \u001b[49m\u001b[38;5;241;43m=\u001b[39;49m\u001b[43m \u001b[49m\u001b[38;5;124;43m\"\u001b[39;49m\u001b[38;5;124;43mxml\u001b[39;49m\u001b[38;5;124;43m\"\u001b[39;49m\u001b[43m)\u001b[49m \u001b[38;5;28;01mas\u001b[39;00m handle:\n\u001b[1;32m     12\u001b[0m         record1 \u001b[38;5;241m=\u001b[39m ez\u001b[38;5;241m.\u001b[39mread(handle)\n\u001b[1;32m     13\u001b[0m     return_dict[dbs][id1] \u001b[38;5;241m=\u001b[39m record1\n",
      "File \u001b[0;32m/Library/Frameworks/Python.framework/Versions/3.12/lib/python3.12/site-packages/Bio/Entrez/__init__.py:197\u001b[0m, in \u001b[0;36mefetch\u001b[0;34m(db, **keywords)\u001b[0m\n\u001b[1;32m    195\u001b[0m variables\u001b[38;5;241m.\u001b[39mupdate(keywords)\n\u001b[1;32m    196\u001b[0m request \u001b[38;5;241m=\u001b[39m _build_request(cgi, variables)\n\u001b[0;32m--> 197\u001b[0m \u001b[38;5;28;01mreturn\u001b[39;00m \u001b[43m_open\u001b[49m\u001b[43m(\u001b[49m\u001b[43mrequest\u001b[49m\u001b[43m)\u001b[49m\n",
      "File \u001b[0;32m/Library/Frameworks/Python.framework/Versions/3.12/lib/python3.12/site-packages/Bio/Entrez/__init__.py:623\u001b[0m, in \u001b[0;36m_open\u001b[0;34m(request)\u001b[0m\n\u001b[1;32m    621\u001b[0m \u001b[38;5;28;01mfor\u001b[39;00m i \u001b[38;5;129;01min\u001b[39;00m \u001b[38;5;28mrange\u001b[39m(max_tries):\n\u001b[1;32m    622\u001b[0m     \u001b[38;5;28;01mtry\u001b[39;00m:\n\u001b[0;32m--> 623\u001b[0m         handle \u001b[38;5;241m=\u001b[39m \u001b[43murlopen\u001b[49m\u001b[43m(\u001b[49m\u001b[43mrequest\u001b[49m\u001b[43m)\u001b[49m\n\u001b[1;32m    624\u001b[0m     \u001b[38;5;28;01mexcept\u001b[39;00m HTTPError \u001b[38;5;28;01mas\u001b[39;00m exception:\n\u001b[1;32m    625\u001b[0m         \u001b[38;5;66;03m# Reraise if the final try fails\u001b[39;00m\n\u001b[1;32m    626\u001b[0m         \u001b[38;5;28;01mif\u001b[39;00m i \u001b[38;5;241m>\u001b[39m\u001b[38;5;241m=\u001b[39m max_tries \u001b[38;5;241m-\u001b[39m \u001b[38;5;241m1\u001b[39m:\n",
      "File \u001b[0;32m/Library/Frameworks/Python.framework/Versions/3.12/lib/python3.12/urllib/request.py:215\u001b[0m, in \u001b[0;36murlopen\u001b[0;34m(url, data, timeout, cafile, capath, cadefault, context)\u001b[0m\n\u001b[1;32m    213\u001b[0m \u001b[38;5;28;01melse\u001b[39;00m:\n\u001b[1;32m    214\u001b[0m     opener \u001b[38;5;241m=\u001b[39m _opener\n\u001b[0;32m--> 215\u001b[0m \u001b[38;5;28;01mreturn\u001b[39;00m \u001b[43mopener\u001b[49m\u001b[38;5;241;43m.\u001b[39;49m\u001b[43mopen\u001b[49m\u001b[43m(\u001b[49m\u001b[43murl\u001b[49m\u001b[43m,\u001b[49m\u001b[43m \u001b[49m\u001b[43mdata\u001b[49m\u001b[43m,\u001b[49m\u001b[43m \u001b[49m\u001b[43mtimeout\u001b[49m\u001b[43m)\u001b[49m\n",
      "File \u001b[0;32m/Library/Frameworks/Python.framework/Versions/3.12/lib/python3.12/urllib/request.py:521\u001b[0m, in \u001b[0;36mOpenerDirector.open\u001b[0;34m(self, fullurl, data, timeout)\u001b[0m\n\u001b[1;32m    519\u001b[0m \u001b[38;5;28;01mfor\u001b[39;00m processor \u001b[38;5;129;01min\u001b[39;00m \u001b[38;5;28mself\u001b[39m\u001b[38;5;241m.\u001b[39mprocess_response\u001b[38;5;241m.\u001b[39mget(protocol, []):\n\u001b[1;32m    520\u001b[0m     meth \u001b[38;5;241m=\u001b[39m \u001b[38;5;28mgetattr\u001b[39m(processor, meth_name)\n\u001b[0;32m--> 521\u001b[0m     response \u001b[38;5;241m=\u001b[39m \u001b[43mmeth\u001b[49m\u001b[43m(\u001b[49m\u001b[43mreq\u001b[49m\u001b[43m,\u001b[49m\u001b[43m \u001b[49m\u001b[43mresponse\u001b[49m\u001b[43m)\u001b[49m\n\u001b[1;32m    523\u001b[0m \u001b[38;5;28;01mreturn\u001b[39;00m response\n",
      "File \u001b[0;32m/Library/Frameworks/Python.framework/Versions/3.12/lib/python3.12/urllib/request.py:630\u001b[0m, in \u001b[0;36mHTTPErrorProcessor.http_response\u001b[0;34m(self, request, response)\u001b[0m\n\u001b[1;32m    627\u001b[0m \u001b[38;5;66;03m# According to RFC 2616, \"2xx\" code indicates that the client's\u001b[39;00m\n\u001b[1;32m    628\u001b[0m \u001b[38;5;66;03m# request was successfully received, understood, and accepted.\u001b[39;00m\n\u001b[1;32m    629\u001b[0m \u001b[38;5;28;01mif\u001b[39;00m \u001b[38;5;129;01mnot\u001b[39;00m (\u001b[38;5;241m200\u001b[39m \u001b[38;5;241m<\u001b[39m\u001b[38;5;241m=\u001b[39m code \u001b[38;5;241m<\u001b[39m \u001b[38;5;241m300\u001b[39m):\n\u001b[0;32m--> 630\u001b[0m     response \u001b[38;5;241m=\u001b[39m \u001b[38;5;28;43mself\u001b[39;49m\u001b[38;5;241;43m.\u001b[39;49m\u001b[43mparent\u001b[49m\u001b[38;5;241;43m.\u001b[39;49m\u001b[43merror\u001b[49m\u001b[43m(\u001b[49m\n\u001b[1;32m    631\u001b[0m \u001b[43m        \u001b[49m\u001b[38;5;124;43m'\u001b[39;49m\u001b[38;5;124;43mhttp\u001b[39;49m\u001b[38;5;124;43m'\u001b[39;49m\u001b[43m,\u001b[49m\u001b[43m \u001b[49m\u001b[43mrequest\u001b[49m\u001b[43m,\u001b[49m\u001b[43m \u001b[49m\u001b[43mresponse\u001b[49m\u001b[43m,\u001b[49m\u001b[43m \u001b[49m\u001b[43mcode\u001b[49m\u001b[43m,\u001b[49m\u001b[43m \u001b[49m\u001b[43mmsg\u001b[49m\u001b[43m,\u001b[49m\u001b[43m \u001b[49m\u001b[43mhdrs\u001b[49m\u001b[43m)\u001b[49m\n\u001b[1;32m    633\u001b[0m \u001b[38;5;28;01mreturn\u001b[39;00m response\n",
      "File \u001b[0;32m/Library/Frameworks/Python.framework/Versions/3.12/lib/python3.12/urllib/request.py:559\u001b[0m, in \u001b[0;36mOpenerDirector.error\u001b[0;34m(self, proto, *args)\u001b[0m\n\u001b[1;32m    557\u001b[0m \u001b[38;5;28;01mif\u001b[39;00m http_err:\n\u001b[1;32m    558\u001b[0m     args \u001b[38;5;241m=\u001b[39m (\u001b[38;5;28mdict\u001b[39m, \u001b[38;5;124m'\u001b[39m\u001b[38;5;124mdefault\u001b[39m\u001b[38;5;124m'\u001b[39m, \u001b[38;5;124m'\u001b[39m\u001b[38;5;124mhttp_error_default\u001b[39m\u001b[38;5;124m'\u001b[39m) \u001b[38;5;241m+\u001b[39m orig_args\n\u001b[0;32m--> 559\u001b[0m     \u001b[38;5;28;01mreturn\u001b[39;00m \u001b[38;5;28;43mself\u001b[39;49m\u001b[38;5;241;43m.\u001b[39;49m\u001b[43m_call_chain\u001b[49m\u001b[43m(\u001b[49m\u001b[38;5;241;43m*\u001b[39;49m\u001b[43margs\u001b[49m\u001b[43m)\u001b[49m\n",
      "File \u001b[0;32m/Library/Frameworks/Python.framework/Versions/3.12/lib/python3.12/urllib/request.py:492\u001b[0m, in \u001b[0;36mOpenerDirector._call_chain\u001b[0;34m(self, chain, kind, meth_name, *args)\u001b[0m\n\u001b[1;32m    490\u001b[0m \u001b[38;5;28;01mfor\u001b[39;00m handler \u001b[38;5;129;01min\u001b[39;00m handlers:\n\u001b[1;32m    491\u001b[0m     func \u001b[38;5;241m=\u001b[39m \u001b[38;5;28mgetattr\u001b[39m(handler, meth_name)\n\u001b[0;32m--> 492\u001b[0m     result \u001b[38;5;241m=\u001b[39m \u001b[43mfunc\u001b[49m\u001b[43m(\u001b[49m\u001b[38;5;241;43m*\u001b[39;49m\u001b[43margs\u001b[49m\u001b[43m)\u001b[49m\n\u001b[1;32m    493\u001b[0m     \u001b[38;5;28;01mif\u001b[39;00m result \u001b[38;5;129;01mis\u001b[39;00m \u001b[38;5;129;01mnot\u001b[39;00m \u001b[38;5;28;01mNone\u001b[39;00m:\n\u001b[1;32m    494\u001b[0m         \u001b[38;5;28;01mreturn\u001b[39;00m result\n",
      "File \u001b[0;32m/Library/Frameworks/Python.framework/Versions/3.12/lib/python3.12/urllib/request.py:639\u001b[0m, in \u001b[0;36mHTTPDefaultErrorHandler.http_error_default\u001b[0;34m(self, req, fp, code, msg, hdrs)\u001b[0m\n\u001b[1;32m    638\u001b[0m \u001b[38;5;28;01mdef\u001b[39;00m \u001b[38;5;21mhttp_error_default\u001b[39m(\u001b[38;5;28mself\u001b[39m, req, fp, code, msg, hdrs):\n\u001b[0;32m--> 639\u001b[0m     \u001b[38;5;28;01mraise\u001b[39;00m HTTPError(req\u001b[38;5;241m.\u001b[39mfull_url, code, msg, hdrs, fp)\n",
      "\u001b[0;31mHTTPError\u001b[0m: HTTP Error 400: Bad Request"
     ]
    }
   ],
   "source": [
    "# fetch the data\n",
    "#put everything into one big dictionary for now\n",
    "\n",
    "\n",
    "databases = {\"pubmed\":pubmed_ids_filtered,\"nuccore\":nucleot_ids_filtered,\"gene\":gene_ids_filtered}\n",
    "return_dict = {}\n",
    "\n",
    "for dbs in databases:\n",
    "    return_dict[dbs] = {}\n",
    "    for id1 in databases[dbs]:\n",
    "        with ez.efetch(db = dbs, id = id1, retmode = \"xml\") as handle:\n",
    "            record1 = ez.read(handle)\n",
    "        return_dict[dbs][id1] = record1"
   ]
  },
  {
   "cell_type": "code",
   "execution_count": null,
   "id": "7c3e7f32-3296-4e22-a94c-e25cda72aaba",
   "metadata": {},
   "outputs": [],
   "source": [
    "#############################################"
   ]
  },
  {
   "cell_type": "code",
   "execution_count": 94,
   "id": "e412fad6-f4c7-4c51-bf7f-acabdbe605f4",
   "metadata": {},
   "outputs": [
    {
     "name": "stdout",
     "output_type": "stream",
     "text": [
      "dict_keys(['pubmed', 'nuccore', 'gene'])\n"
     ]
    }
   ],
   "source": [
    "print(return_dict.keys())"
   ]
  },
  {
   "cell_type": "code",
   "execution_count": 97,
   "id": "fd47f0f5-02b7-4e76-99c7-30365a3f2cfb",
   "metadata": {},
   "outputs": [
    {
     "name": "stdout",
     "output_type": "stream",
     "text": [
      "38\n",
      "7\n"
     ]
    }
   ],
   "source": [
    "print(len(gene_ids_filtered))\n",
    "print(len(return_dict['gene']))"
   ]
  },
  {
   "cell_type": "code",
   "execution_count": 101,
   "id": "d6939030-b23c-45b9-8ec6-a2494cfde65f",
   "metadata": {},
   "outputs": [
    {
     "name": "stderr",
     "output_type": "stream",
     "text": [
      "IOPub data rate exceeded.\n",
      "The Jupyter server will temporarily stop sending output\n",
      "to the client in order to avoid crashing it.\n",
      "To change this limit, set the config variable\n",
      "`--ServerApp.iopub_data_rate_limit`.\n",
      "\n",
      "Current values:\n",
      "ServerApp.iopub_data_rate_limit=1000000.0 (bytes/sec)\n",
      "ServerApp.rate_limit_window=3.0 (secs)\n",
      "\n"
     ]
    }
   ],
   "source": [
    "with ez.efetch(db = \"gene\", id = gene_ids_filtered[5], retmode = \"xml\") as handle:\n",
    "    record1 = ez.read(handle)\n",
    "print(record1)"
   ]
  },
  {
   "cell_type": "code",
   "execution_count": 89,
   "id": "8c27feeb-5246-4f09-ac1e-6ff2369d362a",
   "metadata": {},
   "outputs": [
    {
     "name": "stdout",
     "output_type": "stream",
     "text": [
      "100\n",
      "14\n"
     ]
    }
   ],
   "source": [
    "print(len(pubmed_ids))\n",
    "print(len(pubmed_ids_filtered))"
   ]
  },
  {
   "cell_type": "code",
   "execution_count": null,
   "id": "1320b435-aa81-44aa-8eba-b653798c604e",
   "metadata": {},
   "outputs": [],
   "source": []
  }
 ],
 "metadata": {
  "kernelspec": {
   "display_name": "Python 3 (ipykernel)",
   "language": "python",
   "name": "python3"
  },
  "language_info": {
   "codemirror_mode": {
    "name": "ipython",
    "version": 3
   },
   "file_extension": ".py",
   "mimetype": "text/x-python",
   "name": "python",
   "nbconvert_exporter": "python",
   "pygments_lexer": "ipython3",
   "version": "3.12.2"
  }
 },
 "nbformat": 4,
 "nbformat_minor": 5
}
