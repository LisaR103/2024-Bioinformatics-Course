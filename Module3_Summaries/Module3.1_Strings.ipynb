{
 "cells": [
  {
   "cell_type": "markdown",
   "id": "362e4a67-2a98-4b6c-aed8-8562360ce2f1",
   "metadata": {},
   "source": [
    "# Strings\n",
    "\n",
    "## Table of content\n",
    "\n",
    "1. [Strings](#Strings)\n",
    "   1. [Table of content](#Table-of-content)\n",
    "2. [Definitions](#Defintions)\n",
    "   1. [Position Si](#Position-Si)\n",
    "      1. [repr](#repr)\n",
    "   2. [Substring Sij](#Substring-Sij)\n",
    "   3. [Length N](#Length-N)\n",
    "3. [String Methods](#String-Methods)\n",
    "   1. [split](#split)\n",
    "   2. [find](#find)\n",
    "   3. [in](#in)\n",
    "4. [The module re](#The-module-re)\n",
    "   1. [split](#split)\n",
    "   2. [wildcard in re](#wildcard-in-re)\n",
    "   3. [finditer](#finditer)\n",
    "   4. [findall](#findall)\n",
    "5. [Modifying strings](#Modifying-strings)\n",
    "   1. [upper and lower](#upper-and-lower)\n",
    "   2. [strip](#strip)\n",
    "   3. [replace](#replace)\n",
    "   4. [Concatenating strings](#Concatenating-strings)\n",
    "6. [Working with files](#Working-with-files)\n",
    "   1. [open](#open)\n",
    "   2. [write](#write)\n",
    "   3. [saving](#saving)\n",
    "11. [Exercises](#Exercises)\n",
    "    1. [Exercise 1 - Simple Strings](#Exercise-1---Simple-Strings)\n",
    "    2. [Exercise 2 - String methods](#Exercise-2---String-Methods)\n",
    "    3. [Exercise 3 - Working with Strings](#Exercise-3---Working-with-strings)\n",
    "    4. [Exercise 4 - A bot more about Strings](#Exercise-4---A-bit-more-about-Strings)\n",
    "12. [Extras](#Extras)\n",
    "    1. [Accessing the letters of the alphabet](#Accessing-the-letters-of-the-alphabet)"
   ]
  },
  {
   "cell_type": "markdown",
   "id": "897524a7-5e05-46e3-93e8-1e749219f83b",
   "metadata": {},
   "source": [
    "# Definitions\n",
    "\n",
    "- Alphabets are the collection of symbols or letters that can make up the string\n",
    "  - Σdna = {A,G,C,T} ; for nucleotides\n",
    "  - Σamino = {A,C,D,E,F,G,H,I,K,L,M,N,P,Q,R,S,T,V,W,Y}; for amino acids\n",
    "- Each **Element E** of an alphabet is named symbol or letter\n",
    "- **String S** is a juxtaposition of symbols or letters from the alphabet Sigma\n",
    "  - S = (ΣE) (An order of symbols is defined)\n",
    "  - E.g: S = „ATGGAATGCTAATAG“\n",
    "- **Position Si** is the letter E on position i in the string (starts at position 0!)\n",
    "- **Substring Sij** are the letters from position Si to Sj excluding the latter\n",
    "- **Length N** of a string is the number of letters in it\n",
    "- **Split Spliti** is the splitting of a string in two substrings at position i. Two new strings S0i and SiN are created\n",
    "- **Split SplitDelimitor** is the splitting of a string in multiple substrings divided at the delimitor (which can be anything, but examples could be a space, a tab, a comma etc.). The number of substrings is equal to the number of occurrences of the delimitor +1\n",
    "- **Prefix n** is a substring of the string S which contains the first n letters of S\n",
    "- **Suffix n** is a substring of the string S which contains the last n letters of S\n",
    "\n",
    "## Position Si\n",
    "\n",
    "We can access individual letters/symbols of a string similar to accessing elements of a list. \n",
    "\n",
    "- Indexing starts at 0\n",
    "- Negative indices access the string from the back\n",
    "- It is only possible to access elements that exist, otherwise there is an out of range error.\n",
    "- linebreaks (`\\n`, `\\t` etc.) which need an escape character are considered *one character*\n",
    "\n",
    "```\n",
    "S = \"Examplestring\"\n",
    "S[0] = \"E\"\n",
    "S[1] = \"x\"\n",
    "S[-1] = \"g\"\n",
    "S[20] = ERROR\n",
    "```\n",
    "\n",
    "\n"
   ]
  },
  {
   "cell_type": "code",
   "execution_count": 8,
   "id": "94578d29-9a7c-4be7-b4bd-2ff76ef97838",
   "metadata": {},
   "outputs": [
    {
     "name": "stdout",
     "output_type": "stream",
     "text": [
      "E\n",
      "x\n",
      "g\n"
     ]
    },
    {
     "ename": "IndexError",
     "evalue": "string index out of range",
     "output_type": "error",
     "traceback": [
      "\u001b[0;31m---------------------------------------------------------------------------\u001b[0m",
      "\u001b[0;31mIndexError\u001b[0m                                Traceback (most recent call last)",
      "Cell \u001b[0;32mIn[8], line 5\u001b[0m\n\u001b[1;32m      3\u001b[0m \u001b[38;5;28mprint\u001b[39m(S[\u001b[38;5;241m1\u001b[39m])\n\u001b[1;32m      4\u001b[0m \u001b[38;5;28mprint\u001b[39m(S[\u001b[38;5;241m-\u001b[39m\u001b[38;5;241m1\u001b[39m])\n\u001b[0;32m----> 5\u001b[0m \u001b[38;5;28mprint\u001b[39m(\u001b[43mS\u001b[49m\u001b[43m[\u001b[49m\u001b[38;5;241;43m15\u001b[39;49m\u001b[43m]\u001b[49m)\n",
      "\u001b[0;31mIndexError\u001b[0m: string index out of range"
     ]
    }
   ],
   "source": [
    "S = \"Examplestring\"\n",
    "print(S[0])\n",
    "print(S[1])\n",
    "print(S[-1])\n",
    "print(S[15])"
   ]
  },
  {
   "cell_type": "markdown",
   "id": "de632e08-3088-4c90-9614-fcf4d2fb4d83",
   "metadata": {},
   "source": [
    "### repr\n",
    "\n",
    "If we access a character that is represented by nothing (e.g. space, tab, linebreak) this shows in print like we didn't access anything. Using `repr`inside `print` allows us to see them better by adding `''`."
   ]
  },
  {
   "cell_type": "code",
   "execution_count": 3,
   "id": "57ac9d19-3d4d-49ad-bd3c-b8dff51b6398",
   "metadata": {},
   "outputs": [
    {
     "name": "stdout",
     "output_type": "stream",
     "text": [
      " \n",
      "' '\n"
     ]
    }
   ],
   "source": [
    "S = \"Example string\"\n",
    "print(S[7])\n",
    "print(repr(S[7]))"
   ]
  },
  {
   "cell_type": "code",
   "execution_count": 7,
   "id": "1c0fbe23-018d-4139-893f-1958790b3cdd",
   "metadata": {},
   "outputs": [
    {
     "name": "stdout",
     "output_type": "stream",
     "text": [
      "####\n",
      "Example\n",
      "string\n",
      "####\n",
      "'Example\\nstring'\n",
      "####\n",
      "\n",
      "\n",
      "####\n",
      "'\\n'\n",
      "####\n"
     ]
    }
   ],
   "source": [
    "S = \"Example\\nstring\"\n",
    "\n",
    "print(\"####\")\n",
    "print(S)\n",
    "\n",
    "print(\"####\")\n",
    "print(repr(S))\n",
    "\n",
    "print(\"####\")\n",
    "print(S[7])\n",
    "\n",
    "print(\"####\")\n",
    "print(repr(S[7]))\n",
    "\n",
    "print(\"####\")"
   ]
  },
  {
   "cell_type": "markdown",
   "id": "4a9f62c2-9da4-4732-bedc-e095794cc582",
   "metadata": {},
   "source": [
    "## Substring Sij\n",
    "\n",
    "To generate a substring the string is spliced. FOllows the splicing rules of lists\n",
    "\n",
    "- start index i is included\n",
    "- end index j is excluded\n",
    "- j can be higher than the length of the string, it then just goes to the last letter/symbol\n",
    "- the first or last may be left empty if we want everything from the start/till the end\n",
    "\n",
    "```\n",
    "S = \"Examplestring\"\n",
    "S[i:j]\n",
    "\n",
    "S[2:5] = \"amp\"\n",
    "S[:5] = S[0:5] = \"Examp\"\n",
    "S[5:] = S[5:12] = \"lestring\"\n",
    "```\n",
    "\n",
    "\n"
   ]
  },
  {
   "cell_type": "code",
   "execution_count": 9,
   "id": "acf5a11c-c202-4ebf-a350-9e3e0848d1df",
   "metadata": {},
   "outputs": [
    {
     "name": "stdout",
     "output_type": "stream",
     "text": [
      "amp\n",
      "Examp\n",
      "lestring\n"
     ]
    }
   ],
   "source": [
    "S = \"Examplestring\"\n",
    "print(S[2:5])\n",
    "print(S[:5])\n",
    "print(S[5:])\n",
    "print(S[5:50])"
   ]
  },
  {
   "cell_type": "markdown",
   "id": "e229a597-1f64-4ab9-969a-16ceb2ad526e",
   "metadata": {},
   "source": [
    "## Length N\n",
    "\n",
    "`len(S)` counts the number of symbols \n",
    "\n",
    "- including spaces, commas, linebreaks etc.\n",
    "- `\\n` etc. count as *one character*"
   ]
  },
  {
   "cell_type": "code",
   "execution_count": 12,
   "id": "bc8ad90e-d3c3-40cd-96e9-81a8e465ff88",
   "metadata": {},
   "outputs": [
    {
     "name": "stdout",
     "output_type": "stream",
     "text": [
      "S has length 13 and S2 and S3 have length 14 and 14\n"
     ]
    }
   ],
   "source": [
    "S = \"Examplestring\"\n",
    "S2 = \"Example string\"\n",
    "S3 = \"Example\\nstring\"\n",
    "\n",
    "print(f\"S has length {len(S)} and S2 and S3 have length {len(S2)} and {len(S3)}\")"
   ]
  },
  {
   "cell_type": "markdown",
   "id": "67bd427a-fb09-4cb7-bb98-458f3a318fbb",
   "metadata": {},
   "source": [
    "# String methods\n",
    "\n",
    "## split\n",
    "\n",
    "This splits a string at the occurence of a specific symbol/letter, which is a built in string method. \n",
    "\n",
    "- It will result in a list with the substrings\n",
    "- default is space as delimitor\n",
    "- otherwise the delimitor can be specified as an argument (can be anything even several letters)\n",
    "- the delimitor is *removed* from the list and is lost!\n",
    "- If the delimitor is not encouteres split returns the entire string in a list of ine element\n",
    "\n",
    "Syntax:\n",
    "\n",
    "```\n",
    "string.split()\n",
    "\n",
    "#to use , as delimitor:\n",
    "string.split(\",\")\n",
    "```"
   ]
  },
  {
   "cell_type": "code",
   "execution_count": 26,
   "id": "21635318-427c-43ad-80b3-c57fca492a4f",
   "metadata": {},
   "outputs": [
    {
     "name": "stdout",
     "output_type": "stream",
     "text": [
      "['This', 'is', 'an', 'exmample']\n"
     ]
    }
   ],
   "source": [
    "S = \"This is an example\"\n",
    "split_list = S.split()\n",
    "print(split_list)"
   ]
  },
  {
   "cell_type": "code",
   "execution_count": 30,
   "id": "0f7592f7-f46d-44dd-be2a-6aad4558233b",
   "metadata": {},
   "outputs": [
    {
     "name": "stdout",
     "output_type": "stream",
     "text": [
      "['This is an example', ' so we need to make a bigger sentence']\n"
     ]
    }
   ],
   "source": [
    "S = \"This is an example, so we need to make a bigger sentence\"\n",
    "split_list = S.split(\",\")\n",
    "print(split_list)"
   ]
  },
  {
   "cell_type": "markdown",
   "id": "e4c14408-48cf-4699-8161-8f13235093cc",
   "metadata": {},
   "source": [
    "## find\n",
    "\n",
    "The string method `find` allows us to search for substrings.\n",
    "\n",
    "- it returns the start index of the *first* occurence of the search term\n",
    "- case sensitivity applies\n",
    "- if the search term is not present find returns -1\n",
    "\n",
    "Syntax\n",
    "\n",
    "```\n",
    "string.find(\"term\")\n",
    "```\n",
    "\n",
    "\n"
   ]
  },
  {
   "cell_type": "code",
   "execution_count": 32,
   "id": "9f382e17-d6fe-4834-b944-9880a6baff06",
   "metadata": {},
   "outputs": [
    {
     "name": "stdout",
     "output_type": "stream",
     "text": [
      "2\n",
      "-1\n"
     ]
    }
   ],
   "source": [
    "S = \"This is an example\"\n",
    "idx = S.find(\"is\")\n",
    "print(idx)\n",
    "\n",
    "idx2 = S.find(\"IS\")\n",
    "print(idx2)"
   ]
  },
  {
   "cell_type": "markdown",
   "id": "0648fc9e-21cd-44ba-acac-b52613595a2a",
   "metadata": {},
   "source": [
    "## in\n",
    "\n",
    "If we just want to know if a substring is present and don't care *where* it percisely is we can use `in` \n",
    "\n",
    "- it returns `True` or `False`\n",
    "\n",
    "Examples:\n",
    "\n",
    "    print(\"term\" in string)\n",
    "    \n",
    "    if \"term\" in string:\n",
    "        do something"
   ]
  },
  {
   "cell_type": "code",
   "execution_count": 33,
   "id": "b07c13d5-63a0-4e1b-86bf-98f0e26f788f",
   "metadata": {},
   "outputs": [
    {
     "name": "stdout",
     "output_type": "stream",
     "text": [
      "True\n",
      "Yeah\n"
     ]
    }
   ],
   "source": [
    "S = \"This is an example\"\n",
    "print(\"is\" in S)\n",
    "\n",
    "if \"is\" in S:\n",
    "    print(\"Yeah\")"
   ]
  },
  {
   "cell_type": "markdown",
   "id": "bbb6a2a0-3dd3-4441-bdf6-319182db5976",
   "metadata": {},
   "source": [
    "# The module re\n",
    "\n",
    "This module contains functions for regular expression operations. It is part of the standard python libraries.\n",
    "\n",
    "- contains a lot of useful methods\n",
    "- we will discuss only 3, but there are many more\n",
    "- we use the functions with the point notation\n",
    "\n",
    "import Syntax:\n",
    "\n",
    "    import re\n",
    "\n",
    "## split\n",
    "\n",
    "similar to the built in `split`\n",
    "\n",
    "- several delimitors allowed, separated by pipes `|`\n",
    "- two arguments\n",
    "  - the delimitor(s)\n",
    "  - the string\n",
    "- Returns a list with the substrings\n",
    "  - if the string starts with a delimitor the first element of the result list is an empty string\n",
    "  - if two delimitors follow each other this is also represented by an emtpy string\n",
    "  - otherwise the delimitor is simply deleted like the behaviour of built-in `split`\n",
    "  - The reason for this:\n",
    "    - `split` opens a substring, which is closed when it comes across a delimitor.\n",
    "    - If the first symbol is a delimitor the substring is closed immediately after being opened and is emtpy.\n",
    "    - Same if two delimitor follow each other: An emtpy string is produced\n",
    "    - while built in `split` ignores these emtpy strings `re.split` will include them.\n",
    "    - to exclude the empty strings see example below\n",
    "\n",
    "Syntax:\n",
    "\n",
    "    re.split(\"delimitor1|delimitor2\", string)"
   ]
  },
  {
   "cell_type": "code",
   "execution_count": 59,
   "id": "534ef1fa-8df4-4ada-a9d5-fd9e64d52beb",
   "metadata": {},
   "outputs": [
    {
     "name": "stdout",
     "output_type": "stream",
     "text": [
      "['', 'This is', ' a long', ' sentence', ' with weird punctuation', '', '!']\n",
      "['This is', ' a long', ' sentence', ' with weird punctuation', '!']\n"
     ]
    }
   ],
   "source": [
    "import re\n",
    "\n",
    "S = \",This is, a long, sentence; with weird punctuation,;!\"\n",
    "S_split0 = re.split(\",|;\",S)\n",
    "\n",
    "print(S_split0)\n",
    "\n",
    "#To exclude the emtpy string:\n",
    "S_split = [elem for elem in S_split0 if len(elem)>0]\n",
    "print(S_split)"
   ]
  },
  {
   "cell_type": "markdown",
   "id": "355312b0-3091-4c5a-889f-85596cba734e",
   "metadata": {},
   "source": [
    "## wildcard in re\n",
    "\n",
    "There is a single wildcard in re: `.`\n",
    "\n",
    "- if `.` is to be used as a delimitor it needs to be combined with an escape character: `\\.`\n",
    "  - since Python expects certain symbols after `\\` and `.` is not one of them this produces a syntax warning, altough it still works\n",
    "  - the correct syntax would then be `\\\\.`\n",
    "- `.` stands for exactly one character"
   ]
  },
  {
   "cell_type": "code",
   "execution_count": 67,
   "id": "e7db0357-0ea2-4f48-b668-7fde4f00540d",
   "metadata": {},
   "outputs": [
    {
     "name": "stdout",
     "output_type": "stream",
     "text": [
      "['This is an example of two senteces', ' So I need a second sentence', '']\n"
     ]
    },
    {
     "name": "stderr",
     "output_type": "stream",
     "text": [
      "<>:4: SyntaxWarning: invalid escape sequence '\\.'\n",
      "<>:4: SyntaxWarning: invalid escape sequence '\\.'\n",
      "/var/folders/pq/1h0dzqv16j58hqpqtlb29y280000gn/T/ipykernel_12918/1674944002.py:4: SyntaxWarning: invalid escape sequence '\\.'\n",
      "  print(re.split(\"\\.\",S))\n"
     ]
    }
   ],
   "source": [
    "import re\n",
    "\n",
    "S = \"This is an example of two senteces. So I need a second sentence.\"\n",
    "print(re.split(\"\\.\",S))"
   ]
  },
  {
   "cell_type": "code",
   "execution_count": 66,
   "id": "0d62bbdf-8627-402b-80cb-159aa34787f4",
   "metadata": {},
   "outputs": [
    {
     "name": "stdout",
     "output_type": "stream",
     "text": [
      "['This is an example of two senteces', ' So I need a second sentence', '']\n"
     ]
    }
   ],
   "source": [
    "import re\n",
    "\n",
    "S = \"This is an example of two senteces. So I need a second sentence.\"\n",
    "print(re.split(\"\\\\.\",S))"
   ]
  },
  {
   "cell_type": "markdown",
   "id": "0ca03a20-1f13-4b69-8d07-b8d7f3426fe0",
   "metadata": {},
   "source": [
    "## finditer\n",
    "\n",
    "finds the start index od *all* occurences of a search term\n",
    "\n",
    "finditer returns a generator which makes usage a bit complicated to get to the indices\n",
    "\n",
    "Syntax using a list comprehension:\n",
    "\n",
    "    idcs = [m.start() for m in re.finditer(\"a\",S3)]\n",
    "\n",
    "Explanation:\n",
    "\n",
    "- `finditer` uses two arguments: the search term and the string. \n",
    "- It produce an iterator which contains the match objects (= the found instances)\n",
    "- by looping over this iterator we can look at the match objects\n",
    "- An easy way o get to the start indices:\n",
    "  - these match objects have a method `start` which we can call by point notation and which contains the indices\n",
    "  - by looping over the the match objects we can save the indices in a list\n",
    "  - similarly there is a method called `end` which tells us where the string ends"
   ]
  },
  {
   "cell_type": "code",
   "execution_count": 90,
   "id": "9d867829-7e90-466a-8858-bdc621fe961d",
   "metadata": {},
   "outputs": [
    {
     "name": "stdout",
     "output_type": "stream",
     "text": [
      "[18, 35, 55]\n"
     ]
    }
   ],
   "source": [
    "S = \"This is an example, of two senteces, So I need a second, sentence.\"\n",
    "\n",
    "idcs = [m.start() for m in re.finditer(\",\",S)]\n",
    "print(idcs)"
   ]
  },
  {
   "cell_type": "code",
   "execution_count": 91,
   "id": "0ddd4c3b-0849-4b0f-b539-32a851f08ac7",
   "metadata": {},
   "outputs": [
    {
     "name": "stdout",
     "output_type": "stream",
     "text": [
      "<re.Match object; span=(18, 19), match=','>\n",
      "18\n",
      "19\n",
      "<re.Match object; span=(35, 36), match=','>\n",
      "35\n",
      "36\n",
      "<re.Match object; span=(55, 56), match=','>\n",
      "55\n",
      "56\n"
     ]
    }
   ],
   "source": [
    "# accessing the match objects\n",
    "test1 = re.finditer(\",\",S)\n",
    "\n",
    "for m in test1:\n",
    "    print(m)\n",
    "    print(m.start())\n",
    "    print(m.end())\n",
    "    #print(dir(m))"
   ]
  },
  {
   "cell_type": "markdown",
   "id": "b2b5b37c-09ab-4d29-b49e-26b950db5e6d",
   "metadata": {},
   "source": [
    "## findall\n",
    "\n",
    "To see how *how often* my substring occurs without caring where they occur `findall` is a good option\n",
    "\n",
    "- findall will return a list with the occurences (which all look the same)\n",
    "- the length of that list is the number of occurences\n",
    "\n",
    "Syntax:\n",
    "\n",
    "    Sf = re.findall(\"term\",string)\n",
    "    len(Sf)"
   ]
  },
  {
   "cell_type": "code",
   "execution_count": 92,
   "id": "34fb92e2-99db-41da-bc32-09f719ac3326",
   "metadata": {},
   "outputs": [
    {
     "name": "stdout",
     "output_type": "stream",
     "text": [
      "['l', 'l', 'l', 'l']\n",
      "4\n"
     ]
    }
   ],
   "source": [
    "S = \"Hello, This is a long example\"\n",
    "Sf = re.findall(\"l\",S)\n",
    "print(Sf)\n",
    "print(len(Sf))"
   ]
  },
  {
   "cell_type": "markdown",
   "id": "d9ad877e-4a7a-45f4-bedd-851c26f04e0d",
   "metadata": {},
   "source": [
    "# Modifying strings\n",
    "\n",
    "sometimes we need to make changes to the strings, e.g. set sequence data to all uppercase or all lowercase so case sensitivity doesn't mess things up\n",
    "\n",
    "## upper and lower\n",
    "\n",
    "upper and lower are a built in string methods which turns a string into all uppercase(all lowercase\n",
    "\n",
    "- we assign a new variable\n",
    "- S in itself remains unchanged, unless I reassign it onto itself!\n",
    "- upper and lower do not work inplace\n",
    "\n",
    "```\n",
    "S = \"This is a string\"\n",
    "S_upper = S.upper()\n",
    "S_lower = S.lower()\n",
    "```\n",
    "\n"
   ]
  },
  {
   "cell_type": "code",
   "execution_count": 119,
   "id": "de97f24a-1c8c-48ce-a52b-7408f238eede",
   "metadata": {},
   "outputs": [
    {
     "name": "stdout",
     "output_type": "stream",
     "text": [
      "This is a string\n",
      "THIS IS A STRING\n",
      "this is a string\n"
     ]
    }
   ],
   "source": [
    "S = \"This is a string\"\n",
    "S_upper = S.upper()\n",
    "S_lower = S.lower()\n",
    "\n",
    "print(S)\n",
    "print(S_upper)\n",
    "print(S_lower)"
   ]
  },
  {
   "cell_type": "markdown",
   "id": "2cd9592f-e487-4491-b637-0f2f55f7cdc7",
   "metadata": {},
   "source": [
    "## strip\n",
    "\n",
    "strip removes whitespaces at the beginning or end of the string\n",
    "\n",
    "- like upper and lower we need to assign a new variable\n",
    "- doesn't change the originial string, unless I reassign it into itself\n",
    "\n",
    "Syntax:\n",
    "\n",
    "```\n",
    "S = \" This is a string\"\n",
    "S1 = S.strip()\n",
    "```\n"
   ]
  },
  {
   "cell_type": "code",
   "execution_count": 120,
   "id": "a39aab49-259e-41cd-a46b-0440d847359c",
   "metadata": {},
   "outputs": [
    {
     "name": "stdout",
     "output_type": "stream",
     "text": [
      "' This is a string'\n",
      "'This is a string'\n"
     ]
    }
   ],
   "source": [
    "S = \" This is a string\"\n",
    "S1 = S.strip()\n",
    "print(repr(S))\n",
    "print(repr(S1))"
   ]
  },
  {
   "cell_type": "markdown",
   "id": "b91c4ebf-ac53-4d4e-bda0-fd7eca1e574e",
   "metadata": {},
   "source": [
    "## replace\n",
    "\n",
    "replace changes one substring into antother.\n",
    "\n",
    "- takes two arguments\n",
    "  - the substring I want to replace\n",
    "  - what I want to replace it with\n",
    "\n",
    "Syntax:\n",
    "\n",
    "```\n",
    "S = \"This is a string\"\n",
    "Sreplace = S.replace(\"This\",\"That\")\n",
    "```\n",
    "\n",
    "Example how to get rid of all spaces, linebreaks and tabstops:\n",
    "\n",
    "```\n",
    "replacements = [\" \", \"\\n\",\"\\t\"]\n",
    "for repl in replacements:\n",
    "    S2 = S2.replace(repl,\"\")\n",
    "```\n",
    "\n",
    "\n"
   ]
  },
  {
   "cell_type": "code",
   "execution_count": 121,
   "id": "661388ce-420b-4445-9462-e025a5b81401",
   "metadata": {},
   "outputs": [
    {
     "name": "stdout",
     "output_type": "stream",
     "text": [
      "'This is a string'\n",
      "'That is a string'\n"
     ]
    }
   ],
   "source": [
    "S = \"This is a string\"\n",
    "Sreplace = S.replace(\"This\",\"That\")\n",
    "print(repr(S))\n",
    "print(repr(Sreplace))"
   ]
  },
  {
   "cell_type": "markdown",
   "id": "917fa576-659e-4d23-83d8-e49577ececb9",
   "metadata": {},
   "source": [
    "## Concatenating strings\n",
    "\n",
    "By using the `+` operator it is possible to simply combine two strings. They are simply added together with nothing in between\n",
    "\n",
    "```\n",
    "S1 = \"This is a string\"\n",
    "S2 = \"This is another string\"\n",
    "S3 = S1+S2\n",
    "\n",
    "S3 = \"This is a stringThis is another string\"\n",
    "```\n"
   ]
  },
  {
   "cell_type": "code",
   "execution_count": 123,
   "id": "6946638d-d1c3-4f14-814c-2bfbfb6c0051",
   "metadata": {},
   "outputs": [
    {
     "name": "stdout",
     "output_type": "stream",
     "text": [
      "This is a stringThis is another string\n",
      "This is a string This is another string!\n"
     ]
    }
   ],
   "source": [
    "S1 = \"This is a string\"\n",
    "S2 = \"This is another string\"\n",
    "S3 = S1+S2\n",
    "print(S3)\n",
    "S4 = S1 + \" \" + S2 + \"!\"\n",
    "print(S4)"
   ]
  },
  {
   "cell_type": "markdown",
   "id": "eff1c661-542e-4cfa-bead-957ad42df42d",
   "metadata": {},
   "source": [
    "# Working with files\n",
    "\n",
    "It is realatively simple to create files in Python. The first step is always opening a file\n",
    "\n",
    "## open\n",
    "\n",
    "- Takes two arguments\n",
    "  - the file name\n",
    "  - what we want to do with the file\n",
    "    - \"w\": writing, overwrites existing content\n",
    "    - \"a\": appending, adds to an existing file (also works on non-exisiting files)\n",
    "    - \"r\": reading, works only for existing files\n",
    "- we always need to assign the file to a variable!!\n",
    "\n",
    "```\n",
    "file = open(\"TestFile.txt\",\"w\")\n",
    "```\n",
    "\n",
    "## write\n",
    "\n",
    "to write into a file we use the built in method write\n",
    "\n",
    "- takes a single argument\n",
    "- has to be a string!\n",
    "- doesn't create linebreaks, if we want them we have to add them!!\n",
    "- to add several strings they may be added by + \n",
    "- f strings can be created as a variable and thus inserted into the file\n",
    "- several write statments underneath each other are alled added to the file one after the other\n",
    "  - this is the part where linebreaks are not added!! its like + with strings\n",
    "- the file doesn't need to exist for \"w\", it is created in the working directory when we close it\n",
    "\n",
    "```\n",
    "a = \"test\"\n",
    "b= 34\n",
    "file.write(\"string\")\n",
    "\n",
    "file.write(\"string1\" + a + str(234) + str(b) + \"\\n\")\n",
    "```\n",
    "\n",
    "## saving\n",
    "\n",
    "to save what was written into the file we close it\n",
    "\n",
    "```\n",
    "file.close()\n",
    "```\n",
    "\n",
    "alternatively we use the whole in a with statement. This is then saved automatically\n",
    "\n",
    "```\n",
    "with open(\"Filename.txt\", \"w\") as with_file:\n",
    "    with_file.write(string)\n",
    "```\n",
    "\n"
   ]
  },
  {
   "cell_type": "code",
   "execution_count": 150,
   "id": "2bf6d3f3-deab-4165-8680-f3e203c4d225",
   "metadata": {},
   "outputs": [],
   "source": [
    "file = open(\"Test.txt\",\"w\")\n",
    "file.write(\"Hello world!\\n\")\n",
    "# add a visual separator, 20 x #\n",
    "file.write(20*'#' + \"\\n\")\n",
    "file.write(\"My name is Lisa\")\n",
    "file.close()"
   ]
  },
  {
   "cell_type": "code",
   "execution_count": 149,
   "id": "da9d2075-1eda-46ed-a077-9c6cd48a4278",
   "metadata": {},
   "outputs": [],
   "source": [
    "with open(\"Test2.txt\", \"w\") as with_file:\n",
    "    with_file.write(\"hello garden\\n\")\n",
    "    with_file.write(50*'-' + \"\\n\")\n",
    "    with_file.write(\"My name is Lisa R\\n\")"
   ]
  },
  {
   "cell_type": "code",
   "execution_count": 151,
   "id": "1abcee03-95dc-43c2-8d8a-37e0155dbe53",
   "metadata": {},
   "outputs": [],
   "source": [
    "file = open(\"Test.txt\",\"a\")\n",
    "file.write(\"\\nSome more lines\\n\")\n",
    "file.close()"
   ]
  },
  {
   "cell_type": "markdown",
   "id": "a10bf5fd-488f-430b-94cd-5d7ff2715bd5",
   "metadata": {},
   "source": [
    "# Exercises"
   ]
  },
  {
   "cell_type": "markdown",
   "id": "c4584137-516e-4679-aeb2-f5c112e12c2e",
   "metadata": {},
   "source": [
    "## Exercise 1 - Simple Strings\n",
    "\n",
    "- Write a Python script that defines five string variables containing these Strings:\n",
    "  - “AAAAAAAAAAAAAAAAA”\n",
    "  - “ACTGACTGACTGACTGACTG”\n",
    "  - “HAIMGVVFTWIMALACAAPPLVGWSRY”\n",
    "  - “SSSIYNPVIYIMLNKQFRNCMLTTLCCGKNPLG”\n",
    "  - “PFSNVTGVVRSPFEQPQYYLAEPWQFSMLAAYMFLLIVLGFPINFLTLYVTVQH”\n",
    "- Print out the length of all five variables.\n",
    "- Print out the letters at the indices 0,5,10,15,20 and 25 of the five strings if possible\n",
    "- Create the substrings S-5-20, S-20-30, S-2-10 of all five strings if possible"
   ]
  },
  {
   "cell_type": "code",
   "execution_count": 23,
   "id": "583e9d02-60cc-4c2e-aca3-1a36d4196da4",
   "metadata": {},
   "outputs": [
    {
     "name": "stdout",
     "output_type": "stream",
     "text": [
      "String 1 has length 17\n",
      "String 2 has length 20\n",
      "String 3 has length 27\n",
      "String 4 has length 33\n",
      "String 5 has length 54\n"
     ]
    }
   ],
   "source": [
    "#create the strings\n",
    "S1 = \"AAAAAAAAAAAAAAAAA\"\n",
    "S2 = \"ACTGACTGACTGACTGACTG\"\n",
    "S3 = \"HAIMGVVFTWIMALACAAPPLVGWSRY\"\n",
    "S4 = \"SSSIYNPVIYIMLNKQFRNCMLTTLCCGKNPLG\"\n",
    "S5 = \"PFSNVTGVVRSPFEQPQYYLAEPWQFSMLAAYMFLLIVLGFPINFLTLYVTVQH\"\n",
    "\n",
    "#print the lengths\n",
    "print(f\"String 1 has length {len(S1)}\")\n",
    "print(f\"String 2 has length {len(S2)}\")\n",
    "print(f\"String 3 has length {len(S3)}\")\n",
    "print(f\"String 4 has length {len(S4)}\")\n",
    "print(f\"String 5 has length {len(S5)}\")"
   ]
  },
  {
   "cell_type": "code",
   "execution_count": 24,
   "id": "96a034b6-07e9-47ad-9595-187cfee218a2",
   "metadata": {},
   "outputs": [
    {
     "name": "stdout",
     "output_type": "stream",
     "text": [
      "A\n",
      "A\n",
      "A\n",
      "A\n",
      "\n",
      "A\n",
      "C\n",
      "T\n",
      "G\n",
      "\n",
      "H\n",
      "V\n",
      "I\n",
      "C\n",
      "L\n",
      "R\n",
      "\n",
      "S\n",
      "N\n",
      "I\n",
      "Q\n",
      "M\n",
      "C\n",
      "\n",
      "P\n",
      "T\n",
      "S\n",
      "P\n",
      "A\n",
      "F\n",
      "\n"
     ]
    }
   ],
   "source": [
    "# I make two lists of indices, since String 1 and 2 won't have indices 20 and 25\n",
    "idc1 = [0,5,10,15]\n",
    "idc2 = [0,5,10,15,20,25]\n",
    "\n",
    "#Loop over printing the indices using idc1 for S1 and S2 and idc2 for S3-5\n",
    "for idx in idc1:\n",
    "    print(S1[idx])\n",
    "print()\n",
    "\n",
    "for idx in idc1:\n",
    "    print(S2[idx])\n",
    "print()\n",
    "\n",
    "for idx in idc2:\n",
    "    print(S3[idx])\n",
    "print()\n",
    "\n",
    "for idx in idc2:\n",
    "    print(S4[idx])\n",
    "print()\n",
    "\n",
    "for idx in idc2:\n",
    "    print(S5[idx])\n",
    "print()"
   ]
  },
  {
   "cell_type": "code",
   "execution_count": 25,
   "id": "998c6eb7-0be9-4dfa-8964-a0242353cae5",
   "metadata": {},
   "outputs": [
    {
     "name": "stdout",
     "output_type": "stream",
     "text": [
      "AAAAAAAAAAAA\n",
      "AAAAAAAA\n",
      "\n",
      "CTGACTGACTGACTG\n",
      "TGACTGAC\n",
      "\n",
      "VVFTWIMALACAAPP\n",
      "LVGWSRY\n",
      "IMGVVFTW\n",
      "\n",
      "NPVIYIMLNKQFRNC\n",
      "MLTTLCCGKN\n",
      "SIYNPVIY\n",
      "\n",
      "TGVVRSPFEQPQYYL\n",
      "AEPWQFSMLA\n",
      "SNVTGVVR\n"
     ]
    }
   ],
   "source": [
    "#Create the substrings S-5-20, S-20-30, S-2-10 of all five strings if possible (20:30 is not possible for S1 and S2)\n",
    "\n",
    "S1sub5_20 = S1[5:20]\n",
    "S1sub2_10 = S1[2:10]\n",
    "\n",
    "S2sub5_20 = S2[5:20]\n",
    "S2sub2_10 = S2[2:10]\n",
    "\n",
    "S3sub5_20 = S3[5:20]\n",
    "S3sub20_30 = S3[20:30]\n",
    "S3sub2_10 = S3[2:10]\n",
    "\n",
    "S4sub5_20 = S4[5:20]\n",
    "S4sub20_30 = S4[20:30]\n",
    "S4sub2_10 = S4[2:10]\n",
    "\n",
    "S5sub5_20 = S5[5:20]\n",
    "S5sub20_30 = S5[20:30]\n",
    "S5sub2_10 = S5[2:10]\n",
    "\n",
    "#print\n",
    "\n",
    "print(S1sub5_20)\n",
    "print(S1sub2_10)\n",
    "print()\n",
    "print(S2sub5_20)\n",
    "print(S2sub2_10)\n",
    "print()\n",
    "print(S3sub5_20)\n",
    "print(S3sub20_30)\n",
    "print(S3sub2_10)\n",
    "print()\n",
    "print(S4sub5_20)\n",
    "print(S4sub20_30)\n",
    "print(S4sub2_10)\n",
    "print()\n",
    "print(S5sub5_20)\n",
    "print(S5sub20_30)\n",
    "print(S5sub2_10)"
   ]
  },
  {
   "cell_type": "markdown",
   "id": "c80d4bb4-288b-44f2-b96f-95b3963833e2",
   "metadata": {},
   "source": [
    "## Exercise 2 - String Methods\n",
    "\n",
    "Use the strings from Exercise 01 to fulfill the following tasks:\n",
    "\n",
    "- At which index are the first occurrences of the letters A, C, G, N, T and U\n",
    "- Split the strings at each appearance of the patterns “TG”, “TT” and “AA”\n",
    "- Use if statements to test whether the strings contain the patterns “FLL” and “MLT”"
   ]
  },
  {
   "cell_type": "code",
   "execution_count": null,
   "id": "1f2e3f26-6dd0-4b88-9d87-6ec5da45809e",
   "metadata": {},
   "outputs": [],
   "source": [
    "#create the strings\n",
    "S1 = \"AAAAAAAAAAAAAAAAA\"\n",
    "S2 = \"ACTGACTGACTGACTGACTG\"\n",
    "S3 = \"HAIMGVVFTWIMALACAAPPLVGWSRY\"\n",
    "S4 = \"SSSIYNPVIYIMLNKQFRNCMLTTLCCGKNPLG\"\n",
    "S5 = \"PFSNVTGVVRSPFEQPQYYLAEPWQFSMLAAYMFLLIVLGFPINFLTLYVTVQH\"\n",
    "\n",
    "# I put them in a dictionary to make looping over them easier:\n",
    "stringdict = {}\n",
    "stringdict[\"S1\"] = S1\n",
    "stringdict[\"S2\"] = S2\n",
    "stringdict[\"S3\"] = S3\n",
    "stringdict[\"S4\"] = S4\n",
    "stringdict[\"S5\"] = S5"
   ]
  },
  {
   "cell_type": "code",
   "execution_count": 44,
   "id": "c1379777-9ea2-42b3-ae60-79abba0033ba",
   "metadata": {},
   "outputs": [
    {
     "name": "stdout",
     "output_type": "stream",
     "text": [
      "First occurence of A in S1 is at index 0\n",
      "First occurence of A in S2 is at index 0\n",
      "First occurence of A in S3 is at index 1\n",
      "First occurence of A in S4 is at index -1\n",
      "First occurence of A in S5 is at index 20\n",
      "\n",
      "First occurence of C in S1 is at index -1\n",
      "First occurence of C in S2 is at index 1\n",
      "First occurence of C in S3 is at index 15\n",
      "First occurence of C in S4 is at index 19\n",
      "First occurence of C in S5 is at index -1\n",
      "\n",
      "First occurence of G in S1 is at index -1\n",
      "First occurence of G in S2 is at index 3\n",
      "First occurence of G in S3 is at index 4\n",
      "First occurence of G in S4 is at index 27\n",
      "First occurence of G in S5 is at index 6\n",
      "\n",
      "First occurence of N in S1 is at index -1\n",
      "First occurence of N in S2 is at index -1\n",
      "First occurence of N in S3 is at index -1\n",
      "First occurence of N in S4 is at index 5\n",
      "First occurence of N in S5 is at index 3\n",
      "\n",
      "First occurence of T in S1 is at index -1\n",
      "First occurence of T in S2 is at index 2\n",
      "First occurence of T in S3 is at index 8\n",
      "First occurence of T in S4 is at index 22\n",
      "First occurence of T in S5 is at index 5\n",
      "\n",
      "First occurence of U in S1 is at index -1\n",
      "First occurence of U in S2 is at index -1\n",
      "First occurence of U in S3 is at index -1\n",
      "First occurence of U in S4 is at index -1\n",
      "First occurence of U in S5 is at index -1\n",
      "\n"
     ]
    }
   ],
   "source": [
    "# Where do the letters of list1 first occur in the strings?\n",
    "# This is the \"long\" loop\n",
    "\n",
    "list1 = [\"A\",\"C\",\"G\",\"N\",\"T\",\"U\"]\n",
    "\n",
    "for elem in list1:\n",
    "    print(f\"First occurence of {elem} in S1 is at index {S1.find(elem)}\")\n",
    "    print(f\"First occurence of {elem} in S2 is at index {S2.find(elem)}\")\n",
    "    print(f\"First occurence of {elem} in S3 is at index {S3.find(elem)}\")\n",
    "    print(f\"First occurence of {elem} in S4 is at index {S4.find(elem)}\")\n",
    "    print(f\"First occurence of {elem} in S5 is at index {S5.find(elem)}\")\n",
    "    print()"
   ]
  },
  {
   "cell_type": "code",
   "execution_count": 45,
   "id": "a872b37d-34ed-43cb-b446-cbb58a6741bd",
   "metadata": {},
   "outputs": [
    {
     "name": "stdout",
     "output_type": "stream",
     "text": [
      "First occurence of A in S1 is at index 0\n",
      "First occurence of A in S2 is at index 0\n",
      "First occurence of A in S3 is at index 1\n",
      "First occurence of A in S4 is at index -1\n",
      "First occurence of A in S5 is at index 20\n",
      "\n",
      "First occurence of C in S1 is at index -1\n",
      "First occurence of C in S2 is at index 1\n",
      "First occurence of C in S3 is at index 15\n",
      "First occurence of C in S4 is at index 19\n",
      "First occurence of C in S5 is at index -1\n",
      "\n",
      "First occurence of G in S1 is at index -1\n",
      "First occurence of G in S2 is at index 3\n",
      "First occurence of G in S3 is at index 4\n",
      "First occurence of G in S4 is at index 27\n",
      "First occurence of G in S5 is at index 6\n",
      "\n",
      "First occurence of N in S1 is at index -1\n",
      "First occurence of N in S2 is at index -1\n",
      "First occurence of N in S3 is at index -1\n",
      "First occurence of N in S4 is at index 5\n",
      "First occurence of N in S5 is at index 3\n",
      "\n",
      "First occurence of T in S1 is at index -1\n",
      "First occurence of T in S2 is at index 2\n",
      "First occurence of T in S3 is at index 8\n",
      "First occurence of T in S4 is at index 22\n",
      "First occurence of T in S5 is at index 5\n",
      "\n",
      "First occurence of U in S1 is at index -1\n",
      "First occurence of U in S2 is at index -1\n",
      "First occurence of U in S3 is at index -1\n",
      "First occurence of U in S4 is at index -1\n",
      "First occurence of U in S5 is at index -1\n",
      "\n"
     ]
    }
   ],
   "source": [
    "# Where do the letters of list1 first occur in the strings?\n",
    "#This is the short dictionary loop\n",
    "\n",
    "list1 = [\"A\",\"C\",\"G\",\"N\",\"T\",\"U\"]\n",
    "\n",
    "for elem in list1:\n",
    "    for key, value in stringdict.items():\n",
    "        print(f\"First occurence of {elem} in {key} is at index {value.find(elem)}\")\n",
    "    print()"
   ]
  },
  {
   "cell_type": "code",
   "execution_count": 47,
   "id": "66e1a8b4-cbc0-4f4e-8b63-2a6c965a29ee",
   "metadata": {},
   "outputs": [
    {
     "name": "stdout",
     "output_type": "stream",
     "text": [
      "TG\n",
      "S1: ['AAAAAAAAAAAAAAAAA']\n",
      "S2: ['AC', 'AC', 'AC', 'AC', 'AC', '']\n",
      "S3: ['HAIMGVVFTWIMALACAAPPLVGWSRY']\n",
      "S4: ['SSSIYNPVIYIMLNKQFRNCMLTTLCCGKNPLG']\n",
      "S5: ['PFSNV', 'VVRSPFEQPQYYLAEPWQFSMLAAYMFLLIVLGFPINFLTLYVTVQH']\n",
      "\n",
      "TT\n",
      "S1: ['AAAAAAAAAAAAAAAAA']\n",
      "S2: ['ACTGACTGACTGACTGACTG']\n",
      "S3: ['HAIMGVVFTWIMALACAAPPLVGWSRY']\n",
      "S4: ['SSSIYNPVIYIMLNKQFRNCML', 'LCCGKNPLG']\n",
      "S5: ['PFSNVTGVVRSPFEQPQYYLAEPWQFSMLAAYMFLLIVLGFPINFLTLYVTVQH']\n",
      "\n",
      "AA\n",
      "S1: ['', '', '', '', '', '', '', '', 'A']\n",
      "S2: ['ACTGACTGACTGACTGACTG']\n",
      "S3: ['HAIMGVVFTWIMALAC', 'PPLVGWSRY']\n",
      "S4: ['SSSIYNPVIYIMLNKQFRNCMLTTLCCGKNPLG']\n",
      "S5: ['PFSNVTGVVRSPFEQPQYYLAEPWQFSML', 'YMFLLIVLGFPINFLTLYVTVQH']\n",
      "\n"
     ]
    }
   ],
   "source": [
    "#“TG”, “TT” and “AA”\n",
    "list2 = [\"TG\",\"TT\",\"AA\"]\n",
    "\n",
    "for elem in list2:\n",
    "    print(elem)\n",
    "    for key, value in stringdict.items():\n",
    "        print(f\"{key}: {value.split(elem)}\")\n",
    "    print()"
   ]
  },
  {
   "cell_type": "code",
   "execution_count": 49,
   "id": "74fd4fa3-7dfc-47e4-9c04-085f563ffd91",
   "metadata": {},
   "outputs": [
    {
     "name": "stdout",
     "output_type": "stream",
     "text": [
      "FLL is not present in S1\n",
      "MLT is not present in S1\n",
      "FLL is not present in S2\n",
      "MLT is not present in S2\n",
      "FLL is not present in S3\n",
      "MLT is not present in S3\n",
      "FLL is not present in S4\n",
      "MLT is present in S4\n",
      "FLL is present in S5\n",
      "MLT is not present in S5\n"
     ]
    }
   ],
   "source": [
    "#Use if statements to test whether the strings contain the patterns “FLL” and “MLT”\n",
    "for key, value in stringdict.items():\n",
    "    if \"FLL\" in value: print(f\"FLL is present in {key}\")\n",
    "    else:  print(f\"FLL is not present in {key}\")\n",
    "    if \"MLT\" in value:  print(f\"MLT is present in {key}\")\n",
    "    else: print(f\"MLT is not present in {key}\")"
   ]
  },
  {
   "cell_type": "markdown",
   "id": "bb8c65ec-dfc3-43eb-819b-8086a4ce5f0d",
   "metadata": {},
   "source": [
    "## Exercise 3 - Working with Strings\n",
    "\n",
    "- Take the “lorem ipsum” String from down below and use it as a variable in Python\n",
    "- Complete the following tasks:\n",
    "  - How long is this text?\n",
    "  - How many words are in this text? (split and len)\n",
    "  - How often does each letter of the alphabet occur in this text? (re, len and a loop)\n",
    "  - Are the words “minim”, “anim”, “caesar”, “brutus” and “duis” in the string?\n",
    "\n",
    "Lorem ipsum dolor sit amet, consectetur adipiscing elit, sed do eiusmod tempor incididunt ut labore et dolore magna aliqua. Ut enim ad minim veniam, quis nostrud exercitation ullamco laboris nisi ut aliquip ex ea commodo consequat. Duis aute irure dolor in reprehenderit in voluptate velit esse cillum dolore eu fugiat nulla pariatur. Excepteur int occaecat cupidatat non proident, sunt in culpa qui officia deserunt mollit anim id est laborum."
   ]
  },
  {
   "cell_type": "code",
   "execution_count": 93,
   "id": "415d7232-241c-4ee8-8ff0-c48cea585d59",
   "metadata": {},
   "outputs": [],
   "source": [
    "import re\n",
    "import string\n",
    "S = \"Lorem ipsum dolor sit amet, consectetur adipiscing elit, sed do eiusmod tempor incididunt ut labore et dolore magna aliqua. Ut enim ad minim veniam, quis nostrud exercitation ullamco laboris nisi ut aliquip ex ea commodo consequat. Duis aute irure dolor in reprehenderit in voluptate velit esse cillum dolore eu fugiat nulla pariatur. Excepteur sint occaecat cupidatat non proident, sunt in culpa qui officia deserunt mollit anim id est laborum.\""
   ]
  },
  {
   "cell_type": "code",
   "execution_count": 96,
   "id": "6806f1fa-2f7a-41dc-b77b-ca1fda7d8930",
   "metadata": {},
   "outputs": [
    {
     "name": "stdout",
     "output_type": "stream",
     "text": [
      "The text has 445 characters.\n",
      "The text has 69 words.\n"
     ]
    }
   ],
   "source": [
    "#Finding the characters and words\n",
    "print(f\"The text has {len(S)} characters.\")\n",
    "print(f\"The text has {len(S.split())} words.\")"
   ]
  },
  {
   "cell_type": "code",
   "execution_count": 117,
   "id": "325fa2d4-3f17-42c9-8926-42c6ccb961a0",
   "metadata": {},
   "outputs": [
    {
     "name": "stdout",
     "output_type": "stream",
     "text": [
      "['a', 'b', 'c', 'd', 'e', 'f', 'g', 'h', 'i', 'j', 'k', 'l', 'm', 'n', 'o', 'p', 'q', 'r', 's', 't', 'u', 'v', 'w', 'x', 'y', 'z', 'A', 'B', 'C', 'D', 'E', 'F', 'G', 'H', 'I', 'J', 'K', 'L', 'M', 'N', 'O', 'P', 'Q', 'R', 'S', 'T', 'U', 'V', 'W', 'X', 'Y', 'Z']\n",
      "a occurs 29 times.\n",
      "b occurs 3 times.\n",
      "c occurs 16 times.\n",
      "d occurs 18 times.\n",
      "e occurs 37 times.\n",
      "f occurs 3 times.\n",
      "g occurs 3 times.\n",
      "h occurs 1 times.\n",
      "i occurs 42 times.\n",
      "j occurs 0 times.\n",
      "k occurs 0 times.\n",
      "l occurs 21 times.\n",
      "m occurs 17 times.\n",
      "n occurs 24 times.\n",
      "o occurs 29 times.\n",
      "p occurs 11 times.\n",
      "q occurs 5 times.\n",
      "r occurs 22 times.\n",
      "s occurs 18 times.\n",
      "t occurs 32 times.\n",
      "u occurs 28 times.\n",
      "v occurs 3 times.\n",
      "w occurs 0 times.\n",
      "x occurs 3 times.\n",
      "y occurs 0 times.\n",
      "z occurs 0 times.\n",
      "A occurs 0 times.\n",
      "B occurs 0 times.\n",
      "C occurs 0 times.\n",
      "D occurs 1 times.\n",
      "E occurs 1 times.\n",
      "F occurs 0 times.\n",
      "G occurs 0 times.\n",
      "H occurs 0 times.\n",
      "I occurs 0 times.\n",
      "J occurs 0 times.\n",
      "K occurs 0 times.\n",
      "L occurs 1 times.\n",
      "M occurs 0 times.\n",
      "N occurs 0 times.\n",
      "O occurs 0 times.\n",
      "P occurs 0 times.\n",
      "Q occurs 0 times.\n",
      "R occurs 0 times.\n",
      "S occurs 0 times.\n",
      "T occurs 0 times.\n",
      "U occurs 1 times.\n",
      "V occurs 0 times.\n",
      "W occurs 0 times.\n",
      "X occurs 0 times.\n",
      "Y occurs 0 times.\n",
      "Z occurs 0 times.\n"
     ]
    }
   ],
   "source": [
    "#making a list of all letters of the alphabet\n",
    "all =  list(string.ascii_letters)\n",
    "print(all)\n",
    "\n",
    "#the long version\n",
    "for letr in all:\n",
    "    print(f\"{letr} occurs {len(re.findall(letr,S))} times.\")"
   ]
  },
  {
   "cell_type": "code",
   "execution_count": 116,
   "id": "2fef5089-4c15-418c-aeb9-5b1a9f111a65",
   "metadata": {},
   "outputs": [
    {
     "name": "stdout",
     "output_type": "stream",
     "text": [
      "A occurs 0 times and a occurs 29 times.\n",
      "A or a occur a total of 29 times.\n",
      "\n",
      "B occurs 0 times and b occurs 3 times.\n",
      "B or b occur a total of 3 times.\n",
      "\n",
      "C occurs 0 times and c occurs 16 times.\n",
      "C or c occur a total of 16 times.\n",
      "\n",
      "D occurs 1 times and d occurs 18 times.\n",
      "D or d occur a total of 19 times.\n",
      "\n",
      "E occurs 1 times and e occurs 37 times.\n",
      "E or e occur a total of 38 times.\n",
      "\n",
      "F occurs 0 times and f occurs 3 times.\n",
      "F or f occur a total of 3 times.\n",
      "\n",
      "G occurs 0 times and g occurs 3 times.\n",
      "G or g occur a total of 3 times.\n",
      "\n",
      "H occurs 0 times and h occurs 1 times.\n",
      "H or h occur a total of 1 times.\n",
      "\n",
      "I occurs 0 times and i occurs 42 times.\n",
      "I or i occur a total of 42 times.\n",
      "\n",
      "J occurs 0 times and j occurs 0 times.\n",
      "J or j occur a total of 0 times.\n",
      "\n",
      "K occurs 0 times and k occurs 0 times.\n",
      "K or k occur a total of 0 times.\n",
      "\n",
      "L occurs 1 times and l occurs 21 times.\n",
      "L or l occur a total of 22 times.\n",
      "\n",
      "M occurs 0 times and m occurs 17 times.\n",
      "M or m occur a total of 17 times.\n",
      "\n",
      "N occurs 0 times and n occurs 24 times.\n",
      "N or n occur a total of 24 times.\n",
      "\n",
      "O occurs 0 times and o occurs 29 times.\n",
      "O or o occur a total of 29 times.\n",
      "\n",
      "P occurs 0 times and p occurs 11 times.\n",
      "P or p occur a total of 11 times.\n",
      "\n",
      "Q occurs 0 times and q occurs 5 times.\n",
      "Q or q occur a total of 5 times.\n",
      "\n",
      "R occurs 0 times and r occurs 22 times.\n",
      "R or r occur a total of 22 times.\n",
      "\n",
      "S occurs 0 times and s occurs 18 times.\n",
      "S or s occur a total of 18 times.\n",
      "\n",
      "T occurs 0 times and t occurs 32 times.\n",
      "T or t occur a total of 32 times.\n",
      "\n",
      "U occurs 1 times and u occurs 28 times.\n",
      "U or u occur a total of 29 times.\n",
      "\n",
      "V occurs 0 times and v occurs 3 times.\n",
      "V or v occur a total of 3 times.\n",
      "\n",
      "W occurs 0 times and w occurs 0 times.\n",
      "W or w occur a total of 0 times.\n",
      "\n",
      "X occurs 0 times and x occurs 3 times.\n",
      "X or x occur a total of 3 times.\n",
      "\n",
      "Y occurs 0 times and y occurs 0 times.\n",
      "Y or y occur a total of 0 times.\n",
      "\n",
      "Z occurs 0 times and z occurs 0 times.\n",
      "Z or z occur a total of 0 times.\n",
      "\n"
     ]
    }
   ],
   "source": [
    "#making a list of all letters of the alphabet\n",
    "lower = list(string.ascii_lowercase)\n",
    "# print(lower)\n",
    "# Printing a list of uppercase alphabets.\n",
    "upper = list(string.ascii_uppercase)\n",
    "\n",
    "#the (slightly) more fancy version\n",
    "for LET,let in zip(upper,lower):\n",
    "    print(f\"{LET} occurs {len(re.findall(LET,S))} times and {let} occurs {len(re.findall(let,S))} times.\")\n",
    "    print(f\"{LET} or {let} occur a total of {len(re.findall(LET,S)) + len(re.findall(let,S))} times.\")\n",
    "    print()"
   ]
  },
  {
   "cell_type": "code",
   "execution_count": 109,
   "id": "3c2fdc69-e960-4b30-bc1b-fba0636adb84",
   "metadata": {},
   "outputs": [
    {
     "name": "stdout",
     "output_type": "stream",
     "text": [
      "minim is part of the string.\n",
      "anim is part of the string.\n",
      "caesar is not part of the string.\n",
      "brutus is not part of the string.\n",
      "duis is not part of the string.\n"
     ]
    }
   ],
   "source": [
    "# Are the words “minim”, “anim”, “caesar”, “brutus” and “duis” in the string?\n",
    "list_words = [\"minim\",\"anim\",\"caesar\", \"brutus\",\"duis\"]\n",
    "\n",
    "for word in list_words:\n",
    "    if word in S:\n",
    "        print(f\"{word} is part of the string.\")\n",
    "    else:\n",
    "        print(f\"{word} is not part of the string.\")"
   ]
  },
  {
   "cell_type": "markdown",
   "id": "3722e6ac-6e75-4103-a3bd-e8e3414020e9",
   "metadata": {},
   "source": [
    "## Exercise 4 - A bit more about Strings\n",
    "\n",
    "Take the “lorem ipsum” string from Exercise 03 and complete the following tasks:\n",
    "\n",
    "- Replace the strings et, in and eu with at, on and au\n",
    "- Create an all lower case and an all upper case variant of it\n",
    "- Split the text in it’s words and concatenate them together again (split and a loop)"
   ]
  },
  {
   "cell_type": "code",
   "execution_count": 124,
   "id": "75b466f5-3bc2-44e7-a5c9-f16f84ccbeee",
   "metadata": {},
   "outputs": [],
   "source": [
    "import re\n",
    "Lorem = \"Lorem ipsum dolor sit amet, consectetur adipiscing elit, sed do eiusmod tempor incididunt ut labore et dolore magna aliqua. Ut enim ad minim veniam, quis nostrud exercitation ullamco laboris nisi ut aliquip ex ea commodo consequat. Duis aute irure dolor in reprehenderit in voluptate velit esse cillum dolore eu fugiat nulla pariatur. Excepteur sint occaecat cupidatat non proident, sunt in culpa qui officia deserunt mollit anim id est laborum.\""
   ]
  },
  {
   "cell_type": "code",
   "execution_count": 126,
   "id": "3460e8b2-e81b-496a-b427-33e5a841acd9",
   "metadata": {},
   "outputs": [
    {
     "name": "stdout",
     "output_type": "stream",
     "text": [
      "Lorem ipsum dolor sit amat, consectatur adipiscong elit, sed do eiusmod tempor oncididunt ut labore at dolore magna aliqua. Ut enim ad monim veniam, quis nostrud exercitation ullamco laboris nisi ut aliquip ex ea commodo consequat. Duis aute irure dolor on reprehenderit on voluptate velit esse cillum dolore au fugiat nulla pariatur. Exceptaur sont occaecat cupidatat non proident, sunt on culpa qui officia deserunt mollit anim id est laborum.\n"
     ]
    }
   ],
   "source": [
    "#Replace syllables\n",
    "Lorem_repl = Lorem.replace(\"et\",\"at\")\n",
    "Lorem_repl = Lorem_repl.replace(\"in\",\"on\")\n",
    "Lorem_repl = Lorem_repl.replace(\"eu\",\"au\")\n",
    "\n",
    "print(Lorem_repl)"
   ]
  },
  {
   "cell_type": "code",
   "execution_count": 128,
   "id": "6a421b44-152b-4332-90ac-c4d45fb30f80",
   "metadata": {},
   "outputs": [
    {
     "name": "stdout",
     "output_type": "stream",
     "text": [
      "LOREM IPSUM DOLOR SIT AMET, CONSECTETUR ADIPISCING ELIT, SED DO EIUSMOD TEMPOR INCIDIDUNT UT LABORE ET DOLORE MAGNA ALIQUA. UT ENIM AD MINIM VENIAM, QUIS NOSTRUD EXERCITATION ULLAMCO LABORIS NISI UT ALIQUIP EX EA COMMODO CONSEQUAT. DUIS AUTE IRURE DOLOR IN REPREHENDERIT IN VOLUPTATE VELIT ESSE CILLUM DOLORE EU FUGIAT NULLA PARIATUR. EXCEPTEUR SINT OCCAECAT CUPIDATAT NON PROIDENT, SUNT IN CULPA QUI OFFICIA DESERUNT MOLLIT ANIM ID EST LABORUM.\n",
      "\n",
      "lorem ipsum dolor sit amet, consectetur adipiscing elit, sed do eiusmod tempor incididunt ut labore et dolore magna aliqua. ut enim ad minim veniam, quis nostrud exercitation ullamco laboris nisi ut aliquip ex ea commodo consequat. duis aute irure dolor in reprehenderit in voluptate velit esse cillum dolore eu fugiat nulla pariatur. excepteur sint occaecat cupidatat non proident, sunt in culpa qui officia deserunt mollit anim id est laborum.\n"
     ]
    }
   ],
   "source": [
    "#Write text in all upper and all lower case\n",
    "Lorem_upper = Lorem.upper()\n",
    "Lorem_lower = Lorem.lower()\n",
    "\n",
    "print(Lorem_upper)\n",
    "print()\n",
    "print(Lorem_lower)"
   ]
  },
  {
   "cell_type": "code",
   "execution_count": 141,
   "id": "b75b6526-3da2-4449-a23f-59efe61a5fc4",
   "metadata": {},
   "outputs": [
    {
     "name": "stdout",
     "output_type": "stream",
     "text": [
      "['Lorem', 'ipsum', 'dolor', 'sit', 'amet', 'consectetur', 'adipiscing', 'elit', 'sed', 'do', 'eiusmod', 'tempor', 'incididunt', 'ut', 'labore', 'et', 'dolore', 'magna', 'aliqua', 'Ut', 'enim', 'ad', 'minim', 'veniam', 'quis', 'nostrud', 'exercitation', 'ullamco', 'laboris', 'nisi', 'ut', 'aliquip', 'ex', 'ea', 'commodo', 'consequat', 'Duis', 'aute', 'irure', 'dolor', 'in', 'reprehenderit', 'in', 'voluptate', 'velit', 'esse', 'cillum', 'dolore', 'eu', 'fugiat', 'nulla', 'pariatur', 'Excepteur', 'sint', 'occaecat', 'cupidatat', 'non', 'proident', 'sunt', 'in', 'culpa', 'qui', 'officia', 'deserunt', 'mollit', 'anim', 'id', 'est', 'laborum']\n",
      "\n",
      "LoremipsumdolorsitametconsecteturadipiscingelitseddoeiusmodtemporincididuntutlaboreetdoloremagnaaliquaUtenimadminimveniamquisnostrudexercitationullamcolaborisnisiutaliquipexeacommodoconsequatDuisauteiruredolorinreprehenderitinvoluptatevelitessecillumdoloreeufugiatnullapariaturExcepteursintoccaecatcupidatatnonproidentsuntinculpaquiofficiadeseruntmollitanimidestlaborum\n"
     ]
    }
   ],
   "source": [
    "# split the words\n",
    "Lorem_split = [elem for elem in re.split(\" |,|\\\\.\", Lorem) if len(elem)>0]\n",
    "print(Lorem_split)\n",
    "print()\n",
    "\n",
    "#concatenate the words\n",
    "Lorem_conc = \"\"\n",
    "for elem in Lorem_split: \n",
    "    Lorem_conc+=elem\n",
    "\n",
    "print(Lorem_conc)"
   ]
  },
  {
   "cell_type": "markdown",
   "id": "ff29a90c-f5b3-424e-b333-fe1fce050ad7",
   "metadata": {},
   "source": [
    "## Exercise 5 - Writing Files\n",
    "\n",
    "Write a program that creates two different files.\n",
    "\n",
    "- The first file should be opened normally and two lines should be written in it.\n",
    "- Afterwards close the file, open it again and add another three lines of text to the file (use the operator „a“ for append)\n",
    "- The second file should be generated by using„with“ and a loop to write a countdown from 10 to 0\n",
    "- Each number should be in a separate line"
   ]
  },
  {
   "cell_type": "markdown",
   "id": "986bc760-113d-4b1c-8fc7-5343f184a34a",
   "metadata": {},
   "source": [
    "# Extras"
   ]
  },
  {
   "cell_type": "markdown",
   "id": "671662e8-a9c4-46c1-b641-adf7b2cdbd0c",
   "metadata": {},
   "source": [
    "## Accessing the letters of the alphabet"
   ]
  },
  {
   "cell_type": "code",
   "execution_count": 118,
   "id": "eae273ee-3ec4-45f4-b160-dd54e69f8ccc",
   "metadata": {},
   "outputs": [
    {
     "name": "stdout",
     "output_type": "stream",
     "text": [
      "['a', 'b', 'c', 'd', 'e', 'f', 'g', 'h', 'i', 'j', 'k', 'l', 'm', 'n', 'o', 'p', 'q', 'r', 's', 't', 'u', 'v', 'w', 'x', 'y', 'z']\n",
      "['A', 'B', 'C', 'D', 'E', 'F', 'G', 'H', 'I', 'J', 'K', 'L', 'M', 'N', 'O', 'P', 'Q', 'R', 'S', 'T', 'U', 'V', 'W', 'X', 'Y', 'Z']\n",
      "['a', 'b', 'c', 'd', 'e', 'f', 'g', 'h', 'i', 'j', 'k', 'l', 'm', 'n', 'o', 'p', 'q', 'r', 's', 't', 'u', 'v', 'w', 'x', 'y', 'z', 'A', 'B', 'C', 'D', 'E', 'F', 'G', 'H', 'I', 'J', 'K', 'L', 'M', 'N', 'O', 'P', 'Q', 'R', 'S', 'T', 'U', 'V', 'W', 'X', 'Y', 'Z']\n"
     ]
    }
   ],
   "source": [
    "# Python program to print a list of alphabets.\n",
    "# Importing the string module.\n",
    "import string\n",
    "# Printing a list of lowercase alphabets.\n",
    "lower = list(string.ascii_lowercase)\n",
    "print(lower)\n",
    "# Printing a list of uppercase alphabets.\n",
    "upper = list(string.ascii_uppercase)\n",
    "print(upper)\n",
    "# Printing a list of lower and uppercase alphabet\n",
    "all = list(string.ascii_letters)\n",
    "print(all)"
   ]
  },
  {
   "cell_type": "code",
   "execution_count": null,
   "id": "a7773ac3-1917-41d0-8d55-7fe3381b68fa",
   "metadata": {},
   "outputs": [],
   "source": []
  }
 ],
 "metadata": {
  "kernelspec": {
   "display_name": "Python 3 (ipykernel)",
   "language": "python",
   "name": "python3"
  },
  "language_info": {
   "codemirror_mode": {
    "name": "ipython",
    "version": 3
   },
   "file_extension": ".py",
   "mimetype": "text/x-python",
   "name": "python",
   "nbconvert_exporter": "python",
   "pygments_lexer": "ipython3",
   "version": "3.12.2"
  }
 },
 "nbformat": 4,
 "nbformat_minor": 5
}
